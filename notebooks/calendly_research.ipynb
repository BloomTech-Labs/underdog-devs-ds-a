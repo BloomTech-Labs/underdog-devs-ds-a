{
 "cells": [
  {
   "cell_type": "code",
   "execution_count": 1,
   "metadata": {},
   "outputs": [],
   "source": [
    "import requests\n",
    "import pandas as pd\n",
    "from dotenv import load_dotenv\n",
    "from os import getenv"
   ]
  },
  {
   "cell_type": "markdown",
   "metadata": {},
   "source": [
    "- personal token can be obtained at  \n",
    "https://calendly.com/integrations/api_webhooks\n",
    "- \"organization\" is he link you can find when you run \"get_user\" "
   ]
  },
  {
   "cell_type": "code",
   "execution_count": 2,
   "metadata": {},
   "outputs": [],
   "source": [
    "class Calendly:\n",
    "    load_dotenv()\n",
    "    URL='https://api.calendly.com'\n",
    "    TOKEN=getenv(\"TOKEN\")\n",
    "    headers = {\"Authorization\": f\"Bearer {TOKEN}\"}\n",
    "    def __init__(self):\n",
    "        self.organization = self.get_current_user()['resource']['current_organization']\n",
    "\n",
    "    def get_user(self,uuid):\n",
    "        response = requests.get(url=f'{self.URL}/users/{uuid}',\n",
    "                                headers=self.headers,)\n",
    "        return response.json()\n",
    "    \n",
    "    def get_current_user(self):\n",
    "        response = requests.get(url=f'{self.URL}/users/me',\n",
    "                                headers=self.headers)\n",
    "        return response.json()\n",
    "    \n",
    "    def get_event_types(self):\n",
    "        response = requests.get(url=f'{self.URL}/event_types',\n",
    "                                headers=self.headers,\n",
    "                                json={'organization':self.organization})\n",
    "        return response.json()\n",
    "    \n",
    "    def get_event(self):\n",
    "        response = requests.get(url=f'{self.URL}/scheduled_events',\n",
    "                                headers=self.headers,\n",
    "                                json={'organization':self.organization})\n",
    "  \n",
    "        return response.json()\n",
    "    \n",
    "    def get_event_invitee(self,uuid):\n",
    "        response = requests.get(url=f'{self.URL}/scheduled_events/',\n",
    "                                headers=self.headers,\n",
    "                                json={'organization':self.organization,\n",
    "                                      'uuid':uuid})\n",
    "        return response.json()\n",
    "    \n",
    "    def get_count_events(self):\n",
    "        response = requests.get(url=f'{self.URL}/event_types',\n",
    "                                headers=self.headers,\n",
    "                                json={'organization':self.organization})\n",
    "        return f\"You have {len(response.json()['collection'])} events today\"\n",
    "    \n",
    "    def __call__(self):\n",
    "        return f'You have {self.get_count_events()} events today'"
   ]
  },
  {
   "cell_type": "code",
   "execution_count": 3,
   "metadata": {},
   "outputs": [
    {
     "data": {
      "text/plain": [
       "'You have You have 5 events today events today'"
      ]
     },
     "execution_count": 3,
     "metadata": {},
     "output_type": "execute_result"
    }
   ],
   "source": [
    "calendly=Calendly()\n",
    "calendly()"
   ]
  },
  {
   "cell_type": "code",
   "execution_count": 5,
   "metadata": {},
   "outputs": [
    {
     "data": {
      "text/plain": [
       "{'resource': {'avatar_url': None,\n",
       "  'created_at': '2022-02-22T00:26:11.755258Z',\n",
       "  'current_organization': 'https://api.calendly.com/organizations/937deef0-a6e2-4822-af83-e997b35dd64d',\n",
       "  'email': 'horoshuhin@gmail.com',\n",
       "  'name': 'Evgeny Khoroshukhin',\n",
       "  'scheduling_url': 'https://calendly.com/horoshuhin',\n",
       "  'slug': 'horoshuhin',\n",
       "  'timezone': 'America/New_York',\n",
       "  'updated_at': '2022-02-25T00:09:28.134574Z',\n",
       "  'uri': 'https://api.calendly.com/users/be76cff5-4d88-4b2d-9245-0c34500be073'}}"
      ]
     },
     "execution_count": 5,
     "metadata": {},
     "output_type": "execute_result"
    }
   ],
   "source": [
    "calendly.get_current_user()"
   ]
  },
  {
   "cell_type": "code",
   "execution_count": null,
   "metadata": {},
   "outputs": [],
   "source": [
    "pd.DataFrame([i for i in calendly.get_event_types()['collection']],\n",
    "             columns=['active', 'created_at','description_plain', \n",
    "                    'duration', 'internal_note', 'kind', 'name',\n",
    "                    'profile', 'scheduling_url', 'slug', 'type', 'uri'] )"
   ]
  }
 ],
 "metadata": {
  "interpreter": {
   "hash": "0bd7b8b4db00334527d921b2cd90764f38b3fd61e7ac246db7e1a662f31c52ef"
  },
  "kernelspec": {
   "display_name": "Python 3.9.5 ('gpu_test-Xfg6MU-e')",
   "language": "python",
   "name": "python3"
  },
  "language_info": {
   "codemirror_mode": {
    "name": "ipython",
    "version": 3
   },
   "file_extension": ".py",
   "mimetype": "text/x-python",
   "name": "python",
   "nbconvert_exporter": "python",
   "pygments_lexer": "ipython3",
   "version": "3.9.5"
  },
  "orig_nbformat": 4
 },
 "nbformat": 4,
 "nbformat_minor": 2
}
