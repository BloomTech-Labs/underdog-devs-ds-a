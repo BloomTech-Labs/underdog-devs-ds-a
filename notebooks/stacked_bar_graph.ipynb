{
 "cells": [
  {
   "cell_type": "markdown",
   "source": [
    "# Stacked Bar Graph\n",
    "## Tech Stack Count by Role"
   ],
   "metadata": {
    "collapsed": false,
    "pycharm": {
     "name": "#%% md\n"
    }
   }
  },
  {
   "cell_type": "code",
   "execution_count": 16,
   "outputs": [],
   "source": [
    "import pandas\n",
    "from altair import Chart, Tooltip, Color, X, Y\n",
    "from pandas import DataFrame\n",
    "\n",
    "from app.data import MongoDB"
   ],
   "metadata": {
    "collapsed": false,
    "pycharm": {
     "name": "#%%\n"
    }
   }
  },
  {
   "cell_type": "markdown",
   "source": [
    "### Data Source"
   ],
   "metadata": {
    "collapsed": false,
    "pycharm": {
     "name": "#%% md\n"
    }
   }
  },
  {
   "cell_type": "code",
   "execution_count": 17,
   "outputs": [],
   "source": [
    "db = MongoDB()"
   ],
   "metadata": {
    "collapsed": false,
    "pycharm": {
     "name": "#%%\n"
    }
   }
  },
  {
   "cell_type": "markdown",
   "source": [
    "### Data Engineering"
   ],
   "metadata": {
    "collapsed": false,
    "pycharm": {
     "name": "#%% md\n"
    }
   }
  },
  {
   "cell_type": "code",
   "execution_count": 18,
   "outputs": [
    {
     "data": {
      "text/plain": "             tech_stack\n0          Data Science\n1    Career Development\n2              Frontend\n3          Data Science\n4                   iOS\n..                  ...\n97               string\n98               string\n99               string\n100              string\n101              string\n\n[102 rows x 1 columns]",
      "text/html": "<div>\n<style scoped>\n    .dataframe tbody tr th:only-of-type {\n        vertical-align: middle;\n    }\n\n    .dataframe tbody tr th {\n        vertical-align: top;\n    }\n\n    .dataframe thead th {\n        text-align: right;\n    }\n</style>\n<table border=\"1\" class=\"dataframe\">\n  <thead>\n    <tr style=\"text-align: right;\">\n      <th></th>\n      <th>tech_stack</th>\n    </tr>\n  </thead>\n  <tbody>\n    <tr>\n      <th>0</th>\n      <td>Data Science</td>\n    </tr>\n    <tr>\n      <th>1</th>\n      <td>Career Development</td>\n    </tr>\n    <tr>\n      <th>2</th>\n      <td>Frontend</td>\n    </tr>\n    <tr>\n      <th>3</th>\n      <td>Data Science</td>\n    </tr>\n    <tr>\n      <th>4</th>\n      <td>iOS</td>\n    </tr>\n    <tr>\n      <th>...</th>\n      <td>...</td>\n    </tr>\n    <tr>\n      <th>97</th>\n      <td>string</td>\n    </tr>\n    <tr>\n      <th>98</th>\n      <td>string</td>\n    </tr>\n    <tr>\n      <th>99</th>\n      <td>string</td>\n    </tr>\n    <tr>\n      <th>100</th>\n      <td>string</td>\n    </tr>\n    <tr>\n      <th>101</th>\n      <td>string</td>\n    </tr>\n  </tbody>\n</table>\n<p>102 rows × 1 columns</p>\n</div>"
     },
     "execution_count": 18,
     "metadata": {},
     "output_type": "execute_result"
    }
   ],
   "source": [
    "mentees = DataFrame(\n",
    "    db.projection(\"Mentees\", {\"is_active\": True, \"validate_status\": \"approved\"},\n",
    "                  {\"tech_stack\": True}))\n",
    "mentees"
   ],
   "metadata": {
    "collapsed": false,
    "pycharm": {
     "name": "#%%\n"
    }
   }
  },
  {
   "cell_type": "code",
   "execution_count": 19,
   "outputs": [
    {
     "data": {
      "text/plain": "             tech_stack    role\n0          Data Science  Mentee\n1    Career Development  Mentee\n2              Frontend  Mentee\n3          Data Science  Mentee\n4                   iOS  Mentee\n..                  ...     ...\n97               string  Mentee\n98               string  Mentee\n99               string  Mentee\n100              string  Mentee\n101              string  Mentee\n\n[102 rows x 2 columns]",
      "text/html": "<div>\n<style scoped>\n    .dataframe tbody tr th:only-of-type {\n        vertical-align: middle;\n    }\n\n    .dataframe tbody tr th {\n        vertical-align: top;\n    }\n\n    .dataframe thead th {\n        text-align: right;\n    }\n</style>\n<table border=\"1\" class=\"dataframe\">\n  <thead>\n    <tr style=\"text-align: right;\">\n      <th></th>\n      <th>tech_stack</th>\n      <th>role</th>\n    </tr>\n  </thead>\n  <tbody>\n    <tr>\n      <th>0</th>\n      <td>Data Science</td>\n      <td>Mentee</td>\n    </tr>\n    <tr>\n      <th>1</th>\n      <td>Career Development</td>\n      <td>Mentee</td>\n    </tr>\n    <tr>\n      <th>2</th>\n      <td>Frontend</td>\n      <td>Mentee</td>\n    </tr>\n    <tr>\n      <th>3</th>\n      <td>Data Science</td>\n      <td>Mentee</td>\n    </tr>\n    <tr>\n      <th>4</th>\n      <td>iOS</td>\n      <td>Mentee</td>\n    </tr>\n    <tr>\n      <th>...</th>\n      <td>...</td>\n      <td>...</td>\n    </tr>\n    <tr>\n      <th>97</th>\n      <td>string</td>\n      <td>Mentee</td>\n    </tr>\n    <tr>\n      <th>98</th>\n      <td>string</td>\n      <td>Mentee</td>\n    </tr>\n    <tr>\n      <th>99</th>\n      <td>string</td>\n      <td>Mentee</td>\n    </tr>\n    <tr>\n      <th>100</th>\n      <td>string</td>\n      <td>Mentee</td>\n    </tr>\n    <tr>\n      <th>101</th>\n      <td>string</td>\n      <td>Mentee</td>\n    </tr>\n  </tbody>\n</table>\n<p>102 rows × 2 columns</p>\n</div>"
     },
     "execution_count": 19,
     "metadata": {},
     "output_type": "execute_result"
    }
   ],
   "source": [
    "mentees[\"role\"] = \"Mentee\"\n",
    "mentees"
   ],
   "metadata": {
    "collapsed": false,
    "pycharm": {
     "name": "#%%\n"
    }
   }
  },
  {
   "cell_type": "code",
   "execution_count": 20,
   "outputs": [
    {
     "data": {
      "text/plain": "            tech_stack    role\n0              Backend  Mentor\n0              Android  Mentor\n1                  iOS  Mentor\n2              Backend  Mentor\n2                  iOS  Mentor\n3             Frontend  Mentor\n3                  iOS  Mentor\n3              Backend  Mentor\n4              Backend  Mentor\n4                  iOS  Mentor\n5         Design UI/UX  Mentor\n6              Backend  Mentor\n7             Frontend  Mentor\n7              Backend  Mentor\n8                  iOS  Mentor\n8         Design UI/UX  Mentor\n9             Frontend  Mentor\n9                  iOS  Mentor\n10  Career Development  Mentor\n10             Android  Mentor\n10        Design UI/UX  Mentor\n11        Data Science  Mentor\n12            Frontend  Mentor\n12        Design UI/UX  Mentor\n13            Frontend  Mentor\n14             Backend  Mentor\n14        Design UI/UX  Mentor\n15            Frontend  Mentor\n15        Design UI/UX  Mentor\n16             Android  Mentor\n16        Design UI/UX  Mentor\n17             Backend  Mentor\n17        Design UI/UX  Mentor\n18             Backend  Mentor\n18                 iOS  Mentor\n19             Backend  Mentor\n19                 iOS  Mentor",
      "text/html": "<div>\n<style scoped>\n    .dataframe tbody tr th:only-of-type {\n        vertical-align: middle;\n    }\n\n    .dataframe tbody tr th {\n        vertical-align: top;\n    }\n\n    .dataframe thead th {\n        text-align: right;\n    }\n</style>\n<table border=\"1\" class=\"dataframe\">\n  <thead>\n    <tr style=\"text-align: right;\">\n      <th></th>\n      <th>tech_stack</th>\n      <th>role</th>\n    </tr>\n  </thead>\n  <tbody>\n    <tr>\n      <th>0</th>\n      <td>Backend</td>\n      <td>Mentor</td>\n    </tr>\n    <tr>\n      <th>0</th>\n      <td>Android</td>\n      <td>Mentor</td>\n    </tr>\n    <tr>\n      <th>1</th>\n      <td>iOS</td>\n      <td>Mentor</td>\n    </tr>\n    <tr>\n      <th>2</th>\n      <td>Backend</td>\n      <td>Mentor</td>\n    </tr>\n    <tr>\n      <th>2</th>\n      <td>iOS</td>\n      <td>Mentor</td>\n    </tr>\n    <tr>\n      <th>3</th>\n      <td>Frontend</td>\n      <td>Mentor</td>\n    </tr>\n    <tr>\n      <th>3</th>\n      <td>iOS</td>\n      <td>Mentor</td>\n    </tr>\n    <tr>\n      <th>3</th>\n      <td>Backend</td>\n      <td>Mentor</td>\n    </tr>\n    <tr>\n      <th>4</th>\n      <td>Backend</td>\n      <td>Mentor</td>\n    </tr>\n    <tr>\n      <th>4</th>\n      <td>iOS</td>\n      <td>Mentor</td>\n    </tr>\n    <tr>\n      <th>5</th>\n      <td>Design UI/UX</td>\n      <td>Mentor</td>\n    </tr>\n    <tr>\n      <th>6</th>\n      <td>Backend</td>\n      <td>Mentor</td>\n    </tr>\n    <tr>\n      <th>7</th>\n      <td>Frontend</td>\n      <td>Mentor</td>\n    </tr>\n    <tr>\n      <th>7</th>\n      <td>Backend</td>\n      <td>Mentor</td>\n    </tr>\n    <tr>\n      <th>8</th>\n      <td>iOS</td>\n      <td>Mentor</td>\n    </tr>\n    <tr>\n      <th>8</th>\n      <td>Design UI/UX</td>\n      <td>Mentor</td>\n    </tr>\n    <tr>\n      <th>9</th>\n      <td>Frontend</td>\n      <td>Mentor</td>\n    </tr>\n    <tr>\n      <th>9</th>\n      <td>iOS</td>\n      <td>Mentor</td>\n    </tr>\n    <tr>\n      <th>10</th>\n      <td>Career Development</td>\n      <td>Mentor</td>\n    </tr>\n    <tr>\n      <th>10</th>\n      <td>Android</td>\n      <td>Mentor</td>\n    </tr>\n    <tr>\n      <th>10</th>\n      <td>Design UI/UX</td>\n      <td>Mentor</td>\n    </tr>\n    <tr>\n      <th>11</th>\n      <td>Data Science</td>\n      <td>Mentor</td>\n    </tr>\n    <tr>\n      <th>12</th>\n      <td>Frontend</td>\n      <td>Mentor</td>\n    </tr>\n    <tr>\n      <th>12</th>\n      <td>Design UI/UX</td>\n      <td>Mentor</td>\n    </tr>\n    <tr>\n      <th>13</th>\n      <td>Frontend</td>\n      <td>Mentor</td>\n    </tr>\n    <tr>\n      <th>14</th>\n      <td>Backend</td>\n      <td>Mentor</td>\n    </tr>\n    <tr>\n      <th>14</th>\n      <td>Design UI/UX</td>\n      <td>Mentor</td>\n    </tr>\n    <tr>\n      <th>15</th>\n      <td>Frontend</td>\n      <td>Mentor</td>\n    </tr>\n    <tr>\n      <th>15</th>\n      <td>Design UI/UX</td>\n      <td>Mentor</td>\n    </tr>\n    <tr>\n      <th>16</th>\n      <td>Android</td>\n      <td>Mentor</td>\n    </tr>\n    <tr>\n      <th>16</th>\n      <td>Design UI/UX</td>\n      <td>Mentor</td>\n    </tr>\n    <tr>\n      <th>17</th>\n      <td>Backend</td>\n      <td>Mentor</td>\n    </tr>\n    <tr>\n      <th>17</th>\n      <td>Design UI/UX</td>\n      <td>Mentor</td>\n    </tr>\n    <tr>\n      <th>18</th>\n      <td>Backend</td>\n      <td>Mentor</td>\n    </tr>\n    <tr>\n      <th>18</th>\n      <td>iOS</td>\n      <td>Mentor</td>\n    </tr>\n    <tr>\n      <th>19</th>\n      <td>Backend</td>\n      <td>Mentor</td>\n    </tr>\n    <tr>\n      <th>19</th>\n      <td>iOS</td>\n      <td>Mentor</td>\n    </tr>\n  </tbody>\n</table>\n</div>"
     },
     "execution_count": 20,
     "metadata": {},
     "output_type": "execute_result"
    }
   ],
   "source": [
    "mentors = DataFrame(db.projection(\"Mentors\", {\n",
    "    \"accepting_new_mentees\": True,\n",
    "    \"is_active\": True,\n",
    "    \"validate_status\": \"approved\",\n",
    "}, {\"tech_stack\": True}))\n",
    "mentors = mentors.explode(column=\"tech_stack\")\n",
    "mentors[\"role\"] = \"Mentor\"\n",
    "mentors\n"
   ],
   "metadata": {
    "collapsed": false,
    "pycharm": {
     "name": "#%%\n"
    }
   }
  },
  {
   "cell_type": "code",
   "execution_count": 21,
   "outputs": [
    {
     "data": {
      "text/plain": "             tech_stack    role\n95               string  Mentee\n46                  iOS  Mentee\n9    Career Development  Mentee\n3               Backend  Mentor\n52              Android  Mentee\n100              string  Mentee\n84   Career Development  Mentee\n23   Career Development  Mentee\n18              Backend  Mentor\n38              Android  Mentee",
      "text/html": "<div>\n<style scoped>\n    .dataframe tbody tr th:only-of-type {\n        vertical-align: middle;\n    }\n\n    .dataframe tbody tr th {\n        vertical-align: top;\n    }\n\n    .dataframe thead th {\n        text-align: right;\n    }\n</style>\n<table border=\"1\" class=\"dataframe\">\n  <thead>\n    <tr style=\"text-align: right;\">\n      <th></th>\n      <th>tech_stack</th>\n      <th>role</th>\n    </tr>\n  </thead>\n  <tbody>\n    <tr>\n      <th>95</th>\n      <td>string</td>\n      <td>Mentee</td>\n    </tr>\n    <tr>\n      <th>46</th>\n      <td>iOS</td>\n      <td>Mentee</td>\n    </tr>\n    <tr>\n      <th>9</th>\n      <td>Career Development</td>\n      <td>Mentee</td>\n    </tr>\n    <tr>\n      <th>3</th>\n      <td>Backend</td>\n      <td>Mentor</td>\n    </tr>\n    <tr>\n      <th>52</th>\n      <td>Android</td>\n      <td>Mentee</td>\n    </tr>\n    <tr>\n      <th>100</th>\n      <td>string</td>\n      <td>Mentee</td>\n    </tr>\n    <tr>\n      <th>84</th>\n      <td>Career Development</td>\n      <td>Mentee</td>\n    </tr>\n    <tr>\n      <th>23</th>\n      <td>Career Development</td>\n      <td>Mentee</td>\n    </tr>\n    <tr>\n      <th>18</th>\n      <td>Backend</td>\n      <td>Mentor</td>\n    </tr>\n    <tr>\n      <th>38</th>\n      <td>Android</td>\n      <td>Mentee</td>\n    </tr>\n  </tbody>\n</table>\n</div>"
     },
     "execution_count": 21,
     "metadata": {},
     "output_type": "execute_result"
    }
   ],
   "source": [
    "df = pandas.concat([mentees, mentors])\n",
    "df.sample(10)"
   ],
   "metadata": {
    "collapsed": false,
    "pycharm": {
     "name": "#%%\n"
    }
   }
  },
  {
   "cell_type": "markdown",
   "source": [
    "### Data Visualization\n"
   ],
   "metadata": {
    "collapsed": false,
    "pycharm": {
     "name": "#%% md\n"
    }
   }
  },
  {
   "cell_type": "code",
   "execution_count": 22,
   "outputs": [],
   "source": [
    "def title_fix(string: str) -> str:\n",
    "    return string.title().replace(\"_\", \" \")"
   ],
   "metadata": {
    "collapsed": false,
    "pycharm": {
     "name": "#%%\n"
    }
   }
  },
  {
   "cell_type": "code",
   "execution_count": 23,
   "outputs": [],
   "source": [
    "def stacked_bar_chart(df, x, z, count_x):\n",
    "    return Chart(\n",
    "        df,\n",
    "        title=f\"{title_fix(x)} Count by {title_fix(z)}\",\n",
    "    ).mark_bar().encode(\n",
    "        x=X(x, title=title_fix(x), sort=\"-y\"),\n",
    "        y=Y(count_x),\n",
    "        color=Color(z, title=title_fix(z)),\n",
    "        tooltip=Tooltip([z, x, count_x])\n",
    "    ).properties(\n",
    "        width=480,\n",
    "        height=400,\n",
    "        padding=24,\n",
    "    ).configure(\n",
    "        legend={\"padding\": 24},\n",
    "        title={\"fontSize\": 20, \"offset\": 24},\n",
    "        view={\"stroke\": \"#FFF\"},\n",
    "    )\n"
   ],
   "metadata": {
    "collapsed": false,
    "pycharm": {
     "name": "#%%\n"
    }
   }
  },
  {
   "cell_type": "code",
   "execution_count": 24,
   "outputs": [
    {
     "data": {
      "text/html": "\n<div id=\"altair-viz-d5c3ab7230f04c60b70a49546692f22f\"></div>\n<script type=\"text/javascript\">\n  var VEGA_DEBUG = (typeof VEGA_DEBUG == \"undefined\") ? {} : VEGA_DEBUG;\n  (function(spec, embedOpt){\n    let outputDiv = document.currentScript.previousElementSibling;\n    if (outputDiv.id !== \"altair-viz-d5c3ab7230f04c60b70a49546692f22f\") {\n      outputDiv = document.getElementById(\"altair-viz-d5c3ab7230f04c60b70a49546692f22f\");\n    }\n    const paths = {\n      \"vega\": \"https://cdn.jsdelivr.net/npm//vega@5?noext\",\n      \"vega-lib\": \"https://cdn.jsdelivr.net/npm//vega-lib?noext\",\n      \"vega-lite\": \"https://cdn.jsdelivr.net/npm//vega-lite@4.17.0?noext\",\n      \"vega-embed\": \"https://cdn.jsdelivr.net/npm//vega-embed@6?noext\",\n    };\n\n    function maybeLoadScript(lib, version) {\n      var key = `${lib.replace(\"-\", \"\")}_version`;\n      return (VEGA_DEBUG[key] == version) ?\n        Promise.resolve(paths[lib]) :\n        new Promise(function(resolve, reject) {\n          var s = document.createElement('script');\n          document.getElementsByTagName(\"head\")[0].appendChild(s);\n          s.async = true;\n          s.onload = () => {\n            VEGA_DEBUG[key] = version;\n            return resolve(paths[lib]);\n          };\n          s.onerror = () => reject(`Error loading script: ${paths[lib]}`);\n          s.src = paths[lib];\n        });\n    }\n\n    function showError(err) {\n      outputDiv.innerHTML = `<div class=\"error\" style=\"color:red;\">${err}</div>`;\n      throw err;\n    }\n\n    function displayChart(vegaEmbed) {\n      vegaEmbed(outputDiv, spec, embedOpt)\n        .catch(err => showError(`Javascript Error: ${err.message}<br>This usually means there's a typo in your chart specification. See the javascript console for the full traceback.`));\n    }\n\n    if(typeof define === \"function\" && define.amd) {\n      requirejs.config({paths});\n      require([\"vega-embed\"], displayChart, err => showError(`Error loading script: ${err.message}`));\n    } else {\n      maybeLoadScript(\"vega\", \"5\")\n        .then(() => maybeLoadScript(\"vega-lite\", \"4.17.0\"))\n        .then(() => maybeLoadScript(\"vega-embed\", \"6\"))\n        .catch(showError)\n        .then(() => displayChart(vegaEmbed));\n    }\n  })({\"config\": {\"view\": {\"continuousWidth\": 400, \"continuousHeight\": 300, \"stroke\": \"#FFF\"}, \"legend\": {\"padding\": 24}, \"title\": {\"fontSize\": 20, \"offset\": 24}}, \"data\": {\"name\": \"data-03e8585892bca5750eca5bd9db7bc7b8\"}, \"mark\": \"bar\", \"encoding\": {\"color\": {\"field\": \"role\", \"title\": \"Role\", \"type\": \"nominal\"}, \"tooltip\": [{\"field\": \"role\", \"type\": \"nominal\"}, {\"field\": \"tech_stack\", \"type\": \"nominal\"}, {\"aggregate\": \"count\", \"field\": \"tech_stack\", \"type\": \"nominal\"}], \"x\": {\"field\": \"tech_stack\", \"sort\": \"-y\", \"title\": \"Tech Stack\", \"type\": \"nominal\"}, \"y\": {\"aggregate\": \"count\", \"field\": \"tech_stack\", \"type\": \"nominal\"}}, \"height\": 400, \"padding\": 24, \"title\": \"Tech Stack Count by Role\", \"width\": 480, \"$schema\": \"https://vega.github.io/schema/vega-lite/v4.17.0.json\", \"datasets\": {\"data-03e8585892bca5750eca5bd9db7bc7b8\": [{\"tech_stack\": \"Data Science\", \"role\": \"Mentee\"}, {\"tech_stack\": \"Career Development\", \"role\": \"Mentee\"}, {\"tech_stack\": \"Frontend\", \"role\": \"Mentee\"}, {\"tech_stack\": \"Data Science\", \"role\": \"Mentee\"}, {\"tech_stack\": \"iOS\", \"role\": \"Mentee\"}, {\"tech_stack\": \"Career Development\", \"role\": \"Mentee\"}, {\"tech_stack\": \"Data Science\", \"role\": \"Mentee\"}, {\"tech_stack\": \"Android\", \"role\": \"Mentee\"}, {\"tech_stack\": \"iOS\", \"role\": \"Mentee\"}, {\"tech_stack\": \"Career Development\", \"role\": \"Mentee\"}, {\"tech_stack\": \"Android\", \"role\": \"Mentee\"}, {\"tech_stack\": \"Android\", \"role\": \"Mentee\"}, {\"tech_stack\": \"Career Development\", \"role\": \"Mentee\"}, {\"tech_stack\": \"Career Development\", \"role\": \"Mentee\"}, {\"tech_stack\": \"Career Development\", \"role\": \"Mentee\"}, {\"tech_stack\": \"iOS\", \"role\": \"Mentee\"}, {\"tech_stack\": \"Data Science\", \"role\": \"Mentee\"}, {\"tech_stack\": \"Android\", \"role\": \"Mentee\"}, {\"tech_stack\": \"Career Development\", \"role\": \"Mentee\"}, {\"tech_stack\": \"Data Science\", \"role\": \"Mentee\"}, {\"tech_stack\": \"Android\", \"role\": \"Mentee\"}, {\"tech_stack\": \"Data Science\", \"role\": \"Mentee\"}, {\"tech_stack\": \"iOS\", \"role\": \"Mentee\"}, {\"tech_stack\": \"Career Development\", \"role\": \"Mentee\"}, {\"tech_stack\": \"Data Science\", \"role\": \"Mentee\"}, {\"tech_stack\": \"Android\", \"role\": \"Mentee\"}, {\"tech_stack\": \"Design UI/UX\", \"role\": \"Mentee\"}, {\"tech_stack\": \"Android\", \"role\": \"Mentee\"}, {\"tech_stack\": \"iOS\", \"role\": \"Mentee\"}, {\"tech_stack\": \"Android\", \"role\": \"Mentee\"}, {\"tech_stack\": \"Backend\", \"role\": \"Mentee\"}, {\"tech_stack\": \"Android\", \"role\": \"Mentee\"}, {\"tech_stack\": \"Career Development\", \"role\": \"Mentee\"}, {\"tech_stack\": \"Career Development\", \"role\": \"Mentee\"}, {\"tech_stack\": \"Career Development\", \"role\": \"Mentee\"}, {\"tech_stack\": \"Android\", \"role\": \"Mentee\"}, {\"tech_stack\": \"Career Development\", \"role\": \"Mentee\"}, {\"tech_stack\": \"Data Science\", \"role\": \"Mentee\"}, {\"tech_stack\": \"Android\", \"role\": \"Mentee\"}, {\"tech_stack\": \"Android\", \"role\": \"Mentee\"}, {\"tech_stack\": \"Career Development\", \"role\": \"Mentee\"}, {\"tech_stack\": \"Design UI/UX\", \"role\": \"Mentee\"}, {\"tech_stack\": \"Design UI/UX\", \"role\": \"Mentee\"}, {\"tech_stack\": \"Backend\", \"role\": \"Mentee\"}, {\"tech_stack\": \"iOS\", \"role\": \"Mentee\"}, {\"tech_stack\": \"Data Science\", \"role\": \"Mentee\"}, {\"tech_stack\": \"iOS\", \"role\": \"Mentee\"}, {\"tech_stack\": \"Design UI/UX\", \"role\": \"Mentee\"}, {\"tech_stack\": \"Career Development\", \"role\": \"Mentee\"}, {\"tech_stack\": \"iOS\", \"role\": \"Mentee\"}, {\"tech_stack\": \"Android\", \"role\": \"Mentee\"}, {\"tech_stack\": \"Career Development\", \"role\": \"Mentee\"}, {\"tech_stack\": \"Android\", \"role\": \"Mentee\"}, {\"tech_stack\": \"Android\", \"role\": \"Mentee\"}, {\"tech_stack\": \"Data Science\", \"role\": \"Mentee\"}, {\"tech_stack\": \"Android\", \"role\": \"Mentee\"}, {\"tech_stack\": \"Backend\", \"role\": \"Mentee\"}, {\"tech_stack\": \"Android\", \"role\": \"Mentee\"}, {\"tech_stack\": \"Design UI/UX\", \"role\": \"Mentee\"}, {\"tech_stack\": \"iOS\", \"role\": \"Mentee\"}, {\"tech_stack\": \"Android\", \"role\": \"Mentee\"}, {\"tech_stack\": \"iOS\", \"role\": \"Mentee\"}, {\"tech_stack\": \"Career Development\", \"role\": \"Mentee\"}, {\"tech_stack\": \"Career Development\", \"role\": \"Mentee\"}, {\"tech_stack\": \"Career Development\", \"role\": \"Mentee\"}, {\"tech_stack\": \"Backend\", \"role\": \"Mentee\"}, {\"tech_stack\": \"Data Science\", \"role\": \"Mentee\"}, {\"tech_stack\": \"Career Development\", \"role\": \"Mentee\"}, {\"tech_stack\": \"iOS\", \"role\": \"Mentee\"}, {\"tech_stack\": \"Career Development\", \"role\": \"Mentee\"}, {\"tech_stack\": \"iOS\", \"role\": \"Mentee\"}, {\"tech_stack\": \"Android\", \"role\": \"Mentee\"}, {\"tech_stack\": \"Career Development\", \"role\": \"Mentee\"}, {\"tech_stack\": \"Data Science\", \"role\": \"Mentee\"}, {\"tech_stack\": \"Data Science\", \"role\": \"Mentee\"}, {\"tech_stack\": \"Design UI/UX\", \"role\": \"Mentee\"}, {\"tech_stack\": \"Data Science\", \"role\": \"Mentee\"}, {\"tech_stack\": \"Data Science\", \"role\": \"Mentee\"}, {\"tech_stack\": \"iOS\", \"role\": \"Mentee\"}, {\"tech_stack\": \"iOS\", \"role\": \"Mentee\"}, {\"tech_stack\": \"Design UI/UX\", \"role\": \"Mentee\"}, {\"tech_stack\": \"Career Development\", \"role\": \"Mentee\"}, {\"tech_stack\": \"Data Science\", \"role\": \"Mentee\"}, {\"tech_stack\": \"Data Science\", \"role\": \"Mentee\"}, {\"tech_stack\": \"Career Development\", \"role\": \"Mentee\"}, {\"tech_stack\": \"Data Science\", \"role\": \"Mentee\"}, {\"tech_stack\": \"Android\", \"role\": \"Mentee\"}, {\"tech_stack\": \"Data Science\", \"role\": \"Mentee\"}, {\"tech_stack\": \"Data Science\", \"role\": \"Mentee\"}, {\"tech_stack\": \"Backend\", \"role\": \"Mentor\"}, {\"tech_stack\": \"Android\", \"role\": \"Mentor\"}, {\"tech_stack\": \"iOS\", \"role\": \"Mentor\"}, {\"tech_stack\": \"Backend\", \"role\": \"Mentor\"}, {\"tech_stack\": \"iOS\", \"role\": \"Mentor\"}, {\"tech_stack\": \"Frontend\", \"role\": \"Mentor\"}, {\"tech_stack\": \"iOS\", \"role\": \"Mentor\"}, {\"tech_stack\": \"Backend\", \"role\": \"Mentor\"}, {\"tech_stack\": \"Backend\", \"role\": \"Mentor\"}, {\"tech_stack\": \"iOS\", \"role\": \"Mentor\"}, {\"tech_stack\": \"Design UI/UX\", \"role\": \"Mentor\"}, {\"tech_stack\": \"Backend\", \"role\": \"Mentor\"}, {\"tech_stack\": \"Frontend\", \"role\": \"Mentor\"}, {\"tech_stack\": \"Backend\", \"role\": \"Mentor\"}, {\"tech_stack\": \"iOS\", \"role\": \"Mentor\"}, {\"tech_stack\": \"Design UI/UX\", \"role\": \"Mentor\"}, {\"tech_stack\": \"Frontend\", \"role\": \"Mentor\"}, {\"tech_stack\": \"iOS\", \"role\": \"Mentor\"}, {\"tech_stack\": \"Career Development\", \"role\": \"Mentor\"}, {\"tech_stack\": \"Android\", \"role\": \"Mentor\"}, {\"tech_stack\": \"Design UI/UX\", \"role\": \"Mentor\"}, {\"tech_stack\": \"Data Science\", \"role\": \"Mentor\"}, {\"tech_stack\": \"Frontend\", \"role\": \"Mentor\"}, {\"tech_stack\": \"Design UI/UX\", \"role\": \"Mentor\"}, {\"tech_stack\": \"Frontend\", \"role\": \"Mentor\"}, {\"tech_stack\": \"Backend\", \"role\": \"Mentor\"}, {\"tech_stack\": \"Design UI/UX\", \"role\": \"Mentor\"}, {\"tech_stack\": \"Frontend\", \"role\": \"Mentor\"}, {\"tech_stack\": \"Design UI/UX\", \"role\": \"Mentor\"}, {\"tech_stack\": \"Android\", \"role\": \"Mentor\"}, {\"tech_stack\": \"Design UI/UX\", \"role\": \"Mentor\"}, {\"tech_stack\": \"Backend\", \"role\": \"Mentor\"}, {\"tech_stack\": \"Design UI/UX\", \"role\": \"Mentor\"}, {\"tech_stack\": \"Backend\", \"role\": \"Mentor\"}, {\"tech_stack\": \"iOS\", \"role\": \"Mentor\"}, {\"tech_stack\": \"Backend\", \"role\": \"Mentor\"}, {\"tech_stack\": \"iOS\", \"role\": \"Mentor\"}]}}, {\"mode\": \"vega-lite\"});\n</script>",
      "text/plain": "alt.Chart(...)"
     },
     "execution_count": 24,
     "metadata": {},
     "output_type": "execute_result"
    }
   ],
   "source": [
    "x = \"tech_stack\"\n",
    "z = \"role\"\n",
    "count_x = f\"count({x})\"\n",
    "chart = stacked_bar_chart(df[df[\"tech_stack\"] != \"string\"], x, z, count_x)\n",
    "chart"
   ],
   "metadata": {
    "collapsed": false,
    "pycharm": {
     "name": "#%%\n"
    }
   }
  },
  {
   "cell_type": "code",
   "execution_count": 25,
   "outputs": [
    {
     "data": {
      "text/plain": "{'config': {'view': {'continuousWidth': 400,\n   'continuousHeight': 300,\n   'stroke': '#FFF'},\n  'legend': {'padding': 24},\n  'title': {'fontSize': 20, 'offset': 24}},\n 'data': {'name': 'data-03e8585892bca5750eca5bd9db7bc7b8'},\n 'mark': 'bar',\n 'encoding': {'color': {'field': 'role', 'title': 'Role', 'type': 'nominal'},\n  'tooltip': [{'field': 'role', 'type': 'nominal'},\n   {'field': 'tech_stack', 'type': 'nominal'},\n   {'aggregate': 'count', 'field': 'tech_stack', 'type': 'nominal'}],\n  'x': {'field': 'tech_stack',\n   'sort': '-y',\n   'title': 'Tech Stack',\n   'type': 'nominal'},\n  'y': {'aggregate': 'count', 'field': 'tech_stack', 'type': 'nominal'}},\n 'height': 400,\n 'padding': 24,\n 'title': 'Tech Stack Count by Role',\n 'width': 480,\n '$schema': 'https://vega.github.io/schema/vega-lite/v4.17.0.json',\n 'datasets': {'data-03e8585892bca5750eca5bd9db7bc7b8': [{'tech_stack': 'Data Science',\n    'role': 'Mentee'},\n   {'tech_stack': 'Career Development', 'role': 'Mentee'},\n   {'tech_stack': 'Frontend', 'role': 'Mentee'},\n   {'tech_stack': 'Data Science', 'role': 'Mentee'},\n   {'tech_stack': 'iOS', 'role': 'Mentee'},\n   {'tech_stack': 'Career Development', 'role': 'Mentee'},\n   {'tech_stack': 'Data Science', 'role': 'Mentee'},\n   {'tech_stack': 'Android', 'role': 'Mentee'},\n   {'tech_stack': 'iOS', 'role': 'Mentee'},\n   {'tech_stack': 'Career Development', 'role': 'Mentee'},\n   {'tech_stack': 'Android', 'role': 'Mentee'},\n   {'tech_stack': 'Android', 'role': 'Mentee'},\n   {'tech_stack': 'Career Development', 'role': 'Mentee'},\n   {'tech_stack': 'Career Development', 'role': 'Mentee'},\n   {'tech_stack': 'Career Development', 'role': 'Mentee'},\n   {'tech_stack': 'iOS', 'role': 'Mentee'},\n   {'tech_stack': 'Data Science', 'role': 'Mentee'},\n   {'tech_stack': 'Android', 'role': 'Mentee'},\n   {'tech_stack': 'Career Development', 'role': 'Mentee'},\n   {'tech_stack': 'Data Science', 'role': 'Mentee'},\n   {'tech_stack': 'Android', 'role': 'Mentee'},\n   {'tech_stack': 'Data Science', 'role': 'Mentee'},\n   {'tech_stack': 'iOS', 'role': 'Mentee'},\n   {'tech_stack': 'Career Development', 'role': 'Mentee'},\n   {'tech_stack': 'Data Science', 'role': 'Mentee'},\n   {'tech_stack': 'Android', 'role': 'Mentee'},\n   {'tech_stack': 'Design UI/UX', 'role': 'Mentee'},\n   {'tech_stack': 'Android', 'role': 'Mentee'},\n   {'tech_stack': 'iOS', 'role': 'Mentee'},\n   {'tech_stack': 'Android', 'role': 'Mentee'},\n   {'tech_stack': 'Backend', 'role': 'Mentee'},\n   {'tech_stack': 'Android', 'role': 'Mentee'},\n   {'tech_stack': 'Career Development', 'role': 'Mentee'},\n   {'tech_stack': 'Career Development', 'role': 'Mentee'},\n   {'tech_stack': 'Career Development', 'role': 'Mentee'},\n   {'tech_stack': 'Android', 'role': 'Mentee'},\n   {'tech_stack': 'Career Development', 'role': 'Mentee'},\n   {'tech_stack': 'Data Science', 'role': 'Mentee'},\n   {'tech_stack': 'Android', 'role': 'Mentee'},\n   {'tech_stack': 'Android', 'role': 'Mentee'},\n   {'tech_stack': 'Career Development', 'role': 'Mentee'},\n   {'tech_stack': 'Design UI/UX', 'role': 'Mentee'},\n   {'tech_stack': 'Design UI/UX', 'role': 'Mentee'},\n   {'tech_stack': 'Backend', 'role': 'Mentee'},\n   {'tech_stack': 'iOS', 'role': 'Mentee'},\n   {'tech_stack': 'Data Science', 'role': 'Mentee'},\n   {'tech_stack': 'iOS', 'role': 'Mentee'},\n   {'tech_stack': 'Design UI/UX', 'role': 'Mentee'},\n   {'tech_stack': 'Career Development', 'role': 'Mentee'},\n   {'tech_stack': 'iOS', 'role': 'Mentee'},\n   {'tech_stack': 'Android', 'role': 'Mentee'},\n   {'tech_stack': 'Career Development', 'role': 'Mentee'},\n   {'tech_stack': 'Android', 'role': 'Mentee'},\n   {'tech_stack': 'Android', 'role': 'Mentee'},\n   {'tech_stack': 'Data Science', 'role': 'Mentee'},\n   {'tech_stack': 'Android', 'role': 'Mentee'},\n   {'tech_stack': 'Backend', 'role': 'Mentee'},\n   {'tech_stack': 'Android', 'role': 'Mentee'},\n   {'tech_stack': 'Design UI/UX', 'role': 'Mentee'},\n   {'tech_stack': 'iOS', 'role': 'Mentee'},\n   {'tech_stack': 'Android', 'role': 'Mentee'},\n   {'tech_stack': 'iOS', 'role': 'Mentee'},\n   {'tech_stack': 'Career Development', 'role': 'Mentee'},\n   {'tech_stack': 'Career Development', 'role': 'Mentee'},\n   {'tech_stack': 'Career Development', 'role': 'Mentee'},\n   {'tech_stack': 'Backend', 'role': 'Mentee'},\n   {'tech_stack': 'Data Science', 'role': 'Mentee'},\n   {'tech_stack': 'Career Development', 'role': 'Mentee'},\n   {'tech_stack': 'iOS', 'role': 'Mentee'},\n   {'tech_stack': 'Career Development', 'role': 'Mentee'},\n   {'tech_stack': 'iOS', 'role': 'Mentee'},\n   {'tech_stack': 'Android', 'role': 'Mentee'},\n   {'tech_stack': 'Career Development', 'role': 'Mentee'},\n   {'tech_stack': 'Data Science', 'role': 'Mentee'},\n   {'tech_stack': 'Data Science', 'role': 'Mentee'},\n   {'tech_stack': 'Design UI/UX', 'role': 'Mentee'},\n   {'tech_stack': 'Data Science', 'role': 'Mentee'},\n   {'tech_stack': 'Data Science', 'role': 'Mentee'},\n   {'tech_stack': 'iOS', 'role': 'Mentee'},\n   {'tech_stack': 'iOS', 'role': 'Mentee'},\n   {'tech_stack': 'Design UI/UX', 'role': 'Mentee'},\n   {'tech_stack': 'Career Development', 'role': 'Mentee'},\n   {'tech_stack': 'Data Science', 'role': 'Mentee'},\n   {'tech_stack': 'Data Science', 'role': 'Mentee'},\n   {'tech_stack': 'Career Development', 'role': 'Mentee'},\n   {'tech_stack': 'Data Science', 'role': 'Mentee'},\n   {'tech_stack': 'Android', 'role': 'Mentee'},\n   {'tech_stack': 'Data Science', 'role': 'Mentee'},\n   {'tech_stack': 'Data Science', 'role': 'Mentee'},\n   {'tech_stack': 'Backend', 'role': 'Mentor'},\n   {'tech_stack': 'Android', 'role': 'Mentor'},\n   {'tech_stack': 'iOS', 'role': 'Mentor'},\n   {'tech_stack': 'Backend', 'role': 'Mentor'},\n   {'tech_stack': 'iOS', 'role': 'Mentor'},\n   {'tech_stack': 'Frontend', 'role': 'Mentor'},\n   {'tech_stack': 'iOS', 'role': 'Mentor'},\n   {'tech_stack': 'Backend', 'role': 'Mentor'},\n   {'tech_stack': 'Backend', 'role': 'Mentor'},\n   {'tech_stack': 'iOS', 'role': 'Mentor'},\n   {'tech_stack': 'Design UI/UX', 'role': 'Mentor'},\n   {'tech_stack': 'Backend', 'role': 'Mentor'},\n   {'tech_stack': 'Frontend', 'role': 'Mentor'},\n   {'tech_stack': 'Backend', 'role': 'Mentor'},\n   {'tech_stack': 'iOS', 'role': 'Mentor'},\n   {'tech_stack': 'Design UI/UX', 'role': 'Mentor'},\n   {'tech_stack': 'Frontend', 'role': 'Mentor'},\n   {'tech_stack': 'iOS', 'role': 'Mentor'},\n   {'tech_stack': 'Career Development', 'role': 'Mentor'},\n   {'tech_stack': 'Android', 'role': 'Mentor'},\n   {'tech_stack': 'Design UI/UX', 'role': 'Mentor'},\n   {'tech_stack': 'Data Science', 'role': 'Mentor'},\n   {'tech_stack': 'Frontend', 'role': 'Mentor'},\n   {'tech_stack': 'Design UI/UX', 'role': 'Mentor'},\n   {'tech_stack': 'Frontend', 'role': 'Mentor'},\n   {'tech_stack': 'Backend', 'role': 'Mentor'},\n   {'tech_stack': 'Design UI/UX', 'role': 'Mentor'},\n   {'tech_stack': 'Frontend', 'role': 'Mentor'},\n   {'tech_stack': 'Design UI/UX', 'role': 'Mentor'},\n   {'tech_stack': 'Android', 'role': 'Mentor'},\n   {'tech_stack': 'Design UI/UX', 'role': 'Mentor'},\n   {'tech_stack': 'Backend', 'role': 'Mentor'},\n   {'tech_stack': 'Design UI/UX', 'role': 'Mentor'},\n   {'tech_stack': 'Backend', 'role': 'Mentor'},\n   {'tech_stack': 'iOS', 'role': 'Mentor'},\n   {'tech_stack': 'Backend', 'role': 'Mentor'},\n   {'tech_stack': 'iOS', 'role': 'Mentor'}]}}"
     },
     "execution_count": 25,
     "metadata": {},
     "output_type": "execute_result"
    }
   ],
   "source": [
    "chart.to_dict()\n"
   ],
   "metadata": {
    "collapsed": false,
    "pycharm": {
     "name": "#%%\n"
    }
   }
  },
  {
   "cell_type": "code",
   "execution_count": 25,
   "outputs": [],
   "source": [],
   "metadata": {
    "collapsed": false,
    "pycharm": {
     "name": "#%%\n"
    }
   }
  }
 ],
 "metadata": {
  "kernelspec": {
   "display_name": "Python 3",
   "language": "python",
   "name": "python3"
  },
  "language_info": {
   "codemirror_mode": {
    "name": "ipython",
    "version": 2
   },
   "file_extension": ".py",
   "mimetype": "text/x-python",
   "name": "python",
   "nbconvert_exporter": "python",
   "pygments_lexer": "ipython2",
   "version": "2.7.6"
  }
 },
 "nbformat": 4,
 "nbformat_minor": 0
}