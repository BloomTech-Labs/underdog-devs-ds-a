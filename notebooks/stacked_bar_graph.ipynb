{
 "cells": [
  {
   "cell_type": "markdown",
   "source": [
    "# Stacked Bar Graph\n",
    "## Tech Stack Count by Role"
   ],
   "metadata": {
    "collapsed": false,
    "pycharm": {
     "name": "#%% md\n"
    }
   }
  },
  {
   "cell_type": "code",
   "execution_count": 1,
   "outputs": [],
   "source": [
    "import pandas\n",
    "from altair import Chart, Tooltip, Color, X, Y\n",
    "from pandas import DataFrame\n",
    "\n",
    "from app.data import MongoDB"
   ],
   "metadata": {
    "collapsed": false,
    "pycharm": {
     "name": "#%%\n"
    }
   }
  },
  {
   "cell_type": "markdown",
   "source": [
    "### Data Source"
   ],
   "metadata": {
    "collapsed": false,
    "pycharm": {
     "name": "#%% md\n"
    }
   }
  },
  {
   "cell_type": "code",
   "execution_count": 2,
   "outputs": [],
   "source": [
    "db = MongoDB()"
   ],
   "metadata": {
    "collapsed": false,
    "pycharm": {
     "name": "#%%\n"
    }
   }
  },
  {
   "cell_type": "markdown",
   "source": [
    "### Data Engineering"
   ],
   "metadata": {
    "collapsed": false,
    "pycharm": {
     "name": "#%% md\n"
    }
   }
  },
  {
   "cell_type": "code",
   "execution_count": 3,
   "outputs": [
    {
     "data": {
      "text/plain": "            tech_stack\n0             Frontend\n1                  iOS\n2             Frontend\n3                  iOS\n4             Frontend\n5             Frontend\n6                  iOS\n7   Career Development\n8              Backend\n9         Design UI/UX\n10        Design UI/UX\n11            Frontend\n12                 iOS\n13            Frontend\n14            Frontend\n15                 iOS\n16             Backend\n17        Design UI/UX\n18             Backend\n19                 iOS\n20             Backend\n21                 iOS\n22             Backend\n23             Backend\n24             Backend\n25        Design UI/UX\n26             Android\n27        Design UI/UX\n28  Career Development\n29                 iOS\n30            Frontend\n31             Backend\n32             Backend\n33            Frontend\n34                 iOS\n35            Frontend\n36            Frontend\n37                 iOS\n38        Data Science\n39             Backend\n40        Design UI/UX",
      "text/html": "<div>\n<style scoped>\n    .dataframe tbody tr th:only-of-type {\n        vertical-align: middle;\n    }\n\n    .dataframe tbody tr th {\n        vertical-align: top;\n    }\n\n    .dataframe thead th {\n        text-align: right;\n    }\n</style>\n<table border=\"1\" class=\"dataframe\">\n  <thead>\n    <tr style=\"text-align: right;\">\n      <th></th>\n      <th>tech_stack</th>\n    </tr>\n  </thead>\n  <tbody>\n    <tr>\n      <th>0</th>\n      <td>Frontend</td>\n    </tr>\n    <tr>\n      <th>1</th>\n      <td>iOS</td>\n    </tr>\n    <tr>\n      <th>2</th>\n      <td>Frontend</td>\n    </tr>\n    <tr>\n      <th>3</th>\n      <td>iOS</td>\n    </tr>\n    <tr>\n      <th>4</th>\n      <td>Frontend</td>\n    </tr>\n    <tr>\n      <th>5</th>\n      <td>Frontend</td>\n    </tr>\n    <tr>\n      <th>6</th>\n      <td>iOS</td>\n    </tr>\n    <tr>\n      <th>7</th>\n      <td>Career Development</td>\n    </tr>\n    <tr>\n      <th>8</th>\n      <td>Backend</td>\n    </tr>\n    <tr>\n      <th>9</th>\n      <td>Design UI/UX</td>\n    </tr>\n    <tr>\n      <th>10</th>\n      <td>Design UI/UX</td>\n    </tr>\n    <tr>\n      <th>11</th>\n      <td>Frontend</td>\n    </tr>\n    <tr>\n      <th>12</th>\n      <td>iOS</td>\n    </tr>\n    <tr>\n      <th>13</th>\n      <td>Frontend</td>\n    </tr>\n    <tr>\n      <th>14</th>\n      <td>Frontend</td>\n    </tr>\n    <tr>\n      <th>15</th>\n      <td>iOS</td>\n    </tr>\n    <tr>\n      <th>16</th>\n      <td>Backend</td>\n    </tr>\n    <tr>\n      <th>17</th>\n      <td>Design UI/UX</td>\n    </tr>\n    <tr>\n      <th>18</th>\n      <td>Backend</td>\n    </tr>\n    <tr>\n      <th>19</th>\n      <td>iOS</td>\n    </tr>\n    <tr>\n      <th>20</th>\n      <td>Backend</td>\n    </tr>\n    <tr>\n      <th>21</th>\n      <td>iOS</td>\n    </tr>\n    <tr>\n      <th>22</th>\n      <td>Backend</td>\n    </tr>\n    <tr>\n      <th>23</th>\n      <td>Backend</td>\n    </tr>\n    <tr>\n      <th>24</th>\n      <td>Backend</td>\n    </tr>\n    <tr>\n      <th>25</th>\n      <td>Design UI/UX</td>\n    </tr>\n    <tr>\n      <th>26</th>\n      <td>Android</td>\n    </tr>\n    <tr>\n      <th>27</th>\n      <td>Design UI/UX</td>\n    </tr>\n    <tr>\n      <th>28</th>\n      <td>Career Development</td>\n    </tr>\n    <tr>\n      <th>29</th>\n      <td>iOS</td>\n    </tr>\n    <tr>\n      <th>30</th>\n      <td>Frontend</td>\n    </tr>\n    <tr>\n      <th>31</th>\n      <td>Backend</td>\n    </tr>\n    <tr>\n      <th>32</th>\n      <td>Backend</td>\n    </tr>\n    <tr>\n      <th>33</th>\n      <td>Frontend</td>\n    </tr>\n    <tr>\n      <th>34</th>\n      <td>iOS</td>\n    </tr>\n    <tr>\n      <th>35</th>\n      <td>Frontend</td>\n    </tr>\n    <tr>\n      <th>36</th>\n      <td>Frontend</td>\n    </tr>\n    <tr>\n      <th>37</th>\n      <td>iOS</td>\n    </tr>\n    <tr>\n      <th>38</th>\n      <td>Data Science</td>\n    </tr>\n    <tr>\n      <th>39</th>\n      <td>Backend</td>\n    </tr>\n    <tr>\n      <th>40</th>\n      <td>Design UI/UX</td>\n    </tr>\n  </tbody>\n</table>\n</div>"
     },
     "execution_count": 3,
     "metadata": {},
     "output_type": "execute_result"
    }
   ],
   "source": [
    "mentees = DataFrame(\n",
    "    db.projection(\"Mentees\", {\"is_active\": True, \"validate_status\": \"approved\"},\n",
    "                  {\"tech_stack\": True}))\n",
    "mentees"
   ],
   "metadata": {
    "collapsed": false,
    "pycharm": {
     "name": "#%%\n"
    }
   }
  },
  {
   "cell_type": "code",
   "execution_count": 4,
   "outputs": [
    {
     "data": {
      "text/plain": "            tech_stack    role\n0             Frontend  Mentee\n1                  iOS  Mentee\n2             Frontend  Mentee\n3                  iOS  Mentee\n4             Frontend  Mentee\n5             Frontend  Mentee\n6                  iOS  Mentee\n7   Career Development  Mentee\n8              Backend  Mentee\n9         Design UI/UX  Mentee\n10        Design UI/UX  Mentee\n11            Frontend  Mentee\n12                 iOS  Mentee\n13            Frontend  Mentee\n14            Frontend  Mentee\n15                 iOS  Mentee\n16             Backend  Mentee\n17        Design UI/UX  Mentee\n18             Backend  Mentee\n19                 iOS  Mentee\n20             Backend  Mentee\n21                 iOS  Mentee\n22             Backend  Mentee\n23             Backend  Mentee\n24             Backend  Mentee\n25        Design UI/UX  Mentee\n26             Android  Mentee\n27        Design UI/UX  Mentee\n28  Career Development  Mentee\n29                 iOS  Mentee\n30            Frontend  Mentee\n31             Backend  Mentee\n32             Backend  Mentee\n33            Frontend  Mentee\n34                 iOS  Mentee\n35            Frontend  Mentee\n36            Frontend  Mentee\n37                 iOS  Mentee\n38        Data Science  Mentee\n39             Backend  Mentee\n40        Design UI/UX  Mentee",
      "text/html": "<div>\n<style scoped>\n    .dataframe tbody tr th:only-of-type {\n        vertical-align: middle;\n    }\n\n    .dataframe tbody tr th {\n        vertical-align: top;\n    }\n\n    .dataframe thead th {\n        text-align: right;\n    }\n</style>\n<table border=\"1\" class=\"dataframe\">\n  <thead>\n    <tr style=\"text-align: right;\">\n      <th></th>\n      <th>tech_stack</th>\n      <th>role</th>\n    </tr>\n  </thead>\n  <tbody>\n    <tr>\n      <th>0</th>\n      <td>Frontend</td>\n      <td>Mentee</td>\n    </tr>\n    <tr>\n      <th>1</th>\n      <td>iOS</td>\n      <td>Mentee</td>\n    </tr>\n    <tr>\n      <th>2</th>\n      <td>Frontend</td>\n      <td>Mentee</td>\n    </tr>\n    <tr>\n      <th>3</th>\n      <td>iOS</td>\n      <td>Mentee</td>\n    </tr>\n    <tr>\n      <th>4</th>\n      <td>Frontend</td>\n      <td>Mentee</td>\n    </tr>\n    <tr>\n      <th>5</th>\n      <td>Frontend</td>\n      <td>Mentee</td>\n    </tr>\n    <tr>\n      <th>6</th>\n      <td>iOS</td>\n      <td>Mentee</td>\n    </tr>\n    <tr>\n      <th>7</th>\n      <td>Career Development</td>\n      <td>Mentee</td>\n    </tr>\n    <tr>\n      <th>8</th>\n      <td>Backend</td>\n      <td>Mentee</td>\n    </tr>\n    <tr>\n      <th>9</th>\n      <td>Design UI/UX</td>\n      <td>Mentee</td>\n    </tr>\n    <tr>\n      <th>10</th>\n      <td>Design UI/UX</td>\n      <td>Mentee</td>\n    </tr>\n    <tr>\n      <th>11</th>\n      <td>Frontend</td>\n      <td>Mentee</td>\n    </tr>\n    <tr>\n      <th>12</th>\n      <td>iOS</td>\n      <td>Mentee</td>\n    </tr>\n    <tr>\n      <th>13</th>\n      <td>Frontend</td>\n      <td>Mentee</td>\n    </tr>\n    <tr>\n      <th>14</th>\n      <td>Frontend</td>\n      <td>Mentee</td>\n    </tr>\n    <tr>\n      <th>15</th>\n      <td>iOS</td>\n      <td>Mentee</td>\n    </tr>\n    <tr>\n      <th>16</th>\n      <td>Backend</td>\n      <td>Mentee</td>\n    </tr>\n    <tr>\n      <th>17</th>\n      <td>Design UI/UX</td>\n      <td>Mentee</td>\n    </tr>\n    <tr>\n      <th>18</th>\n      <td>Backend</td>\n      <td>Mentee</td>\n    </tr>\n    <tr>\n      <th>19</th>\n      <td>iOS</td>\n      <td>Mentee</td>\n    </tr>\n    <tr>\n      <th>20</th>\n      <td>Backend</td>\n      <td>Mentee</td>\n    </tr>\n    <tr>\n      <th>21</th>\n      <td>iOS</td>\n      <td>Mentee</td>\n    </tr>\n    <tr>\n      <th>22</th>\n      <td>Backend</td>\n      <td>Mentee</td>\n    </tr>\n    <tr>\n      <th>23</th>\n      <td>Backend</td>\n      <td>Mentee</td>\n    </tr>\n    <tr>\n      <th>24</th>\n      <td>Backend</td>\n      <td>Mentee</td>\n    </tr>\n    <tr>\n      <th>25</th>\n      <td>Design UI/UX</td>\n      <td>Mentee</td>\n    </tr>\n    <tr>\n      <th>26</th>\n      <td>Android</td>\n      <td>Mentee</td>\n    </tr>\n    <tr>\n      <th>27</th>\n      <td>Design UI/UX</td>\n      <td>Mentee</td>\n    </tr>\n    <tr>\n      <th>28</th>\n      <td>Career Development</td>\n      <td>Mentee</td>\n    </tr>\n    <tr>\n      <th>29</th>\n      <td>iOS</td>\n      <td>Mentee</td>\n    </tr>\n    <tr>\n      <th>30</th>\n      <td>Frontend</td>\n      <td>Mentee</td>\n    </tr>\n    <tr>\n      <th>31</th>\n      <td>Backend</td>\n      <td>Mentee</td>\n    </tr>\n    <tr>\n      <th>32</th>\n      <td>Backend</td>\n      <td>Mentee</td>\n    </tr>\n    <tr>\n      <th>33</th>\n      <td>Frontend</td>\n      <td>Mentee</td>\n    </tr>\n    <tr>\n      <th>34</th>\n      <td>iOS</td>\n      <td>Mentee</td>\n    </tr>\n    <tr>\n      <th>35</th>\n      <td>Frontend</td>\n      <td>Mentee</td>\n    </tr>\n    <tr>\n      <th>36</th>\n      <td>Frontend</td>\n      <td>Mentee</td>\n    </tr>\n    <tr>\n      <th>37</th>\n      <td>iOS</td>\n      <td>Mentee</td>\n    </tr>\n    <tr>\n      <th>38</th>\n      <td>Data Science</td>\n      <td>Mentee</td>\n    </tr>\n    <tr>\n      <th>39</th>\n      <td>Backend</td>\n      <td>Mentee</td>\n    </tr>\n    <tr>\n      <th>40</th>\n      <td>Design UI/UX</td>\n      <td>Mentee</td>\n    </tr>\n  </tbody>\n</table>\n</div>"
     },
     "execution_count": 4,
     "metadata": {},
     "output_type": "execute_result"
    }
   ],
   "source": [
    "mentees[\"role\"] = \"Mentee\"\n",
    "mentees"
   ],
   "metadata": {
    "collapsed": false,
    "pycharm": {
     "name": "#%%\n"
    }
   }
  },
  {
   "cell_type": "code",
   "execution_count": 5,
   "outputs": [
    {
     "data": {
      "text/plain": "           tech_stack    role\n0             Android  Mentor\n0        Data Science  Mentor\n1                 iOS  Mentor\n2        Design UI/UX  Mentor\n3  Career Development  Mentor\n4        Design UI/UX  Mentor\n4             Android  Mentor\n4                 iOS  Mentor\n5                 iOS  Mentor\n5  Career Development  Mentor\n6            Frontend  Mentor",
      "text/html": "<div>\n<style scoped>\n    .dataframe tbody tr th:only-of-type {\n        vertical-align: middle;\n    }\n\n    .dataframe tbody tr th {\n        vertical-align: top;\n    }\n\n    .dataframe thead th {\n        text-align: right;\n    }\n</style>\n<table border=\"1\" class=\"dataframe\">\n  <thead>\n    <tr style=\"text-align: right;\">\n      <th></th>\n      <th>tech_stack</th>\n      <th>role</th>\n    </tr>\n  </thead>\n  <tbody>\n    <tr>\n      <th>0</th>\n      <td>Android</td>\n      <td>Mentor</td>\n    </tr>\n    <tr>\n      <th>0</th>\n      <td>Data Science</td>\n      <td>Mentor</td>\n    </tr>\n    <tr>\n      <th>1</th>\n      <td>iOS</td>\n      <td>Mentor</td>\n    </tr>\n    <tr>\n      <th>2</th>\n      <td>Design UI/UX</td>\n      <td>Mentor</td>\n    </tr>\n    <tr>\n      <th>3</th>\n      <td>Career Development</td>\n      <td>Mentor</td>\n    </tr>\n    <tr>\n      <th>4</th>\n      <td>Design UI/UX</td>\n      <td>Mentor</td>\n    </tr>\n    <tr>\n      <th>4</th>\n      <td>Android</td>\n      <td>Mentor</td>\n    </tr>\n    <tr>\n      <th>4</th>\n      <td>iOS</td>\n      <td>Mentor</td>\n    </tr>\n    <tr>\n      <th>5</th>\n      <td>iOS</td>\n      <td>Mentor</td>\n    </tr>\n    <tr>\n      <th>5</th>\n      <td>Career Development</td>\n      <td>Mentor</td>\n    </tr>\n    <tr>\n      <th>6</th>\n      <td>Frontend</td>\n      <td>Mentor</td>\n    </tr>\n  </tbody>\n</table>\n</div>"
     },
     "execution_count": 5,
     "metadata": {},
     "output_type": "execute_result"
    }
   ],
   "source": [
    "mentors = DataFrame(db.projection(\"Mentors\", {\n",
    "    \"accepting_new_mentees\": True,\n",
    "    \"is_active\": True,\n",
    "    \"validate_status\": \"approved\",\n",
    "}, {\"tech_stack\": True}))\n",
    "mentors = mentors.explode(column=\"tech_stack\")\n",
    "mentors[\"role\"] = \"Mentor\"\n",
    "mentors\n"
   ],
   "metadata": {
    "collapsed": false,
    "pycharm": {
     "name": "#%%\n"
    }
   }
  },
  {
   "cell_type": "code",
   "execution_count": 6,
   "outputs": [
    {
     "data": {
      "text/plain": "            tech_stack    role\n6                  iOS  Mentee\n2         Design UI/UX  Mentor\n31             Backend  Mentee\n35            Frontend  Mentee\n36            Frontend  Mentee\n33            Frontend  Mentee\n5   Career Development  Mentor\n13            Frontend  Mentee\n20             Backend  Mentee\n9         Design UI/UX  Mentee",
      "text/html": "<div>\n<style scoped>\n    .dataframe tbody tr th:only-of-type {\n        vertical-align: middle;\n    }\n\n    .dataframe tbody tr th {\n        vertical-align: top;\n    }\n\n    .dataframe thead th {\n        text-align: right;\n    }\n</style>\n<table border=\"1\" class=\"dataframe\">\n  <thead>\n    <tr style=\"text-align: right;\">\n      <th></th>\n      <th>tech_stack</th>\n      <th>role</th>\n    </tr>\n  </thead>\n  <tbody>\n    <tr>\n      <th>6</th>\n      <td>iOS</td>\n      <td>Mentee</td>\n    </tr>\n    <tr>\n      <th>2</th>\n      <td>Design UI/UX</td>\n      <td>Mentor</td>\n    </tr>\n    <tr>\n      <th>31</th>\n      <td>Backend</td>\n      <td>Mentee</td>\n    </tr>\n    <tr>\n      <th>35</th>\n      <td>Frontend</td>\n      <td>Mentee</td>\n    </tr>\n    <tr>\n      <th>36</th>\n      <td>Frontend</td>\n      <td>Mentee</td>\n    </tr>\n    <tr>\n      <th>33</th>\n      <td>Frontend</td>\n      <td>Mentee</td>\n    </tr>\n    <tr>\n      <th>5</th>\n      <td>Career Development</td>\n      <td>Mentor</td>\n    </tr>\n    <tr>\n      <th>13</th>\n      <td>Frontend</td>\n      <td>Mentee</td>\n    </tr>\n    <tr>\n      <th>20</th>\n      <td>Backend</td>\n      <td>Mentee</td>\n    </tr>\n    <tr>\n      <th>9</th>\n      <td>Design UI/UX</td>\n      <td>Mentee</td>\n    </tr>\n  </tbody>\n</table>\n</div>"
     },
     "execution_count": 6,
     "metadata": {},
     "output_type": "execute_result"
    }
   ],
   "source": [
    "df = pandas.concat([mentees, mentors])\n",
    "df.sample(10)"
   ],
   "metadata": {
    "collapsed": false,
    "pycharm": {
     "name": "#%%\n"
    }
   }
  },
  {
   "cell_type": "markdown",
   "source": [
    "### Data Visualization\n"
   ],
   "metadata": {
    "collapsed": false,
    "pycharm": {
     "name": "#%% md\n"
    }
   }
  },
  {
   "cell_type": "code",
   "execution_count": 7,
   "outputs": [],
   "source": [
    "def title_fix(string: str) -> str:\n",
    "    return string.title().replace(\"_\", \" \")"
   ],
   "metadata": {
    "collapsed": false,
    "pycharm": {
     "name": "#%%\n"
    }
   }
  },
  {
   "cell_type": "code",
   "execution_count": 8,
   "outputs": [],
   "source": [
    "def stacked_bar_chart(df, column_1, column_2):\n",
    "    return Chart(\n",
    "        df,\n",
    "        title=f\"{title_fix(column_1)} Count by {title_fix(column_2)}\",\n",
    "    ).mark_bar().encode(\n",
    "        x=X(column_1, title=title_fix(column_1), sort=\"-y\"),\n",
    "        y=Y(f\"count({column_1})\"),\n",
    "        color=Color(column_2, title=title_fix(column_2)),\n",
    "        tooltip=Tooltip([column_2, column_1, f\"count({column_1})\"])\n",
    "    ).properties(\n",
    "        width=480,\n",
    "        height=400,\n",
    "        padding=24,\n",
    "    ).configure(\n",
    "        legend={\"padding\": 24},\n",
    "        title={\"fontSize\": 20, \"offset\": 24},\n",
    "        view={\"stroke\": \"#FFF\"},\n",
    "    )\n",
    "\n"
   ],
   "metadata": {
    "collapsed": false,
    "pycharm": {
     "name": "#%%\n"
    }
   }
  },
  {
   "cell_type": "code",
   "execution_count": 9,
   "outputs": [
    {
     "data": {
      "text/html": "\n<div id=\"altair-viz-eaef2411033d4f1cb3d71ea05da8affd\"></div>\n<script type=\"text/javascript\">\n  var VEGA_DEBUG = (typeof VEGA_DEBUG == \"undefined\") ? {} : VEGA_DEBUG;\n  (function(spec, embedOpt){\n    let outputDiv = document.currentScript.previousElementSibling;\n    if (outputDiv.id !== \"altair-viz-eaef2411033d4f1cb3d71ea05da8affd\") {\n      outputDiv = document.getElementById(\"altair-viz-eaef2411033d4f1cb3d71ea05da8affd\");\n    }\n    const paths = {\n      \"vega\": \"https://cdn.jsdelivr.net/npm//vega@5?noext\",\n      \"vega-lib\": \"https://cdn.jsdelivr.net/npm//vega-lib?noext\",\n      \"vega-lite\": \"https://cdn.jsdelivr.net/npm//vega-lite@4.17.0?noext\",\n      \"vega-embed\": \"https://cdn.jsdelivr.net/npm//vega-embed@6?noext\",\n    };\n\n    function maybeLoadScript(lib, version) {\n      var key = `${lib.replace(\"-\", \"\")}_version`;\n      return (VEGA_DEBUG[key] == version) ?\n        Promise.resolve(paths[lib]) :\n        new Promise(function(resolve, reject) {\n          var s = document.createElement('script');\n          document.getElementsByTagName(\"head\")[0].appendChild(s);\n          s.async = true;\n          s.onload = () => {\n            VEGA_DEBUG[key] = version;\n            return resolve(paths[lib]);\n          };\n          s.onerror = () => reject(`Error loading script: ${paths[lib]}`);\n          s.src = paths[lib];\n        });\n    }\n\n    function showError(err) {\n      outputDiv.innerHTML = `<div class=\"error\" style=\"color:red;\">${err}</div>`;\n      throw err;\n    }\n\n    function displayChart(vegaEmbed) {\n      vegaEmbed(outputDiv, spec, embedOpt)\n        .catch(err => showError(`Javascript Error: ${err.message}<br>This usually means there's a typo in your chart specification. See the javascript console for the full traceback.`));\n    }\n\n    if(typeof define === \"function\" && define.amd) {\n      requirejs.config({paths});\n      require([\"vega-embed\"], displayChart, err => showError(`Error loading script: ${err.message}`));\n    } else {\n      maybeLoadScript(\"vega\", \"5\")\n        .then(() => maybeLoadScript(\"vega-lite\", \"4.17.0\"))\n        .then(() => maybeLoadScript(\"vega-embed\", \"6\"))\n        .catch(showError)\n        .then(() => displayChart(vegaEmbed));\n    }\n  })({\"config\": {\"view\": {\"continuousWidth\": 400, \"continuousHeight\": 300, \"stroke\": \"#FFF\"}, \"legend\": {\"padding\": 24}, \"title\": {\"fontSize\": 20, \"offset\": 24}}, \"data\": {\"name\": \"data-31e97a1d4edc919d478e0cd56a0f7459\"}, \"mark\": \"bar\", \"encoding\": {\"color\": {\"field\": \"role\", \"title\": \"Role\", \"type\": \"nominal\"}, \"tooltip\": [{\"field\": \"role\", \"type\": \"nominal\"}, {\"field\": \"tech_stack\", \"type\": \"nominal\"}, {\"aggregate\": \"count\", \"field\": \"tech_stack\", \"type\": \"nominal\"}], \"x\": {\"field\": \"tech_stack\", \"sort\": \"-y\", \"title\": \"Tech Stack\", \"type\": \"nominal\"}, \"y\": {\"aggregate\": \"count\", \"field\": \"tech_stack\", \"type\": \"nominal\"}}, \"height\": 400, \"padding\": 24, \"title\": \"Tech Stack Count by Role\", \"width\": 480, \"$schema\": \"https://vega.github.io/schema/vega-lite/v4.17.0.json\", \"datasets\": {\"data-31e97a1d4edc919d478e0cd56a0f7459\": [{\"tech_stack\": \"Frontend\", \"role\": \"Mentee\"}, {\"tech_stack\": \"iOS\", \"role\": \"Mentee\"}, {\"tech_stack\": \"Frontend\", \"role\": \"Mentee\"}, {\"tech_stack\": \"iOS\", \"role\": \"Mentee\"}, {\"tech_stack\": \"Frontend\", \"role\": \"Mentee\"}, {\"tech_stack\": \"Frontend\", \"role\": \"Mentee\"}, {\"tech_stack\": \"iOS\", \"role\": \"Mentee\"}, {\"tech_stack\": \"Career Development\", \"role\": \"Mentee\"}, {\"tech_stack\": \"Backend\", \"role\": \"Mentee\"}, {\"tech_stack\": \"Design UI/UX\", \"role\": \"Mentee\"}, {\"tech_stack\": \"Design UI/UX\", \"role\": \"Mentee\"}, {\"tech_stack\": \"Frontend\", \"role\": \"Mentee\"}, {\"tech_stack\": \"iOS\", \"role\": \"Mentee\"}, {\"tech_stack\": \"Frontend\", \"role\": \"Mentee\"}, {\"tech_stack\": \"Frontend\", \"role\": \"Mentee\"}, {\"tech_stack\": \"iOS\", \"role\": \"Mentee\"}, {\"tech_stack\": \"Backend\", \"role\": \"Mentee\"}, {\"tech_stack\": \"Design UI/UX\", \"role\": \"Mentee\"}, {\"tech_stack\": \"Backend\", \"role\": \"Mentee\"}, {\"tech_stack\": \"iOS\", \"role\": \"Mentee\"}, {\"tech_stack\": \"Backend\", \"role\": \"Mentee\"}, {\"tech_stack\": \"iOS\", \"role\": \"Mentee\"}, {\"tech_stack\": \"Backend\", \"role\": \"Mentee\"}, {\"tech_stack\": \"Backend\", \"role\": \"Mentee\"}, {\"tech_stack\": \"Backend\", \"role\": \"Mentee\"}, {\"tech_stack\": \"Design UI/UX\", \"role\": \"Mentee\"}, {\"tech_stack\": \"Android\", \"role\": \"Mentee\"}, {\"tech_stack\": \"Design UI/UX\", \"role\": \"Mentee\"}, {\"tech_stack\": \"Career Development\", \"role\": \"Mentee\"}, {\"tech_stack\": \"iOS\", \"role\": \"Mentee\"}, {\"tech_stack\": \"Frontend\", \"role\": \"Mentee\"}, {\"tech_stack\": \"Backend\", \"role\": \"Mentee\"}, {\"tech_stack\": \"Backend\", \"role\": \"Mentee\"}, {\"tech_stack\": \"Frontend\", \"role\": \"Mentee\"}, {\"tech_stack\": \"iOS\", \"role\": \"Mentee\"}, {\"tech_stack\": \"Frontend\", \"role\": \"Mentee\"}, {\"tech_stack\": \"Frontend\", \"role\": \"Mentee\"}, {\"tech_stack\": \"iOS\", \"role\": \"Mentee\"}, {\"tech_stack\": \"Data Science\", \"role\": \"Mentee\"}, {\"tech_stack\": \"Backend\", \"role\": \"Mentee\"}, {\"tech_stack\": \"Design UI/UX\", \"role\": \"Mentee\"}, {\"tech_stack\": \"Android\", \"role\": \"Mentor\"}, {\"tech_stack\": \"Data Science\", \"role\": \"Mentor\"}, {\"tech_stack\": \"iOS\", \"role\": \"Mentor\"}, {\"tech_stack\": \"Design UI/UX\", \"role\": \"Mentor\"}, {\"tech_stack\": \"Career Development\", \"role\": \"Mentor\"}, {\"tech_stack\": \"Design UI/UX\", \"role\": \"Mentor\"}, {\"tech_stack\": \"Android\", \"role\": \"Mentor\"}, {\"tech_stack\": \"iOS\", \"role\": \"Mentor\"}, {\"tech_stack\": \"iOS\", \"role\": \"Mentor\"}, {\"tech_stack\": \"Career Development\", \"role\": \"Mentor\"}, {\"tech_stack\": \"Frontend\", \"role\": \"Mentor\"}]}}, {\"mode\": \"vega-lite\"});\n</script>",
      "text/plain": "alt.Chart(...)"
     },
     "execution_count": 9,
     "metadata": {},
     "output_type": "execute_result"
    }
   ],
   "source": [
    "chart = stacked_bar_chart(df, \"tech_stack\", \"role\")\n",
    "chart"
   ],
   "metadata": {
    "collapsed": false,
    "pycharm": {
     "name": "#%%\n"
    }
   }
  },
  {
   "cell_type": "code",
   "execution_count": 10,
   "outputs": [
    {
     "data": {
      "text/plain": "{'config': {'view': {'continuousWidth': 400,\n   'continuousHeight': 300,\n   'stroke': '#FFF'},\n  'legend': {'padding': 24},\n  'title': {'fontSize': 20, 'offset': 24}},\n 'data': {'name': 'data-31e97a1d4edc919d478e0cd56a0f7459'},\n 'mark': 'bar',\n 'encoding': {'color': {'field': 'role', 'title': 'Role', 'type': 'nominal'},\n  'tooltip': [{'field': 'role', 'type': 'nominal'},\n   {'field': 'tech_stack', 'type': 'nominal'},\n   {'aggregate': 'count', 'field': 'tech_stack', 'type': 'nominal'}],\n  'x': {'field': 'tech_stack',\n   'sort': '-y',\n   'title': 'Tech Stack',\n   'type': 'nominal'},\n  'y': {'aggregate': 'count', 'field': 'tech_stack', 'type': 'nominal'}},\n 'height': 400,\n 'padding': 24,\n 'title': 'Tech Stack Count by Role',\n 'width': 480,\n '$schema': 'https://vega.github.io/schema/vega-lite/v4.17.0.json',\n 'datasets': {'data-31e97a1d4edc919d478e0cd56a0f7459': [{'tech_stack': 'Frontend',\n    'role': 'Mentee'},\n   {'tech_stack': 'iOS', 'role': 'Mentee'},\n   {'tech_stack': 'Frontend', 'role': 'Mentee'},\n   {'tech_stack': 'iOS', 'role': 'Mentee'},\n   {'tech_stack': 'Frontend', 'role': 'Mentee'},\n   {'tech_stack': 'Frontend', 'role': 'Mentee'},\n   {'tech_stack': 'iOS', 'role': 'Mentee'},\n   {'tech_stack': 'Career Development', 'role': 'Mentee'},\n   {'tech_stack': 'Backend', 'role': 'Mentee'},\n   {'tech_stack': 'Design UI/UX', 'role': 'Mentee'},\n   {'tech_stack': 'Design UI/UX', 'role': 'Mentee'},\n   {'tech_stack': 'Frontend', 'role': 'Mentee'},\n   {'tech_stack': 'iOS', 'role': 'Mentee'},\n   {'tech_stack': 'Frontend', 'role': 'Mentee'},\n   {'tech_stack': 'Frontend', 'role': 'Mentee'},\n   {'tech_stack': 'iOS', 'role': 'Mentee'},\n   {'tech_stack': 'Backend', 'role': 'Mentee'},\n   {'tech_stack': 'Design UI/UX', 'role': 'Mentee'},\n   {'tech_stack': 'Backend', 'role': 'Mentee'},\n   {'tech_stack': 'iOS', 'role': 'Mentee'},\n   {'tech_stack': 'Backend', 'role': 'Mentee'},\n   {'tech_stack': 'iOS', 'role': 'Mentee'},\n   {'tech_stack': 'Backend', 'role': 'Mentee'},\n   {'tech_stack': 'Backend', 'role': 'Mentee'},\n   {'tech_stack': 'Backend', 'role': 'Mentee'},\n   {'tech_stack': 'Design UI/UX', 'role': 'Mentee'},\n   {'tech_stack': 'Android', 'role': 'Mentee'},\n   {'tech_stack': 'Design UI/UX', 'role': 'Mentee'},\n   {'tech_stack': 'Career Development', 'role': 'Mentee'},\n   {'tech_stack': 'iOS', 'role': 'Mentee'},\n   {'tech_stack': 'Frontend', 'role': 'Mentee'},\n   {'tech_stack': 'Backend', 'role': 'Mentee'},\n   {'tech_stack': 'Backend', 'role': 'Mentee'},\n   {'tech_stack': 'Frontend', 'role': 'Mentee'},\n   {'tech_stack': 'iOS', 'role': 'Mentee'},\n   {'tech_stack': 'Frontend', 'role': 'Mentee'},\n   {'tech_stack': 'Frontend', 'role': 'Mentee'},\n   {'tech_stack': 'iOS', 'role': 'Mentee'},\n   {'tech_stack': 'Data Science', 'role': 'Mentee'},\n   {'tech_stack': 'Backend', 'role': 'Mentee'},\n   {'tech_stack': 'Design UI/UX', 'role': 'Mentee'},\n   {'tech_stack': 'Android', 'role': 'Mentor'},\n   {'tech_stack': 'Data Science', 'role': 'Mentor'},\n   {'tech_stack': 'iOS', 'role': 'Mentor'},\n   {'tech_stack': 'Design UI/UX', 'role': 'Mentor'},\n   {'tech_stack': 'Career Development', 'role': 'Mentor'},\n   {'tech_stack': 'Design UI/UX', 'role': 'Mentor'},\n   {'tech_stack': 'Android', 'role': 'Mentor'},\n   {'tech_stack': 'iOS', 'role': 'Mentor'},\n   {'tech_stack': 'iOS', 'role': 'Mentor'},\n   {'tech_stack': 'Career Development', 'role': 'Mentor'},\n   {'tech_stack': 'Frontend', 'role': 'Mentor'}]}}"
     },
     "execution_count": 10,
     "metadata": {},
     "output_type": "execute_result"
    }
   ],
   "source": [
    "chart.to_dict()\n"
   ],
   "metadata": {
    "collapsed": false,
    "pycharm": {
     "name": "#%%\n"
    }
   }
  },
  {
   "cell_type": "code",
   "execution_count": 12,
   "outputs": [
    {
     "data": {
      "text/html": "\n<div id=\"altair-viz-e63386f40c2f41489c0bd2b7a16c94e6\"></div>\n<script type=\"text/javascript\">\n  var VEGA_DEBUG = (typeof VEGA_DEBUG == \"undefined\") ? {} : VEGA_DEBUG;\n  (function(spec, embedOpt){\n    let outputDiv = document.currentScript.previousElementSibling;\n    if (outputDiv.id !== \"altair-viz-e63386f40c2f41489c0bd2b7a16c94e6\") {\n      outputDiv = document.getElementById(\"altair-viz-e63386f40c2f41489c0bd2b7a16c94e6\");\n    }\n    const paths = {\n      \"vega\": \"https://cdn.jsdelivr.net/npm//vega@5?noext\",\n      \"vega-lib\": \"https://cdn.jsdelivr.net/npm//vega-lib?noext\",\n      \"vega-lite\": \"https://cdn.jsdelivr.net/npm//vega-lite@4.17.0?noext\",\n      \"vega-embed\": \"https://cdn.jsdelivr.net/npm//vega-embed@6?noext\",\n    };\n\n    function maybeLoadScript(lib, version) {\n      var key = `${lib.replace(\"-\", \"\")}_version`;\n      return (VEGA_DEBUG[key] == version) ?\n        Promise.resolve(paths[lib]) :\n        new Promise(function(resolve, reject) {\n          var s = document.createElement('script');\n          document.getElementsByTagName(\"head\")[0].appendChild(s);\n          s.async = true;\n          s.onload = () => {\n            VEGA_DEBUG[key] = version;\n            return resolve(paths[lib]);\n          };\n          s.onerror = () => reject(`Error loading script: ${paths[lib]}`);\n          s.src = paths[lib];\n        });\n    }\n\n    function showError(err) {\n      outputDiv.innerHTML = `<div class=\"error\" style=\"color:red;\">${err}</div>`;\n      throw err;\n    }\n\n    function displayChart(vegaEmbed) {\n      vegaEmbed(outputDiv, spec, embedOpt)\n        .catch(err => showError(`Javascript Error: ${err.message}<br>This usually means there's a typo in your chart specification. See the javascript console for the full traceback.`));\n    }\n\n    if(typeof define === \"function\" && define.amd) {\n      requirejs.config({paths});\n      require([\"vega-embed\"], displayChart, err => showError(`Error loading script: ${err.message}`));\n    } else {\n      maybeLoadScript(\"vega\", \"5\")\n        .then(() => maybeLoadScript(\"vega-lite\", \"4.17.0\"))\n        .then(() => maybeLoadScript(\"vega-embed\", \"6\"))\n        .catch(showError)\n        .then(() => displayChart(vegaEmbed));\n    }\n  })({\"config\": {\"view\": {\"continuousWidth\": 400, \"continuousHeight\": 300, \"stroke\": \"#FFF\"}, \"legend\": {\"padding\": 24}, \"title\": {\"fontSize\": 20, \"offset\": 24}}, \"data\": {\"name\": \"data-31e97a1d4edc919d478e0cd56a0f7459\"}, \"mark\": \"bar\", \"datasets\": {\"data-31e97a1d4edc919d478e0cd56a0f7459\": [{\"tech_stack\": \"Frontend\", \"role\": \"Mentee\"}, {\"tech_stack\": \"iOS\", \"role\": \"Mentee\"}, {\"tech_stack\": \"Frontend\", \"role\": \"Mentee\"}, {\"tech_stack\": \"iOS\", \"role\": \"Mentee\"}, {\"tech_stack\": \"Frontend\", \"role\": \"Mentee\"}, {\"tech_stack\": \"Frontend\", \"role\": \"Mentee\"}, {\"tech_stack\": \"iOS\", \"role\": \"Mentee\"}, {\"tech_stack\": \"Career Development\", \"role\": \"Mentee\"}, {\"tech_stack\": \"Backend\", \"role\": \"Mentee\"}, {\"tech_stack\": \"Design UI/UX\", \"role\": \"Mentee\"}, {\"tech_stack\": \"Design UI/UX\", \"role\": \"Mentee\"}, {\"tech_stack\": \"Frontend\", \"role\": \"Mentee\"}, {\"tech_stack\": \"iOS\", \"role\": \"Mentee\"}, {\"tech_stack\": \"Frontend\", \"role\": \"Mentee\"}, {\"tech_stack\": \"Frontend\", \"role\": \"Mentee\"}, {\"tech_stack\": \"iOS\", \"role\": \"Mentee\"}, {\"tech_stack\": \"Backend\", \"role\": \"Mentee\"}, {\"tech_stack\": \"Design UI/UX\", \"role\": \"Mentee\"}, {\"tech_stack\": \"Backend\", \"role\": \"Mentee\"}, {\"tech_stack\": \"iOS\", \"role\": \"Mentee\"}, {\"tech_stack\": \"Backend\", \"role\": \"Mentee\"}, {\"tech_stack\": \"iOS\", \"role\": \"Mentee\"}, {\"tech_stack\": \"Backend\", \"role\": \"Mentee\"}, {\"tech_stack\": \"Backend\", \"role\": \"Mentee\"}, {\"tech_stack\": \"Backend\", \"role\": \"Mentee\"}, {\"tech_stack\": \"Design UI/UX\", \"role\": \"Mentee\"}, {\"tech_stack\": \"Android\", \"role\": \"Mentee\"}, {\"tech_stack\": \"Design UI/UX\", \"role\": \"Mentee\"}, {\"tech_stack\": \"Career Development\", \"role\": \"Mentee\"}, {\"tech_stack\": \"iOS\", \"role\": \"Mentee\"}, {\"tech_stack\": \"Frontend\", \"role\": \"Mentee\"}, {\"tech_stack\": \"Backend\", \"role\": \"Mentee\"}, {\"tech_stack\": \"Backend\", \"role\": \"Mentee\"}, {\"tech_stack\": \"Frontend\", \"role\": \"Mentee\"}, {\"tech_stack\": \"iOS\", \"role\": \"Mentee\"}, {\"tech_stack\": \"Frontend\", \"role\": \"Mentee\"}, {\"tech_stack\": \"Frontend\", \"role\": \"Mentee\"}, {\"tech_stack\": \"iOS\", \"role\": \"Mentee\"}, {\"tech_stack\": \"Data Science\", \"role\": \"Mentee\"}, {\"tech_stack\": \"Backend\", \"role\": \"Mentee\"}, {\"tech_stack\": \"Design UI/UX\", \"role\": \"Mentee\"}, {\"tech_stack\": \"Android\", \"role\": \"Mentor\"}, {\"tech_stack\": \"Data Science\", \"role\": \"Mentor\"}, {\"tech_stack\": \"iOS\", \"role\": \"Mentor\"}, {\"tech_stack\": \"Design UI/UX\", \"role\": \"Mentor\"}, {\"tech_stack\": \"Career Development\", \"role\": \"Mentor\"}, {\"tech_stack\": \"Design UI/UX\", \"role\": \"Mentor\"}, {\"tech_stack\": \"Android\", \"role\": \"Mentor\"}, {\"tech_stack\": \"iOS\", \"role\": \"Mentor\"}, {\"tech_stack\": \"iOS\", \"role\": \"Mentor\"}, {\"tech_stack\": \"Career Development\", \"role\": \"Mentor\"}, {\"tech_stack\": \"Frontend\", \"role\": \"Mentor\"}]}, \"encoding\": {\"color\": {\"field\": \"role\", \"title\": \"Role\", \"type\": \"nominal\"}, \"tooltip\": [{\"field\": \"role\", \"type\": \"nominal\"}, {\"field\": \"tech_stack\", \"type\": \"nominal\"}, {\"aggregate\": \"count\", \"field\": \"tech_stack\", \"type\": \"nominal\"}], \"x\": {\"field\": \"tech_stack\", \"sort\": \"-y\", \"title\": \"Tech Stack\", \"type\": \"nominal\"}, \"y\": {\"aggregate\": \"count\", \"field\": \"tech_stack\", \"type\": \"nominal\"}}, \"height\": 400, \"padding\": 24, \"title\": \"Tech Stack Count by Role\", \"width\": 480, \"$schema\": \"https://vega.github.io/schema/vega-lite/v4.17.0.json\"}, {\"mode\": \"vega-lite\"});\n</script>",
      "text/plain": "alt.Chart(...)"
     },
     "execution_count": 12,
     "metadata": {},
     "output_type": "execute_result"
    }
   ],
   "source": [
    "import requests\n",
    "from altair import Chart\n",
    "\n",
    "chart = requests.get(\"http://underdog-devs-ds-a-dev.us-east-1.elasticbeanstalk.com/graph/tech-stack-by-role\").json()\n",
    "Chart.from_dict(chart)"
   ],
   "metadata": {
    "collapsed": false,
    "pycharm": {
     "name": "#%%\n"
    }
   }
  },
  {
   "cell_type": "code",
   "execution_count": null,
   "outputs": [],
   "source": [],
   "metadata": {
    "collapsed": false,
    "pycharm": {
     "name": "#%%\n"
    }
   }
  }
 ],
 "metadata": {
  "kernelspec": {
   "display_name": "Python 3",
   "language": "python",
   "name": "python3"
  },
  "language_info": {
   "codemirror_mode": {
    "name": "ipython",
    "version": 2
   },
   "file_extension": ".py",
   "mimetype": "text/x-python",
   "name": "python",
   "nbconvert_exporter": "python",
   "pygments_lexer": "ipython2",
   "version": "2.7.6"
  }
 },
 "nbformat": 4,
 "nbformat_minor": 0
}