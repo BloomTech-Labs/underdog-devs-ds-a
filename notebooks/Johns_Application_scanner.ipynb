{
 "cells": [
  {
   "cell_type": "markdown",
   "metadata": {},
   "source": [
    "### Importing docx2txt and sklearn\n",
    "[Anyone can use the Free Microsoft Office Online Link](https://www.microsoft.com/en-us/microsoft-365/free-office-online-for-the-web)"
   ]
  },
  {
   "cell_type": "code",
   "execution_count": 14,
   "metadata": {},
   "outputs": [],
   "source": [
    "import docx2txt\n",
    "from sklearn.feature_extraction.text import CountVectorizer\n",
    "from sklearn.metrics.pairwise import cosine_similarity"
   ]
  },
  {
   "cell_type": "markdown",
   "metadata": {},
   "source": [
    "### Importing the Word Documents from my Desktop"
   ]
  },
  {
   "cell_type": "code",
   "execution_count": 15,
   "metadata": {},
   "outputs": [],
   "source": [
    "bakery_job_description = docx2txt.process('docx/bakery_assistant_job_description.docx')\n",
    "data_job_description = docx2txt.process('docx/data_science_job_description.docx')\n",
    "resume1 = docx2txt.process('docx/sample_resume1.docx')\n",
    "resume2 = docx2txt.process('docx/sample_resume2.docx')"
   ]
  },
  {
   "cell_type": "markdown",
   "metadata": {},
   "source": [
    "### Turning the job description and resume into a list\n",
    "- First, we compared a bakery job to data science resume 1. <br/>\n",
    "- Second, we compared a bakery job to data science resume 2. <br/>\n",
    "- Third, we compared a data science job to data science resume 1. <br/>\n",
    "- Forth, we compared a data science job to data science resume 2. <br/>\n",
    "- Fifth, we compared the bakery job to the bakery job. <br/>\n",
    "- Sixth, we compared the data science job to the data science job. <br/> "
   ]
  },
  {
   "cell_type": "code",
   "execution_count": 16,
   "metadata": {},
   "outputs": [],
   "source": [
    "bakery_Data1 = [bakery_job_description, resume1]\n",
    "bakery_Data2 = [bakery_job_description, resume2]\n",
    "data_Data1 = [data_job_description, resume1]\n",
    "data_Data2 = [data_job_description, resume2]\n",
    "bakery_bakery = [bakery_job_description, bakery_job_description]\n",
    "data_Data = [data_job_description, data_job_description]"
   ]
  },
  {
   "cell_type": "markdown",
   "metadata": {},
   "source": [
    "### We made a Count Vectorizer\n",
    "CountVectorizer creates a matrix in which each unique word is represented by a column of the matrix, and each text sample from the document is a row in the matrix.\n",
    "### We fit and transformed all the data\n",
    "This method performs fit and transform on the input data at a single time and converts the data points. If we use fit and transform separate when we need both then it will decrease the efficiency of the model so we use fit_transform() which will do both fit and transform."
   ]
  },
  {
   "cell_type": "code",
   "execution_count": 17,
   "metadata": {},
   "outputs": [],
   "source": [
    "cv = CountVectorizer()\n",
    "matrix_bakery_Data1 = cv.fit_transform(bakery_Data1)\n",
    "matrix_bakery_Data2 = cv.fit_transform(bakery_Data2)\n",
    "matrix_data_Data1 = cv.fit_transform(data_Data1)\n",
    "matrix_data_Data2 = cv.fit_transform(data_Data2)\n",
    "matrix_bakery_bakery = cv.fit_transform(bakery_bakery)\n",
    "matrix_data_Data = cv.fit_transform(data_Data)"
   ]
  },
  {
   "cell_type": "markdown",
   "metadata": {},
   "source": [
    "### Now we take the cosine similarity\n",
    "Cosine similarity measures the similarity between two vectors of an inner product space. It is measured by the cosine of the angle between two vectors and determines whether two vectors are pointing in roughly the same direction. We are using it to measure document similarity."
   ]
  },
  {
   "cell_type": "code",
   "execution_count": 18,
   "metadata": {},
   "outputs": [],
   "source": [
    "similarity_matrix_bakery_Data1 = cosine_similarity(matrix_bakery_Data1)\n",
    "similarity_matrix_bakery_Data2 = cosine_similarity(matrix_bakery_Data2)\n",
    "similarity_matrix_data_Data1 = cosine_similarity(matrix_data_Data1)\n",
    "similarity_matrix_data_Data2 = cosine_similarity(matrix_data_Data2)\n",
    "similarity_matrix_bakery_bakery = cosine_similarity(matrix_bakery_bakery)\n",
    "similarity_matrix_data_Data = cosine_similarity(matrix_data_Data)"
   ]
  },
  {
   "cell_type": "markdown",
   "metadata": {},
   "source": [
    "### Printing the results\n",
    "The results of the bakery job compared to the data science resume were not encouraging. We were hoping to get back a lower score. The results show what we already knew, this is not a perfect way to do it. Although, a score of over 60% when compared to a job you made your resume for, could be a good indicator that you should at least try to get the job."
   ]
  },
  {
   "cell_type": "code",
   "execution_count": 19,
   "metadata": {},
   "outputs": [
    {
     "name": "stdout",
     "output_type": "stream",
     "text": [
      "Data resume #1 matches baking job By: 51%\n",
      "Data resume #2 matches baking job By: 52%\n",
      "Data resume #1 matches data job By: 65%\n",
      "Data resume #2 matches data job By: 66%\n",
      "Data job matches data job By: 100%\n",
      "Data job matches data job By: 100%\n"
     ]
    }
   ],
   "source": [
    "print('Data resume #1 matches baking job By: '+ str(round(similarity_matrix_bakery_Data1[1][0]*100))+ '%')\n",
    "print('Data resume #2 matches baking job By: '+ str(round(similarity_matrix_bakery_Data2[1][0]*100))+ '%')\n",
    "print('Data resume #1 matches data job By: '+ str(round(similarity_matrix_data_Data1[1][0]*100))+ '%')\n",
    "print('Data resume #2 matches data job By: '+ str(round(similarity_matrix_data_Data2[1][0]*100))+ '%')\n",
    "print('Data job matches data job By: '+ str(round(similarity_matrix_bakery_bakery[1][0]*100))+ '%')\n",
    "print('Data job matches data job By: '+ str(round(similarity_matrix_data_Data[1][0]*100))+ '%')"
   ]
  }
 ],
 "metadata": {
  "interpreter": {
   "hash": "20febc02521689004c63a7e5dea71165f7f03c1a736a22ce773be47e973f4491"
  },
  "kernelspec": {
   "display_name": "Python 3.10.0 ('underdog-devs-ds-a-1ez0ku27')",
   "language": "python",
   "name": "python3"
  },
  "language_info": {
   "codemirror_mode": {
    "name": "ipython",
    "version": 3
   },
   "file_extension": ".py",
   "mimetype": "text/x-python",
   "name": "python",
   "nbconvert_exporter": "python",
   "pygments_lexer": "ipython3",
   "version": "3.10.0"
  },
  "orig_nbformat": 4
 },
 "nbformat": 4,
 "nbformat_minor": 2
}
