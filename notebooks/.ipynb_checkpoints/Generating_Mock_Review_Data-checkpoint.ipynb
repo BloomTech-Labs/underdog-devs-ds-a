{
 "cells": [
  {
   "cell_type": "markdown",
   "metadata": {
    "id": "koqy3Y5hXhfs"
   },
   "source": [
    "## Generating mock review data where mentor gives review to mentee"
   ]
  },
  {
   "cell_type": "markdown",
   "metadata": {
    "id": "z7F1rIxsepNL"
   },
   "source": [
    "## Generating mock review Data"
   ]
  },
  {
   "cell_type": "code",
   "execution_count": 25,
   "metadata": {
    "id": "BnaL5IirXbFg",
    "scrolled": true
   },
   "outputs": [],
   "source": [
    "import pandas as pd\n",
    "import random as r"
   ]
  },
  {
   "cell_type": "code",
   "execution_count": 26,
   "metadata": {},
   "outputs": [],
   "source": [
    "from vaderSentiment.vaderSentiment import SentimentIntensityAnalyzer\n",
    "\n",
    "vader = SentimentIntensityAnalyzer()\n",
    "\n",
    "# compound score of the sentiment\n",
    "def vader_score(text: list) -> list:\n",
    "    \"\"\"Return compound scores of text in list using vader analysis.\"\"\"\n",
    "    return [vader.polarity_scores(t)[\"compound\"] for t in text]"
   ]
  },
  {
   "cell_type": "code",
   "execution_count": 27,
   "metadata": {
    "id": "YtOeMNNOYRp_",
    "scrolled": true
   },
   "outputs": [],
   "source": [
    "df = pd.read_csv('review.csv')"
   ]
  },
  {
   "cell_type": "code",
   "execution_count": 28,
   "metadata": {
    "colab": {
     "base_uri": "https://localhost:8080/",
     "height": 424
    },
    "id": "3HKHnLVSY-hz",
    "outputId": "4b1d4ce6-0ae5-4b17-8020-27cd54849e28",
    "scrolled": true
   },
   "outputs": [
    {
     "data": {
      "text/html": [
       "<div>\n",
       "<style scoped>\n",
       "    .dataframe tbody tr th:only-of-type {\n",
       "        vertical-align: middle;\n",
       "    }\n",
       "\n",
       "    .dataframe tbody tr th {\n",
       "        vertical-align: top;\n",
       "    }\n",
       "\n",
       "    .dataframe thead th {\n",
       "        text-align: right;\n",
       "    }\n",
       "</style>\n",
       "<table border=\"1\" class=\"dataframe\">\n",
       "  <thead>\n",
       "    <tr style=\"text-align: right;\">\n",
       "      <th></th>\n",
       "      <th>Review</th>\n",
       "    </tr>\n",
       "  </thead>\n",
       "  <tbody>\n",
       "    <tr>\n",
       "      <th>0</th>\n",
       "      <td>good and interesting</td>\n",
       "    </tr>\n",
       "    <tr>\n",
       "      <th>1</th>\n",
       "      <td>This class is very helpful to me. Currently, I...</td>\n",
       "    </tr>\n",
       "    <tr>\n",
       "      <th>2</th>\n",
       "      <td>like!Prof and TAs are helpful and the discussi...</td>\n",
       "    </tr>\n",
       "    <tr>\n",
       "      <th>3</th>\n",
       "      <td>Easy to follow and includes a lot basic and im...</td>\n",
       "    </tr>\n",
       "    <tr>\n",
       "      <th>4</th>\n",
       "      <td>Really nice teacher!I could got the point eazl...</td>\n",
       "    </tr>\n",
       "    <tr>\n",
       "      <th>...</th>\n",
       "      <td>...</td>\n",
       "    </tr>\n",
       "    <tr>\n",
       "      <th>596</th>\n",
       "      <td>Good content but the Chinese translation is ba...</td>\n",
       "    </tr>\n",
       "    <tr>\n",
       "      <th>597</th>\n",
       "      <td>Not difficult to understand,interesting,helpfu...</td>\n",
       "    </tr>\n",
       "    <tr>\n",
       "      <th>598</th>\n",
       "      <td>very useful course. And thank for professor's ...</td>\n",
       "    </tr>\n",
       "    <tr>\n",
       "      <th>599</th>\n",
       "      <td>An interesting course and thank you for transl...</td>\n",
       "    </tr>\n",
       "    <tr>\n",
       "      <th>600</th>\n",
       "      <td>The course is more about business competitive ...</td>\n",
       "    </tr>\n",
       "  </tbody>\n",
       "</table>\n",
       "<p>601 rows × 1 columns</p>\n",
       "</div>"
      ],
      "text/plain": [
       "                                                Review\n",
       "0                                 good and interesting\n",
       "1    This class is very helpful to me. Currently, I...\n",
       "2    like!Prof and TAs are helpful and the discussi...\n",
       "3    Easy to follow and includes a lot basic and im...\n",
       "4    Really nice teacher!I could got the point eazl...\n",
       "..                                                 ...\n",
       "596  Good content but the Chinese translation is ba...\n",
       "597  Not difficult to understand,interesting,helpfu...\n",
       "598  very useful course. And thank for professor's ...\n",
       "599  An interesting course and thank you for transl...\n",
       "600  The course is more about business competitive ...\n",
       "\n",
       "[601 rows x 1 columns]"
      ]
     },
     "execution_count": 28,
     "metadata": {},
     "output_type": "execute_result"
    }
   ],
   "source": [
    "df.drop(columns=['Id','Label'],inplace=True)\n",
    "df"
   ]
  },
  {
   "cell_type": "markdown",
   "metadata": {
    "id": "8rQQR7ZDeTVh"
   },
   "source": [
    "## Adding Mentee And Mentor ID's Mock Data to the data frame"
   ]
  },
  {
   "cell_type": "code",
   "execution_count": 29,
   "metadata": {
    "id": "hEKLqbVqY--t"
   },
   "outputs": [],
   "source": [
    "df['mentor_id'] =[\"O\" + str(hash(r.randint(2000000, 70000000000000000))) for _ in range(df.shape[0]) ]"
   ]
  },
  {
   "cell_type": "code",
   "execution_count": 30,
   "metadata": {
    "id": "T05YqjGAd7aL"
   },
   "outputs": [],
   "source": [
    "df['mentee_id'] = [\"E\" + str(r.randint(1000000, 70000000000000)) for _ in range(df.shape[0])]"
   ]
  },
  {
   "cell_type": "code",
   "execution_count": 31,
   "metadata": {
    "colab": {
     "base_uri": "https://localhost:8080/",
     "height": 424
    },
    "id": "3av4tswbd73i",
    "outputId": "473eb396-33d1-4c8e-e3d9-02bd4cbeb185"
   },
   "outputs": [
    {
     "data": {
      "text/html": [
       "<div>\n",
       "<style scoped>\n",
       "    .dataframe tbody tr th:only-of-type {\n",
       "        vertical-align: middle;\n",
       "    }\n",
       "\n",
       "    .dataframe tbody tr th {\n",
       "        vertical-align: top;\n",
       "    }\n",
       "\n",
       "    .dataframe thead th {\n",
       "        text-align: right;\n",
       "    }\n",
       "</style>\n",
       "<table border=\"1\" class=\"dataframe\">\n",
       "  <thead>\n",
       "    <tr style=\"text-align: right;\">\n",
       "      <th></th>\n",
       "      <th>Review</th>\n",
       "      <th>mentor_id</th>\n",
       "      <th>mentee_id</th>\n",
       "    </tr>\n",
       "  </thead>\n",
       "  <tbody>\n",
       "    <tr>\n",
       "      <th>0</th>\n",
       "      <td>good and interesting</td>\n",
       "      <td>O39355616041357391</td>\n",
       "      <td>E47787056121618</td>\n",
       "    </tr>\n",
       "    <tr>\n",
       "      <th>1</th>\n",
       "      <td>This class is very helpful to me. Currently, I...</td>\n",
       "      <td>O63711415249884942</td>\n",
       "      <td>E6346282026941</td>\n",
       "    </tr>\n",
       "    <tr>\n",
       "      <th>2</th>\n",
       "      <td>like!Prof and TAs are helpful and the discussi...</td>\n",
       "      <td>O16815631995085741</td>\n",
       "      <td>E64575036208164</td>\n",
       "    </tr>\n",
       "    <tr>\n",
       "      <th>3</th>\n",
       "      <td>Easy to follow and includes a lot basic and im...</td>\n",
       "      <td>O20184069259210825</td>\n",
       "      <td>E58600201785405</td>\n",
       "    </tr>\n",
       "    <tr>\n",
       "      <th>4</th>\n",
       "      <td>Really nice teacher!I could got the point eazl...</td>\n",
       "      <td>O34181235347619286</td>\n",
       "      <td>E26707882022356</td>\n",
       "    </tr>\n",
       "    <tr>\n",
       "      <th>...</th>\n",
       "      <td>...</td>\n",
       "      <td>...</td>\n",
       "      <td>...</td>\n",
       "    </tr>\n",
       "    <tr>\n",
       "      <th>596</th>\n",
       "      <td>Good content but the Chinese translation is ba...</td>\n",
       "      <td>O10389185951347790</td>\n",
       "      <td>E52381453386515</td>\n",
       "    </tr>\n",
       "    <tr>\n",
       "      <th>597</th>\n",
       "      <td>Not difficult to understand,interesting,helpfu...</td>\n",
       "      <td>O61229146869824254</td>\n",
       "      <td>E64169106164949</td>\n",
       "    </tr>\n",
       "    <tr>\n",
       "      <th>598</th>\n",
       "      <td>very useful course. And thank for professor's ...</td>\n",
       "      <td>O64067248228440244</td>\n",
       "      <td>E20782132835034</td>\n",
       "    </tr>\n",
       "    <tr>\n",
       "      <th>599</th>\n",
       "      <td>An interesting course and thank you for transl...</td>\n",
       "      <td>O11742605999752129</td>\n",
       "      <td>E3410031542639</td>\n",
       "    </tr>\n",
       "    <tr>\n",
       "      <th>600</th>\n",
       "      <td>The course is more about business competitive ...</td>\n",
       "      <td>O14768906741089846</td>\n",
       "      <td>E68333125128075</td>\n",
       "    </tr>\n",
       "  </tbody>\n",
       "</table>\n",
       "<p>601 rows × 3 columns</p>\n",
       "</div>"
      ],
      "text/plain": [
       "                                                Review           mentor_id  \\\n",
       "0                                 good and interesting  O39355616041357391   \n",
       "1    This class is very helpful to me. Currently, I...  O63711415249884942   \n",
       "2    like!Prof and TAs are helpful and the discussi...  O16815631995085741   \n",
       "3    Easy to follow and includes a lot basic and im...  O20184069259210825   \n",
       "4    Really nice teacher!I could got the point eazl...  O34181235347619286   \n",
       "..                                                 ...                 ...   \n",
       "596  Good content but the Chinese translation is ba...  O10389185951347790   \n",
       "597  Not difficult to understand,interesting,helpfu...  O61229146869824254   \n",
       "598  very useful course. And thank for professor's ...  O64067248228440244   \n",
       "599  An interesting course and thank you for transl...  O11742605999752129   \n",
       "600  The course is more about business competitive ...  O14768906741089846   \n",
       "\n",
       "           mentee_id  \n",
       "0    E47787056121618  \n",
       "1     E6346282026941  \n",
       "2    E64575036208164  \n",
       "3    E58600201785405  \n",
       "4    E26707882022356  \n",
       "..               ...  \n",
       "596  E52381453386515  \n",
       "597  E64169106164949  \n",
       "598  E20782132835034  \n",
       "599   E3410031542639  \n",
       "600  E68333125128075  \n",
       "\n",
       "[601 rows x 3 columns]"
      ]
     },
     "execution_count": 31,
     "metadata": {},
     "output_type": "execute_result"
    }
   ],
   "source": [
    "df"
   ]
  },
  {
   "cell_type": "code",
   "execution_count": 32,
   "metadata": {},
   "outputs": [],
   "source": [
    "def one_vader_score(text):\n",
    "    return vader.polarity_scores(text)['compound']"
   ]
  },
  {
   "cell_type": "code",
   "execution_count": 33,
   "metadata": {},
   "outputs": [
    {
     "data": {
      "text/plain": [
       "0      0.6808\n",
       "1      0.4754\n",
       "2      0.8843\n",
       "3      0.5719\n",
       "4      0.3266\n",
       "        ...  \n",
       "596   -0.5859\n",
       "597    0.2755\n",
       "598    0.8070\n",
       "599    0.6369\n",
       "600    0.3084\n",
       "Name: Review, Length: 601, dtype: float64"
      ]
     },
     "execution_count": 33,
     "metadata": {},
     "output_type": "execute_result"
    }
   ],
   "source": [
    "df['Review'].apply(one_vader_score)\n"
   ]
  },
  {
   "cell_type": "code",
   "execution_count": 34,
   "metadata": {},
   "outputs": [],
   "source": [
    "df[\"compound_score\"] = df['Review'].apply(one_vader_score)"
   ]
  },
  {
   "cell_type": "code",
   "execution_count": 35,
   "metadata": {},
   "outputs": [
    {
     "data": {
      "text/html": [
       "<div>\n",
       "<style scoped>\n",
       "    .dataframe tbody tr th:only-of-type {\n",
       "        vertical-align: middle;\n",
       "    }\n",
       "\n",
       "    .dataframe tbody tr th {\n",
       "        vertical-align: top;\n",
       "    }\n",
       "\n",
       "    .dataframe thead th {\n",
       "        text-align: right;\n",
       "    }\n",
       "</style>\n",
       "<table border=\"1\" class=\"dataframe\">\n",
       "  <thead>\n",
       "    <tr style=\"text-align: right;\">\n",
       "      <th></th>\n",
       "      <th>Review</th>\n",
       "      <th>mentor_id</th>\n",
       "      <th>mentee_id</th>\n",
       "      <th>compound_score</th>\n",
       "    </tr>\n",
       "  </thead>\n",
       "  <tbody>\n",
       "    <tr>\n",
       "      <th>0</th>\n",
       "      <td>good and interesting</td>\n",
       "      <td>O39355616041357391</td>\n",
       "      <td>E47787056121618</td>\n",
       "      <td>0.6808</td>\n",
       "    </tr>\n",
       "    <tr>\n",
       "      <th>1</th>\n",
       "      <td>This class is very helpful to me. Currently, I...</td>\n",
       "      <td>O63711415249884942</td>\n",
       "      <td>E6346282026941</td>\n",
       "      <td>0.4754</td>\n",
       "    </tr>\n",
       "    <tr>\n",
       "      <th>2</th>\n",
       "      <td>like!Prof and TAs are helpful and the discussi...</td>\n",
       "      <td>O16815631995085741</td>\n",
       "      <td>E64575036208164</td>\n",
       "      <td>0.8843</td>\n",
       "    </tr>\n",
       "    <tr>\n",
       "      <th>3</th>\n",
       "      <td>Easy to follow and includes a lot basic and im...</td>\n",
       "      <td>O20184069259210825</td>\n",
       "      <td>E58600201785405</td>\n",
       "      <td>0.5719</td>\n",
       "    </tr>\n",
       "    <tr>\n",
       "      <th>4</th>\n",
       "      <td>Really nice teacher!I could got the point eazl...</td>\n",
       "      <td>O34181235347619286</td>\n",
       "      <td>E26707882022356</td>\n",
       "      <td>0.3266</td>\n",
       "    </tr>\n",
       "  </tbody>\n",
       "</table>\n",
       "</div>"
      ],
      "text/plain": [
       "                                              Review           mentor_id  \\\n",
       "0                               good and interesting  O39355616041357391   \n",
       "1  This class is very helpful to me. Currently, I...  O63711415249884942   \n",
       "2  like!Prof and TAs are helpful and the discussi...  O16815631995085741   \n",
       "3  Easy to follow and includes a lot basic and im...  O20184069259210825   \n",
       "4  Really nice teacher!I could got the point eazl...  O34181235347619286   \n",
       "\n",
       "         mentee_id  compound_score  \n",
       "0  E47787056121618          0.6808  \n",
       "1   E6346282026941          0.4754  \n",
       "2  E64575036208164          0.8843  \n",
       "3  E58600201785405          0.5719  \n",
       "4  E26707882022356          0.3266  "
      ]
     },
     "execution_count": 35,
     "metadata": {},
     "output_type": "execute_result"
    }
   ],
   "source": [
    "df.head()"
   ]
  },
  {
   "cell_type": "code",
   "execution_count": 36,
   "metadata": {},
   "outputs": [],
   "source": [
    "def is_positive(number):\n",
    "    if number >= 0.05:\n",
    "        return 1\n",
    "    else:\n",
    "        return 0"
   ]
  },
  {
   "cell_type": "code",
   "execution_count": 37,
   "metadata": {},
   "outputs": [],
   "source": [
    "df['positive'] = df['compound_score'].apply(is_positive)"
   ]
  },
  {
   "cell_type": "code",
   "execution_count": 38,
   "metadata": {},
   "outputs": [
    {
     "data": {
      "text/html": [
       "<div>\n",
       "<style scoped>\n",
       "    .dataframe tbody tr th:only-of-type {\n",
       "        vertical-align: middle;\n",
       "    }\n",
       "\n",
       "    .dataframe tbody tr th {\n",
       "        vertical-align: top;\n",
       "    }\n",
       "\n",
       "    .dataframe thead th {\n",
       "        text-align: right;\n",
       "    }\n",
       "</style>\n",
       "<table border=\"1\" class=\"dataframe\">\n",
       "  <thead>\n",
       "    <tr style=\"text-align: right;\">\n",
       "      <th></th>\n",
       "      <th>Review</th>\n",
       "      <th>mentor_id</th>\n",
       "      <th>mentee_id</th>\n",
       "      <th>compound_score</th>\n",
       "      <th>positive</th>\n",
       "    </tr>\n",
       "  </thead>\n",
       "  <tbody>\n",
       "    <tr>\n",
       "      <th>0</th>\n",
       "      <td>good and interesting</td>\n",
       "      <td>O39355616041357391</td>\n",
       "      <td>E47787056121618</td>\n",
       "      <td>0.6808</td>\n",
       "      <td>1</td>\n",
       "    </tr>\n",
       "    <tr>\n",
       "      <th>1</th>\n",
       "      <td>This class is very helpful to me. Currently, I...</td>\n",
       "      <td>O63711415249884942</td>\n",
       "      <td>E6346282026941</td>\n",
       "      <td>0.4754</td>\n",
       "      <td>1</td>\n",
       "    </tr>\n",
       "    <tr>\n",
       "      <th>2</th>\n",
       "      <td>like!Prof and TAs are helpful and the discussi...</td>\n",
       "      <td>O16815631995085741</td>\n",
       "      <td>E64575036208164</td>\n",
       "      <td>0.8843</td>\n",
       "      <td>1</td>\n",
       "    </tr>\n",
       "    <tr>\n",
       "      <th>3</th>\n",
       "      <td>Easy to follow and includes a lot basic and im...</td>\n",
       "      <td>O20184069259210825</td>\n",
       "      <td>E58600201785405</td>\n",
       "      <td>0.5719</td>\n",
       "      <td>1</td>\n",
       "    </tr>\n",
       "    <tr>\n",
       "      <th>4</th>\n",
       "      <td>Really nice teacher!I could got the point eazl...</td>\n",
       "      <td>O34181235347619286</td>\n",
       "      <td>E26707882022356</td>\n",
       "      <td>0.3266</td>\n",
       "      <td>1</td>\n",
       "    </tr>\n",
       "  </tbody>\n",
       "</table>\n",
       "</div>"
      ],
      "text/plain": [
       "                                              Review           mentor_id  \\\n",
       "0                               good and interesting  O39355616041357391   \n",
       "1  This class is very helpful to me. Currently, I...  O63711415249884942   \n",
       "2  like!Prof and TAs are helpful and the discussi...  O16815631995085741   \n",
       "3  Easy to follow and includes a lot basic and im...  O20184069259210825   \n",
       "4  Really nice teacher!I could got the point eazl...  O34181235347619286   \n",
       "\n",
       "         mentee_id  compound_score  positive  \n",
       "0  E47787056121618          0.6808         1  \n",
       "1   E6346282026941          0.4754         1  \n",
       "2  E64575036208164          0.8843         1  \n",
       "3  E58600201785405          0.5719         1  \n",
       "4  E26707882022356          0.3266         1  "
      ]
     },
     "execution_count": 38,
     "metadata": {},
     "output_type": "execute_result"
    }
   ],
   "source": [
    "df.head()"
   ]
  },
  {
   "cell_type": "code",
   "execution_count": 39,
   "metadata": {},
   "outputs": [
    {
     "data": {
      "text/plain": [
       "1    523\n",
       "0     78\n",
       "Name: positive, dtype: int64"
      ]
     },
     "execution_count": 39,
     "metadata": {},
     "output_type": "execute_result"
    }
   ],
   "source": [
    "df['positive'].value_counts()"
   ]
  },
  {
   "cell_type": "code",
   "execution_count": 40,
   "metadata": {},
   "outputs": [],
   "source": [
    "df.to_csv('reviews_with_sentiment.csv', encoding = 'utf-8')"
   ]
  },
  {
   "cell_type": "code",
   "execution_count": null,
   "metadata": {},
   "outputs": [],
   "source": []
  }
 ],
 "metadata": {
  "colab": {
   "name": "Generating Mock Review Data.ipynb",
   "provenance": []
  },
  "kernelspec": {
   "display_name": "underdog",
   "language": "python",
   "name": "underdog"
  },
  "language_info": {
   "codemirror_mode": {
    "name": "ipython",
    "version": 3
   },
   "file_extension": ".py",
   "mimetype": "text/x-python",
   "name": "python",
   "nbconvert_exporter": "python",
   "pygments_lexer": "ipython3",
   "version": "3.8.8"
  }
 },
 "nbformat": 4,
 "nbformat_minor": 1
}
