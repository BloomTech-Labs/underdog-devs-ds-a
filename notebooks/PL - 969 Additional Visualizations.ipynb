{
 "cells": [
  {
   "cell_type": "code",
   "execution_count": 7,
   "id": "15407531",
   "metadata": {},
   "outputs": [
    {
     "name": "stdout",
     "output_type": "stream",
     "text": [
      " Volume in drive C is Windows\n",
      " Volume Serial Number is 2E02-6A6F\n",
      "\n",
      " Directory of C:\\Users\\tophe\\PycharmProjects\\underdog-devs-ds-a\n",
      "\n",
      "09/23/2022  11:33 AM    <DIR>          .\n",
      "09/22/2022  01:43 PM    <DIR>          ..\n",
      "09/12/2022  03:24 PM               197 .ebignore\n",
      "09/12/2022  03:40 PM                89 .env\n",
      "09/12/2022  03:24 PM               335 .gitignore\n",
      "09/23/2022  11:29 AM    <DIR>          .idea\n",
      "09/23/2022  11:33 AM    <DIR>          .ipynb_checkpoints\n",
      "09/23/2022  11:28 AM    <DIR>          app\n",
      "09/12/2022  03:24 PM    <DIR>          assets\n",
      "09/12/2022  03:24 PM                30 CODEOWNERS\n",
      "09/23/2022  10:59 AM    <DIR>          data_generators\n",
      "09/12/2022  03:24 PM             1,107 LICENSE\n",
      "09/23/2022  11:30 AM    <DIR>          notebooks\n",
      "09/23/2022  11:33 AM                72 PL - 969 Additional Visualizations.ipynb\n",
      "09/12/2022  03:24 PM                65 Procfile\n",
      "09/12/2022  03:24 PM               731 pull_request_template.md\n",
      "09/12/2022  03:24 PM            12,159 README.md\n",
      "09/15/2022  08:51 AM               196 requirements.txt\n",
      "09/12/2022  03:24 PM                40 run.sh\n",
      "09/12/2022  03:24 PM                33 seed.sh\n",
      "09/12/2022  03:24 PM    <DIR>          tests\n",
      "09/12/2022  03:28 PM    <DIR>          venv\n",
      "              12 File(s)         15,054 bytes\n",
      "              10 Dir(s)  168,569,466,880 bytes free\n"
     ]
    }
   ],
   "source": [
    "# !cd ../\n",
    "!dir"
   ]
  },
  {
   "cell_type": "code",
   "execution_count": 3,
   "id": "81228ac7",
   "metadata": {},
   "outputs": [],
   "source": [
    "import pandas as pd\n",
    "from altair import Chart, Tooltip, Color, X, Y\n",
    "from pandas import DataFrame"
   ]
  },
  {
   "cell_type": "code",
   "execution_count": 8,
   "id": "582016e5",
   "metadata": {},
   "outputs": [],
   "source": [
    "from app.data import MongoDB"
   ]
  },
  {
   "cell_type": "code",
   "execution_count": null,
   "id": "de9bca60",
   "metadata": {},
   "outputs": [],
   "source": []
  }
 ],
 "metadata": {
  "kernelspec": {
   "display_name": "Python 3 (ipykernel)",
   "language": "python",
   "name": "python3"
  },
  "language_info": {
   "codemirror_mode": {
    "name": "ipython",
    "version": 3
   },
   "file_extension": ".py",
   "mimetype": "text/x-python",
   "name": "python",
   "nbconvert_exporter": "python",
   "pygments_lexer": "ipython3",
   "version": "3.8.10"
  }
 },
 "nbformat": 4,
 "nbformat_minor": 5
}
