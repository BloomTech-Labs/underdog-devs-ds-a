{
 "cells": [
  {
   "cell_type": "code",
   "execution_count": 37,
   "outputs": [],
   "source": [
    "from pandas import DataFrame\n",
    "import altair as alt\n",
    "\n",
    "from app.data import MongoDB\n",
    "from app.vader_sentiment import vader_score"
   ],
   "metadata": {
    "collapsed": false,
    "pycharm": {
     "name": "#%%\n"
    }
   }
  },
  {
   "cell_type": "code",
   "execution_count": 96,
   "metadata": {
    "collapsed": true
   },
   "outputs": [],
   "source": [
    "db = MongoDB(\"UnderdogDevs\")"
   ]
  },
  {
   "cell_type": "code",
   "execution_count": 210,
   "outputs": [
    {
     "data": {
      "text/plain": "           ticket_id         mentee_id         mentor_id  \\\n0   5zH33634G20frjtw  2I3F8AnM3A0604Te  5Jy4q5r4D33c7Q1m   \n1   N004aW223Mz5G5kJ  SXt75FP07B4182dX  Vy07lKB3315F6V4X   \n2   717gXBKJS23S678i  i4cQ68W40kNh3y12  0p8445Whz5bZ8T7E   \n3   5rh6D5ieo435n62e  oVR212X40qQuF732  1TUz144A1PLt73K3   \n4   02k4KJ2j1yO026Xg  42dM2mi4p18mN7V6  1s7Mz5b53C13v8Ej   \n5   5hZ8fW8378C6gBU1  1kL61g8aFR0b4x64  1TUz144A1PLt73K3   \n6   8phd5x0f5l6Rn022  08T605Phpa114aZi  4KIa3aebb57Q6665   \n7   a06S73T8s45tLc5W  k5R8g38dl8462CCi  XQKW03QX1E2026d4   \n8   V72ehD7168w7w5vm  d62iJ61XEHW4t568  1s7Mz5b53C13v8Ej   \n9   6sAUU5o47H14eT23  4hWYoB8017v28u7h  1TUz144A1PLt73K3   \n10  5J0C52QVVq3u013Q  s7d61n2n48qY2h4s  XQKW03QX1E2026d4   \n11  Q2zJ5Hdn62M8422G  s7d61n2n48qY2h4s  4KIa3aebb57Q6665   \n12  4fRk1vB58sd663H7  f285idQn632al72E  5Jy4q5r4D33c7Q1m   \n13  4K11ZnKk1c83MQ84  z1178nVe3A13E2js  15V8P5mR66Om7oO5   \n14  6i15307XBL6Mu5vH  7Ckt8R15v6323UEq  XQKW03QX1E2026d4   \n15  i04z0KUO6aX2560A  506Z2p1U10gdMho1  D1l0xBns1A611r50   \n16  Si8bMI6254q6q2V3  7G4F01On44C8A5QK  0p8445Whz5bZ8T7E   \n17  5m453Ull13W02Wfp  p14KWo8Z2uTT6710  U71Z0apg7gQD2034   \n18  104Bzd3G3bt185ei  X3nbQ4zvh00u8586  3125u0I5S7kJzsG1   \n19  738K2D247FgTf1WB  v5yr731NB642TN7u  eL4ICQo0sW102085   \n20  4znW3Q08Yh0Y27Z0  848QoDJrF643z7F4  LM1e5rvd8c357L88   \n21  us087i4OXiG252v2  mJg40jd5HG4g4257  0040IcL6w72TXkG5   \n22  TTVy2O46vK01128F  BFhp30s5b74070di  cV8R656eST8Ln165   \n23  3b813Q28SdI5u0Ig  07sx43KQw642sTk6  1TUz144A1PLt73K3   \n24  oJ7RWU1285sc5o23  pGHXZ7757V3G218G  eL4ICQo0sW102085   \n25  6yjo0eNr5O8021s4  d5ot3643rZ0WGY81  2ZWBG22732e3A2JQ   \n26  JS0A80v7o37I4Z8h  M3550A5Zh4c4E7Mo  XQKW03QX1E2026d4   \n27  b202PK6fA84pRG15  5s4g50s785PwAEK8  D1l0xBns1A611r50   \n28  360L7Y8lmN4t86tW  SXt75FP07B4182dX  D1l0xBns1A611r50   \n29  j575ac527aeg6QN1  f285idQn632al72E  31770zli7N8Jenf1   \n30  ZH55iB436803usHx  M3550A5Zh4c4E7Mo  15V8P5mR66Om7oO5   \n31  nBWJV4063V1j27W6  M871b34xL8hg5V8c  Vy07lKB3315F6V4X   \n32  G265n3z0AJ78Yyw2  223H4d1mYq7L6P8i  D1l0xBns1A611r50   \n33  5rU25766MUmBKG51  07sx43KQw642sTk6  U71Z0apg7gQD2034   \n34  R1Z4cG6D6685OAA0  A3yFd7IR07m4U880  15V8P5mR66Om7oO5   \n35  47b6875yqtCsF36g  0a5kelj755yR643c  3125u0I5S7kJzsG1   \n36  Ng4N7110Z0cW2J2Z  F00DVP3uC10712KJ  0p8445Whz5bZ8T7E   \n37  C8u0Lo46y57JH6b0  d5ot3643rZ0WGY81  cV8R656eST8Ln165   \n38  a3U168rY6XB4oY20  Ry1FXf8Y5871df33  15V8P5mR66Om7oO5   \n39  15z352kL61dyiHg1  M3550A5Zh4c4E7Mo  31770zli7N8Jenf1   \n40  86DgC180Nx1LeH54  g0p8j6g05Ej3ij74  1TUz144A1PLt73K3   \n41  54B4630WqaPh3U4T  D32N4ej56150RolX  Vy07lKB3315F6V4X   \n42  6teU6ko71CQ2322x  E4W3o2At08Gx4g42  A7gaE151GQ4r3W42   \n43  25c3Qo02Py14yEt4  261i2DFo2A52t4Xz  1TUz144A1PLt73K3   \n44  63d2jXd334O4N4uF  SXt75FP07B4182dX  1s7Mz5b53C13v8Ej   \n45  ls2oN76Z4ywB0882  k648i8gG27R06hPZ  4KIa3aebb57Q6665   \n46  Y6060Uu0N24bgG4r  04hC7Hn6tsI5712k  2ZWBG22732e3A2JQ   \n47  V56Z0O6g5ew8RW14  k1x0t12RZ8qe502v  5Jy4q5r4D33c7Q1m   \n48  Em8J44F6wK4E8i86  IFJ37IO7Z07O7k32  U71Z0apg7gQD2034   \n49  a6pKL578zhw8l766  k648i8gG27R06hPZ  cV8R656eST8Ln165   \n\n                                             feedback  \n0                                good introduction!!!  \n1   This is a great introduction to 3D printing. I...  \n2   Great course. A must for every individual who ...  \n3        Thank you for this course, very good course.  \n4   Excellent course and it has opened my eyes to ...  \n5   If you don't speak Chinese it's a terrible cou...  \n6   Week 4 was the best and the more appropiate fo...  \n7                                             Thanks.  \n8   to easy. enjoy everyone! also children to old ...  \n9   Great course, I just wanted it to be more thor...  \n10  I have learned so much about using Ableton Liv...  \n11  great course with great dissection videos. cou...  \n12  Very informative course. Prof. Bushee is hilar...  \n13              Extremely useful, powerful and course  \n14      Have got a great insight towards 3D Printing.  \n15  Outstanding, clear, well-explained, not overwh...  \n16  While I enjoyed this course and the topics cov...  \n17                           It's a very good course.  \n18  One of the excellent courses at Coursera for i...  \n19  I am very glad to see courses like this one on...  \n20  Great intro! The videos were fantastic and ins...  \n21  Excelent! Lots of information and really inter...  \n22                       Eye and mind opening course.  \n23  Finally i am able to complete this course. Thi...  \n24                  Excellent! the best way to learn!  \n25  Great introduction to Accounting Analytics. Un...  \n26  Very interesting course, well designed, using ...  \n27  The male Professors seem to speak Chinese half...  \n28                 Great course and very informative.  \n29  Great piece of work, I especially liked a few ...  \n30  A lot of speaking without any sense. Skip it a...  \n31  Excellent overview of the ways in which 3D pri...  \n32  One of the best introduction to Ableton Live. ...  \n33  This is a good course for an CIO in a non tech...  \n34  This is a great introduction to 3d printing an...  \n35  This course doesn't contain any new informatio...  \n36                         GREAT!! thanks a lot :) :)  \n37  Excellent course and it has opened my eyes to ...  \n38  Great introduction to Ableton 9 for a newcomer...  \n39  Very informative an approachable course. I rea...  \n40  Very complete and extensive.The weeks actually...  \n41  Very informative and interactive. I like the s...  \n42  week 1 and 2 were kind of boring, but maybe ne...  \n43                                               cool  \n44  This course is very interesting, enlightening ...  \n45  The course itself is good. Nevertheless, it sa...  \n46  This is a great introduction to 3D printing. I...  \n47  Excellent course you should make more courses ...  \n48                                      Great course!  \n49  It gave me a good understanding of the softwar...  ",
      "text/html": "<div>\n<style scoped>\n    .dataframe tbody tr th:only-of-type {\n        vertical-align: middle;\n    }\n\n    .dataframe tbody tr th {\n        vertical-align: top;\n    }\n\n    .dataframe thead th {\n        text-align: right;\n    }\n</style>\n<table border=\"1\" class=\"dataframe\">\n  <thead>\n    <tr style=\"text-align: right;\">\n      <th></th>\n      <th>ticket_id</th>\n      <th>mentee_id</th>\n      <th>mentor_id</th>\n      <th>feedback</th>\n    </tr>\n  </thead>\n  <tbody>\n    <tr>\n      <th>0</th>\n      <td>5zH33634G20frjtw</td>\n      <td>2I3F8AnM3A0604Te</td>\n      <td>5Jy4q5r4D33c7Q1m</td>\n      <td>good introduction!!!</td>\n    </tr>\n    <tr>\n      <th>1</th>\n      <td>N004aW223Mz5G5kJ</td>\n      <td>SXt75FP07B4182dX</td>\n      <td>Vy07lKB3315F6V4X</td>\n      <td>This is a great introduction to 3D printing. I...</td>\n    </tr>\n    <tr>\n      <th>2</th>\n      <td>717gXBKJS23S678i</td>\n      <td>i4cQ68W40kNh3y12</td>\n      <td>0p8445Whz5bZ8T7E</td>\n      <td>Great course. A must for every individual who ...</td>\n    </tr>\n    <tr>\n      <th>3</th>\n      <td>5rh6D5ieo435n62e</td>\n      <td>oVR212X40qQuF732</td>\n      <td>1TUz144A1PLt73K3</td>\n      <td>Thank you for this course, very good course.</td>\n    </tr>\n    <tr>\n      <th>4</th>\n      <td>02k4KJ2j1yO026Xg</td>\n      <td>42dM2mi4p18mN7V6</td>\n      <td>1s7Mz5b53C13v8Ej</td>\n      <td>Excellent course and it has opened my eyes to ...</td>\n    </tr>\n    <tr>\n      <th>5</th>\n      <td>5hZ8fW8378C6gBU1</td>\n      <td>1kL61g8aFR0b4x64</td>\n      <td>1TUz144A1PLt73K3</td>\n      <td>If you don't speak Chinese it's a terrible cou...</td>\n    </tr>\n    <tr>\n      <th>6</th>\n      <td>8phd5x0f5l6Rn022</td>\n      <td>08T605Phpa114aZi</td>\n      <td>4KIa3aebb57Q6665</td>\n      <td>Week 4 was the best and the more appropiate fo...</td>\n    </tr>\n    <tr>\n      <th>7</th>\n      <td>a06S73T8s45tLc5W</td>\n      <td>k5R8g38dl8462CCi</td>\n      <td>XQKW03QX1E2026d4</td>\n      <td>Thanks.</td>\n    </tr>\n    <tr>\n      <th>8</th>\n      <td>V72ehD7168w7w5vm</td>\n      <td>d62iJ61XEHW4t568</td>\n      <td>1s7Mz5b53C13v8Ej</td>\n      <td>to easy. enjoy everyone! also children to old ...</td>\n    </tr>\n    <tr>\n      <th>9</th>\n      <td>6sAUU5o47H14eT23</td>\n      <td>4hWYoB8017v28u7h</td>\n      <td>1TUz144A1PLt73K3</td>\n      <td>Great course, I just wanted it to be more thor...</td>\n    </tr>\n    <tr>\n      <th>10</th>\n      <td>5J0C52QVVq3u013Q</td>\n      <td>s7d61n2n48qY2h4s</td>\n      <td>XQKW03QX1E2026d4</td>\n      <td>I have learned so much about using Ableton Liv...</td>\n    </tr>\n    <tr>\n      <th>11</th>\n      <td>Q2zJ5Hdn62M8422G</td>\n      <td>s7d61n2n48qY2h4s</td>\n      <td>4KIa3aebb57Q6665</td>\n      <td>great course with great dissection videos. cou...</td>\n    </tr>\n    <tr>\n      <th>12</th>\n      <td>4fRk1vB58sd663H7</td>\n      <td>f285idQn632al72E</td>\n      <td>5Jy4q5r4D33c7Q1m</td>\n      <td>Very informative course. Prof. Bushee is hilar...</td>\n    </tr>\n    <tr>\n      <th>13</th>\n      <td>4K11ZnKk1c83MQ84</td>\n      <td>z1178nVe3A13E2js</td>\n      <td>15V8P5mR66Om7oO5</td>\n      <td>Extremely useful, powerful and course</td>\n    </tr>\n    <tr>\n      <th>14</th>\n      <td>6i15307XBL6Mu5vH</td>\n      <td>7Ckt8R15v6323UEq</td>\n      <td>XQKW03QX1E2026d4</td>\n      <td>Have got a great insight towards 3D Printing.</td>\n    </tr>\n    <tr>\n      <th>15</th>\n      <td>i04z0KUO6aX2560A</td>\n      <td>506Z2p1U10gdMho1</td>\n      <td>D1l0xBns1A611r50</td>\n      <td>Outstanding, clear, well-explained, not overwh...</td>\n    </tr>\n    <tr>\n      <th>16</th>\n      <td>Si8bMI6254q6q2V3</td>\n      <td>7G4F01On44C8A5QK</td>\n      <td>0p8445Whz5bZ8T7E</td>\n      <td>While I enjoyed this course and the topics cov...</td>\n    </tr>\n    <tr>\n      <th>17</th>\n      <td>5m453Ull13W02Wfp</td>\n      <td>p14KWo8Z2uTT6710</td>\n      <td>U71Z0apg7gQD2034</td>\n      <td>It's a very good course.</td>\n    </tr>\n    <tr>\n      <th>18</th>\n      <td>104Bzd3G3bt185ei</td>\n      <td>X3nbQ4zvh00u8586</td>\n      <td>3125u0I5S7kJzsG1</td>\n      <td>One of the excellent courses at Coursera for i...</td>\n    </tr>\n    <tr>\n      <th>19</th>\n      <td>738K2D247FgTf1WB</td>\n      <td>v5yr731NB642TN7u</td>\n      <td>eL4ICQo0sW102085</td>\n      <td>I am very glad to see courses like this one on...</td>\n    </tr>\n    <tr>\n      <th>20</th>\n      <td>4znW3Q08Yh0Y27Z0</td>\n      <td>848QoDJrF643z7F4</td>\n      <td>LM1e5rvd8c357L88</td>\n      <td>Great intro! The videos were fantastic and ins...</td>\n    </tr>\n    <tr>\n      <th>21</th>\n      <td>us087i4OXiG252v2</td>\n      <td>mJg40jd5HG4g4257</td>\n      <td>0040IcL6w72TXkG5</td>\n      <td>Excelent! Lots of information and really inter...</td>\n    </tr>\n    <tr>\n      <th>22</th>\n      <td>TTVy2O46vK01128F</td>\n      <td>BFhp30s5b74070di</td>\n      <td>cV8R656eST8Ln165</td>\n      <td>Eye and mind opening course.</td>\n    </tr>\n    <tr>\n      <th>23</th>\n      <td>3b813Q28SdI5u0Ig</td>\n      <td>07sx43KQw642sTk6</td>\n      <td>1TUz144A1PLt73K3</td>\n      <td>Finally i am able to complete this course. Thi...</td>\n    </tr>\n    <tr>\n      <th>24</th>\n      <td>oJ7RWU1285sc5o23</td>\n      <td>pGHXZ7757V3G218G</td>\n      <td>eL4ICQo0sW102085</td>\n      <td>Excellent! the best way to learn!</td>\n    </tr>\n    <tr>\n      <th>25</th>\n      <td>6yjo0eNr5O8021s4</td>\n      <td>d5ot3643rZ0WGY81</td>\n      <td>2ZWBG22732e3A2JQ</td>\n      <td>Great introduction to Accounting Analytics. Un...</td>\n    </tr>\n    <tr>\n      <th>26</th>\n      <td>JS0A80v7o37I4Z8h</td>\n      <td>M3550A5Zh4c4E7Mo</td>\n      <td>XQKW03QX1E2026d4</td>\n      <td>Very interesting course, well designed, using ...</td>\n    </tr>\n    <tr>\n      <th>27</th>\n      <td>b202PK6fA84pRG15</td>\n      <td>5s4g50s785PwAEK8</td>\n      <td>D1l0xBns1A611r50</td>\n      <td>The male Professors seem to speak Chinese half...</td>\n    </tr>\n    <tr>\n      <th>28</th>\n      <td>360L7Y8lmN4t86tW</td>\n      <td>SXt75FP07B4182dX</td>\n      <td>D1l0xBns1A611r50</td>\n      <td>Great course and very informative.</td>\n    </tr>\n    <tr>\n      <th>29</th>\n      <td>j575ac527aeg6QN1</td>\n      <td>f285idQn632al72E</td>\n      <td>31770zli7N8Jenf1</td>\n      <td>Great piece of work, I especially liked a few ...</td>\n    </tr>\n    <tr>\n      <th>30</th>\n      <td>ZH55iB436803usHx</td>\n      <td>M3550A5Zh4c4E7Mo</td>\n      <td>15V8P5mR66Om7oO5</td>\n      <td>A lot of speaking without any sense. Skip it a...</td>\n    </tr>\n    <tr>\n      <th>31</th>\n      <td>nBWJV4063V1j27W6</td>\n      <td>M871b34xL8hg5V8c</td>\n      <td>Vy07lKB3315F6V4X</td>\n      <td>Excellent overview of the ways in which 3D pri...</td>\n    </tr>\n    <tr>\n      <th>32</th>\n      <td>G265n3z0AJ78Yyw2</td>\n      <td>223H4d1mYq7L6P8i</td>\n      <td>D1l0xBns1A611r50</td>\n      <td>One of the best introduction to Ableton Live. ...</td>\n    </tr>\n    <tr>\n      <th>33</th>\n      <td>5rU25766MUmBKG51</td>\n      <td>07sx43KQw642sTk6</td>\n      <td>U71Z0apg7gQD2034</td>\n      <td>This is a good course for an CIO in a non tech...</td>\n    </tr>\n    <tr>\n      <th>34</th>\n      <td>R1Z4cG6D6685OAA0</td>\n      <td>A3yFd7IR07m4U880</td>\n      <td>15V8P5mR66Om7oO5</td>\n      <td>This is a great introduction to 3d printing an...</td>\n    </tr>\n    <tr>\n      <th>35</th>\n      <td>47b6875yqtCsF36g</td>\n      <td>0a5kelj755yR643c</td>\n      <td>3125u0I5S7kJzsG1</td>\n      <td>This course doesn't contain any new informatio...</td>\n    </tr>\n    <tr>\n      <th>36</th>\n      <td>Ng4N7110Z0cW2J2Z</td>\n      <td>F00DVP3uC10712KJ</td>\n      <td>0p8445Whz5bZ8T7E</td>\n      <td>GREAT!! thanks a lot :) :)</td>\n    </tr>\n    <tr>\n      <th>37</th>\n      <td>C8u0Lo46y57JH6b0</td>\n      <td>d5ot3643rZ0WGY81</td>\n      <td>cV8R656eST8Ln165</td>\n      <td>Excellent course and it has opened my eyes to ...</td>\n    </tr>\n    <tr>\n      <th>38</th>\n      <td>a3U168rY6XB4oY20</td>\n      <td>Ry1FXf8Y5871df33</td>\n      <td>15V8P5mR66Om7oO5</td>\n      <td>Great introduction to Ableton 9 for a newcomer...</td>\n    </tr>\n    <tr>\n      <th>39</th>\n      <td>15z352kL61dyiHg1</td>\n      <td>M3550A5Zh4c4E7Mo</td>\n      <td>31770zli7N8Jenf1</td>\n      <td>Very informative an approachable course. I rea...</td>\n    </tr>\n    <tr>\n      <th>40</th>\n      <td>86DgC180Nx1LeH54</td>\n      <td>g0p8j6g05Ej3ij74</td>\n      <td>1TUz144A1PLt73K3</td>\n      <td>Very complete and extensive.The weeks actually...</td>\n    </tr>\n    <tr>\n      <th>41</th>\n      <td>54B4630WqaPh3U4T</td>\n      <td>D32N4ej56150RolX</td>\n      <td>Vy07lKB3315F6V4X</td>\n      <td>Very informative and interactive. I like the s...</td>\n    </tr>\n    <tr>\n      <th>42</th>\n      <td>6teU6ko71CQ2322x</td>\n      <td>E4W3o2At08Gx4g42</td>\n      <td>A7gaE151GQ4r3W42</td>\n      <td>week 1 and 2 were kind of boring, but maybe ne...</td>\n    </tr>\n    <tr>\n      <th>43</th>\n      <td>25c3Qo02Py14yEt4</td>\n      <td>261i2DFo2A52t4Xz</td>\n      <td>1TUz144A1PLt73K3</td>\n      <td>cool</td>\n    </tr>\n    <tr>\n      <th>44</th>\n      <td>63d2jXd334O4N4uF</td>\n      <td>SXt75FP07B4182dX</td>\n      <td>1s7Mz5b53C13v8Ej</td>\n      <td>This course is very interesting, enlightening ...</td>\n    </tr>\n    <tr>\n      <th>45</th>\n      <td>ls2oN76Z4ywB0882</td>\n      <td>k648i8gG27R06hPZ</td>\n      <td>4KIa3aebb57Q6665</td>\n      <td>The course itself is good. Nevertheless, it sa...</td>\n    </tr>\n    <tr>\n      <th>46</th>\n      <td>Y6060Uu0N24bgG4r</td>\n      <td>04hC7Hn6tsI5712k</td>\n      <td>2ZWBG22732e3A2JQ</td>\n      <td>This is a great introduction to 3D printing. I...</td>\n    </tr>\n    <tr>\n      <th>47</th>\n      <td>V56Z0O6g5ew8RW14</td>\n      <td>k1x0t12RZ8qe502v</td>\n      <td>5Jy4q5r4D33c7Q1m</td>\n      <td>Excellent course you should make more courses ...</td>\n    </tr>\n    <tr>\n      <th>48</th>\n      <td>Em8J44F6wK4E8i86</td>\n      <td>IFJ37IO7Z07O7k32</td>\n      <td>U71Z0apg7gQD2034</td>\n      <td>Great course!</td>\n    </tr>\n    <tr>\n      <th>49</th>\n      <td>a6pKL578zhw8l766</td>\n      <td>k648i8gG27R06hPZ</td>\n      <td>cV8R656eST8Ln165</td>\n      <td>It gave me a good understanding of the softwar...</td>\n    </tr>\n  </tbody>\n</table>\n</div>"
     },
     "execution_count": 210,
     "metadata": {},
     "output_type": "execute_result"
    }
   ],
   "source": [
    "feedback = DataFrame(db.read(\"Feedback\"))\n",
    "feedback"
   ],
   "metadata": {
    "collapsed": false,
    "pycharm": {
     "name": "#%%\n"
    }
   }
  },
  {
   "cell_type": "code",
   "execution_count": 211,
   "outputs": [],
   "source": [
    "feedback[\"sentiment\"] = feedback[\"feedback\"].apply(vader_score)"
   ],
   "metadata": {
    "collapsed": false,
    "pycharm": {
     "name": "#%%\n"
    }
   }
  },
  {
   "cell_type": "code",
   "execution_count": 212,
   "outputs": [],
   "source": [
    "mentors = DataFrame(db.read(\"Mentors\"))"
   ],
   "metadata": {
    "collapsed": false,
    "pycharm": {
     "name": "#%%\n"
    }
   }
  },
  {
   "cell_type": "code",
   "execution_count": 213,
   "outputs": [],
   "source": [
    "lookup = dict(zip(mentors[\"profile_id\"], mentors[\"name\"]))"
   ],
   "metadata": {
    "collapsed": false,
    "pycharm": {
     "name": "#%%\n"
    }
   }
  },
  {
   "cell_type": "code",
   "execution_count": 214,
   "outputs": [],
   "source": [
    "feedback[\"mentor\"] = feedback[\"mentor_id\"].apply(lambda x: lookup[x])"
   ],
   "metadata": {
    "collapsed": false,
    "pycharm": {
     "name": "#%%\n"
    }
   }
  },
  {
   "cell_type": "code",
   "execution_count": 215,
   "outputs": [],
   "source": [
    "text_color = \"#AAAAAA\"\n",
    "graph_color = \"#333333\"\n",
    "graph_bg = \"#252525\"\n",
    "configuration = {\n",
    "    \"legend\": {\n",
    "        \"titleColor\": text_color,\n",
    "        \"labelColor\": text_color,\n",
    "        \"padding\": 10,\n",
    "    },\n",
    "    \"title\": {\n",
    "        \"color\": text_color,\n",
    "        \"fontSize\": 26,\n",
    "        \"offset\": 30,\n",
    "    },\n",
    "    \"axis\": {\n",
    "        \"titlePadding\": 20,\n",
    "        \"titleColor\": text_color,\n",
    "        \"labelPadding\": 5,\n",
    "        \"labelColor\": text_color,\n",
    "        \"gridColor\": graph_color,\n",
    "        \"tickColor\": graph_color,\n",
    "        \"tickSize\": 10,\n",
    "    },\n",
    "    \"view\": {\n",
    "        \"stroke\": graph_bg,\n",
    "    },\n",
    "}\n",
    "properties = {\n",
    "    \"width\": 480,\n",
    "    \"height\": 420,\n",
    "    \"padding\": 40,\n",
    "    \"background\": graph_bg,\n",
    "}"
   ],
   "metadata": {
    "collapsed": false,
    "pycharm": {
     "name": "#%%\n"
    }
   }
  },
  {
   "cell_type": "code",
   "execution_count": 220,
   "outputs": [],
   "source": [
    "def sentiment_graph(df: DataFrame):\n",
    "    title = \"Mentee Sentiment by Mentor\"\n",
    "    return alt.Chart(df, title=title).mark_bar().encode(\n",
    "        x=alt.X(\"mentor\", title=\"Mentor Name\"),\n",
    "        y=alt.Y(\"count()\", title=\"Sentiment Count\", axis=alt.Axis(tickMinStep=1)),\n",
    "        color=alt.Color(\"sentiment\", scale=alt.Scale(\n",
    "            domain=[\"Positive\", \"Neutral\", \"Negative\"],\n",
    "            range=[\"#54a24b\", \"#f2cf5b\", \"#e45756\"],\n",
    "        ), title=\"Sentiment\"),\n",
    "        tooltip=list(df.columns),\n",
    "    ).properties(**properties).configure(**configuration)"
   ],
   "metadata": {
    "collapsed": false,
    "pycharm": {
     "name": "#%%\n"
    }
   }
  },
  {
   "cell_type": "code",
   "execution_count": 221,
   "outputs": [
    {
     "data": {
      "text/html": "\n<div id=\"altair-viz-d3f62ff3ded747d09a35fd18cff339e5\"></div>\n<script type=\"text/javascript\">\n  var VEGA_DEBUG = (typeof VEGA_DEBUG == \"undefined\") ? {} : VEGA_DEBUG;\n  (function(spec, embedOpt){\n    let outputDiv = document.currentScript.previousElementSibling;\n    if (outputDiv.id !== \"altair-viz-d3f62ff3ded747d09a35fd18cff339e5\") {\n      outputDiv = document.getElementById(\"altair-viz-d3f62ff3ded747d09a35fd18cff339e5\");\n    }\n    const paths = {\n      \"vega\": \"https://cdn.jsdelivr.net/npm//vega@5?noext\",\n      \"vega-lib\": \"https://cdn.jsdelivr.net/npm//vega-lib?noext\",\n      \"vega-lite\": \"https://cdn.jsdelivr.net/npm//vega-lite@4.17.0?noext\",\n      \"vega-embed\": \"https://cdn.jsdelivr.net/npm//vega-embed@6?noext\",\n    };\n\n    function maybeLoadScript(lib, version) {\n      var key = `${lib.replace(\"-\", \"\")}_version`;\n      return (VEGA_DEBUG[key] == version) ?\n        Promise.resolve(paths[lib]) :\n        new Promise(function(resolve, reject) {\n          var s = document.createElement('script');\n          document.getElementsByTagName(\"head\")[0].appendChild(s);\n          s.async = true;\n          s.onload = () => {\n            VEGA_DEBUG[key] = version;\n            return resolve(paths[lib]);\n          };\n          s.onerror = () => reject(`Error loading script: ${paths[lib]}`);\n          s.src = paths[lib];\n        });\n    }\n\n    function showError(err) {\n      outputDiv.innerHTML = `<div class=\"error\" style=\"color:red;\">${err}</div>`;\n      throw err;\n    }\n\n    function displayChart(vegaEmbed) {\n      vegaEmbed(outputDiv, spec, embedOpt)\n        .catch(err => showError(`Javascript Error: ${err.message}<br>This usually means there's a typo in your chart specification. See the javascript console for the full traceback.`));\n    }\n\n    if(typeof define === \"function\" && define.amd) {\n      requirejs.config({paths});\n      require([\"vega-embed\"], displayChart, err => showError(`Error loading script: ${err.message}`));\n    } else {\n      maybeLoadScript(\"vega\", \"5\")\n        .then(() => maybeLoadScript(\"vega-lite\", \"4.17.0\"))\n        .then(() => maybeLoadScript(\"vega-embed\", \"6\"))\n        .catch(showError)\n        .then(() => displayChart(vegaEmbed));\n    }\n  })({\"config\": {\"view\": {\"continuousWidth\": 400, \"continuousHeight\": 300, \"stroke\": \"#252525\"}, \"axis\": {\"titlePadding\": 20, \"titleColor\": \"#AAAAAA\", \"labelPadding\": 5, \"labelColor\": \"#AAAAAA\", \"gridColor\": \"#333333\", \"tickColor\": \"#333333\", \"tickSize\": 10}, \"legend\": {\"titleColor\": \"#AAAAAA\", \"labelColor\": \"#AAAAAA\", \"padding\": 10}, \"title\": {\"color\": \"#AAAAAA\", \"fontSize\": 26, \"offset\": 30}}, \"data\": {\"name\": \"data-5dd970146b0b186fc86035309102ed67\"}, \"mark\": \"bar\", \"background\": \"#252525\", \"encoding\": {\"color\": {\"field\": \"sentiment\", \"scale\": {\"domain\": [\"Positive\", \"Neutral\", \"Negative\"], \"range\": [\"#54a24b\", \"#f2cf5b\", \"#e45756\"]}, \"title\": \"Sentiment\", \"type\": \"nominal\"}, \"tooltip\": [{\"field\": \"ticket_id\", \"type\": \"nominal\"}, {\"field\": \"mentee_id\", \"type\": \"nominal\"}, {\"field\": \"mentor_id\", \"type\": \"nominal\"}, {\"field\": \"feedback\", \"type\": \"nominal\"}, {\"field\": \"sentiment\", \"type\": \"nominal\"}, {\"field\": \"mentor\", \"type\": \"nominal\"}], \"x\": {\"field\": \"mentor\", \"title\": \"Mentor Name\", \"type\": \"nominal\"}, \"y\": {\"aggregate\": \"count\", \"axis\": {\"tickMinStep\": 1}, \"title\": \"Sentiment Count\", \"type\": \"quantitative\"}}, \"height\": 420, \"padding\": 40, \"title\": \"Mentee Sentiment by Mentor\", \"width\": 480, \"$schema\": \"https://vega.github.io/schema/vega-lite/v4.17.0.json\", \"datasets\": {\"data-5dd970146b0b186fc86035309102ed67\": [{\"ticket_id\": \"5zH33634G20frjtw\", \"mentee_id\": \"2I3F8AnM3A0604Te\", \"mentor_id\": \"5Jy4q5r4D33c7Q1m\", \"feedback\": \"good introduction!!!\", \"sentiment\": \"Positive\", \"mentor\": \"Madilynn Edwards\"}, {\"ticket_id\": \"N004aW223Mz5G5kJ\", \"mentee_id\": \"SXt75FP07B4182dX\", \"mentor_id\": \"Vy07lKB3315F6V4X\", \"feedback\": \"This is a great introduction to 3D printing. It covers the basics of different 3D printing technologies, from desktop to industrial hardware. It shows the resources and services available to utilise 3D printing effectively. It provides interviews with entrepreneurs and others in industry which are using this technology.\", \"sentiment\": \"Positive\", \"mentor\": \"Shepherd Richardson\"}, {\"ticket_id\": \"717gXBKJS23S678i\", \"mentee_id\": \"i4cQ68W40kNh3y12\", \"mentor_id\": \"0p8445Whz5bZ8T7E\", \"feedback\": \"Great course. A must for every individual who has some idea about it and even if you don't, Aric and his team will guide you throughout this wonderful technique.\", \"sentiment\": \"Positive\", \"mentor\": \"Madilynn King\"}, {\"ticket_id\": \"5rh6D5ieo435n62e\", \"mentee_id\": \"oVR212X40qQuF732\", \"mentor_id\": \"1TUz144A1PLt73K3\", \"feedback\": \"Thank you for this course, very good course.\", \"sentiment\": \"Positive\", \"mentor\": \"Destiny Garcia\"}, {\"ticket_id\": \"02k4KJ2j1yO026Xg\", \"mentee_id\": \"42dM2mi4p18mN7V6\", \"mentor_id\": \"1s7Mz5b53C13v8Ej\", \"feedback\": \"Excellent course and it has opened my eyes to the wide array of Excel Power tools and their ability to provide simple, yet powerful visual dashboards for executive decision-making. Thank you for the opportunity to participate in the course.\", \"sentiment\": \"Positive\", \"mentor\": \"Averi Nelson\"}, {\"ticket_id\": \"5hZ8fW8378C6gBU1\", \"mentee_id\": \"1kL61g8aFR0b4x64\", \"mentor_id\": \"1TUz144A1PLt73K3\", \"feedback\": \"If you don't speak Chinese it's a terrible course...The lectures are recorded from lectures at university and the rhythm is very slow and not very well explained (at least the first week). The transcriptions into English are incomplete, so understand this course is very very complicated.I do not recommend it at all.\", \"sentiment\": \"Negative\", \"mentor\": \"Destiny Garcia\"}, {\"ticket_id\": \"8phd5x0f5l6Rn022\", \"mentee_id\": \"08T605Phpa114aZi\", \"mentor_id\": \"4KIa3aebb57Q6665\", \"feedback\": \"Week 4 was the best and the more appropiate for the specialization.\", \"sentiment\": \"Positive\", \"mentor\": \"Flynn Howard\"}, {\"ticket_id\": \"a06S73T8s45tLc5W\", \"mentee_id\": \"k5R8g38dl8462CCi\", \"mentor_id\": \"XQKW03QX1E2026d4\", \"feedback\": \"Thanks.\", \"sentiment\": \"Positive\", \"mentor\": \"Anne Harris\"}, {\"ticket_id\": \"V72ehD7168w7w5vm\", \"mentee_id\": \"d62iJ61XEHW4t568\", \"mentor_id\": \"1s7Mz5b53C13v8Ej\", \"feedback\": \"to easy. enjoy everyone! also children to old papa anyone.thanks for Erin Barra\", \"sentiment\": \"Positive\", \"mentor\": \"Averi Nelson\"}, {\"ticket_id\": \"6sAUU5o47H14eT23\", \"mentee_id\": \"4hWYoB8017v28u7h\", \"mentor_id\": \"1TUz144A1PLt73K3\", \"feedback\": \"Great course, I just wanted it to be more thorough :) But for beginners like me, it really helped a lot! Thank you!\", \"sentiment\": \"Positive\", \"mentor\": \"Destiny Garcia\"}, {\"ticket_id\": \"5J0C52QVVq3u013Q\", \"mentee_id\": \"s7d61n2n48qY2h4s\", \"mentor_id\": \"XQKW03QX1E2026d4\", \"feedback\": \"I have learned so much about using Ableton Live in this course. It really gives you the basic of the program and then some which is really great, especially when you want to use this program for producing and or recording. I highly recommend it to anyone interested in Ableton and Berklee Online.\", \"sentiment\": \"Positive\", \"mentor\": \"Anne Harris\"}, {\"ticket_id\": \"Q2zJ5Hdn62M8422G\", \"mentee_id\": \"s7d61n2n48qY2h4s\", \"mentor_id\": \"4KIa3aebb57Q6665\", \"feedback\": \"great course with great dissection videos. course materials are very interesting. I understood the anatomy of the abdomen which medical school couldn't teach me.\", \"sentiment\": \"Positive\", \"mentor\": \"Flynn Howard\"}, {\"ticket_id\": \"4fRk1vB58sd663H7\", \"mentee_id\": \"f285idQn632al72E\", \"mentor_id\": \"5Jy4q5r4D33c7Q1m\", \"feedback\": \"Very informative course. Prof. Bushee is hilarious,, really like his teaching technique\", \"sentiment\": \"Positive\", \"mentor\": \"Madilynn Edwards\"}, {\"ticket_id\": \"4K11ZnKk1c83MQ84\", \"mentee_id\": \"z1178nVe3A13E2js\", \"mentor_id\": \"15V8P5mR66Om7oO5\", \"feedback\": \"Extremely useful, powerful and course\", \"sentiment\": \"Positive\", \"mentor\": \"Julia Martin\"}, {\"ticket_id\": \"6i15307XBL6Mu5vH\", \"mentee_id\": \"7Ckt8R15v6323UEq\", \"mentor_id\": \"XQKW03QX1E2026d4\", \"feedback\": \"Have got a great insight towards 3D Printing.\", \"sentiment\": \"Positive\", \"mentor\": \"Anne Harris\"}, {\"ticket_id\": \"i04z0KUO6aX2560A\", \"mentee_id\": \"506Z2p1U10gdMho1\", \"mentor_id\": \"D1l0xBns1A611r50\", \"feedback\": \"Outstanding, clear, well-explained, not overwhelming. Dissections really aid to have a more realistic understanding. Good supplemental materials cover the material with great focus, and if more details are needed it is easy to get those elsewhere. Great effort by U. Leiden!\", \"sentiment\": \"Positive\", \"mentor\": \"Aisha Murphy\"}, {\"ticket_id\": \"Si8bMI6254q6q2V3\", \"mentee_id\": \"7G4F01On44C8A5QK\", \"mentor_id\": \"0p8445Whz5bZ8T7E\", \"feedback\": \"While I enjoyed this course and the topics covered, I don't feel like the course content matched what the course description stated it was supposed to. I enrolled in the Business Analytics Specialization course with a focus on analyzing a business from the inside, not outside. Of the 4 weeks of the course, I'd say that only week 4 was valid from an internal perspective but it was kept very high level. I'd say this course could be good for a specialization in business market analysis, but not as advertised.I also found the cartoon classroom questions to be very annoying, almost as bad as fingernails on a blackboard.\", \"sentiment\": \"Negative\", \"mentor\": \"Madilynn King\"}, {\"ticket_id\": \"5m453Ull13W02Wfp\", \"mentee_id\": \"p14KWo8Z2uTT6710\", \"mentor_id\": \"U71Z0apg7gQD2034\", \"feedback\": \"It's a very good course.\", \"sentiment\": \"Positive\", \"mentor\": \"Iker Ramos\"}, {\"ticket_id\": \"104Bzd3G3bt185ei\", \"mentee_id\": \"X3nbQ4zvh00u8586\", \"mentor_id\": \"3125u0I5S7kJzsG1\", \"feedback\": \"One of the excellent courses at Coursera for information technology bosses and managers.\", \"sentiment\": \"Positive\", \"mentor\": \"Davis Adams\"}, {\"ticket_id\": \"738K2D247FgTf1WB\", \"mentee_id\": \"v5yr731NB642TN7u\", \"mentor_id\": \"eL4ICQo0sW102085\", \"feedback\": \"I am very glad to see courses like this one on Coursera. The course itself is well structured and contains a lot of useful information and that is exactly what I needed in one place.My only complaint is the price of the course - I think it is a bit expensive especially for this first part of the specialisation - it is an introductory two week course with a lot of advertising...\\u00a340..common..are you serious?? A lot of people will buy personal 3D printers or kits after the course, some of them will make a decision to buy a 3D printer for a company they work for (as myself), Fusion 360 subscriptions etc. These companies should sponsor such courses to make them more affordable - it is their interest.I made several courses on Coursera already (Mechanical and Electrical Engineering), they were 5 to 8 weeks and comprised a lot of quite hard work from mentors and students and were only \\u00a332 for certificate.I like the idea of this specialisation but I decided not to pay for the certificate because of its price. Although I am very happy to have access to the courses and I thank you for you effort!\", \"sentiment\": \"Positive\", \"mentor\": \"Briella Hall\"}, {\"ticket_id\": \"4znW3Q08Yh0Y27Z0\", \"mentee_id\": \"848QoDJrF643z7F4\", \"mentor_id\": \"LM1e5rvd8c357L88\", \"feedback\": \"Great intro! The videos were fantastic and instructors very engaging.\", \"sentiment\": \"Positive\", \"mentor\": \"Rose Brown\"}, {\"ticket_id\": \"us087i4OXiG252v2\", \"mentee_id\": \"mJg40jd5HG4g4257\", \"mentor_id\": \"0040IcL6w72TXkG5\", \"feedback\": \"Excelent! Lots of information and really interesting interviews. Plus Aric Rindfleisch is extremely clear in the lectures. Congratulations.\", \"sentiment\": \"Positive\", \"mentor\": \"Kinsley Miller\"}, {\"ticket_id\": \"TTVy2O46vK01128F\", \"mentee_id\": \"BFhp30s5b74070di\", \"mentor_id\": \"cV8R656eST8Ln165\", \"feedback\": \"Eye and mind opening course.\", \"sentiment\": \"Neutral\", \"mentor\": \"Katherine Richardson\"}, {\"ticket_id\": \"3b813Q28SdI5u0Ig\", \"mentee_id\": \"07sx43KQw642sTk6\", \"mentor_id\": \"1TUz144A1PLt73K3\", \"feedback\": \"Finally i am able to complete this course. This course was little tougher than the other 3 courses due to some complicated accounting spreadsheet calculations. But i finally i am able to make it. Good Luck to rest of the folks.\", \"sentiment\": \"Positive\", \"mentor\": \"Destiny Garcia\"}, {\"ticket_id\": \"oJ7RWU1285sc5o23\", \"mentee_id\": \"pGHXZ7757V3G218G\", \"mentor_id\": \"eL4ICQo0sW102085\", \"feedback\": \"Excellent! the best way to learn!\", \"sentiment\": \"Positive\", \"mentor\": \"Briella Hall\"}, {\"ticket_id\": \"6yjo0eNr5O8021s4\", \"mentee_id\": \"d5ot3643rZ0WGY81\", \"mentor_id\": \"2ZWBG22732e3A2JQ\", \"feedback\": \"Great introduction to Accounting Analytics. Unexpected lecturing dialogues. Could have more analytics or additional or optional problem sets to explore more deeply.\", \"sentiment\": \"Positive\", \"mentor\": \"Skye Reed\"}, {\"ticket_id\": \"JS0A80v7o37I4Z8h\", \"mentee_id\": \"M3550A5Zh4c4E7Mo\", \"mentor_id\": \"XQKW03QX1E2026d4\", \"feedback\": \"Very interesting course, well designed, using animated fun-makers to shoot out questions that you will probably do it yourself.Course content easy to understand. Very suited for non-accounting major analyst who wants to get some background in accounting analysis..\", \"sentiment\": \"Positive\", \"mentor\": \"Anne Harris\"}, {\"ticket_id\": \"b202PK6fA84pRG15\", \"mentee_id\": \"5s4g50s785PwAEK8\", \"mentor_id\": \"D1l0xBns1A611r50\", \"feedback\": \"The male Professors seem to speak Chinese half the time, therefore not being able to understand the material for students who aren't fluent in Chinese. I prefer the female Professor from Advanced Neurobiology I who presented the material in English, and in an engaging and coherent way.\", \"sentiment\": \"Positive\", \"mentor\": \"Aisha Murphy\"}, {\"ticket_id\": \"360L7Y8lmN4t86tW\", \"mentee_id\": \"SXt75FP07B4182dX\", \"mentor_id\": \"D1l0xBns1A611r50\", \"feedback\": \"Great course and very informative.\", \"sentiment\": \"Positive\", \"mentor\": \"Aisha Murphy\"}, {\"ticket_id\": \"j575ac527aeg6QN1\", \"mentee_id\": \"f285idQn632al72E\", \"mentor_id\": \"31770zli7N8Jenf1\", \"feedback\": \"Great piece of work, I especially liked a few 'lifehacks' for the CIO\", \"sentiment\": \"Positive\", \"mentor\": \"Dilan Brooks\"}, {\"ticket_id\": \"ZH55iB436803usHx\", \"mentee_id\": \"M3550A5Zh4c4E7Mo\", \"mentor_id\": \"15V8P5mR66Om7oO5\", \"feedback\": \"A lot of speaking without any sense. Skip it at all cost\", \"sentiment\": \"Neutral\", \"mentor\": \"Julia Martin\"}, {\"ticket_id\": \"nBWJV4063V1j27W6\", \"mentee_id\": \"M871b34xL8hg5V8c\", \"mentor_id\": \"Vy07lKB3315F6V4X\", \"feedback\": \"Excellent overview of the ways in which 3D printing is in use and how it may be used in the future.\", \"sentiment\": \"Positive\", \"mentor\": \"Shepherd Richardson\"}, {\"ticket_id\": \"G265n3z0AJ78Yyw2\", \"mentee_id\": \"223H4d1mYq7L6P8i\", \"mentor_id\": \"D1l0xBns1A611r50\", \"feedback\": \"One of the best introduction to Ableton Live. This course is sharp, to the point and makes you sketch out a small track every week - a great way to get involved with the DAW.\", \"sentiment\": \"Positive\", \"mentor\": \"Aisha Murphy\"}, {\"ticket_id\": \"5rU25766MUmBKG51\", \"mentee_id\": \"07sx43KQw642sTk6\", \"mentor_id\": \"U71Z0apg7gQD2034\", \"feedback\": \"This is a good course for an CIO in a non technical company.\", \"sentiment\": \"Positive\", \"mentor\": \"Iker Ramos\"}, {\"ticket_id\": \"R1Z4cG6D6685OAA0\", \"mentee_id\": \"A3yFd7IR07m4U880\", \"mentor_id\": \"15V8P5mR66Om7oO5\", \"feedback\": \"This is a great introduction to 3d printing and the maker movement. Things I thought I knew were corrected and resources I never knew about were introduced. Very worthwhile\", \"sentiment\": \"Positive\", \"mentor\": \"Julia Martin\"}, {\"ticket_id\": \"47b6875yqtCsF36g\", \"mentee_id\": \"0a5kelj755yR643c\", \"mentor_id\": \"3125u0I5S7kJzsG1\", \"feedback\": \"This course doesn't contain any new information. It does not teach you but just excitedly shows commonly known facts.There are better ways to invest your time.\", \"sentiment\": \"Positive\", \"mentor\": \"Davis Adams\"}, {\"ticket_id\": \"Ng4N7110Z0cW2J2Z\", \"mentee_id\": \"F00DVP3uC10712KJ\", \"mentor_id\": \"0p8445Whz5bZ8T7E\", \"feedback\": \"GREAT!! thanks a lot :) :)\", \"sentiment\": \"Positive\", \"mentor\": \"Madilynn King\"}, {\"ticket_id\": \"C8u0Lo46y57JH6b0\", \"mentee_id\": \"d5ot3643rZ0WGY81\", \"mentor_id\": \"cV8R656eST8Ln165\", \"feedback\": \"Excellent course and it has opened my eyes to the wide array of Excel Power tools and their ability to provide simple, yet powerful visual dashboards for executive decision-making. Thank you for the opportunity to participate in the course.\", \"sentiment\": \"Positive\", \"mentor\": \"Katherine Richardson\"}, {\"ticket_id\": \"a3U168rY6XB4oY20\", \"mentee_id\": \"Ry1FXf8Y5871df33\", \"mentor_id\": \"15V8P5mR66Om7oO5\", \"feedback\": \"Great introduction to Ableton 9 for a newcomers. You'll learn basics, but those that are enough to start create music.\", \"sentiment\": \"Positive\", \"mentor\": \"Julia Martin\"}, {\"ticket_id\": \"15z352kL61dyiHg1\", \"mentee_id\": \"M3550A5Zh4c4E7Mo\", \"mentor_id\": \"31770zli7N8Jenf1\", \"feedback\": \"Very informative an approachable course. I really like the way Aric presents the information. I am excited to complete the rest of the Specialization.\", \"sentiment\": \"Positive\", \"mentor\": \"Dilan Brooks\"}, {\"ticket_id\": \"86DgC180Nx1LeH54\", \"mentee_id\": \"g0p8j6g05Ej3ij74\", \"mentor_id\": \"1TUz144A1PLt73K3\", \"feedback\": \"Very complete and extensive.The weeks actually take weeks to complete!\", \"sentiment\": \"Neutral\", \"mentor\": \"Destiny Garcia\"}, {\"ticket_id\": \"54B4630WqaPh3U4T\", \"mentee_id\": \"D32N4ej56150RolX\", \"mentor_id\": \"Vy07lKB3315F6V4X\", \"feedback\": \"Very informative and interactive. I like the style of Professor Bushee's classroom teaching\", \"sentiment\": \"Positive\", \"mentor\": \"Shepherd Richardson\"}, {\"ticket_id\": \"6teU6ko71CQ2322x\", \"mentee_id\": \"E4W3o2At08Gx4g42\", \"mentor_id\": \"A7gaE151GQ4r3W42\", \"feedback\": \"week 1 and 2 were kind of boring, but maybe necessary; weeks 3 and 4 were more interesting from a business point of view (i'm not so much interested in accounting as in business decisions).the virtual class of professor Bushee was quite funny :)\", \"sentiment\": \"Positive\", \"mentor\": \"Stella Clark\"}, {\"ticket_id\": \"25c3Qo02Py14yEt4\", \"mentee_id\": \"261i2DFo2A52t4Xz\", \"mentor_id\": \"1TUz144A1PLt73K3\", \"feedback\": \"cool\", \"sentiment\": \"Positive\", \"mentor\": \"Destiny Garcia\"}, {\"ticket_id\": \"63d2jXd334O4N4uF\", \"mentee_id\": \"SXt75FP07B4182dX\", \"mentor_id\": \"1s7Mz5b53C13v8Ej\", \"feedback\": \"This course is very interesting, enlightening and a wonderful introduction especially for learners with no prior experience with 3D printing.\", \"sentiment\": \"Positive\", \"mentor\": \"Averi Nelson\"}, {\"ticket_id\": \"ls2oN76Z4ywB0882\", \"mentee_id\": \"k648i8gG27R06hPZ\", \"mentor_id\": \"4KIa3aebb57Q6665\", \"feedback\": \"The course itself is good. Nevertheless, it says that it doesn't require any previous experience... But there is actually experience required on financial statements and concepts.\", \"sentiment\": \"Neutral\", \"mentor\": \"Flynn Howard\"}, {\"ticket_id\": \"Y6060Uu0N24bgG4r\", \"mentee_id\": \"04hC7Hn6tsI5712k\", \"mentor_id\": \"2ZWBG22732e3A2JQ\", \"feedback\": \"This is a great introduction to 3D printing. It covers the basics of different 3D printing technologies, from desktop to industrial hardware. It shows the resources and services available to utilise 3D printing effectively. It provides interviews with entrepreneurs and others in industry which are using this technology.\", \"sentiment\": \"Positive\", \"mentor\": \"Skye Reed\"}, {\"ticket_id\": \"V56Z0O6g5ew8RW14\", \"mentee_id\": \"k1x0t12RZ8qe502v\", \"mentor_id\": \"5Jy4q5r4D33c7Q1m\", \"feedback\": \"Excellent course you should make more courses like this\", \"sentiment\": \"Positive\", \"mentor\": \"Madilynn Edwards\"}, {\"ticket_id\": \"Em8J44F6wK4E8i86\", \"mentee_id\": \"IFJ37IO7Z07O7k32\", \"mentor_id\": \"U71Z0apg7gQD2034\", \"feedback\": \"Great course!\", \"sentiment\": \"Positive\", \"mentor\": \"Iker Ramos\"}, {\"ticket_id\": \"a6pKL578zhw8l766\", \"mentee_id\": \"k648i8gG27R06hPZ\", \"mentor_id\": \"cV8R656eST8Ln165\", \"feedback\": \"It gave me a good understanding of the software capabilities.\", \"sentiment\": \"Positive\", \"mentor\": \"Katherine Richardson\"}]}}, {\"mode\": \"vega-lite\"});\n</script>",
      "text/plain": "alt.Chart(...)"
     },
     "execution_count": 221,
     "metadata": {},
     "output_type": "execute_result"
    }
   ],
   "source": [
    "sentiment_graph(feedback)"
   ],
   "metadata": {
    "collapsed": false,
    "pycharm": {
     "name": "#%%\n"
    }
   }
  },
  {
   "cell_type": "code",
   "execution_count": null,
   "outputs": [],
   "source": [],
   "metadata": {
    "collapsed": false,
    "pycharm": {
     "name": "#%%\n"
    }
   }
  }
 ],
 "metadata": {
  "kernelspec": {
   "display_name": "Python 3",
   "language": "python",
   "name": "python3"
  },
  "language_info": {
   "codemirror_mode": {
    "name": "ipython",
    "version": 2
   },
   "file_extension": ".py",
   "mimetype": "text/x-python",
   "name": "python",
   "nbconvert_exporter": "python",
   "pygments_lexer": "ipython2",
   "version": "2.7.6"
  }
 },
 "nbformat": 4,
 "nbformat_minor": 0
}