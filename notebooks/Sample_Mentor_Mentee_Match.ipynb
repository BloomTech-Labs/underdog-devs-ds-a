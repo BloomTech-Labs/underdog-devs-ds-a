{
  "nbformat": 4,
  "nbformat_minor": 0,
  "metadata": {
    "colab": {
      "name": "PullRequest_practice.ipynb",
      "provenance": [],
      "collapsed_sections": []
    },
    "kernelspec": {
      "name": "python3",
      "display_name": "Python 3"
    },
    "language_info": {
      "name": "python"
    }
  },
  "cells": [
    {
      "cell_type": "markdown",
      "source": [
        "# To help mentees narrow down the scope of interest that each likes to learn for tech job, first each mentee reads the 12 types of software engineer job function(the URL link below), and the mentee narrows down one type as career goal. Then, match the mentee with career goal in mind with a mentor who has knowledge to offer advice on programs to learn.\n",
        "\n",
        "The webpage shown the languages to learn for each job type --\n",
        "12 Types of Software Engineers To Help You Find Your Place in Technology: \n",
        "https://www.indeed.com/career-advice/finding-a-job/types-of-software-engineer\n",
        "\n",
        "# After mentee and mentor match, then the mentee could schedule a meeting with a mentor on Calendly for advice."
      ],
      "metadata": {
        "id": "-RoCPG84Ywl6"
      }
    },
    {
      "cell_type": "code",
      "source": [
        "# dataset, each mentee with one career goal selected\n",
        "\n",
        "mentees = [\n",
        "    {\n",
        "        \"name\": \"Michael\",\n",
        "        \"career goal\": \"video game designer\",\n",
        "    },\n",
        "    {\n",
        "        \"name\": \"Jack\",\n",
        "        \"career goal\": \"full-stack engineer\"\n",
        "    }\n",
        "\n",
        "]"
      ],
      "metadata": {
        "id": "lsgbujRhdjIc"
      },
      "execution_count": null,
      "outputs": []
    },
    {
      "cell_type": "code",
      "source": [
        "# each mentor may be offering more than one scope of interest for advice\n",
        "\n",
        "mentors = [\n",
        "    {\n",
        "        \"name\": \"Louis\",\n",
        "        \"scope of interest\": [\"video game designer\", \"quality assurance engineer\", \"CRM project manager\"]\n",
        "    },\n",
        "    {\n",
        "        \"name\": \"Kenny\",\n",
        "        \"scope of interest\": [\"full-stack engineer\", \"software integration engineer\", \"security engineer\"]\n",
        "    }\n",
        "]"
      ],
      "metadata": {
        "id": "skXlO4jIgHdk"
      },
      "execution_count": null,
      "outputs": []
    },
    {
      "cell_type": "code",
      "source": [
        "# for loop to match each mentee with one career goal with mentor\n",
        "for mentee in mentees:\n",
        "  for mentor in mentors:\n",
        "    if mentee[\"career goal\"] in mentor[\"scope of interest\"]:\n",
        "      print(mentee[\"name\"], \"->\", mentor[\"name\"])"
      ],
      "metadata": {
        "id": "kP3E49q4kRX-"
      },
      "execution_count": null,
      "outputs": []
    },
    {
      "cell_type": "markdown",
      "source": [
        "After mentee and mentor match, then the mentee could schedule a meeting with a mentor on Calendly."
      ],
      "metadata": {
        "id": "6C_6c5MzlHY7"
      }
    }
  ]
}
