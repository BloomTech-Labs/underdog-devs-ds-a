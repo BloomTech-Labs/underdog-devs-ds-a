{
 "cells": [
  {
   "cell_type": "code",
   "execution_count": 3,
   "id": "906950d0",
   "metadata": {},
   "outputs": [],
   "source": [
    "import pandas as pd\n",
    "from altair import Chart, Tooltip, Color, X, Y\n",
    "from pandas import DataFrame\n",
    "from app.data import MongoDB"
   ]
  },
  {
   "cell_type": "code",
   "execution_count": 2,
   "id": "c3e3a76d",
   "metadata": {},
   "outputs": [
    {
     "name": "stdout",
     "output_type": "stream",
     "text": [
      "Requirement already satisfied: altair in c:\\users\\tophe\\.virtualenvs\\underdog-devs-ds-a\\lib\\site-packages (4.2.0)\n",
      "Requirement already satisfied: jinja2 in c:\\users\\tophe\\.virtualenvs\\underdog-devs-ds-a\\lib\\site-packages (from altair) (3.1.2)\n",
      "Requirement already satisfied: entrypoints in c:\\users\\tophe\\.virtualenvs\\underdog-devs-ds-a\\lib\\site-packages (from altair) (0.4)\n",
      "Requirement already satisfied: toolz in c:\\users\\tophe\\.virtualenvs\\underdog-devs-ds-a\\lib\\site-packages (from altair) (0.12.0)\n",
      "Requirement already satisfied: jsonschema>=3.0 in c:\\users\\tophe\\.virtualenvs\\underdog-devs-ds-a\\lib\\site-packages (from altair) (4.16.0)\n",
      "Requirement already satisfied: pandas>=0.18 in c:\\users\\tophe\\.virtualenvs\\underdog-devs-ds-a\\lib\\site-packages (from altair) (1.4.3)\n",
      "Requirement already satisfied: numpy in c:\\users\\tophe\\.virtualenvs\\underdog-devs-ds-a\\lib\\site-packages (from altair) (1.23.1)\n",
      "Requirement already satisfied: importlib-resources>=1.4.0 in c:\\users\\tophe\\.virtualenvs\\underdog-devs-ds-a\\lib\\site-packages (from jsonschema>=3.0->altair) (5.9.0)\n",
      "Requirement already satisfied: pyrsistent!=0.17.0,!=0.17.1,!=0.17.2,>=0.14.0 in c:\\users\\tophe\\.virtualenvs\\underdog-devs-ds-a\\lib\\site-packages (from jsonschema>=3.0->altair) (0.18.1)\n",
      "Requirement already satisfied: attrs>=17.4.0 in c:\\users\\tophe\\.virtualenvs\\underdog-devs-ds-a\\lib\\site-packages (from jsonschema>=3.0->altair) (22.1.0)\n",
      "Requirement already satisfied: pkgutil-resolve-name>=1.3.10 in c:\\users\\tophe\\.virtualenvs\\underdog-devs-ds-a\\lib\\site-packages (from jsonschema>=3.0->altair) (1.3.10)\n",
      "Requirement already satisfied: python-dateutil>=2.8.1 in c:\\users\\tophe\\.virtualenvs\\underdog-devs-ds-a\\lib\\site-packages (from pandas>=0.18->altair) (2.8.2)\n",
      "Requirement already satisfied: pytz>=2020.1 in c:\\users\\tophe\\.virtualenvs\\underdog-devs-ds-a\\lib\\site-packages (from pandas>=0.18->altair) (2022.2.1)\n",
      "Requirement already satisfied: MarkupSafe>=2.0 in c:\\users\\tophe\\.virtualenvs\\underdog-devs-ds-a\\lib\\site-packages (from jinja2->altair) (2.1.1)\n",
      "Requirement already satisfied: zipp>=3.1.0 in c:\\users\\tophe\\.virtualenvs\\underdog-devs-ds-a\\lib\\site-packages (from importlib-resources>=1.4.0->jsonschema>=3.0->altair) (3.8.1)\n",
      "Requirement already satisfied: six>=1.5 in c:\\users\\tophe\\.virtualenvs\\underdog-devs-ds-a\\lib\\site-packages (from python-dateutil>=2.8.1->pandas>=0.18->altair) (1.16.0)\n"
     ]
    }
   ],
   "source": [
    "!pip install altair"
   ]
  },
  {
   "cell_type": "code",
   "execution_count": null,
   "id": "28112d29",
   "metadata": {},
   "outputs": [],
   "source": []
  }
 ],
 "metadata": {
  "kernelspec": {
   "display_name": "Python 3 (ipykernel)",
   "language": "python",
   "name": "python3"
  },
  "language_info": {
   "codemirror_mode": {
    "name": "ipython",
    "version": 3
   },
   "file_extension": ".py",
   "mimetype": "text/x-python",
   "name": "python",
   "nbconvert_exporter": "python",
   "pygments_lexer": "ipython3",
   "version": "3.8.10"
  }
 },
 "nbformat": 4,
 "nbformat_minor": 5
}
