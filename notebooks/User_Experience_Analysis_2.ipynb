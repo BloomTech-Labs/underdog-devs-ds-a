{
  "nbformat": 4,
  "nbformat_minor": 0,
  "metadata": {
    "colab": {
      "name": "User_Experience_Analysis_2.ipynb",
      "provenance": [],
      "collapsed_sections": [
        "zUeacBld_PKw"
      ]
    },
    "kernelspec": {
      "name": "python3",
      "display_name": "Python 3"
    },
    "language_info": {
      "name": "python"
    }
  },
  "cells": [
    {
      "cell_type": "markdown",
      "source": [
        "# User Experience Analysis Pt. 2\n",
        "\n",
        "\n",
        "---"
      ],
      "metadata": {
        "id": "2BhQV82XSC1p"
      }
    },
    {
      "cell_type": "markdown",
      "source": [
        "# Contributors\n",
        "\n",
        "Kristina C.\n",
        "\n",
        "Erin Costolo\n",
        "\n",
        "Sujata Sahoo\n",
        "\n",
        "Roger Vieira\n",
        "\n",
        "<br>\n",
        "\n"
      ],
      "metadata": {
        "id": "tzDdaiObOfgh"
      }
    },
    {
      "cell_type": "markdown",
      "source": [
        "# Objective\n",
        "\n",
        "The objective of this notebook is to help admins and stakeholders track trends about what brings people to Underdog Devs. We will analyze text responses from applicants and mentees. A previous analysis looked at only single word tokens and did not incorporate the context of other words in the response. We will be performing Natural Language Processing (NLP) by looking at individual words, phrases, and non-consecutive words based on their frequencies in a response. We will also explore topic modeling by performing Latent Dirichlet Allocation (LDA).\n",
        "\n",
        "<br>"
      ],
      "metadata": {
        "id": "gQQJR5vwOfdt"
      }
    },
    {
      "cell_type": "markdown",
      "source": [
        "# Imports\n"
      ],
      "metadata": {
        "id": "7_HJOpBHOfXy"
      }
    },
    {
      "cell_type": "code",
      "source": [
        "# Only run this cell once, then restart runtime\n",
        "!wget https://gist.githubusercontent.com/rogerfvieira/8c5187cc7d080119202d4a069d28f50c/raw/22627ca804d64360a97db9839adccacf53cdb1ef/requirements.txt\n",
        "!pip install -r requirements.txt"
      ],
      "metadata": {
        "id": "rlmdmsWtNDWE"
      },
      "execution_count": null,
      "outputs": []
    },
    {
      "cell_type": "code",
      "source": [
        "# Base\n",
        "from collections import Counter, OrderedDict\n",
        "import json\n",
        "import requests\n",
        "import re\n",
        "\n",
        "# Plotting\n",
        "import matplotlib.pyplot as plt\n",
        "import seaborn as sns\n",
        "import plotly.graph_objects as go\n",
        "import plotly.express as px\n",
        "import altair as alt\n",
        "import pandas as pd\n",
        "\n",
        "# NLP Libraries\n",
        "import spacy\n",
        "\n",
        "import gensim\n",
        "import gensim.corpora as corpora\n",
        "from gensim.utils import simple_preprocess\n",
        "from gensim.models import CoherenceModel\n",
        "\n",
        "import pyLDAvis\n",
        "import pyLDAvis.gensim_models"
      ],
      "metadata": {
        "id": "lmCZRKimShQ5",
        "colab": {
          "base_uri": "https://localhost:8080/"
        },
        "outputId": "0dba0c78-2211-4e0c-beeb-7eff2282b968"
      },
      "execution_count": 1,
      "outputs": [
        {
          "output_type": "stream",
          "name": "stderr",
          "text": [
            "/usr/local/lib/python3.7/dist-packages/past/types/oldstr.py:5: DeprecationWarning: Using or importing the ABCs from 'collections' instead of from 'collections.abc' is deprecated since Python 3.3,and in 3.9 it will stop working\n",
            "  from collections import Iterable\n"
          ]
        }
      ]
    },
    {
      "cell_type": "markdown",
      "source": [
        "# Load data from API"
      ],
      "metadata": {
        "id": "wySf7ogeF9YX"
      }
    },
    {
      "cell_type": "code",
      "source": [
        "mongo_cursor = requests.post('http://underdog-devs-ds-a-dev.us-east-1.elasticbeanstalk.com/Responses/read').json()\n",
        "responses = [obj[\"text\"] for obj in mongo_cursor['result']]"
      ],
      "metadata": {
        "id": "SuBrYDDLQs3q"
      },
      "execution_count": 3,
      "outputs": []
    },
    {
      "cell_type": "markdown",
      "source": [
        "# Lemmatization\\Tokenization"
      ],
      "metadata": {
        "id": "rdStVMH8L7JD"
      }
    },
    {
      "cell_type": "code",
      "source": [
        "def lemmatize(document):\n",
        "    \"\"\"\n",
        "    Takes document (individual response) and returns list of tokens in the form\n",
        "    of lemmas.\n",
        "    Converts all text to lowercase tokens, removes stop words, punctuation, \n",
        "    numbers, and tokens of blank space\"\n",
        "    \"\"\"\n",
        "    \n",
        "    nlp = spacy.load(\"en_core_web_sm\")\n",
        "    doc = nlp(document)\n",
        "   \n",
        "    lemma_list = [\n",
        "        token.lemma_.lower() for token in doc\n",
        "        if not token.is_stop\n",
        "        and not token.is_punct\n",
        "        and not token.like_num\n",
        "        and not token.is_space\n",
        "    ]\n",
        "    return lemma_list"
      ],
      "metadata": {
        "id": "5tO-28wWEoFe"
      },
      "execution_count": 4,
      "outputs": []
    },
    {
      "cell_type": "code",
      "source": [
        "def remove_nums(sentence):\n",
        "  \"\"\"Removes numbers from all strings\n",
        "  \"\"\"\n",
        "  pattern = '[0-9]+'\n",
        "  sentence_withoutnum = [re.sub(pattern,'',i) for i in sentence]\n",
        "  return sentence_withoutnum"
      ],
      "metadata": {
        "id": "NvQQiRxbQZbo"
      },
      "execution_count": 5,
      "outputs": []
    },
    {
      "cell_type": "code",
      "source": [
        "lemmas = [remove_nums(lemmatize(sentences)) for sentences in responses]"
      ],
      "metadata": {
        "id": "bUcwzCeomDPL"
      },
      "execution_count": 6,
      "outputs": []
    },
    {
      "cell_type": "code",
      "source": [
        "lemmas[:5]"
      ],
      "metadata": {
        "colab": {
          "base_uri": "https://localhost:8080/"
        },
        "id": "T3yJ2g3lWBSG",
        "outputId": "3fa6373d-f1a3-417c-98d3-bff6c1fa2e17"
      },
      "execution_count": 48,
      "outputs": [
        {
          "output_type": "execute_result",
          "data": {
            "text/plain": [
              "[['mentor', 'lead', 'job'],\n",
              " ['great', 'problem', 'solver'],\n",
              " ['want', 'essential', 'advantage', 'gain', 'knowledge'],\n",
              " ['want',\n",
              "  'learn',\n",
              "  'develop',\n",
              "  'skill',\n",
              "  'able',\n",
              "  'startup',\n",
              "  'ground',\n",
              "  'impact',\n",
              "  'underdogdev',\n",
              "  'community'],\n",
              " ['well', 'developer', 'help', 'return']]"
            ]
          },
          "metadata": {},
          "execution_count": 48
        }
      ]
    },
    {
      "cell_type": "markdown",
      "source": [
        "# Frequency Analysis"
      ],
      "metadata": {
        "id": "s96kvb79Owqf"
      }
    },
    {
      "cell_type": "markdown",
      "source": [
        "## Two Word Phrases"
      ],
      "metadata": {
        "id": "CnqR7e5WL37t"
      }
    },
    {
      "cell_type": "code",
      "source": [
        "double_tokens = []\n",
        "for response in range(len(lemmas)):\n",
        "    for token in range(len(lemmas[response]) - 1):\n",
        "        double_tokens.append(lemmas[response][token] + ' ' +\n",
        "                             lemmas[response][token+1])\n",
        "\n",
        "print(double_tokens[:10])"
      ],
      "metadata": {
        "id": "6b2YLArUEgRN",
        "colab": {
          "base_uri": "https://localhost:8080/"
        },
        "outputId": "784ae53e-0130-494d-d806-461e2feccc95"
      },
      "execution_count": 8,
      "outputs": [
        {
          "output_type": "stream",
          "name": "stdout",
          "text": [
            "['mentor lead', 'lead job', 'great problem', 'problem solver', 'want essential', 'essential advantage', 'advantage gain', 'gain knowledge', 'want learn', 'learn develop']\n"
          ]
        }
      ]
    },
    {
      "cell_type": "code",
      "source": [
        "freq_double = dict(Counter(double_tokens))"
      ],
      "metadata": {
        "id": "UnScZs_QGIww"
      },
      "execution_count": 9,
      "outputs": []
    },
    {
      "cell_type": "code",
      "source": [
        "sort_freq_double = sorted(freq_double.items(), key=lambda x:x[1])"
      ],
      "metadata": {
        "id": "Ia4kh4sfHQfB"
      },
      "execution_count": 10,
      "outputs": []
    },
    {
      "cell_type": "code",
      "source": [
        "df_double = pd.DataFrame(sort_freq_double, columns=('phrase','frequency'))\n",
        "double_top_20 = df_double[-20:]\n",
        "double_top_20.tail()"
      ],
      "metadata": {
        "colab": {
          "base_uri": "https://localhost:8080/",
          "height": 206
        },
        "id": "PNoV4uJpdjdk",
        "outputId": "21c6cf01-e240-4105-bca3-f56426114413"
      },
      "execution_count": 11,
      "outputs": [
        {
          "output_type": "execute_result",
          "data": {
            "text/plain": [
              "                 phrase  frequency\n",
              "2257  software engineer          7\n",
              "2258     gain knowledge          8\n",
              "2259           land job          8\n",
              "2260       ask question          8\n",
              "2261          hope gain         18"
            ],
            "text/html": [
              "\n",
              "  <div id=\"df-11da26a0-2fc0-47f1-920c-9136724202ff\">\n",
              "    <div class=\"colab-df-container\">\n",
              "      <div>\n",
              "<style scoped>\n",
              "    .dataframe tbody tr th:only-of-type {\n",
              "        vertical-align: middle;\n",
              "    }\n",
              "\n",
              "    .dataframe tbody tr th {\n",
              "        vertical-align: top;\n",
              "    }\n",
              "\n",
              "    .dataframe thead th {\n",
              "        text-align: right;\n",
              "    }\n",
              "</style>\n",
              "<table border=\"1\" class=\"dataframe\">\n",
              "  <thead>\n",
              "    <tr style=\"text-align: right;\">\n",
              "      <th></th>\n",
              "      <th>phrase</th>\n",
              "      <th>frequency</th>\n",
              "    </tr>\n",
              "  </thead>\n",
              "  <tbody>\n",
              "    <tr>\n",
              "      <th>2257</th>\n",
              "      <td>software engineer</td>\n",
              "      <td>7</td>\n",
              "    </tr>\n",
              "    <tr>\n",
              "      <th>2258</th>\n",
              "      <td>gain knowledge</td>\n",
              "      <td>8</td>\n",
              "    </tr>\n",
              "    <tr>\n",
              "      <th>2259</th>\n",
              "      <td>land job</td>\n",
              "      <td>8</td>\n",
              "    </tr>\n",
              "    <tr>\n",
              "      <th>2260</th>\n",
              "      <td>ask question</td>\n",
              "      <td>8</td>\n",
              "    </tr>\n",
              "    <tr>\n",
              "      <th>2261</th>\n",
              "      <td>hope gain</td>\n",
              "      <td>18</td>\n",
              "    </tr>\n",
              "  </tbody>\n",
              "</table>\n",
              "</div>\n",
              "      <button class=\"colab-df-convert\" onclick=\"convertToInteractive('df-11da26a0-2fc0-47f1-920c-9136724202ff')\"\n",
              "              title=\"Convert this dataframe to an interactive table.\"\n",
              "              style=\"display:none;\">\n",
              "        \n",
              "  <svg xmlns=\"http://www.w3.org/2000/svg\" height=\"24px\"viewBox=\"0 0 24 24\"\n",
              "       width=\"24px\">\n",
              "    <path d=\"M0 0h24v24H0V0z\" fill=\"none\"/>\n",
              "    <path d=\"M18.56 5.44l.94 2.06.94-2.06 2.06-.94-2.06-.94-.94-2.06-.94 2.06-2.06.94zm-11 1L8.5 8.5l.94-2.06 2.06-.94-2.06-.94L8.5 2.5l-.94 2.06-2.06.94zm10 10l.94 2.06.94-2.06 2.06-.94-2.06-.94-.94-2.06-.94 2.06-2.06.94z\"/><path d=\"M17.41 7.96l-1.37-1.37c-.4-.4-.92-.59-1.43-.59-.52 0-1.04.2-1.43.59L10.3 9.45l-7.72 7.72c-.78.78-.78 2.05 0 2.83L4 21.41c.39.39.9.59 1.41.59.51 0 1.02-.2 1.41-.59l7.78-7.78 2.81-2.81c.8-.78.8-2.07 0-2.86zM5.41 20L4 18.59l7.72-7.72 1.47 1.35L5.41 20z\"/>\n",
              "  </svg>\n",
              "      </button>\n",
              "      \n",
              "  <style>\n",
              "    .colab-df-container {\n",
              "      display:flex;\n",
              "      flex-wrap:wrap;\n",
              "      gap: 12px;\n",
              "    }\n",
              "\n",
              "    .colab-df-convert {\n",
              "      background-color: #E8F0FE;\n",
              "      border: none;\n",
              "      border-radius: 50%;\n",
              "      cursor: pointer;\n",
              "      display: none;\n",
              "      fill: #1967D2;\n",
              "      height: 32px;\n",
              "      padding: 0 0 0 0;\n",
              "      width: 32px;\n",
              "    }\n",
              "\n",
              "    .colab-df-convert:hover {\n",
              "      background-color: #E2EBFA;\n",
              "      box-shadow: 0px 1px 2px rgba(60, 64, 67, 0.3), 0px 1px 3px 1px rgba(60, 64, 67, 0.15);\n",
              "      fill: #174EA6;\n",
              "    }\n",
              "\n",
              "    [theme=dark] .colab-df-convert {\n",
              "      background-color: #3B4455;\n",
              "      fill: #D2E3FC;\n",
              "    }\n",
              "\n",
              "    [theme=dark] .colab-df-convert:hover {\n",
              "      background-color: #434B5C;\n",
              "      box-shadow: 0px 1px 3px 1px rgba(0, 0, 0, 0.15);\n",
              "      filter: drop-shadow(0px 1px 2px rgba(0, 0, 0, 0.3));\n",
              "      fill: #FFFFFF;\n",
              "    }\n",
              "  </style>\n",
              "\n",
              "      <script>\n",
              "        const buttonEl =\n",
              "          document.querySelector('#df-11da26a0-2fc0-47f1-920c-9136724202ff button.colab-df-convert');\n",
              "        buttonEl.style.display =\n",
              "          google.colab.kernel.accessAllowed ? 'block' : 'none';\n",
              "\n",
              "        async function convertToInteractive(key) {\n",
              "          const element = document.querySelector('#df-11da26a0-2fc0-47f1-920c-9136724202ff');\n",
              "          const dataTable =\n",
              "            await google.colab.kernel.invokeFunction('convertToInteractive',\n",
              "                                                     [key], {});\n",
              "          if (!dataTable) return;\n",
              "\n",
              "          const docLinkHtml = 'Like what you see? Visit the ' +\n",
              "            '<a target=\"_blank\" href=https://colab.research.google.com/notebooks/data_table.ipynb>data table notebook</a>'\n",
              "            + ' to learn more about interactive tables.';\n",
              "          element.innerHTML = '';\n",
              "          dataTable['output_type'] = 'display_data';\n",
              "          await google.colab.output.renderOutput(dataTable, element);\n",
              "          const docLink = document.createElement('div');\n",
              "          docLink.innerHTML = docLinkHtml;\n",
              "          element.appendChild(docLink);\n",
              "        }\n",
              "      </script>\n",
              "    </div>\n",
              "  </div>\n",
              "  "
            ]
          },
          "metadata": {},
          "execution_count": 11
        }
      ]
    },
    {
      "cell_type": "code",
      "source": [
        "double_graph = alt.Chart(\n",
        "                    double_top_20,\n",
        "                    title=\"Top 20 Most Common Phrases in User Responses\"\n",
        "                    ).mark_bar().encode(\n",
        "                        x=alt.X(\"frequency:Q\",\n",
        "                                title='Frequency'),\n",
        "                        y=alt.Y(\"phrase:O\",\n",
        "                                title='Phrases',\n",
        "                                sort=\"-x\",\n",
        "                                scale=alt.Scale()\n",
        "                                ))\n",
        "double_graph.display()"
      ],
      "metadata": {
        "colab": {
          "base_uri": "https://localhost:8080/",
          "height": 481
        },
        "id": "Zr8l_koyebTU",
        "outputId": "b602e4fc-6b45-44f9-cc35-94da4369b54c"
      },
      "execution_count": 12,
      "outputs": [
        {
          "output_type": "display_data",
          "data": {
            "text/html": [
              "\n",
              "<div id=\"altair-viz-411a321ccdb5451898b0d31a23484200\"></div>\n",
              "<script type=\"text/javascript\">\n",
              "  var VEGA_DEBUG = (typeof VEGA_DEBUG == \"undefined\") ? {} : VEGA_DEBUG;\n",
              "  (function(spec, embedOpt){\n",
              "    let outputDiv = document.currentScript.previousElementSibling;\n",
              "    if (outputDiv.id !== \"altair-viz-411a321ccdb5451898b0d31a23484200\") {\n",
              "      outputDiv = document.getElementById(\"altair-viz-411a321ccdb5451898b0d31a23484200\");\n",
              "    }\n",
              "    const paths = {\n",
              "      \"vega\": \"https://cdn.jsdelivr.net/npm//vega@5?noext\",\n",
              "      \"vega-lib\": \"https://cdn.jsdelivr.net/npm//vega-lib?noext\",\n",
              "      \"vega-lite\": \"https://cdn.jsdelivr.net/npm//vega-lite@4.17.0?noext\",\n",
              "      \"vega-embed\": \"https://cdn.jsdelivr.net/npm//vega-embed@6?noext\",\n",
              "    };\n",
              "\n",
              "    function maybeLoadScript(lib, version) {\n",
              "      var key = `${lib.replace(\"-\", \"\")}_version`;\n",
              "      return (VEGA_DEBUG[key] == version) ?\n",
              "        Promise.resolve(paths[lib]) :\n",
              "        new Promise(function(resolve, reject) {\n",
              "          var s = document.createElement('script');\n",
              "          document.getElementsByTagName(\"head\")[0].appendChild(s);\n",
              "          s.async = true;\n",
              "          s.onload = () => {\n",
              "            VEGA_DEBUG[key] = version;\n",
              "            return resolve(paths[lib]);\n",
              "          };\n",
              "          s.onerror = () => reject(`Error loading script: ${paths[lib]}`);\n",
              "          s.src = paths[lib];\n",
              "        });\n",
              "    }\n",
              "\n",
              "    function showError(err) {\n",
              "      outputDiv.innerHTML = `<div class=\"error\" style=\"color:red;\">${err}</div>`;\n",
              "      throw err;\n",
              "    }\n",
              "\n",
              "    function displayChart(vegaEmbed) {\n",
              "      vegaEmbed(outputDiv, spec, embedOpt)\n",
              "        .catch(err => showError(`Javascript Error: ${err.message}<br>This usually means there's a typo in your chart specification. See the javascript console for the full traceback.`));\n",
              "    }\n",
              "\n",
              "    if(typeof define === \"function\" && define.amd) {\n",
              "      requirejs.config({paths});\n",
              "      require([\"vega-embed\"], displayChart, err => showError(`Error loading script: ${err.message}`));\n",
              "    } else {\n",
              "      maybeLoadScript(\"vega\", \"5\")\n",
              "        .then(() => maybeLoadScript(\"vega-lite\", \"4.17.0\"))\n",
              "        .then(() => maybeLoadScript(\"vega-embed\", \"6\"))\n",
              "        .catch(showError)\n",
              "        .then(() => displayChart(vegaEmbed));\n",
              "    }\n",
              "  })({\"config\": {\"view\": {\"continuousWidth\": 400, \"continuousHeight\": 300}}, \"data\": {\"name\": \"data-eeabe5548083bb9dacb03b3329bd715f\"}, \"mark\": \"bar\", \"encoding\": {\"x\": {\"field\": \"frequency\", \"title\": \"Frequency\", \"type\": \"quantitative\"}, \"y\": {\"field\": \"phrase\", \"scale\": {}, \"sort\": \"-x\", \"title\": \"Phrases\", \"type\": \"ordinal\"}}, \"title\": \"Top 20 Most Common Phrases in User Responses\", \"$schema\": \"https://vega.github.io/schema/vega-lite/v4.17.0.json\", \"datasets\": {\"data-eeabe5548083bb9dacb03b3329bd715f\": [{\"phrase\": \"like learn\", \"frequency\": 4}, {\"phrase\": \"learn help\", \"frequency\": 4}, {\"phrase\": \"new career\", \"frequency\": 4}, {\"phrase\": \"learn grow\", \"frequency\": 4}, {\"phrase\": \"help people\", \"frequency\": 5}, {\"phrase\": \"software engineering\", \"frequency\": 5}, {\"phrase\": \"gain skill\", \"frequency\": 5}, {\"phrase\": \"learn code\", \"frequency\": 5}, {\"phrase\": \"pay forward\", \"frequency\": 5}, {\"phrase\": \"job tech\", \"frequency\": 5}, {\"phrase\": \"job opportunity\", \"frequency\": 5}, {\"phrase\": \"ios developer\", \"frequency\": 5}, {\"phrase\": \"feel like\", \"frequency\": 6}, {\"phrase\": \"software development\", \"frequency\": 6}, {\"phrase\": \"well understanding\", \"frequency\": 6}, {\"phrase\": \"software engineer\", \"frequency\": 7}, {\"phrase\": \"gain knowledge\", \"frequency\": 8}, {\"phrase\": \"land job\", \"frequency\": 8}, {\"phrase\": \"ask question\", \"frequency\": 8}, {\"phrase\": \"hope gain\", \"frequency\": 18}]}}, {\"mode\": \"vega-lite\"});\n",
              "</script>"
            ],
            "text/plain": [
              "alt.Chart(...)"
            ]
          },
          "metadata": {}
        }
      ]
    },
    {
      "cell_type": "markdown",
      "source": [
        "## Three Word Phrases"
      ],
      "metadata": {
        "id": "_TfhHIx7bL0-"
      }
    },
    {
      "cell_type": "code",
      "source": [
        "triple_tokens = []\n",
        "for response in range(len(lemmas)):\n",
        "    for j in range(len(lemmas[response]) - 2):\n",
        "        triple_tokens.append(lemmas[response][j] + ' ' +\n",
        "                                 lemmas[response][j+1] + ' ' +\n",
        "                                 lemmas[response][j+2])\n",
        "\n",
        "print(triple_tokens[:10])"
      ],
      "metadata": {
        "id": "Ok0n_ATvJBw6",
        "colab": {
          "base_uri": "https://localhost:8080/"
        },
        "outputId": "a3497ff5-cc07-4c17-fff5-73f1e83dc5c8"
      },
      "execution_count": 13,
      "outputs": [
        {
          "output_type": "stream",
          "name": "stdout",
          "text": [
            "['mentor lead job', 'great problem solver', 'want essential advantage', 'essential advantage gain', 'advantage gain knowledge', 'want learn develop', 'learn develop skill', 'develop skill able', 'skill able startup', 'able startup ground']\n"
          ]
        }
      ]
    },
    {
      "cell_type": "code",
      "source": [
        "freq_triple = dict(Counter(triple_tokens))"
      ],
      "metadata": {
        "id": "wcDdI-sXJL9X"
      },
      "execution_count": 14,
      "outputs": []
    },
    {
      "cell_type": "code",
      "source": [
        "sort_freq_triple = sorted(freq_triple.items(), key=lambda x:x[1])"
      ],
      "metadata": {
        "id": "fHUOR7VVJZ86"
      },
      "execution_count": 15,
      "outputs": []
    },
    {
      "cell_type": "code",
      "source": [
        "df_triple = pd.DataFrame(sort_freq_triple, columns=('phrase','frequency'))\n",
        "triple_top_20 = df_triple[-20:]\n",
        "triple_top_20.tail()"
      ],
      "metadata": {
        "colab": {
          "base_uri": "https://localhost:8080/",
          "height": 206
        },
        "id": "FEwy0-pSfYQ2",
        "outputId": "e7edec00-6989-4709-c4d2-fbd57b560e7a"
      },
      "execution_count": 16,
      "outputs": [
        {
          "output_type": "execute_result",
          "data": {
            "text/plain": [
              "                         phrase  frequency\n",
              "2240  career software developer          2\n",
              "2241        hope gain knowledge          3\n",
              "2242         new direction life          3\n",
              "2243   direction life financial          3\n",
              "2244   life financial stability          3"
            ],
            "text/html": [
              "\n",
              "  <div id=\"df-381c58f7-bca0-410b-b659-9e29da8f383f\">\n",
              "    <div class=\"colab-df-container\">\n",
              "      <div>\n",
              "<style scoped>\n",
              "    .dataframe tbody tr th:only-of-type {\n",
              "        vertical-align: middle;\n",
              "    }\n",
              "\n",
              "    .dataframe tbody tr th {\n",
              "        vertical-align: top;\n",
              "    }\n",
              "\n",
              "    .dataframe thead th {\n",
              "        text-align: right;\n",
              "    }\n",
              "</style>\n",
              "<table border=\"1\" class=\"dataframe\">\n",
              "  <thead>\n",
              "    <tr style=\"text-align: right;\">\n",
              "      <th></th>\n",
              "      <th>phrase</th>\n",
              "      <th>frequency</th>\n",
              "    </tr>\n",
              "  </thead>\n",
              "  <tbody>\n",
              "    <tr>\n",
              "      <th>2240</th>\n",
              "      <td>career software developer</td>\n",
              "      <td>2</td>\n",
              "    </tr>\n",
              "    <tr>\n",
              "      <th>2241</th>\n",
              "      <td>hope gain knowledge</td>\n",
              "      <td>3</td>\n",
              "    </tr>\n",
              "    <tr>\n",
              "      <th>2242</th>\n",
              "      <td>new direction life</td>\n",
              "      <td>3</td>\n",
              "    </tr>\n",
              "    <tr>\n",
              "      <th>2243</th>\n",
              "      <td>direction life financial</td>\n",
              "      <td>3</td>\n",
              "    </tr>\n",
              "    <tr>\n",
              "      <th>2244</th>\n",
              "      <td>life financial stability</td>\n",
              "      <td>3</td>\n",
              "    </tr>\n",
              "  </tbody>\n",
              "</table>\n",
              "</div>\n",
              "      <button class=\"colab-df-convert\" onclick=\"convertToInteractive('df-381c58f7-bca0-410b-b659-9e29da8f383f')\"\n",
              "              title=\"Convert this dataframe to an interactive table.\"\n",
              "              style=\"display:none;\">\n",
              "        \n",
              "  <svg xmlns=\"http://www.w3.org/2000/svg\" height=\"24px\"viewBox=\"0 0 24 24\"\n",
              "       width=\"24px\">\n",
              "    <path d=\"M0 0h24v24H0V0z\" fill=\"none\"/>\n",
              "    <path d=\"M18.56 5.44l.94 2.06.94-2.06 2.06-.94-2.06-.94-.94-2.06-.94 2.06-2.06.94zm-11 1L8.5 8.5l.94-2.06 2.06-.94-2.06-.94L8.5 2.5l-.94 2.06-2.06.94zm10 10l.94 2.06.94-2.06 2.06-.94-2.06-.94-.94-2.06-.94 2.06-2.06.94z\"/><path d=\"M17.41 7.96l-1.37-1.37c-.4-.4-.92-.59-1.43-.59-.52 0-1.04.2-1.43.59L10.3 9.45l-7.72 7.72c-.78.78-.78 2.05 0 2.83L4 21.41c.39.39.9.59 1.41.59.51 0 1.02-.2 1.41-.59l7.78-7.78 2.81-2.81c.8-.78.8-2.07 0-2.86zM5.41 20L4 18.59l7.72-7.72 1.47 1.35L5.41 20z\"/>\n",
              "  </svg>\n",
              "      </button>\n",
              "      \n",
              "  <style>\n",
              "    .colab-df-container {\n",
              "      display:flex;\n",
              "      flex-wrap:wrap;\n",
              "      gap: 12px;\n",
              "    }\n",
              "\n",
              "    .colab-df-convert {\n",
              "      background-color: #E8F0FE;\n",
              "      border: none;\n",
              "      border-radius: 50%;\n",
              "      cursor: pointer;\n",
              "      display: none;\n",
              "      fill: #1967D2;\n",
              "      height: 32px;\n",
              "      padding: 0 0 0 0;\n",
              "      width: 32px;\n",
              "    }\n",
              "\n",
              "    .colab-df-convert:hover {\n",
              "      background-color: #E2EBFA;\n",
              "      box-shadow: 0px 1px 2px rgba(60, 64, 67, 0.3), 0px 1px 3px 1px rgba(60, 64, 67, 0.15);\n",
              "      fill: #174EA6;\n",
              "    }\n",
              "\n",
              "    [theme=dark] .colab-df-convert {\n",
              "      background-color: #3B4455;\n",
              "      fill: #D2E3FC;\n",
              "    }\n",
              "\n",
              "    [theme=dark] .colab-df-convert:hover {\n",
              "      background-color: #434B5C;\n",
              "      box-shadow: 0px 1px 3px 1px rgba(0, 0, 0, 0.15);\n",
              "      filter: drop-shadow(0px 1px 2px rgba(0, 0, 0, 0.3));\n",
              "      fill: #FFFFFF;\n",
              "    }\n",
              "  </style>\n",
              "\n",
              "      <script>\n",
              "        const buttonEl =\n",
              "          document.querySelector('#df-381c58f7-bca0-410b-b659-9e29da8f383f button.colab-df-convert');\n",
              "        buttonEl.style.display =\n",
              "          google.colab.kernel.accessAllowed ? 'block' : 'none';\n",
              "\n",
              "        async function convertToInteractive(key) {\n",
              "          const element = document.querySelector('#df-381c58f7-bca0-410b-b659-9e29da8f383f');\n",
              "          const dataTable =\n",
              "            await google.colab.kernel.invokeFunction('convertToInteractive',\n",
              "                                                     [key], {});\n",
              "          if (!dataTable) return;\n",
              "\n",
              "          const docLinkHtml = 'Like what you see? Visit the ' +\n",
              "            '<a target=\"_blank\" href=https://colab.research.google.com/notebooks/data_table.ipynb>data table notebook</a>'\n",
              "            + ' to learn more about interactive tables.';\n",
              "          element.innerHTML = '';\n",
              "          dataTable['output_type'] = 'display_data';\n",
              "          await google.colab.output.renderOutput(dataTable, element);\n",
              "          const docLink = document.createElement('div');\n",
              "          docLink.innerHTML = docLinkHtml;\n",
              "          element.appendChild(docLink);\n",
              "        }\n",
              "      </script>\n",
              "    </div>\n",
              "  </div>\n",
              "  "
            ]
          },
          "metadata": {},
          "execution_count": 16
        }
      ]
    },
    {
      "cell_type": "code",
      "source": [
        "triple_graph = alt.Chart(\n",
        "                    triple_top_20,\n",
        "                    title=\"Top 20 Most Common Phrases in User Responses\"\n",
        "                    ).mark_bar().encode(\n",
        "                        x=alt.X(\"frequency:Q\",\n",
        "                                title='Frequency',\n",
        "                                axis=alt.Axis(tickMinStep=1)\n",
        "                                ),\n",
        "                        y=alt.Y(\"phrase:O\",\n",
        "                                title='Phrases',\n",
        "                                sort=\"-x\")\n",
        "                                )\n",
        "triple_graph.display()"
      ],
      "metadata": {
        "colab": {
          "base_uri": "https://localhost:8080/",
          "height": 481
        },
        "id": "ou5w2FnOfFeb",
        "outputId": "071e4e3e-a63b-4d42-8e48-f6a53291684d"
      },
      "execution_count": 17,
      "outputs": [
        {
          "output_type": "display_data",
          "data": {
            "text/html": [
              "\n",
              "<div id=\"altair-viz-ccf6c39fd0d24543b9ea67d528bf35b8\"></div>\n",
              "<script type=\"text/javascript\">\n",
              "  var VEGA_DEBUG = (typeof VEGA_DEBUG == \"undefined\") ? {} : VEGA_DEBUG;\n",
              "  (function(spec, embedOpt){\n",
              "    let outputDiv = document.currentScript.previousElementSibling;\n",
              "    if (outputDiv.id !== \"altair-viz-ccf6c39fd0d24543b9ea67d528bf35b8\") {\n",
              "      outputDiv = document.getElementById(\"altair-viz-ccf6c39fd0d24543b9ea67d528bf35b8\");\n",
              "    }\n",
              "    const paths = {\n",
              "      \"vega\": \"https://cdn.jsdelivr.net/npm//vega@5?noext\",\n",
              "      \"vega-lib\": \"https://cdn.jsdelivr.net/npm//vega-lib?noext\",\n",
              "      \"vega-lite\": \"https://cdn.jsdelivr.net/npm//vega-lite@4.17.0?noext\",\n",
              "      \"vega-embed\": \"https://cdn.jsdelivr.net/npm//vega-embed@6?noext\",\n",
              "    };\n",
              "\n",
              "    function maybeLoadScript(lib, version) {\n",
              "      var key = `${lib.replace(\"-\", \"\")}_version`;\n",
              "      return (VEGA_DEBUG[key] == version) ?\n",
              "        Promise.resolve(paths[lib]) :\n",
              "        new Promise(function(resolve, reject) {\n",
              "          var s = document.createElement('script');\n",
              "          document.getElementsByTagName(\"head\")[0].appendChild(s);\n",
              "          s.async = true;\n",
              "          s.onload = () => {\n",
              "            VEGA_DEBUG[key] = version;\n",
              "            return resolve(paths[lib]);\n",
              "          };\n",
              "          s.onerror = () => reject(`Error loading script: ${paths[lib]}`);\n",
              "          s.src = paths[lib];\n",
              "        });\n",
              "    }\n",
              "\n",
              "    function showError(err) {\n",
              "      outputDiv.innerHTML = `<div class=\"error\" style=\"color:red;\">${err}</div>`;\n",
              "      throw err;\n",
              "    }\n",
              "\n",
              "    function displayChart(vegaEmbed) {\n",
              "      vegaEmbed(outputDiv, spec, embedOpt)\n",
              "        .catch(err => showError(`Javascript Error: ${err.message}<br>This usually means there's a typo in your chart specification. See the javascript console for the full traceback.`));\n",
              "    }\n",
              "\n",
              "    if(typeof define === \"function\" && define.amd) {\n",
              "      requirejs.config({paths});\n",
              "      require([\"vega-embed\"], displayChart, err => showError(`Error loading script: ${err.message}`));\n",
              "    } else {\n",
              "      maybeLoadScript(\"vega\", \"5\")\n",
              "        .then(() => maybeLoadScript(\"vega-lite\", \"4.17.0\"))\n",
              "        .then(() => maybeLoadScript(\"vega-embed\", \"6\"))\n",
              "        .catch(showError)\n",
              "        .then(() => displayChart(vegaEmbed));\n",
              "    }\n",
              "  })({\"config\": {\"view\": {\"continuousWidth\": 400, \"continuousHeight\": 300}}, \"data\": {\"name\": \"data-17f04df0a3c6d646a69418c0f5e13913\"}, \"mark\": \"bar\", \"encoding\": {\"x\": {\"axis\": {\"tickMinStep\": 1}, \"field\": \"frequency\", \"title\": \"Frequency\", \"type\": \"quantitative\"}, \"y\": {\"field\": \"phrase\", \"sort\": \"-x\", \"title\": \"Phrases\", \"type\": \"ordinal\"}}, \"title\": \"Top 20 Most Common Phrases in User Responses\", \"$schema\": \"https://vega.github.io/schema/vega-lite/v4.17.0.json\", \"datasets\": {\"data-17f04df0a3c6d646a69418c0f5e13913\": [{\"phrase\": \"gain skill need\", \"frequency\": 2}, {\"phrase\": \"learn new skill\", \"frequency\": 2}, {\"phrase\": \"self teach developer\", \"frequency\": 2}, {\"phrase\": \"like minded individual\", \"frequency\": 2}, {\"phrase\": \"help foot door\", \"frequency\": 2}, {\"phrase\": \"high pay job\", \"frequency\": 2}, {\"phrase\": \"people similar situation\", \"frequency\": 2}, {\"phrase\": \"far code journey\", \"frequency\": 2}, {\"phrase\": \"computer skill network\", \"frequency\": 2}, {\"phrase\": \"skill network build\", \"frequency\": 2}, {\"phrase\": \"network build confidence\", \"frequency\": 2}, {\"phrase\": \"hope gain mentor\", \"frequency\": 2}, {\"phrase\": \"well understanding stack\", \"frequency\": 2}, {\"phrase\": \"help learn code\", \"frequency\": 2}, {\"phrase\": \"gain well understanding\", \"frequency\": 2}, {\"phrase\": \"career software developer\", \"frequency\": 2}, {\"phrase\": \"hope gain knowledge\", \"frequency\": 3}, {\"phrase\": \"new direction life\", \"frequency\": 3}, {\"phrase\": \"direction life financial\", \"frequency\": 3}, {\"phrase\": \"life financial stability\", \"frequency\": 3}]}}, {\"mode\": \"vega-lite\"});\n",
              "</script>"
            ],
            "text/plain": [
              "alt.Chart(...)"
            ]
          },
          "metadata": {}
        }
      ]
    },
    {
      "cell_type": "markdown",
      "source": [
        "# More Data Exploration"
      ],
      "metadata": {
        "id": "4oOoJt-GB6GD"
      }
    },
    {
      "cell_type": "code",
      "execution_count": 18,
      "metadata": {
        "id": "VQ-YelEKNzOX",
        "colab": {
          "base_uri": "https://localhost:8080/"
        },
        "outputId": "e5592152-edd5-4afd-83be-820a92eb952a"
      },
      "outputs": [
        {
          "output_type": "execute_result",
          "data": {
            "text/plain": [
              "{'career software developer': 2,\n",
              " 'computer skill network': 2,\n",
              " 'direction life financial': 3,\n",
              " 'far code journey': 2,\n",
              " 'gain skill need': 2,\n",
              " 'gain well understanding': 2,\n",
              " 'help foot door': 2,\n",
              " 'help learn code': 2,\n",
              " 'high pay job': 2,\n",
              " 'hope gain knowledge': 3,\n",
              " 'hope gain mentor': 2,\n",
              " 'job software development': 2,\n",
              " 'learn new skill': 2,\n",
              " 'life financial stability': 3,\n",
              " 'like minded individual': 2,\n",
              " 'network build confidence': 2,\n",
              " 'new direction life': 3,\n",
              " 'people similar situation': 2,\n",
              " 'self teach developer': 2,\n",
              " 'skill land job': 2,\n",
              " 'skill network build': 2,\n",
              " 'well understanding stack': 2}"
            ]
          },
          "metadata": {},
          "execution_count": 18
        }
      ],
      "source": [
        "# view all 3 word phrases that appear more than once across all docs\n",
        "freq3_2 = {key:value for (key,value) in freq_triple.items() if value > 1}\n",
        "freq3_2"
      ]
    },
    {
      "cell_type": "markdown",
      "source": [
        "## Two Nonconsecutive Tokens From Responses\n",
        "Frequency analysis on any two words in one response, not only consequetive ones.\n"
      ],
      "metadata": {
        "id": "wS57qlHJCCR-"
      }
    },
    {
      "cell_type": "code",
      "source": [
        "two_tokens = []\n",
        "for i in range(len(lemmas)):\n",
        "    for j in range(len(lemmas[i]) - 1):\n",
        "        for k in range(j + 1, len(lemmas[i])):\n",
        "            new = sorted([lemmas[i][j], lemmas[i][k]])\n",
        "            two_tokens.append(new[0] + ' ' +  new[1])\n",
        "\n",
        "\n",
        "print(two_tokens[:20])"
      ],
      "metadata": {
        "id": "nuqY7XSrOwdi",
        "colab": {
          "base_uri": "https://localhost:8080/"
        },
        "outputId": "33498cb4-0794-4a65-ca85-f59571f57375"
      },
      "execution_count": 50,
      "outputs": [
        {
          "output_type": "stream",
          "name": "stdout",
          "text": [
            "['lead mentor', 'job mentor', 'job lead', 'great problem', 'great solver', 'problem solver', 'essential want', 'advantage want', 'gain want', 'knowledge want', 'advantage essential', 'essential gain', 'essential knowledge', 'advantage gain', 'advantage knowledge', 'gain knowledge', 'learn want', 'develop want', 'skill want', 'able want']\n"
          ]
        }
      ]
    },
    {
      "cell_type": "code",
      "source": [
        "freq_two = dict(Counter(two_tokens))"
      ],
      "metadata": {
        "id": "4z9C7tQDQJtM"
      },
      "execution_count": 37,
      "outputs": []
    },
    {
      "cell_type": "code",
      "source": [
        "sort_freq_two = sorted(freq_two.items(), key=lambda x:x[1])\n",
        "sort_freq_two[-20:]"
      ],
      "metadata": {
        "id": "0ChM2XR4QSV0",
        "colab": {
          "base_uri": "https://localhost:8080/"
        },
        "outputId": "58c82a0d-f082-4a92-82aa-00b1e7c6abc0"
      },
      "execution_count": 21,
      "outputs": [
        {
          "output_type": "execute_result",
          "data": {
            "text/plain": [
              "[('community learn', 15),\n",
              " ('like mentor', 15),\n",
              " ('community people', 16),\n",
              " ('hope job', 16),\n",
              " ('job mentor', 17),\n",
              " ('learn skill', 17),\n",
              " ('good learn', 17),\n",
              " ('hope skill', 17),\n",
              " ('learn people', 18),\n",
              " ('help skill', 19),\n",
              " ('help want', 20),\n",
              " ('help people', 21),\n",
              " ('learn like', 21),\n",
              " ('like people', 21),\n",
              " ('job learn', 22),\n",
              " ('help job', 24),\n",
              " ('help learn', 26),\n",
              " ('job skill', 27),\n",
              " ('gain hope', 27),\n",
              " ('help like', 33)]"
            ]
          },
          "metadata": {},
          "execution_count": 21
        }
      ]
    },
    {
      "cell_type": "markdown",
      "source": [
        "# Three Nonconsecutive Tokens"
      ],
      "metadata": {
        "id": "nW1Bhg2fDDo9"
      }
    },
    {
      "cell_type": "code",
      "source": [
        "three_tokens = []\n",
        "for i in range(len(lemmas)):\n",
        "    for j in range(len(lemmas[i]) - 2):\n",
        "        for k in range(j + 1, len(lemmas[i]) - 1):\n",
        "            for l in range(k + 1, len(lemmas[i])):\n",
        "                new = sorted([lemmas[i][j], lemmas[i][k], lemmas[i][l]])\n",
        "                three_tokens.append(new[0] + ' ' +  new[1] + ' ' + new[2])\n",
        "\n",
        "print(three_tokens[:20])"
      ],
      "metadata": {
        "id": "Rr_VBBncQ_PO",
        "colab": {
          "base_uri": "https://localhost:8080/"
        },
        "outputId": "2dbd88da-ae89-4715-dbb0-5403f4de00cf"
      },
      "execution_count": 22,
      "outputs": [
        {
          "output_type": "stream",
          "name": "stdout",
          "text": [
            "['job lead mentor', 'great problem solver', 'advantage essential want', 'essential gain want', 'essential knowledge want', 'advantage gain want', 'advantage knowledge want', 'gain knowledge want', 'advantage essential gain', 'advantage essential knowledge', 'essential gain knowledge', 'advantage gain knowledge', 'develop learn want', 'learn skill want', 'able learn want', 'learn startup want', 'ground learn want', 'impact learn want', 'learn underdogdev want', 'community learn want']\n"
          ]
        }
      ]
    },
    {
      "cell_type": "code",
      "source": [
        "freq_three = dict(Counter(three_tokens))"
      ],
      "metadata": {
        "id": "YV4UQUt2RzWq"
      },
      "execution_count": 38,
      "outputs": []
    },
    {
      "cell_type": "code",
      "source": [
        "sort_freq_three = sorted(freq_three.items(), key=lambda x:x[1])\n",
        "sort_freq_three[-20:]"
      ],
      "metadata": {
        "id": "p3bQmK2dR57R",
        "colab": {
          "base_uri": "https://localhost:8080/"
        },
        "outputId": "93a0f98c-843d-4446-9837-a1cc90c5fd6a"
      },
      "execution_count": 24,
      "outputs": [
        {
          "output_type": "execute_result",
          "data": {
            "text/plain": [
              "[('help race want', 18),\n",
              " ('good help learn', 19),\n",
              " ('experience job people', 19),\n",
              " ('experience help people', 19),\n",
              " ('people situation understand', 19),\n",
              " ('like people understand', 19),\n",
              " ('like people situation', 19),\n",
              " ('like understanding well', 20),\n",
              " ('help understanding well', 20),\n",
              " ('help learn like', 22),\n",
              " ('hard learn people', 24),\n",
              " ('good learn people', 24),\n",
              " ('learn people understand', 24),\n",
              " ('help learn people', 25),\n",
              " ('learn like people', 25),\n",
              " ('job learn people', 25),\n",
              " ('experience learn people', 25),\n",
              " ('learn people situation', 25),\n",
              " ('help like people', 27),\n",
              " ('bear race want', 27)]"
            ]
          },
          "metadata": {},
          "execution_count": 24
        }
      ]
    },
    {
      "cell_type": "markdown",
      "source": [
        "# Topic modeling and LDA:\n",
        "Topic modeling allows the user to explore the content of the documents and build new connections between topics they might not have been aware of. Latent Dirichlet Allocation (LDA) is a type of topic modeling in which words are represented as topics, and documents are represented as a collection of these word topics.\n",
        " \tA useful topic model has big non-overlapping circles scattered throughout the chart instead of being clustered in one quadrant. The package also allows the user to observe the most relevant keywords from the selected topic."
      ],
      "metadata": {
        "id": "s_zXUvO97S8m"
      }
    },
    {
      "cell_type": "markdown",
      "source": [
        "# A Latent Dirichlet Allocation(LDA) Model with gensim\n",
        "\n",
        "\n",
        "**The two main inputs to the genesim LDA topic model are the dictionary(id2word) and the corpus.**\n",
        "\n",
        "\n",
        "\n",
        "*   The id2word is a special object that keeps track of the mapping from text to numerical index, and the mapping from numerical index back to text.\n",
        "*   The corpus is a specially formatted list containing information about each document.\n",
        "\n",
        "\n"
      ],
      "metadata": {
        "id": "zUeacBld_PKw"
      }
    },
    {
      "cell_type": "markdown",
      "source": [
        "**Create the id2word dictionary**\n",
        "\n",
        "\n"
      ],
      "metadata": {
        "id": "8URqx_rbHDlH"
      }
    },
    {
      "cell_type": "code",
      "source": [
        "id2word = corpora.Dictionary(lemmas)"
      ],
      "metadata": {
        "id": "at9yUdjjQ04j"
      },
      "execution_count": 25,
      "outputs": []
    },
    {
      "cell_type": "code",
      "source": [
        "corpus = [id2word.doc2bow(doc_lemmas) for doc_lemmas in lemmas]"
      ],
      "metadata": {
        "id": "HMk9yKGyRmwz"
      },
      "execution_count": 26,
      "outputs": []
    },
    {
      "cell_type": "code",
      "source": [
        "n_of_words = [len(lemmas[i]) for i in range(len(lemmas))]\n",
        "sorted(n_of_words)[-10:]"
      ],
      "metadata": {
        "id": "neWWApV0v0eZ",
        "colab": {
          "base_uri": "https://localhost:8080/"
        },
        "outputId": "f213a580-2427-4f3b-f755-8f9764739b23"
      },
      "execution_count": 27,
      "outputs": [
        {
          "output_type": "execute_result",
          "data": {
            "text/plain": [
              "[31, 32, 33, 37, 38, 38, 43, 54, 57, 93]"
            ]
          },
          "metadata": {},
          "execution_count": 27
        }
      ]
    },
    {
      "cell_type": "markdown",
      "source": [
        "# Train an LDA model"
      ],
      "metadata": {
        "id": "HNIt8zj_ITqs"
      }
    },
    {
      "cell_type": "code",
      "source": [
        "num_topics = 3\n",
        "\n",
        "lda_multicore_3_topics = gensim.models.ldamulticore.LdaMulticore(corpus=corpus,\n",
        "                                                        id2word=id2word,\n",
        "                                                        num_topics=num_topics, \n",
        "                                                        chunksize=100,\n",
        "                                                        passes=10,\n",
        "                                                        per_word_topics=True,\n",
        "                                                        workers=1, \n",
        "                                                        random_state=1234, \n",
        "                                                        iterations=10) "
      ],
      "metadata": {
        "id": "GqaU_5sETNRo"
      },
      "execution_count": null,
      "outputs": []
    },
    {
      "cell_type": "markdown",
      "source": [
        "# Interpretion of LDA results and Selection of the appropriate number of topics\n",
        "\n",
        "\n",
        "*   LDAvis provides an interactive visualization of the topics estimated using Latent Dirichlet Allocation(LDA)\n",
        "\n",
        "\n"
      ],
      "metadata": {
        "id": "tgIEJf8WsQE6"
      }
    },
    {
      "cell_type": "markdown",
      "source": [
        "# Visualising the topics in the model"
      ],
      "metadata": {
        "id": "CqOMFo9NtJP9"
      }
    },
    {
      "cell_type": "code",
      "source": [
        "pyLDAvis.enable_notebook()\n",
        "vis = pyLDAvis.gensim_models.prepare(lda_multicore_3_topics, corpus, id2word)\n",
        "vis"
      ],
      "metadata": {
        "id": "_tKtkzdETVTi",
        "colab": {
          "base_uri": "https://localhost:8080/",
          "height": 916
        },
        "outputId": "ad34a75f-f1af-4e1f-d314-eb0e19ffca74"
      },
      "execution_count": 39,
      "outputs": [
        {
          "output_type": "stream",
          "name": "stderr",
          "text": [
            "/usr/local/lib/python3.7/dist-packages/pyLDAvis/_prepare.py:247: FutureWarning: In a future version of pandas all arguments of DataFrame.drop except for the argument 'labels' will be keyword-only\n",
            "  by='saliency', ascending=False).head(R).drop('saliency', 1)\n"
          ]
        },
        {
          "output_type": "execute_result",
          "data": {
            "text/plain": [
              "PreparedData(topic_coordinates=              x         y  topics  cluster       Freq\n",
              "topic                                                \n",
              "2      0.148812 -0.065319       1        1  35.582345\n",
              "1     -0.136469 -0.084803       2        1  32.362052\n",
              "0     -0.012342  0.150122       3        1  32.055603, topic_info=          Term       Freq      Total Category  logprob  loglift\n",
              "24      career  37.000000  37.000000  Default  30.0000  30.0000\n",
              "9    knowledge  29.000000  29.000000  Default  29.0000  29.0000\n",
              "17       skill  39.000000  39.000000  Default  28.0000  28.0000\n",
              "74        good  20.000000  20.000000  Default  27.0000  27.0000\n",
              "196  direction  20.000000  20.000000  Default  26.0000  26.0000\n",
              "..         ...        ...        ...      ...      ...      ...\n",
              "20   developer   9.240502  31.804717   Topic3  -4.6177  -0.0983\n",
              "0          job  11.741546  65.387939   Topic3  -4.3782  -0.5795\n",
              "220       code   6.481482  17.423928   Topic3  -4.9723   0.1488\n",
              "70        feel   5.872333  12.713793   Topic3  -5.0710   0.3653\n",
              "127      thing   5.323107  10.360249   Topic3  -5.1692   0.4718\n",
              "\n",
              "[183 rows x 6 columns], token_table=      Topic      Freq    Term\n",
              "term                         \n",
              "11        2  0.313728    able\n",
              "11        3  0.627457    able\n",
              "132       1  0.858408  advice\n",
              "132       3  0.095379  advice\n",
              "554       2  0.923039  answer\n",
              "...     ...       ...     ...\n",
              "111       3  0.161452    work\n",
              "393       1  0.114984   world\n",
              "393       2  0.804888   world\n",
              "393       3  0.114984   world\n",
              "801       2  0.767139   yearn\n",
              "\n",
              "[205 rows x 3 columns], R=30, lambda_step=0.01, plot_opts={'xlab': 'PC1', 'ylab': 'PC2'}, topic_order=[3, 2, 1])"
            ],
            "text/html": [
              "\n",
              "<link rel=\"stylesheet\" type=\"text/css\" href=\"https://cdn.jsdelivr.net/gh/bmabey/pyLDAvis@3.3.1/pyLDAvis/js/ldavis.v1.0.0.css\">\n",
              "\n",
              "\n",
              "<div id=\"ldavis_el1771405847968693286084629248\"></div>\n",
              "<script type=\"text/javascript\">\n",
              "\n",
              "var ldavis_el1771405847968693286084629248_data = {\"mdsDat\": {\"x\": [0.14881157336775927, -0.13646914598136897, -0.01234242738639023], \"y\": [-0.06531870774454591, -0.08480342666168275, 0.15012213440622868], \"topics\": [1, 2, 3], \"cluster\": [1, 1, 1], \"Freq\": [35.58234452985711, 32.36205249922856, 32.05560297091432]}, \"tinfo\": {\"Term\": [\"career\", \"knowledge\", \"skill\", \"good\", \"direction\", \"hope\", \"support\", \"life\", \"question\", \"ask\", \"guidance\", \"want\", \"gain\", \"like\", \"developer\", \"community\", \"financial\", \"new\", \"well\", \"help\", \"software\", \"learn\", \"mentorship\", \"opportunity\", \"tech\", \"network\", \"know\", \"people\", \"ios\", \"successful\", \"support\", \"mentorship\", \"bear\", \"successful\", \"race\", \"pay\", \"go\", \"try\", \"networking\", \"real\", \"chance\", \"line\", \"finish\", \"guide\", \"advice\", \"offer\", \"come\", \"connection\", \"fundamental\", \"receive\", \"expertise\", \"criminal\", \"course\", \"current\", \"future\", \"bad\", \"potential\", \"human\", \"explore\", \"deal\", \"forward\", \"get\", \"land\", \"employment\", \"know\", \"break\", \"experience\", \"like\", \"job\", \"guidance\", \"help\", \"find\", \"interview\", \"code\", \"opportunity\", \"mentor\", \"way\", \"community\", \"people\", \"work\", \"want\", \"gain\", \"industry\", \"learn\", \"life\", \"career\", \"knowledge\", \"answer\", \"professional\", \"coding\", \"confidence\", \"engineer\", \"insight\", \"javascript\", \"training\", \"live\", \"change\", \"true\", \"wave\", \"generic\", \"pioneer\", \"shape\", \"generational\", \"yearn\", \"capacity\", \"excel\", \"ladder\", \"socioeconomic\", \"status\", \"box\", \"friendship\", \"improve\", \"well\", \"network\", \"skill\", \"software\", \"gain\", \"hope\", \"want\", \"developer\", \"tech\", \"world\", \"understanding\", \"think\", \"door\", \"stack\", \"programming\", \"help\", \"guidance\", \"opportunity\", \"job\", \"learn\", \"new\", \"build\", \"good\", \"direction\", \"question\", \"ask\", \"financial\", \"ios\", \"hopefully\", \"understand\", \"teach\", \"freelance\", \"meet\", \"enjoy\", \"position\", \"place\", \"self\", \"standard\", \"path\", \"inspire\", \"practice\", \"encourage\", \"connect\", \"eventually\", \"similar\", \"situation\", \"believe\", \"group\", \"programmer\", \"turn\", \"read\", \"available\", \"life\", \"stability\", \"community\", \"learn\", \"new\", \"able\", \"people\", \"industry\", \"family\", \"build\", \"like\", \"hope\", \"mentor\", \"way\", \"developer\", \"job\", \"code\", \"feel\", \"thing\"], \"Freq\": [37.0, 29.0, 39.0, 20.0, 20.0, 39.0, 20.0, 33.0, 16.0, 15.0, 39.0, 34.0, 31.0, 35.0, 31.0, 30.0, 12.0, 24.0, 16.0, 52.0, 22.0, 53.0, 12.0, 25.0, 18.0, 12.0, 15.0, 23.0, 9.0, 9.0, 19.853558864319808, 11.673328178925152, 8.664601093057788, 9.285726898283274, 7.722305755138987, 8.150824250880344, 7.447146168315936, 6.948019340964784, 6.635693019598107, 6.320664498401966, 8.01626321176193, 5.224146437551002, 5.224145470234077, 5.675644030499752, 9.33027377730476, 4.753320401469101, 4.715898295257325, 6.498967608860423, 3.9853213054769503, 3.8269168714788204, 3.6199881930936058, 3.504835884413099, 3.6822495469591905, 3.657274149448214, 5.480569095540426, 3.3839311838099615, 3.3570726620756055, 3.3568796823491054, 3.3535151122553746, 3.3370999858705304, 8.93116655266234, 7.847173311353853, 9.507869295432714, 7.140621330205825, 12.752639122659081, 6.6274519630571636, 13.710635948901446, 23.718773505656593, 37.29004810520024, 23.8658540440744, 28.935356975830945, 8.495297415609329, 7.006912013639707, 10.638052403559481, 13.77812661806257, 12.935431067307132, 9.005486479312642, 10.594100424446756, 9.463148299364763, 7.637649563488596, 9.951980940002056, 8.62624794430588, 7.720847524874832, 8.35119331136917, 7.9462077017746635, 36.35205773123853, 27.550720621635776, 7.050362370583458, 6.55376257875446, 6.097388175935039, 6.75589158445261, 4.961519877280436, 4.943248766143667, 4.537342501342384, 3.7979158770802934, 3.7971707099417706, 8.795345860236356, 4.091568474971678, 3.3890504981462812, 3.3890504981462812, 3.3890504981462812, 3.3890504981462812, 3.3890504981462812, 3.3890504981462812, 3.3886084125652802, 3.388533851862813, 3.3883974871562357, 3.388237808483695, 3.388237808483695, 3.3877295200370816, 3.3877295200370816, 5.979060561062494, 13.835523539587527, 10.65911268681346, 32.9050324379201, 16.632394463520125, 22.33057408117758, 27.305714593214343, 23.13647366114849, 21.46228984737827, 13.212918360019527, 6.7626288807298325, 7.260169149148064, 4.572454653741459, 5.061520075588981, 6.001930681900121, 6.576308943385505, 20.239518960538803, 15.671246744313915, 11.839963303306439, 16.35634478970328, 13.939675383382129, 8.434791417639659, 6.059352980067556, 20.342341879591334, 20.325573604628694, 16.156402857572147, 15.003750834914198, 11.915550828667202, 8.450112565036498, 6.831511731491601, 7.432465983276696, 6.198020473039836, 5.131351828098017, 5.6208221488931915, 4.352334217012113, 4.7269080423878025, 5.557833930494007, 4.343702590179926, 3.929512604117244, 4.605475736646116, 3.91187288777831, 3.8990404777917, 3.5088606623890017, 3.3363411952638273, 3.307786457826473, 3.247617352279598, 3.4958809788097978, 3.31688016644844, 2.911885847648752, 6.245657380154234, 2.472349989156573, 2.276782204790499, 2.3218978141429356, 25.25337067028656, 9.946643197752262, 19.271821463766297, 31.618573685602808, 16.038644984393603, 8.393928996624101, 13.117776536898361, 10.232123906860517, 4.517336412965036, 7.509638217237122, 11.6428053638321, 12.188874059134786, 8.485235138266633, 7.117136664147634, 9.240502050362345, 11.741545771855792, 6.48148205247922, 5.872332765991461, 5.323106838582463], \"Total\": [37.0, 29.0, 39.0, 20.0, 20.0, 39.0, 20.0, 33.0, 16.0, 15.0, 39.0, 34.0, 31.0, 35.0, 31.0, 30.0, 12.0, 24.0, 16.0, 52.0, 22.0, 53.0, 12.0, 25.0, 18.0, 12.0, 15.0, 23.0, 9.0, 9.0, 20.505540882548168, 12.284604714188417, 9.26416135701181, 9.931640389775472, 8.299202905713889, 8.804030403535632, 8.092791626402768, 7.552496450900335, 7.225004050452425, 6.91927994030596, 8.847612885534527, 5.801042680860718, 5.801042015184496, 6.326894268154909, 10.484524644515806, 5.35549696628378, 5.3666983463515665, 7.426911427006898, 4.56626372307885, 4.420247711066136, 4.219106911340564, 4.089344004761486, 4.298804371133961, 4.271508544204237, 6.4059703982380265, 3.961258682703285, 3.934162610694879, 3.9342143997961907, 3.935182354738448, 3.9399027238808584, 10.603156920077955, 9.318350971104902, 11.359579915190778, 8.482712923828585, 15.347018689006765, 8.005279306951131, 18.64639528977599, 35.685321742023476, 65.38793866675931, 39.86412101099867, 52.26132499903142, 12.16043761922727, 9.399655773011446, 17.423927534117656, 25.923312889764308, 23.724463685000842, 16.424157758856257, 30.21252624881977, 23.068475235223417, 12.387610252426422, 34.00643279875108, 31.76483265455391, 18.452985619862584, 53.90944238035411, 33.80281569434835, 37.30980011865237, 29.127748563422237, 7.583642677176117, 7.083306840994074, 6.646308191606027, 7.374456386581883, 5.4923560813316605, 5.477524311531586, 5.074899294869472, 4.319833079055484, 4.319883595205191, 10.027545552137882, 4.697925982219095, 3.9106315596560663, 3.9106315928808315, 3.9106315928808315, 3.910631635227701, 3.910631650342028, 3.9106317109331084, 3.910598771524272, 3.910597489206126, 3.9105690677314304, 3.9106032317301995, 3.9106032740770695, 3.910544842087841, 3.910544842087841, 6.912684647995009, 16.02529376545585, 12.377739099431992, 39.69001618931027, 22.05059013853721, 31.76483265455391, 39.730194740802546, 34.00643279875108, 31.804717260201283, 18.610766128196165, 8.696865786646118, 9.480294409107092, 5.560499221554869, 6.329007538854444, 7.969580313832697, 9.04402558991879, 52.26132499903142, 39.86412101099867, 25.923312889764308, 65.38793866675931, 53.90944238035411, 24.728483777184834, 13.807290583248982, 20.873703886739094, 20.89471440006068, 16.699187347688873, 15.526445900252902, 12.436937111310069, 9.085007905816092, 7.373578870729265, 8.085399339393412, 6.753120316433524, 5.6755970240149605, 6.273300953970189, 4.867711340364262, 5.29166207428056, 6.227169173355685, 4.871162864143355, 4.444317604090678, 5.227839321866869, 4.442633006843554, 4.446783507109174, 4.020784561089996, 3.8609139054369606, 3.861358330616697, 3.792052599821003, 4.09062003196423, 3.8939450623561918, 3.437608895540089, 7.606671980942647, 3.012338709543151, 2.790459902904606, 2.849205447777006, 33.80281569434835, 12.952547722577828, 30.21252624881977, 53.90944238035411, 24.728483777184834, 12.749880040511329, 23.068475235223417, 18.452985619862584, 6.008160586425468, 13.807290583248982, 35.685321742023476, 39.730194740802546, 23.724463685000842, 16.424157758856257, 31.804717260201283, 65.38793866675931, 17.423927534117656, 12.713792503498098, 10.360249029951781], \"Category\": [\"Default\", \"Default\", \"Default\", \"Default\", \"Default\", \"Default\", \"Default\", \"Default\", \"Default\", \"Default\", \"Default\", \"Default\", \"Default\", \"Default\", \"Default\", \"Default\", \"Default\", \"Default\", \"Default\", \"Default\", \"Default\", \"Default\", \"Default\", \"Default\", \"Default\", \"Default\", \"Default\", \"Default\", \"Default\", \"Default\", \"Topic1\", \"Topic1\", \"Topic1\", \"Topic1\", \"Topic1\", \"Topic1\", \"Topic1\", \"Topic1\", \"Topic1\", \"Topic1\", \"Topic1\", \"Topic1\", \"Topic1\", \"Topic1\", \"Topic1\", \"Topic1\", \"Topic1\", \"Topic1\", \"Topic1\", \"Topic1\", \"Topic1\", \"Topic1\", \"Topic1\", \"Topic1\", \"Topic1\", \"Topic1\", \"Topic1\", \"Topic1\", \"Topic1\", \"Topic1\", \"Topic1\", \"Topic1\", \"Topic1\", \"Topic1\", \"Topic1\", \"Topic1\", \"Topic1\", \"Topic1\", \"Topic1\", \"Topic1\", \"Topic1\", \"Topic1\", \"Topic1\", \"Topic1\", \"Topic1\", \"Topic1\", \"Topic1\", \"Topic1\", \"Topic1\", \"Topic1\", \"Topic1\", \"Topic1\", \"Topic1\", \"Topic1\", \"Topic1\", \"Topic2\", \"Topic2\", \"Topic2\", \"Topic2\", \"Topic2\", \"Topic2\", \"Topic2\", \"Topic2\", \"Topic2\", \"Topic2\", \"Topic2\", \"Topic2\", \"Topic2\", \"Topic2\", \"Topic2\", \"Topic2\", \"Topic2\", \"Topic2\", \"Topic2\", \"Topic2\", \"Topic2\", \"Topic2\", \"Topic2\", \"Topic2\", \"Topic2\", \"Topic2\", \"Topic2\", \"Topic2\", \"Topic2\", \"Topic2\", \"Topic2\", \"Topic2\", \"Topic2\", \"Topic2\", \"Topic2\", \"Topic2\", \"Topic2\", \"Topic2\", \"Topic2\", \"Topic2\", \"Topic2\", \"Topic2\", \"Topic2\", \"Topic2\", \"Topic2\", \"Topic2\", \"Topic2\", \"Topic2\", \"Topic2\", \"Topic3\", \"Topic3\", \"Topic3\", \"Topic3\", \"Topic3\", \"Topic3\", \"Topic3\", \"Topic3\", \"Topic3\", \"Topic3\", \"Topic3\", \"Topic3\", \"Topic3\", \"Topic3\", \"Topic3\", \"Topic3\", \"Topic3\", \"Topic3\", \"Topic3\", \"Topic3\", \"Topic3\", \"Topic3\", \"Topic3\", \"Topic3\", \"Topic3\", \"Topic3\", \"Topic3\", \"Topic3\", \"Topic3\", \"Topic3\", \"Topic3\", \"Topic3\", \"Topic3\", \"Topic3\", \"Topic3\", \"Topic3\", \"Topic3\", \"Topic3\", \"Topic3\", \"Topic3\", \"Topic3\", \"Topic3\", \"Topic3\", \"Topic3\", \"Topic3\", \"Topic3\", \"Topic3\", \"Topic3\", \"Topic3\"], \"logprob\": [30.0, 29.0, 28.0, 27.0, 26.0, 25.0, 24.0, 23.0, 22.0, 21.0, 20.0, 19.0, 18.0, 17.0, 16.0, 15.0, 14.0, 13.0, 12.0, 11.0, 10.0, 9.0, 8.0, 7.0, 6.0, 5.0, 4.0, 3.0, 2.0, 1.0, -3.9573, -4.4884, -4.7864, -4.7172, -4.9016, -4.8476, -4.9378, -5.0072, -5.0532, -5.1019, -4.8642, -5.2924, -5.2924, -5.2095, -4.7124, -5.3868, -5.3947, -5.074, -5.5631, -5.6036, -5.6592, -5.6915, -5.6422, -5.649, -5.2445, -5.7266, -5.7346, -5.7347, -5.7357, -5.7406, -4.7561, -4.8855, -4.6936, -4.9799, -4.3999, -5.0545, -4.3275, -3.7794, -3.3269, -3.7732, -3.5806, -4.8062, -4.9988, -4.5812, -4.3226, -4.3857, -4.7478, -4.5854, -4.6983, -4.9126, -4.6479, -4.7909, -4.9018, -4.8233, -4.873, -3.2576, -3.5348, -4.8977, -4.9708, -5.043, -4.9404, -5.2491, -5.2528, -5.3385, -5.5164, -5.5166, -4.6766, -5.4419, -5.6303, -5.6303, -5.6303, -5.6303, -5.6303, -5.6303, -5.6304, -5.6304, -5.6305, -5.6305, -5.6305, -5.6307, -5.6307, -5.0625, -4.2236, -4.4844, -3.3572, -4.0395, -3.7449, -3.5437, -3.7094, -3.7845, -4.2696, -4.9394, -4.8684, -5.3308, -5.2291, -5.0587, -4.9673, -3.8432, -4.099, -4.3793, -4.0562, -4.2161, -4.7184, -5.0492, -3.8286, -3.8294, -4.059, -4.133, -4.3635, -4.7071, -4.9198, -4.8354, -5.0171, -5.2059, -5.1148, -5.3706, -5.288, -5.1261, -5.3726, -5.4728, -5.3141, -5.4773, -5.4806, -5.586, -5.6364, -5.645, -5.6634, -5.5897, -5.6423, -5.7725, -5.0094, -5.9361, -6.0185, -5.9989, -3.6123, -4.5441, -3.8827, -3.3876, -4.0663, -4.7138, -4.2673, -4.5158, -5.3334, -4.8251, -4.3866, -4.3408, -4.703, -4.8788, -4.6177, -4.3782, -4.9723, -5.071, -5.1692], \"loglift\": [30.0, 29.0, 28.0, 27.0, 26.0, 25.0, 24.0, 23.0, 22.0, 21.0, 20.0, 19.0, 18.0, 17.0, 16.0, 15.0, 14.0, 13.0, 12.0, 11.0, 10.0, 9.0, 8.0, 7.0, 6.0, 5.0, 4.0, 3.0, 2.0, 1.0, 1.001, 0.9823, 0.9664, 0.9661, 0.9613, 0.9562, 0.9502, 0.9499, 0.9482, 0.9428, 0.9346, 0.9286, 0.9286, 0.9247, 0.9167, 0.914, 0.904, 0.8999, 0.8972, 0.8892, 0.8802, 0.8791, 0.8785, 0.8781, 0.8773, 0.8758, 0.8747, 0.8746, 0.8734, 0.8673, 0.8617, 0.8615, 0.8554, 0.8611, 0.8481, 0.8444, 0.7258, 0.6248, 0.4717, 0.5203, 0.4421, 0.6746, 0.7395, 0.5399, 0.4013, 0.4268, 0.4324, -0.0146, 0.1423, 0.5497, -0.1955, -0.2702, 0.162, -0.8316, -0.4145, 1.1022, 1.0725, 1.0553, 1.0505, 1.042, 1.0406, 1.0265, 1.0256, 1.0162, 0.9994, 0.9992, 0.9971, 0.99, 0.985, 0.985, 0.985, 0.985, 0.985, 0.985, 0.9849, 0.9849, 0.9849, 0.9848, 0.9848, 0.9847, 0.9847, 0.9831, 0.9813, 0.9787, 0.9407, 0.8462, 0.7758, 0.7532, 0.743, 0.7349, 0.7856, 0.8766, 0.8614, 0.9325, 0.9047, 0.8446, 0.8096, 0.1796, 0.1945, 0.3445, -0.2575, -0.2244, 0.0526, 0.3046, 1.1119, 1.1101, 1.1047, 1.1035, 1.0949, 1.0653, 1.0613, 1.0535, 1.0519, 1.0369, 1.0279, 1.0258, 1.0248, 1.024, 1.0231, 1.0146, 1.0109, 1.0105, 1.0062, 1.0015, 0.9917, 0.983, 0.9827, 0.9806, 0.9773, 0.9717, 0.9406, 0.9402, 0.9343, 0.933, 0.8461, 0.8736, 0.6881, 0.6041, 0.7047, 0.7197, 0.5732, 0.548, 0.8525, 0.5287, 0.0176, -0.0439, 0.1095, 0.3015, -0.0983, -0.5795, 0.1488, 0.3653, 0.4718]}, \"token.table\": {\"Topic\": [2, 3, 1, 3, 2, 3, 3, 1, 1, 3, 2, 1, 2, 2, 3, 2, 2, 3, 1, 3, 2, 3, 1, 3, 2, 1, 1, 3, 2, 3, 1, 3, 1, 1, 1, 1, 1, 2, 3, 3, 1, 2, 1, 3, 3, 2, 3, 3, 2, 1, 2, 3, 1, 1, 2, 3, 1, 3, 3, 1, 2, 3, 1, 1, 2, 3, 3, 2, 1, 1, 2, 1, 2, 3, 2, 2, 1, 2, 1, 3, 3, 1, 2, 1, 1, 2, 3, 2, 3, 3, 1, 2, 3, 1, 2, 3, 2, 3, 1, 3, 3, 2, 1, 2, 3, 1, 3, 2, 3, 2, 1, 2, 1, 2, 3, 1, 2, 3, 1, 3, 1, 2, 3, 1, 2, 3, 1, 2, 3, 1, 2, 3, 1, 1, 2, 3, 1, 1, 3, 2, 3, 3, 1, 3, 2, 2, 3, 2, 3, 3, 1, 3, 1, 1, 3, 2, 3, 3, 1, 2, 3, 2, 1, 2, 3, 1, 3, 1, 2, 3, 3, 2, 1, 1, 3, 1, 2, 1, 2, 3, 2, 3, 2, 2, 1, 3, 3, 1, 2, 3, 1, 2, 3, 2, 1, 3, 2, 3, 1, 2, 3, 1, 2, 3, 2], \"Freq\": [0.3137284419375276, 0.6274568838750552, 0.8584080161142714, 0.09537866845714127, 0.923039269910137, 0.966093599035158, 0.7019500828065701, 0.7573350392640118, 0.9714856696864554, 0.7704268940519481, 0.767156527068054, 0.8744229566008735, 0.12491756522869622, 0.43455303296645365, 0.5794040439552716, 0.7671459475323931, 0.9648939390056512, 0.026802609416823647, 0.904198692178278, 0.11302483652228475, 0.8975277103658923, 0.09972530115176581, 0.6313157569360287, 0.34435404923783386, 0.9027568128089088, 0.9316715189328914, 0.3640873957181818, 0.6288782289677687, 0.9492225098431362, 0.7770181033499305, 0.8078728363693501, 0.13464547272822502, 0.9304912842416364, 0.9781519958561918, 0.9364373168414631, 0.7614401192740512, 0.031441876744848364, 0.6602794116418156, 0.28297689070363524, 0.9571798693712664, 0.1580026558446794, 0.7900132792233969, 0.8252076974497708, 0.11788681392139584, 0.9948307200313261, 0.9103561251235762, 0.8217414140462714, 0.7769286720201568, 0.767146199086068, 0.7508153604185546, 0.05362966860132533, 0.160889005803976, 0.9480679404563973, 0.7623534895117701, 0.16644029160261611, 0.8322014580130805, 0.5505831558973459, 0.47192841934058216, 0.9648677879931771, 0.6578710610998847, 0.08223388263748559, 0.16446776527497117, 0.8619141159316324, 0.8488038107742945, 0.09431153453047716, 0.09431153453047716, 0.8809645890720694, 0.767156527068054, 0.8759897024307126, 0.780521870874592, 0.1561043741749184, 0.28333220256111535, 0.6925898284827264, 0.03148135584012393, 0.7671394977171058, 0.767139508989135, 0.8585210006370277, 0.10731512507962847, 0.864967284856621, 0.9581433227433033, 0.8726996267353632, 0.602045132097063, 0.401363421398042, 0.9483325855783203, 0.5549036500803887, 0.38269217246923354, 0.057403825870385033, 0.6795838826400528, 0.3020372811733568, 0.9493354750415361, 0.7625410552499154, 0.8679695813608785, 0.14466159689347974, 0.4335341805820783, 0.05419177257275979, 0.5419177257275979, 0.9128211424774006, 0.9003669656796521, 0.7447081221951335, 0.21277374919860956, 0.8805716057636576, 0.9852412253884146, 0.5658535924884471, 0.24469344540040958, 0.18352008405030718, 0.8470700572816817, 0.13031847035102795, 0.9612826730851958, 0.03433152403875699, 0.7671517745984568, 0.8803142435423462, 0.17606284870846925, 0.14839700888680296, 0.2596947655519052, 0.5935880355472118, 0.23666667511776418, 0.029583334389720523, 0.739583359743013, 0.672545428439764, 0.336272714219882, 0.8619140170260108, 0.9259508761855892, 0.9564342670668103, 0.5479575923235265, 0.0843011680497733, 0.3372046721990932, 0.9768324076508782, 0.888692184544816, 0.08079019859498328, 0.9688575883305789, 0.32351356727261277, 0.6470271345452255, 0.9336201722226982, 0.5400544312963885, 0.46290379825404726, 0.956418071053969, 0.9086747356968758, 0.3901428208075858, 0.5635396300554016, 0.767139508989135, 0.9635196720963229, 0.9448827097825945, 0.762551093298637, 0.8995265889614614, 0.988238990225308, 0.13146353655124698, 0.7887812193074819, 0.7739916180470311, 0.22114046229915174, 0.9581304567023952, 0.9639479948721471, 0.7167277329153479, 0.8671422534950493, 0.9049266605547827, 0.8211591588209897, 0.7671395006820482, 0.7911282665598071, 0.733385153487224, 0.151171518081063, 0.8314433494458464, 0.025195253013510496, 0.7671450725704755, 0.22675130092149495, 0.7709544231330828, 0.04535026018429899, 0.2316146648717336, 0.7720488829057787, 0.12547712183341864, 0.7528627310005117, 0.12547712183341864, 0.9000256859046898, 0.7671450642632681, 0.9061947117281263, 0.9753461327626611, 0.8884781728824189, 0.2686616964373525, 0.6985204107371165, 0.09652277634533407, 0.3860911053813363, 0.48261388172667036, 0.8991998381400479, 0.17983996762800958, 0.9259617042597825, 0.851439553355963, 0.9268458509723004, 0.6639359623351646, 0.8657581037333351, 0.10548195623960434, 0.7383736936772304, 0.10548195623960434, 0.2940620105372317, 0.6763426242356328, 0.029406201053723168, 0.76713951550676, 0.5479733044543491, 0.4262014590200493, 0.8736189304796661, 0.12480270435423801, 0.6458065629270989, 0.2421774610976621, 0.16145164073177473, 0.11498395221132217, 0.8048876654792552, 0.11498395221132217, 0.767139485831095], \"Term\": [\"able\", \"able\", \"advice\", \"advice\", \"answer\", \"ask\", \"available\", \"bad\", \"bear\", \"believe\", \"box\", \"break\", \"break\", \"build\", \"build\", \"capacity\", \"career\", \"career\", \"chance\", \"chance\", \"change\", \"change\", \"code\", \"code\", \"coding\", \"come\", \"community\", \"community\", \"confidence\", \"connect\", \"connection\", \"connection\", \"course\", \"criminal\", \"current\", \"deal\", \"developer\", \"developer\", \"developer\", \"direction\", \"door\", \"door\", \"employment\", \"employment\", \"encourage\", \"engineer\", \"enjoy\", \"eventually\", \"excel\", \"experience\", \"experience\", \"experience\", \"expertise\", \"explore\", \"family\", \"family\", \"feel\", \"feel\", \"financial\", \"find\", \"find\", \"find\", \"finish\", \"forward\", \"forward\", \"forward\", \"freelance\", \"friendship\", \"fundamental\", \"future\", \"future\", \"gain\", \"gain\", \"gain\", \"generational\", \"generic\", \"get\", \"get\", \"go\", \"good\", \"group\", \"guidance\", \"guidance\", \"guide\", \"help\", \"help\", \"help\", \"hope\", \"hope\", \"hopefully\", \"human\", \"improve\", \"improve\", \"industry\", \"industry\", \"industry\", \"insight\", \"inspire\", \"interview\", \"interview\", \"ios\", \"javascript\", \"job\", \"job\", \"job\", \"know\", \"know\", \"knowledge\", \"knowledge\", \"ladder\", \"land\", \"land\", \"learn\", \"learn\", \"learn\", \"life\", \"life\", \"life\", \"like\", \"like\", \"line\", \"live\", \"meet\", \"mentor\", \"mentor\", \"mentor\", \"mentorship\", \"network\", \"network\", \"networking\", \"new\", \"new\", \"offer\", \"opportunity\", \"opportunity\", \"path\", \"pay\", \"people\", \"people\", \"pioneer\", \"place\", \"position\", \"potential\", \"practice\", \"professional\", \"programmer\", \"programmer\", \"programming\", \"programming\", \"question\", \"race\", \"read\", \"real\", \"receive\", \"self\", \"shape\", \"similar\", \"situation\", \"skill\", \"skill\", \"skill\", \"socioeconomic\", \"software\", \"software\", \"software\", \"stability\", \"stability\", \"stack\", \"stack\", \"stack\", \"standard\", \"status\", \"successful\", \"support\", \"teach\", \"tech\", \"tech\", \"thing\", \"thing\", \"thing\", \"think\", \"think\", \"training\", \"true\", \"try\", \"turn\", \"understand\", \"understanding\", \"understanding\", \"understanding\", \"want\", \"want\", \"want\", \"wave\", \"way\", \"way\", \"well\", \"well\", \"work\", \"work\", \"work\", \"world\", \"world\", \"world\", \"yearn\"]}, \"R\": 30, \"lambda.step\": 0.01, \"plot.opts\": {\"xlab\": \"PC1\", \"ylab\": \"PC2\"}, \"topic.order\": [3, 2, 1]};\n",
              "\n",
              "function LDAvis_load_lib(url, callback){\n",
              "  var s = document.createElement('script');\n",
              "  s.src = url;\n",
              "  s.async = true;\n",
              "  s.onreadystatechange = s.onload = callback;\n",
              "  s.onerror = function(){console.warn(\"failed to load library \" + url);};\n",
              "  document.getElementsByTagName(\"head\")[0].appendChild(s);\n",
              "}\n",
              "\n",
              "if(typeof(LDAvis) !== \"undefined\"){\n",
              "   // already loaded: just create the visualization\n",
              "   !function(LDAvis){\n",
              "       new LDAvis(\"#\" + \"ldavis_el1771405847968693286084629248\", ldavis_el1771405847968693286084629248_data);\n",
              "   }(LDAvis);\n",
              "}else if(typeof define === \"function\" && define.amd){\n",
              "   // require.js is available: use it to load d3/LDAvis\n",
              "   require.config({paths: {d3: \"https://d3js.org/d3.v5\"}});\n",
              "   require([\"d3\"], function(d3){\n",
              "      window.d3 = d3;\n",
              "      LDAvis_load_lib(\"https://cdn.jsdelivr.net/gh/bmabey/pyLDAvis@3.3.1/pyLDAvis/js/ldavis.v3.0.0.js\", function(){\n",
              "        new LDAvis(\"#\" + \"ldavis_el1771405847968693286084629248\", ldavis_el1771405847968693286084629248_data);\n",
              "      });\n",
              "    });\n",
              "}else{\n",
              "    // require.js not available: dynamically load d3 & LDAvis\n",
              "    LDAvis_load_lib(\"https://d3js.org/d3.v5.js\", function(){\n",
              "         LDAvis_load_lib(\"https://cdn.jsdelivr.net/gh/bmabey/pyLDAvis@3.3.1/pyLDAvis/js/ldavis.v3.0.0.js\", function(){\n",
              "                 new LDAvis(\"#\" + \"ldavis_el1771405847968693286084629248\", ldavis_el1771405847968693286084629248_data);\n",
              "            })\n",
              "         });\n",
              "}\n",
              "</script>"
            ]
          },
          "metadata": {},
          "execution_count": 39
        }
      ]
    },
    {
      "cell_type": "code",
      "source": [
        "num_topics = 5\n",
        "\n",
        "lda_multicore_5_topics = gensim.models.ldamulticore.LdaMulticore(corpus=corpus,\n",
        "                                                        id2word=id2word,\n",
        "                                                        num_topics=num_topics, \n",
        "                                                        chunksize=100,\n",
        "                                                        passes=10,\n",
        "                                                        per_word_topics=True,\n",
        "                                                        workers=1, \n",
        "                                                        random_state=1234, \n",
        "                                                        iterations=10) "
      ],
      "metadata": {
        "id": "tGu_J1OgTmnu"
      },
      "execution_count": null,
      "outputs": []
    },
    {
      "cell_type": "code",
      "source": [
        "pyLDAvis.enable_notebook()\n",
        "vis = pyLDAvis.gensim_models.prepare(lda_multicore_5_topics, corpus, id2word)\n",
        "vis"
      ],
      "metadata": {
        "id": "lWCU_P8oTq68",
        "colab": {
          "base_uri": "https://localhost:8080/",
          "height": 916
        },
        "outputId": "6932c0e9-6715-4f48-c60d-f7706790847a"
      },
      "execution_count": 41,
      "outputs": [
        {
          "output_type": "stream",
          "name": "stderr",
          "text": [
            "/usr/local/lib/python3.7/dist-packages/pyLDAvis/_prepare.py:247: FutureWarning: In a future version of pandas all arguments of DataFrame.drop except for the argument 'labels' will be keyword-only\n",
            "  by='saliency', ascending=False).head(R).drop('saliency', 1)\n"
          ]
        },
        {
          "output_type": "execute_result",
          "data": {
            "text/plain": [
              "PreparedData(topic_coordinates=              x         y  topics  cluster       Freq\n",
              "topic                                                \n",
              "1     -0.033567 -0.045684       1        1  25.714603\n",
              "2     -0.097541  0.059783       2        1  23.932631\n",
              "0     -0.095898  0.099530       3        1  23.366615\n",
              "3      0.007670 -0.183144       4        1  13.740377\n",
              "4      0.219337  0.069515       5        1  13.245774, topic_info=            Term       Freq      Total Category  logprob  loglift\n",
              "9      knowledge  31.000000  31.000000  Default  30.0000  30.0000\n",
              "136  opportunity  20.000000  20.000000  Default  29.0000  29.0000\n",
              "196    direction  17.000000  17.000000  Default  28.0000  28.0000\n",
              "17         skill  42.000000  42.000000  Default  27.0000  27.0000\n",
              "76      guidance  43.000000  43.000000  Default  26.0000  26.0000\n",
              "..           ...        ...        ...      ...      ...      ...\n",
              "149         life   4.087412  31.407638   Topic5  -4.5496  -0.0176\n",
              "23          well   3.349967  13.760817   Topic5  -4.7486   0.6086\n",
              "211           go   2.988811   8.208778   Topic5  -4.8626   1.0112\n",
              "32       network   2.979772  11.024401   Topic5  -4.8657   0.7132\n",
              "24        career   3.052005  37.498902   Topic5  -4.8417  -0.4870\n",
              "\n",
              "[287 rows x 6 columns], token_table=      Topic      Freq            Term\n",
              "term                                 \n",
              "11        1  0.396896            able\n",
              "11        3  0.396896            able\n",
              "11        4  0.158758            able\n",
              "543       2  0.679346  accountability\n",
              "320       1  0.644395         acquire\n",
              "...     ...       ...             ...\n",
              "111       3  0.084586            work\n",
              "111       5  0.422928            work\n",
              "393       1  0.142216           world\n",
              "393       2  0.284432           world\n",
              "393       5  0.426648           world\n",
              "\n",
              "[329 rows x 3 columns], R=30, lambda_step=0.01, plot_opts={'xlab': 'PC1', 'ylab': 'PC2'}, topic_order=[2, 3, 1, 4, 5])"
            ],
            "text/html": [
              "\n",
              "<link rel=\"stylesheet\" type=\"text/css\" href=\"https://cdn.jsdelivr.net/gh/bmabey/pyLDAvis@3.3.1/pyLDAvis/js/ldavis.v1.0.0.css\">\n",
              "\n",
              "\n",
              "<div id=\"ldavis_el1771405847967821608390069402\"></div>\n",
              "<script type=\"text/javascript\">\n",
              "\n",
              "var ldavis_el1771405847967821608390069402_data = {\"mdsDat\": {\"x\": [-0.033567393506417374, -0.09754120036094704, -0.09589751037089721, 0.007669512804413143, 0.21933659143384843], \"y\": [-0.04568354431499909, 0.05978321991067804, 0.0995298794888989, -0.18314438278568737, 0.06951482770110946], \"topics\": [1, 2, 3, 4, 5], \"cluster\": [1, 1, 1, 1, 1], \"Freq\": [25.71460305358435, 23.932631134449444, 23.36661459702706, 13.740376753952221, 13.245774460986922]}, \"tinfo\": {\"Term\": [\"knowledge\", \"opportunity\", \"direction\", \"skill\", \"guidance\", \"new\", \"industry\", \"learn\", \"gain\", \"career\", \"good\", \"code\", \"question\", \"job\", \"financial\", \"ask\", \"mentor\", \"want\", \"build\", \"software\", \"developer\", \"support\", \"tech\", \"advice\", \"life\", \"stability\", \"know\", \"bear\", \"mentorship\", \"hope\", \"knowledge\", \"question\", \"ask\", \"build\", \"change\", \"future\", \"professional\", \"place\", \"engineer\", \"interested\", \"mistake\", \"training\", \"peoeple\", \"excel\", \"socioeconomic\", \"status\", \"lot\", \"degree\", \"meaningful\", \"transition\", \"acquire\", \"skill\", \"computer\", \"thing\", \"technical\", \"data\", \"amazing\", \"interact\", \"boost\", \"placement\", \"career\", \"software\", \"gain\", \"hope\", \"live\", \"developer\", \"programming\", \"people\", \"new\", \"community\", \"learn\", \"want\", \"job\", \"help\", \"well\", \"feel\", \"network\", \"able\", \"find\", \"life\", \"guidance\", \"industry\", \"advice\", \"connection\", \"obtain\", \"offer\", \"etc\", \"freelance\", \"course\", \"criminal\", \"project\", \"bad\", \"record\", \"valuable\", \"standard\", \"inspire\", \"complete\", \"dev\", \"boot\", \"camp\", \"successfully\", \"encourage\", \"ladder\", \"aid\", \"tip\", \"interview\", \"accountability\", \"open\", \"real\", \"resume\", \"navigate\", \"time\", \"tech\", \"guidance\", \"goal\", \"job\", \"mentorship\", \"get\", \"experience\", \"want\", \"help\", \"community\", \"like\", \"land\", \"learn\", \"sense\", \"go\", \"encouragement\", \"mentor\", \"career\", \"skill\", \"hope\", \"developer\", \"journey\", \"hopefully\", \"far\", \"good\", \"important\", \"enjoy\", \"explore\", \"human\", \"code\", \"path\", \"truly\", \"order\", \"proficiency\", \"solo\", \"better\", \"conversation\", \"determined\", \"significantly\", \"grow\", \"process\", \"position\", \"join\", \"development\", \"available\", \"motivation\", \"day\", \"appreciate\", \"assignment\", \"program\", \"relate\", \"know\", \"family\", \"mentor\", \"learn\", \"support\", \"feel\", \"meet\", \"like\", \"gain\", \"help\", \"job\", \"experience\", \"life\", \"need\", \"land\", \"community\", \"people\", \"software\", \"way\", \"able\", \"hope\", \"networking\", \"find\", \"opportunity\", \"financial\", \"direction\", \"door\", \"lack\", \"sort\", \"information\", \"boon\", \"clean\", \"capacity\", \"background\", \"foot\", \"stability\", \"prep\", \"person\", \"security\", \"design\", \"w/\", \"peer\", \"term\", \"system\", \"excellent\", \"understand\", \"ios\", \"hold\", \"hunting\", \"difficult\", \"session\", \"give\", \"assistance\", \"end\", \"new\", \"confidence\", \"field\", \"programmer\", \"developer\", \"life\", \"guidance\", \"resource\", \"mentorship\", \"support\", \"break\", \"try\", \"hope\", \"well\", \"improve\", \"like\", \"job\", \"skill\", \"bear\", \"race\", \"pay\", \"answer\", \"finish\", \"line\", \"insight\", \"think\", \"expertise\", \"fundamental\", \"potential\", \"receive\", \"instruction\", \"success\", \"point\", \"begin\", \"put\", \"actualize\", \"area\", \"chain\", \"deep\", \"dictate\", \"die\", \"dig\", \"middle\", \"pit\", \"run\", \"shackle\", \"starting\", \"truth\", \"opportunity\", \"guide\", \"forward\", \"deal\", \"employment\", \"chance\", \"successful\", \"way\", \"want\", \"work\", \"world\", \"help\", \"people\", \"field\", \"like\", \"understanding\", \"know\", \"life\", \"well\", \"go\", \"network\", \"career\"], \"Freq\": [31.0, 20.0, 17.0, 42.0, 43.0, 22.0, 20.0, 56.0, 35.0, 37.0, 20.0, 20.0, 17.0, 75.0, 10.0, 16.0, 27.0, 32.0, 14.0, 24.0, 30.0, 24.0, 20.0, 12.0, 31.0, 10.0, 16.0, 7.0, 14.0, 39.0, 30.466941430071238, 16.60904335110912, 15.400215943457825, 13.841287030708795, 10.030453070566265, 7.527939440876385, 6.893050244726709, 5.795250239136927, 5.200596801943419, 4.720892489759877, 4.360925859127637, 3.946573459724415, 3.5083265127095937, 3.508315327760008, 3.508310783874239, 3.508310783874239, 3.274925625820995, 3.12248070497366, 2.8356229244241953, 2.469042842819792, 2.4911313706029903, 33.93117197809893, 2.272100347694498, 8.405648999114113, 2.3831149919228896, 2.102078628103058, 2.0503022731174294, 2.049497830571452, 1.8627722625980971, 1.8578847891588621, 27.87965287311596, 16.705623992662126, 21.5452090702464, 20.956605292660004, 2.950695957703789, 13.448524729772862, 4.842987399436346, 9.263481503819522, 8.98902800712533, 11.357820671103854, 14.780585115720962, 9.340617110517952, 13.907581625021377, 10.84607986706974, 5.855726912016622, 5.713223663702517, 5.09127195892664, 5.090796948098927, 5.1113580312043405, 5.6737827352262755, 5.206548243711985, 19.54166227142124, 12.191402039035715, 8.389342616794835, 7.034744052920383, 5.89391965570068, 5.095421367232069, 4.940580639183633, 4.554910499344867, 4.306087328986895, 4.301655658801461, 4.140206950390641, 4.108782202544129, 3.732094791093414, 3.731996222784951, 3.731350486506739, 3.727585697616183, 3.599280989560871, 3.3177646956643208, 3.3177646956643208, 3.3177646956643208, 3.3177578641973975, 3.317754936425859, 3.3177402975681662, 3.2576640521379927, 9.12961533675355, 2.335415366896173, 2.3351029086114257, 5.923899385638971, 1.9535801198109122, 1.9530762177983425, 6.76476122703781, 14.838578555744936, 25.009058313850893, 3.8353488352494653, 37.101985733113175, 8.979309401510294, 6.584571202393187, 10.54875239519079, 13.282641046863569, 17.926255867049964, 12.732778226066516, 10.364149893529708, 6.236188510252796, 10.89619169427989, 4.650546481957755, 4.708972114856115, 4.4660233554361595, 6.4152913557327915, 6.232615327744037, 5.380674473535585, 4.842972639785595, 4.5128335427174635, 8.577619626006102, 6.655334138898296, 6.513402479761667, 18.40064169646377, 5.115613466840514, 4.181887188141275, 4.148296619251512, 4.139531417900792, 17.51605161770517, 4.478103478698968, 3.764555043285286, 3.3465657544790623, 3.3465657544790623, 3.3465657544790623, 3.3465616254933916, 3.3465616254933916, 3.3465616254933916, 3.3465616254933916, 8.724739196831054, 2.5527766760302746, 3.964918837179123, 2.3827021681751885, 9.811852846603648, 2.1932839976805805, 2.19012865859232, 2.132118315602107, 1.8025074241668764, 1.7743350373201587, 4.085636085553038, 3.348890691026052, 12.148639582468627, 4.298459887744469, 18.63667611518265, 30.54029025382691, 13.68202162629304, 8.410903253958574, 4.16733219603713, 14.630870156204747, 13.311048144478313, 17.873447724176902, 20.701727951761168, 9.756009903476365, 11.541126039997483, 6.132203088511576, 6.213128031518061, 8.79517969237632, 7.242310741871035, 7.165985488901914, 5.418088029218136, 5.096544858169529, 6.356423526383211, 4.672463092198776, 4.972024813992731, 4.6140201585559675, 9.728237870446625, 15.650319685859985, 4.991712600454494, 4.579313907989797, 3.457382181697424, 3.2738230600854306, 2.794288867156228, 2.794288867156228, 2.792656513329895, 4.888801096271961, 2.7446910848434927, 8.093838559090178, 1.776199684385548, 1.644207815463713, 1.6250504437213285, 1.4838757440695953, 1.4832502574603976, 1.459765747316938, 1.3198477173128573, 1.2964673304254828, 1.2953848220985462, 4.718687041851049, 5.255202149714127, 1.1562441212277832, 1.1509512046074903, 2.7962585243018236, 0.9763829160442196, 0.971311599860419, 2.255880490330045, 1.4727349292048735, 13.058255364692167, 3.9545732508723574, 5.228472635960185, 3.417994268294336, 10.307770544374227, 9.932901421997745, 12.309214885831098, 2.3070611329034407, 4.891100212473582, 6.61418788461547, 3.1782564010487073, 3.105766257082946, 7.3581363160256075, 4.2033465887599, 2.8481378666079777, 4.551944526477387, 3.4121211563466396, 3.2022546170502135, 6.7484396264228925, 6.003469420865205, 6.341633944662227, 4.395602274620468, 4.038172192633043, 4.038172192633043, 3.06463062558424, 3.0999155267378287, 2.7898299544527507, 3.0242479242119398, 2.568898091481101, 2.8763964140260185, 2.4312812515442674, 2.4286871600859357, 2.3302522999822846, 2.3297933647291416, 2.3292422463258964, 2.0728753244913127, 2.0728753244913127, 2.0728753244913127, 2.0728753244913127, 2.0728753244913127, 2.0728753244913127, 2.0728753244913127, 2.0728753244913127, 2.0728753244913127, 2.0728753244913127, 2.0728753244913127, 2.0728753244913127, 2.0728753244913127, 15.328882526754281, 3.8924918476953194, 5.881718885458771, 2.4211535281529146, 4.386710561630382, 4.534707368304843, 4.854889336113856, 5.8265616737400885, 8.772013889859991, 4.530930019693252, 3.266185122286947, 8.665651098802376, 5.591271024823588, 3.629394295586804, 5.668534908226043, 3.153253201513293, 3.7298418811494143, 4.087412038314142, 3.3499673626547986, 2.9888112449420707, 2.9797715347852196, 3.052005134924604], \"Total\": [31.0, 20.0, 17.0, 42.0, 43.0, 22.0, 20.0, 56.0, 35.0, 37.0, 20.0, 20.0, 17.0, 75.0, 10.0, 16.0, 27.0, 32.0, 14.0, 24.0, 30.0, 24.0, 20.0, 12.0, 31.0, 10.0, 16.0, 7.0, 14.0, 39.0, 31.092020661454285, 17.219357160381296, 16.006268372525966, 14.443127153735528, 10.632909084629391, 8.142709383712862, 7.502087233406712, 6.394602396684722, 5.801203284271911, 5.320415924130385, 4.974353707107915, 4.545064425044804, 4.106814987875937, 4.106812245956583, 4.106811933748628, 4.106811933748628, 3.879263723502451, 3.7453399016355045, 3.441072851224564, 3.0683493408213027, 3.103688257900417, 42.8056466384024, 2.8707840681532493, 10.657255090830906, 3.034574832887443, 2.7019712150716018, 2.6629677566741576, 2.665055721928924, 2.4615142123845413, 2.4610615180447, 37.4989015574515, 24.299076252285786, 35.43205377493931, 39.622044161057545, 4.137598462636464, 30.916033953096175, 8.270739211809937, 22.41925219415343, 22.52898753818791, 33.139925397962394, 56.521745785604246, 32.017786051025745, 75.23224541538019, 55.46140939949547, 13.760816625375947, 14.56230441384283, 11.024400625742267, 12.597772413862584, 13.06203316373966, 31.40763772551377, 43.649820187665355, 20.154843394324224, 12.807316487866602, 9.01764394976438, 7.644858095591389, 6.50414767307132, 5.708997627910225, 5.549894706902773, 5.169136842223935, 4.914501113655939, 4.920874005045318, 4.752614983154539, 4.72087180592895, 4.340581830212167, 4.340553578386322, 4.340636914273762, 4.340506324611817, 4.221558975484591, 3.926141561819071, 3.926141561819071, 3.926141561819071, 3.9261407713591328, 3.926140288231996, 3.9261381416647185, 3.869818837148292, 11.102584151084011, 2.9440065546453837, 2.9441349372639274, 7.746189936645, 2.5637485153017607, 2.5638696914284194, 9.024003151248513, 20.273334418221438, 43.649820187665355, 5.182259974216455, 75.23224541538019, 14.337056191395636, 10.044886713440325, 22.22424683798373, 32.017786051025745, 55.46140939949547, 33.139925397962394, 37.5781421737927, 13.860596644925963, 56.521745785604246, 7.872982704809342, 8.208778440878614, 7.723345150815309, 27.084174426283614, 37.4989015574515, 42.8056466384024, 39.622044161057545, 30.916033953096175, 9.188121475782632, 7.265624714761907, 7.130709489802241, 20.567333337767657, 5.748337989816939, 4.789331386959137, 4.755172423500793, 4.751838531677552, 20.11125196972321, 5.147023514639194, 4.371484855587296, 3.9534393666592926, 3.9534393666592926, 3.9534393666592926, 3.9534394065951224, 3.9534394065951224, 3.9534394065951224, 3.9534394065951224, 10.408489532610771, 3.1912340489009634, 4.97284918045088, 2.9965757857469764, 12.350035769614237, 2.801844531844034, 2.8014049408036303, 2.7400082023463024, 2.4172516181704387, 2.383700162615307, 5.493203061668461, 4.527290129824697, 16.456237393969655, 5.920056103330924, 27.084174426283614, 56.521745785604246, 24.471625977842056, 14.56230441384283, 6.198534686091124, 37.5781421737927, 35.43205377493931, 55.46140939949547, 75.23224541538019, 22.22424683798373, 31.40763772551377, 12.715425279350585, 13.860596644925963, 33.139925397962394, 22.41925219415343, 24.299076252285786, 15.196785619815461, 12.597772413862584, 39.622044161057545, 8.899444252130003, 13.06203316373966, 20.455325914412057, 10.364736395536273, 17.53763144477216, 5.630129898850361, 5.231479016441438, 4.100849130187911, 3.912212736465516, 3.429836693498908, 3.429836693498908, 3.4302593693745007, 6.083912737503142, 3.4806990842491876, 10.6947460872359, 2.416849306697127, 2.2829091597279376, 2.28717785045079, 2.119407335784861, 2.11953076292104, 2.096532354367782, 1.9630270892491695, 1.9336762928834899, 1.9337490764206693, 7.064958000999422, 7.949102796364639, 1.7996455045320157, 1.8013932374077675, 4.587237422543104, 1.6130977500281354, 1.6140266451550809, 3.811694066714441, 2.5310751815819295, 22.52898753818791, 6.839553742591037, 10.16323113139673, 7.011022945238357, 30.916033953096175, 31.40763772551377, 43.649820187665355, 4.482930259556111, 14.337056191395636, 24.471625977842056, 7.627070381010908, 7.44462687908857, 39.622044161057545, 13.760816625375947, 6.616345407753992, 37.5781421737927, 75.23224541538019, 42.8056466384024, 7.436246532429001, 6.676443310012852, 7.088218388094518, 5.0703621703113235, 4.711145170230491, 4.711145170230491, 3.739764435411501, 3.786910460925694, 3.463094165511711, 3.7636932353492005, 3.2427876618761395, 3.648535679087184, 3.1045176598754987, 3.106269090871626, 3.0057367710122715, 3.0059972593022466, 3.0064178163617123, 2.7458474927494456, 2.7458474927494456, 2.7458474927494456, 2.7458474927494456, 2.7458474927494456, 2.7458474927494456, 2.7458474927494456, 2.7458474927494456, 2.7458474927494456, 2.7458474927494456, 2.7458474927494456, 2.7458474927494456, 2.7458474927494456, 20.455325914412057, 5.3036160545167474, 9.327603336396841, 3.3337337540444887, 7.789924402242173, 8.193511893647008, 9.438171227101478, 15.196785619815461, 32.017786051025745, 11.822346449641572, 7.031561197971454, 55.46140939949547, 22.41925219415343, 10.16323113139673, 37.5781421737927, 7.5851821786889815, 16.456237393969655, 31.40763772551377, 13.760816625375947, 8.208778440878614, 11.024400625742267, 37.4989015574515], \"Category\": [\"Default\", \"Default\", \"Default\", \"Default\", \"Default\", \"Default\", \"Default\", \"Default\", \"Default\", \"Default\", \"Default\", \"Default\", \"Default\", \"Default\", \"Default\", \"Default\", \"Default\", \"Default\", \"Default\", \"Default\", \"Default\", \"Default\", \"Default\", \"Default\", \"Default\", \"Default\", \"Default\", \"Default\", \"Default\", \"Default\", \"Topic1\", \"Topic1\", \"Topic1\", \"Topic1\", \"Topic1\", \"Topic1\", \"Topic1\", \"Topic1\", \"Topic1\", \"Topic1\", \"Topic1\", \"Topic1\", \"Topic1\", \"Topic1\", \"Topic1\", \"Topic1\", \"Topic1\", \"Topic1\", \"Topic1\", \"Topic1\", \"Topic1\", \"Topic1\", \"Topic1\", \"Topic1\", \"Topic1\", \"Topic1\", \"Topic1\", \"Topic1\", \"Topic1\", \"Topic1\", \"Topic1\", \"Topic1\", \"Topic1\", \"Topic1\", \"Topic1\", \"Topic1\", \"Topic1\", \"Topic1\", \"Topic1\", \"Topic1\", \"Topic1\", \"Topic1\", \"Topic1\", \"Topic1\", \"Topic1\", \"Topic1\", \"Topic1\", \"Topic1\", \"Topic1\", \"Topic1\", \"Topic1\", \"Topic2\", \"Topic2\", \"Topic2\", \"Topic2\", \"Topic2\", \"Topic2\", \"Topic2\", \"Topic2\", \"Topic2\", \"Topic2\", \"Topic2\", \"Topic2\", \"Topic2\", \"Topic2\", \"Topic2\", \"Topic2\", \"Topic2\", \"Topic2\", \"Topic2\", \"Topic2\", \"Topic2\", \"Topic2\", \"Topic2\", \"Topic2\", \"Topic2\", \"Topic2\", \"Topic2\", \"Topic2\", \"Topic2\", \"Topic2\", \"Topic2\", \"Topic2\", \"Topic2\", \"Topic2\", \"Topic2\", \"Topic2\", \"Topic2\", \"Topic2\", \"Topic2\", \"Topic2\", \"Topic2\", \"Topic2\", \"Topic2\", \"Topic2\", \"Topic2\", \"Topic2\", \"Topic2\", \"Topic2\", \"Topic2\", \"Topic2\", \"Topic2\", \"Topic2\", \"Topic3\", \"Topic3\", \"Topic3\", \"Topic3\", \"Topic3\", \"Topic3\", \"Topic3\", \"Topic3\", \"Topic3\", \"Topic3\", \"Topic3\", \"Topic3\", \"Topic3\", \"Topic3\", \"Topic3\", \"Topic3\", \"Topic3\", \"Topic3\", \"Topic3\", \"Topic3\", \"Topic3\", \"Topic3\", \"Topic3\", \"Topic3\", \"Topic3\", \"Topic3\", \"Topic3\", \"Topic3\", \"Topic3\", \"Topic3\", \"Topic3\", \"Topic3\", \"Topic3\", \"Topic3\", \"Topic3\", \"Topic3\", \"Topic3\", \"Topic3\", \"Topic3\", \"Topic3\", \"Topic3\", \"Topic3\", \"Topic3\", \"Topic3\", \"Topic3\", \"Topic3\", \"Topic3\", \"Topic3\", \"Topic3\", \"Topic3\", \"Topic3\", \"Topic3\", \"Topic3\", \"Topic3\", \"Topic4\", \"Topic4\", \"Topic4\", \"Topic4\", \"Topic4\", \"Topic4\", \"Topic4\", \"Topic4\", \"Topic4\", \"Topic4\", \"Topic4\", \"Topic4\", \"Topic4\", \"Topic4\", \"Topic4\", \"Topic4\", \"Topic4\", \"Topic4\", \"Topic4\", \"Topic4\", \"Topic4\", \"Topic4\", \"Topic4\", \"Topic4\", \"Topic4\", \"Topic4\", \"Topic4\", \"Topic4\", \"Topic4\", \"Topic4\", \"Topic4\", \"Topic4\", \"Topic4\", \"Topic4\", \"Topic4\", \"Topic4\", \"Topic4\", \"Topic4\", \"Topic4\", \"Topic4\", \"Topic4\", \"Topic4\", \"Topic4\", \"Topic4\", \"Topic4\", \"Topic4\", \"Topic4\", \"Topic4\", \"Topic5\", \"Topic5\", \"Topic5\", \"Topic5\", \"Topic5\", \"Topic5\", \"Topic5\", \"Topic5\", \"Topic5\", \"Topic5\", \"Topic5\", \"Topic5\", \"Topic5\", \"Topic5\", \"Topic5\", \"Topic5\", \"Topic5\", \"Topic5\", \"Topic5\", \"Topic5\", \"Topic5\", \"Topic5\", \"Topic5\", \"Topic5\", \"Topic5\", \"Topic5\", \"Topic5\", \"Topic5\", \"Topic5\", \"Topic5\", \"Topic5\", \"Topic5\", \"Topic5\", \"Topic5\", \"Topic5\", \"Topic5\", \"Topic5\", \"Topic5\", \"Topic5\", \"Topic5\", \"Topic5\", \"Topic5\", \"Topic5\", \"Topic5\", \"Topic5\", \"Topic5\", \"Topic5\", \"Topic5\", \"Topic5\", \"Topic5\", \"Topic5\", \"Topic5\"], \"logprob\": [30.0, 29.0, 28.0, 27.0, 26.0, 25.0, 24.0, 23.0, 22.0, 21.0, 20.0, 19.0, 18.0, 17.0, 16.0, 15.0, 14.0, 13.0, 12.0, 11.0, 10.0, 9.0, 8.0, 7.0, 6.0, 5.0, 4.0, 3.0, 2.0, 1.0, -3.2042, -3.8109, -3.8865, -3.9932, -4.3153, -4.6023, -4.6904, -4.8638, -4.9721, -5.0689, -5.1482, -5.248, -5.3657, -5.3657, -5.3658, -5.3658, -5.4346, -5.4823, -5.5786, -5.7171, -5.7081, -3.0966, -5.8002, -4.492, -5.7525, -5.878, -5.9029, -5.9033, -5.9988, -6.0014, -3.293, -3.8051, -3.5507, -3.5784, -5.5388, -4.022, -5.0434, -4.3948, -4.4249, -4.191, -3.9276, -4.3865, -3.9885, -4.2371, -4.8535, -4.8781, -4.9934, -4.9935, -4.9894, -4.885, -4.971, -3.5765, -4.0483, -4.4221, -4.5982, -4.7751, -4.9207, -4.9516, -5.0329, -5.089, -5.0901, -5.1283, -5.1359, -5.2321, -5.2321, -5.2323, -5.2333, -5.2683, -5.3498, -5.3498, -5.3498, -5.3498, -5.3498, -5.3498, -5.3681, -4.3375, -5.7009, -5.701, -4.7701, -5.8794, -5.8797, -4.6373, -3.8518, -3.3298, -5.2048, -2.9354, -4.3541, -4.6643, -4.1931, -3.9626, -3.6628, -4.0049, -4.2107, -4.7187, -4.1607, -5.0121, -4.9996, -5.0526, -4.6904, -4.7193, -4.8663, -4.9715, -5.0421, -4.376, -4.6297, -4.6513, -3.6127, -4.8928, -5.0944, -5.1024, -5.1046, -3.662, -5.0259, -5.1995, -5.3172, -5.3172, -5.3172, -5.3172, -5.3172, -5.3172, -5.3172, -4.359, -5.588, -5.1476, -5.6569, -4.2415, -5.7397, -5.7412, -5.768, -5.936, -5.9517, -5.1177, -5.3165, -4.0279, -5.0669, -3.6, -3.1061, -3.9091, -4.3956, -5.0979, -3.842, -3.9365, -3.6418, -3.4949, -4.2473, -4.0792, -4.7116, -4.6985, -4.3509, -4.5452, -4.5558, -4.8354, -4.8966, -4.6757, -4.9834, -4.9213, -4.996, -3.7191, -3.2437, -4.3864, -4.4726, -4.7537, -4.8082, -4.9666, -4.9666, -4.9672, -4.4072, -4.9845, -3.9031, -5.4197, -5.4969, -5.5086, -5.5995, -5.5999, -5.6159, -5.7166, -5.7345, -5.7354, -4.4426, -4.3349, -5.849, -5.8536, -4.9659, -6.0181, -6.0233, -5.1806, -5.607, -3.4247, -4.6193, -4.34, -4.7651, -3.6613, -3.6983, -3.4838, -5.1582, -4.4067, -4.1049, -4.8378, -4.8609, -3.9984, -4.5583, -4.9475, -4.4786, -4.7668, -4.8303, -4.0482, -4.1652, -4.1104, -4.4769, -4.5617, -4.5617, -4.8376, -4.8261, -4.9315, -4.8508, -5.014, -4.901, -5.0691, -5.0702, -5.1115, -5.1117, -5.112, -5.2286, -5.2286, -5.2286, -5.2286, -5.2286, -5.2286, -5.2286, -5.2286, -5.2286, -5.2286, -5.2286, -5.2286, -5.2286, -3.2278, -4.5985, -4.1857, -5.0733, -4.4789, -4.4457, -4.3775, -4.1951, -3.7859, -4.4466, -4.7739, -3.7981, -4.2363, -4.6684, -4.2226, -4.8091, -4.6411, -4.5496, -4.7486, -4.8626, -4.8657, -4.8417], \"loglift\": [30.0, 29.0, 28.0, 27.0, 26.0, 25.0, 24.0, 23.0, 22.0, 21.0, 20.0, 19.0, 18.0, 17.0, 16.0, 15.0, 14.0, 13.0, 12.0, 11.0, 10.0, 9.0, 8.0, 7.0, 6.0, 5.0, 4.0, 3.0, 2.0, 1.0, 1.3378, 1.322, 1.3195, 1.3155, 1.2998, 1.2796, 1.2734, 1.2597, 1.2488, 1.2386, 1.2265, 1.2169, 1.2006, 1.2006, 1.2006, 1.2006, 1.1888, 1.1762, 1.1646, 1.1408, 1.1383, 1.1258, 1.1242, 1.1208, 1.1164, 1.1071, 1.0967, 1.0955, 1.0794, 1.077, 1.0617, 0.9834, 0.8606, 0.7212, 1.02, 0.5257, 0.8229, 0.4743, 0.4393, 0.2873, 0.0168, 0.1262, -0.33, -0.2738, 0.5037, 0.4225, 0.5855, 0.452, 0.4199, -0.3531, -0.7682, 1.399, 1.3806, 1.3577, 1.3468, 1.3314, 1.3162, 1.3136, 1.3034, 1.2978, 1.2954, 1.292, 1.2911, 1.2789, 1.2789, 1.2787, 1.2777, 1.2705, 1.2616, 1.2616, 1.2616, 1.2616, 1.2616, 1.2616, 1.2577, 1.2343, 1.1983, 1.1982, 1.1617, 1.1581, 1.1578, 1.1418, 1.1179, 0.873, 1.1289, 0.723, 0.962, 1.0076, 0.6848, 0.5501, 0.3005, 0.4734, 0.1419, 0.6312, -0.2163, 0.9035, 0.8742, 0.8822, -0.0103, -0.3646, -0.6439, -0.6719, -0.4944, 1.3851, 1.3661, 1.3633, 1.3425, 1.3372, 1.3182, 1.3173, 1.3159, 1.3157, 1.3146, 1.3044, 1.2872, 1.2872, 1.2872, 1.2872, 1.2872, 1.2872, 1.2872, 1.2774, 1.2306, 1.2274, 1.2246, 1.2238, 1.209, 1.2077, 1.203, 1.1604, 1.1586, 1.1578, 1.1524, 1.1504, 1.1338, 1.08, 0.8383, 0.8724, 0.905, 1.0568, 0.5106, 0.4748, 0.3215, 0.1635, 0.6306, 0.4527, 0.7246, 0.6515, 0.1273, 0.3239, 0.2328, 0.4225, 0.5489, -0.3761, 0.8096, 0.488, -0.0353, 1.9215, 1.871, 1.8645, 1.8517, 1.8141, 1.8067, 1.7799, 1.7799, 1.7792, 1.7661, 1.7473, 1.7062, 1.6768, 1.6566, 1.6431, 1.6284, 1.6279, 1.6228, 1.5879, 1.5851, 1.5842, 1.5812, 1.571, 1.5424, 1.5369, 1.4898, 1.4828, 1.477, 1.4603, 1.4433, 1.4394, 1.437, 1.3202, 1.2664, 0.8865, 0.8336, 0.719, 1.3205, 0.9094, 0.6765, 1.1095, 1.1106, 0.3013, 0.7989, 1.142, -0.126, -1.1084, -0.608, 1.9244, 1.9152, 1.9102, 1.8787, 1.8674, 1.8674, 1.8224, 1.8213, 1.8053, 1.8028, 1.7885, 1.7837, 1.7771, 1.7754, 1.7669, 1.7667, 1.7663, 1.7403, 1.7403, 1.7403, 1.7403, 1.7403, 1.7403, 1.7403, 1.7403, 1.7403, 1.7403, 1.7403, 1.7403, 1.7403, 1.733, 1.7122, 1.5604, 1.7016, 1.4472, 1.4299, 1.3567, 1.0628, 0.7268, 1.0624, 1.2547, 0.1652, 0.6328, 0.9918, 0.13, 1.1437, 0.5372, -0.0176, 0.6086, 1.0112, 0.7132, -0.487]}, \"token.table\": {\"Topic\": [1, 3, 4, 2, 1, 5, 2, 2, 1, 5, 3, 5, 1, 3, 1, 4, 3, 4, 5, 2, 5, 5, 3, 4, 1, 2, 1, 4, 5, 1, 2, 4, 1, 2, 5, 5, 2, 3, 5, 1, 4, 2, 3, 1, 2, 3, 2, 1, 1, 4, 2, 3, 2, 2, 1, 3, 5, 5, 1, 4, 3, 2, 1, 2, 3, 4, 2, 3, 5, 5, 3, 4, 5, 3, 4, 4, 1, 2, 5, 2, 2, 4, 1, 4, 1, 3, 2, 1, 4, 1, 2, 3, 5, 3, 1, 3, 3, 1, 3, 1, 4, 5, 4, 1, 3, 5, 5, 4, 1, 4, 5, 2, 5, 1, 1, 3, 1, 2, 5, 4, 2, 5, 2, 3, 2, 3, 1, 3, 5, 1, 2, 4, 5, 4, 5, 1, 2, 3, 5, 4, 1, 2, 3, 4, 3, 3, 4, 3, 1, 4, 2, 4, 5, 2, 5, 1, 1, 2, 3, 3, 4, 1, 2, 3, 4, 3, 3, 3, 5, 1, 4, 2, 1, 2, 3, 1, 2, 3, 1, 3, 4, 5, 1, 2, 3, 4, 5, 5, 1, 5, 1, 1, 2, 3, 1, 2, 3, 2, 4, 5, 1, 3, 2, 1, 2, 3, 4, 1, 3, 5, 2, 3, 1, 4, 2, 2, 2, 3, 5, 3, 3, 5, 4, 1, 1, 3, 5, 4, 5, 1, 1, 5, 3, 5, 4, 3, 1, 3, 2, 3, 1, 4, 1, 4, 5, 2, 5, 1, 5, 2, 5, 5, 2, 2, 3, 2, 4, 2, 5, 4, 2, 3, 4, 5, 3, 1, 2, 4, 1, 1, 3, 3, 4, 4, 5, 2, 5, 1, 5, 3, 5, 2, 2, 3, 4, 4, 1, 2, 1, 4, 1, 2, 5, 5, 1, 2, 3, 2, 1, 1, 3, 5, 2, 4, 5, 3, 4, 1, 4, 5, 2, 4, 1, 2, 5, 1, 2, 3, 5, 1, 4, 5, 1, 2, 3, 5, 1, 2, 5], \"Freq\": [0.3968955650046513, 0.3968955650046513, 0.15875822600186051, 0.6793463135617601, 0.6443946149904114, 0.7283725717765116, 0.9369644305556564, 0.7641096394860861, 0.7510417634563651, 0.7888982809593653, 0.8273859390416929, 0.7283725717765116, 0.9371328563843663, 0.839031700113522, 0.26235054086121035, 0.5247010817224207, 0.7138154802199892, 0.8218395325065126, 0.16436790650130254, 0.8416419201172084, 0.9413351170477529, 0.6653366012929236, 0.7588329278540109, 0.8746772129665407, 0.81250800419411, 0.7641089738521887, 0.13111194076426733, 0.393335822292802, 0.393335822292802, 0.9693191682785318, 0.7641089738521887, 0.8745694354147461, 0.746688538518965, 0.16000468682549251, 0.08000234341274626, 0.7283725717765116, 0.12204778768617748, 0.24409557537235496, 0.6102389384308874, 0.9404763945979464, 0.8746772129665407, 0.09944681728471855, 0.895021355562467, 0.33192591316685144, 0.39227607919718804, 0.27157574713651483, 0.9215514736884367, 0.6966737840671461, 0.29241673876259905, 0.5848334775251981, 0.8871496861670869, 0.7588329278540109, 0.9672794806199856, 0.8139178133229409, 0.7402003355342927, 0.7299248222276764, 0.5999279329291364, 0.7283725717765116, 0.8009953912834369, 0.4718300173428809, 0.7588329278540109, 0.9475172615682437, 0.4204937806616064, 0.16172837717754093, 0.09703702630652455, 0.32345675435508187, 0.16194285079892295, 0.8097142539946147, 0.7283725717765116, 0.7283725717765116, 0.21799612879980676, 0.6539883863994203, 0.7283725717765116, 0.057020242622220954, 0.9123238819555353, 0.888078976831595, 0.2567419010413426, 0.1283709505206713, 0.5134838020826852, 0.764109127692198, 0.517910299474023, 0.38843272460551725, 0.3950890148490165, 0.3950890148490165, 0.8618901553675744, 0.8351896489960151, 0.8758104882643377, 0.973991446513839, 0.5171301758814437, 0.08999180105315316, 0.49495490579234236, 0.44995900526576577, 0.8662773394603078, 0.841189265867918, 0.16891731810402089, 0.6756692724160835, 0.9816694972654305, 0.41202270118020884, 0.5493636015736117, 0.09839390515391834, 0.4919695257695917, 0.39357562061567336, 0.9648098724736163, 0.38278879997641196, 0.38278879997641196, 0.22967327998584716, 0.8490504655377243, 0.8618958224730082, 0.21441735115341856, 0.10720867557670928, 0.6432520534602557, 0.9009179928731202, 0.7970894045836485, 0.9824739681857846, 0.620906711751503, 0.3668994205804336, 0.09955313867920217, 0.6968719707544152, 0.19910627735840433, 0.6195684581798938, 0.6091040263799388, 0.36546241582796324, 0.7718640168384817, 0.19296600420962043, 0.09724158047885641, 0.8751742243097077, 0.09607541967226911, 0.8646787770504221, 0.09607541967226911, 0.11454800909839508, 0.5727400454919753, 0.2749152218361482, 0.022909601819679014, 0.18855060202715174, 0.754202408108607, 0.1983361064765885, 0.3245499924162357, 0.3245499924162357, 0.16227499620811786, 0.5556649892891226, 0.5300079903661259, 0.1261923786586014, 0.15143085439032167, 0.17666933012204195, 0.9634408980383716, 0.8417794445948632, 0.555125876590397, 0.8698166337569914, 0.45342251879476625, 0.45342251879476625, 0.9923173109661656, 0.7668294650843417, 0.8021895634904871, 0.9215237484725776, 0.644222458724943, 0.7504533520794201, 0.9397761512070587, 0.8106220927964123, 0.18013824284364718, 0.25160072164554964, 0.6290018041138742, 0.18609041804749715, 0.4918103905540996, 0.27913562707124573, 0.0398765181530351, 0.6674284726963602, 0.979525578076164, 0.7292067872329897, 0.24306892907766325, 0.9648777841316665, 0.9557526627338181, 0.7641092217188572, 0.0721469663693068, 0.4328817982158408, 0.4328817982158408, 0.26538458413682636, 0.19461536170033933, 0.5484614738827744, 0.19103633493345928, 0.38207266986691857, 0.3183938915557655, 0.1273575566223062, 0.053222428898968194, 0.26611214449484094, 0.39916821674226144, 0.13305607224742047, 0.15966728669690458, 0.8490504655377243, 0.7250582740424768, 0.24168609134749228, 0.7733426273198578, 0.8718211237325009, 0.3226569022010629, 0.6453138044021258, 0.07384386057044133, 0.221531581711324, 0.7015166754191926, 0.6277439301243262, 0.3487466278468479, 0.7283725717765116, 0.8041245628119188, 0.7139274907633547, 0.7800708463017603, 0.07864463657570037, 0.31457854630280147, 0.47186781945420214, 0.07864463657570037, 0.45353939590374354, 0.2721236375422461, 0.2721236375422461, 0.44946626853049115, 0.5618328356631139, 0.3994853290563764, 0.5770343641925437, 0.9156481274697219, 0.922488280031124, 0.6793166898317031, 0.24443511782313804, 0.7333053534694141, 0.7588329355193928, 0.7771481883894986, 0.8464750479581292, 0.4769780909494021, 0.9739907962274235, 0.40144068687300155, 0.3122316453456679, 0.26762712458200105, 0.876075156769859, 0.7283725717765116, 0.9382913319381196, 0.8126574591231629, 0.6653942618290025, 0.8043678492653031, 0.9251299538571475, 0.8275236666423385, 0.9400752041465518, 0.9330736609978456, 0.7588329355193928, 0.18204315201416715, 0.7281726080566686, 0.4278976154310686, 0.4278976154310686, 0.6045408846721234, 0.24181635386884937, 0.12090817693442468, 0.8128637302842633, 0.6652435297301249, 0.9872610133852152, 0.8986820858647342, 0.7745743454618539, 0.1290957242436423, 0.8222476806778989, 0.8473011266640187, 0.22088268507738015, 0.6626480552321404, 0.44613676417041453, 0.44613676417041453, 0.780107716518597, 0.7283725717765116, 0.8744400876415497, 0.6350833207020342, 0.3810499924212205, 0.6199252339063508, 0.7283725717765116, 0.7588329278540109, 0.7942877323455136, 0.11680701946257553, 0.07008421167754532, 0.9739915205585925, 0.6996150727499705, 0.28807679466175257, 0.7588329355193928, 0.7315558082631858, 0.7480308494231518, 0.18700771235578795, 0.9215414411465626, 0.7283725717765116, 0.9739915205585925, 0.6438592219448688, 0.42381091672866644, 0.529763645910833, 0.7641089738521887, 0.16345460671970952, 0.5720911235189833, 0.28604556175949164, 0.5171496406509718, 0.24662938502637524, 0.7398881550791258, 0.6590709111289142, 0.5094173205640713, 0.7506623358281902, 0.09383279197852377, 0.09383279197852377, 0.7922025173171544, 0.11081556413925292, 0.7757089489747704, 0.11081556413925292, 0.7752300886029926, 0.8800755337941264, 0.6518162627025583, 0.9150208984225365, 0.7283725717765116, 0.2686501328384715, 0.40297519925770725, 0.2686501328384715, 0.2830873162610558, 0.7077182906526396, 0.26367197951014526, 0.26367197951014526, 0.39550796926521786, 0.92153544305015, 0.47180254115389486, 0.2810937641240085, 0.40602432595690113, 0.2810937641240085, 0.06580338928359136, 0.13160677856718273, 0.3290169464179568, 0.3948203357015482, 0.4360206347736343, 0.2906804231824228, 0.21801031738681714, 0.338342309374741, 0.2537567320310558, 0.08458557734368526, 0.4229278867184263, 0.14221592784949258, 0.28443185569898516, 0.42664778354847777], \"Term\": [\"able\", \"able\", \"able\", \"accountability\", \"acquire\", \"actualize\", \"advice\", \"aid\", \"amazing\", \"answer\", \"appreciate\", \"area\", \"ask\", \"assignment\", \"assistance\", \"assistance\", \"available\", \"background\", \"background\", \"bad\", \"bear\", \"begin\", \"better\", \"boon\", \"boost\", \"boot\", \"break\", \"break\", \"break\", \"build\", \"camp\", \"capacity\", \"career\", \"career\", \"career\", \"chain\", \"chance\", \"chance\", \"chance\", \"change\", \"clean\", \"code\", \"code\", \"community\", \"community\", \"community\", \"complete\", \"computer\", \"confidence\", \"confidence\", \"connection\", \"conversation\", \"course\", \"criminal\", \"data\", \"day\", \"deal\", \"deep\", \"degree\", \"design\", \"determined\", \"dev\", \"developer\", \"developer\", \"developer\", \"developer\", \"development\", \"development\", \"dictate\", \"die\", \"difficult\", \"difficult\", \"dig\", \"direction\", \"direction\", \"door\", \"employment\", \"employment\", \"employment\", \"encourage\", \"encouragement\", \"encouragement\", \"end\", \"end\", \"engineer\", \"enjoy\", \"etc\", \"excel\", \"excellent\", \"experience\", \"experience\", \"experience\", \"expertise\", \"explore\", \"family\", \"family\", \"far\", \"feel\", \"feel\", \"field\", \"field\", \"field\", \"financial\", \"find\", \"find\", \"find\", \"finish\", \"foot\", \"forward\", \"forward\", \"forward\", \"freelance\", \"fundamental\", \"future\", \"gain\", \"gain\", \"get\", \"get\", \"get\", \"give\", \"go\", \"go\", \"goal\", \"goal\", \"good\", \"good\", \"grow\", \"grow\", \"grow\", \"guidance\", \"guidance\", \"guidance\", \"guidance\", \"guide\", \"guide\", \"help\", \"help\", \"help\", \"help\", \"hold\", \"hope\", \"hope\", \"hope\", \"hope\", \"hopefully\", \"human\", \"hunting\", \"important\", \"improve\", \"improve\", \"industry\", \"information\", \"insight\", \"inspire\", \"instruction\", \"interact\", \"interested\", \"interview\", \"interview\", \"ios\", \"ios\", \"job\", \"job\", \"job\", \"job\", \"join\", \"journey\", \"know\", \"know\", \"knowledge\", \"lack\", \"ladder\", \"land\", \"land\", \"land\", \"learn\", \"learn\", \"learn\", \"life\", \"life\", \"life\", \"life\", \"like\", \"like\", \"like\", \"like\", \"like\", \"line\", \"live\", \"live\", \"lot\", \"meaningful\", \"meet\", \"meet\", \"mentor\", \"mentor\", \"mentor\", \"mentorship\", \"mentorship\", \"middle\", \"mistake\", \"motivation\", \"navigate\", \"need\", \"need\", \"need\", \"need\", \"network\", \"network\", \"network\", \"networking\", \"networking\", \"new\", \"new\", \"obtain\", \"offer\", \"open\", \"opportunity\", \"opportunity\", \"order\", \"path\", \"pay\", \"peer\", \"peoeple\", \"people\", \"people\", \"people\", \"person\", \"pit\", \"place\", \"placement\", \"point\", \"position\", \"potential\", \"prep\", \"process\", \"professional\", \"proficiency\", \"program\", \"program\", \"programmer\", \"programmer\", \"programming\", \"programming\", \"programming\", \"project\", \"put\", \"question\", \"race\", \"real\", \"real\", \"receive\", \"record\", \"relate\", \"relate\", \"resource\", \"resource\", \"resume\", \"run\", \"security\", \"sense\", \"sense\", \"session\", \"shackle\", \"significantly\", \"skill\", \"skill\", \"skill\", \"socioeconomic\", \"software\", \"software\", \"solo\", \"sort\", \"stability\", \"stability\", \"standard\", \"starting\", \"status\", \"success\", \"successful\", \"successful\", \"successfully\", \"support\", \"support\", \"support\", \"system\", \"tech\", \"tech\", \"technical\", \"term\", \"thing\", \"thing\", \"thing\", \"think\", \"time\", \"time\", \"time\", \"tip\", \"training\", \"transition\", \"truly\", \"truth\", \"try\", \"try\", \"try\", \"understand\", \"understand\", \"understanding\", \"understanding\", \"understanding\", \"valuable\", \"w/\", \"want\", \"want\", \"want\", \"way\", \"way\", \"way\", \"way\", \"well\", \"well\", \"well\", \"work\", \"work\", \"work\", \"work\", \"world\", \"world\", \"world\"]}, \"R\": 30, \"lambda.step\": 0.01, \"plot.opts\": {\"xlab\": \"PC1\", \"ylab\": \"PC2\"}, \"topic.order\": [2, 3, 1, 4, 5]};\n",
              "\n",
              "function LDAvis_load_lib(url, callback){\n",
              "  var s = document.createElement('script');\n",
              "  s.src = url;\n",
              "  s.async = true;\n",
              "  s.onreadystatechange = s.onload = callback;\n",
              "  s.onerror = function(){console.warn(\"failed to load library \" + url);};\n",
              "  document.getElementsByTagName(\"head\")[0].appendChild(s);\n",
              "}\n",
              "\n",
              "if(typeof(LDAvis) !== \"undefined\"){\n",
              "   // already loaded: just create the visualization\n",
              "   !function(LDAvis){\n",
              "       new LDAvis(\"#\" + \"ldavis_el1771405847967821608390069402\", ldavis_el1771405847967821608390069402_data);\n",
              "   }(LDAvis);\n",
              "}else if(typeof define === \"function\" && define.amd){\n",
              "   // require.js is available: use it to load d3/LDAvis\n",
              "   require.config({paths: {d3: \"https://d3js.org/d3.v5\"}});\n",
              "   require([\"d3\"], function(d3){\n",
              "      window.d3 = d3;\n",
              "      LDAvis_load_lib(\"https://cdn.jsdelivr.net/gh/bmabey/pyLDAvis@3.3.1/pyLDAvis/js/ldavis.v3.0.0.js\", function(){\n",
              "        new LDAvis(\"#\" + \"ldavis_el1771405847967821608390069402\", ldavis_el1771405847967821608390069402_data);\n",
              "      });\n",
              "    });\n",
              "}else{\n",
              "    // require.js not available: dynamically load d3 & LDAvis\n",
              "    LDAvis_load_lib(\"https://d3js.org/d3.v5.js\", function(){\n",
              "         LDAvis_load_lib(\"https://cdn.jsdelivr.net/gh/bmabey/pyLDAvis@3.3.1/pyLDAvis/js/ldavis.v3.0.0.js\", function(){\n",
              "                 new LDAvis(\"#\" + \"ldavis_el1771405847967821608390069402\", ldavis_el1771405847967821608390069402_data);\n",
              "            })\n",
              "         });\n",
              "}\n",
              "</script>"
            ]
          },
          "metadata": {},
          "execution_count": 41
        }
      ]
    },
    {
      "cell_type": "markdown",
      "source": [
        "# Coherence Measures\n"
      ],
      "metadata": {
        "id": "2ktNkVYUy3dC"
      }
    },
    {
      "cell_type": "markdown",
      "source": [
        "Coherence score in topic modeling measures how similar topic words are to each other. Usually, the coherence score increases with the increase in the number of topics. This increase becomes smaller as the number of topics gets higher. The best choice is a point after which the increase in coherence score is no longer worth the additional increase in the number of topics. "
      ],
      "metadata": {
        "id": "Cc-l3vI95it8"
      }
    },
    {
      "cell_type": "code",
      "source": [
        "def compute_coherence_values(dictionary, corpus, texts, limit=None, start=None, step=None):\n",
        "    \"\"\"\n",
        "    Compute c_v coherence for various number of topics\n",
        "\n",
        "    Parameters:\n",
        "    ----------\n",
        "    dictionary : Gensim dictionary\n",
        "    corpus : Gensim corpus\n",
        "    texts : List of input texts\n",
        "    limit : Max num of topics\n",
        "\n",
        "    Returns:\n",
        "    -------\n",
        "    model_list : List of LDA topic models\n",
        "    coherence_values : Coherence values corresponding to the LDA model with respective number of topics\n",
        "    \"\"\"\n",
        "    coherence_values = []\n",
        "    model_list = []\n",
        "    for num_topics in range(start, limit, step):\n",
        "        model = gensim.models.ldamulticore.LdaMulticore(corpus=corpus,\n",
        "                                                        id2word=id2word,\n",
        "                                                        num_topics=num_topics, \n",
        "                                                        chunksize=100,\n",
        "                                                        passes=10,\n",
        "                                                        random_state=1234,\n",
        "                                                        per_word_topics=True,\n",
        "                                                        workers=1)\n",
        "        model_list.append(model)\n",
        "        coherencemodel = CoherenceModel(model=model, texts=texts, dictionary=dictionary, coherence='c_v')\n",
        "        coherence_values.append(coherencemodel.get_coherence())\n",
        "\n",
        "    return model_list, coherence_values"
      ],
      "metadata": {
        "id": "wq0w6RqiUc10"
      },
      "execution_count": 42,
      "outputs": []
    },
    {
      "cell_type": "code",
      "source": [
        "model_list, coherence_values = compute_coherence_values(dictionary=id2word, corpus=corpus, texts=lemmas, start=2, limit=10, step=1)"
      ],
      "metadata": {
        "id": "AQoCXRh503DM"
      },
      "execution_count": null,
      "outputs": []
    },
    {
      "cell_type": "markdown",
      "source": [
        "# Plot the coherence scores vs number of topics"
      ],
      "metadata": {
        "id": "vvppHfqhqxPY"
      }
    },
    {
      "cell_type": "code",
      "source": [
        "start=2; limit=10;  step=1;\n",
        "x = range(start, limit, step)\n",
        "\n",
        "plt.figure(figsize=(20,5))\n",
        "plt.grid()\n",
        "plt.title(\"Coherence Score vs. Number of Topics\")\n",
        "plt.xticks(x)\n",
        "plt.plot(x, coherence_values, \"-o\")\n",
        "\n",
        "plt.xlabel(\"Num Topics\")\n",
        "plt.ylabel(\"Coherence score\")\n",
        "\n",
        "plt.show();"
      ],
      "metadata": {
        "id": "UlpS4sU624qk",
        "colab": {
          "base_uri": "https://localhost:8080/",
          "height": 350
        },
        "outputId": "229dd552-6877-48ed-bcc4-ee882bb4b06f"
      },
      "execution_count": 44,
      "outputs": [
        {
          "output_type": "display_data",
          "data": {
            "text/plain": [
              "<Figure size 1440x360 with 1 Axes>"
            ],
            "image/png": "[encoded data removed]"
          },
          "metadata": {
            "needs_background": "light"
          }
        }
      ]
    },
    {
      "cell_type": "code",
      "source": [
        "num_topics = 8\n",
        "\n",
        "lda_multicore_8_topics = gensim.models.ldamulticore.LdaMulticore(corpus=corpus,\n",
        "                                                        id2word=id2word,\n",
        "                                                        num_topics=num_topics, \n",
        "                                                        chunksize=100,\n",
        "                                                        passes=10,\n",
        "                                                        per_word_topics=True,\n",
        "                                                        workers=1, \n",
        "                                                        random_state=1234, \n",
        "                                                        iterations=10) "
      ],
      "metadata": {
        "id": "W5QioHRy4ovv"
      },
      "execution_count": null,
      "outputs": []
    },
    {
      "cell_type": "code",
      "source": [
        "pyLDAvis.enable_notebook()\n",
        "vis = pyLDAvis.gensim_models.prepare(lda_multicore_8_topics, corpus, id2word)\n",
        "vis"
      ],
      "metadata": {
        "id": "1TTsGpLX4w9o",
        "colab": {
          "base_uri": "https://localhost:8080/",
          "height": 916
        },
        "outputId": "c5392656-b3c5-41bc-8d9e-756e2552df6e"
      },
      "execution_count": 46,
      "outputs": [
        {
          "output_type": "stream",
          "name": "stderr",
          "text": [
            "/usr/local/lib/python3.7/dist-packages/pyLDAvis/_prepare.py:247: FutureWarning: In a future version of pandas all arguments of DataFrame.drop except for the argument 'labels' will be keyword-only\n",
            "  by='saliency', ascending=False).head(R).drop('saliency', 1)\n"
          ]
        },
        {
          "output_type": "execute_result",
          "data": {
            "text/plain": [
              "PreparedData(topic_coordinates=              x         y  topics  cluster       Freq\n",
              "topic                                                \n",
              "0      0.126646  0.026008       1        1  20.536284\n",
              "6      0.083422  0.130983       2        1  16.704014\n",
              "2      0.062950  0.043357       3        1  15.160188\n",
              "1      0.124180 -0.137928       4        1  14.799147\n",
              "4     -0.100161 -0.185422       5        1  10.594728\n",
              "3     -0.061132  0.069392       6        1   8.091805\n",
              "5     -0.208347  0.070108       7        1   7.559323\n",
              "7     -0.027558 -0.016500       8        1   6.554510, topic_info=              Term       Freq      Total Category  logprob  loglift\n",
              "24          career  37.000000  37.000000  Default  30.0000  30.0000\n",
              "2           mentor  27.000000  27.000000  Default  29.0000  29.0000\n",
              "68      experience  21.000000  21.000000  Default  28.0000  28.0000\n",
              "21            help  55.000000  55.000000  Default  27.0000  27.0000\n",
              "10            want  28.000000  28.000000  Default  26.0000  26.0000\n",
              "..             ...        ...        ...      ...      ...      ...\n",
              "531  understanding   1.510125   8.088050   Topic8  -4.8418   1.0468\n",
              "81        industry   1.813260  18.079702   Topic8  -4.6589   0.4254\n",
              "11            able   1.565416  11.726280   Topic8  -4.8058   0.7113\n",
              "212            way   1.510365  15.415723   Topic8  -4.8416   0.4020\n",
              "318    programming   1.233642   8.899897   Topic8  -5.0440   0.7489\n",
              "\n",
              "[395 rows x 6 columns], token_table=      Topic      Freq     Term\n",
              "term                          \n",
              "730       5  0.877819        $\n",
              "192       4  0.686207  ability\n",
              "192       6  0.228736  ability\n",
              "11        2  0.255836     able\n",
              "11        3  0.170557     able\n",
              "...     ...       ...      ...\n",
              "393       6  0.396422    world\n",
              "393       8  0.132141    world\n",
              "112       4  0.149217     year\n",
              "112       5  0.746083     year\n",
              "801       6  0.912075    yearn\n",
              "\n",
              "[476 rows x 3 columns], R=30, lambda_step=0.01, plot_opts={'xlab': 'PC1', 'ylab': 'PC2'}, topic_order=[1, 7, 3, 2, 5, 4, 6, 8])"
            ],
            "text/html": [
              "\n",
              "<link rel=\"stylesheet\" type=\"text/css\" href=\"https://cdn.jsdelivr.net/gh/bmabey/pyLDAvis@3.3.1/pyLDAvis/js/ldavis.v1.0.0.css\">\n",
              "\n",
              "\n",
              "<div id=\"ldavis_el1771405847968711207197826337\"></div>\n",
              "<script type=\"text/javascript\">\n",
              "\n",
              "var ldavis_el1771405847968711207197826337_data = {\"mdsDat\": {\"x\": [0.12664604366519588, 0.08342230745709214, 0.06295033736045097, 0.12418027393943479, -0.10016111726875851, -0.061132408221834994, -0.20834705391633176, -0.027558383015248565], \"y\": [0.026008446250515647, 0.1309833535540238, 0.04335680870010234, -0.13792773918292683, -0.18542200008334808, 0.06939231112015438, 0.07010840262426873, -0.01649958298279013], \"topics\": [1, 2, 3, 4, 5, 6, 7, 8], \"cluster\": [1, 1, 1, 1, 1, 1, 1, 1], \"Freq\": [20.53628396955045, 16.704014447275796, 15.16018816577992, 14.79914707188223, 10.594727833708186, 8.091804843909973, 7.559323255791687, 6.554510412101755]}, \"tinfo\": {\"Term\": [\"career\", \"mentor\", \"experience\", \"help\", \"want\", \"life\", \"knowledge\", \"job\", \"opportunity\", \"good\", \"mentorship\", \"community\", \"software\", \"direction\", \"tech\", \"hope\", \"advice\", \"people\", \"guidance\", \"well\", \"question\", \"skill\", \"ask\", \"land\", \"support\", \"new\", \"know\", \"gain\", \"code\", \"learn\", \"good\", \"land\", \"chance\", \"hopefully\", \"enjoy\", \"deal\", \"success\", \"practice\", \"put\", \"anxiety\", \"flawed\", \"prosperity\", \"stress\", \"right\", \"apply\", \"process\", \"felony\", \"family\", \"project\", \"available\", \"day\", \"mistake\", \"come\", \"ios\", \"son\", \"amazing\", \"interact\", \"friend\", \"problem\", \"program\", \"current\", \"position\", \"find\", \"forward\", \"skill\", \"job\", \"code\", \"help\", \"learn\", \"hope\", \"gain\", \"work\", \"experience\", \"people\", \"developer\", \"pay\", \"support\", \"like\", \"way\", \"feel\", \"knowledge\", \"direction\", \"question\", \"ask\", \"stability\", \"financial\", \"place\", \"etc\", \"freelance\", \"truly\", \"standard\", \"peoeple\", \"order\", \"proficiency\", \"solo\", \"encourage\", \"understand\", \"connect\", \"life\", \"sense\", \"important\", \"development\", \"community\", \"know\", \"w/\", \"familiar\", \"compose\", \"jetpack\", \"journey\", \"need\", \"industry\", \"feel\", \"thing\", \"go\", \"build\", \"new\", \"like\", \"learn\", \"far\", \"people\", \"software\", \"skill\", \"job\", \"want\", \"hope\", \"gain\", \"mentor\", \"networking\", \"offer\", \"course\", \"complete\", \"dev\", \"aid\", \"boot\", \"camp\", \"successfully\", \"better\", \"conversation\", \"determined\", \"significantly\", \"contribute\", \"open\", \"grow\", \"motivation\", \"minded\", \"navigate\", \"resume\", \"figure\", \"relate\", \"close\", \"folk\", \"human\", \"assignment\", \"time\", \"issue\", \"goal\", \"teach\", \"interview\", \"support\", \"job\", \"get\", \"code\", \"like\", \"help\", \"learn\", \"community\", \"guidance\", \"developer\", \"industry\", \"professional\", \"think\", \"engineer\", \"interested\", \"look\", \"training\", \"point\", \"begin\", \"live\", \"excel\", \"socioeconomic\", \"status\", \"box\", \"friendship\", \"degree\", \"knowledge\", \"month\", \"transition\", \"computer\", \"data\", \"hard\", \"software\", \"ago\", \"future\", \"excellent\", \"dream\", \"pursue\", \"employable\", \"exposure\", \"strong\", \"career\", \"ability\", \"developer\", \"change\", \"new\", \"hope\", \"skill\", \"learn\", \"get\", \"gain\", \"guidance\", \"well\", \"build\", \"pay\", \"job\", \"advice\", \"insight\", \"criminal\", \"record\", \"inspire\", \"situation\", \"april\", \"mess\", \"remote\", \"free\", \"felon\", \"friendly\", \"ready\", \"year\", \"$\", \"connection\", \"tech\", \"history\", \"discriminate\", \"real\", \"search\", \"opportunity\", \"network\", \"sure\", \"deliver\", \"knowledgeable\", \"accept\", \"poor\", \"condition\", \"choice\", \"field\", \"employment\", \"encouragement\", \"background\", \"career\", \"able\", \"love\", \"guidance\", \"programming\", \"obtain\", \"job\", \"start\", \"find\", \"mentorship\", \"answer\", \"improve\", \"true\", \"ladder\", \"generational\", \"generic\", \"pioneer\", \"shape\", \"wave\", \"yearn\", \"understanding\", \"application\", \"confidence\", \"boost\", \"peer\", \"instead\", \"empower\", \"coding\", \"well\", \"session\", \"want\", \"mobile\", \"strive\", \"regard\", \"hire\", \"list\", \"train\", \"economically\", \"competence\", \"stack\", \"resource\", \"world\", \"develop\", \"python\", \"help\", \"life\", \"gain\", \"need\", \"tech\", \"guidance\", \"skill\", \"web\", \"javascript\", \"bear\", \"race\", \"finish\", \"line\", \"door\", \"lack\", \"bad\", \"potential\", \"information\", \"instruction\", \"boon\", \"clean\", \"actualize\", \"area\", \"chain\", \"deep\", \"dictate\", \"die\", \"dig\", \"middle\", \"pit\", \"run\", \"shackle\", \"starting\", \"truth\", \"capacity\", \"expertise\", \"break\", \"try\", \"fundamental\", \"successful\", \"people\", \"field\", \"way\", \"guide\", \"want\", \"know\", \"difficult\", \"opportunity\", \"receive\", \"help\", \"guidance\", \"go\", \"background\", \"forward\", \"like\", \"sort\", \"valuable\", \"company\", \"design\", \"contact\", \"system\", \"stuff\", \"last\", \"challenge\", \"impact\", \"eventually\", \"relationship\", \"science\", \"labor\", \"one\", \"experience\", \"join\", \"suitable\", \"functional\", \"distribute\", \"microservice\", \"infrastructure\", \"load\", \"oop\", \"balancing\", \"solidify\", \"big\", \"merely\", \"firstly\", \"preferably\", \"basically\", \"encouragement\", \"explain\", \"programmer\", \"guidance\", \"kind\", \"develop\", \"love\", \"learning\", \"work\", \"hope\", \"like\", \"thing\", \"understanding\", \"industry\", \"able\", \"way\", \"programming\"], \"Freq\": [37.0, 27.0, 21.0, 55.0, 28.0, 29.0, 30.0, 76.0, 25.0, 22.0, 12.0, 28.0, 22.0, 17.0, 18.0, 40.0, 12.0, 20.0, 41.0, 14.0, 14.0, 41.0, 13.0, 14.0, 24.0, 22.0, 14.0, 33.0, 20.0, 55.0, 21.51293145321038, 14.26238936161197, 11.072230698418432, 7.126885277630184, 4.450180920872783, 4.413178617674532, 4.172391064154907, 4.0049538068203505, 3.9984405729622763, 3.5466873844930134, 3.5466873844930134, 3.5466873844930134, 3.5466873844930134, 3.1376307287454592, 2.9276060834386266, 2.723768354311898, 2.6864087486091117, 5.034918751819313, 3.973099451113234, 2.3017409197932377, 2.2351252175335063, 3.90612867948962, 5.32750372365079, 7.204312172077942, 2.061152674076924, 2.0607158159366126, 2.0593601599887386, 4.245938155860053, 1.8874690431923684, 4.190943159275187, 3.9836083318853133, 3.9108394896978598, 9.424857353857023, 7.060631344156295, 18.470882494139246, 29.199761117683288, 10.659490477163178, 21.73212760718052, 21.377044844454087, 16.604301829904433, 13.484279415210631, 7.470819085644771, 8.749164262384745, 8.574690099708905, 10.657885965603747, 5.649348979177937, 6.800662508137309, 7.364763886306241, 5.341185059863533, 4.822227178287219, 5.091389854376042, 16.9600664286767, 13.435472105697253, 12.45059828305548, 10.88917799956449, 9.858742131893397, 4.648489282159742, 4.321646750256419, 4.185611799937053, 3.147754287729346, 3.1475876316553757, 2.792096602763896, 2.79204074800341, 2.79204074800341, 2.79204074800341, 2.7920359799141, 5.494913684876423, 2.6015698843454724, 22.247156356481906, 5.007525498978982, 3.640270213101652, 7.961090721596247, 20.70718520922504, 10.262651064258884, 1.456707138899467, 1.4566981703505273, 1.4566981703505273, 1.4566981703505273, 5.63835552136073, 7.1700083962388685, 11.766182202491661, 7.903648414421921, 5.805293139652422, 4.506963763474224, 6.9361463304987945, 11.167699806194975, 11.224199393997194, 10.956804945504514, 3.722674603072056, 5.613187729568716, 5.655053824227338, 6.8416727712259675, 7.691233214397255, 5.637809688660696, 5.403508958704122, 4.206313481408904, 25.549810979825185, 8.321691586146239, 5.934753242948349, 4.5752444131652865, 3.7326600424382113, 3.611510264153673, 3.311066586861935, 3.3110373253228045, 3.3110373253228045, 3.3110373253228045, 3.3109083272700177, 3.3109083272700177, 3.3109083272700177, 3.3109083272700177, 2.89519602892463, 2.3066343764647823, 8.178097383079853, 2.1488283384039084, 1.9243066093268868, 1.924204606074284, 1.9241786416099849, 1.9238988023836519, 3.2664472731657237, 1.7615790688783002, 1.9648653693007905, 3.3107834505607703, 1.6725922555761419, 6.216384429452438, 1.5025809616565806, 3.615222358279715, 4.29665065684982, 7.352165300924191, 13.903106798480822, 27.84049658106075, 6.109115336208989, 9.36755092360107, 13.382019782449923, 15.632575861641225, 9.780971961005665, 6.74949505312552, 7.3556033257048545, 4.673109424720269, 4.020208653996336, 6.593909401595712, 5.0073795740995335, 4.951477301619816, 4.484969518642008, 9.823466761692977, 3.739995196595082, 3.7362013252062103, 3.7361840254745324, 3.7276419812191213, 3.317374821287101, 3.317374821287101, 3.317374821287101, 3.317374821287101, 3.317374821287101, 2.9699477297166004, 23.80079221250533, 2.3848502860875946, 2.3155212090695407, 2.1253048256418747, 1.9627130963085673, 1.9608996418774602, 16.50455715528052, 1.5386744447425138, 5.48206047449674, 1.5048052915713235, 1.3765281834999092, 1.3759893773220144, 1.3428463099821144, 1.3420374469463427, 2.3501039761724396, 23.31076081763915, 2.738402086151042, 13.95843897165231, 5.003602600122998, 9.14975727617498, 13.693152816524956, 13.804558260697778, 12.466041007408357, 4.786084222712732, 8.908030941676719, 7.970815161797473, 4.493984288123498, 4.079827504799366, 3.840632563596838, 3.575692805422381, 10.911657497536908, 4.572869230667317, 4.005043767593127, 3.822168918065656, 3.4621600519462863, 3.1411397134202255, 3.0717986774359076, 3.0717986774359076, 2.477729036343629, 3.50752421057822, 2.176624192206651, 2.025645067148294, 1.6342645306199277, 4.723981421389744, 1.6026597072778916, 6.180983622098849, 12.72475954446765, 1.4259885403010584, 1.243462484105163, 5.078468350471143, 2.3192881533652483, 15.68572633259122, 7.294389540674174, 3.822567250995111, 0.8521386156923937, 0.8521386156923937, 0.8521384716819348, 0.8521384716819348, 0.8521384716819348, 0.85200886226888, 5.446675443997606, 4.343689834210969, 3.613699665710876, 2.7174373254747124, 13.519351652768941, 4.966251944606462, 3.568654346235057, 9.826627399793047, 3.4440757945532092, 2.9187411934339873, 7.589088511576148, 2.8295808620471656, 2.487913456000557, 11.621070326067166, 5.567931775589769, 5.014313103299134, 3.232328075584933, 2.5978075841862163, 2.5977994449931647, 2.5977994449931647, 2.5977994449931647, 2.5977994449931647, 2.5977994449931647, 2.5977994449931647, 5.982095713914984, 1.8132901240164516, 4.480136543448844, 1.3553051002683272, 1.3334108909375237, 1.0514173287746733, 1.051362774183408, 3.3492110673925453, 7.8999685292342585, 0.8751249920192258, 14.615257711760696, 0.7206418430239205, 0.7206418430239205, 0.7206416230457299, 0.7206186903193613, 0.720618580330266, 0.7206185253357184, 0.7205899281709423, 0.720589818181847, 3.643708409886477, 2.047326240849715, 3.1866214471014187, 2.1711202874709574, 1.3529794908374553, 12.257254292543092, 6.979475510161377, 5.569016708025738, 2.5591343183902984, 2.736716552260793, 2.601755532772658, 2.0890902002233616, 1.432227953865095, 1.3553277580219576, 6.501298547490107, 5.770429672463899, 3.868635411402579, 3.868635411402579, 3.545555864382365, 3.2580109903644634, 2.4671573695272024, 2.447357202140883, 2.3138337920967262, 2.3135892441030603, 1.9668653996381098, 1.9668653996381098, 1.9668384788085551, 1.9668384788085551, 1.9668384788085551, 1.9668384788085551, 1.9668384788085551, 1.9668384788085551, 1.9668384788085551, 1.9668384788085551, 1.9668384788085551, 1.9668384788085551, 1.9668384788085551, 1.9668384788085551, 1.9668384788085551, 1.9667558667972493, 2.306394190023872, 4.3407757971704, 4.216592270961644, 2.4471973211836797, 5.001430627662268, 6.216031874361097, 4.1439849441296275, 5.191123834816287, 2.9196426726847786, 6.366483965139897, 3.5733582997294864, 2.211624238885213, 4.264240495253567, 2.1794994691256737, 4.8043430289888445, 4.2619368120527295, 2.491737936433403, 2.3307517867005534, 2.5580936712357443, 2.0707948034033974, 3.6010752849917327, 3.262915684564049, 1.5695248925400347, 1.5101273566721516, 1.5093215979021248, 1.3135161584490078, 1.1716341022646193, 1.1716311621894964, 1.1716108489431931, 1.171515875607407, 2.0376641450298467, 1.6823432370170133, 0.9749001336318007, 0.9745805563752676, 0.973334588175486, 11.985386940763707, 1.5402417443166387, 0.802938970704399, 0.802938970704399, 0.802938970704399, 0.802938970704399, 0.802938970704399, 0.802938970704399, 0.802938970704399, 0.802938970704399, 0.802938970704399, 0.802938970704399, 0.802938970704399, 0.8029388816112134, 0.8029388816112134, 1.1716849744735627, 3.4049954385271515, 1.171301339216626, 2.4248470926147263, 6.460662911260025, 1.3136530055819977, 1.6338975700748608, 2.0318697024286747, 1.313702185020416, 2.4356897332949847, 3.99081520700162, 3.440512615129175, 1.6224457101918779, 1.5101253966220698, 1.8132601493910256, 1.565416449382028, 1.5103652354775443, 1.2336421575620193], \"Total\": [37.0, 27.0, 21.0, 55.0, 28.0, 29.0, 30.0, 76.0, 25.0, 22.0, 12.0, 28.0, 22.0, 17.0, 18.0, 40.0, 12.0, 20.0, 41.0, 14.0, 14.0, 41.0, 13.0, 14.0, 24.0, 22.0, 14.0, 33.0, 20.0, 55.0, 22.17754035204207, 14.923431698815447, 11.740807415390654, 7.78702210609761, 5.110372538331393, 5.07327467145892, 4.832428590081413, 4.665415478618781, 4.6585614534375, 4.206734638438064, 4.206734638438064, 4.206734638438064, 4.206734638438064, 3.798777039205668, 3.5879157623139117, 3.38417604510077, 3.347015064971869, 6.3251256150239445, 4.998363463969416, 2.9621865563348364, 2.8952424090309883, 5.075183860834815, 6.9489179258416485, 9.500504632390951, 2.721347595787483, 2.721331604045358, 2.7212715743123086, 5.613490996927928, 2.5475543997937775, 5.6608627623980325, 5.466548815612496, 5.435484880212911, 14.914057576225307, 11.484378233580514, 41.71046622400656, 76.17332194174865, 20.93428313489849, 55.772510982104045, 55.746110787910645, 40.05557437872453, 33.41301769876835, 14.237578623315777, 21.29934160910201, 20.921296209897115, 32.11287732394561, 11.092443131794283, 24.821600740049814, 38.566316134586486, 15.415722540754622, 13.294260453774175, 30.299987868834748, 17.645287867877176, 14.120852946000378, 13.135690133843145, 11.576830816122344, 10.543846506150027, 5.333961381803427, 5.007606203521558, 4.8706547539009994, 3.8327753927244963, 3.8327535876474466, 3.477064831906323, 3.4770753623539434, 3.4770753623539434, 3.4770753623539434, 3.4770703804598715, 6.927154271935413, 3.3284504919407674, 29.833074049346344, 6.78361239799138, 5.032543901081901, 11.00877977739323, 28.955708058822715, 14.556304609431173, 2.141681691976811, 2.14168434931038, 2.141684355313424, 2.1416843761625977, 8.363164535022154, 10.729329988107226, 18.079701893199015, 13.294260453774175, 9.506292617053225, 7.619436559578132, 12.58576271528391, 22.846550738086076, 38.566316134586486, 55.746110787910645, 6.493276490053218, 20.921296209897115, 22.73704464162202, 41.71046622400656, 76.17332194174865, 28.024032271780555, 40.05557437872453, 33.41301769876835, 27.17588437940762, 8.996985208921217, 6.602741704014138, 5.243881552172647, 4.400689415336503, 4.279489235506253, 3.978867108867945, 3.9788693913352366, 3.9788693913352366, 3.9788693913352366, 3.9788424156411875, 3.9788424156411875, 3.9788424156411875, 3.9788424156411875, 3.563401521946289, 2.9791841603164726, 10.674798566171376, 2.817018743544943, 2.59220545804979, 2.592232204786546, 2.5922321925616623, 2.5921998666223147, 4.464436920070795, 2.4299254688240044, 2.739263384394751, 4.6860111220543414, 2.373028111938253, 8.827743049999148, 2.170419520904143, 5.319296848113435, 6.4334129838032315, 11.272738665305008, 24.821600740049814, 76.17332194174865, 11.467981179048316, 20.93428313489849, 38.566316134586486, 55.772510982104045, 55.746110787910645, 28.955708058822715, 41.268324418165506, 32.11287732394561, 18.079701893199015, 7.261660993498251, 5.675450404966808, 5.619225336195828, 5.155488386365554, 11.48085143485644, 4.407586988232382, 4.406085328391722, 4.406086648312327, 4.4049228804904725, 3.9849666378096855, 3.9849666378096855, 3.9849666378096855, 3.9849667352234963, 3.9849667352234963, 3.6382337156903075, 30.299987868834748, 3.0530037213242154, 2.9835513677304593, 2.793019152816299, 2.6304007545526122, 2.6304526134955886, 22.73704464162202, 2.2077010911561823, 7.878507945516345, 2.173094290578246, 2.0450544659347716, 2.045144479438209, 2.010458675015915, 2.0104910210821827, 3.7254384468204726, 37.417850246011476, 4.371858057359525, 32.11287732394561, 9.549274714096157, 22.846550738086076, 40.05557437872453, 41.71046622400656, 55.746110787910645, 11.467981179048316, 33.41301769876835, 41.268324418165506, 14.087089335797328, 12.58576271528391, 11.092443131794283, 76.17332194174865, 12.176824113251369, 5.248590183955692, 4.6807965587904246, 4.498072341157487, 4.138806642834616, 3.8178887386225937, 3.7475354022506338, 3.7475354022506338, 3.153584405892824, 4.502554547028612, 2.852444777942929, 2.7019161259009357, 2.3105837858944858, 6.701668377308689, 2.2783742705447816, 8.821012308191548, 18.644522198204786, 2.101910474037086, 1.9191931412023526, 7.844617203639366, 3.750056469097826, 25.435614246210015, 12.113689047771295, 6.355028518173258, 1.5278530149106535, 1.5278530716695702, 1.5278529072987008, 1.5278529137559458, 1.527852932750379, 1.5278729154298252, 10.202204984492049, 9.262099995191207, 7.598811773482062, 5.659583170423943, 37.417850246011476, 11.726280353495964, 8.371226245228309, 41.268324418165506, 8.89989710211018, 6.925901500826906, 76.17332194174865, 6.684980948534455, 14.914057576225307, 12.313093660369255, 6.2593663995384325, 5.706096593805256, 3.9239307916966224, 3.289202938184023, 3.2892048074279563, 3.2892048074279563, 3.2892048074279563, 3.2892048074279563, 3.2892048074279563, 3.2892048074279563, 8.088049911708069, 2.5051136380587415, 6.3418332005907105, 2.0467483824786252, 2.024868345902912, 1.743006494039071, 1.7430323278676483, 5.907302889956554, 14.087089335797328, 1.5665862741421088, 28.024032271780555, 1.4120373242769817, 1.4120373242769817, 1.4120373697469055, 1.4120458712621422, 1.4120458798541897, 1.4120458893403018, 1.4120439096747444, 1.4120438892266007, 7.158861020345818, 4.418062505936445, 7.567699198096852, 5.265760431253664, 3.1307234929263132, 55.772510982104045, 29.833074049346344, 33.41301769876835, 10.729329988107226, 18.644522198204786, 41.268324418165506, 41.71046622400656, 7.092398850576842, 5.031222479351626, 7.214044821027743, 6.482754372767324, 4.580950348362065, 4.580950348362065, 4.258744903002933, 3.970908959033804, 3.1807527330555905, 3.15972311020856, 3.0261224916651943, 3.0262606159393757, 2.6791339795478932, 2.6791339795478932, 2.6791475121629675, 2.6791475121629675, 2.6791475121629675, 2.6791475121629675, 2.6791475121629675, 2.6791475121629675, 2.6791475121629675, 2.6791475121629675, 2.6791475121629675, 2.6791475121629675, 2.6791475121629675, 2.6791475121629675, 2.6791475121629675, 2.679209066235627, 3.5415185027279716, 6.7497982212904315, 6.579851802749812, 3.8670225632735304, 8.554709264233592, 20.921296209897115, 10.202204984492049, 15.415722540754622, 5.5569516960012, 28.024032271780555, 14.556304609431173, 3.733915607563353, 25.435614246210015, 3.731244841563837, 55.772510982104045, 41.268324418165506, 7.619436559578132, 5.659583170423943, 11.484378233580514, 38.566316134586486, 4.283232308453644, 3.9447912318026663, 2.252421009590058, 2.1917090123559753, 2.1918055250992086, 1.9951518294427064, 1.8532718344897474, 1.8532723498411139, 1.8532794999538758, 1.853255351703564, 3.414388690408696, 2.8445873851760375, 1.6567251849678377, 1.6567572843485054, 1.6568571807942267, 21.29934160910201, 2.8476627380013806, 1.4845203984843143, 1.4845204721468788, 1.4845204882429035, 1.4845204882429035, 1.4845204886952683, 1.4845204886952683, 1.4845204921719901, 1.484520499267361, 1.484520505161543, 1.4845205056893147, 1.4845205092611407, 1.4845204702082726, 1.48452049519216, 2.200292240312874, 7.598811773482062, 2.3116141353681483, 6.815317439474295, 41.268324418165506, 3.388214486531589, 5.265760431253664, 8.371226245228309, 3.9805252153869786, 14.237578623315777, 40.05557437872453, 38.566316134586486, 9.506292617053225, 8.088049911708069, 18.079701893199015, 11.726280353495964, 15.415722540754622, 8.89989710211018], \"Category\": [\"Default\", \"Default\", \"Default\", \"Default\", \"Default\", \"Default\", \"Default\", \"Default\", \"Default\", \"Default\", \"Default\", \"Default\", \"Default\", \"Default\", \"Default\", \"Default\", \"Default\", \"Default\", \"Default\", \"Default\", \"Default\", \"Default\", \"Default\", \"Default\", \"Default\", \"Default\", \"Default\", \"Default\", \"Default\", \"Default\", \"Topic1\", \"Topic1\", \"Topic1\", \"Topic1\", \"Topic1\", \"Topic1\", \"Topic1\", \"Topic1\", \"Topic1\", \"Topic1\", \"Topic1\", \"Topic1\", \"Topic1\", \"Topic1\", \"Topic1\", \"Topic1\", \"Topic1\", \"Topic1\", \"Topic1\", \"Topic1\", \"Topic1\", \"Topic1\", \"Topic1\", \"Topic1\", \"Topic1\", \"Topic1\", \"Topic1\", \"Topic1\", \"Topic1\", \"Topic1\", \"Topic1\", \"Topic1\", \"Topic1\", \"Topic1\", \"Topic1\", \"Topic1\", \"Topic1\", \"Topic1\", \"Topic1\", \"Topic1\", \"Topic1\", \"Topic1\", \"Topic1\", \"Topic1\", \"Topic1\", \"Topic1\", \"Topic1\", \"Topic1\", \"Topic1\", \"Topic1\", \"Topic1\", \"Topic2\", \"Topic2\", \"Topic2\", \"Topic2\", \"Topic2\", \"Topic2\", \"Topic2\", \"Topic2\", \"Topic2\", \"Topic2\", \"Topic2\", \"Topic2\", \"Topic2\", \"Topic2\", \"Topic2\", \"Topic2\", \"Topic2\", \"Topic2\", \"Topic2\", \"Topic2\", \"Topic2\", \"Topic2\", \"Topic2\", \"Topic2\", \"Topic2\", \"Topic2\", \"Topic2\", \"Topic2\", \"Topic2\", \"Topic2\", \"Topic2\", \"Topic2\", \"Topic2\", \"Topic2\", \"Topic2\", \"Topic2\", \"Topic2\", \"Topic2\", \"Topic2\", \"Topic2\", \"Topic2\", \"Topic2\", \"Topic2\", \"Topic2\", \"Topic2\", \"Topic3\", \"Topic3\", \"Topic3\", \"Topic3\", \"Topic3\", \"Topic3\", \"Topic3\", \"Topic3\", \"Topic3\", \"Topic3\", \"Topic3\", \"Topic3\", \"Topic3\", \"Topic3\", \"Topic3\", \"Topic3\", \"Topic3\", \"Topic3\", \"Topic3\", \"Topic3\", \"Topic3\", \"Topic3\", \"Topic3\", \"Topic3\", \"Topic3\", \"Topic3\", \"Topic3\", \"Topic3\", \"Topic3\", \"Topic3\", \"Topic3\", \"Topic3\", \"Topic3\", \"Topic3\", \"Topic3\", \"Topic3\", \"Topic3\", \"Topic3\", \"Topic3\", \"Topic3\", \"Topic3\", \"Topic3\", \"Topic3\", \"Topic4\", \"Topic4\", \"Topic4\", \"Topic4\", \"Topic4\", \"Topic4\", \"Topic4\", \"Topic4\", \"Topic4\", \"Topic4\", \"Topic4\", \"Topic4\", \"Topic4\", \"Topic4\", \"Topic4\", \"Topic4\", \"Topic4\", \"Topic4\", \"Topic4\", \"Topic4\", \"Topic4\", \"Topic4\", \"Topic4\", \"Topic4\", \"Topic4\", \"Topic4\", \"Topic4\", \"Topic4\", \"Topic4\", \"Topic4\", \"Topic4\", \"Topic4\", \"Topic4\", \"Topic4\", \"Topic4\", \"Topic4\", \"Topic4\", \"Topic4\", \"Topic4\", \"Topic4\", \"Topic4\", \"Topic4\", \"Topic4\", \"Topic4\", \"Topic4\", \"Topic5\", \"Topic5\", \"Topic5\", \"Topic5\", \"Topic5\", \"Topic5\", \"Topic5\", \"Topic5\", \"Topic5\", \"Topic5\", \"Topic5\", \"Topic5\", \"Topic5\", \"Topic5\", \"Topic5\", \"Topic5\", \"Topic5\", \"Topic5\", \"Topic5\", \"Topic5\", \"Topic5\", \"Topic5\", \"Topic5\", \"Topic5\", \"Topic5\", \"Topic5\", \"Topic5\", \"Topic5\", \"Topic5\", \"Topic5\", \"Topic5\", \"Topic5\", \"Topic5\", \"Topic5\", \"Topic5\", \"Topic5\", \"Topic5\", \"Topic5\", \"Topic5\", \"Topic5\", \"Topic5\", \"Topic5\", \"Topic5\", \"Topic6\", \"Topic6\", \"Topic6\", \"Topic6\", \"Topic6\", \"Topic6\", \"Topic6\", \"Topic6\", \"Topic6\", \"Topic6\", \"Topic6\", \"Topic6\", \"Topic6\", \"Topic6\", \"Topic6\", \"Topic6\", \"Topic6\", \"Topic6\", \"Topic6\", \"Topic6\", \"Topic6\", \"Topic6\", \"Topic6\", \"Topic6\", \"Topic6\", \"Topic6\", \"Topic6\", \"Topic6\", \"Topic6\", \"Topic6\", \"Topic6\", \"Topic6\", \"Topic6\", \"Topic6\", \"Topic6\", \"Topic6\", \"Topic6\", \"Topic6\", \"Topic6\", \"Topic6\", \"Topic6\", \"Topic6\", \"Topic6\", \"Topic6\", \"Topic7\", \"Topic7\", \"Topic7\", \"Topic7\", \"Topic7\", \"Topic7\", \"Topic7\", \"Topic7\", \"Topic7\", \"Topic7\", \"Topic7\", \"Topic7\", \"Topic7\", \"Topic7\", \"Topic7\", \"Topic7\", \"Topic7\", \"Topic7\", \"Topic7\", \"Topic7\", \"Topic7\", \"Topic7\", \"Topic7\", \"Topic7\", \"Topic7\", \"Topic7\", \"Topic7\", \"Topic7\", \"Topic7\", \"Topic7\", \"Topic7\", \"Topic7\", \"Topic7\", \"Topic7\", \"Topic7\", \"Topic7\", \"Topic7\", \"Topic7\", \"Topic7\", \"Topic7\", \"Topic7\", \"Topic7\", \"Topic7\", \"Topic7\", \"Topic7\", \"Topic7\", \"Topic8\", \"Topic8\", \"Topic8\", \"Topic8\", \"Topic8\", \"Topic8\", \"Topic8\", \"Topic8\", \"Topic8\", \"Topic8\", \"Topic8\", \"Topic8\", \"Topic8\", \"Topic8\", \"Topic8\", \"Topic8\", \"Topic8\", \"Topic8\", \"Topic8\", \"Topic8\", \"Topic8\", \"Topic8\", \"Topic8\", \"Topic8\", \"Topic8\", \"Topic8\", \"Topic8\", \"Topic8\", \"Topic8\", \"Topic8\", \"Topic8\", \"Topic8\", \"Topic8\", \"Topic8\", \"Topic8\", \"Topic8\", \"Topic8\", \"Topic8\", \"Topic8\", \"Topic8\", \"Topic8\", \"Topic8\", \"Topic8\", \"Topic8\", \"Topic8\", \"Topic8\", \"Topic8\", \"Topic8\"], \"logprob\": [30.0, 29.0, 28.0, 27.0, 26.0, 25.0, 24.0, 23.0, 22.0, 21.0, 20.0, 19.0, 18.0, 17.0, 16.0, 15.0, 14.0, 13.0, 12.0, 11.0, 10.0, 9.0, 8.0, 7.0, 6.0, 5.0, 4.0, 3.0, 2.0, 1.0, -3.3274, -3.7384, -3.9916, -4.4321, -4.9031, -4.9114, -4.9675, -5.0085, -5.0101, -5.13, -5.13, -5.13, -5.13, -5.2526, -5.3218, -5.394, -5.4078, -4.7796, -5.0165, -5.5624, -5.5917, -5.0335, -4.7231, -4.4213, -5.6728, -5.673, -5.6736, -4.9501, -5.7608, -4.9631, -5.0138, -5.0323, -4.1527, -4.4415, -3.4798, -3.0219, -4.0296, -3.3172, -3.3337, -3.5864, -3.7945, -4.385, -4.2271, -4.2472, -4.0297, -4.6645, -4.479, -4.3993, -4.7206, -4.8228, -4.7685, -3.3586, -3.5916, -3.6677, -3.8017, -3.9011, -4.6529, -4.7258, -4.7578, -5.0428, -5.0428, -5.1627, -5.1627, -5.1627, -5.1627, -5.1627, -4.4857, -5.2334, -3.0873, -4.5785, -4.8974, -4.1149, -3.159, -3.861, -5.8133, -5.8133, -5.8133, -5.8133, -4.4599, -4.2196, -3.7242, -4.1222, -4.4307, -4.6839, -4.2527, -3.7764, -3.7714, -3.7955, -4.875, -4.4644, -4.4569, -4.2664, -4.1494, -4.46, -4.5024, -4.7529, -2.8519, -3.9736, -4.3117, -4.5718, -4.7754, -4.8084, -4.8952, -4.8952, -4.8952, -4.8952, -4.8953, -4.8953, -4.8953, -4.8953, -5.0294, -5.2567, -3.991, -5.3276, -5.4379, -5.438, -5.438, -5.4381, -4.9088, -5.5263, -5.4171, -4.8953, -5.5781, -4.2653, -5.6853, -4.8073, -4.6347, -4.0975, -3.4604, -2.766, -4.2827, -3.8552, -3.4986, -3.3431, -3.8121, -4.183, -4.097, -4.5507, -4.7012, -4.1822, -4.4575, -4.4687, -4.5677, -3.7836, -4.7493, -4.7503, -4.7503, -4.7526, -4.8692, -4.8692, -4.8692, -4.8692, -4.8692, -4.9799, -2.8987, -5.1993, -5.2288, -5.3145, -5.3941, -5.395, -3.2648, -5.6375, -4.3669, -5.6597, -5.7488, -5.7492, -5.7736, -5.7742, -5.2139, -2.9195, -5.061, -3.4323, -4.4582, -3.8547, -3.4515, -3.4434, -3.5454, -4.5027, -3.8814, -3.9926, -4.5657, -4.6623, -4.7228, -4.7942, -3.3444, -4.214, -4.3466, -4.3934, -4.4923, -4.5896, -4.6119, -4.6119, -4.8268, -4.4793, -4.9564, -5.0283, -5.243, -4.1815, -5.2625, -3.9127, -3.1906, -5.3793, -5.5163, -4.1092, -4.8929, -2.9814, -3.7471, -4.3933, -5.8942, -5.8942, -5.8942, -5.8942, -5.8942, -5.8943, -4.0392, -4.2655, -4.4495, -4.7345, -3.1301, -4.1315, -4.462, -3.4491, -4.4975, -4.663, -3.7075, -4.6941, -4.8227, -3.0119, -3.7477, -3.8524, -4.2915, -4.51, -4.51, -4.51, -4.51, -4.51, -4.51, -4.51, -3.6759, -4.8695, -3.965, -5.1607, -5.1769, -5.4145, -5.4146, -4.256, -3.3978, -5.5981, -2.7826, -5.7923, -5.7923, -5.7923, -5.7923, -5.7923, -5.7923, -5.7924, -5.7924, -4.1717, -4.7481, -4.3057, -4.6894, -5.1624, -2.9586, -3.5217, -3.7475, -4.525, -4.4579, -4.5085, -4.7279, -5.1054, -5.1606, -3.5246, -3.6439, -4.0437, -4.0437, -4.1309, -4.2155, -4.4935, -4.5016, -4.5577, -4.5578, -4.7202, -4.7202, -4.7202, -4.7202, -4.7202, -4.7202, -4.7202, -4.7202, -4.7202, -4.7202, -4.7202, -4.7202, -4.7202, -4.7202, -4.7202, -4.7202, -4.5609, -3.9286, -3.9576, -4.5017, -3.7869, -3.5695, -3.9749, -3.7497, -4.3251, -3.5456, -4.1231, -4.6029, -3.9463, -4.6175, -3.8271, -3.9469, -4.4836, -4.5504, -4.4573, -4.6687, -3.9727, -4.0714, -4.8032, -4.8418, -4.8423, -4.9813, -5.0956, -5.0956, -5.0956, -5.0957, -4.5422, -4.7338, -5.2794, -5.2797, -5.281, -2.7703, -4.822, -5.4735, -5.4735, -5.4735, -5.4735, -5.4735, -5.4735, -5.4735, -5.4735, -5.4735, -5.4735, -5.4735, -5.4735, -5.4735, -5.0955, -4.0287, -5.0959, -4.3682, -3.3882, -4.9812, -4.763, -4.545, -4.9811, -4.3637, -3.87, -4.0184, -4.77, -4.8418, -4.6589, -4.8058, -4.8416, -5.044], \"loglift\": [30.0, 29.0, 28.0, 27.0, 26.0, 25.0, 24.0, 23.0, 22.0, 21.0, 20.0, 19.0, 18.0, 17.0, 16.0, 15.0, 14.0, 13.0, 12.0, 11.0, 10.0, 9.0, 8.0, 7.0, 6.0, 5.0, 4.0, 3.0, 2.0, 1.0, 1.5526, 1.5377, 1.5243, 1.4944, 1.4446, 1.4436, 1.4361, 1.4303, 1.4302, 1.4123, 1.4123, 1.4123, 1.4123, 1.3918, 1.3796, 1.3659, 1.3631, 1.3548, 1.3534, 1.3307, 1.3242, 1.3212, 1.3173, 1.3063, 1.3051, 1.3049, 1.3043, 1.3038, 1.2831, 1.2823, 1.2665, 1.2538, 1.124, 1.0965, 0.7684, 0.6241, 0.908, 0.6405, 0.6245, 0.7024, 0.6756, 0.9381, 0.6933, 0.691, 0.48, 0.9083, 0.2883, -0.0727, 0.523, 0.5689, -0.2006, 1.7499, 1.7398, 1.736, 1.7283, 1.7223, 1.652, 1.6422, 1.6379, 1.5926, 1.5926, 1.5701, 1.5701, 1.5701, 1.5701, 1.5701, 1.5579, 1.5431, 1.4961, 1.486, 1.4657, 1.4654, 1.4542, 1.44, 1.4041, 1.4041, 1.4041, 1.4041, 1.3953, 1.3864, 1.36, 1.2695, 1.2963, 1.2644, 1.1937, 1.0737, 0.5552, 0.1627, 1.2332, 0.4739, 0.3981, -0.0182, -0.5034, 0.186, -0.2137, -0.2828, 1.8248, 1.8085, 1.7798, 1.7501, 1.7219, 1.7168, 1.7028, 1.7028, 1.7028, 1.7028, 1.7027, 1.7027, 1.7027, 1.7027, 1.6788, 1.6306, 1.6201, 1.6157, 1.5886, 1.5885, 1.5885, 1.5883, 1.5741, 1.5648, 1.5542, 1.5391, 1.5367, 1.5358, 1.5188, 1.5003, 1.4828, 1.4591, 1.3069, 0.88, 1.2567, 1.0824, 0.828, 0.6146, 0.1461, 0.4302, 0.1619, -0.0409, 0.383, 1.8141, 1.7854, 1.7841, 1.7713, 1.7547, 1.7464, 1.7457, 1.7457, 1.7437, 1.7272, 1.7272, 1.7272, 1.7272, 1.7272, 1.7076, 1.6692, 1.6636, 1.6571, 1.6374, 1.6178, 1.6168, 1.5902, 1.5496, 1.5479, 1.5431, 1.5147, 1.5143, 1.507, 1.5064, 1.4499, 1.4374, 1.4428, 1.0774, 1.2643, 0.9955, 0.8372, 0.8048, 0.4128, 1.0368, 0.5886, 0.2663, 0.7681, 0.7841, 0.85, -1.1483, 2.1351, 2.107, 2.0889, 2.082, 2.0663, 2.0497, 2.046, 2.046, 2.0036, 1.9951, 1.9744, 1.9567, 1.8985, 1.8951, 1.893, 1.8892, 1.8628, 1.8568, 1.8108, 1.81, 1.7643, 1.7614, 1.7376, 1.7365, 1.6609, 1.6609, 1.6609, 1.6609, 1.6609, 1.6608, 1.6172, 1.4876, 1.5016, 1.5112, 1.2268, 1.3856, 1.3922, 0.8098, 1.2954, 1.3807, -0.0615, 1.3851, 0.454, 2.4565, 2.3973, 2.3851, 2.3204, 2.2783, 2.2783, 2.2783, 2.2783, 2.2783, 2.2783, 2.2783, 2.2127, 2.1911, 2.1668, 2.1021, 2.0966, 2.0088, 2.0088, 1.9469, 1.9359, 1.932, 1.8633, 1.8417, 1.8417, 1.8417, 1.8416, 1.8416, 1.8416, 1.8416, 1.8416, 1.839, 1.7452, 1.6494, 1.6283, 1.6754, 0.9992, 1.0617, 0.7226, 1.081, 0.5955, -0.2496, -0.4797, 0.9145, 1.2027, 2.4784, 2.466, 2.4134, 2.4134, 2.3991, 2.3845, 2.3283, 2.3269, 2.314, 2.3139, 2.2733, 2.2733, 2.2733, 2.2733, 2.2733, 2.2733, 2.2733, 2.2733, 2.2733, 2.2733, 2.2733, 2.2733, 2.2733, 2.2733, 2.2733, 2.2733, 2.1535, 2.1409, 2.1374, 2.1248, 2.0456, 1.3688, 1.6814, 1.494, 1.9388, 1.1004, 1.1779, 2.0587, 0.7965, 2.0447, 0.1306, 0.312, 1.4647, 1.6952, 1.0807, -0.3421, 2.5515, 2.5352, 2.3638, 2.3525, 2.352, 2.307, 2.2665, 2.2665, 2.2664, 2.2664, 2.2088, 2.1998, 2.1948, 2.1944, 2.1931, 2.15, 2.1105, 2.1104, 2.1104, 2.1104, 2.1104, 2.1104, 2.1104, 2.1104, 2.1104, 2.1104, 2.1104, 2.1104, 2.1104, 2.1104, 2.0949, 1.9223, 2.0452, 1.6916, 0.8707, 1.7775, 1.5548, 1.3092, 1.6165, 0.9594, 0.4187, 0.3083, 0.957, 1.0468, 0.4254, 0.7113, 0.402, 0.7489]}, \"token.table\": {\"Topic\": [5, 4, 6, 2, 3, 5, 8, 5, 7, 3, 5, 4, 3, 1, 6, 1, 6, 1, 5, 7, 2, 3, 1, 5, 7, 7, 8, 8, 7, 4, 3, 8, 7, 6, 3, 4, 5, 7, 2, 4, 5, 3, 7, 4, 5, 7, 8, 1, 2, 4, 5, 7, 3, 1, 3, 4, 6, 1, 3, 2, 3, 6, 8, 6, 3, 2, 4, 5, 4, 6, 2, 1, 5, 8, 3, 3, 3, 5, 1, 3, 4, 1, 1, 7, 4, 5, 8, 3, 3, 3, 6, 8, 1, 2, 3, 4, 7, 2, 3, 4, 7, 7, 1, 7, 7, 2, 5, 8, 7, 4, 6, 4, 1, 5, 6, 7, 6, 2, 5, 8, 4, 1, 2, 2, 8, 4, 4, 1, 8, 7, 8, 6, 8, 4, 2, 1, 4, 1, 2, 8, 1, 2, 5, 1, 5, 7, 3, 2, 1, 4, 5, 7, 8, 1, 3, 1, 6, 7, 5, 2, 1, 8, 5, 4, 8, 7, 8, 3, 4, 1, 2, 3, 4, 6, 6, 6, 3, 4, 2, 7, 1, 3, 1, 3, 5, 2, 3, 4, 5, 6, 7, 8, 2, 7, 8, 4, 1, 3, 4, 6, 7, 6, 5, 1, 2, 4, 8, 1, 3, 8, 8, 2, 8, 6, 2, 3, 8, 7, 8, 5, 5, 6, 7, 1, 4, 1, 3, 5, 1, 3, 3, 1, 6, 2, 1, 2, 3, 4, 5, 1, 8, 1, 2, 3, 8, 2, 7, 1, 3, 4, 5, 8, 7, 6, 1, 8, 1, 2, 3, 4, 8, 2, 4, 6, 8, 2, 6, 1, 2, 3, 6, 7, 8, 7, 6, 4, 8, 3, 4, 1, 3, 5, 8, 3, 8, 6, 8, 5, 8, 7, 3, 1, 4, 6, 4, 3, 3, 2, 6, 3, 4, 5, 3, 2, 3, 4, 2, 5, 3, 8, 8, 3, 2, 4, 5, 7, 2, 1, 4, 6, 6, 2, 1, 2, 7, 6, 7, 2, 4, 5, 1, 5, 7, 1, 8, 1, 1, 4, 2, 1, 2, 1, 4, 7, 8, 1, 4, 5, 8, 1, 1, 4, 1, 5, 6, 2, 7, 5, 2, 5, 6, 7, 5, 6, 2, 3, 7, 8, 5, 3, 6, 3, 1, 7, 8, 3, 5, 2, 6, 6, 7, 6, 3, 5, 1, 2, 4, 6, 4, 2, 4, 8, 2, 1, 8, 2, 2, 4, 6, 2, 2, 5, 7, 4, 1, 6, 4, 8, 8, 1, 2, 7, 3, 8, 1, 2, 3, 7, 2, 5, 8, 2, 3, 4, 5, 6, 1, 2, 8, 4, 2, 3, 4, 6, 4, 4, 6, 2, 7, 3, 7, 2, 8, 6, 8, 8, 2, 2, 5, 6, 7, 6, 1, 3, 5, 7, 8, 1, 2, 3, 6, 7, 2, 4, 6, 1, 2, 4, 8, 2, 5, 6, 8, 4, 5, 6], \"Freq\": [0.8778189017741059, 0.6862070910444684, 0.2287356970148228, 0.25583560255794224, 0.1705570683719615, 0.42639267092990374, 0.1705570683719615, 0.6545132684062082, 0.7465061146951671, 0.0821232195439002, 0.9033554149829022, 0.9059197406803797, 0.7539834626076644, 0.7349343229714922, 0.9585634738433656, 0.9508562682920205, 0.7983669760984722, 0.8361400319123562, 0.8005261266373385, 0.7465061146951671, 0.9135416470492767, 0.8428050177485806, 0.6751769214949898, 0.5300743729109787, 0.35338291527398574, 0.6287819795657928, 0.6736181820955109, 0.45448508233515533, 0.970329430113348, 0.9078350743583604, 0.753988141929605, 0.6736181791814759, 0.7465098853837471, 0.48857984135255245, 0.753983030087161, 0.7528293708157504, 0.29630515378838074, 0.5926103075767615, 0.556184011915252, 0.317819435380144, 0.079454858845036, 0.753983030087161, 0.7464889639277248, 0.6146798880422497, 0.37415297533006503, 0.7465061146951671, 0.5395840185060526, 0.9369031967580396, 0.4188799798685655, 0.5235999748357069, 0.6545046972828086, 0.7465098853837471, 0.8230705121041952, 0.5254538657529884, 0.429916799252445, 0.33856398381067426, 0.5078459757160113, 0.7195364880344882, 0.14390729760689763, 0.7252456046779822, 0.2417485348926607, 0.034535504984665816, 0.8879334686919836, 0.7081932846632099, 0.9089484902206252, 0.466922213592794, 0.7160709936354465, 0.6545132575030246, 0.1576831128114273, 0.6307324512457092, 0.9013203012224307, 0.22673134671206832, 0.680194040136205, 0.912489715486721, 0.8418922149310399, 0.753988141929605, 0.9534921699229453, 0.8545554052094179, 0.7317230916471423, 0.18293077291178558, 0.7603404144932915, 0.6907884444361196, 0.7884453846946397, 0.7465061146951671, 0.8245759438328961, 0.6545132223065833, 0.9125298973197642, 0.753988141929605, 0.9346909829361472, 0.18990609486613533, 0.37981218973227066, 0.37981218973227066, 0.34254171275389356, 0.031140155704899416, 0.15570077852449707, 0.4359621798685918, 0.06228031140979883, 0.7266927090710067, 0.09083658863387584, 0.09083658863387584, 0.7465061146951671, 0.7465061146951671, 0.26781537268127265, 0.5356307453625453, 0.7465061146951671, 0.9634300175373218, 0.5210522998084035, 0.6736181870979848, 0.9392438596591014, 0.4889845315405383, 0.7081932744076945, 0.49739893310270794, 0.21593375163714285, 0.4318675032742857, 0.10796687581857142, 0.10796687581857142, 0.5737128244909591, 0.8627953051681471, 0.5263980894959119, 0.39479856712193395, 0.8898023661362834, 0.7827218015902331, 0.7987848559631212, 0.2928781959737284, 0.5857563919474568, 0.7528293892189103, 0.9203466267760582, 0.42254827239138515, 0.5633976965218468, 0.5647295075430028, 0.2823647537715014, 0.432598150660097, 0.432598150660097, 0.49739093063033535, 0.46692221490155583, 0.7904981346336585, 0.15809962692673168, 0.15400545495511528, 0.6160218198204611, 0.15400545495511528, 0.37610215456404156, 0.6017634473024664, 0.7011529251908327, 0.8963210328499714, 0.4900901332212295, 0.3920721065769836, 0.771545445145801, 0.9484204833755109, 0.6034575067181595, 0.2011525022393865, 0.134101668159591, 0.8731812606155432, 0.6736181952814054, 0.9508562682920205, 0.7301232920476928, 0.6095236379042169, 0.08707480541488813, 0.2612244162446644, 0.8883845732951166, 0.8212448227409928, 0.7125690594656807, 0.17814226486642018, 0.7402154274249033, 0.7528293708157504, 0.6736181944017406, 0.5171937756440061, 0.2585968878220031, 0.2538551733184707, 0.6346379332961767, 0.3890699163182498, 0.1197138204056153, 0.029928455101403826, 0.26935609591263443, 0.17957073060842296, 0.9120745516439567, 0.9120745516439567, 0.5231958359821721, 0.4359965299851435, 0.656216501168275, 0.26248660046731, 0.18799477234564646, 0.7519790893825858, 0.9919945878026225, 0.749428661384969, 0.18735716534624225, 0.07269497955869172, 0.1696216189702807, 0.19385327882317793, 0.24231659852897242, 0.07269497955869172, 0.09692663941158897, 0.14538995911738345, 0.17995477641448693, 0.5398643292434608, 0.17995477641448693, 0.760325424506399, 0.39445955745222283, 0.28687967814707116, 0.017929979884191947, 0.21515975861030337, 0.08964989942095973, 0.708192290599002, 0.4757576558811876, 0.4244103414737083, 0.12482657102167892, 0.34951439886070096, 0.09986125681734313, 0.8989315690421202, 0.6402033460571054, 0.21340111535236844, 0.5395910493827913, 0.7948266480377998, 0.19870666200944995, 0.8762557586964406, 0.6637277578406313, 0.22124258594687712, 0.11062129297343856, 0.6609117791855985, 0.6736181868927191, 0.9526367700195756, 0.7248466185763484, 0.5737213277287905, 0.6608816139184972, 0.7349505352127228, 0.7758721774213647, 0.17741917553323194, 0.6209671143663118, 0.17741917553323194, 0.7368029668797014, 0.21051513339420042, 0.9214808384910074, 0.596276553523948, 0.19875885117464934, 0.4669222090473333, 0.38071071683307856, 0.10502364602291822, 0.36758276108021376, 0.05251182301145911, 0.10502364602291822, 0.35116518071302416, 0.7023303614260483, 0.2391439259175955, 0.7174317777527865, 0.5902814027713277, 0.29514070138566384, 0.6869875472048655, 0.27479501888194624, 0.1650165677175991, 0.03300331354351982, 0.7920795250444757, 0.6545131979917704, 0.6035887148027448, 0.7554945305847445, 0.9120750699731247, 0.9381220273290931, 0.5395861002759431, 0.3767078941147255, 0.19732318263152288, 0.17938471148320262, 0.21526165377984313, 0.017938471148320263, 0.25122312908217115, 0.25122312908217115, 0.25122312908217115, 0.25122312908217115, 0.7374365767205284, 0.23463891077471358, 0.18150553907124048, 0.2852229899690922, 0.33708171541801807, 0.025929362724462928, 0.051858725448925856, 0.07778808817338878, 0.8731812606155432, 0.7081922862897782, 0.908074921746329, 0.6736181868927191, 0.08710155389381226, 0.8710155389381226, 0.23891362405119823, 0.11945681202559912, 0.47782724810239646, 0.23891362405119823, 0.9567305938238889, 0.03679733053168804, 0.9745722992933146, 0.673618177560719, 0.8005261266373385, 0.6736181870979848, 0.7465061146951671, 0.7715437809102803, 0.7881487862672313, 0.19703719656680782, 0.7081965772484372, 0.6550925523053461, 0.7099704269213329, 0.7715358200962893, 0.6524172532449883, 0.27960739424785214, 0.16510247143647497, 0.16510247143647497, 0.5778586500276625, 0.8891867458076259, 0.48147311715035296, 0.08754056675460962, 0.3939325503957433, 0.43315660779204274, 0.43315660779204274, 0.908713420722228, 0.6035523227902133, 0.6736181853151167, 0.6713247293136602, 0.1179448615221474, 0.0786299076814316, 0.6290392614514528, 0.1572598153628632, 0.8627940689697998, 0.5409087906704875, 0.3606058604469916, 0.0901514651117479, 0.49385926844250627, 0.8627966819805402, 0.43018367072984814, 0.28678911381989874, 0.28678911381989874, 0.9120745516439567, 0.7465061146951671, 0.9373896138538383, 0.9078353463163755, 0.6545132656400043, 0.7359049078696577, 0.18397622696741442, 0.6329668550824342, 0.8573727288237615, 0.6736181839446801, 0.7850666506520522, 0.8864787056048882, 0.9639667847710697, 0.8627940689697998, 0.7066060718817948, 0.1766515179704487, 0.14672830853160318, 0.4401849255948095, 0.14672830853160318, 0.29345661706320636, 0.22472169925715174, 0.11236084962857587, 0.33708254888572764, 0.11236084962857587, 0.8002619314969599, 0.9508562682920205, 0.4889630097305863, 0.8586341599182824, 0.3194149857882504, 0.3194149857882504, 0.9206242745897406, 0.9255325213623283, 0.8655821148791404, 0.25495189224429415, 0.6373797306107355, 0.26800707068606106, 0.5360141413721221, 0.8892698241866608, 0.7081965544433435, 0.22399241335548817, 0.6719772400664645, 0.35154483395774283, 0.7030896679154857, 0.634198975699771, 0.4526871218577483, 0.4526871218577483, 0.7715358237348274, 0.7897278437344947, 0.7465061146951671, 0.603600409454398, 0.26666265114684423, 0.5333253022936885, 0.7370704142059317, 0.14741408284118634, 0.6383306278791561, 0.7465061146951671, 0.9120745516439567, 0.753988141929605, 0.7857746009335859, 0.4315463630478447, 0.1678235856297174, 0.3356471712594348, 0.04794959589420497, 0.7528293892189103, 0.2638865382274225, 0.7476785249776969, 0.6736181794209583, 0.8627940689697998, 0.7349300041993552, 0.9338741660370278, 0.9501736852438901, 0.2793740504691887, 0.13968702523459434, 0.5587481009383773, 0.7827270737332758, 0.44876717272585326, 0.44876717272585326, 0.7465061146951671, 0.7528293892189103, 0.9508562682920205, 0.7081965772484372, 0.5368495624204791, 0.26842478121023955, 0.5395862503221635, 0.827741150321398, 0.35068403932120856, 0.5844733988686809, 0.753983030087161, 0.673618227826976, 0.2820124323692571, 0.0805749806769306, 0.5640248647385142, 0.0805749806769306, 0.31471141227465277, 0.6294228245493055, 0.5012149878735414, 0.310876980078102, 0.621753960156204, 0.1609051692560327, 0.6972557334428083, 0.1609051692560327, 0.21038695951902678, 0.6311608785570804, 0.21038695951902678, 0.8809873478278137, 0.22655847464887338, 0.6796754239466201, 0.11327923732443669, 0.7081922815321484, 0.907526047853263, 0.6703420700684529, 0.764539478205951, 0.7827226207136221, 0.7465061146951671, 0.30395821364307507, 0.6079164272861501, 0.721797119526692, 0.1443594239053384, 0.7418351846858094, 0.24727839489526982, 0.7604965190082007, 0.46692279424445277, 0.21410195156111914, 0.03568365859351986, 0.5352548789027979, 0.21410195156111914, 0.9120745516439567, 0.3243441873568673, 0.12973767494274693, 0.06486883747137347, 0.3243441873568673, 0.12973767494274693, 0.14099601856410932, 0.14099601856410932, 0.42298805569232795, 0.14099601856410932, 0.14099601856410932, 0.0709869850444446, 0.2839479401777784, 0.5678958803555568, 0.4916566352467156, 0.14047332435620447, 0.14047332435620447, 0.14047332435620447, 0.2642811173709132, 0.1321405586854566, 0.39642167605636985, 0.1321405586854566, 0.14921657469443275, 0.7460828734721638, 0.9120745516439567], \"Term\": [\"$\", \"ability\", \"ability\", \"able\", \"able\", \"able\", \"able\", \"accept\", \"actualize\", \"advice\", \"advice\", \"ago\", \"aid\", \"amazing\", \"answer\", \"anxiety\", \"application\", \"apply\", \"april\", \"area\", \"ask\", \"assignment\", \"available\", \"background\", \"background\", \"bad\", \"balancing\", \"basically\", \"bear\", \"begin\", \"better\", \"big\", \"boon\", \"boost\", \"boot\", \"box\", \"break\", \"break\", \"build\", \"build\", \"build\", \"camp\", \"capacity\", \"career\", \"career\", \"chain\", \"challenge\", \"chance\", \"change\", \"change\", \"choice\", \"clean\", \"close\", \"code\", \"code\", \"coding\", \"coding\", \"come\", \"come\", \"community\", \"community\", \"community\", \"company\", \"competence\", \"complete\", \"compose\", \"computer\", \"condition\", \"confidence\", \"confidence\", \"connect\", \"connection\", \"connection\", \"contact\", \"contribute\", \"conversation\", \"course\", \"criminal\", \"current\", \"current\", \"data\", \"day\", \"deal\", \"deep\", \"degree\", \"deliver\", \"design\", \"determined\", \"dev\", \"develop\", \"develop\", \"develop\", \"developer\", \"developer\", \"developer\", \"developer\", \"developer\", \"development\", \"development\", \"development\", \"dictate\", \"die\", \"difficult\", \"difficult\", \"dig\", \"direction\", \"discriminate\", \"distribute\", \"door\", \"dream\", \"economically\", \"employable\", \"employment\", \"employment\", \"employment\", \"employment\", \"empower\", \"encourage\", \"encouragement\", \"encouragement\", \"engineer\", \"enjoy\", \"etc\", \"eventually\", \"eventually\", \"excel\", \"excellent\", \"experience\", \"experience\", \"expertise\", \"expertise\", \"explain\", \"explain\", \"exposure\", \"familiar\", \"family\", \"family\", \"far\", \"far\", \"far\", \"feel\", \"feel\", \"felon\", \"felony\", \"field\", \"field\", \"figure\", \"financial\", \"find\", \"find\", \"find\", \"finish\", \"firstly\", \"flawed\", \"folk\", \"forward\", \"forward\", \"forward\", \"free\", \"freelance\", \"friend\", \"friend\", \"friendly\", \"friendship\", \"functional\", \"fundamental\", \"fundamental\", \"future\", \"future\", \"gain\", \"gain\", \"gain\", \"gain\", \"gain\", \"generational\", \"generic\", \"get\", \"get\", \"go\", \"go\", \"goal\", \"goal\", \"good\", \"grow\", \"grow\", \"guidance\", \"guidance\", \"guidance\", \"guidance\", \"guidance\", \"guidance\", \"guidance\", \"guide\", \"guide\", \"guide\", \"hard\", \"help\", \"help\", \"help\", \"help\", \"help\", \"hire\", \"history\", \"hope\", \"hope\", \"hope\", \"hope\", \"hopefully\", \"human\", \"human\", \"impact\", \"important\", \"important\", \"improve\", \"industry\", \"industry\", \"industry\", \"information\", \"infrastructure\", \"insight\", \"inspire\", \"instead\", \"instruction\", \"interact\", \"interested\", \"interview\", \"interview\", \"interview\", \"ios\", \"ios\", \"issue\", \"javascript\", \"javascript\", \"jetpack\", \"job\", \"job\", \"job\", \"job\", \"job\", \"join\", \"join\", \"journey\", \"journey\", \"kind\", \"kind\", \"know\", \"know\", \"knowledge\", \"knowledge\", \"knowledge\", \"knowledgeable\", \"labor\", \"lack\", \"ladder\", \"land\", \"last\", \"learn\", \"learn\", \"learn\", \"learn\", \"learn\", \"learning\", \"learning\", \"learning\", \"learning\", \"life\", \"life\", \"like\", \"like\", \"like\", \"like\", \"like\", \"like\", \"line\", \"list\", \"live\", \"load\", \"look\", \"look\", \"love\", \"love\", \"love\", \"love\", \"mentor\", \"mentor\", \"mentorship\", \"merely\", \"mess\", \"microservice\", \"middle\", \"minded\", \"mistake\", \"mistake\", \"mobile\", \"month\", \"motivation\", \"navigate\", \"need\", \"need\", \"network\", \"network\", \"network\", \"networking\", \"new\", \"new\", \"new\", \"obtain\", \"obtain\", \"offer\", \"one\", \"oop\", \"open\", \"opportunity\", \"opportunity\", \"opportunity\", \"opportunity\", \"order\", \"pay\", \"pay\", \"pay\", \"peer\", \"peoeple\", \"people\", \"people\", \"people\", \"pioneer\", \"pit\", \"place\", \"point\", \"poor\", \"position\", \"position\", \"potential\", \"practice\", \"preferably\", \"problem\", \"process\", \"professional\", \"proficiency\", \"program\", \"program\", \"programmer\", \"programmer\", \"programmer\", \"programmer\", \"programming\", \"programming\", \"programming\", \"programming\", \"project\", \"prosperity\", \"pursue\", \"put\", \"python\", \"python\", \"question\", \"race\", \"ready\", \"real\", \"real\", \"receive\", \"receive\", \"record\", \"regard\", \"relate\", \"relate\", \"relationship\", \"relationship\", \"remote\", \"resource\", \"resource\", \"resume\", \"right\", \"run\", \"science\", \"search\", \"search\", \"sense\", \"sense\", \"session\", \"shackle\", \"shape\", \"significantly\", \"situation\", \"skill\", \"skill\", \"skill\", \"skill\", \"socioeconomic\", \"software\", \"software\", \"solidify\", \"solo\", \"son\", \"sort\", \"stability\", \"stack\", \"stack\", \"stack\", \"standard\", \"start\", \"start\", \"starting\", \"status\", \"stress\", \"strive\", \"strong\", \"strong\", \"stuff\", \"success\", \"successful\", \"successful\", \"successfully\", \"suitable\", \"support\", \"support\", \"support\", \"support\", \"sure\", \"sure\", \"system\", \"teach\", \"teach\", \"tech\", \"tech\", \"tech\", \"thing\", \"thing\", \"thing\", \"think\", \"time\", \"time\", \"time\", \"train\", \"training\", \"transition\", \"true\", \"truly\", \"truth\", \"try\", \"try\", \"understand\", \"understand\", \"understanding\", \"understanding\", \"valuable\", \"w/\", \"want\", \"want\", \"want\", \"want\", \"wave\", \"way\", \"way\", \"way\", \"way\", \"way\", \"web\", \"web\", \"web\", \"web\", \"web\", \"well\", \"well\", \"well\", \"work\", \"work\", \"work\", \"work\", \"world\", \"world\", \"world\", \"world\", \"year\", \"year\", \"yearn\"]}, \"R\": 30, \"lambda.step\": 0.01, \"plot.opts\": {\"xlab\": \"PC1\", \"ylab\": \"PC2\"}, \"topic.order\": [1, 7, 3, 2, 5, 4, 6, 8]};\n",
              "\n",
              "function LDAvis_load_lib(url, callback){\n",
              "  var s = document.createElement('script');\n",
              "  s.src = url;\n",
              "  s.async = true;\n",
              "  s.onreadystatechange = s.onload = callback;\n",
              "  s.onerror = function(){console.warn(\"failed to load library \" + url);};\n",
              "  document.getElementsByTagName(\"head\")[0].appendChild(s);\n",
              "}\n",
              "\n",
              "if(typeof(LDAvis) !== \"undefined\"){\n",
              "   // already loaded: just create the visualization\n",
              "   !function(LDAvis){\n",
              "       new LDAvis(\"#\" + \"ldavis_el1771405847968711207197826337\", ldavis_el1771405847968711207197826337_data);\n",
              "   }(LDAvis);\n",
              "}else if(typeof define === \"function\" && define.amd){\n",
              "   // require.js is available: use it to load d3/LDAvis\n",
              "   require.config({paths: {d3: \"https://d3js.org/d3.v5\"}});\n",
              "   require([\"d3\"], function(d3){\n",
              "      window.d3 = d3;\n",
              "      LDAvis_load_lib(\"https://cdn.jsdelivr.net/gh/bmabey/pyLDAvis@3.3.1/pyLDAvis/js/ldavis.v3.0.0.js\", function(){\n",
              "        new LDAvis(\"#\" + \"ldavis_el1771405847968711207197826337\", ldavis_el1771405847968711207197826337_data);\n",
              "      });\n",
              "    });\n",
              "}else{\n",
              "    // require.js not available: dynamically load d3 & LDAvis\n",
              "    LDAvis_load_lib(\"https://d3js.org/d3.v5.js\", function(){\n",
              "         LDAvis_load_lib(\"https://cdn.jsdelivr.net/gh/bmabey/pyLDAvis@3.3.1/pyLDAvis/js/ldavis.v3.0.0.js\", function(){\n",
              "                 new LDAvis(\"#\" + \"ldavis_el1771405847968711207197826337\", ldavis_el1771405847968711207197826337_data);\n",
              "            })\n",
              "         });\n",
              "}\n",
              "</script>"
            ]
          },
          "metadata": {},
          "execution_count": 46
        }
      ]
    },
    {
      "cell_type": "markdown",
      "source": [
        "# Limitations of LDA:\n",
        "\n",
        "There are a few limitations to LDA:\n",
        "- The number of topics is fixed and must be known ahead of time.\n",
        "- LDA is unable to represent correlations that provide uncorrelated topics across the documents.\n",
        "- LDA is unsupervised.\n",
        "- LDA presumes words are exchangeable and does not account for sentence structure or multiple-word phrases.\n",
        "- LDA performs better for larger texts and is not very suitable for texts with less than 50 words.\n"
      ],
      "metadata": {
        "id": "tUDivzVa52RF"
      }
    },
    {
      "cell_type": "markdown",
      "source": [
        "# Conclusions\n",
        "\n",
        "### Frequency Analysis\n",
        "In our specific model, we worked with mock data collected by answering the question: “What are the applicants and mentees hoping to gain from the community?” Through our analysis, we found the most inherently useful graphic to be the chart of two-word token frequencies. For now, this will be the only chart we share with administrators once we create an endpoint, but new trends will likely arise with real data. The three-word tokens may then become more useful for informing admins about what the users want to gain from the community.\n",
        "\n",
        "\n",
        "### Topic Modelling\n",
        "We built the LDA model and visualized results using the pyLDAvis package. Since our coherence score peaked at num_topics = 8, we tried several different numbers of topics (3, 5, 8), but none of them showed useful topic distribution. Mostly, all the topics used the same common words but with slightly different frequencies. This result is not surprising, since there is a clear objective (topic) why the underdog-devs project was created. Moreover, LDA is not the best fit for our collection, since we worked with short texts (only 3 responses out of 335 are longer than 50 words)."
      ],
      "metadata": {
        "id": "jObIOGJYDQmw"
      }
    }
  ]
}