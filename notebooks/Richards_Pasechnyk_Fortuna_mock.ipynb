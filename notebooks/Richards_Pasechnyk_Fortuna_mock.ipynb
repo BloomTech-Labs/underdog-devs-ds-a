{
  "nbformat": 4,
  "nbformat_minor": 0,
  "metadata": {
    "colab": {
      "name": "Richards/Pasechnyk/Fortuna_mock.ipynb",
      "provenance": [],
      "collapsed_sections": []
    },
    "kernelspec": {
      "name": "python3",
      "display_name": "Python 3"
    },
    "language_info": {
      "name": "python"
    }
  },
  "cells": [
    {
      "cell_type": "markdown",
      "source": [
        "#Install Libraries"
      ],
      "metadata": {
        "id": "3U8wUpqgESep"
      }
    },
    {
      "cell_type": "code",
      "source": [
        "!pip install Fortuna #randomness\n",
        "!pip install names\n",
        "!pip install MonkeyScope"
      ],
      "metadata": {
        "colab": {
          "base_uri": "https://localhost:8080/"
        },
        "id": "2UpMLwiqSZIa",
        "outputId": "18417bac-8794-4dfc-ebde-cb18b2d7e14e"
      },
      "execution_count": 1,
      "outputs": [
        {
          "output_type": "stream",
          "name": "stdout",
          "text": [
            "Requirement already satisfied: Fortuna in /usr/local/lib/python3.7/dist-packages (4.3.2)\n",
            "Requirement already satisfied: names in /usr/local/lib/python3.7/dist-packages (0.3.0)\n",
            "Requirement already satisfied: MonkeyScope in /usr/local/lib/python3.7/dist-packages (1.4.3)\n"
          ]
        }
      ]
    },
    {
      "cell_type": "markdown",
      "source": [
        "#Import Libraries"
      ],
      "metadata": {
        "id": "LiyjUrmTEbkJ"
      }
    },
    {
      "cell_type": "code",
      "execution_count": 2,
      "metadata": {
        "id": "_gpnhVdXJ_9q"
      },
      "outputs": [],
      "source": [
        "import pandas as pd\n",
        "from Fortuna import random_int, percent_true, FlexCat, RelativeWeightedChoice\n",
        "from MonkeyScope import distribution"
      ]
    },
    {
      "cell_type": "markdown",
      "source": [
        "#Mock Dictionary To Take Items From"
      ],
      "metadata": {
        "id": "xlJwcAi0RCnO"
      }
    },
    {
      "cell_type": "code",
      "source": [
        "# Took names from other notebooks, thanks January/February cohort\n",
        "\n",
        "mock_dict = {\n",
        "    \"male_first_names\": (\n",
        "    \"Liam\", \"Noah\", \"Oliver\", \"Elijah\", \"William\", \"James\", \"Benjamin\", \"Lucas\",\n",
        "    \"Henry\", \"Alexander\", \"Mason\", \"Michael\", \"Ethan\", \"Daniel\", \"Jacob\",\n",
        "    \"Logan\", \"Jackson\", \"Levi\", \"Sebastian\", \"Mateo\", \"Jack\", \"Owen\",\n",
        "    \"Theodore\", \"Aiden\", \"Samuel\", \"Joseph\", \"John\", \"David\", \"Wyatt\",\n",
        "    \"Matthew\", \"Luke\", \"Asher\", \"Carter\", \"Julian\", \"Grayson\", \"Leo\", \"Jayden\",\n",
        "    \"Gabriel\", \"Isaac\", \"Lincoln\", \"Anthony\", \"Hudson\", \"Dylan\", \"Ezra\",\n",
        "    \"Thomas\", \"Charles\", \"Christopher\", \"Jaxon\", \"Maverick\", \"Josiah\", \"Isaiah\",\n",
        "    \"Andrew\", \"Elias\", \"Joshua\", \"Nathan\", \"Caleb\", \"Ryan\", \"Adrian\", \"Miles\",\n",
        "    \"Eli\", \"Nolan\", \"Christian\", \"Aaron\", \"Cameron\", \"Ezekiel\", \"Colton\",\n",
        "    \"Luca\", \"Landon\", \"Hunter\", \"Jonathan\", \"Santiago\", \"Axel\", \"Easton\",\n",
        "    \"Cooper\", \"Jeremiah\", \"Angel\", \"Roman\", \"Connor\", \"Jameson\", \"Robert\",\n",
        "    \"Greyson\", \"Jordan\", \"Ian\", \"Carson\", \"Jaxson\", \"Leonardo\", \"Nicholas\",\n",
        "    \"Dominic\", \"Austin\", \"Everett\", \"Brooks\", \"Xavier\", \"Kai\", \"Jose\", \"Parker\",\n",
        "    \"Adam\", \"Jace\", \"Wesley\", \"Kayden\", \"Silas\", \"Bennett\", \"Declan\", \"Waylon\",\n",
        "    \"Weston\", \"Evan\", \"Emmett\", \"Micah\", \"Ryder\", \"Beau\", \"Damian\", \"Brayden\",\n",
        "    \"Gael\", \"Rowan\", \"Harrison\", \"Bryson\", \"Sawyer\", \"Amir\", \"Kingston\",\n",
        "    \"Jason\", \"Giovanni\", \"Vincent\", \"Ayden\", \"Chase\", \"Myles\", \"Diego\",\n",
        "    \"Nathaniel\", \"Legend\", \"Jonah\", \"River\", \"Tyler\", \"Cole\", \"Braxton\",\n",
        "    \"George\", \"Milo\", \"Zachary\", \"Ashton\", \"Luis\", \"Jasper\", \"Kaiden\", \"Adriel\",\n",
        "    \"Gavin\", \"Bentley\", \"Calvin\", \"Zion\", \"Juan\", \"Maxwell\", \"Max\", \"Ryker\",\n",
        "    \"Carlos\", \"Emmanuel\", \"Jayce\", \"Lorenzo\", \"Ivan\", \"Jude\", \"August\", \"Kevin\",\n",
        "    \"Malachi\", \"Elliott\", \"Rhett\", \"Archer\", \"Karter\", \"Arthur\", \"Luka\",\n",
        "    \"Elliot\", \"Thiago\", \"Brandon\", \"Camden\", \"Justin\", \"Jesus\", \"Maddox\",\n",
        "    \"King\", \"Theo\", \"Enzo\", \"Matteo\", \"Emiliano\", \"Dean\", \"Hayden\", \"Finn\",\n",
        "    \"Brody\", \"Antonio\", \"Abel\", \"Alex\", \"Tristan\", \"Graham\", \"Zayden\", \"Judah\",\n",
        "    \"Xander\", \"Miguel\", \"Atlas\", \"Messiah\", \"Barrett\", \"Tucker\", \"Timothy\",\n",
        "    \"Alan\", \"Edward\", \"Leon\", \"Dawson\", \"Eric\", \"Ace\", \"Victor\", \"Abraham\",\n",
        "    \"Nicolas\", \"Jesse\", \"Charlie\", \"Patrick\", \"Walker\", \"Joel\", \"Richard\",\n",
        "    \"Beckett\", \"Blake\", \"Alejandro\", \"Avery\", \"Grant\", \"Peter\", \"Oscar\",\n",
        "    \"Matias\", \"Amari\", \"Lukas\", \"Andres\", \"Arlo\", \"Colt\", \"Adonis\", \"Kyrie\",\n",
        "    \"Steven\", \"Felix\", \"Preston\", \"Marcus\", \"Holden\", \"Emilio\", \"Remington\",\n",
        "    \"Jeremy\", \"Kaleb\", \"Brantley\", \"Bryce\", \"Mark\", \"Knox\", \"Israel\", \"Phoenix\",\n",
        "    \"Kobe\", \"Nash\", \"Griffin\", \"Caden\", \"Kenneth\", \"Kyler\", \"Hayes\", \"Jax\",\n",
        "    \"Rafael\", \"Beckham\", \"Javier\", \"Maximus\", \"Simon\", \"Paul\", \"Omar\", \"Kaden\",\n",
        "    \"Kash\", \"Lane\", \"Bryan\", \"Riley\", \"Zane\", \"Louis\", \"Aidan\", \"Paxton\",\n",
        "    \"Maximiliano\", \"Karson\", \"Cash\", \"Cayden\", \"Emerson\", \"Tobias\", \"Ronan\",\n",
        "    \"Brian\", \"Dallas\", \"Bradley\", \"Jorge\", \"Walter\", \"Josue\", \"Khalil\",\n",
        "    \"Damien\", \"Jett\", \"Kairo\", \"Zander\", \"Andre\", \"Cohen\", \"Crew\", \"Hendrix\",\n",
        "    \"Colin\", \"Chance\", \"Malakai\", \"Clayton\", \"Daxton\", \"Malcolm\", \"Lennox\",\n",
        "    \"Martin\", \"Jaden\", \"Kayson\", \"Bodhi\", \"Francisco\", \"Cody\", \"Erick\",\n",
        "    \"Kameron\", \"Atticus\", \"Dante\", \"Jensen\", \"Cruz\", \"Finley\", \"Brady\" \n",
        "    ),\n",
        "\n",
        "    \"female_first_names\": (\n",
        "    \"Olivia\", \"Emma\", \"Ava\", \"Charlotte\", \"Sophia\", \"Amelia\", \"Isabella\", \"Mia\",\n",
        "    \"Evelyn\", \"Harper\", \"Camila\", \"Gianna\", \"Abigail\", \"Luna\", \"Ella\",\n",
        "    \"Elizabeth\", \"Sofia\", \"Emily\", \"Avery\", \"Mila\", \"Scarlett\", \"Eleanor\",\n",
        "    \"Madison\", \"Layla\", \"Penelope\", \"Aria\", \"Chloe\", \"Grace\", \"Ellie\", \"Nora\",\n",
        "    \"Hazel\", \"Zoey\", \"Riley\", \"Victoria\", \"Lily\", \"Aurora\", \"Violet\", \"Nova\",\n",
        "    \"Hannah\", \"Emilia\", \"Zoe\", \"Stella\", \"Everly\", \"Isla\", \"Leah\", \"Lillian\",\n",
        "    \"Addison\", \"Willow\", \"Lucy\", \"Paisley\", \"Natalie\", \"Naomi\", \"Eliana\",\n",
        "    \"Brooklyn\", \"Elena\", \"Aubrey\", \"Claire\", \"Ivy\", \"Kinsley\", \"Audrey\", \"Maya\",\n",
        "    \"Genesis\", \"Skylar\", \"Bella\", \"Aaliyah\", \"Madelyn\", \"Savannah\", \"Anna\",\n",
        "    \"Delilah\", \"Serenity\", \"Caroline\", \"Kennedy\", \"Valentina\", \"Ruby\", \"Sophie\",\n",
        "    \"Alice\", \"Gabriella\", \"Sadie\", \"Ariana\", \"Allison\", \"Hailey\", \"Autumn\",\n",
        "    \"Nevaeh\", \"Natalia\", \"Quinn\", \"Josephine\", \"Sarah\", \"Cora\", \"Emery\",\n",
        "    \"Samantha\", \"Piper\", \"Leilani\", \"Eva\", \"Everleigh\", \"Madeline\", \"Lydia\",\n",
        "    \"Jade\", \"Peyton\", \"Brielle\", \"Adeline\", \"Vivian\", \"Rylee\", \"Clara\",\n",
        "    \"Raelynn\", \"Melanie\", \"Melody\", \"Julia\", \"Athena\", \"Maria\", \"Liliana\",\n",
        "    \"Hadley\", \"Arya\", \"Rose\", \"Reagan\", \"Eliza\", \"Adalynn\", \"Kaylee\", \"Lyla\",\n",
        "    \"Mackenzie\", \"Alaia\", \"Isabelle\", \"Charlie\", \"Arianna\", \"Mary\", \"Remi\",\n",
        "    \"Margaret\", \"Iris\", \"Parker\", \"Ximena\", \"Eden\", \"Ayla\", \"Kylie\", \"Elliana\",\n",
        "    \"Josie\", \"Katherine\", \"Faith\", \"Alexandra\", \"Eloise\", \"Adalyn\", \"Amaya\",\n",
        "    \"Jasmine\", \"Amara\", \"Daisy\", \"Reese\", \"Valerie\", \"Brianna\", \"Cecilia\",\n",
        "    \"Andrea\", \"Summer\", \"Valeria\", \"Norah\", \"Ariella\", \"Esther\", \"Ashley\",\n",
        "    \"Emerson\", \"Aubree\", \"Isabel\", \"Anastasia\", \"Ryleigh\", \"Khloe\", \"Taylor\",\n",
        "    \"Londyn\", \"Lucia\", \"Emersyn\", \"Callie\", \"Sienna\", \"Blakely\", \"Kehlani\",\n",
        "    \"Genevieve\", \"Alina\", \"Bailey\", \"Juniper\", \"Maeve\", \"Molly\", \"Harmony\",\n",
        "    \"Georgia\", \"Magnolia\", \"Catalina\", \"Freya\", \"Juliette\", \"Sloane\", \"June\",\n",
        "    \"Sara\", \"Ada\", \"Kimberly\", \"River\", \"Ember\", \"Juliana\", \"Aliyah\", \"Millie\",\n",
        "    \"Brynlee\", \"Teagan\", \"Morgan\", \"Jordyn\", \"London\", \"Alaina\", \"Olive\",\n",
        "    \"Rosalie\", \"Alyssa\", \"Ariel\", \"Finley\", \"Arabella\", \"Journee\", \"Hope\",\n",
        "    \"Leila\", \"Alana\", \"Gemma\", \"Vanessa\", \"Gracie\", \"Noelle\", \"Marley\", \"Elise\",\n",
        "    \"Presley\", \"Kamila\", \"Zara\", \"Amy\", \"Kayla\", \"Payton\", \"Blake\", \"Ruth\",\n",
        "    \"Alani\", \"Annabelle\", \"Sage\", \"Aspen\", \"Laila\", \"Lila\", \"Rachel\", \"Trinity\",\n",
        "    \"Daniela\", \"Alexa\", \"Lilly\", \"Lauren\", \"Elsie\", \"Margot\", \"Adelyn\", \"Zuri\",\n",
        "    \"Brooke\", \"Sawyer\", \"Lilah\", \"Lola\", \"Selena\", \"Mya\", \"Sydney\", \"Diana\",\n",
        "    \"Ana\", \"Vera\", \"Alayna\", \"Nyla\", \"Elaina\", \"Rebecca\", \"Angela\", \"Kali\",\n",
        "    \"Alivia\", \"Raegan\", \"Rowan\", \"Phoebe\", \"Camilla\", \"Joanna\", \"Malia\"),\n",
        "    \n",
        "    \"last_names\": (\n",
        "    \"Smith\", \"Johnson\", \"Williams\", \"Brown\", \"Jones\", \"Garcia\", \"Miller\",\n",
        "    \"Davis\", \"Rodriguez\", \"Martinez\", \"Hernandez\", \"Lopez\", \"Gonzales\",\n",
        "    \"Wilson\", \"Anderson\", \"Thomas\", \"Taylor\", \"Moore\", \"Jackson\", \"Martin\",\n",
        "    \"Lee\", \"Perez\", \"Thompson\", \"White\", \"Harris\", \"Sanchez\", \"Clark\",\n",
        "    \"Ramirez\", \"Lewis\", \"Robinson\", \"Walker\", \"Young\", \"Allen\", \"King\",\n",
        "    \"Wright\", \"Scott\", \"Torres\", \"Nguyen\", \"Hill\", \"Flores\", \"Green\", \"Adams\",\n",
        "    \"Nelson\", \"Baker\", \"Hall\", \"Rivera\", \"Campbell\", \"Mitchell\", \"Carter\",\n",
        "    \"Roberts\", \"Gomez\", \"Phillips\", \"Evans\", \"Turner\", \"Diaz\", \"Parker\", \"Cruz\",\n",
        "    \"Edwards\", \"Collins\", \"Reyes\", \"Stewart\", \"Morris\", \"Morales\", \"Murphy\",\n",
        "    \"Cook\", \"Rogers\", \"Gutierrez\", \"Ortiz\", \"Morgan\", \"Cooper\", \"Peterson\",\n",
        "    \"Bailey\", \"Reed\", \"Kelly\", \"Howard\", \"Ramos\", \"Kim\", \"Cox\", \"Ward\",\n",
        "    \"Richardson\", \"Watson\", \"Brooks\", \"Chavez\", \"Wood\", \"James\", \"Bennet\",\n",
        "    \"Gray\", \"Mendoza\", \"Ruiz\", \"Hughes\", \"Price\", \"Alvarez\", \"Castillo\",\n",
        "    \"Sanders\", \"Patel\", \"Myers\", \"Long\", \"Ross\", \"Foster\", \"Jimenez\"),\n",
        "         \n",
        "    \"city\": (\n",
        "    \"Nova\", \"Amali\", \"Fernanda\", \"Alia\", \"Angeli\", \"Elliot\", \"Justice\",\n",
        "    \"Maeyor\", \"Ceceli\", \"Glori\", \"Ariya\", \"Virginia\", \"Cheyenne\", \"Aleah\",\n",
        "    \"Jemma\", \"Henley\", \"Meredith\", \"Leyla\", \"Lennox\", \"Ensley\", \"Zahra\",\n",
        "    \"Reina\", \"Frankie\", \"Lylah\", \"Nalani\", \"Reyna\", \"Saige\", \"Ivanna\", \"Aleena\",\n",
        "    \"Emerie\", \"Ivory\", \"Leslie\", \"Alora\", \"Ashlyn\", \"Bethany\", \"Bonnie\",\n",
        "    \"Sasha\", \"Xiomara\", \"Salem\", \"Adrianna\", \"Dayana\", \"Clementine\", \"Karina\",\n",
        "    \"Karsyn\", \"Emmie\", \"Julie\", \"Julieta\", \"Briana\", \"Carly\", \"Macy\", \"Marie\",\n",
        "    \"Oaklee\", \"Christina\", \"Malaysia\", \"Ellis\", \"Irene\", \"Anne\", \"Anahi\",\n",
        "    \"Mara\", \"Rhea\", \"Davina\", \"Dallas\", \"Jayda\", \"Mariam\", \"Skyla\", \"Siena\",\n",
        "    \"Elora\", \"Marilyn\", \"Jazmin\", \"Megan\", \"Rosa\", \"Savanna\", \"Allyson\",\n",
        "    \"Milan\", \"Coraline\", \"Johanna\", \"Melany\", \"Chelsea\", \"Michaela\", \"Melina\",\n",
        "    ),\n",
        "\n",
        "    \"append\": (\n",
        "      \"st.\", \"pl.\", \"rd.\", \"ln.\", \"ave.\", \"blvd.\", \"ct.\", \"plaza\", \"terrace\",\n",
        "      \"run\", \"trail\"),\n",
        "\n",
        "    \"state\": (\n",
        "    \"Alaska\", \"Alabama\", \"Arkansas\", \"American Samoa\", \"Arizona\", \"California\", \n",
        "    \"Colorado\", \"Connecticut\", \"D.C.\", \"Delaware\", \"Florida\", \n",
        "    \"Georgia\", \"Guam\", \"Hawaii\", \"Iowa\", \"Idaho\", \"Illinois\", \"Indiana\", \n",
        "    \"Kansas\", \"Kentucky\", \"Louisiana\", \"Massachusetts\", \"Maryland\", \"Maine\",  \n",
        "    \"Minnesota\", \"Missouri\", \"Mississippi\", \"Montana\", \"North Carolina\", \n",
        "    \"North Dakota\", \"Nebraska\", \"New Hampshire\", \"New Jersey\", \"New Mexico\", \n",
        "    \"Nevada\", \"New York\", \"Ohio\", \"Oklahoma\", \"Oregon\", \"Pennsylvania\", \n",
        "    \"Puerto Rico\", \"Rhode Island\", \"South Carolina\", \"South Dakota\", \n",
        "    \"Tennessee\", \"Texas\", \"Utah\", \"Virginia\", \"Virgin Islands\", \"Vermont\", \n",
        "    \"Washington\", \"Wisconsin\", \"West Virginia\", \"Wyoming\", \"Michigan\"   \n",
        "    ),\n",
        "    \n",
        "    \"industry\":\n",
        "     (\"unsure\", \"health and wellness\", \"data storage and security\", \"customer relationship management\", \"travel\", \"accounting and finance\",\n",
        "     \"application and data integration\", \"human resources and workforce management\", \"supply chain and logistics\", \"food and grocery\",\n",
        "     \"web development\", \"lighting and LED\", \"infrastructure and hosting\", \"collaboration and project management\", \"data and broadband\",\n",
        "     \"music\", \"real estate\"),\n",
        "\n",
        "    \"time_of_day\": \n",
        "    (\"Morning: 6am-10am\",\n",
        "    \"noon: 10am-2pm\",\n",
        "    \"afternoon: 2pm-6pm\",\n",
        "    \"Evening: 6pm-9pm\"),\n",
        "    }"
      ],
      "metadata": {
        "id": "7ijnzNKI9d86"
      },
      "execution_count": 3,
      "outputs": []
    },
    {
      "cell_type": "code",
      "source": [
        "gend = {\"gender\":\n",
        "    (\"female\", \"male\", \"transgender\", \"non-binary/non-conforming\",  \"prefer not to say\"),\n",
        "}\n",
        "\n",
        "lang = {\"language_preference\":\n",
        "    (\"english\", \"spanish\", \"chinese\", \"other\")\n",
        "}\n",
        "\n",
        "exp = {\"experience\":\n",
        "     (\"none\", \"beginner\", \"intermediate\", \"advanced\"), \n",
        "}\n",
        "\n",
        "tech = {\"tech_stack\":\n",
        "     (\"JavaScript\", \"HTML\", \"CSS\", \"Python\", \"SQL\", \"React\", \"Redux\", \"Java\", \"Node.js\", \"Typescript\",\n",
        "      \"C#\", \"Bash/Shell\", \"C++\", \"PHP\", \"C\", \"Powershell\", \"Go\", \"Kotlin\", \"Rust\", \"Ruby\",\n",
        "      \"Dart\", \"Assembly\", \"Swift\", \"R\", \"Redux\"), \"new_stack\": \"unsure\"\n",
        "}\n",
        "\n",
        "#From searchlight \n",
        "soft_skills = { \"career\" :\n",
        "    (\"Coachability\", \"Attention_to_Detail\", \"Hardworking\", \"Creativity\",\n",
        "    \"Dependability\", \"Strategic Thinking\", \"Collaboration\", \"Trustworthiness\",\n",
        "    \"Enthusiasm\", \"Persuasion\", \"Empathy\", \"Charisma\", \"Active Listening\", \"Humility\",\n",
        "    \"Critical Thinking\", \"Adaptability\", \"Fast Learner\", \"Managing Stress\",\n",
        "    \"Being a Self-Starter\",\"Personable\", \"Curiosity\", \"Emotional Intelligence\",\n",
        "    \"Poise\", \"Ambition\", \"Handling Ambiguity\", \"Competitiveness\", \"Methodical\",\n",
        "    \"Customer-orientation\", \"Decisiveness\", \"Conscientiousness\", \"Teaching Others\",\n",
        "    \"Independence\", \"Intelligence\", \"Intuition\", \"Good Judgement\", \"Optimism\",\n",
        "    \"Persistence\", \"Problem Solving\", \"Results-driven\", \"Risk-taking\", \"Resourcefulness\")   \n",
        "}\n",
        "\n",
        "ind = {\"industry\":\n",
        "     (\"unsure\", \"health and wellness\", \"data storage and security\", \"customer relationship management\", \"travel\", \"accounting and finance\",\n",
        "     \"application and data integration\", \"human resources and workforce management\", \"supply chain and logistics\", \"food and grocery\",\n",
        "      \"web development\", \"lighting and LED\", \"infrastructure and hosting\", \"collaboration and project management\", \"data and broadband\",\n",
        "       \"music\", \"real estate\"),\n",
        "}\n",
        "tizo = {\"time_zone\":\n",
        "      (\"EST(New York)\", \"CST(Chicago)\", \"MST(Denver)\", \"PST(Los Angeles)\",\n",
        "  \"GMT(London)\", \"AST(Saudi Arabia)\", \"JST(Japan)\"), \n",
        "}\n",
        "tod = {\"time_of_day\": \n",
        "  (\"Morning: 6am-10am\",\n",
        "  \"noon: 10am-2pm\",\n",
        "  \"afternoon: 2pm-6pm\",\n",
        "  \"Evening: 6pm-9pm\"),\n",
        "}\n",
        "#some disclaimer here: your application will not be denied on the basis of stating that you are not comfortable sharing\n",
        "conv = {\"convictions\":\n",
        "    (\"not comfortable sharing\", \"misdemeanor\", \"felony\", \"none\"),\n",
        "}\n",
        "#some disclaimer here: your application will not be denied on the basis of stating that you are not comfortable sharing\n",
        "toc = {\"type_of_crime\":\n",
        "    (\"not comfortable sharing\",\"crime against a person\", \"crime against property\", \"inchoate\", \"statutory\", \"financial\", \"cyber\", \"other\"),\n",
        "     \"other\":(\"N/A\", \"not comfrotable sharing\")\n",
        "}\n",
        "\n",
        "#Are underdog devs adverstizing? Will they be? This should populate with where they are investing in marketing\n",
        "refer = {\"referred\":\n",
        "    (\"friend\", \"mentor\", \"google\", \"facebook\", \"linkedin\"),\n",
        "}"
      ],
      "metadata": {
        "id": "u_OOEH7kVHFj"
      },
      "execution_count": 4,
      "outputs": []
    },
    {
      "cell_type": "markdown",
      "source": [
        "#Combined Application Features\n",
        " - Personal Information\\\n",
        "    - Profile ID\\\n",
        "    - First Name \\ Last Name \\\n",
        "    - Email \\ Phone Number \\\n",
        "    - Gender \\\n",
        "    - Date of birth \\\n",
        "    - Street Address \\ zipcode \\ city \\ state \\\n",
        "    - Time Zone \\\n",
        "    - Veteran Status \\\n",
        "    - Multilingual? Language preference \\\n",
        "    - Convictions \\ type of crime \\\n",
        "    - financial assistance needed \\ material resources needed\n",
        "(more stringent checkins and address may be needed if this is a yes) \\\n",
        "\n",
        "- Career Information\n",
        "    - Tech/Career/Life/All \\\n",
        "    - Tech Stack \\\n",
        "    - Years of Experience per stack \\\n",
        "    - Industry \\\n",
        "    - Hobbies \\ Interests \\\n",
        "    - Number of Mentees \\\n",
        "    - Time of day \\\n",
        "\n",
        "- Other:\n",
        "    - how did you hear about us? \\\n",
        "    - anything you want us to know \\\n",
        "    - date_submitted "
      ],
      "metadata": {
        "id": "X6XrnqlumDtC"
      }
    },
    {
      "cell_type": "markdown",
      "source": [
        "#Functions to call in classes"
      ],
      "metadata": {
        "id": "n_mfSwRXfBLk"
      }
    },
    {
      "cell_type": "markdown",
      "source": [
        "### Accurately gendered names"
      ],
      "metadata": {
        "id": "LhL8nt05VwZq"
      }
    },
    {
      "cell_type": "code",
      "source": [
        "# FlexCat works with the dictionary to choose called random values from the keys\n",
        "random_name = FlexCat(mock_dict, key_bias = \"flat_uniform\")"
      ],
      "metadata": {
        "id": "rB9iTBaq9dgA"
      },
      "execution_count": 5,
      "outputs": []
    },
    {
      "cell_type": "code",
      "source": [
        "def gender():\n",
        "  if percent_true(75):\n",
        "    return \"male\"\n",
        "  if percent_true(85):\n",
        "    return \"female\"\n",
        "  if percent_true(20):\n",
        "    return \"transgender\"\n",
        "  if percent_true(75):\n",
        "    return \"non_binary\"\n",
        "  else:\n",
        "    return \"prefer_not_to_say\""
      ],
      "metadata": {
        "id": "EeD3ZckXquuX"
      },
      "execution_count": 6,
      "outputs": []
    },
    {
      "cell_type": "code",
      "source": [
        "def firstname():\n",
        "  if gender() == \"male\":\n",
        "    return random_name(\"male_first_names\")\n",
        "  if gender() == \"female\":\n",
        "    return random_name(\"female_first_names\")\n",
        "  else:\n",
        "    return random_name(\"male_first_names\", \"female_first_names\", \"last_names\")"
      ],
      "metadata": {
        "id": "_W8fnnJ1q99A"
      },
      "execution_count": 7,
      "outputs": []
    },
    {
      "cell_type": "markdown",
      "source": [
        "## Weights and languages from Statista_Data Notebook from Dan Kositzke\n"
      ],
      "metadata": {
        "id": "BpEaExSsIdRr"
      }
    },
    {
      "cell_type": "code",
      "source": [
        "mentor_stack = [\"JavaScript\", \"HTML\", \"CSS\", \"Python\", \"SQL\", \"React\", \"Redux\", \"Java\", \"Node.js\", \"Typescript\",\n",
        "      \"C#\", \"Bash/Shell\", \"C++\", \"PHP\", \"C\", \"Powershell\", \"Go\", \"Kotlin\", \"Rust\", \"Ruby\",\n",
        "      \"Dart\", \"Assembly\", \"Swift\", \"R\", \"Redux\"]"
      ],
      "metadata": {
        "id": "qJrXE0Fmu1EJ"
      },
      "execution_count": 8,
      "outputs": []
    },
    {
      "cell_type": "code",
      "source": [
        "#Notice that \"unsure\" is in this list vs. the mentor list. \n",
        "mentee_stack = [\"JavaScript\", \"HTML\", \"CSS\", \"Python\", \"SQL\", \"Unsure\", \"React\", \"Redux\", \"Java\", \"Node.js\", \"Typescript\",\n",
        "      \"C#\", \"Bash/Shell\", \"C++\", \"PHP\", \"C\", \"Powershell\", \"Go\", \"Redux\", \"Rust\", \"Ruby\",\n",
        "      \"Dart\", \"Assembly\", \"Swift\", \"R\"]\n"
      ],
      "metadata": {
        "id": "LlCJncRTHvYg"
      },
      "execution_count": 9,
      "outputs": []
    },
    {
      "cell_type": "code",
      "source": [
        "weights = [64.96, 56.07, 48.24, 47.08, 35.35, 33.91, 30.19, 27.86,\n",
        "27.13, 24.31, 21.98, 21.01, 10.75, 9.55, 8.32, 7.03, 6.75, 6.02, 5.61, 5.1,\n",
        "5.07, 4.66, 4.66, 3.01, 2.8]"
      ],
      "metadata": {
        "id": "zyZ6wY0N_8WT"
      },
      "execution_count": 10,
      "outputs": []
    },
    {
      "cell_type": "code",
      "source": [
        "mentor_weighted = RelativeWeightedChoice(zip(weights, mentor_stack))"
      ],
      "metadata": {
        "id": "4o6hb3QjFEVb"
      },
      "execution_count": 11,
      "outputs": []
    },
    {
      "cell_type": "code",
      "source": [
        "mentee_weighted = RelativeWeightedChoice(zip(weights, mentee_stack))"
      ],
      "metadata": {
        "id": "d-7TYILUIHBk"
      },
      "execution_count": 12,
      "outputs": []
    },
    {
      "cell_type": "markdown",
      "source": [
        "### statistically accurate weighted techstacks "
      ],
      "metadata": {
        "id": "ggq1McQOV5fs"
      }
    },
    {
      "cell_type": "code",
      "source": [
        "\n",
        "def techStack():\n",
        "    techstack = []\n",
        "    for i in range(5):\n",
        "        techstack += [mentor_weighted()]\n",
        "    return techstack"
      ],
      "metadata": {
        "id": "P-sI6HXA_8ik"
      },
      "execution_count": 13,
      "outputs": []
    },
    {
      "cell_type": "code",
      "source": [
        "techStack()"
      ],
      "metadata": {
        "colab": {
          "base_uri": "https://localhost:8080/"
        },
        "id": "uam-Zkm6OubP",
        "outputId": "860d1daf-d1a2-438d-904d-72ef3c12d431"
      },
      "execution_count": 14,
      "outputs": [
        {
          "output_type": "execute_result",
          "data": {
            "text/plain": [
              "['CSS', 'HTML', 'Python', 'HTML', 'React']"
            ]
          },
          "metadata": {},
          "execution_count": 14
        }
      ]
    },
    {
      "cell_type": "code",
      "source": [
        "def newStack():\n",
        "    newstack = []\n",
        "    for i in range(5):\n",
        "        newstack += [mentee_weighted()]\n",
        "    return newstack"
      ],
      "metadata": {
        "id": "w1mfam-0_88S"
      },
      "execution_count": 15,
      "outputs": []
    },
    {
      "cell_type": "markdown",
      "source": [
        "### Simple Functions"
      ],
      "metadata": {
        "id": "caaSKApKDBdZ"
      }
    },
    {
      "cell_type": "code",
      "source": [
        "timezone = FlexCat(tizo, key_bias= \"front_linear\", val_bias = \"front_poisson\")"
      ],
      "metadata": {
        "id": "GhrUXnhj_9HN"
      },
      "execution_count": 16,
      "outputs": []
    },
    {
      "cell_type": "code",
      "source": [
        "language_preference = FlexCat(lang, key_bias = \"front_linear\", val_bias = \"front_gauss\")"
      ],
      "metadata": {
        "id": "EzdgWPKw-SCS"
      },
      "execution_count": 17,
      "outputs": []
    },
    {
      "cell_type": "code",
      "source": [
        "financialaid = percent_true(50.0)"
      ],
      "metadata": {
        "id": "CSjI30rl-ohf"
      },
      "execution_count": 18,
      "outputs": []
    },
    {
      "cell_type": "markdown",
      "source": [
        "### Convitions and type of crime related"
      ],
      "metadata": {
        "id": "mUAoMsQfNiKB"
      }
    },
    {
      "cell_type": "code",
      "source": [
        "convictions = FlexCat(conv, val_bias = \"flat_uniform\")\n",
        "typecrime = FlexCat(toc, val_bias= \"flat_uniform\")\n",
        "typecrime(cat_key=\"other\")"
      ],
      "metadata": {
        "colab": {
          "base_uri": "https://localhost:8080/",
          "height": 35
        },
        "id": "fQvZ2vbphSQV",
        "outputId": "a5a8bded-6ff6-4114-d40f-bf028249bd60"
      },
      "execution_count": 19,
      "outputs": [
        {
          "output_type": "execute_result",
          "data": {
            "application/vnd.google.colaboratory.intrinsic+json": {
              "type": "string"
            },
            "text/plain": [
              "'N/A'"
            ]
          },
          "metadata": {},
          "execution_count": 19
        }
      ]
    },
    {
      "cell_type": "code",
      "source": [
        "def type_of_crime():\n",
        "    if convictions() == \"none\" or convictions() == \"not comfortable sharing\":\n",
        "      return \"N/A\"\n",
        "    else:\n",
        "      return typecrime(cat_key=\"type_of_crime\")"
      ],
      "metadata": {
        "id": "ywdzkfghJHMF"
      },
      "execution_count": 20,
      "outputs": []
    },
    {
      "cell_type": "markdown",
      "source": [
        "#Classes "
      ],
      "metadata": {
        "id": "XJWsfUZKn1Z6"
      }
    },
    {
      "cell_type": "code",
      "source": [
        "class Mentee:\n",
        "\n",
        "    \n",
        "    def __init__(self):\n",
        "        self.profile_id = f\"mentee{random_int(1111111,999999999)}\"\n",
        "        self.first_name = firstname()\n",
        "        self.last_name = random_name(\"last_names\")\n",
        "        self.email = f\"{self.first_name}_{self.last_name}{random_int(1,1000)}@fake.com\"\n",
        "        self.phone_number = f\"({random_int(100, 999)})-{random_int(100, 999)}-{random_int(1000, 9999)}\"\n",
        "        self.gender = gender()\n",
        "        self.timezone = timezone()\n",
        "        self.street_address = f\"{random_int(11,99999)} {random_name('last_names')} {random_name('append')}\"\n",
        "        self.city = random_name(\"city\")\n",
        "        self.state = random_name(\"state\")\n",
        "        self.veteran_status = percent_true(10.0)\n",
        "        self.language_preference = language_preference()\n",
        "        self.convictions = convictions()\n",
        "        self.crimes = type_of_crime()\n",
        "        self.financialaid = percent_true(50.0)\n",
        "        self.new_stack = newStack()\n",
        "\n",
        "\n",
        "\n",
        "    def __repr__(self):\n",
        "        output = (\n",
        "            f\"Profile ID: {self.profile_id}\",\n",
        "            f\"First Name: {self.first_name}\",\n",
        "            f\"Last Name: {self.last_name}\",\n",
        "            f\"Gender: {self.gender}\",\n",
        "            f\"Language Preference: {self.language_preference}\",\n",
        "            f\"Veteran: {self.veteran_status}\",\n",
        "            f\"Email: {self.email}\",\n",
        "            f\"Phone Number: {self.phone_number}\",\n",
        "            f\"Street Address: {self.street_address}\",\n",
        "            f\"City: {self.city}\",\n",
        "            f\"State: {self.state}\",\n",
        "            f\"Time Zone: {self.timezone}\",\n",
        "            f\"Conviction: {self.convictions}\",\n",
        "            f\"Type of crime: {self.crimes}\",\n",
        "            f\"Financial Aid: {self.financialaid}\",\n",
        "            f\"Tech Stack: {self.new_stack}\",\n",
        "        )\n",
        "        return \"\\n\".join(output)\n",
        "    \n",
        "    def to_dict(self):\n",
        "        return {\n",
        "            \"Profile ID\": self.profile_id,\n",
        "            \"First Name\": self.first_name,\n",
        "            \"Last Name\": self.last_name,\n",
        "            \"Gender\": self.gender,\n",
        "            \"Language Preference\": self.language_preference,\n",
        "            \"Veteran\": self.veteran_status,\n",
        "            \"Email\": self.email,\n",
        "            \"Phone Number\": self.phone_number,\n",
        "            \"Street Address\": self.street_address,\n",
        "            \"City\": self.city,\n",
        "            \"State\": self.state,\n",
        "            \"Time Zone\": self.timezone,\n",
        "            \"Conviction\": self.convictions,\n",
        "            \"Type of crime\": self.crimes,\n",
        "            \"Financial Aid\": self.financialaid,\n",
        "            \"Tech Stack\": self.new_stack,\n",
        "        }\n"
      ],
      "metadata": {
        "id": "hITvjHLevchs"
      },
      "execution_count": 27,
      "outputs": []
    },
    {
      "cell_type": "code",
      "source": [
        "class Mentor:\n",
        "\n",
        "    \n",
        "    def __init__(self):\n",
        "        self.profile_id = f\"mentor{random_int(1111111,999999999)}\"\n",
        "        self.first_name = firstname()\n",
        "        self.last_name = random_name(\"last_names\")\n",
        "        self.email = f\"{self.first_name}_{self.last_name}{random_int(1,1000)}@fake.com\"\n",
        "        self.phone_number = f\"({random_int(100, 999)})-{random_int(100, 999)}-{random_int(1000, 9999)}\"\n",
        "        self.gender = gender()\n",
        "        self.street_address = f\"{random_int(11,99999)} {random_name('last_names')} {random_name('append')}\"\n",
        "        self.city = random_name(\"city\")\n",
        "        self.state = random_name(\"state\")\n",
        "        self.timezone = timezone()\n",
        "        self.veteran_status = percent_true(10.0)\n",
        "        self.language_preference = language_preference()\n",
        "        self.tech_stack = techStack()\n",
        "\n",
        "\n",
        "\n",
        "    def __repr__(self):\n",
        "        output = (\n",
        "            f\"Profile ID: {self.profile_id}\",\n",
        "            f\"First Name: {self.first_name}\",\n",
        "            f\"Last Name: {self.last_name}\",\n",
        "            f\"Gender: {self.gender}\",\n",
        "            f\"Language Preference: {self.language_preference}\",\n",
        "            f\"Veteran: {self.veteran_status}\",\n",
        "            f\"Email: {self.email}\",\n",
        "            f\"Phone Number: {self.phone_number}\",\n",
        "            f\"Street Address: {self.street_address}\",\n",
        "            f\"City: {self.city}\",\n",
        "            f\"State: {self.state}\",\n",
        "            f\"Time Zone: {self.timezone}\",\n",
        "            f\"Tech Stack: {self.tech_stack}\",\n",
        "\n",
        "            \n",
        "\n",
        "        )\n",
        "        return \"\\n\".join(output)\n",
        "    \n",
        "    def to_dict(self):\n",
        "        return {\n",
        "            \"Profile ID\": self.profile_id,\n",
        "            \"First Name\": self.first_name,\n",
        "            \"Last Name\": self.last_name,\n",
        "            \"Gender\": self.gender,\n",
        "            \"Language Preference\": self.language_preference,\n",
        "            \"Veteran\": self.veteran_status,\n",
        "            \"Email\": self.email,\n",
        "            \"Phone Number\": self.phone_number,\n",
        "            \"Street Address\": self.street_address,\n",
        "            \"City\": self.city,\n",
        "            \"State\": self.state,\n",
        "            \"Time Zone\": self.timezone,\n",
        "            \"Tech Stack\": self.tech_stack,\n",
        "        }\n"
      ],
      "metadata": {
        "id": "uKvk1t0CarpD"
      },
      "execution_count": 39,
      "outputs": []
    },
    {
      "cell_type": "code",
      "source": [
        "mentee = Mentee()"
      ],
      "metadata": {
        "id": "cRXC9K109dXq"
      },
      "execution_count": 30,
      "outputs": []
    },
    {
      "cell_type": "code",
      "source": [
        "mentee"
      ],
      "metadata": {
        "colab": {
          "base_uri": "https://localhost:8080/"
        },
        "id": "e6Fw4bHxc4iS",
        "outputId": "067a1d81-783c-47a1-fd86-e678320660c6"
      },
      "execution_count": 31,
      "outputs": [
        {
          "output_type": "execute_result",
          "data": {
            "text/plain": [
              "Profile ID: mentee828677003\n",
              "First Name: Chance\n",
              "Last Name: Diaz\n",
              "Gender: male\n",
              "Language Preference: english\n",
              "Veteran: False\n",
              "Email: Chance_Diaz51@fake.com\n",
              "Phone Number: (599)-998-5303\n",
              "Street Address: 82428 Rivera run\n",
              "City: Fernanda\n",
              "State: Nebraska\n",
              "Time Zone: CST(Chicago)\n",
              "Conviction: not comfortable sharing\n",
              "Type of crime: N/A\n",
              "Financial Aid: False\n",
              "Tech Stack: ['HTML', 'Unsure', 'Java', 'JavaScript', 'CSS']"
            ]
          },
          "metadata": {},
          "execution_count": 31
        }
      ]
    },
    {
      "cell_type": "code",
      "source": [
        "mentor = Mentor()"
      ],
      "metadata": {
        "id": "eOpDI08PSqDc"
      },
      "execution_count": 40,
      "outputs": []
    },
    {
      "cell_type": "code",
      "source": [
        "mentor"
      ],
      "metadata": {
        "colab": {
          "base_uri": "https://localhost:8080/"
        },
        "id": "MFR1pP1xBvow",
        "outputId": "aec88378-fb24-4a9d-908e-716286b039e7"
      },
      "execution_count": 41,
      "outputs": [
        {
          "output_type": "execute_result",
          "data": {
            "text/plain": [
              "Profile ID: mentor369583238\n",
              "First Name: Noah\n",
              "Last Name: Thompson\n",
              "Gender: male\n",
              "Language Preference: english\n",
              "Veteran: False\n",
              "Email: Noah_Thompson744@fake.com\n",
              "Phone Number: (570)-448-1287\n",
              "Street Address: 33327 Cox terrace\n",
              "City: Irene\n",
              "State: Pennsylvania\n",
              "Time Zone: EST(New York)\n",
              "Tech Stack: ['HTML', 'Swift', 'Node.js', 'Bash/Shell', 'Java']"
            ]
          },
          "metadata": {},
          "execution_count": 41
        }
      ]
    },
    {
      "cell_type": "markdown",
      "source": [
        "# Populate a dataframe with mock data\n",
        "\n"
      ],
      "metadata": {
        "id": "iS1Hdv8VRlbH"
      }
    },
    {
      "cell_type": "code",
      "source": [
        "mentee_df = pd.DataFrame(Mentee().to_dict() for i in range(1000))"
      ],
      "metadata": {
        "id": "EVq_4s-2cRUq"
      },
      "execution_count": 32,
      "outputs": []
    },
    {
      "cell_type": "code",
      "source": [
        "mentee_df.head()"
      ],
      "metadata": {
        "colab": {
          "base_uri": "https://localhost:8080/",
          "height": 617
        },
        "id": "89QZ_PWNdIVg",
        "outputId": "9e9e69e7-4460-431d-c43e-ed83227f04ba"
      },
      "execution_count": 33,
      "outputs": [
        {
          "output_type": "execute_result",
          "data": {
            "text/html": [
              "\n",
              "  <div id=\"df-35042357-fff7-47b2-a4a3-cd7d1605fa99\">\n",
              "    <div class=\"colab-df-container\">\n",
              "      <div>\n",
              "<style scoped>\n",
              "    .dataframe tbody tr th:only-of-type {\n",
              "        vertical-align: middle;\n",
              "    }\n",
              "\n",
              "    .dataframe tbody tr th {\n",
              "        vertical-align: top;\n",
              "    }\n",
              "\n",
              "    .dataframe thead th {\n",
              "        text-align: right;\n",
              "    }\n",
              "</style>\n",
              "<table border=\"1\" class=\"dataframe\">\n",
              "  <thead>\n",
              "    <tr style=\"text-align: right;\">\n",
              "      <th></th>\n",
              "      <th>Profile ID</th>\n",
              "      <th>First Name</th>\n",
              "      <th>Last Name</th>\n",
              "      <th>Gender</th>\n",
              "      <th>Language Preference</th>\n",
              "      <th>Veteran</th>\n",
              "      <th>Email</th>\n",
              "      <th>Phone Number</th>\n",
              "      <th>Street Address</th>\n",
              "      <th>City</th>\n",
              "      <th>State</th>\n",
              "      <th>Time Zone</th>\n",
              "      <th>Conviction</th>\n",
              "      <th>Type of crime</th>\n",
              "      <th>Financial Aid</th>\n",
              "      <th>Tech Stack</th>\n",
              "    </tr>\n",
              "  </thead>\n",
              "  <tbody>\n",
              "    <tr>\n",
              "      <th>0</th>\n",
              "      <td>mentee893538622</td>\n",
              "      <td>Levi</td>\n",
              "      <td>Reyes</td>\n",
              "      <td>male</td>\n",
              "      <td>english</td>\n",
              "      <td>False</td>\n",
              "      <td>Levi_Reyes974@fake.com</td>\n",
              "      <td>(794)-417-8002</td>\n",
              "      <td>70453 Perez trail</td>\n",
              "      <td>Leyla</td>\n",
              "      <td>Ohio</td>\n",
              "      <td>EST(New York)</td>\n",
              "      <td>felony</td>\n",
              "      <td>crime against property</td>\n",
              "      <td>False</td>\n",
              "      <td>[SQL, JavaScript, Unsure, C++, C++]</td>\n",
              "    </tr>\n",
              "    <tr>\n",
              "      <th>1</th>\n",
              "      <td>mentee76624045</td>\n",
              "      <td>Ashton</td>\n",
              "      <td>Cooper</td>\n",
              "      <td>male</td>\n",
              "      <td>english</td>\n",
              "      <td>False</td>\n",
              "      <td>Ashton_Cooper128@fake.com</td>\n",
              "      <td>(199)-968-8919</td>\n",
              "      <td>9316 Wright plaza</td>\n",
              "      <td>Christina</td>\n",
              "      <td>Texas</td>\n",
              "      <td>CST(Chicago)</td>\n",
              "      <td>felony</td>\n",
              "      <td>N/A</td>\n",
              "      <td>True</td>\n",
              "      <td>[C++, React, Node.js, SQL, Python]</td>\n",
              "    </tr>\n",
              "    <tr>\n",
              "      <th>2</th>\n",
              "      <td>mentee775102737</td>\n",
              "      <td>Emilio</td>\n",
              "      <td>Gonzales</td>\n",
              "      <td>male</td>\n",
              "      <td>english</td>\n",
              "      <td>False</td>\n",
              "      <td>Emilio_Gonzales37@fake.com</td>\n",
              "      <td>(571)-865-4814</td>\n",
              "      <td>85247 Parker ct.</td>\n",
              "      <td>Anahi</td>\n",
              "      <td>Minnesota</td>\n",
              "      <td>EST(New York)</td>\n",
              "      <td>misdemeanor</td>\n",
              "      <td>N/A</td>\n",
              "      <td>False</td>\n",
              "      <td>[Redux, React, Unsure, Python, HTML]</td>\n",
              "    </tr>\n",
              "    <tr>\n",
              "      <th>3</th>\n",
              "      <td>mentee366955063</td>\n",
              "      <td>Alan</td>\n",
              "      <td>Garcia</td>\n",
              "      <td>male</td>\n",
              "      <td>english</td>\n",
              "      <td>False</td>\n",
              "      <td>Alan_Garcia54@fake.com</td>\n",
              "      <td>(568)-290-7043</td>\n",
              "      <td>45836 Bailey ln.</td>\n",
              "      <td>Mariam</td>\n",
              "      <td>Nevada</td>\n",
              "      <td>CST(Chicago)</td>\n",
              "      <td>misdemeanor</td>\n",
              "      <td>crime against property</td>\n",
              "      <td>True</td>\n",
              "      <td>[SQL, JavaScript, HTML, Redux, React]</td>\n",
              "    </tr>\n",
              "    <tr>\n",
              "      <th>4</th>\n",
              "      <td>mentee270449582</td>\n",
              "      <td>Tucker</td>\n",
              "      <td>Brown</td>\n",
              "      <td>male</td>\n",
              "      <td>english</td>\n",
              "      <td>False</td>\n",
              "      <td>Tucker_Brown720@fake.com</td>\n",
              "      <td>(286)-243-1566</td>\n",
              "      <td>84823 Bennet st.</td>\n",
              "      <td>Karsyn</td>\n",
              "      <td>Virginia</td>\n",
              "      <td>CST(Chicago)</td>\n",
              "      <td>felony</td>\n",
              "      <td>statutory</td>\n",
              "      <td>True</td>\n",
              "      <td>[CSS, CSS, JavaScript, C, Python]</td>\n",
              "    </tr>\n",
              "  </tbody>\n",
              "</table>\n",
              "</div>\n",
              "      <button class=\"colab-df-convert\" onclick=\"convertToInteractive('df-35042357-fff7-47b2-a4a3-cd7d1605fa99')\"\n",
              "              title=\"Convert this dataframe to an interactive table.\"\n",
              "              style=\"display:none;\">\n",
              "        \n",
              "  <svg xmlns=\"http://www.w3.org/2000/svg\" height=\"24px\"viewBox=\"0 0 24 24\"\n",
              "       width=\"24px\">\n",
              "    <path d=\"M0 0h24v24H0V0z\" fill=\"none\"/>\n",
              "    <path d=\"M18.56 5.44l.94 2.06.94-2.06 2.06-.94-2.06-.94-.94-2.06-.94 2.06-2.06.94zm-11 1L8.5 8.5l.94-2.06 2.06-.94-2.06-.94L8.5 2.5l-.94 2.06-2.06.94zm10 10l.94 2.06.94-2.06 2.06-.94-2.06-.94-.94-2.06-.94 2.06-2.06.94z\"/><path d=\"M17.41 7.96l-1.37-1.37c-.4-.4-.92-.59-1.43-.59-.52 0-1.04.2-1.43.59L10.3 9.45l-7.72 7.72c-.78.78-.78 2.05 0 2.83L4 21.41c.39.39.9.59 1.41.59.51 0 1.02-.2 1.41-.59l7.78-7.78 2.81-2.81c.8-.78.8-2.07 0-2.86zM5.41 20L4 18.59l7.72-7.72 1.47 1.35L5.41 20z\"/>\n",
              "  </svg>\n",
              "      </button>\n",
              "      \n",
              "  <style>\n",
              "    .colab-df-container {\n",
              "      display:flex;\n",
              "      flex-wrap:wrap;\n",
              "      gap: 12px;\n",
              "    }\n",
              "\n",
              "    .colab-df-convert {\n",
              "      background-color: #E8F0FE;\n",
              "      border: none;\n",
              "      border-radius: 50%;\n",
              "      cursor: pointer;\n",
              "      display: none;\n",
              "      fill: #1967D2;\n",
              "      height: 32px;\n",
              "      padding: 0 0 0 0;\n",
              "      width: 32px;\n",
              "    }\n",
              "\n",
              "    .colab-df-convert:hover {\n",
              "      background-color: #E2EBFA;\n",
              "      box-shadow: 0px 1px 2px rgba(60, 64, 67, 0.3), 0px 1px 3px 1px rgba(60, 64, 67, 0.15);\n",
              "      fill: #174EA6;\n",
              "    }\n",
              "\n",
              "    [theme=dark] .colab-df-convert {\n",
              "      background-color: #3B4455;\n",
              "      fill: #D2E3FC;\n",
              "    }\n",
              "\n",
              "    [theme=dark] .colab-df-convert:hover {\n",
              "      background-color: #434B5C;\n",
              "      box-shadow: 0px 1px 3px 1px rgba(0, 0, 0, 0.15);\n",
              "      filter: drop-shadow(0px 1px 2px rgba(0, 0, 0, 0.3));\n",
              "      fill: #FFFFFF;\n",
              "    }\n",
              "  </style>\n",
              "\n",
              "      <script>\n",
              "        const buttonEl =\n",
              "          document.querySelector('#df-35042357-fff7-47b2-a4a3-cd7d1605fa99 button.colab-df-convert');\n",
              "        buttonEl.style.display =\n",
              "          google.colab.kernel.accessAllowed ? 'block' : 'none';\n",
              "\n",
              "        async function convertToInteractive(key) {\n",
              "          const element = document.querySelector('#df-35042357-fff7-47b2-a4a3-cd7d1605fa99');\n",
              "          const dataTable =\n",
              "            await google.colab.kernel.invokeFunction('convertToInteractive',\n",
              "                                                     [key], {});\n",
              "          if (!dataTable) return;\n",
              "\n",
              "          const docLinkHtml = 'Like what you see? Visit the ' +\n",
              "            '<a target=\"_blank\" href=https://colab.research.google.com/notebooks/data_table.ipynb>data table notebook</a>'\n",
              "            + ' to learn more about interactive tables.';\n",
              "          element.innerHTML = '';\n",
              "          dataTable['output_type'] = 'display_data';\n",
              "          await google.colab.output.renderOutput(dataTable, element);\n",
              "          const docLink = document.createElement('div');\n",
              "          docLink.innerHTML = docLinkHtml;\n",
              "          element.appendChild(docLink);\n",
              "        }\n",
              "      </script>\n",
              "    </div>\n",
              "  </div>\n",
              "  "
            ],
            "text/plain": [
              "        Profile ID  ...                             Tech Stack\n",
              "0  mentee893538622  ...    [SQL, JavaScript, Unsure, C++, C++]\n",
              "1   mentee76624045  ...     [C++, React, Node.js, SQL, Python]\n",
              "2  mentee775102737  ...   [Redux, React, Unsure, Python, HTML]\n",
              "3  mentee366955063  ...  [SQL, JavaScript, HTML, Redux, React]\n",
              "4  mentee270449582  ...      [CSS, CSS, JavaScript, C, Python]\n",
              "\n",
              "[5 rows x 16 columns]"
            ]
          },
          "metadata": {},
          "execution_count": 33
        }
      ]
    },
    {
      "cell_type": "code",
      "source": [
        "mentor_df = pd.DataFrame(Mentor().to_dict() for i in range(1000))"
      ],
      "metadata": {
        "id": "iGvI5VfZCDEi"
      },
      "execution_count": 42,
      "outputs": []
    },
    {
      "cell_type": "code",
      "source": [
        "mentor_df.head(5)"
      ],
      "metadata": {
        "colab": {
          "base_uri": "https://localhost:8080/",
          "height": 441
        },
        "id": "Y14RxDmMCHHE",
        "outputId": "16567599-7216-40d7-c8b3-6c46bce2e476"
      },
      "execution_count": 45,
      "outputs": [
        {
          "output_type": "execute_result",
          "data": {
            "text/html": [
              "\n",
              "  <div id=\"df-8250afbc-63d1-46cc-b065-091fbe4c3c27\">\n",
              "    <div class=\"colab-df-container\">\n",
              "      <div>\n",
              "<style scoped>\n",
              "    .dataframe tbody tr th:only-of-type {\n",
              "        vertical-align: middle;\n",
              "    }\n",
              "\n",
              "    .dataframe tbody tr th {\n",
              "        vertical-align: top;\n",
              "    }\n",
              "\n",
              "    .dataframe thead th {\n",
              "        text-align: right;\n",
              "    }\n",
              "</style>\n",
              "<table border=\"1\" class=\"dataframe\">\n",
              "  <thead>\n",
              "    <tr style=\"text-align: right;\">\n",
              "      <th></th>\n",
              "      <th>Profile ID</th>\n",
              "      <th>First Name</th>\n",
              "      <th>Last Name</th>\n",
              "      <th>Gender</th>\n",
              "      <th>Language Preference</th>\n",
              "      <th>Veteran</th>\n",
              "      <th>Email</th>\n",
              "      <th>Phone Number</th>\n",
              "      <th>Street Address</th>\n",
              "      <th>City</th>\n",
              "      <th>State</th>\n",
              "      <th>Time Zone</th>\n",
              "      <th>Tech Stack</th>\n",
              "    </tr>\n",
              "  </thead>\n",
              "  <tbody>\n",
              "    <tr>\n",
              "      <th>0</th>\n",
              "      <td>mentor434070085</td>\n",
              "      <td>Jaden</td>\n",
              "      <td>Price</td>\n",
              "      <td>male</td>\n",
              "      <td>english</td>\n",
              "      <td>False</td>\n",
              "      <td>Jaden_Price643@fake.com</td>\n",
              "      <td>(669)-651-2859</td>\n",
              "      <td>55582 Williams ave.</td>\n",
              "      <td>Aleena</td>\n",
              "      <td>Louisiana</td>\n",
              "      <td>PST(Los Angeles)</td>\n",
              "      <td>[React, Java, Redux, SQL, R]</td>\n",
              "    </tr>\n",
              "    <tr>\n",
              "      <th>1</th>\n",
              "      <td>mentor475730191</td>\n",
              "      <td>Jacob</td>\n",
              "      <td>Chavez</td>\n",
              "      <td>male</td>\n",
              "      <td>english</td>\n",
              "      <td>True</td>\n",
              "      <td>Jacob_Chavez806@fake.com</td>\n",
              "      <td>(568)-944-2276</td>\n",
              "      <td>47252 Baker blvd.</td>\n",
              "      <td>Marilyn</td>\n",
              "      <td>Virginia</td>\n",
              "      <td>CST(Chicago)</td>\n",
              "      <td>[HTML, Node.js, HTML, Python, CSS]</td>\n",
              "    </tr>\n",
              "    <tr>\n",
              "      <th>2</th>\n",
              "      <td>mentor687412325</td>\n",
              "      <td>Zion</td>\n",
              "      <td>Long</td>\n",
              "      <td>male</td>\n",
              "      <td>english</td>\n",
              "      <td>False</td>\n",
              "      <td>Zion_Long507@fake.com</td>\n",
              "      <td>(149)-699-4004</td>\n",
              "      <td>63253 Howard rd.</td>\n",
              "      <td>Bonnie</td>\n",
              "      <td>West Virginia</td>\n",
              "      <td>MST(Denver)</td>\n",
              "      <td>[HTML, Java, PHP, Redux, Bash/Shell]</td>\n",
              "    </tr>\n",
              "    <tr>\n",
              "      <th>3</th>\n",
              "      <td>mentor284338494</td>\n",
              "      <td>Bryson</td>\n",
              "      <td>Sanchez</td>\n",
              "      <td>male</td>\n",
              "      <td>english</td>\n",
              "      <td>False</td>\n",
              "      <td>Bryson_Sanchez968@fake.com</td>\n",
              "      <td>(647)-994-1646</td>\n",
              "      <td>74036 Collins ln.</td>\n",
              "      <td>Alia</td>\n",
              "      <td>Hawaii</td>\n",
              "      <td>MST(Denver)</td>\n",
              "      <td>[Bash/Shell, Go, C, Redux, JavaScript]</td>\n",
              "    </tr>\n",
              "    <tr>\n",
              "      <th>4</th>\n",
              "      <td>mentor410742281</td>\n",
              "      <td>Angel</td>\n",
              "      <td>Turner</td>\n",
              "      <td>male</td>\n",
              "      <td>english</td>\n",
              "      <td>False</td>\n",
              "      <td>Angel_Turner999@fake.com</td>\n",
              "      <td>(739)-479-4188</td>\n",
              "      <td>36806 Evans pl.</td>\n",
              "      <td>Cheyenne</td>\n",
              "      <td>Iowa</td>\n",
              "      <td>PST(Los Angeles)</td>\n",
              "      <td>[CSS, Redux, Bash/Shell, Typescript, Swift]</td>\n",
              "    </tr>\n",
              "  </tbody>\n",
              "</table>\n",
              "</div>\n",
              "      <button class=\"colab-df-convert\" onclick=\"convertToInteractive('df-8250afbc-63d1-46cc-b065-091fbe4c3c27')\"\n",
              "              title=\"Convert this dataframe to an interactive table.\"\n",
              "              style=\"display:none;\">\n",
              "        \n",
              "  <svg xmlns=\"http://www.w3.org/2000/svg\" height=\"24px\"viewBox=\"0 0 24 24\"\n",
              "       width=\"24px\">\n",
              "    <path d=\"M0 0h24v24H0V0z\" fill=\"none\"/>\n",
              "    <path d=\"M18.56 5.44l.94 2.06.94-2.06 2.06-.94-2.06-.94-.94-2.06-.94 2.06-2.06.94zm-11 1L8.5 8.5l.94-2.06 2.06-.94-2.06-.94L8.5 2.5l-.94 2.06-2.06.94zm10 10l.94 2.06.94-2.06 2.06-.94-2.06-.94-.94-2.06-.94 2.06-2.06.94z\"/><path d=\"M17.41 7.96l-1.37-1.37c-.4-.4-.92-.59-1.43-.59-.52 0-1.04.2-1.43.59L10.3 9.45l-7.72 7.72c-.78.78-.78 2.05 0 2.83L4 21.41c.39.39.9.59 1.41.59.51 0 1.02-.2 1.41-.59l7.78-7.78 2.81-2.81c.8-.78.8-2.07 0-2.86zM5.41 20L4 18.59l7.72-7.72 1.47 1.35L5.41 20z\"/>\n",
              "  </svg>\n",
              "      </button>\n",
              "      \n",
              "  <style>\n",
              "    .colab-df-container {\n",
              "      display:flex;\n",
              "      flex-wrap:wrap;\n",
              "      gap: 12px;\n",
              "    }\n",
              "\n",
              "    .colab-df-convert {\n",
              "      background-color: #E8F0FE;\n",
              "      border: none;\n",
              "      border-radius: 50%;\n",
              "      cursor: pointer;\n",
              "      display: none;\n",
              "      fill: #1967D2;\n",
              "      height: 32px;\n",
              "      padding: 0 0 0 0;\n",
              "      width: 32px;\n",
              "    }\n",
              "\n",
              "    .colab-df-convert:hover {\n",
              "      background-color: #E2EBFA;\n",
              "      box-shadow: 0px 1px 2px rgba(60, 64, 67, 0.3), 0px 1px 3px 1px rgba(60, 64, 67, 0.15);\n",
              "      fill: #174EA6;\n",
              "    }\n",
              "\n",
              "    [theme=dark] .colab-df-convert {\n",
              "      background-color: #3B4455;\n",
              "      fill: #D2E3FC;\n",
              "    }\n",
              "\n",
              "    [theme=dark] .colab-df-convert:hover {\n",
              "      background-color: #434B5C;\n",
              "      box-shadow: 0px 1px 3px 1px rgba(0, 0, 0, 0.15);\n",
              "      filter: drop-shadow(0px 1px 2px rgba(0, 0, 0, 0.3));\n",
              "      fill: #FFFFFF;\n",
              "    }\n",
              "  </style>\n",
              "\n",
              "      <script>\n",
              "        const buttonEl =\n",
              "          document.querySelector('#df-8250afbc-63d1-46cc-b065-091fbe4c3c27 button.colab-df-convert');\n",
              "        buttonEl.style.display =\n",
              "          google.colab.kernel.accessAllowed ? 'block' : 'none';\n",
              "\n",
              "        async function convertToInteractive(key) {\n",
              "          const element = document.querySelector('#df-8250afbc-63d1-46cc-b065-091fbe4c3c27');\n",
              "          const dataTable =\n",
              "            await google.colab.kernel.invokeFunction('convertToInteractive',\n",
              "                                                     [key], {});\n",
              "          if (!dataTable) return;\n",
              "\n",
              "          const docLinkHtml = 'Like what you see? Visit the ' +\n",
              "            '<a target=\"_blank\" href=https://colab.research.google.com/notebooks/data_table.ipynb>data table notebook</a>'\n",
              "            + ' to learn more about interactive tables.';\n",
              "          element.innerHTML = '';\n",
              "          dataTable['output_type'] = 'display_data';\n",
              "          await google.colab.output.renderOutput(dataTable, element);\n",
              "          const docLink = document.createElement('div');\n",
              "          docLink.innerHTML = docLinkHtml;\n",
              "          element.appendChild(docLink);\n",
              "        }\n",
              "      </script>\n",
              "    </div>\n",
              "  </div>\n",
              "  "
            ],
            "text/plain": [
              "        Profile ID  ...                                   Tech Stack\n",
              "0  mentor434070085  ...                 [React, Java, Redux, SQL, R]\n",
              "1  mentor475730191  ...           [HTML, Node.js, HTML, Python, CSS]\n",
              "2  mentor687412325  ...         [HTML, Java, PHP, Redux, Bash/Shell]\n",
              "3  mentor284338494  ...       [Bash/Shell, Go, C, Redux, JavaScript]\n",
              "4  mentor410742281  ...  [CSS, Redux, Bash/Shell, Typescript, Swift]\n",
              "\n",
              "[5 rows x 13 columns]"
            ]
          },
          "metadata": {},
          "execution_count": 45
        }
      ]
    }
  ]
}