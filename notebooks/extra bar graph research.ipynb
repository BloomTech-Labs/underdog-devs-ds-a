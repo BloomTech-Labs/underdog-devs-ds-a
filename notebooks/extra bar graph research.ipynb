{
 "cells": [
  {
   "cell_type": "code",
   "execution_count": 1,
   "id": "9445d6e9",
   "metadata": {},
   "outputs": [
    {
     "name": "stdout",
     "output_type": "stream",
     "text": [
      "C:\\Users\\New\\PycharmProjects\\underdog-devs-ds-a\n"
     ]
    }
   ],
   "source": [
    "%cd C:\\Users\\New\\PycharmProjects\\underdog-devs-ds-a\\"
   ]
  },
  {
   "cell_type": "code",
   "execution_count": 2,
   "id": "33ae8983",
   "metadata": {},
   "outputs": [],
   "source": [
    "#!dir"
   ]
  },
  {
   "cell_type": "code",
   "execution_count": 3,
   "id": "1eb07831",
   "metadata": {},
   "outputs": [],
   "source": [
    "import pandas as pd\n",
    "import plotly.express as px\n",
    "import altair as alt\n",
    "from pandas import DataFrame"
   ]
  },
  {
   "cell_type": "code",
   "execution_count": 4,
   "id": "9406eec7",
   "metadata": {},
   "outputs": [],
   "source": [
    "from app.data import MongoDB"
   ]
  },
  {
   "cell_type": "code",
   "execution_count": 5,
   "id": "010ea204",
   "metadata": {},
   "outputs": [],
   "source": [
    "db = MongoDB()"
   ]
  },
  {
   "cell_type": "code",
   "execution_count": 6,
   "id": "002304d4",
   "metadata": {},
   "outputs": [
    {
     "data": {
      "text/plain": [
       "<app.data.MongoDB at 0x276d0ba1850>"
      ]
     },
     "execution_count": 6,
     "metadata": {},
     "output_type": "execute_result"
    }
   ],
   "source": [
    "db"
   ]
  },
  {
   "cell_type": "code",
   "execution_count": 7,
   "id": "dc494950",
   "metadata": {},
   "outputs": [],
   "source": [
    "mentee_referrals = pd.DataFrame(\n",
    "    db.projection('Mentees', {'is_active': True, 'validate_status': 'approved'}, {'referred_by': True}))"
   ]
  },
  {
   "cell_type": "code",
   "execution_count": 8,
   "id": "685563f1",
   "metadata": {},
   "outputs": [],
   "source": [
    "mentees = pd.DataFrame(db.read('Mentees'))"
   ]
  },
  {
   "cell_type": "code",
   "execution_count": 9,
   "id": "461aa87b",
   "metadata": {},
   "outputs": [],
   "source": [
    "mentees['role'] = 'mentee'"
   ]
  },
  {
   "cell_type": "code",
   "execution_count": 10,
   "id": "a4fe1c58",
   "metadata": {},
   "outputs": [],
   "source": [
    "mentees_activity = mentees.filter(['role', 'is_active'])"
   ]
  },
  {
   "cell_type": "code",
   "execution_count": 11,
   "id": "c29d2b0e",
   "metadata": {},
   "outputs": [
    {
     "data": {
      "text/html": [
       "<div>\n",
       "<style scoped>\n",
       "    .dataframe tbody tr th:only-of-type {\n",
       "        vertical-align: middle;\n",
       "    }\n",
       "\n",
       "    .dataframe tbody tr th {\n",
       "        vertical-align: top;\n",
       "    }\n",
       "\n",
       "    .dataframe thead th {\n",
       "        text-align: right;\n",
       "    }\n",
       "</style>\n",
       "<table border=\"1\" class=\"dataframe\">\n",
       "  <thead>\n",
       "    <tr style=\"text-align: right;\">\n",
       "      <th></th>\n",
       "      <th>role</th>\n",
       "      <th>is_active</th>\n",
       "    </tr>\n",
       "  </thead>\n",
       "  <tbody>\n",
       "    <tr>\n",
       "      <th>0</th>\n",
       "      <td>mentee</td>\n",
       "      <td>False</td>\n",
       "    </tr>\n",
       "    <tr>\n",
       "      <th>1</th>\n",
       "      <td>mentee</td>\n",
       "      <td>True</td>\n",
       "    </tr>\n",
       "    <tr>\n",
       "      <th>2</th>\n",
       "      <td>mentee</td>\n",
       "      <td>True</td>\n",
       "    </tr>\n",
       "    <tr>\n",
       "      <th>3</th>\n",
       "      <td>mentee</td>\n",
       "      <td>True</td>\n",
       "    </tr>\n",
       "    <tr>\n",
       "      <th>4</th>\n",
       "      <td>mentee</td>\n",
       "      <td>True</td>\n",
       "    </tr>\n",
       "    <tr>\n",
       "      <th>...</th>\n",
       "      <td>...</td>\n",
       "      <td>...</td>\n",
       "    </tr>\n",
       "    <tr>\n",
       "      <th>95</th>\n",
       "      <td>mentee</td>\n",
       "      <td>False</td>\n",
       "    </tr>\n",
       "    <tr>\n",
       "      <th>96</th>\n",
       "      <td>mentee</td>\n",
       "      <td>True</td>\n",
       "    </tr>\n",
       "    <tr>\n",
       "      <th>97</th>\n",
       "      <td>mentee</td>\n",
       "      <td>False</td>\n",
       "    </tr>\n",
       "    <tr>\n",
       "      <th>98</th>\n",
       "      <td>mentee</td>\n",
       "      <td>True</td>\n",
       "    </tr>\n",
       "    <tr>\n",
       "      <th>99</th>\n",
       "      <td>mentee</td>\n",
       "      <td>True</td>\n",
       "    </tr>\n",
       "  </tbody>\n",
       "</table>\n",
       "<p>100 rows × 2 columns</p>\n",
       "</div>"
      ],
      "text/plain": [
       "      role  is_active\n",
       "0   mentee      False\n",
       "1   mentee       True\n",
       "2   mentee       True\n",
       "3   mentee       True\n",
       "4   mentee       True\n",
       "..     ...        ...\n",
       "95  mentee      False\n",
       "96  mentee       True\n",
       "97  mentee      False\n",
       "98  mentee       True\n",
       "99  mentee       True\n",
       "\n",
       "[100 rows x 2 columns]"
      ]
     },
     "execution_count": 11,
     "metadata": {},
     "output_type": "execute_result"
    }
   ],
   "source": [
    "mentees_activity"
   ]
  },
  {
   "cell_type": "code",
   "execution_count": 12,
   "id": "e328ecd5",
   "metadata": {},
   "outputs": [
    {
     "data": {
      "text/html": [
       "<div>\n",
       "<style scoped>\n",
       "    .dataframe tbody tr th:only-of-type {\n",
       "        vertical-align: middle;\n",
       "    }\n",
       "\n",
       "    .dataframe tbody tr th {\n",
       "        vertical-align: top;\n",
       "    }\n",
       "\n",
       "    .dataframe thead th {\n",
       "        text-align: right;\n",
       "    }\n",
       "</style>\n",
       "<table border=\"1\" class=\"dataframe\">\n",
       "  <thead>\n",
       "    <tr style=\"text-align: right;\">\n",
       "      <th></th>\n",
       "      <th>role</th>\n",
       "      <th>is_active</th>\n",
       "    </tr>\n",
       "  </thead>\n",
       "  <tbody>\n",
       "    <tr>\n",
       "      <th>0</th>\n",
       "      <td>mentee</td>\n",
       "      <td>False</td>\n",
       "    </tr>\n",
       "    <tr>\n",
       "      <th>1</th>\n",
       "      <td>mentee</td>\n",
       "      <td>True</td>\n",
       "    </tr>\n",
       "    <tr>\n",
       "      <th>2</th>\n",
       "      <td>mentee</td>\n",
       "      <td>True</td>\n",
       "    </tr>\n",
       "    <tr>\n",
       "      <th>3</th>\n",
       "      <td>mentee</td>\n",
       "      <td>True</td>\n",
       "    </tr>\n",
       "    <tr>\n",
       "      <th>4</th>\n",
       "      <td>mentee</td>\n",
       "      <td>True</td>\n",
       "    </tr>\n",
       "    <tr>\n",
       "      <th>...</th>\n",
       "      <td>...</td>\n",
       "      <td>...</td>\n",
       "    </tr>\n",
       "    <tr>\n",
       "      <th>95</th>\n",
       "      <td>mentee</td>\n",
       "      <td>False</td>\n",
       "    </tr>\n",
       "    <tr>\n",
       "      <th>96</th>\n",
       "      <td>mentee</td>\n",
       "      <td>True</td>\n",
       "    </tr>\n",
       "    <tr>\n",
       "      <th>97</th>\n",
       "      <td>mentee</td>\n",
       "      <td>False</td>\n",
       "    </tr>\n",
       "    <tr>\n",
       "      <th>98</th>\n",
       "      <td>mentee</td>\n",
       "      <td>True</td>\n",
       "    </tr>\n",
       "    <tr>\n",
       "      <th>99</th>\n",
       "      <td>mentee</td>\n",
       "      <td>True</td>\n",
       "    </tr>\n",
       "  </tbody>\n",
       "</table>\n",
       "<p>100 rows × 2 columns</p>\n",
       "</div>"
      ],
      "text/plain": [
       "      role  is_active\n",
       "0   mentee      False\n",
       "1   mentee       True\n",
       "2   mentee       True\n",
       "3   mentee       True\n",
       "4   mentee       True\n",
       "..     ...        ...\n",
       "95  mentee      False\n",
       "96  mentee       True\n",
       "97  mentee      False\n",
       "98  mentee       True\n",
       "99  mentee       True\n",
       "\n",
       "[100 rows x 2 columns]"
      ]
     },
     "execution_count": 12,
     "metadata": {},
     "output_type": "execute_result"
    }
   ],
   "source": [
    "mentees_activity"
   ]
  },
  {
   "cell_type": "code",
   "execution_count": 13,
   "id": "3cb849c2",
   "metadata": {},
   "outputs": [],
   "source": [
    "mentors = pd.DataFrame(db.read('Mentors'))"
   ]
  },
  {
   "cell_type": "code",
   "execution_count": 14,
   "id": "c9d10b94",
   "metadata": {},
   "outputs": [],
   "source": [
    "mentors = mentors.query(\"first_name != 'string'\")"
   ]
  },
  {
   "cell_type": "code",
   "execution_count": 15,
   "id": "36fb946e",
   "metadata": {},
   "outputs": [],
   "source": [
    "mentors['role'] = 'mentor'"
   ]
  },
  {
   "cell_type": "code",
   "execution_count": 16,
   "id": "0c4c4930",
   "metadata": {},
   "outputs": [],
   "source": [
    "mentors_activity = mentors.filter(['role', 'is_active'])"
   ]
  },
  {
   "cell_type": "code",
   "execution_count": 17,
   "id": "92eb57bc",
   "metadata": {
    "scrolled": false
   },
   "outputs": [
    {
     "data": {
      "text/html": [
       "<div>\n",
       "<style scoped>\n",
       "    .dataframe tbody tr th:only-of-type {\n",
       "        vertical-align: middle;\n",
       "    }\n",
       "\n",
       "    .dataframe tbody tr th {\n",
       "        vertical-align: top;\n",
       "    }\n",
       "\n",
       "    .dataframe thead th {\n",
       "        text-align: right;\n",
       "    }\n",
       "</style>\n",
       "<table border=\"1\" class=\"dataframe\">\n",
       "  <thead>\n",
       "    <tr style=\"text-align: right;\">\n",
       "      <th></th>\n",
       "      <th>role</th>\n",
       "      <th>is_active</th>\n",
       "    </tr>\n",
       "  </thead>\n",
       "  <tbody>\n",
       "    <tr>\n",
       "      <th>0</th>\n",
       "      <td>mentor</td>\n",
       "      <td>True</td>\n",
       "    </tr>\n",
       "    <tr>\n",
       "      <th>1</th>\n",
       "      <td>mentor</td>\n",
       "      <td>True</td>\n",
       "    </tr>\n",
       "    <tr>\n",
       "      <th>2</th>\n",
       "      <td>mentor</td>\n",
       "      <td>True</td>\n",
       "    </tr>\n",
       "    <tr>\n",
       "      <th>3</th>\n",
       "      <td>mentor</td>\n",
       "      <td>True</td>\n",
       "    </tr>\n",
       "    <tr>\n",
       "      <th>4</th>\n",
       "      <td>mentor</td>\n",
       "      <td>True</td>\n",
       "    </tr>\n",
       "    <tr>\n",
       "      <th>5</th>\n",
       "      <td>mentor</td>\n",
       "      <td>True</td>\n",
       "    </tr>\n",
       "    <tr>\n",
       "      <th>6</th>\n",
       "      <td>mentor</td>\n",
       "      <td>True</td>\n",
       "    </tr>\n",
       "    <tr>\n",
       "      <th>7</th>\n",
       "      <td>mentor</td>\n",
       "      <td>True</td>\n",
       "    </tr>\n",
       "    <tr>\n",
       "      <th>8</th>\n",
       "      <td>mentor</td>\n",
       "      <td>True</td>\n",
       "    </tr>\n",
       "    <tr>\n",
       "      <th>9</th>\n",
       "      <td>mentor</td>\n",
       "      <td>True</td>\n",
       "    </tr>\n",
       "    <tr>\n",
       "      <th>10</th>\n",
       "      <td>mentor</td>\n",
       "      <td>True</td>\n",
       "    </tr>\n",
       "    <tr>\n",
       "      <th>11</th>\n",
       "      <td>mentor</td>\n",
       "      <td>True</td>\n",
       "    </tr>\n",
       "    <tr>\n",
       "      <th>12</th>\n",
       "      <td>mentor</td>\n",
       "      <td>True</td>\n",
       "    </tr>\n",
       "    <tr>\n",
       "      <th>13</th>\n",
       "      <td>mentor</td>\n",
       "      <td>True</td>\n",
       "    </tr>\n",
       "    <tr>\n",
       "      <th>14</th>\n",
       "      <td>mentor</td>\n",
       "      <td>True</td>\n",
       "    </tr>\n",
       "    <tr>\n",
       "      <th>15</th>\n",
       "      <td>mentor</td>\n",
       "      <td>True</td>\n",
       "    </tr>\n",
       "    <tr>\n",
       "      <th>16</th>\n",
       "      <td>mentor</td>\n",
       "      <td>True</td>\n",
       "    </tr>\n",
       "    <tr>\n",
       "      <th>17</th>\n",
       "      <td>mentor</td>\n",
       "      <td>True</td>\n",
       "    </tr>\n",
       "    <tr>\n",
       "      <th>18</th>\n",
       "      <td>mentor</td>\n",
       "      <td>True</td>\n",
       "    </tr>\n",
       "    <tr>\n",
       "      <th>19</th>\n",
       "      <td>mentor</td>\n",
       "      <td>True</td>\n",
       "    </tr>\n",
       "  </tbody>\n",
       "</table>\n",
       "</div>"
      ],
      "text/plain": [
       "      role  is_active\n",
       "0   mentor       True\n",
       "1   mentor       True\n",
       "2   mentor       True\n",
       "3   mentor       True\n",
       "4   mentor       True\n",
       "5   mentor       True\n",
       "6   mentor       True\n",
       "7   mentor       True\n",
       "8   mentor       True\n",
       "9   mentor       True\n",
       "10  mentor       True\n",
       "11  mentor       True\n",
       "12  mentor       True\n",
       "13  mentor       True\n",
       "14  mentor       True\n",
       "15  mentor       True\n",
       "16  mentor       True\n",
       "17  mentor       True\n",
       "18  mentor       True\n",
       "19  mentor       True"
      ]
     },
     "execution_count": 17,
     "metadata": {},
     "output_type": "execute_result"
    }
   ],
   "source": [
    "mentors_activity"
   ]
  },
  {
   "cell_type": "code",
   "execution_count": 18,
   "id": "9b364a1e",
   "metadata": {},
   "outputs": [],
   "source": [
    "activity = pd.concat([mentees_activity, mentors_activity])"
   ]
  },
  {
   "cell_type": "code",
   "execution_count": 19,
   "id": "43032c23",
   "metadata": {},
   "outputs": [
    {
     "data": {
      "text/html": [
       "<div>\n",
       "<style scoped>\n",
       "    .dataframe tbody tr th:only-of-type {\n",
       "        vertical-align: middle;\n",
       "    }\n",
       "\n",
       "    .dataframe tbody tr th {\n",
       "        vertical-align: top;\n",
       "    }\n",
       "\n",
       "    .dataframe thead th {\n",
       "        text-align: right;\n",
       "    }\n",
       "</style>\n",
       "<table border=\"1\" class=\"dataframe\">\n",
       "  <thead>\n",
       "    <tr style=\"text-align: right;\">\n",
       "      <th></th>\n",
       "      <th>role</th>\n",
       "      <th>is_active</th>\n",
       "    </tr>\n",
       "  </thead>\n",
       "  <tbody>\n",
       "    <tr>\n",
       "      <th>0</th>\n",
       "      <td>mentee</td>\n",
       "      <td>False</td>\n",
       "    </tr>\n",
       "    <tr>\n",
       "      <th>1</th>\n",
       "      <td>mentee</td>\n",
       "      <td>True</td>\n",
       "    </tr>\n",
       "    <tr>\n",
       "      <th>2</th>\n",
       "      <td>mentee</td>\n",
       "      <td>True</td>\n",
       "    </tr>\n",
       "    <tr>\n",
       "      <th>3</th>\n",
       "      <td>mentee</td>\n",
       "      <td>True</td>\n",
       "    </tr>\n",
       "    <tr>\n",
       "      <th>4</th>\n",
       "      <td>mentee</td>\n",
       "      <td>True</td>\n",
       "    </tr>\n",
       "    <tr>\n",
       "      <th>...</th>\n",
       "      <td>...</td>\n",
       "      <td>...</td>\n",
       "    </tr>\n",
       "    <tr>\n",
       "      <th>15</th>\n",
       "      <td>mentor</td>\n",
       "      <td>True</td>\n",
       "    </tr>\n",
       "    <tr>\n",
       "      <th>16</th>\n",
       "      <td>mentor</td>\n",
       "      <td>True</td>\n",
       "    </tr>\n",
       "    <tr>\n",
       "      <th>17</th>\n",
       "      <td>mentor</td>\n",
       "      <td>True</td>\n",
       "    </tr>\n",
       "    <tr>\n",
       "      <th>18</th>\n",
       "      <td>mentor</td>\n",
       "      <td>True</td>\n",
       "    </tr>\n",
       "    <tr>\n",
       "      <th>19</th>\n",
       "      <td>mentor</td>\n",
       "      <td>True</td>\n",
       "    </tr>\n",
       "  </tbody>\n",
       "</table>\n",
       "<p>120 rows × 2 columns</p>\n",
       "</div>"
      ],
      "text/plain": [
       "      role  is_active\n",
       "0   mentee      False\n",
       "1   mentee       True\n",
       "2   mentee       True\n",
       "3   mentee       True\n",
       "4   mentee       True\n",
       "..     ...        ...\n",
       "15  mentor       True\n",
       "16  mentor       True\n",
       "17  mentor       True\n",
       "18  mentor       True\n",
       "19  mentor       True\n",
       "\n",
       "[120 rows x 2 columns]"
      ]
     },
     "execution_count": 19,
     "metadata": {},
     "output_type": "execute_result"
    }
   ],
   "source": [
    "activity"
   ]
  },
  {
   "cell_type": "code",
   "execution_count": 20,
   "id": "b68f650c",
   "metadata": {},
   "outputs": [],
   "source": [
    "meetings_df = pd.DataFrame(db.read(\"Meetings\"))"
   ]
  },
  {
   "cell_type": "code",
   "execution_count": 62,
   "id": "f5a1653e",
   "metadata": {},
   "outputs": [],
   "source": [
    "meetings_missed = meetings_df.filter(['meeting_missed_by_mentee'])"
   ]
  },
  {
   "cell_type": "code",
   "execution_count": 63,
   "id": "34a758f5",
   "metadata": {},
   "outputs": [],
   "source": [
    "missed = alt.Chart(meetings_missed).mark_bar().encode(x = 'meeting_missed_by_mentee', y = 'count(meeting_missed_by_mentee)')"
   ]
  },
  {
   "cell_type": "code",
   "execution_count": 64,
   "id": "f0c0f8a6",
   "metadata": {},
   "outputs": [
    {
     "data": {
      "text/html": [
       "\n",
       "<div id=\"altair-viz-01751640ff8f4256ad41ae0f71d6b603\"></div>\n",
       "<script type=\"text/javascript\">\n",
       "  var VEGA_DEBUG = (typeof VEGA_DEBUG == \"undefined\") ? {} : VEGA_DEBUG;\n",
       "  (function(spec, embedOpt){\n",
       "    let outputDiv = document.currentScript.previousElementSibling;\n",
       "    if (outputDiv.id !== \"altair-viz-01751640ff8f4256ad41ae0f71d6b603\") {\n",
       "      outputDiv = document.getElementById(\"altair-viz-01751640ff8f4256ad41ae0f71d6b603\");\n",
       "    }\n",
       "    const paths = {\n",
       "      \"vega\": \"https://cdn.jsdelivr.net/npm//vega@5?noext\",\n",
       "      \"vega-lib\": \"https://cdn.jsdelivr.net/npm//vega-lib?noext\",\n",
       "      \"vega-lite\": \"https://cdn.jsdelivr.net/npm//vega-lite@4.17.0?noext\",\n",
       "      \"vega-embed\": \"https://cdn.jsdelivr.net/npm//vega-embed@6?noext\",\n",
       "    };\n",
       "\n",
       "    function maybeLoadScript(lib, version) {\n",
       "      var key = `${lib.replace(\"-\", \"\")}_version`;\n",
       "      return (VEGA_DEBUG[key] == version) ?\n",
       "        Promise.resolve(paths[lib]) :\n",
       "        new Promise(function(resolve, reject) {\n",
       "          var s = document.createElement('script');\n",
       "          document.getElementsByTagName(\"head\")[0].appendChild(s);\n",
       "          s.async = true;\n",
       "          s.onload = () => {\n",
       "            VEGA_DEBUG[key] = version;\n",
       "            return resolve(paths[lib]);\n",
       "          };\n",
       "          s.onerror = () => reject(`Error loading script: ${paths[lib]}`);\n",
       "          s.src = paths[lib];\n",
       "        });\n",
       "    }\n",
       "\n",
       "    function showError(err) {\n",
       "      outputDiv.innerHTML = `<div class=\"error\" style=\"color:red;\">${err}</div>`;\n",
       "      throw err;\n",
       "    }\n",
       "\n",
       "    function displayChart(vegaEmbed) {\n",
       "      vegaEmbed(outputDiv, spec, embedOpt)\n",
       "        .catch(err => showError(`Javascript Error: ${err.message}<br>This usually means there's a typo in your chart specification. See the javascript console for the full traceback.`));\n",
       "    }\n",
       "\n",
       "    if(typeof define === \"function\" && define.amd) {\n",
       "      requirejs.config({paths});\n",
       "      require([\"vega-embed\"], displayChart, err => showError(`Error loading script: ${err.message}`));\n",
       "    } else {\n",
       "      maybeLoadScript(\"vega\", \"5\")\n",
       "        .then(() => maybeLoadScript(\"vega-lite\", \"4.17.0\"))\n",
       "        .then(() => maybeLoadScript(\"vega-embed\", \"6\"))\n",
       "        .catch(showError)\n",
       "        .then(() => displayChart(vegaEmbed));\n",
       "    }\n",
       "  })({\"config\": {\"view\": {\"continuousWidth\": 400, \"continuousHeight\": 300}}, \"data\": {\"name\": \"data-3b373659a030f22e2f2bef513480da65\"}, \"mark\": \"bar\", \"encoding\": {\"x\": {\"field\": \"meeting_missed_by_mentee\", \"type\": \"nominal\"}, \"y\": {\"aggregate\": \"count\", \"field\": \"meeting_missed_by_mentee\", \"type\": \"nominal\"}}, \"$schema\": \"https://vega.github.io/schema/vega-lite/v4.17.0.json\", \"datasets\": {\"data-3b373659a030f22e2f2bef513480da65\": [{\"meeting_missed_by_mentee\": \"Missed\"}, {\"meeting_missed_by_mentee\": \"Attended\"}, {\"meeting_missed_by_mentee\": \"Attended\"}, {\"meeting_missed_by_mentee\": \"Missed\"}, {\"meeting_missed_by_mentee\": \"Attended\"}, {\"meeting_missed_by_mentee\": \"Attended\"}, {\"meeting_missed_by_mentee\": \"Attended\"}, {\"meeting_missed_by_mentee\": \"Missed\"}, {\"meeting_missed_by_mentee\": \"Missed\"}, {\"meeting_missed_by_mentee\": \"Attended\"}, {\"meeting_missed_by_mentee\": \"Missed\"}, {\"meeting_missed_by_mentee\": \"Attended\"}, {\"meeting_missed_by_mentee\": \"Attended\"}, {\"meeting_missed_by_mentee\": \"Missed\"}, {\"meeting_missed_by_mentee\": \"Missed\"}, {\"meeting_missed_by_mentee\": \"Attended\"}, {\"meeting_missed_by_mentee\": \"Missed\"}, {\"meeting_missed_by_mentee\": \"Attended\"}, {\"meeting_missed_by_mentee\": \"Missed\"}, {\"meeting_missed_by_mentee\": \"Missed\"}, {\"meeting_missed_by_mentee\": \"Attended\"}, {\"meeting_missed_by_mentee\": \"Missed\"}, {\"meeting_missed_by_mentee\": \"Attended\"}, {\"meeting_missed_by_mentee\": \"Missed\"}, {\"meeting_missed_by_mentee\": \"Attended\"}, {\"meeting_missed_by_mentee\": \"Missed\"}, {\"meeting_missed_by_mentee\": \"Attended\"}, {\"meeting_missed_by_mentee\": \"Missed\"}, {\"meeting_missed_by_mentee\": \"Missed\"}, {\"meeting_missed_by_mentee\": \"Missed\"}, {\"meeting_missed_by_mentee\": \"Missed\"}, {\"meeting_missed_by_mentee\": \"Attended\"}, {\"meeting_missed_by_mentee\": \"Attended\"}, {\"meeting_missed_by_mentee\": \"Attended\"}, {\"meeting_missed_by_mentee\": \"Missed\"}, {\"meeting_missed_by_mentee\": \"Missed\"}, {\"meeting_missed_by_mentee\": \"Missed\"}, {\"meeting_missed_by_mentee\": \"Missed\"}, {\"meeting_missed_by_mentee\": \"Attended\"}, {\"meeting_missed_by_mentee\": \"Attended\"}, {\"meeting_missed_by_mentee\": \"Attended\"}, {\"meeting_missed_by_mentee\": \"Missed\"}, {\"meeting_missed_by_mentee\": \"Attended\"}, {\"meeting_missed_by_mentee\": \"Attended\"}, {\"meeting_missed_by_mentee\": \"Attended\"}, {\"meeting_missed_by_mentee\": \"Missed\"}, {\"meeting_missed_by_mentee\": \"Missed\"}, {\"meeting_missed_by_mentee\": \"Missed\"}, {\"meeting_missed_by_mentee\": \"Missed\"}, {\"meeting_missed_by_mentee\": \"Missed\"}, {\"meeting_missed_by_mentee\": \"Missed\"}, {\"meeting_missed_by_mentee\": \"Missed\"}, {\"meeting_missed_by_mentee\": \"Missed\"}, {\"meeting_missed_by_mentee\": \"Attended\"}, {\"meeting_missed_by_mentee\": \"Missed\"}, {\"meeting_missed_by_mentee\": \"Attended\"}, {\"meeting_missed_by_mentee\": \"Missed\"}, {\"meeting_missed_by_mentee\": \"Missed\"}, {\"meeting_missed_by_mentee\": \"Attended\"}, {\"meeting_missed_by_mentee\": \"Missed\"}, {\"meeting_missed_by_mentee\": \"Missed\"}, {\"meeting_missed_by_mentee\": \"Missed\"}, {\"meeting_missed_by_mentee\": \"Attended\"}, {\"meeting_missed_by_mentee\": \"Missed\"}, {\"meeting_missed_by_mentee\": \"Attended\"}, {\"meeting_missed_by_mentee\": \"Attended\"}, {\"meeting_missed_by_mentee\": \"Missed\"}, {\"meeting_missed_by_mentee\": \"Missed\"}, {\"meeting_missed_by_mentee\": \"Missed\"}, {\"meeting_missed_by_mentee\": \"Missed\"}, {\"meeting_missed_by_mentee\": \"Missed\"}, {\"meeting_missed_by_mentee\": \"Missed\"}, {\"meeting_missed_by_mentee\": \"Attended\"}, {\"meeting_missed_by_mentee\": \"Missed\"}, {\"meeting_missed_by_mentee\": \"Missed\"}, {\"meeting_missed_by_mentee\": \"Attended\"}, {\"meeting_missed_by_mentee\": \"Missed\"}, {\"meeting_missed_by_mentee\": \"Attended\"}, {\"meeting_missed_by_mentee\": \"Attended\"}, {\"meeting_missed_by_mentee\": \"Attended\"}, {\"meeting_missed_by_mentee\": \"Missed\"}, {\"meeting_missed_by_mentee\": \"Missed\"}, {\"meeting_missed_by_mentee\": \"Missed\"}, {\"meeting_missed_by_mentee\": \"Missed\"}, {\"meeting_missed_by_mentee\": \"Missed\"}, {\"meeting_missed_by_mentee\": \"Missed\"}, {\"meeting_missed_by_mentee\": \"Attended\"}, {\"meeting_missed_by_mentee\": \"Attended\"}, {\"meeting_missed_by_mentee\": \"Missed\"}, {\"meeting_missed_by_mentee\": \"Attended\"}, {\"meeting_missed_by_mentee\": \"Missed\"}, {\"meeting_missed_by_mentee\": \"Attended\"}, {\"meeting_missed_by_mentee\": \"Attended\"}, {\"meeting_missed_by_mentee\": \"Missed\"}, {\"meeting_missed_by_mentee\": \"Attended\"}, {\"meeting_missed_by_mentee\": \"Attended\"}, {\"meeting_missed_by_mentee\": \"Missed\"}, {\"meeting_missed_by_mentee\": \"Attended\"}, {\"meeting_missed_by_mentee\": \"Attended\"}, {\"meeting_missed_by_mentee\": \"Missed\"}, {\"meeting_missed_by_mentee\": \"Missed\"}, {\"meeting_missed_by_mentee\": \"Missed\"}, {\"meeting_missed_by_mentee\": \"Attended\"}, {\"meeting_missed_by_mentee\": \"Attended\"}, {\"meeting_missed_by_mentee\": \"Attended\"}, {\"meeting_missed_by_mentee\": \"Missed\"}, {\"meeting_missed_by_mentee\": \"Attended\"}, {\"meeting_missed_by_mentee\": \"Attended\"}, {\"meeting_missed_by_mentee\": \"Missed\"}, {\"meeting_missed_by_mentee\": \"Attended\"}, {\"meeting_missed_by_mentee\": \"Missed\"}, {\"meeting_missed_by_mentee\": \"Missed\"}, {\"meeting_missed_by_mentee\": \"Attended\"}, {\"meeting_missed_by_mentee\": \"Attended\"}, {\"meeting_missed_by_mentee\": \"Missed\"}, {\"meeting_missed_by_mentee\": \"Missed\"}, {\"meeting_missed_by_mentee\": \"Attended\"}, {\"meeting_missed_by_mentee\": \"Missed\"}, {\"meeting_missed_by_mentee\": \"Missed\"}, {\"meeting_missed_by_mentee\": \"Missed\"}, {\"meeting_missed_by_mentee\": \"Attended\"}, {\"meeting_missed_by_mentee\": \"Attended\"}, {\"meeting_missed_by_mentee\": \"Attended\"}, {\"meeting_missed_by_mentee\": \"Missed\"}, {\"meeting_missed_by_mentee\": \"Missed\"}, {\"meeting_missed_by_mentee\": \"Missed\"}, {\"meeting_missed_by_mentee\": \"Missed\"}, {\"meeting_missed_by_mentee\": \"Attended\"}, {\"meeting_missed_by_mentee\": \"Attended\"}, {\"meeting_missed_by_mentee\": \"Missed\"}, {\"meeting_missed_by_mentee\": \"Attended\"}, {\"meeting_missed_by_mentee\": \"Missed\"}, {\"meeting_missed_by_mentee\": \"Attended\"}, {\"meeting_missed_by_mentee\": \"Missed\"}, {\"meeting_missed_by_mentee\": \"Missed\"}, {\"meeting_missed_by_mentee\": \"Attended\"}, {\"meeting_missed_by_mentee\": \"Attended\"}, {\"meeting_missed_by_mentee\": \"Missed\"}, {\"meeting_missed_by_mentee\": \"Attended\"}, {\"meeting_missed_by_mentee\": \"Attended\"}, {\"meeting_missed_by_mentee\": \"Attended\"}, {\"meeting_missed_by_mentee\": \"Missed\"}, {\"meeting_missed_by_mentee\": \"Missed\"}, {\"meeting_missed_by_mentee\": \"Attended\"}, {\"meeting_missed_by_mentee\": \"Missed\"}, {\"meeting_missed_by_mentee\": \"Attended\"}, {\"meeting_missed_by_mentee\": \"Missed\"}, {\"meeting_missed_by_mentee\": \"Missed\"}, {\"meeting_missed_by_mentee\": \"Attended\"}, {\"meeting_missed_by_mentee\": \"Attended\"}]}}, {\"mode\": \"vega-lite\"});\n",
       "</script>"
      ],
      "text/plain": [
       "alt.Chart(...)"
      ]
     },
     "execution_count": 64,
     "metadata": {},
     "output_type": "execute_result"
    }
   ],
   "source": [
    "missed"
   ]
  },
  {
   "cell_type": "code",
   "execution_count": 65,
   "id": "f7fa794a",
   "metadata": {},
   "outputs": [],
   "source": [
    "activity_vis = alt.Chart(activity).mark_bar().encode(x = 'is_active', y = 'count(is_active)', color = 'role')"
   ]
  },
  {
   "cell_type": "code",
   "execution_count": 66,
   "id": "11baa600",
   "metadata": {},
   "outputs": [
    {
     "data": {
      "text/html": [
       "\n",
       "<div id=\"altair-viz-8afdda7df29845ce981536af8d76db76\"></div>\n",
       "<script type=\"text/javascript\">\n",
       "  var VEGA_DEBUG = (typeof VEGA_DEBUG == \"undefined\") ? {} : VEGA_DEBUG;\n",
       "  (function(spec, embedOpt){\n",
       "    let outputDiv = document.currentScript.previousElementSibling;\n",
       "    if (outputDiv.id !== \"altair-viz-8afdda7df29845ce981536af8d76db76\") {\n",
       "      outputDiv = document.getElementById(\"altair-viz-8afdda7df29845ce981536af8d76db76\");\n",
       "    }\n",
       "    const paths = {\n",
       "      \"vega\": \"https://cdn.jsdelivr.net/npm//vega@5?noext\",\n",
       "      \"vega-lib\": \"https://cdn.jsdelivr.net/npm//vega-lib?noext\",\n",
       "      \"vega-lite\": \"https://cdn.jsdelivr.net/npm//vega-lite@4.17.0?noext\",\n",
       "      \"vega-embed\": \"https://cdn.jsdelivr.net/npm//vega-embed@6?noext\",\n",
       "    };\n",
       "\n",
       "    function maybeLoadScript(lib, version) {\n",
       "      var key = `${lib.replace(\"-\", \"\")}_version`;\n",
       "      return (VEGA_DEBUG[key] == version) ?\n",
       "        Promise.resolve(paths[lib]) :\n",
       "        new Promise(function(resolve, reject) {\n",
       "          var s = document.createElement('script');\n",
       "          document.getElementsByTagName(\"head\")[0].appendChild(s);\n",
       "          s.async = true;\n",
       "          s.onload = () => {\n",
       "            VEGA_DEBUG[key] = version;\n",
       "            return resolve(paths[lib]);\n",
       "          };\n",
       "          s.onerror = () => reject(`Error loading script: ${paths[lib]}`);\n",
       "          s.src = paths[lib];\n",
       "        });\n",
       "    }\n",
       "\n",
       "    function showError(err) {\n",
       "      outputDiv.innerHTML = `<div class=\"error\" style=\"color:red;\">${err}</div>`;\n",
       "      throw err;\n",
       "    }\n",
       "\n",
       "    function displayChart(vegaEmbed) {\n",
       "      vegaEmbed(outputDiv, spec, embedOpt)\n",
       "        .catch(err => showError(`Javascript Error: ${err.message}<br>This usually means there's a typo in your chart specification. See the javascript console for the full traceback.`));\n",
       "    }\n",
       "\n",
       "    if(typeof define === \"function\" && define.amd) {\n",
       "      requirejs.config({paths});\n",
       "      require([\"vega-embed\"], displayChart, err => showError(`Error loading script: ${err.message}`));\n",
       "    } else {\n",
       "      maybeLoadScript(\"vega\", \"5\")\n",
       "        .then(() => maybeLoadScript(\"vega-lite\", \"4.17.0\"))\n",
       "        .then(() => maybeLoadScript(\"vega-embed\", \"6\"))\n",
       "        .catch(showError)\n",
       "        .then(() => displayChart(vegaEmbed));\n",
       "    }\n",
       "  })({\"config\": {\"view\": {\"continuousWidth\": 400, \"continuousHeight\": 300}}, \"data\": {\"name\": \"data-aa8c2314c05dedba9736e74d7a6129be\"}, \"mark\": \"bar\", \"encoding\": {\"color\": {\"field\": \"role\", \"type\": \"nominal\"}, \"x\": {\"field\": \"is_active\", \"type\": \"nominal\"}, \"y\": {\"aggregate\": \"count\", \"field\": \"is_active\", \"type\": \"nominal\"}}, \"$schema\": \"https://vega.github.io/schema/vega-lite/v4.17.0.json\", \"datasets\": {\"data-aa8c2314c05dedba9736e74d7a6129be\": [{\"role\": \"mentee\", \"is_active\": false}, {\"role\": \"mentee\", \"is_active\": true}, {\"role\": \"mentee\", \"is_active\": true}, {\"role\": \"mentee\", \"is_active\": true}, {\"role\": \"mentee\", \"is_active\": true}, {\"role\": \"mentee\", \"is_active\": true}, {\"role\": \"mentee\", \"is_active\": true}, {\"role\": \"mentee\", \"is_active\": true}, {\"role\": \"mentee\", \"is_active\": false}, {\"role\": \"mentee\", \"is_active\": true}, {\"role\": \"mentee\", \"is_active\": true}, {\"role\": \"mentee\", \"is_active\": true}, {\"role\": \"mentee\", \"is_active\": true}, {\"role\": \"mentee\", \"is_active\": false}, {\"role\": \"mentee\", \"is_active\": true}, {\"role\": \"mentee\", \"is_active\": true}, {\"role\": \"mentee\", \"is_active\": true}, {\"role\": \"mentee\", \"is_active\": true}, {\"role\": \"mentee\", \"is_active\": true}, {\"role\": \"mentee\", \"is_active\": false}, {\"role\": \"mentee\", \"is_active\": false}, {\"role\": \"mentee\", \"is_active\": true}, {\"role\": \"mentee\", \"is_active\": true}, {\"role\": \"mentee\", \"is_active\": true}, {\"role\": \"mentee\", \"is_active\": false}, {\"role\": \"mentee\", \"is_active\": true}, {\"role\": \"mentee\", \"is_active\": false}, {\"role\": \"mentee\", \"is_active\": true}, {\"role\": \"mentee\", \"is_active\": false}, {\"role\": \"mentee\", \"is_active\": true}, {\"role\": \"mentee\", \"is_active\": true}, {\"role\": \"mentee\", \"is_active\": true}, {\"role\": \"mentee\", \"is_active\": true}, {\"role\": \"mentee\", \"is_active\": true}, {\"role\": \"mentee\", \"is_active\": true}, {\"role\": \"mentee\", \"is_active\": true}, {\"role\": \"mentee\", \"is_active\": true}, {\"role\": \"mentee\", \"is_active\": true}, {\"role\": \"mentee\", \"is_active\": true}, {\"role\": \"mentee\", \"is_active\": true}, {\"role\": \"mentee\", \"is_active\": true}, {\"role\": \"mentee\", \"is_active\": true}, {\"role\": \"mentee\", \"is_active\": true}, {\"role\": \"mentee\", \"is_active\": false}, {\"role\": \"mentee\", \"is_active\": true}, {\"role\": \"mentee\", \"is_active\": true}, {\"role\": \"mentee\", \"is_active\": true}, {\"role\": \"mentee\", \"is_active\": true}, {\"role\": \"mentee\", \"is_active\": true}, {\"role\": \"mentee\", \"is_active\": true}, {\"role\": \"mentee\", \"is_active\": false}, {\"role\": \"mentee\", \"is_active\": true}, {\"role\": \"mentee\", \"is_active\": true}, {\"role\": \"mentee\", \"is_active\": true}, {\"role\": \"mentee\", \"is_active\": true}, {\"role\": \"mentee\", \"is_active\": true}, {\"role\": \"mentee\", \"is_active\": true}, {\"role\": \"mentee\", \"is_active\": true}, {\"role\": \"mentee\", \"is_active\": false}, {\"role\": \"mentee\", \"is_active\": true}, {\"role\": \"mentee\", \"is_active\": true}, {\"role\": \"mentee\", \"is_active\": true}, {\"role\": \"mentee\", \"is_active\": false}, {\"role\": \"mentee\", \"is_active\": true}, {\"role\": \"mentee\", \"is_active\": true}, {\"role\": \"mentee\", \"is_active\": false}, {\"role\": \"mentee\", \"is_active\": false}, {\"role\": \"mentee\", \"is_active\": false}, {\"role\": \"mentee\", \"is_active\": true}, {\"role\": \"mentee\", \"is_active\": true}, {\"role\": \"mentee\", \"is_active\": false}, {\"role\": \"mentee\", \"is_active\": false}, {\"role\": \"mentee\", \"is_active\": true}, {\"role\": \"mentee\", \"is_active\": true}, {\"role\": \"mentee\", \"is_active\": true}, {\"role\": \"mentee\", \"is_active\": true}, {\"role\": \"mentee\", \"is_active\": true}, {\"role\": \"mentee\", \"is_active\": true}, {\"role\": \"mentee\", \"is_active\": false}, {\"role\": \"mentee\", \"is_active\": true}, {\"role\": \"mentee\", \"is_active\": true}, {\"role\": \"mentee\", \"is_active\": true}, {\"role\": \"mentee\", \"is_active\": true}, {\"role\": \"mentee\", \"is_active\": true}, {\"role\": \"mentee\", \"is_active\": false}, {\"role\": \"mentee\", \"is_active\": true}, {\"role\": \"mentee\", \"is_active\": false}, {\"role\": \"mentee\", \"is_active\": true}, {\"role\": \"mentee\", \"is_active\": false}, {\"role\": \"mentee\", \"is_active\": true}, {\"role\": \"mentee\", \"is_active\": true}, {\"role\": \"mentee\", \"is_active\": true}, {\"role\": \"mentee\", \"is_active\": true}, {\"role\": \"mentee\", \"is_active\": true}, {\"role\": \"mentee\", \"is_active\": true}, {\"role\": \"mentee\", \"is_active\": false}, {\"role\": \"mentee\", \"is_active\": true}, {\"role\": \"mentee\", \"is_active\": false}, {\"role\": \"mentee\", \"is_active\": true}, {\"role\": \"mentee\", \"is_active\": true}, {\"role\": \"mentor\", \"is_active\": true}, {\"role\": \"mentor\", \"is_active\": true}, {\"role\": \"mentor\", \"is_active\": true}, {\"role\": \"mentor\", \"is_active\": true}, {\"role\": \"mentor\", \"is_active\": true}, {\"role\": \"mentor\", \"is_active\": true}, {\"role\": \"mentor\", \"is_active\": true}, {\"role\": \"mentor\", \"is_active\": true}, {\"role\": \"mentor\", \"is_active\": true}, {\"role\": \"mentor\", \"is_active\": true}, {\"role\": \"mentor\", \"is_active\": true}, {\"role\": \"mentor\", \"is_active\": true}, {\"role\": \"mentor\", \"is_active\": true}, {\"role\": \"mentor\", \"is_active\": true}, {\"role\": \"mentor\", \"is_active\": true}, {\"role\": \"mentor\", \"is_active\": true}, {\"role\": \"mentor\", \"is_active\": true}, {\"role\": \"mentor\", \"is_active\": true}, {\"role\": \"mentor\", \"is_active\": true}, {\"role\": \"mentor\", \"is_active\": true}]}}, {\"mode\": \"vega-lite\"});\n",
       "</script>"
      ],
      "text/plain": [
       "alt.Chart(...)"
      ]
     },
     "execution_count": 66,
     "metadata": {},
     "output_type": "execute_result"
    }
   ],
   "source": [
    "activity_vis"
   ]
  },
  {
   "cell_type": "code",
   "execution_count": null,
   "id": "f1812e82",
   "metadata": {},
   "outputs": [],
   "source": []
  }
 ],
 "metadata": {
  "kernelspec": {
   "display_name": "Python 3 (ipykernel)",
   "language": "python",
   "name": "python3"
  },
  "language_info": {
   "codemirror_mode": {
    "name": "ipython",
    "version": 3
   },
   "file_extension": ".py",
   "mimetype": "text/x-python",
   "name": "python",
   "nbconvert_exporter": "python",
   "pygments_lexer": "ipython3",
   "version": "3.8.0"
  }
 },
 "nbformat": 4,
 "nbformat_minor": 5
}
