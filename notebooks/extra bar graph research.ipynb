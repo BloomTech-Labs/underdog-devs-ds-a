{
 "cells": [
  {
   "cell_type": "code",
   "execution_count": 1,
   "id": "9445d6e9",
   "metadata": {},
   "outputs": [
    {
     "name": "stdout",
     "output_type": "stream",
     "text": [
      "C:\\Users\\New\\PycharmProjects\\underdog-devs-ds-a\n"
     ]
    }
   ],
   "source": [
    "%cd C:\\Users\\New\\PycharmProjects\\underdog-devs-ds-a\\"
   ]
  },
  {
   "cell_type": "code",
   "execution_count": 2,
   "id": "33ae8983",
   "metadata": {},
   "outputs": [],
   "source": [
    "#!dir"
   ]
  },
  {
   "cell_type": "code",
   "execution_count": 3,
   "id": "1eb07831",
   "metadata": {},
   "outputs": [],
   "source": [
    "import pandas as pd\n",
    "from altair import Chart, Tooltip, Color, X, Y\n",
    "from pandas import DataFrame"
   ]
  },
  {
   "cell_type": "code",
   "execution_count": 4,
   "id": "9406eec7",
   "metadata": {},
   "outputs": [],
   "source": [
    "from app.data import MongoDB"
   ]
  },
  {
   "cell_type": "code",
   "execution_count": 5,
   "id": "010ea204",
   "metadata": {},
   "outputs": [],
   "source": [
    "db = MongoDB()"
   ]
  },
  {
   "cell_type": "code",
   "execution_count": 6,
   "id": "002304d4",
   "metadata": {},
   "outputs": [
    {
     "data": {
      "text/plain": [
       "<app.data.MongoDB at 0x237eb1759a0>"
      ]
     },
     "execution_count": 6,
     "metadata": {},
     "output_type": "execute_result"
    }
   ],
   "source": [
    "db"
   ]
  },
  {
   "cell_type": "code",
   "execution_count": 7,
   "id": "dc494950",
   "metadata": {},
   "outputs": [],
   "source": [
    "mentee_referrals = pd.DataFrame(\n",
    "    db.projection('Mentees', {'is_active': True, 'validate_status': 'approved'}, {'referred_by': True}))"
   ]
  },
  {
   "cell_type": "code",
   "execution_count": 8,
   "id": "685563f1",
   "metadata": {},
   "outputs": [],
   "source": [
    "mentees = pd.DataFrame(db.read('Mentees'))"
   ]
  },
  {
   "cell_type": "code",
   "execution_count": 9,
   "id": "a4fe1c58",
   "metadata": {},
   "outputs": [],
   "source": [
    "mentees_activity = mentees.filter(['profile_id', 'is_active'])"
   ]
  },
  {
   "cell_type": "code",
   "execution_count": 10,
   "id": "db93d8c3",
   "metadata": {},
   "outputs": [],
   "source": [
    "mentees_activity.set_index('profile_id', inplace = True)"
   ]
  },
  {
   "cell_type": "code",
   "execution_count": 11,
   "id": "c29d2b0e",
   "metadata": {},
   "outputs": [],
   "source": [
    "mentees_activity['mentee_mentor'] = 'mentee'"
   ]
  },
  {
   "cell_type": "code",
   "execution_count": 12,
   "id": "e328ecd5",
   "metadata": {},
   "outputs": [
    {
     "data": {
      "text/html": [
       "<div>\n",
       "<style scoped>\n",
       "    .dataframe tbody tr th:only-of-type {\n",
       "        vertical-align: middle;\n",
       "    }\n",
       "\n",
       "    .dataframe tbody tr th {\n",
       "        vertical-align: top;\n",
       "    }\n",
       "\n",
       "    .dataframe thead th {\n",
       "        text-align: right;\n",
       "    }\n",
       "</style>\n",
       "<table border=\"1\" class=\"dataframe\">\n",
       "  <thead>\n",
       "    <tr style=\"text-align: right;\">\n",
       "      <th></th>\n",
       "      <th>is_active</th>\n",
       "      <th>mentee_mentor</th>\n",
       "    </tr>\n",
       "    <tr>\n",
       "      <th>profile_id</th>\n",
       "      <th></th>\n",
       "      <th></th>\n",
       "    </tr>\n",
       "  </thead>\n",
       "  <tbody>\n",
       "    <tr>\n",
       "      <th>44IeQRFl5413Yx20</th>\n",
       "      <td>True</td>\n",
       "      <td>mentee</td>\n",
       "    </tr>\n",
       "    <tr>\n",
       "      <th>703BY82qg008eNsk</th>\n",
       "      <td>True</td>\n",
       "      <td>mentee</td>\n",
       "    </tr>\n",
       "    <tr>\n",
       "      <th>IN766h0tJ5T2r60r</th>\n",
       "      <td>True</td>\n",
       "      <td>mentee</td>\n",
       "    </tr>\n",
       "    <tr>\n",
       "      <th>65Cyxxn25e52p10Y</th>\n",
       "      <td>False</td>\n",
       "      <td>mentee</td>\n",
       "    </tr>\n",
       "    <tr>\n",
       "      <th>n00A4OW856Wp66PX</th>\n",
       "      <td>True</td>\n",
       "      <td>mentee</td>\n",
       "    </tr>\n",
       "    <tr>\n",
       "      <th>...</th>\n",
       "      <td>...</td>\n",
       "      <td>...</td>\n",
       "    </tr>\n",
       "    <tr>\n",
       "      <th>m0BBRg7De1226h41</th>\n",
       "      <td>True</td>\n",
       "      <td>mentee</td>\n",
       "    </tr>\n",
       "    <tr>\n",
       "      <th>UQ5vv27Tv744s1J5</th>\n",
       "      <td>True</td>\n",
       "      <td>mentee</td>\n",
       "    </tr>\n",
       "    <tr>\n",
       "      <th>8Z6ye3Q1f7XzZ617</th>\n",
       "      <td>True</td>\n",
       "      <td>mentee</td>\n",
       "    </tr>\n",
       "    <tr>\n",
       "      <th>rCX4s2c725s22IQ3</th>\n",
       "      <td>False</td>\n",
       "      <td>mentee</td>\n",
       "    </tr>\n",
       "    <tr>\n",
       "      <th>1p14S751ZIL83uLt</th>\n",
       "      <td>True</td>\n",
       "      <td>mentee</td>\n",
       "    </tr>\n",
       "  </tbody>\n",
       "</table>\n",
       "<p>100 rows × 2 columns</p>\n",
       "</div>"
      ],
      "text/plain": [
       "                  is_active mentee_mentor\n",
       "profile_id                               \n",
       "44IeQRFl5413Yx20       True        mentee\n",
       "703BY82qg008eNsk       True        mentee\n",
       "IN766h0tJ5T2r60r       True        mentee\n",
       "65Cyxxn25e52p10Y      False        mentee\n",
       "n00A4OW856Wp66PX       True        mentee\n",
       "...                     ...           ...\n",
       "m0BBRg7De1226h41       True        mentee\n",
       "UQ5vv27Tv744s1J5       True        mentee\n",
       "8Z6ye3Q1f7XzZ617       True        mentee\n",
       "rCX4s2c725s22IQ3      False        mentee\n",
       "1p14S751ZIL83uLt       True        mentee\n",
       "\n",
       "[100 rows x 2 columns]"
      ]
     },
     "execution_count": 12,
     "metadata": {},
     "output_type": "execute_result"
    }
   ],
   "source": [
    "mentees_activity"
   ]
  },
  {
   "cell_type": "code",
   "execution_count": 13,
   "id": "3cb849c2",
   "metadata": {},
   "outputs": [],
   "source": [
    "mentors = pd.DataFrame(db.read('Mentors'))"
   ]
  },
  {
   "cell_type": "code",
   "execution_count": 14,
   "id": "c9d10b94",
   "metadata": {},
   "outputs": [],
   "source": [
    "mentors = mentors.query(\"first_name != 'string'\")"
   ]
  },
  {
   "cell_type": "code",
   "execution_count": 15,
   "id": "0c4c4930",
   "metadata": {},
   "outputs": [],
   "source": [
    "mentors_2 = mentors.filter(['profile_id', 'is_active'])"
   ]
  },
  {
   "cell_type": "code",
   "execution_count": 16,
   "id": "36fb946e",
   "metadata": {},
   "outputs": [],
   "source": [
    "mentors_2['mentee_mentor'] = 'mentor'"
   ]
  },
  {
   "cell_type": "code",
   "execution_count": 17,
   "id": "4ba6b133",
   "metadata": {},
   "outputs": [],
   "source": [
    "mentors_activity = mentors_2.set_index('profile_id')"
   ]
  },
  {
   "cell_type": "code",
   "execution_count": 22,
   "id": "92eb57bc",
   "metadata": {
    "scrolled": false
   },
   "outputs": [
    {
     "data": {
      "text/html": [
       "<div>\n",
       "<style scoped>\n",
       "    .dataframe tbody tr th:only-of-type {\n",
       "        vertical-align: middle;\n",
       "    }\n",
       "\n",
       "    .dataframe tbody tr th {\n",
       "        vertical-align: top;\n",
       "    }\n",
       "\n",
       "    .dataframe thead th {\n",
       "        text-align: right;\n",
       "    }\n",
       "</style>\n",
       "<table border=\"1\" class=\"dataframe\">\n",
       "  <thead>\n",
       "    <tr style=\"text-align: right;\">\n",
       "      <th></th>\n",
       "      <th>is_active</th>\n",
       "      <th>mentee_mentor</th>\n",
       "    </tr>\n",
       "    <tr>\n",
       "      <th>profile_id</th>\n",
       "      <th></th>\n",
       "      <th></th>\n",
       "    </tr>\n",
       "  </thead>\n",
       "  <tbody>\n",
       "    <tr>\n",
       "      <th>02S13RsUw2F1F6P7</th>\n",
       "      <td>True</td>\n",
       "      <td>mentor</td>\n",
       "    </tr>\n",
       "    <tr>\n",
       "      <th>A6N11YQ21vslq841</th>\n",
       "      <td>True</td>\n",
       "      <td>mentor</td>\n",
       "    </tr>\n",
       "    <tr>\n",
       "      <th>Nhu37070g1nM5sh7</th>\n",
       "      <td>True</td>\n",
       "      <td>mentor</td>\n",
       "    </tr>\n",
       "    <tr>\n",
       "      <th>S2X8Ln4kUy778E17</th>\n",
       "      <td>True</td>\n",
       "      <td>mentor</td>\n",
       "    </tr>\n",
       "    <tr>\n",
       "      <th>77KK63o7px6u03ZD</th>\n",
       "      <td>False</td>\n",
       "      <td>mentor</td>\n",
       "    </tr>\n",
       "    <tr>\n",
       "      <th>M58227A8Ut2hcb2k</th>\n",
       "      <td>True</td>\n",
       "      <td>mentor</td>\n",
       "    </tr>\n",
       "    <tr>\n",
       "      <th>0Zy0yG13R7ZV8t27</th>\n",
       "      <td>False</td>\n",
       "      <td>mentor</td>\n",
       "    </tr>\n",
       "    <tr>\n",
       "      <th>3W8kK627H827sfTq</th>\n",
       "      <td>True</td>\n",
       "      <td>mentor</td>\n",
       "    </tr>\n",
       "    <tr>\n",
       "      <th>C07J8832qla27TLC</th>\n",
       "      <td>True</td>\n",
       "      <td>mentor</td>\n",
       "    </tr>\n",
       "    <tr>\n",
       "      <th>p76078sYeei3c2I8</th>\n",
       "      <td>False</td>\n",
       "      <td>mentor</td>\n",
       "    </tr>\n",
       "    <tr>\n",
       "      <th>DJ56HPt07FH5661X</th>\n",
       "      <td>True</td>\n",
       "      <td>mentor</td>\n",
       "    </tr>\n",
       "    <tr>\n",
       "      <th>xym0227A8X421kVT</th>\n",
       "      <td>True</td>\n",
       "      <td>mentor</td>\n",
       "    </tr>\n",
       "    <tr>\n",
       "      <th>30qm50a1TUQ53Sg4</th>\n",
       "      <td>False</td>\n",
       "      <td>mentor</td>\n",
       "    </tr>\n",
       "    <tr>\n",
       "      <th>M517M2e5ouM216ap</th>\n",
       "      <td>True</td>\n",
       "      <td>mentor</td>\n",
       "    </tr>\n",
       "    <tr>\n",
       "      <th>338060ybLea0L6qa</th>\n",
       "      <td>True</td>\n",
       "      <td>mentor</td>\n",
       "    </tr>\n",
       "    <tr>\n",
       "      <th>66I4C338V8p4uoxA</th>\n",
       "      <td>True</td>\n",
       "      <td>mentor</td>\n",
       "    </tr>\n",
       "    <tr>\n",
       "      <th>I5O758Xn3V7F4mA6</th>\n",
       "      <td>True</td>\n",
       "      <td>mentor</td>\n",
       "    </tr>\n",
       "    <tr>\n",
       "      <th>M8EM6G44ZQOr4212</th>\n",
       "      <td>True</td>\n",
       "      <td>mentor</td>\n",
       "    </tr>\n",
       "  </tbody>\n",
       "</table>\n",
       "</div>"
      ],
      "text/plain": [
       "                  is_active mentee_mentor\n",
       "profile_id                               \n",
       "02S13RsUw2F1F6P7       True        mentor\n",
       "A6N11YQ21vslq841       True        mentor\n",
       "Nhu37070g1nM5sh7       True        mentor\n",
       "S2X8Ln4kUy778E17       True        mentor\n",
       "77KK63o7px6u03ZD      False        mentor\n",
       "M58227A8Ut2hcb2k       True        mentor\n",
       "0Zy0yG13R7ZV8t27      False        mentor\n",
       "3W8kK627H827sfTq       True        mentor\n",
       "C07J8832qla27TLC       True        mentor\n",
       "p76078sYeei3c2I8      False        mentor\n",
       "DJ56HPt07FH5661X       True        mentor\n",
       "xym0227A8X421kVT       True        mentor\n",
       "30qm50a1TUQ53Sg4      False        mentor\n",
       "M517M2e5ouM216ap       True        mentor\n",
       "338060ybLea0L6qa       True        mentor\n",
       "66I4C338V8p4uoxA       True        mentor\n",
       "I5O758Xn3V7F4mA6       True        mentor\n",
       "M8EM6G44ZQOr4212       True        mentor"
      ]
     },
     "execution_count": 22,
     "metadata": {},
     "output_type": "execute_result"
    }
   ],
   "source": [
    "mentors_activity"
   ]
  },
  {
   "cell_type": "code",
   "execution_count": 23,
   "id": "9b364a1e",
   "metadata": {},
   "outputs": [],
   "source": [
    "activity = pd.concat([mentees_activity, mentors_activity])"
   ]
  },
  {
   "cell_type": "code",
   "execution_count": 24,
   "id": "43032c23",
   "metadata": {},
   "outputs": [
    {
     "data": {
      "text/html": [
       "<div>\n",
       "<style scoped>\n",
       "    .dataframe tbody tr th:only-of-type {\n",
       "        vertical-align: middle;\n",
       "    }\n",
       "\n",
       "    .dataframe tbody tr th {\n",
       "        vertical-align: top;\n",
       "    }\n",
       "\n",
       "    .dataframe thead th {\n",
       "        text-align: right;\n",
       "    }\n",
       "</style>\n",
       "<table border=\"1\" class=\"dataframe\">\n",
       "  <thead>\n",
       "    <tr style=\"text-align: right;\">\n",
       "      <th></th>\n",
       "      <th>is_active</th>\n",
       "      <th>mentee_mentor</th>\n",
       "    </tr>\n",
       "    <tr>\n",
       "      <th>profile_id</th>\n",
       "      <th></th>\n",
       "      <th></th>\n",
       "    </tr>\n",
       "  </thead>\n",
       "  <tbody>\n",
       "    <tr>\n",
       "      <th>44IeQRFl5413Yx20</th>\n",
       "      <td>True</td>\n",
       "      <td>mentee</td>\n",
       "    </tr>\n",
       "    <tr>\n",
       "      <th>703BY82qg008eNsk</th>\n",
       "      <td>True</td>\n",
       "      <td>mentee</td>\n",
       "    </tr>\n",
       "    <tr>\n",
       "      <th>IN766h0tJ5T2r60r</th>\n",
       "      <td>True</td>\n",
       "      <td>mentee</td>\n",
       "    </tr>\n",
       "    <tr>\n",
       "      <th>65Cyxxn25e52p10Y</th>\n",
       "      <td>False</td>\n",
       "      <td>mentee</td>\n",
       "    </tr>\n",
       "    <tr>\n",
       "      <th>n00A4OW856Wp66PX</th>\n",
       "      <td>True</td>\n",
       "      <td>mentee</td>\n",
       "    </tr>\n",
       "    <tr>\n",
       "      <th>...</th>\n",
       "      <td>...</td>\n",
       "      <td>...</td>\n",
       "    </tr>\n",
       "    <tr>\n",
       "      <th>M517M2e5ouM216ap</th>\n",
       "      <td>True</td>\n",
       "      <td>mentor</td>\n",
       "    </tr>\n",
       "    <tr>\n",
       "      <th>338060ybLea0L6qa</th>\n",
       "      <td>True</td>\n",
       "      <td>mentor</td>\n",
       "    </tr>\n",
       "    <tr>\n",
       "      <th>66I4C338V8p4uoxA</th>\n",
       "      <td>True</td>\n",
       "      <td>mentor</td>\n",
       "    </tr>\n",
       "    <tr>\n",
       "      <th>I5O758Xn3V7F4mA6</th>\n",
       "      <td>True</td>\n",
       "      <td>mentor</td>\n",
       "    </tr>\n",
       "    <tr>\n",
       "      <th>M8EM6G44ZQOr4212</th>\n",
       "      <td>True</td>\n",
       "      <td>mentor</td>\n",
       "    </tr>\n",
       "  </tbody>\n",
       "</table>\n",
       "<p>118 rows × 2 columns</p>\n",
       "</div>"
      ],
      "text/plain": [
       "                  is_active mentee_mentor\n",
       "profile_id                               \n",
       "44IeQRFl5413Yx20       True        mentee\n",
       "703BY82qg008eNsk       True        mentee\n",
       "IN766h0tJ5T2r60r       True        mentee\n",
       "65Cyxxn25e52p10Y      False        mentee\n",
       "n00A4OW856Wp66PX       True        mentee\n",
       "...                     ...           ...\n",
       "M517M2e5ouM216ap       True        mentor\n",
       "338060ybLea0L6qa       True        mentor\n",
       "66I4C338V8p4uoxA       True        mentor\n",
       "I5O758Xn3V7F4mA6       True        mentor\n",
       "M8EM6G44ZQOr4212       True        mentor\n",
       "\n",
       "[118 rows x 2 columns]"
      ]
     },
     "execution_count": 24,
     "metadata": {},
     "output_type": "execute_result"
    }
   ],
   "source": [
    "activity"
   ]
  },
  {
   "cell_type": "code",
   "execution_count": 25,
   "id": "b68f650c",
   "metadata": {},
   "outputs": [],
   "source": [
    "meetings_df = pd.DataFrame(db.read(\"Meetings\"))"
   ]
  },
  {
   "cell_type": "code",
   "execution_count": 26,
   "id": "f5a1653e",
   "metadata": {},
   "outputs": [],
   "source": [
    "meetings_missed = meetings_df['meeting_missed_by_mentee']"
   ]
  },
  {
   "cell_type": "code",
   "execution_count": 27,
   "id": "bd23cfef",
   "metadata": {},
   "outputs": [
    {
     "data": {
      "text/plain": [
       "0        Missed\n",
       "1        Missed\n",
       "2        Missed\n",
       "3      Attended\n",
       "4        Missed\n",
       "         ...   \n",
       "145    Attended\n",
       "146      Missed\n",
       "147      Missed\n",
       "148    Attended\n",
       "149      Missed\n",
       "Name: meeting_missed_by_mentee, Length: 150, dtype: object"
      ]
     },
     "execution_count": 27,
     "metadata": {},
     "output_type": "execute_result"
    }
   ],
   "source": [
    "meetings_missed"
   ]
  },
  {
   "cell_type": "code",
   "execution_count": null,
   "id": "213ea7ca",
   "metadata": {},
   "outputs": [],
   "source": []
  }
 ],
 "metadata": {
  "kernelspec": {
   "display_name": "Python 3 (ipykernel)",
   "language": "python",
   "name": "python3"
  },
  "language_info": {
   "codemirror_mode": {
    "name": "ipython",
    "version": 3
   },
   "file_extension": ".py",
   "mimetype": "text/x-python",
   "name": "python",
   "nbconvert_exporter": "python",
   "pygments_lexer": "ipython3",
   "version": "3.8.0"
  }
 },
 "nbformat": 4,
 "nbformat_minor": 5
}
