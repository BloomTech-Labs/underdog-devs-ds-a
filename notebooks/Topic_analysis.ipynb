{
 "cells": [
  {
   "cell_type": "code",
   "execution_count": 1,
   "metadata": {
    "pycharm": {
     "name": "#%%\n"
    }
   },
   "outputs": [
    {
     "name": "stderr",
     "output_type": "stream",
     "text": [
      "C:\\Users\\Scorpion\\.conda\\envs\\tf\\lib\\site-packages\\gensim\\similarities\\__init__.py:15: UserWarning: The gensim.similarities.levenshtein submodule is disabled, because the optional Levenshtein package <https://pypi.org/project/python-Levenshtein/> is unavailable. Install Levenhstein (e.g. `pip install python-Levenshtein`) to suppress this warning.\n",
      "  warnings.warn(msg)\n"
     ]
    }
   ],
   "source": [
    "# General Imports\n",
    "from dataclasses import dataclass\n",
    "from essential_generators import DocumentGenerator\n",
    "import pandas as pd\n",
    "import random\n",
    "\n",
    "# NLTK Imports\n",
    "import nltk\n",
    "from nltk.tokenize import word_tokenize\n",
    "from nltk.corpus import stopwords\n",
    "from nltk.stem import WordNetLemmatizer\n",
    "\n",
    "# Gemsin Imports\n",
    "from gensim.models.ldamodel import LdaModel\n",
    "from gensim.corpora.dictionary import Dictionary"
   ]
  },
  {
   "cell_type": "code",
   "execution_count": 2,
   "metadata": {
    "pycharm": {
     "name": "#%%\n"
    }
   },
   "outputs": [],
   "source": [
    "# Downloads - uncomment to download\n",
    "#nltk.download(['wordnet', 'stopwords', 'punkt', 'omw-1.4'])"
   ]
  },
  {
   "cell_type": "code",
   "execution_count": 3,
   "metadata": {
    "pycharm": {
     "name": "#%%\n"
    }
   },
   "outputs": [],
   "source": [
    "# Defining the dataclass\n",
    "@dataclass\n",
    "class Meeting:\n",
    "    meeting_notes : str"
   ]
  },
  {
   "cell_type": "code",
   "execution_count": 14,
   "metadata": {
    "pycharm": {
     "name": "#%%\n"
    }
   },
   "outputs": [],
   "source": [
    "def Create_table(Amount):\n",
    "    \"\"\"Creates a mock table of data that will be passed through\n",
    "    the topic analysis function.\n",
    "    \n",
    "    Args:\n",
    "        Ammount (int): The amount of mock entries you would like\n",
    "        to generate\n",
    "        \n",
    "        Input Example:\n",
    "        Create_table(100)\n",
    "    \n",
    "    Returns:\n",
    "        Table consisting of:\n",
    "        Meeting_notes: (String)\n",
    "    \"\"\"\n",
    "    \n",
    "    # \n",
    "    gen = DocumentGenerator()\n",
    "\n",
    "    meeting = []\n",
    "    for x in range(Amount):\n",
    "        \n",
    "        entry = Meeting(str(gen.sentence()))\n",
    "        meeting += [entry]\n",
    "    return meeting"
   ]
  },
  {
   "cell_type": "code",
   "execution_count": 11,
   "metadata": {
    "pycharm": {
     "name": "#%%\n"
    }
   },
   "outputs": [],
   "source": [
    "def topic_function(meeting_notes, num_topic):\n",
    "    \"\"\"Takes the supplied meeting_notes, and\n",
    "    returns the number of most probable topics\n",
    "    (defined by num_topic).\"\"\"\n",
    "    \n",
    "    temp = []\n",
    "    \n",
    "    # Custom stopwords to be removed\n",
    "    stops = ['ha', 'got']\n",
    "    \n",
    "    # Lemmatize, and remove stop words\n",
    "    for t in word_tokenize(meeting_notes):\n",
    "        if t.isalpha():\n",
    "            t = WordNetLemmatizer().lemmatize(t.lower())\n",
    "            if t not in set(stopwords.words('english') + stops):\n",
    "                temp.append(t)\n",
    "    \n",
    "    # Takes temp and puts it inside another list\n",
    "    temp2 = []\n",
    "    temp2.append(temp)\n",
    "    \n",
    "    # Create corpus\n",
    "    corpus_dict = Dictionary(temp2)\n",
    "    corpus = [corpus_dict.doc2bow(x) for x in temp2]\n",
    "    \n",
    "    # Create model\n",
    "    lda = LdaModel(corpus, num_topics=num_topic,\n",
    "                   random_state=69,\n",
    "                   id2word=corpus_dict)\n",
    "    \n",
    "    # Match lda output to original word\n",
    "    _, topic = zip(*lda.id2word.items())\n",
    "    \n",
    "    # Return predicted topic\n",
    "    if num_topic == 1:\n",
    "        return (topic[0])\n",
    "    else:\n",
    "        return (topic[0:num_topic])"
   ]
  },
  {
   "cell_type": "code",
   "execution_count": 17,
   "metadata": {
    "pycharm": {
     "name": "#%%\n"
    }
   },
   "outputs": [
    {
     "data": {
      "text/html": [
       "<div>\n",
       "<style scoped>\n",
       "    .dataframe tbody tr th:only-of-type {\n",
       "        vertical-align: middle;\n",
       "    }\n",
       "\n",
       "    .dataframe tbody tr th {\n",
       "        vertical-align: top;\n",
       "    }\n",
       "\n",
       "    .dataframe thead th {\n",
       "        text-align: right;\n",
       "    }\n",
       "</style>\n",
       "<table border=\"1\" class=\"dataframe\">\n",
       "  <thead>\n",
       "    <tr style=\"text-align: right;\">\n",
       "      <th></th>\n",
       "      <th>meeting_notes</th>\n",
       "      <th>topic</th>\n",
       "    </tr>\n",
       "  </thead>\n",
       "  <tbody>\n",
       "    <tr>\n",
       "      <th>0</th>\n",
       "      <td>His fables, rotation, axial tilt, and most div...</td>\n",
       "      <td>(axial, diversified, fable)</td>\n",
       "    </tr>\n",
       "    <tr>\n",
       "      <th>1</th>\n",
       "      <td>Into, a independence (1810–1818.</td>\n",
       "      <td>(independence,)</td>\n",
       "    </tr>\n",
       "    <tr>\n",
       "      <th>2</th>\n",
       "      <td>The foundation is through hashtags. With the</td>\n",
       "      <td>(foundation, hashtags)</td>\n",
       "    </tr>\n",
       "    <tr>\n",
       "      <th>3</th>\n",
       "      <td>And stress Carolina parakeet, lived</td>\n",
       "      <td>(carolina, lived, parakeet)</td>\n",
       "    </tr>\n",
       "    <tr>\n",
       "      <th>4</th>\n",
       "      <td>The other, both increase the population lives ...</td>\n",
       "      <td>(egyptian, increase, life)</td>\n",
       "    </tr>\n",
       "    <tr>\n",
       "      <th>5</th>\n",
       "      <td>Circumstance. See almost 40</td>\n",
       "      <td>(almost, circumstance, see)</td>\n",
       "    </tr>\n",
       "    <tr>\n",
       "      <th>6</th>\n",
       "      <td>Climate action.\" their profiles, so that the e...</td>\n",
       "      <td>(action, climate, experimenter)</td>\n",
       "    </tr>\n",
       "    <tr>\n",
       "      <th>7</th>\n",
       "      <td>Be mathematically 1977, the ERP was completely...</td>\n",
       "      <td>(completely, defeated, erp)</td>\n",
       "    </tr>\n",
       "    <tr>\n",
       "      <th>8</th>\n",
       "      <td>And timely reaching zero net per capita income...</td>\n",
       "      <td>(caput, income, net)</td>\n",
       "    </tr>\n",
       "    <tr>\n",
       "      <th>9</th>\n",
       "      <td>Neighbours. Domestically, Championship. Bullfi...</td>\n",
       "      <td>(bullfighting, championship, charles)</td>\n",
       "    </tr>\n",
       "  </tbody>\n",
       "</table>\n",
       "</div>"
      ],
      "text/plain": [
       "                                       meeting_notes  \\\n",
       "0  His fables, rotation, axial tilt, and most div...   \n",
       "1                   Into, a independence (1810–1818.   \n",
       "2       The foundation is through hashtags. With the   \n",
       "3                And stress Carolina parakeet, lived   \n",
       "4  The other, both increase the population lives ...   \n",
       "5                        Circumstance. See almost 40   \n",
       "6  Climate action.\" their profiles, so that the e...   \n",
       "7  Be mathematically 1977, the ERP was completely...   \n",
       "8  And timely reaching zero net per capita income...   \n",
       "9  Neighbours. Domestically, Championship. Bullfi...   \n",
       "\n",
       "                                   topic  \n",
       "0            (axial, diversified, fable)  \n",
       "1                        (independence,)  \n",
       "2                 (foundation, hashtags)  \n",
       "3            (carolina, lived, parakeet)  \n",
       "4             (egyptian, increase, life)  \n",
       "5            (almost, circumstance, see)  \n",
       "6        (action, climate, experimenter)  \n",
       "7            (completely, defeated, erp)  \n",
       "8                   (caput, income, net)  \n",
       "9  (bullfighting, championship, charles)  "
      ]
     },
     "execution_count": 17,
     "metadata": {},
     "output_type": "execute_result"
    }
   ],
   "source": [
    "# Number of topics to append\n",
    "num_topic = 3\n",
    "\n",
    "# Generate mock table of meeting notes\n",
    "meeting_list = pd.DataFrame(Create_table(100))\n",
    "\n",
    "# Call the topic function. Appends predicted topic\n",
    "meeting_list['topic'] = meeting_list.apply(lambda row: topic_function(row.meeting_notes, num_topic), axis=1)\n",
    "\n",
    "meeting_list.head(10)"
   ]
  },
  {
   "cell_type": "code",
   "execution_count": null,
   "metadata": {
    "pycharm": {
     "name": "#%%\n"
    }
   },
   "outputs": [],
   "source": []
  }
 ],
 "metadata": {
  "interpreter": {
   "hash": "ab66dc173f620175539333e74b7774f606c6a75c58ed6ab1b01496e19722f0df"
  },
  "kernelspec": {
   "display_name": "Python 3.7.11 ('tf')",
   "language": "python",
   "name": "python3"
  },
  "language_info": {
   "codemirror_mode": {
    "name": "ipython",
    "version": 3
   },
   "file_extension": ".py",
   "mimetype": "text/x-python",
   "name": "python",
   "nbconvert_exporter": "python",
   "pygments_lexer": "ipython3",
   "version": "3.7.11"
  },
  "orig_nbformat": 4
 },
 "nbformat": 4,
 "nbformat_minor": 2
}