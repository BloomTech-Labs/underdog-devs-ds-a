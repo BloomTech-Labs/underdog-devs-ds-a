{
 "cells": [
  {
   "cell_type": "code",
   "execution_count": 37,
   "outputs": [],
   "source": [
    "from altair import Chart, Color, Theta, Tooltip\n",
    "from pandas import DataFrame\n",
    "\n",
    "from app.data import MongoDB\n"
   ],
   "metadata": {
    "collapsed": false,
    "pycharm": {
     "name": "#%%\n"
    }
   }
  },
  {
   "cell_type": "code",
   "execution_count": 38,
   "outputs": [],
   "source": [
    "DB = MongoDB()\n"
   ],
   "metadata": {
    "collapsed": false,
    "pycharm": {
     "name": "#%%\n"
    }
   }
  },
  {
   "cell_type": "code",
   "execution_count": 39,
   "outputs": [],
   "source": [
    "mentors = DB.read(\"Mentors\", {\n",
    "    \"validate_status\": \"approved\",\n",
    "    \"is_active\": True,\n",
    "    \"accepting_new_mentees\": True,\n",
    "})\n"
   ],
   "metadata": {
    "collapsed": false,
    "pycharm": {
     "name": "#%%\n"
    }
   }
  },
  {
   "cell_type": "code",
   "execution_count": 40,
   "outputs": [
    {
     "data": {
      "text/plain": "                                     tech_stack\n0                           [iOS, Data Science]\n1                                [Design UI/UX]\n2  [Design UI/UX, Career Development, Frontend]\n3            [Design UI/UX, Career Development]\n4             [Design UI/UX, iOS, Data Science]\n5             [Data Science, Android, Frontend]\n6       [Career Development, iOS, Data Science]\n7                  [Design UI/UX, iOS, Backend]",
      "text/html": "<div>\n<style scoped>\n    .dataframe tbody tr th:only-of-type {\n        vertical-align: middle;\n    }\n\n    .dataframe tbody tr th {\n        vertical-align: top;\n    }\n\n    .dataframe thead th {\n        text-align: right;\n    }\n</style>\n<table border=\"1\" class=\"dataframe\">\n  <thead>\n    <tr style=\"text-align: right;\">\n      <th></th>\n      <th>tech_stack</th>\n    </tr>\n  </thead>\n  <tbody>\n    <tr>\n      <th>0</th>\n      <td>[iOS, Data Science]</td>\n    </tr>\n    <tr>\n      <th>1</th>\n      <td>[Design UI/UX]</td>\n    </tr>\n    <tr>\n      <th>2</th>\n      <td>[Design UI/UX, Career Development, Frontend]</td>\n    </tr>\n    <tr>\n      <th>3</th>\n      <td>[Design UI/UX, Career Development]</td>\n    </tr>\n    <tr>\n      <th>4</th>\n      <td>[Design UI/UX, iOS, Data Science]</td>\n    </tr>\n    <tr>\n      <th>5</th>\n      <td>[Data Science, Android, Frontend]</td>\n    </tr>\n    <tr>\n      <th>6</th>\n      <td>[Career Development, iOS, Data Science]</td>\n    </tr>\n    <tr>\n      <th>7</th>\n      <td>[Design UI/UX, iOS, Backend]</td>\n    </tr>\n  </tbody>\n</table>\n</div>"
     },
     "execution_count": 40,
     "metadata": {},
     "output_type": "execute_result"
    }
   ],
   "source": [
    "df = DataFrame(mentors)[[\"tech_stack\"]]\n",
    "df\n"
   ],
   "metadata": {
    "collapsed": false,
    "pycharm": {
     "name": "#%%\n"
    }
   }
  },
  {
   "cell_type": "code",
   "execution_count": 41,
   "outputs": [
    {
     "data": {
      "text/plain": "pandas.core.frame.DataFrame"
     },
     "execution_count": 41,
     "metadata": {},
     "output_type": "execute_result"
    }
   ],
   "source": [
    "type(df)"
   ],
   "metadata": {
    "collapsed": false,
    "pycharm": {
     "name": "#%%\n"
    }
   }
  },
  {
   "cell_type": "code",
   "execution_count": 43,
   "outputs": [
    {
     "data": {
      "text/plain": "            tech_stack\n0                  iOS\n1         Data Science\n2         Design UI/UX\n3         Design UI/UX\n4   Career Development\n5             Frontend\n6         Design UI/UX\n7   Career Development\n8         Design UI/UX\n9                  iOS\n10        Data Science\n11        Data Science\n12             Android\n13            Frontend\n14  Career Development\n15                 iOS\n16        Data Science\n17        Design UI/UX\n18                 iOS\n19             Backend",
      "text/html": "<div>\n<style scoped>\n    .dataframe tbody tr th:only-of-type {\n        vertical-align: middle;\n    }\n\n    .dataframe tbody tr th {\n        vertical-align: top;\n    }\n\n    .dataframe thead th {\n        text-align: right;\n    }\n</style>\n<table border=\"1\" class=\"dataframe\">\n  <thead>\n    <tr style=\"text-align: right;\">\n      <th></th>\n      <th>tech_stack</th>\n    </tr>\n  </thead>\n  <tbody>\n    <tr>\n      <th>0</th>\n      <td>iOS</td>\n    </tr>\n    <tr>\n      <th>1</th>\n      <td>Data Science</td>\n    </tr>\n    <tr>\n      <th>2</th>\n      <td>Design UI/UX</td>\n    </tr>\n    <tr>\n      <th>3</th>\n      <td>Design UI/UX</td>\n    </tr>\n    <tr>\n      <th>4</th>\n      <td>Career Development</td>\n    </tr>\n    <tr>\n      <th>5</th>\n      <td>Frontend</td>\n    </tr>\n    <tr>\n      <th>6</th>\n      <td>Design UI/UX</td>\n    </tr>\n    <tr>\n      <th>7</th>\n      <td>Career Development</td>\n    </tr>\n    <tr>\n      <th>8</th>\n      <td>Design UI/UX</td>\n    </tr>\n    <tr>\n      <th>9</th>\n      <td>iOS</td>\n    </tr>\n    <tr>\n      <th>10</th>\n      <td>Data Science</td>\n    </tr>\n    <tr>\n      <th>11</th>\n      <td>Data Science</td>\n    </tr>\n    <tr>\n      <th>12</th>\n      <td>Android</td>\n    </tr>\n    <tr>\n      <th>13</th>\n      <td>Frontend</td>\n    </tr>\n    <tr>\n      <th>14</th>\n      <td>Career Development</td>\n    </tr>\n    <tr>\n      <th>15</th>\n      <td>iOS</td>\n    </tr>\n    <tr>\n      <th>16</th>\n      <td>Data Science</td>\n    </tr>\n    <tr>\n      <th>17</th>\n      <td>Design UI/UX</td>\n    </tr>\n    <tr>\n      <th>18</th>\n      <td>iOS</td>\n    </tr>\n    <tr>\n      <th>19</th>\n      <td>Backend</td>\n    </tr>\n  </tbody>\n</table>\n</div>"
     },
     "execution_count": 43,
     "metadata": {},
     "output_type": "execute_result"
    }
   ],
   "source": [
    "df = df.explode(ignore_index=True, column=\"tech_stack\")\n",
    "df"
   ],
   "metadata": {
    "collapsed": false,
    "pycharm": {
     "name": "#%%\n"
    }
   }
  },
  {
   "cell_type": "code",
   "execution_count": 44,
   "outputs": [
    {
     "data": {
      "text/plain": "pandas.core.frame.DataFrame"
     },
     "execution_count": 44,
     "metadata": {},
     "output_type": "execute_result"
    }
   ],
   "source": [
    "type(df)"
   ],
   "metadata": {
    "collapsed": false,
    "pycharm": {
     "name": "#%%\n"
    }
   }
  },
  {
   "cell_type": "code",
   "execution_count": 65,
   "outputs": [
    {
     "data": {
      "text/html": "\n<div id=\"altair-viz-f13e638aadf94b7d87d2b94e30ae9312\"></div>\n<script type=\"text/javascript\">\n  var VEGA_DEBUG = (typeof VEGA_DEBUG == \"undefined\") ? {} : VEGA_DEBUG;\n  (function(spec, embedOpt){\n    let outputDiv = document.currentScript.previousElementSibling;\n    if (outputDiv.id !== \"altair-viz-f13e638aadf94b7d87d2b94e30ae9312\") {\n      outputDiv = document.getElementById(\"altair-viz-f13e638aadf94b7d87d2b94e30ae9312\");\n    }\n    const paths = {\n      \"vega\": \"https://cdn.jsdelivr.net/npm//vega@5?noext\",\n      \"vega-lib\": \"https://cdn.jsdelivr.net/npm//vega-lib?noext\",\n      \"vega-lite\": \"https://cdn.jsdelivr.net/npm//vega-lite@4.17.0?noext\",\n      \"vega-embed\": \"https://cdn.jsdelivr.net/npm//vega-embed@6?noext\",\n    };\n\n    function maybeLoadScript(lib, version) {\n      var key = `${lib.replace(\"-\", \"\")}_version`;\n      return (VEGA_DEBUG[key] == version) ?\n        Promise.resolve(paths[lib]) :\n        new Promise(function(resolve, reject) {\n          var s = document.createElement('script');\n          document.getElementsByTagName(\"head\")[0].appendChild(s);\n          s.async = true;\n          s.onload = () => {\n            VEGA_DEBUG[key] = version;\n            return resolve(paths[lib]);\n          };\n          s.onerror = () => reject(`Error loading script: ${paths[lib]}`);\n          s.src = paths[lib];\n        });\n    }\n\n    function showError(err) {\n      outputDiv.innerHTML = `<div class=\"error\" style=\"color:red;\">${err}</div>`;\n      throw err;\n    }\n\n    function displayChart(vegaEmbed) {\n      vegaEmbed(outputDiv, spec, embedOpt)\n        .catch(err => showError(`Javascript Error: ${err.message}<br>This usually means there's a typo in your chart specification. See the javascript console for the full traceback.`));\n    }\n\n    if(typeof define === \"function\" && define.amd) {\n      requirejs.config({paths});\n      require([\"vega-embed\"], displayChart, err => showError(`Error loading script: ${err.message}`));\n    } else {\n      maybeLoadScript(\"vega\", \"5\")\n        .then(() => maybeLoadScript(\"vega-lite\", \"4.17.0\"))\n        .then(() => maybeLoadScript(\"vega-embed\", \"6\"))\n        .catch(showError)\n        .then(() => displayChart(vegaEmbed));\n    }\n  })({\"config\": {\"view\": {\"continuousWidth\": 400, \"continuousHeight\": 300, \"stroke\": \"#FFF\"}, \"legend\": {\"padding\": 24}, \"title\": {\"fontSize\": 20, \"offset\": 24}}, \"data\": {\"name\": \"data-30930ef642c46ce9f4955a752f0538be\"}, \"mark\": {\"type\": \"arc\", \"innerRadius\": 80}, \"encoding\": {\"color\": {\"field\": \"tech_stack\", \"type\": \"nominal\"}, \"theta\": {\"aggregate\": \"count\", \"type\": \"quantitative\"}, \"tooltip\": [{\"field\": \"tech_stack\", \"type\": \"nominal\"}, {\"aggregate\": \"count\", \"type\": \"quantitative\"}]}, \"height\": 400, \"padding\": 24, \"title\": \"Mentor Tech Stack\", \"width\": 480, \"$schema\": \"https://vega.github.io/schema/vega-lite/v4.17.0.json\", \"datasets\": {\"data-30930ef642c46ce9f4955a752f0538be\": [{\"tech_stack\": \"iOS\"}, {\"tech_stack\": \"Data Science\"}, {\"tech_stack\": \"Design UI/UX\"}, {\"tech_stack\": \"Design UI/UX\"}, {\"tech_stack\": \"Career Development\"}, {\"tech_stack\": \"Frontend\"}, {\"tech_stack\": \"Design UI/UX\"}, {\"tech_stack\": \"Career Development\"}, {\"tech_stack\": \"Design UI/UX\"}, {\"tech_stack\": \"iOS\"}, {\"tech_stack\": \"Data Science\"}, {\"tech_stack\": \"Data Science\"}, {\"tech_stack\": \"Android\"}, {\"tech_stack\": \"Frontend\"}, {\"tech_stack\": \"Career Development\"}, {\"tech_stack\": \"iOS\"}, {\"tech_stack\": \"Data Science\"}, {\"tech_stack\": \"Design UI/UX\"}, {\"tech_stack\": \"iOS\"}, {\"tech_stack\": \"Backend\"}]}}, {\"mode\": \"vega-lite\"});\n</script>",
      "text/plain": "alt.Chart(...)"
     },
     "execution_count": 65,
     "metadata": {},
     "output_type": "execute_result"
    }
   ],
   "source": [
    "column = \"tech_stack\"\n",
    "chart = Chart(\n",
    "    df,\n",
    "    title=\"Mentor Tech Stack\"\n",
    ").mark_arc(innerRadius=80).encode(\n",
    "    color=Color(column),\n",
    "    theta=\"count()\",\n",
    "    tooltip=Tooltip([column, \"count()\"]),\n",
    ").properties(\n",
    "    width=480,\n",
    "    height=400,\n",
    "    padding=24,\n",
    ").configure(\n",
    "    legend={\"padding\": 24},\n",
    "    title={\"fontSize\": 20, \"offset\": 24},\n",
    "    view={\"stroke\": \"#FFF\"},\n",
    ")\n",
    "chart"
   ],
   "metadata": {
    "collapsed": false,
    "pycharm": {
     "name": "#%%\n"
    }
   }
  },
  {
   "cell_type": "code",
   "execution_count": null,
   "outputs": [],
   "source": [],
   "metadata": {
    "collapsed": false,
    "pycharm": {
     "name": "#%%\n"
    }
   }
  }
 ],
 "metadata": {
  "kernelspec": {
   "display_name": "Python 3",
   "language": "python",
   "name": "python3"
  },
  "language_info": {
   "codemirror_mode": {
    "name": "ipython",
    "version": 2
   },
   "file_extension": ".py",
   "mimetype": "text/x-python",
   "name": "python",
   "nbconvert_exporter": "python",
   "pygments_lexer": "ipython2",
   "version": "2.7.6"
  }
 },
 "nbformat": 4,
 "nbformat_minor": 0
}