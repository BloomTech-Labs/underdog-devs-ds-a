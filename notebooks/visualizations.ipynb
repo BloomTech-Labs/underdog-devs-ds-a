{
 "cells": [
  {
   "cell_type": "code",
   "execution_count": 128,
   "outputs": [],
   "source": [
    "from altair import Chart, Color, Tooltip, X, Y\n",
    "from pandas import DataFrame\n",
    "\n",
    "from app.data import MongoDB\n"
   ],
   "metadata": {
    "collapsed": false,
    "pycharm": {
     "name": "#%%\n"
    }
   }
  },
  {
   "cell_type": "code",
   "execution_count": 112,
   "outputs": [],
   "source": [
    "def pie_chart(df, column, title):\n",
    "    chart = Chart(\n",
    "        df,\n",
    "        title=title,\n",
    "    ).mark_arc(innerRadius=80).encode(\n",
    "        color=Color(column),\n",
    "        theta=\"count()\",\n",
    "        tooltip=Tooltip([column, \"count()\"]),\n",
    "    ).properties(\n",
    "        width=480,\n",
    "        height=400,\n",
    "        padding=24,\n",
    "    ).configure(\n",
    "        legend={\"padding\": 24},\n",
    "        title={\"fontSize\": 20, \"offset\": 24},\n",
    "        view={\"stroke\": \"#FFF\"},\n",
    "    )\n",
    "    return chart"
   ],
   "metadata": {
    "collapsed": false,
    "pycharm": {
     "name": "#%%\n"
    }
   }
  },
  {
   "cell_type": "code",
   "execution_count": 113,
   "outputs": [],
   "source": [
    "DB = MongoDB()\n"
   ],
   "metadata": {
    "collapsed": false,
    "pycharm": {
     "name": "#%%\n"
    }
   }
  },
  {
   "cell_type": "code",
   "execution_count": 114,
   "outputs": [],
   "source": [
    "mentors = DB.projection(\"Mentors\", {\n",
    "    \"validate_status\": \"approved\",\n",
    "    \"is_active\": True,\n",
    "    \"accepting_new_mentees\": True,\n",
    "}, {\"tech_stack\": True})\n"
   ],
   "metadata": {
    "collapsed": false,
    "pycharm": {
     "name": "#%%\n"
    }
   }
  },
  {
   "cell_type": "code",
   "execution_count": 115,
   "outputs": [],
   "source": [
    "mentors = DataFrame(mentors)\n"
   ],
   "metadata": {
    "collapsed": false,
    "pycharm": {
     "name": "#%%\n"
    }
   }
  },
  {
   "cell_type": "code",
   "execution_count": 116,
   "outputs": [],
   "source": [
    "mentors = mentors.explode(ignore_index=True, column=\"tech_stack\")\n"
   ],
   "metadata": {
    "collapsed": false,
    "pycharm": {
     "name": "#%%\n"
    }
   }
  },
  {
   "cell_type": "code",
   "execution_count": 149,
   "outputs": [
    {
     "data": {
      "text/html": "\n<div id=\"altair-viz-f424165fdcbb44d9ac346e31d57f57eb\"></div>\n<script type=\"text/javascript\">\n  var VEGA_DEBUG = (typeof VEGA_DEBUG == \"undefined\") ? {} : VEGA_DEBUG;\n  (function(spec, embedOpt){\n    let outputDiv = document.currentScript.previousElementSibling;\n    if (outputDiv.id !== \"altair-viz-f424165fdcbb44d9ac346e31d57f57eb\") {\n      outputDiv = document.getElementById(\"altair-viz-f424165fdcbb44d9ac346e31d57f57eb\");\n    }\n    const paths = {\n      \"vega\": \"https://cdn.jsdelivr.net/npm//vega@5?noext\",\n      \"vega-lib\": \"https://cdn.jsdelivr.net/npm//vega-lib?noext\",\n      \"vega-lite\": \"https://cdn.jsdelivr.net/npm//vega-lite@4.17.0?noext\",\n      \"vega-embed\": \"https://cdn.jsdelivr.net/npm//vega-embed@6?noext\",\n    };\n\n    function maybeLoadScript(lib, version) {\n      var key = `${lib.replace(\"-\", \"\")}_version`;\n      return (VEGA_DEBUG[key] == version) ?\n        Promise.resolve(paths[lib]) :\n        new Promise(function(resolve, reject) {\n          var s = document.createElement('script');\n          document.getElementsByTagName(\"head\")[0].appendChild(s);\n          s.async = true;\n          s.onload = () => {\n            VEGA_DEBUG[key] = version;\n            return resolve(paths[lib]);\n          };\n          s.onerror = () => reject(`Error loading script: ${paths[lib]}`);\n          s.src = paths[lib];\n        });\n    }\n\n    function showError(err) {\n      outputDiv.innerHTML = `<div class=\"error\" style=\"color:red;\">${err}</div>`;\n      throw err;\n    }\n\n    function displayChart(vegaEmbed) {\n      vegaEmbed(outputDiv, spec, embedOpt)\n        .catch(err => showError(`Javascript Error: ${err.message}<br>This usually means there's a typo in your chart specification. See the javascript console for the full traceback.`));\n    }\n\n    if(typeof define === \"function\" && define.amd) {\n      requirejs.config({paths});\n      require([\"vega-embed\"], displayChart, err => showError(`Error loading script: ${err.message}`));\n    } else {\n      maybeLoadScript(\"vega\", \"5\")\n        .then(() => maybeLoadScript(\"vega-lite\", \"4.17.0\"))\n        .then(() => maybeLoadScript(\"vega-embed\", \"6\"))\n        .catch(showError)\n        .then(() => displayChart(vegaEmbed));\n    }\n  })({\"config\": {\"view\": {\"continuousWidth\": 400, \"continuousHeight\": 300, \"stroke\": \"#FFF\"}, \"legend\": {\"padding\": 24}, \"title\": {\"fontSize\": 20, \"offset\": 24}}, \"data\": {\"name\": \"data-90e8e8624718e7932569a7edc068f517\"}, \"mark\": {\"type\": \"arc\", \"innerRadius\": 80}, \"encoding\": {\"color\": {\"field\": \"tech_stack\", \"type\": \"nominal\"}, \"theta\": {\"aggregate\": \"count\", \"type\": \"quantitative\"}, \"tooltip\": [{\"field\": \"tech_stack\", \"type\": \"nominal\"}, {\"aggregate\": \"count\", \"type\": \"quantitative\"}]}, \"height\": 400, \"padding\": 24, \"title\": \"Mentor Tech Stacks\", \"width\": 480, \"$schema\": \"https://vega.github.io/schema/vega-lite/v4.17.0.json\", \"datasets\": {\"data-90e8e8624718e7932569a7edc068f517\": [{\"tech_stack\": \"Backend\"}, {\"tech_stack\": \"Design UI/UX\"}, {\"tech_stack\": \"iOS\"}, {\"tech_stack\": \"Frontend\"}, {\"tech_stack\": \"Backend\"}, {\"tech_stack\": \"Career Development\"}, {\"tech_stack\": \"Android\"}, {\"tech_stack\": \"Backend\"}, {\"tech_stack\": \"Design UI/UX\"}, {\"tech_stack\": \"Android\"}, {\"tech_stack\": \"iOS\"}, {\"tech_stack\": \"Backend\"}, {\"tech_stack\": \"Frontend\"}, {\"tech_stack\": \"Frontend\"}, {\"tech_stack\": \"Backend\"}, {\"tech_stack\": \"Design UI/UX\"}, {\"tech_stack\": \"Backend\"}, {\"tech_stack\": \"Frontend\"}, {\"tech_stack\": \"Backend\"}, {\"tech_stack\": \"Design UI/UX\"}, {\"tech_stack\": \"Frontend\"}, {\"tech_stack\": \"Design UI/UX\"}, {\"tech_stack\": \"Backend\"}, {\"tech_stack\": \"iOS\"}, {\"tech_stack\": \"Android\"}, {\"tech_stack\": \"Android\"}, {\"tech_stack\": \"Frontend\"}]}}, {\"mode\": \"vega-lite\"});\n</script>",
      "text/plain": "alt.Chart(...)"
     },
     "execution_count": 149,
     "metadata": {},
     "output_type": "execute_result"
    }
   ],
   "source": [
    "pie_chart(mentors, \"tech_stack\", \"Mentor Tech Stacks\")\n"
   ],
   "metadata": {
    "collapsed": false,
    "pycharm": {
     "name": "#%%\n"
    }
   }
  },
  {
   "cell_type": "code",
   "execution_count": 118,
   "outputs": [],
   "source": [
    "mentees = DB.projection(\"Mentees\", {\n",
    "    \"is_active\": True,\n",
    "    \"validate_status\": \"approved\",\n",
    "}, {\"tech_stack\": True})\n"
   ],
   "metadata": {
    "collapsed": false,
    "pycharm": {
     "name": "#%%\n"
    }
   }
  },
  {
   "cell_type": "code",
   "execution_count": 119,
   "outputs": [],
   "source": [
    "mentees = DataFrame(mentees)\n"
   ],
   "metadata": {
    "collapsed": false,
    "pycharm": {
     "name": "#%%\n"
    }
   }
  },
  {
   "cell_type": "code",
   "execution_count": 120,
   "outputs": [
    {
     "data": {
      "text/html": "\n<div id=\"altair-viz-7963a48a00854792bd711ca8b8491eb7\"></div>\n<script type=\"text/javascript\">\n  var VEGA_DEBUG = (typeof VEGA_DEBUG == \"undefined\") ? {} : VEGA_DEBUG;\n  (function(spec, embedOpt){\n    let outputDiv = document.currentScript.previousElementSibling;\n    if (outputDiv.id !== \"altair-viz-7963a48a00854792bd711ca8b8491eb7\") {\n      outputDiv = document.getElementById(\"altair-viz-7963a48a00854792bd711ca8b8491eb7\");\n    }\n    const paths = {\n      \"vega\": \"https://cdn.jsdelivr.net/npm//vega@5?noext\",\n      \"vega-lib\": \"https://cdn.jsdelivr.net/npm//vega-lib?noext\",\n      \"vega-lite\": \"https://cdn.jsdelivr.net/npm//vega-lite@4.17.0?noext\",\n      \"vega-embed\": \"https://cdn.jsdelivr.net/npm//vega-embed@6?noext\",\n    };\n\n    function maybeLoadScript(lib, version) {\n      var key = `${lib.replace(\"-\", \"\")}_version`;\n      return (VEGA_DEBUG[key] == version) ?\n        Promise.resolve(paths[lib]) :\n        new Promise(function(resolve, reject) {\n          var s = document.createElement('script');\n          document.getElementsByTagName(\"head\")[0].appendChild(s);\n          s.async = true;\n          s.onload = () => {\n            VEGA_DEBUG[key] = version;\n            return resolve(paths[lib]);\n          };\n          s.onerror = () => reject(`Error loading script: ${paths[lib]}`);\n          s.src = paths[lib];\n        });\n    }\n\n    function showError(err) {\n      outputDiv.innerHTML = `<div class=\"error\" style=\"color:red;\">${err}</div>`;\n      throw err;\n    }\n\n    function displayChart(vegaEmbed) {\n      vegaEmbed(outputDiv, spec, embedOpt)\n        .catch(err => showError(`Javascript Error: ${err.message}<br>This usually means there's a typo in your chart specification. See the javascript console for the full traceback.`));\n    }\n\n    if(typeof define === \"function\" && define.amd) {\n      requirejs.config({paths});\n      require([\"vega-embed\"], displayChart, err => showError(`Error loading script: ${err.message}`));\n    } else {\n      maybeLoadScript(\"vega\", \"5\")\n        .then(() => maybeLoadScript(\"vega-lite\", \"4.17.0\"))\n        .then(() => maybeLoadScript(\"vega-embed\", \"6\"))\n        .catch(showError)\n        .then(() => displayChart(vegaEmbed));\n    }\n  })({\"config\": {\"view\": {\"continuousWidth\": 400, \"continuousHeight\": 300, \"stroke\": \"#FFF\"}, \"legend\": {\"padding\": 24}, \"title\": {\"fontSize\": 20, \"offset\": 24}}, \"data\": {\"name\": \"data-bd357662a1a5accdef4970e55a9f4bc6\"}, \"mark\": {\"type\": \"arc\", \"innerRadius\": 80}, \"encoding\": {\"color\": {\"field\": \"tech_stack\", \"type\": \"nominal\"}, \"theta\": {\"aggregate\": \"count\", \"type\": \"quantitative\"}, \"tooltip\": [{\"field\": \"tech_stack\", \"type\": \"nominal\"}, {\"aggregate\": \"count\", \"type\": \"quantitative\"}]}, \"height\": 400, \"padding\": 24, \"title\": \"Mentee Tech Stacks\", \"width\": 480, \"$schema\": \"https://vega.github.io/schema/vega-lite/v4.17.0.json\", \"datasets\": {\"data-bd357662a1a5accdef4970e55a9f4bc6\": [{\"tech_stack\": \"Android\"}, {\"tech_stack\": \"Design UI/UX\"}, {\"tech_stack\": \"Android\"}, {\"tech_stack\": \"Android\"}, {\"tech_stack\": \"Android\"}, {\"tech_stack\": \"Design UI/UX\"}, {\"tech_stack\": \"Design UI/UX\"}, {\"tech_stack\": \"Career Development\"}, {\"tech_stack\": \"Data Science\"}, {\"tech_stack\": \"iOS\"}, {\"tech_stack\": \"Career Development\"}, {\"tech_stack\": \"Android\"}, {\"tech_stack\": \"Data Science\"}, {\"tech_stack\": \"Data Science\"}, {\"tech_stack\": \"Design UI/UX\"}, {\"tech_stack\": \"Career Development\"}, {\"tech_stack\": \"iOS\"}, {\"tech_stack\": \"Data Science\"}, {\"tech_stack\": \"Career Development\"}, {\"tech_stack\": \"Data Science\"}, {\"tech_stack\": \"Design UI/UX\"}, {\"tech_stack\": \"Android\"}, {\"tech_stack\": \"Career Development\"}, {\"tech_stack\": \"Data Science\"}, {\"tech_stack\": \"iOS\"}, {\"tech_stack\": \"iOS\"}, {\"tech_stack\": \"Career Development\"}, {\"tech_stack\": \"Data Science\"}, {\"tech_stack\": \"Career Development\"}, {\"tech_stack\": \"Data Science\"}, {\"tech_stack\": \"Career Development\"}, {\"tech_stack\": \"Data Science\"}, {\"tech_stack\": \"Android\"}, {\"tech_stack\": \"Career Development\"}, {\"tech_stack\": \"Data Science\"}, {\"tech_stack\": \"iOS\"}, {\"tech_stack\": \"iOS\"}, {\"tech_stack\": \"Data Science\"}, {\"tech_stack\": \"Backend\"}, {\"tech_stack\": \"Data Science\"}, {\"tech_stack\": \"iOS\"}, {\"tech_stack\": \"Data Science\"}, {\"tech_stack\": \"Career Development\"}, {\"tech_stack\": \"Design UI/UX\"}, {\"tech_stack\": \"Career Development\"}, {\"tech_stack\": \"Android\"}, {\"tech_stack\": \"Career Development\"}, {\"tech_stack\": \"Data Science\"}, {\"tech_stack\": \"Career Development\"}, {\"tech_stack\": \"Data Science\"}, {\"tech_stack\": \"Data Science\"}, {\"tech_stack\": \"Data Science\"}, {\"tech_stack\": \"Data Science\"}, {\"tech_stack\": \"Data Science\"}, {\"tech_stack\": \"Design UI/UX\"}, {\"tech_stack\": \"Design UI/UX\"}, {\"tech_stack\": \"Android\"}, {\"tech_stack\": \"Android\"}, {\"tech_stack\": \"Data Science\"}, {\"tech_stack\": \"Career Development\"}, {\"tech_stack\": \"Career Development\"}, {\"tech_stack\": \"iOS\"}, {\"tech_stack\": \"Data Science\"}, {\"tech_stack\": \"Design UI/UX\"}, {\"tech_stack\": \"iOS\"}, {\"tech_stack\": \"Data Science\"}, {\"tech_stack\": \"Career Development\"}, {\"tech_stack\": \"Career Development\"}, {\"tech_stack\": \"Data Science\"}, {\"tech_stack\": \"Data Science\"}, {\"tech_stack\": \"iOS\"}, {\"tech_stack\": \"Data Science\"}, {\"tech_stack\": \"Data Science\"}, {\"tech_stack\": \"Backend\"}, {\"tech_stack\": \"Android\"}, {\"tech_stack\": \"Data Science\"}, {\"tech_stack\": \"Design UI/UX\"}, {\"tech_stack\": \"Data Science\"}, {\"tech_stack\": \"Design UI/UX\"}, {\"tech_stack\": \"Android\"}, {\"tech_stack\": \"Design UI/UX\"}, {\"tech_stack\": \"iOS\"}, {\"tech_stack\": \"Data Science\"}, {\"tech_stack\": \"Design UI/UX\"}, {\"tech_stack\": \"iOS\"}, {\"tech_stack\": \"Data Science\"}, {\"tech_stack\": \"Data Science\"}, {\"tech_stack\": \"Design UI/UX\"}, {\"tech_stack\": \"iOS\"}, {\"tech_stack\": \"Android\"}, {\"tech_stack\": \"iOS\"}, {\"tech_stack\": \"Career Development\"}, {\"tech_stack\": \"Android\"}, {\"tech_stack\": \"Android\"}, {\"tech_stack\": \"Design UI/UX\"}, {\"tech_stack\": \"Data Science\"}, {\"tech_stack\": \"Design UI/UX\"}]}}, {\"mode\": \"vega-lite\"});\n</script>",
      "text/plain": "alt.Chart(...)"
     },
     "execution_count": 120,
     "metadata": {},
     "output_type": "execute_result"
    }
   ],
   "source": [
    "pie_chart(mentees, \"tech_stack\", \"Mentee Tech Stacks\")\n"
   ],
   "metadata": {
    "collapsed": false,
    "pycharm": {
     "name": "#%%\n"
    }
   }
  },
  {
   "cell_type": "markdown",
   "source": [
    "### Stacked Bar Chart"
   ],
   "metadata": {
    "collapsed": false,
    "pycharm": {
     "name": "#%% md\n"
    }
   }
  },
  {
   "cell_type": "code",
   "execution_count": 143,
   "outputs": [],
   "source": [
    "import altair as alt\n",
    "from vega_datasets import data\n"
   ],
   "metadata": {
    "collapsed": false,
    "pycharm": {
     "name": "#%%\n"
    }
   }
  },
  {
   "cell_type": "code",
   "execution_count": 144,
   "outputs": [
    {
     "data": {
      "text/plain": "      yield    variety  year             site\n0  27.00000  Manchuria  1931  University Farm\n1  48.86667  Manchuria  1931           Waseca\n2  27.43334  Manchuria  1931           Morris\n3  39.93333  Manchuria  1931        Crookston\n4  32.96667  Manchuria  1931     Grand Rapids",
      "text/html": "<div>\n<style scoped>\n    .dataframe tbody tr th:only-of-type {\n        vertical-align: middle;\n    }\n\n    .dataframe tbody tr th {\n        vertical-align: top;\n    }\n\n    .dataframe thead th {\n        text-align: right;\n    }\n</style>\n<table border=\"1\" class=\"dataframe\">\n  <thead>\n    <tr style=\"text-align: right;\">\n      <th></th>\n      <th>yield</th>\n      <th>variety</th>\n      <th>year</th>\n      <th>site</th>\n    </tr>\n  </thead>\n  <tbody>\n    <tr>\n      <th>0</th>\n      <td>27.00000</td>\n      <td>Manchuria</td>\n      <td>1931</td>\n      <td>University Farm</td>\n    </tr>\n    <tr>\n      <th>1</th>\n      <td>48.86667</td>\n      <td>Manchuria</td>\n      <td>1931</td>\n      <td>Waseca</td>\n    </tr>\n    <tr>\n      <th>2</th>\n      <td>27.43334</td>\n      <td>Manchuria</td>\n      <td>1931</td>\n      <td>Morris</td>\n    </tr>\n    <tr>\n      <th>3</th>\n      <td>39.93333</td>\n      <td>Manchuria</td>\n      <td>1931</td>\n      <td>Crookston</td>\n    </tr>\n    <tr>\n      <th>4</th>\n      <td>32.96667</td>\n      <td>Manchuria</td>\n      <td>1931</td>\n      <td>Grand Rapids</td>\n    </tr>\n  </tbody>\n</table>\n</div>"
     },
     "execution_count": 144,
     "metadata": {},
     "output_type": "execute_result"
    }
   ],
   "source": [
    "source = data.barley()\n",
    "source.head()"
   ],
   "metadata": {
    "collapsed": false,
    "pycharm": {
     "name": "#%%\n"
    }
   }
  },
  {
   "cell_type": "code",
   "execution_count": 148,
   "outputs": [
    {
     "data": {
      "text/html": "\n<div id=\"altair-viz-c666b52348c84d8fb1fa95000a9cceb3\"></div>\n<script type=\"text/javascript\">\n  var VEGA_DEBUG = (typeof VEGA_DEBUG == \"undefined\") ? {} : VEGA_DEBUG;\n  (function(spec, embedOpt){\n    let outputDiv = document.currentScript.previousElementSibling;\n    if (outputDiv.id !== \"altair-viz-c666b52348c84d8fb1fa95000a9cceb3\") {\n      outputDiv = document.getElementById(\"altair-viz-c666b52348c84d8fb1fa95000a9cceb3\");\n    }\n    const paths = {\n      \"vega\": \"https://cdn.jsdelivr.net/npm//vega@5?noext\",\n      \"vega-lib\": \"https://cdn.jsdelivr.net/npm//vega-lib?noext\",\n      \"vega-lite\": \"https://cdn.jsdelivr.net/npm//vega-lite@4.17.0?noext\",\n      \"vega-embed\": \"https://cdn.jsdelivr.net/npm//vega-embed@6?noext\",\n    };\n\n    function maybeLoadScript(lib, version) {\n      var key = `${lib.replace(\"-\", \"\")}_version`;\n      return (VEGA_DEBUG[key] == version) ?\n        Promise.resolve(paths[lib]) :\n        new Promise(function(resolve, reject) {\n          var s = document.createElement('script');\n          document.getElementsByTagName(\"head\")[0].appendChild(s);\n          s.async = true;\n          s.onload = () => {\n            VEGA_DEBUG[key] = version;\n            return resolve(paths[lib]);\n          };\n          s.onerror = () => reject(`Error loading script: ${paths[lib]}`);\n          s.src = paths[lib];\n        });\n    }\n\n    function showError(err) {\n      outputDiv.innerHTML = `<div class=\"error\" style=\"color:red;\">${err}</div>`;\n      throw err;\n    }\n\n    function displayChart(vegaEmbed) {\n      vegaEmbed(outputDiv, spec, embedOpt)\n        .catch(err => showError(`Javascript Error: ${err.message}<br>This usually means there's a typo in your chart specification. See the javascript console for the full traceback.`));\n    }\n\n    if(typeof define === \"function\" && define.amd) {\n      requirejs.config({paths});\n      require([\"vega-embed\"], displayChart, err => showError(`Error loading script: ${err.message}`));\n    } else {\n      maybeLoadScript(\"vega\", \"5\")\n        .then(() => maybeLoadScript(\"vega-lite\", \"4.17.0\"))\n        .then(() => maybeLoadScript(\"vega-embed\", \"6\"))\n        .catch(showError)\n        .then(() => displayChart(vegaEmbed));\n    }\n  })({\"config\": {\"view\": {\"continuousWidth\": 400, \"continuousHeight\": 300}}, \"data\": {\"name\": \"data-093ece8c35bb2d41094cfb6138ec810b\"}, \"mark\": \"bar\", \"encoding\": {\"color\": {\"field\": \"site\", \"type\": \"nominal\"}, \"x\": {\"field\": \"variety\", \"type\": \"nominal\"}, \"y\": {\"aggregate\": \"sum\", \"field\": \"yield\", \"type\": \"quantitative\"}}, \"title\": \"yield by variety for site\", \"$schema\": \"https://vega.github.io/schema/vega-lite/v4.17.0.json\", \"datasets\": {\"data-093ece8c35bb2d41094cfb6138ec810b\": [{\"yield\": 27.0, \"variety\": \"Manchuria\", \"year\": 1931, \"site\": \"University Farm\"}, {\"yield\": 48.86667, \"variety\": \"Manchuria\", \"year\": 1931, \"site\": \"Waseca\"}, {\"yield\": 27.43334, \"variety\": \"Manchuria\", \"year\": 1931, \"site\": \"Morris\"}, {\"yield\": 39.93333, \"variety\": \"Manchuria\", \"year\": 1931, \"site\": \"Crookston\"}, {\"yield\": 32.96667, \"variety\": \"Manchuria\", \"year\": 1931, \"site\": \"Grand Rapids\"}, {\"yield\": 28.96667, \"variety\": \"Manchuria\", \"year\": 1931, \"site\": \"Duluth\"}, {\"yield\": 43.06666, \"variety\": \"Glabron\", \"year\": 1931, \"site\": \"University Farm\"}, {\"yield\": 55.2, \"variety\": \"Glabron\", \"year\": 1931, \"site\": \"Waseca\"}, {\"yield\": 28.76667, \"variety\": \"Glabron\", \"year\": 1931, \"site\": \"Morris\"}, {\"yield\": 38.13333, \"variety\": \"Glabron\", \"year\": 1931, \"site\": \"Crookston\"}, {\"yield\": 29.13333, \"variety\": \"Glabron\", \"year\": 1931, \"site\": \"Grand Rapids\"}, {\"yield\": 29.66667, \"variety\": \"Glabron\", \"year\": 1931, \"site\": \"Duluth\"}, {\"yield\": 35.13333, \"variety\": \"Svansota\", \"year\": 1931, \"site\": \"University Farm\"}, {\"yield\": 47.33333, \"variety\": \"Svansota\", \"year\": 1931, \"site\": \"Waseca\"}, {\"yield\": 25.76667, \"variety\": \"Svansota\", \"year\": 1931, \"site\": \"Morris\"}, {\"yield\": 40.46667, \"variety\": \"Svansota\", \"year\": 1931, \"site\": \"Crookston\"}, {\"yield\": 29.66667, \"variety\": \"Svansota\", \"year\": 1931, \"site\": \"Grand Rapids\"}, {\"yield\": 25.7, \"variety\": \"Svansota\", \"year\": 1931, \"site\": \"Duluth\"}, {\"yield\": 39.9, \"variety\": \"Velvet\", \"year\": 1931, \"site\": \"University Farm\"}, {\"yield\": 50.23333, \"variety\": \"Velvet\", \"year\": 1931, \"site\": \"Waseca\"}, {\"yield\": 26.13333, \"variety\": \"Velvet\", \"year\": 1931, \"site\": \"Morris\"}, {\"yield\": 41.33333, \"variety\": \"Velvet\", \"year\": 1931, \"site\": \"Crookston\"}, {\"yield\": 23.03333, \"variety\": \"Velvet\", \"year\": 1931, \"site\": \"Grand Rapids\"}, {\"yield\": 26.3, \"variety\": \"Velvet\", \"year\": 1931, \"site\": \"Duluth\"}, {\"yield\": 36.56666, \"variety\": \"Trebi\", \"year\": 1931, \"site\": \"University Farm\"}, {\"yield\": 63.8333, \"variety\": \"Trebi\", \"year\": 1931, \"site\": \"Waseca\"}, {\"yield\": 43.76667, \"variety\": \"Trebi\", \"year\": 1931, \"site\": \"Morris\"}, {\"yield\": 46.93333, \"variety\": \"Trebi\", \"year\": 1931, \"site\": \"Crookston\"}, {\"yield\": 29.76667, \"variety\": \"Trebi\", \"year\": 1931, \"site\": \"Grand Rapids\"}, {\"yield\": 33.93333, \"variety\": \"Trebi\", \"year\": 1931, \"site\": \"Duluth\"}, {\"yield\": 43.26667, \"variety\": \"No. 457\", \"year\": 1931, \"site\": \"University Farm\"}, {\"yield\": 58.1, \"variety\": \"No. 457\", \"year\": 1931, \"site\": \"Waseca\"}, {\"yield\": 28.7, \"variety\": \"No. 457\", \"year\": 1931, \"site\": \"Morris\"}, {\"yield\": 45.66667, \"variety\": \"No. 457\", \"year\": 1931, \"site\": \"Crookston\"}, {\"yield\": 32.16667, \"variety\": \"No. 457\", \"year\": 1931, \"site\": \"Grand Rapids\"}, {\"yield\": 33.6, \"variety\": \"No. 457\", \"year\": 1931, \"site\": \"Duluth\"}, {\"yield\": 36.6, \"variety\": \"No. 462\", \"year\": 1931, \"site\": \"University Farm\"}, {\"yield\": 65.7667, \"variety\": \"No. 462\", \"year\": 1931, \"site\": \"Waseca\"}, {\"yield\": 30.36667, \"variety\": \"No. 462\", \"year\": 1931, \"site\": \"Morris\"}, {\"yield\": 48.56666, \"variety\": \"No. 462\", \"year\": 1931, \"site\": \"Crookston\"}, {\"yield\": 24.93334, \"variety\": \"No. 462\", \"year\": 1931, \"site\": \"Grand Rapids\"}, {\"yield\": 28.1, \"variety\": \"No. 462\", \"year\": 1931, \"site\": \"Duluth\"}, {\"yield\": 32.76667, \"variety\": \"Peatland\", \"year\": 1931, \"site\": \"University Farm\"}, {\"yield\": 48.56666, \"variety\": \"Peatland\", \"year\": 1931, \"site\": \"Waseca\"}, {\"yield\": 29.86667, \"variety\": \"Peatland\", \"year\": 1931, \"site\": \"Morris\"}, {\"yield\": 41.6, \"variety\": \"Peatland\", \"year\": 1931, \"site\": \"Crookston\"}, {\"yield\": 34.7, \"variety\": \"Peatland\", \"year\": 1931, \"site\": \"Grand Rapids\"}, {\"yield\": 32.0, \"variety\": \"Peatland\", \"year\": 1931, \"site\": \"Duluth\"}, {\"yield\": 24.66667, \"variety\": \"No. 475\", \"year\": 1931, \"site\": \"University Farm\"}, {\"yield\": 46.76667, \"variety\": \"No. 475\", \"year\": 1931, \"site\": \"Waseca\"}, {\"yield\": 22.6, \"variety\": \"No. 475\", \"year\": 1931, \"site\": \"Morris\"}, {\"yield\": 44.1, \"variety\": \"No. 475\", \"year\": 1931, \"site\": \"Crookston\"}, {\"yield\": 19.7, \"variety\": \"No. 475\", \"year\": 1931, \"site\": \"Grand Rapids\"}, {\"yield\": 33.06666, \"variety\": \"No. 475\", \"year\": 1931, \"site\": \"Duluth\"}, {\"yield\": 39.3, \"variety\": \"Wisconsin No. 38\", \"year\": 1931, \"site\": \"University Farm\"}, {\"yield\": 58.8, \"variety\": \"Wisconsin No. 38\", \"year\": 1931, \"site\": \"Waseca\"}, {\"yield\": 29.46667, \"variety\": \"Wisconsin No. 38\", \"year\": 1931, \"site\": \"Morris\"}, {\"yield\": 49.86667, \"variety\": \"Wisconsin No. 38\", \"year\": 1931, \"site\": \"Crookston\"}, {\"yield\": 34.46667, \"variety\": \"Wisconsin No. 38\", \"year\": 1931, \"site\": \"Grand Rapids\"}, {\"yield\": 31.6, \"variety\": \"Wisconsin No. 38\", \"year\": 1931, \"site\": \"Duluth\"}, {\"yield\": 26.9, \"variety\": \"Manchuria\", \"year\": 1932, \"site\": \"University Farm\"}, {\"yield\": 33.46667, \"variety\": \"Manchuria\", \"year\": 1932, \"site\": \"Waseca\"}, {\"yield\": 34.36666, \"variety\": \"Manchuria\", \"year\": 1932, \"site\": \"Morris\"}, {\"yield\": 32.96667, \"variety\": \"Manchuria\", \"year\": 1932, \"site\": \"Crookston\"}, {\"yield\": 22.13333, \"variety\": \"Manchuria\", \"year\": 1932, \"site\": \"Grand Rapids\"}, {\"yield\": 22.56667, \"variety\": \"Manchuria\", \"year\": 1932, \"site\": \"Duluth\"}, {\"yield\": 36.8, \"variety\": \"Glabron\", \"year\": 1932, \"site\": \"University Farm\"}, {\"yield\": 37.73333, \"variety\": \"Glabron\", \"year\": 1932, \"site\": \"Waseca\"}, {\"yield\": 35.13333, \"variety\": \"Glabron\", \"year\": 1932, \"site\": \"Morris\"}, {\"yield\": 26.16667, \"variety\": \"Glabron\", \"year\": 1932, \"site\": \"Crookston\"}, {\"yield\": 14.43333, \"variety\": \"Glabron\", \"year\": 1932, \"site\": \"Grand Rapids\"}, {\"yield\": 25.86667, \"variety\": \"Glabron\", \"year\": 1932, \"site\": \"Duluth\"}, {\"yield\": 27.43334, \"variety\": \"Svansota\", \"year\": 1932, \"site\": \"University Farm\"}, {\"yield\": 38.5, \"variety\": \"Svansota\", \"year\": 1932, \"site\": \"Waseca\"}, {\"yield\": 35.03333, \"variety\": \"Svansota\", \"year\": 1932, \"site\": \"Morris\"}, {\"yield\": 20.63333, \"variety\": \"Svansota\", \"year\": 1932, \"site\": \"Crookston\"}, {\"yield\": 16.63333, \"variety\": \"Svansota\", \"year\": 1932, \"site\": \"Grand Rapids\"}, {\"yield\": 22.23333, \"variety\": \"Svansota\", \"year\": 1932, \"site\": \"Duluth\"}, {\"yield\": 26.8, \"variety\": \"Velvet\", \"year\": 1932, \"site\": \"University Farm\"}, {\"yield\": 37.4, \"variety\": \"Velvet\", \"year\": 1932, \"site\": \"Waseca\"}, {\"yield\": 38.83333, \"variety\": \"Velvet\", \"year\": 1932, \"site\": \"Morris\"}, {\"yield\": 32.06666, \"variety\": \"Velvet\", \"year\": 1932, \"site\": \"Crookston\"}, {\"yield\": 32.23333, \"variety\": \"Velvet\", \"year\": 1932, \"site\": \"Grand Rapids\"}, {\"yield\": 22.46667, \"variety\": \"Velvet\", \"year\": 1932, \"site\": \"Duluth\"}, {\"yield\": 29.06667, \"variety\": \"Trebi\", \"year\": 1932, \"site\": \"University Farm\"}, {\"yield\": 49.2333, \"variety\": \"Trebi\", \"year\": 1932, \"site\": \"Waseca\"}, {\"yield\": 46.63333, \"variety\": \"Trebi\", \"year\": 1932, \"site\": \"Morris\"}, {\"yield\": 41.83333, \"variety\": \"Trebi\", \"year\": 1932, \"site\": \"Crookston\"}, {\"yield\": 20.63333, \"variety\": \"Trebi\", \"year\": 1932, \"site\": \"Grand Rapids\"}, {\"yield\": 30.6, \"variety\": \"Trebi\", \"year\": 1932, \"site\": \"Duluth\"}, {\"yield\": 26.43334, \"variety\": \"No. 457\", \"year\": 1932, \"site\": \"University Farm\"}, {\"yield\": 42.2, \"variety\": \"No. 457\", \"year\": 1932, \"site\": \"Waseca\"}, {\"yield\": 43.53334, \"variety\": \"No. 457\", \"year\": 1932, \"site\": \"Morris\"}, {\"yield\": 34.33333, \"variety\": \"No. 457\", \"year\": 1932, \"site\": \"Crookston\"}, {\"yield\": 19.46667, \"variety\": \"No. 457\", \"year\": 1932, \"site\": \"Grand Rapids\"}, {\"yield\": 22.7, \"variety\": \"No. 457\", \"year\": 1932, \"site\": \"Duluth\"}, {\"yield\": 25.56667, \"variety\": \"No. 462\", \"year\": 1932, \"site\": \"University Farm\"}, {\"yield\": 44.7, \"variety\": \"No. 462\", \"year\": 1932, \"site\": \"Waseca\"}, {\"yield\": 47.0, \"variety\": \"No. 462\", \"year\": 1932, \"site\": \"Morris\"}, {\"yield\": 30.53333, \"variety\": \"No. 462\", \"year\": 1932, \"site\": \"Crookston\"}, {\"yield\": 19.9, \"variety\": \"No. 462\", \"year\": 1932, \"site\": \"Grand Rapids\"}, {\"yield\": 22.5, \"variety\": \"No. 462\", \"year\": 1932, \"site\": \"Duluth\"}, {\"yield\": 28.06667, \"variety\": \"Peatland\", \"year\": 1932, \"site\": \"University Farm\"}, {\"yield\": 36.03333, \"variety\": \"Peatland\", \"year\": 1932, \"site\": \"Waseca\"}, {\"yield\": 43.2, \"variety\": \"Peatland\", \"year\": 1932, \"site\": \"Morris\"}, {\"yield\": 25.23333, \"variety\": \"Peatland\", \"year\": 1932, \"site\": \"Crookston\"}, {\"yield\": 26.76667, \"variety\": \"Peatland\", \"year\": 1932, \"site\": \"Grand Rapids\"}, {\"yield\": 31.36667, \"variety\": \"Peatland\", \"year\": 1932, \"site\": \"Duluth\"}, {\"yield\": 30.0, \"variety\": \"No. 475\", \"year\": 1932, \"site\": \"University Farm\"}, {\"yield\": 41.26667, \"variety\": \"No. 475\", \"year\": 1932, \"site\": \"Waseca\"}, {\"yield\": 44.23333, \"variety\": \"No. 475\", \"year\": 1932, \"site\": \"Morris\"}, {\"yield\": 32.13333, \"variety\": \"No. 475\", \"year\": 1932, \"site\": \"Crookston\"}, {\"yield\": 15.23333, \"variety\": \"No. 475\", \"year\": 1932, \"site\": \"Grand Rapids\"}, {\"yield\": 27.36667, \"variety\": \"No. 475\", \"year\": 1932, \"site\": \"Duluth\"}, {\"yield\": 38.0, \"variety\": \"Wisconsin No. 38\", \"year\": 1932, \"site\": \"University Farm\"}, {\"yield\": 58.16667, \"variety\": \"Wisconsin No. 38\", \"year\": 1932, \"site\": \"Waseca\"}, {\"yield\": 47.16667, \"variety\": \"Wisconsin No. 38\", \"year\": 1932, \"site\": \"Morris\"}, {\"yield\": 35.9, \"variety\": \"Wisconsin No. 38\", \"year\": 1932, \"site\": \"Crookston\"}, {\"yield\": 20.66667, \"variety\": \"Wisconsin No. 38\", \"year\": 1932, \"site\": \"Grand Rapids\"}, {\"yield\": 29.33333, \"variety\": \"Wisconsin No. 38\", \"year\": 1932, \"site\": \"Duluth\"}]}}, {\"mode\": \"vega-lite\"});\n</script>",
      "text/plain": "alt.Chart(...)"
     },
     "execution_count": 148,
     "metadata": {},
     "output_type": "execute_result"
    }
   ],
   "source": [
    "alt.Chart(source, title=\"yield by variety for site\").mark_bar().encode(\n",
    "    x='variety',    # Tech Stacks\n",
    "    y='sum(yield)', # Count Tech Stacks\n",
    "    color='site',   # Role\n",
    ")"
   ],
   "metadata": {
    "collapsed": false,
    "pycharm": {
     "name": "#%%\n"
    }
   }
  },
  {
   "cell_type": "markdown",
   "source": [
    "---"
   ],
   "metadata": {
    "collapsed": false,
    "pycharm": {
     "name": "#%% md\n"
    }
   }
  },
  {
   "cell_type": "code",
   "execution_count": 156,
   "outputs": [
    {
     "data": {
      "text/plain": "                                tech_stack\n0                  [Backend, Design UI/UX]\n1                                    [iOS]\n2                               [Frontend]\n3   [Backend, Career Development, Android]\n4                  [Backend, Design UI/UX]\n5                           [Android, iOS]\n6                                [Backend]\n7                               [Frontend]\n8        [Frontend, Backend, Design UI/UX]\n9                                [Backend]\n10       [Frontend, Backend, Design UI/UX]\n11                [Frontend, Design UI/UX]\n12                          [Backend, iOS]\n13                               [Android]\n14                               [Android]\n15                              [Frontend]",
      "text/html": "<div>\n<style scoped>\n    .dataframe tbody tr th:only-of-type {\n        vertical-align: middle;\n    }\n\n    .dataframe tbody tr th {\n        vertical-align: top;\n    }\n\n    .dataframe thead th {\n        text-align: right;\n    }\n</style>\n<table border=\"1\" class=\"dataframe\">\n  <thead>\n    <tr style=\"text-align: right;\">\n      <th></th>\n      <th>tech_stack</th>\n    </tr>\n  </thead>\n  <tbody>\n    <tr>\n      <th>0</th>\n      <td>[Backend, Design UI/UX]</td>\n    </tr>\n    <tr>\n      <th>1</th>\n      <td>[iOS]</td>\n    </tr>\n    <tr>\n      <th>2</th>\n      <td>[Frontend]</td>\n    </tr>\n    <tr>\n      <th>3</th>\n      <td>[Backend, Career Development, Android]</td>\n    </tr>\n    <tr>\n      <th>4</th>\n      <td>[Backend, Design UI/UX]</td>\n    </tr>\n    <tr>\n      <th>5</th>\n      <td>[Android, iOS]</td>\n    </tr>\n    <tr>\n      <th>6</th>\n      <td>[Backend]</td>\n    </tr>\n    <tr>\n      <th>7</th>\n      <td>[Frontend]</td>\n    </tr>\n    <tr>\n      <th>8</th>\n      <td>[Frontend, Backend, Design UI/UX]</td>\n    </tr>\n    <tr>\n      <th>9</th>\n      <td>[Backend]</td>\n    </tr>\n    <tr>\n      <th>10</th>\n      <td>[Frontend, Backend, Design UI/UX]</td>\n    </tr>\n    <tr>\n      <th>11</th>\n      <td>[Frontend, Design UI/UX]</td>\n    </tr>\n    <tr>\n      <th>12</th>\n      <td>[Backend, iOS]</td>\n    </tr>\n    <tr>\n      <th>13</th>\n      <td>[Android]</td>\n    </tr>\n    <tr>\n      <th>14</th>\n      <td>[Android]</td>\n    </tr>\n    <tr>\n      <th>15</th>\n      <td>[Frontend]</td>\n    </tr>\n  </tbody>\n</table>\n</div>"
     },
     "execution_count": 156,
     "metadata": {},
     "output_type": "execute_result"
    }
   ],
   "source": [
    "mentors = DB.projection(\"Mentors\", {\n",
    "    \"validate_status\": \"approved\",\n",
    "    \"is_active\": True,\n",
    "    \"accepting_new_mentees\": True,\n",
    "}, {\"tech_stack\": True})\n",
    "mentors_df = DataFrame(mentors)\n",
    "mentors_df"
   ],
   "metadata": {
    "collapsed": false,
    "pycharm": {
     "name": "#%%\n"
    }
   }
  },
  {
   "cell_type": "code",
   "execution_count": 157,
   "outputs": [
    {
     "data": {
      "text/plain": "      tech_stack\n0        Android\n1   Design UI/UX\n2        Android\n3        Android\n4        Android\n..           ...\n92       Android\n93       Android\n94  Design UI/UX\n95  Data Science\n96  Design UI/UX\n\n[97 rows x 1 columns]",
      "text/html": "<div>\n<style scoped>\n    .dataframe tbody tr th:only-of-type {\n        vertical-align: middle;\n    }\n\n    .dataframe tbody tr th {\n        vertical-align: top;\n    }\n\n    .dataframe thead th {\n        text-align: right;\n    }\n</style>\n<table border=\"1\" class=\"dataframe\">\n  <thead>\n    <tr style=\"text-align: right;\">\n      <th></th>\n      <th>tech_stack</th>\n    </tr>\n  </thead>\n  <tbody>\n    <tr>\n      <th>0</th>\n      <td>Android</td>\n    </tr>\n    <tr>\n      <th>1</th>\n      <td>Design UI/UX</td>\n    </tr>\n    <tr>\n      <th>2</th>\n      <td>Android</td>\n    </tr>\n    <tr>\n      <th>3</th>\n      <td>Android</td>\n    </tr>\n    <tr>\n      <th>4</th>\n      <td>Android</td>\n    </tr>\n    <tr>\n      <th>...</th>\n      <td>...</td>\n    </tr>\n    <tr>\n      <th>92</th>\n      <td>Android</td>\n    </tr>\n    <tr>\n      <th>93</th>\n      <td>Android</td>\n    </tr>\n    <tr>\n      <th>94</th>\n      <td>Design UI/UX</td>\n    </tr>\n    <tr>\n      <th>95</th>\n      <td>Data Science</td>\n    </tr>\n    <tr>\n      <th>96</th>\n      <td>Design UI/UX</td>\n    </tr>\n  </tbody>\n</table>\n<p>97 rows × 1 columns</p>\n</div>"
     },
     "execution_count": 157,
     "metadata": {},
     "output_type": "execute_result"
    }
   ],
   "source": [
    "mentees = DB.projection(\"Mentees\", {\n",
    "    \"is_active\": True,\n",
    "    \"validate_status\": \"approved\",\n",
    "}, {\"tech_stack\": True})\n",
    "mentees_df = DataFrame(mentees)\n",
    "mentees_df"
   ],
   "metadata": {
    "collapsed": false,
    "pycharm": {
     "name": "#%%\n"
    }
   }
  },
  {
   "cell_type": "code",
   "execution_count": null,
   "outputs": [],
   "source": [],
   "metadata": {
    "collapsed": false,
    "pycharm": {
     "name": "#%%\n"
    }
   }
  }
 ],
 "metadata": {
  "kernelspec": {
   "display_name": "Python 3",
   "language": "python",
   "name": "python3"
  },
  "language_info": {
   "codemirror_mode": {
    "name": "ipython",
    "version": 2
   },
   "file_extension": ".py",
   "mimetype": "text/x-python",
   "name": "python",
   "nbconvert_exporter": "python",
   "pygments_lexer": "ipython2",
   "version": "2.7.6"
  }
 },
 "nbformat": 4,
 "nbformat_minor": 0
}