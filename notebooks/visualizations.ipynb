{
 "cells": [
  {
   "cell_type": "code",
   "execution_count": 207,
   "outputs": [],
   "source": [
    "import pandas\n",
    "from pandas import DataFrame\n",
    "from altair import Chart, Color, Tooltip, X, Y\n",
    "\n",
    "from app.data import MongoDB\n"
   ],
   "metadata": {
    "collapsed": false,
    "pycharm": {
     "name": "#%%\n"
    }
   }
  },
  {
   "cell_type": "code",
   "execution_count": 208,
   "outputs": [],
   "source": [
    "def pie_chart(df, column, title):\n",
    "    chart = Chart(\n",
    "        df,\n",
    "        title=title,\n",
    "    ).mark_arc(innerRadius=80).encode(\n",
    "        color=Color(column),\n",
    "        theta=\"count()\",\n",
    "        tooltip=Tooltip([column, \"count()\"]),\n",
    "    ).properties(\n",
    "        width=480,\n",
    "        height=400,\n",
    "        padding=24,\n",
    "    ).configure(\n",
    "        legend={\"padding\": 24},\n",
    "        title={\"fontSize\": 20, \"offset\": 24},\n",
    "        view={\"stroke\": \"#FFF\"},\n",
    "    )\n",
    "    return chart"
   ],
   "metadata": {
    "collapsed": false,
    "pycharm": {
     "name": "#%%\n"
    }
   }
  },
  {
   "cell_type": "code",
   "execution_count": 209,
   "outputs": [],
   "source": [
    "DB = MongoDB()\n"
   ],
   "metadata": {
    "collapsed": false,
    "pycharm": {
     "name": "#%%\n"
    }
   }
  },
  {
   "cell_type": "code",
   "execution_count": 210,
   "outputs": [],
   "source": [
    "mentors = DB.projection(\"Mentors\", {\n",
    "    \"validate_status\": \"approved\",\n",
    "    \"is_active\": True,\n",
    "    \"accepting_new_mentees\": True,\n",
    "}, {\"tech_stack\": True})\n"
   ],
   "metadata": {
    "collapsed": false,
    "pycharm": {
     "name": "#%%\n"
    }
   }
  },
  {
   "cell_type": "code",
   "execution_count": 211,
   "outputs": [],
   "source": [
    "mentors = DataFrame(mentors)\n"
   ],
   "metadata": {
    "collapsed": false,
    "pycharm": {
     "name": "#%%\n"
    }
   }
  },
  {
   "cell_type": "code",
   "execution_count": 212,
   "outputs": [],
   "source": [
    "mentors = mentors.explode(ignore_index=True, column=\"tech_stack\")\n"
   ],
   "metadata": {
    "collapsed": false,
    "pycharm": {
     "name": "#%%\n"
    }
   }
  },
  {
   "cell_type": "code",
   "execution_count": 213,
   "outputs": [
    {
     "data": {
      "text/html": "\n<div id=\"altair-viz-67e5f0057aa744749ab63be99a9e97fa\"></div>\n<script type=\"text/javascript\">\n  var VEGA_DEBUG = (typeof VEGA_DEBUG == \"undefined\") ? {} : VEGA_DEBUG;\n  (function(spec, embedOpt){\n    let outputDiv = document.currentScript.previousElementSibling;\n    if (outputDiv.id !== \"altair-viz-67e5f0057aa744749ab63be99a9e97fa\") {\n      outputDiv = document.getElementById(\"altair-viz-67e5f0057aa744749ab63be99a9e97fa\");\n    }\n    const paths = {\n      \"vega\": \"https://cdn.jsdelivr.net/npm//vega@5?noext\",\n      \"vega-lib\": \"https://cdn.jsdelivr.net/npm//vega-lib?noext\",\n      \"vega-lite\": \"https://cdn.jsdelivr.net/npm//vega-lite@4.17.0?noext\",\n      \"vega-embed\": \"https://cdn.jsdelivr.net/npm//vega-embed@6?noext\",\n    };\n\n    function maybeLoadScript(lib, version) {\n      var key = `${lib.replace(\"-\", \"\")}_version`;\n      return (VEGA_DEBUG[key] == version) ?\n        Promise.resolve(paths[lib]) :\n        new Promise(function(resolve, reject) {\n          var s = document.createElement('script');\n          document.getElementsByTagName(\"head\")[0].appendChild(s);\n          s.async = true;\n          s.onload = () => {\n            VEGA_DEBUG[key] = version;\n            return resolve(paths[lib]);\n          };\n          s.onerror = () => reject(`Error loading script: ${paths[lib]}`);\n          s.src = paths[lib];\n        });\n    }\n\n    function showError(err) {\n      outputDiv.innerHTML = `<div class=\"error\" style=\"color:red;\">${err}</div>`;\n      throw err;\n    }\n\n    function displayChart(vegaEmbed) {\n      vegaEmbed(outputDiv, spec, embedOpt)\n        .catch(err => showError(`Javascript Error: ${err.message}<br>This usually means there's a typo in your chart specification. See the javascript console for the full traceback.`));\n    }\n\n    if(typeof define === \"function\" && define.amd) {\n      requirejs.config({paths});\n      require([\"vega-embed\"], displayChart, err => showError(`Error loading script: ${err.message}`));\n    } else {\n      maybeLoadScript(\"vega\", \"5\")\n        .then(() => maybeLoadScript(\"vega-lite\", \"4.17.0\"))\n        .then(() => maybeLoadScript(\"vega-embed\", \"6\"))\n        .catch(showError)\n        .then(() => displayChart(vegaEmbed));\n    }\n  })({\"config\": {\"view\": {\"continuousWidth\": 400, \"continuousHeight\": 300, \"stroke\": \"#FFF\"}, \"legend\": {\"padding\": 24}, \"title\": {\"fontSize\": 20, \"offset\": 24}}, \"data\": {\"name\": \"data-36e4f70c64c2024e88f32edc3fcba153\"}, \"mark\": {\"type\": \"arc\", \"innerRadius\": 80}, \"encoding\": {\"color\": {\"field\": \"tech_stack\", \"type\": \"nominal\"}, \"theta\": {\"aggregate\": \"count\", \"type\": \"quantitative\"}, \"tooltip\": [{\"field\": \"tech_stack\", \"type\": \"nominal\"}, {\"aggregate\": \"count\", \"type\": \"quantitative\"}]}, \"height\": 400, \"padding\": 24, \"title\": \"Mentor Tech Stacks\", \"width\": 480, \"$schema\": \"https://vega.github.io/schema/vega-lite/v4.17.0.json\", \"datasets\": {\"data-36e4f70c64c2024e88f32edc3fcba153\": [{\"tech_stack\": \"Backend\"}, {\"tech_stack\": \"Android\"}, {\"tech_stack\": \"iOS\"}, {\"tech_stack\": \"Backend\"}, {\"tech_stack\": \"iOS\"}, {\"tech_stack\": \"Frontend\"}, {\"tech_stack\": \"iOS\"}, {\"tech_stack\": \"Backend\"}, {\"tech_stack\": \"Backend\"}, {\"tech_stack\": \"iOS\"}, {\"tech_stack\": \"Design UI/UX\"}, {\"tech_stack\": \"Backend\"}, {\"tech_stack\": \"Frontend\"}, {\"tech_stack\": \"Backend\"}, {\"tech_stack\": \"iOS\"}, {\"tech_stack\": \"Design UI/UX\"}, {\"tech_stack\": \"Frontend\"}, {\"tech_stack\": \"iOS\"}, {\"tech_stack\": \"Career Development\"}, {\"tech_stack\": \"Android\"}, {\"tech_stack\": \"Design UI/UX\"}, {\"tech_stack\": \"Data Science\"}, {\"tech_stack\": \"Frontend\"}, {\"tech_stack\": \"Design UI/UX\"}, {\"tech_stack\": \"Frontend\"}, {\"tech_stack\": \"Backend\"}, {\"tech_stack\": \"Design UI/UX\"}, {\"tech_stack\": \"Frontend\"}, {\"tech_stack\": \"Design UI/UX\"}, {\"tech_stack\": \"Android\"}, {\"tech_stack\": \"Design UI/UX\"}, {\"tech_stack\": \"Backend\"}, {\"tech_stack\": \"Design UI/UX\"}, {\"tech_stack\": \"Backend\"}, {\"tech_stack\": \"iOS\"}, {\"tech_stack\": \"Backend\"}, {\"tech_stack\": \"iOS\"}]}}, {\"mode\": \"vega-lite\"});\n</script>",
      "text/plain": "alt.Chart(...)"
     },
     "execution_count": 213,
     "metadata": {},
     "output_type": "execute_result"
    }
   ],
   "source": [
    "pie_chart(mentors, \"tech_stack\", \"Mentor Tech Stacks\")\n"
   ],
   "metadata": {
    "collapsed": false,
    "pycharm": {
     "name": "#%%\n"
    }
   }
  },
  {
   "cell_type": "code",
   "execution_count": 214,
   "outputs": [],
   "source": [
    "mentees = DB.projection(\"Mentees\", {\n",
    "    \"is_active\": True,\n",
    "    \"validate_status\": \"approved\",\n",
    "}, {\"tech_stack\": True})\n"
   ],
   "metadata": {
    "collapsed": false,
    "pycharm": {
     "name": "#%%\n"
    }
   }
  },
  {
   "cell_type": "code",
   "execution_count": 215,
   "outputs": [],
   "source": [
    "mentees = DataFrame(mentees)\n"
   ],
   "metadata": {
    "collapsed": false,
    "pycharm": {
     "name": "#%%\n"
    }
   }
  },
  {
   "cell_type": "code",
   "execution_count": 216,
   "outputs": [
    {
     "data": {
      "text/html": "\n<div id=\"altair-viz-7905480ccc214b14a66e7a52d5e694ac\"></div>\n<script type=\"text/javascript\">\n  var VEGA_DEBUG = (typeof VEGA_DEBUG == \"undefined\") ? {} : VEGA_DEBUG;\n  (function(spec, embedOpt){\n    let outputDiv = document.currentScript.previousElementSibling;\n    if (outputDiv.id !== \"altair-viz-7905480ccc214b14a66e7a52d5e694ac\") {\n      outputDiv = document.getElementById(\"altair-viz-7905480ccc214b14a66e7a52d5e694ac\");\n    }\n    const paths = {\n      \"vega\": \"https://cdn.jsdelivr.net/npm//vega@5?noext\",\n      \"vega-lib\": \"https://cdn.jsdelivr.net/npm//vega-lib?noext\",\n      \"vega-lite\": \"https://cdn.jsdelivr.net/npm//vega-lite@4.17.0?noext\",\n      \"vega-embed\": \"https://cdn.jsdelivr.net/npm//vega-embed@6?noext\",\n    };\n\n    function maybeLoadScript(lib, version) {\n      var key = `${lib.replace(\"-\", \"\")}_version`;\n      return (VEGA_DEBUG[key] == version) ?\n        Promise.resolve(paths[lib]) :\n        new Promise(function(resolve, reject) {\n          var s = document.createElement('script');\n          document.getElementsByTagName(\"head\")[0].appendChild(s);\n          s.async = true;\n          s.onload = () => {\n            VEGA_DEBUG[key] = version;\n            return resolve(paths[lib]);\n          };\n          s.onerror = () => reject(`Error loading script: ${paths[lib]}`);\n          s.src = paths[lib];\n        });\n    }\n\n    function showError(err) {\n      outputDiv.innerHTML = `<div class=\"error\" style=\"color:red;\">${err}</div>`;\n      throw err;\n    }\n\n    function displayChart(vegaEmbed) {\n      vegaEmbed(outputDiv, spec, embedOpt)\n        .catch(err => showError(`Javascript Error: ${err.message}<br>This usually means there's a typo in your chart specification. See the javascript console for the full traceback.`));\n    }\n\n    if(typeof define === \"function\" && define.amd) {\n      requirejs.config({paths});\n      require([\"vega-embed\"], displayChart, err => showError(`Error loading script: ${err.message}`));\n    } else {\n      maybeLoadScript(\"vega\", \"5\")\n        .then(() => maybeLoadScript(\"vega-lite\", \"4.17.0\"))\n        .then(() => maybeLoadScript(\"vega-embed\", \"6\"))\n        .catch(showError)\n        .then(() => displayChart(vegaEmbed));\n    }\n  })({\"config\": {\"view\": {\"continuousWidth\": 400, \"continuousHeight\": 300, \"stroke\": \"#FFF\"}, \"legend\": {\"padding\": 24}, \"title\": {\"fontSize\": 20, \"offset\": 24}}, \"data\": {\"name\": \"data-d2ba63c8fdbf458c9d58dd46621e98f4\"}, \"mark\": {\"type\": \"arc\", \"innerRadius\": 80}, \"encoding\": {\"color\": {\"field\": \"tech_stack\", \"type\": \"nominal\"}, \"theta\": {\"aggregate\": \"count\", \"type\": \"quantitative\"}, \"tooltip\": [{\"field\": \"tech_stack\", \"type\": \"nominal\"}, {\"aggregate\": \"count\", \"type\": \"quantitative\"}]}, \"height\": 400, \"padding\": 24, \"title\": \"Mentee Tech Stacks\", \"width\": 480, \"$schema\": \"https://vega.github.io/schema/vega-lite/v4.17.0.json\", \"datasets\": {\"data-d2ba63c8fdbf458c9d58dd46621e98f4\": [{\"tech_stack\": \"Data Science\"}, {\"tech_stack\": \"Career Development\"}, {\"tech_stack\": \"Frontend\"}, {\"tech_stack\": \"Data Science\"}, {\"tech_stack\": \"iOS\"}, {\"tech_stack\": \"Career Development\"}, {\"tech_stack\": \"Data Science\"}, {\"tech_stack\": \"Android\"}, {\"tech_stack\": \"iOS\"}, {\"tech_stack\": \"Career Development\"}, {\"tech_stack\": \"Android\"}, {\"tech_stack\": \"Android\"}, {\"tech_stack\": \"Career Development\"}, {\"tech_stack\": \"Career Development\"}, {\"tech_stack\": \"Career Development\"}, {\"tech_stack\": \"iOS\"}, {\"tech_stack\": \"Data Science\"}, {\"tech_stack\": \"Android\"}, {\"tech_stack\": \"Career Development\"}, {\"tech_stack\": \"Data Science\"}, {\"tech_stack\": \"Android\"}, {\"tech_stack\": \"Data Science\"}, {\"tech_stack\": \"iOS\"}, {\"tech_stack\": \"Career Development\"}, {\"tech_stack\": \"Data Science\"}, {\"tech_stack\": \"Android\"}, {\"tech_stack\": \"Design UI/UX\"}, {\"tech_stack\": \"Android\"}, {\"tech_stack\": \"iOS\"}, {\"tech_stack\": \"Android\"}, {\"tech_stack\": \"Backend\"}, {\"tech_stack\": \"Android\"}, {\"tech_stack\": \"Career Development\"}, {\"tech_stack\": \"Career Development\"}, {\"tech_stack\": \"Career Development\"}, {\"tech_stack\": \"Android\"}, {\"tech_stack\": \"Career Development\"}, {\"tech_stack\": \"Data Science\"}, {\"tech_stack\": \"Android\"}, {\"tech_stack\": \"Android\"}, {\"tech_stack\": \"Career Development\"}, {\"tech_stack\": \"Design UI/UX\"}, {\"tech_stack\": \"Design UI/UX\"}, {\"tech_stack\": \"Backend\"}, {\"tech_stack\": \"iOS\"}, {\"tech_stack\": \"Data Science\"}, {\"tech_stack\": \"iOS\"}, {\"tech_stack\": \"Design UI/UX\"}, {\"tech_stack\": \"Career Development\"}, {\"tech_stack\": \"iOS\"}, {\"tech_stack\": \"Android\"}, {\"tech_stack\": \"Career Development\"}, {\"tech_stack\": \"Android\"}, {\"tech_stack\": \"Android\"}, {\"tech_stack\": \"Data Science\"}, {\"tech_stack\": \"Android\"}, {\"tech_stack\": \"Backend\"}, {\"tech_stack\": \"Android\"}, {\"tech_stack\": \"Design UI/UX\"}, {\"tech_stack\": \"iOS\"}, {\"tech_stack\": \"Android\"}, {\"tech_stack\": \"iOS\"}, {\"tech_stack\": \"Career Development\"}, {\"tech_stack\": \"Career Development\"}, {\"tech_stack\": \"Career Development\"}, {\"tech_stack\": \"Backend\"}, {\"tech_stack\": \"Data Science\"}, {\"tech_stack\": \"Career Development\"}, {\"tech_stack\": \"iOS\"}, {\"tech_stack\": \"Career Development\"}, {\"tech_stack\": \"iOS\"}, {\"tech_stack\": \"Android\"}, {\"tech_stack\": \"Career Development\"}, {\"tech_stack\": \"Data Science\"}, {\"tech_stack\": \"Data Science\"}, {\"tech_stack\": \"Design UI/UX\"}, {\"tech_stack\": \"Data Science\"}, {\"tech_stack\": \"Data Science\"}, {\"tech_stack\": \"iOS\"}, {\"tech_stack\": \"iOS\"}, {\"tech_stack\": \"Design UI/UX\"}, {\"tech_stack\": \"Career Development\"}, {\"tech_stack\": \"Data Science\"}, {\"tech_stack\": \"Data Science\"}, {\"tech_stack\": \"Career Development\"}, {\"tech_stack\": \"Data Science\"}, {\"tech_stack\": \"Android\"}, {\"tech_stack\": \"Data Science\"}, {\"tech_stack\": \"Data Science\"}]}}, {\"mode\": \"vega-lite\"});\n</script>",
      "text/plain": "alt.Chart(...)"
     },
     "execution_count": 216,
     "metadata": {},
     "output_type": "execute_result"
    }
   ],
   "source": [
    "pie_chart(mentees, \"tech_stack\", \"Mentee Tech Stacks\")\n"
   ],
   "metadata": {
    "collapsed": false,
    "pycharm": {
     "name": "#%%\n"
    }
   }
  },
  {
   "cell_type": "markdown",
   "source": [
    "### Stacked Bar Chart"
   ],
   "metadata": {
    "collapsed": false,
    "pycharm": {
     "name": "#%% md\n"
    }
   }
  },
  {
   "cell_type": "code",
   "execution_count": 217,
   "outputs": [],
   "source": [
    "# Data Source\n",
    "DB = MongoDB()\n",
    "\n",
    "# Mentors\n",
    "mentors = DB.projection(\"Mentors\", {\n",
    "    \"validate_status\": \"approved\",\n",
    "    \"is_active\": True,\n",
    "    \"accepting_new_mentees\": True,\n",
    "}, {\"tech_stack\": True})\n",
    "mentors_df = DataFrame(mentors)\n",
    "mentors_df = mentors_df.explode(column=\"tech_stack\", ignore_index=True)\n",
    "mentors_df[\"role\"] = [\"Mentor\"] * mentors_df.shape[0]\n",
    "\n",
    "# Mentees\n",
    "mentees = DB.projection(\"Mentees\", {\n",
    "    \"is_active\": True,\n",
    "    \"validate_status\": \"approved\",\n",
    "}, {\"tech_stack\": True})\n",
    "mentees_df = DataFrame(mentees)\n",
    "mentees_df[\"role\"] = [\"Mentee\"] * mentees_df.shape[0]\n",
    "\n",
    "# Combined DFs\n",
    "df = pandas.concat([mentees_df, mentors_df], ignore_index=True)"
   ],
   "metadata": {
    "collapsed": false,
    "pycharm": {
     "name": "#%%\n"
    }
   }
  },
  {
   "cell_type": "code",
   "execution_count": 218,
   "outputs": [],
   "source": [
    "def bar_chart(x, y, z, title):\n",
    "    return Chart(\n",
    "        df,\n",
    "        title=title,\n",
    "    ).mark_bar().encode(\n",
    "        x=X(x, title=x.replace(\"_\", \" \").title(), sort=\"-y\"),\n",
    "        y=Y(y, title=y.replace(\"_\", \" \").title()),\n",
    "        color=Color(z, title=z.replace(\"_\", \" \").title()),\n",
    "        tooltip=Tooltip([z, x, y]),\n",
    "    ).properties(\n",
    "        width=480,\n",
    "        height=400,\n",
    "        padding=24,\n",
    "    ).configure(\n",
    "        legend={\"padding\": 24},\n",
    "        title={\"fontSize\": 20, \"offset\": 24},\n",
    "        view={\"stroke\": \"#FFF\"},\n",
    "    )"
   ],
   "metadata": {
    "collapsed": false,
    "pycharm": {
     "name": "#%%\n"
    }
   }
  },
  {
   "cell_type": "code",
   "execution_count": 219,
   "outputs": [
    {
     "data": {
      "text/html": "\n<div id=\"altair-viz-64c08565317246e1b0f0fec5cc601a82\"></div>\n<script type=\"text/javascript\">\n  var VEGA_DEBUG = (typeof VEGA_DEBUG == \"undefined\") ? {} : VEGA_DEBUG;\n  (function(spec, embedOpt){\n    let outputDiv = document.currentScript.previousElementSibling;\n    if (outputDiv.id !== \"altair-viz-64c08565317246e1b0f0fec5cc601a82\") {\n      outputDiv = document.getElementById(\"altair-viz-64c08565317246e1b0f0fec5cc601a82\");\n    }\n    const paths = {\n      \"vega\": \"https://cdn.jsdelivr.net/npm//vega@5?noext\",\n      \"vega-lib\": \"https://cdn.jsdelivr.net/npm//vega-lib?noext\",\n      \"vega-lite\": \"https://cdn.jsdelivr.net/npm//vega-lite@4.17.0?noext\",\n      \"vega-embed\": \"https://cdn.jsdelivr.net/npm//vega-embed@6?noext\",\n    };\n\n    function maybeLoadScript(lib, version) {\n      var key = `${lib.replace(\"-\", \"\")}_version`;\n      return (VEGA_DEBUG[key] == version) ?\n        Promise.resolve(paths[lib]) :\n        new Promise(function(resolve, reject) {\n          var s = document.createElement('script');\n          document.getElementsByTagName(\"head\")[0].appendChild(s);\n          s.async = true;\n          s.onload = () => {\n            VEGA_DEBUG[key] = version;\n            return resolve(paths[lib]);\n          };\n          s.onerror = () => reject(`Error loading script: ${paths[lib]}`);\n          s.src = paths[lib];\n        });\n    }\n\n    function showError(err) {\n      outputDiv.innerHTML = `<div class=\"error\" style=\"color:red;\">${err}</div>`;\n      throw err;\n    }\n\n    function displayChart(vegaEmbed) {\n      vegaEmbed(outputDiv, spec, embedOpt)\n        .catch(err => showError(`Javascript Error: ${err.message}<br>This usually means there's a typo in your chart specification. See the javascript console for the full traceback.`));\n    }\n\n    if(typeof define === \"function\" && define.amd) {\n      requirejs.config({paths});\n      require([\"vega-embed\"], displayChart, err => showError(`Error loading script: ${err.message}`));\n    } else {\n      maybeLoadScript(\"vega\", \"5\")\n        .then(() => maybeLoadScript(\"vega-lite\", \"4.17.0\"))\n        .then(() => maybeLoadScript(\"vega-embed\", \"6\"))\n        .catch(showError)\n        .then(() => displayChart(vegaEmbed));\n    }\n  })({\"config\": {\"view\": {\"continuousWidth\": 400, \"continuousHeight\": 300, \"stroke\": \"#FFF\"}, \"legend\": {\"padding\": 24}, \"title\": {\"fontSize\": 20, \"offset\": 24}}, \"data\": {\"name\": \"data-03e8585892bca5750eca5bd9db7bc7b8\"}, \"mark\": \"bar\", \"encoding\": {\"color\": {\"field\": \"role\", \"title\": \"Role\", \"type\": \"nominal\"}, \"tooltip\": [{\"field\": \"role\", \"type\": \"nominal\"}, {\"field\": \"tech_stack\", \"type\": \"nominal\"}, {\"aggregate\": \"count\", \"field\": \"tech_stack\", \"type\": \"nominal\"}], \"x\": {\"field\": \"tech_stack\", \"sort\": \"-y\", \"title\": \"Tech Stack\", \"type\": \"nominal\"}, \"y\": {\"aggregate\": \"count\", \"field\": \"tech_stack\", \"title\": \"Count(Tech Stack)\", \"type\": \"nominal\"}}, \"height\": 400, \"padding\": 24, \"title\": \"Tech Stack Count by Role\", \"width\": 480, \"$schema\": \"https://vega.github.io/schema/vega-lite/v4.17.0.json\", \"datasets\": {\"data-03e8585892bca5750eca5bd9db7bc7b8\": [{\"tech_stack\": \"Data Science\", \"role\": \"Mentee\"}, {\"tech_stack\": \"Career Development\", \"role\": \"Mentee\"}, {\"tech_stack\": \"Frontend\", \"role\": \"Mentee\"}, {\"tech_stack\": \"Data Science\", \"role\": \"Mentee\"}, {\"tech_stack\": \"iOS\", \"role\": \"Mentee\"}, {\"tech_stack\": \"Career Development\", \"role\": \"Mentee\"}, {\"tech_stack\": \"Data Science\", \"role\": \"Mentee\"}, {\"tech_stack\": \"Android\", \"role\": \"Mentee\"}, {\"tech_stack\": \"iOS\", \"role\": \"Mentee\"}, {\"tech_stack\": \"Career Development\", \"role\": \"Mentee\"}, {\"tech_stack\": \"Android\", \"role\": \"Mentee\"}, {\"tech_stack\": \"Android\", \"role\": \"Mentee\"}, {\"tech_stack\": \"Career Development\", \"role\": \"Mentee\"}, {\"tech_stack\": \"Career Development\", \"role\": \"Mentee\"}, {\"tech_stack\": \"Career Development\", \"role\": \"Mentee\"}, {\"tech_stack\": \"iOS\", \"role\": \"Mentee\"}, {\"tech_stack\": \"Data Science\", \"role\": \"Mentee\"}, {\"tech_stack\": \"Android\", \"role\": \"Mentee\"}, {\"tech_stack\": \"Career Development\", \"role\": \"Mentee\"}, {\"tech_stack\": \"Data Science\", \"role\": \"Mentee\"}, {\"tech_stack\": \"Android\", \"role\": \"Mentee\"}, {\"tech_stack\": \"Data Science\", \"role\": \"Mentee\"}, {\"tech_stack\": \"iOS\", \"role\": \"Mentee\"}, {\"tech_stack\": \"Career Development\", \"role\": \"Mentee\"}, {\"tech_stack\": \"Data Science\", \"role\": \"Mentee\"}, {\"tech_stack\": \"Android\", \"role\": \"Mentee\"}, {\"tech_stack\": \"Design UI/UX\", \"role\": \"Mentee\"}, {\"tech_stack\": \"Android\", \"role\": \"Mentee\"}, {\"tech_stack\": \"iOS\", \"role\": \"Mentee\"}, {\"tech_stack\": \"Android\", \"role\": \"Mentee\"}, {\"tech_stack\": \"Backend\", \"role\": \"Mentee\"}, {\"tech_stack\": \"Android\", \"role\": \"Mentee\"}, {\"tech_stack\": \"Career Development\", \"role\": \"Mentee\"}, {\"tech_stack\": \"Career Development\", \"role\": \"Mentee\"}, {\"tech_stack\": \"Career Development\", \"role\": \"Mentee\"}, {\"tech_stack\": \"Android\", \"role\": \"Mentee\"}, {\"tech_stack\": \"Career Development\", \"role\": \"Mentee\"}, {\"tech_stack\": \"Data Science\", \"role\": \"Mentee\"}, {\"tech_stack\": \"Android\", \"role\": \"Mentee\"}, {\"tech_stack\": \"Android\", \"role\": \"Mentee\"}, {\"tech_stack\": \"Career Development\", \"role\": \"Mentee\"}, {\"tech_stack\": \"Design UI/UX\", \"role\": \"Mentee\"}, {\"tech_stack\": \"Design UI/UX\", \"role\": \"Mentee\"}, {\"tech_stack\": \"Backend\", \"role\": \"Mentee\"}, {\"tech_stack\": \"iOS\", \"role\": \"Mentee\"}, {\"tech_stack\": \"Data Science\", \"role\": \"Mentee\"}, {\"tech_stack\": \"iOS\", \"role\": \"Mentee\"}, {\"tech_stack\": \"Design UI/UX\", \"role\": \"Mentee\"}, {\"tech_stack\": \"Career Development\", \"role\": \"Mentee\"}, {\"tech_stack\": \"iOS\", \"role\": \"Mentee\"}, {\"tech_stack\": \"Android\", \"role\": \"Mentee\"}, {\"tech_stack\": \"Career Development\", \"role\": \"Mentee\"}, {\"tech_stack\": \"Android\", \"role\": \"Mentee\"}, {\"tech_stack\": \"Android\", \"role\": \"Mentee\"}, {\"tech_stack\": \"Data Science\", \"role\": \"Mentee\"}, {\"tech_stack\": \"Android\", \"role\": \"Mentee\"}, {\"tech_stack\": \"Backend\", \"role\": \"Mentee\"}, {\"tech_stack\": \"Android\", \"role\": \"Mentee\"}, {\"tech_stack\": \"Design UI/UX\", \"role\": \"Mentee\"}, {\"tech_stack\": \"iOS\", \"role\": \"Mentee\"}, {\"tech_stack\": \"Android\", \"role\": \"Mentee\"}, {\"tech_stack\": \"iOS\", \"role\": \"Mentee\"}, {\"tech_stack\": \"Career Development\", \"role\": \"Mentee\"}, {\"tech_stack\": \"Career Development\", \"role\": \"Mentee\"}, {\"tech_stack\": \"Career Development\", \"role\": \"Mentee\"}, {\"tech_stack\": \"Backend\", \"role\": \"Mentee\"}, {\"tech_stack\": \"Data Science\", \"role\": \"Mentee\"}, {\"tech_stack\": \"Career Development\", \"role\": \"Mentee\"}, {\"tech_stack\": \"iOS\", \"role\": \"Mentee\"}, {\"tech_stack\": \"Career Development\", \"role\": \"Mentee\"}, {\"tech_stack\": \"iOS\", \"role\": \"Mentee\"}, {\"tech_stack\": \"Android\", \"role\": \"Mentee\"}, {\"tech_stack\": \"Career Development\", \"role\": \"Mentee\"}, {\"tech_stack\": \"Data Science\", \"role\": \"Mentee\"}, {\"tech_stack\": \"Data Science\", \"role\": \"Mentee\"}, {\"tech_stack\": \"Design UI/UX\", \"role\": \"Mentee\"}, {\"tech_stack\": \"Data Science\", \"role\": \"Mentee\"}, {\"tech_stack\": \"Data Science\", \"role\": \"Mentee\"}, {\"tech_stack\": \"iOS\", \"role\": \"Mentee\"}, {\"tech_stack\": \"iOS\", \"role\": \"Mentee\"}, {\"tech_stack\": \"Design UI/UX\", \"role\": \"Mentee\"}, {\"tech_stack\": \"Career Development\", \"role\": \"Mentee\"}, {\"tech_stack\": \"Data Science\", \"role\": \"Mentee\"}, {\"tech_stack\": \"Data Science\", \"role\": \"Mentee\"}, {\"tech_stack\": \"Career Development\", \"role\": \"Mentee\"}, {\"tech_stack\": \"Data Science\", \"role\": \"Mentee\"}, {\"tech_stack\": \"Android\", \"role\": \"Mentee\"}, {\"tech_stack\": \"Data Science\", \"role\": \"Mentee\"}, {\"tech_stack\": \"Data Science\", \"role\": \"Mentee\"}, {\"tech_stack\": \"Backend\", \"role\": \"Mentor\"}, {\"tech_stack\": \"Android\", \"role\": \"Mentor\"}, {\"tech_stack\": \"iOS\", \"role\": \"Mentor\"}, {\"tech_stack\": \"Backend\", \"role\": \"Mentor\"}, {\"tech_stack\": \"iOS\", \"role\": \"Mentor\"}, {\"tech_stack\": \"Frontend\", \"role\": \"Mentor\"}, {\"tech_stack\": \"iOS\", \"role\": \"Mentor\"}, {\"tech_stack\": \"Backend\", \"role\": \"Mentor\"}, {\"tech_stack\": \"Backend\", \"role\": \"Mentor\"}, {\"tech_stack\": \"iOS\", \"role\": \"Mentor\"}, {\"tech_stack\": \"Design UI/UX\", \"role\": \"Mentor\"}, {\"tech_stack\": \"Backend\", \"role\": \"Mentor\"}, {\"tech_stack\": \"Frontend\", \"role\": \"Mentor\"}, {\"tech_stack\": \"Backend\", \"role\": \"Mentor\"}, {\"tech_stack\": \"iOS\", \"role\": \"Mentor\"}, {\"tech_stack\": \"Design UI/UX\", \"role\": \"Mentor\"}, {\"tech_stack\": \"Frontend\", \"role\": \"Mentor\"}, {\"tech_stack\": \"iOS\", \"role\": \"Mentor\"}, {\"tech_stack\": \"Career Development\", \"role\": \"Mentor\"}, {\"tech_stack\": \"Android\", \"role\": \"Mentor\"}, {\"tech_stack\": \"Design UI/UX\", \"role\": \"Mentor\"}, {\"tech_stack\": \"Data Science\", \"role\": \"Mentor\"}, {\"tech_stack\": \"Frontend\", \"role\": \"Mentor\"}, {\"tech_stack\": \"Design UI/UX\", \"role\": \"Mentor\"}, {\"tech_stack\": \"Frontend\", \"role\": \"Mentor\"}, {\"tech_stack\": \"Backend\", \"role\": \"Mentor\"}, {\"tech_stack\": \"Design UI/UX\", \"role\": \"Mentor\"}, {\"tech_stack\": \"Frontend\", \"role\": \"Mentor\"}, {\"tech_stack\": \"Design UI/UX\", \"role\": \"Mentor\"}, {\"tech_stack\": \"Android\", \"role\": \"Mentor\"}, {\"tech_stack\": \"Design UI/UX\", \"role\": \"Mentor\"}, {\"tech_stack\": \"Backend\", \"role\": \"Mentor\"}, {\"tech_stack\": \"Design UI/UX\", \"role\": \"Mentor\"}, {\"tech_stack\": \"Backend\", \"role\": \"Mentor\"}, {\"tech_stack\": \"iOS\", \"role\": \"Mentor\"}, {\"tech_stack\": \"Backend\", \"role\": \"Mentor\"}, {\"tech_stack\": \"iOS\", \"role\": \"Mentor\"}]}}, {\"mode\": \"vega-lite\"});\n</script>",
      "text/plain": "alt.Chart(...)"
     },
     "execution_count": 219,
     "metadata": {},
     "output_type": "execute_result"
    }
   ],
   "source": [
    "bar_chart(\n",
    "    x=\"tech_stack\",\n",
    "    y=\"count(tech_stack)\",\n",
    "    z=\"role\",\n",
    "    title=\"Tech Stack Count by Role\",\n",
    ")"
   ],
   "metadata": {
    "collapsed": false,
    "pycharm": {
     "name": "#%%\n"
    }
   }
  },
  {
   "cell_type": "code",
   "execution_count": 219,
   "outputs": [],
   "source": [],
   "metadata": {
    "collapsed": false,
    "pycharm": {
     "name": "#%%\n"
    }
   }
  }
 ],
 "metadata": {
  "kernelspec": {
   "display_name": "Python 3",
   "language": "python",
   "name": "python3"
  },
  "language_info": {
   "codemirror_mode": {
    "name": "ipython",
    "version": 2
   },
   "file_extension": ".py",
   "mimetype": "text/x-python",
   "name": "python",
   "nbconvert_exporter": "python",
   "pygments_lexer": "ipython2",
   "version": "2.7.6"
  }
 },
 "nbformat": 4,
 "nbformat_minor": 0
}