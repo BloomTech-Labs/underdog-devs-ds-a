{
 "cells": [
  {
   "cell_type": "code",
   "execution_count": 74,
   "outputs": [],
   "source": [
    "from altair import Chart, Color, Tooltip\n",
    "from pandas import DataFrame\n",
    "\n",
    "from app.data import MongoDB\n"
   ],
   "metadata": {
    "collapsed": false,
    "pycharm": {
     "name": "#%%\n"
    }
   }
  },
  {
   "cell_type": "code",
   "execution_count": 89,
   "outputs": [],
   "source": [
    "def pie_chart(df, column, title):\n",
    "    chart = Chart(\n",
    "        df,\n",
    "        title=title\n",
    "    ).mark_arc(innerRadius=80).encode(\n",
    "        color=Color(column),\n",
    "        theta=\"count()\",\n",
    "        tooltip=Tooltip([column, \"count()\"]),\n",
    "    ).properties(\n",
    "        width=480,\n",
    "        height=400,\n",
    "        padding=24,\n",
    "    ).configure(\n",
    "        legend={\"padding\": 24},\n",
    "        title={\"fontSize\": 20, \"offset\": 24},\n",
    "        view={\"stroke\": \"#FFF\"},\n",
    "    )\n",
    "    return chart"
   ],
   "metadata": {
    "collapsed": false,
    "pycharm": {
     "name": "#%%\n"
    }
   }
  },
  {
   "cell_type": "code",
   "execution_count": 75,
   "outputs": [],
   "source": [
    "DB = MongoDB()\n"
   ],
   "metadata": {
    "collapsed": false,
    "pycharm": {
     "name": "#%%\n"
    }
   }
  },
  {
   "cell_type": "code",
   "execution_count": 90,
   "outputs": [],
   "source": [
    "mentors = DB.read(\"Mentors\", {\n",
    "    \"validate_status\": \"approved\",\n",
    "    \"is_active\": True,\n",
    "    \"accepting_new_mentees\": True,\n",
    "})\n"
   ],
   "metadata": {
    "collapsed": false,
    "pycharm": {
     "name": "#%%\n"
    }
   }
  },
  {
   "cell_type": "code",
   "execution_count": 91,
   "outputs": [],
   "source": [
    "mentors = DataFrame(mentors)[[\"tech_stack\"]]\n"
   ],
   "metadata": {
    "collapsed": false,
    "pycharm": {
     "name": "#%%\n"
    }
   }
  },
  {
   "cell_type": "code",
   "execution_count": 92,
   "outputs": [],
   "source": [
    "mentors = mentors.explode(ignore_index=True, column=\"tech_stack\")\n"
   ],
   "metadata": {
    "collapsed": false,
    "pycharm": {
     "name": "#%%\n"
    }
   }
  },
  {
   "cell_type": "code",
   "execution_count": 93,
   "outputs": [
    {
     "data": {
      "text/html": "\n<div id=\"altair-viz-e23e843875944e4a9c2882e71f4a8486\"></div>\n<script type=\"text/javascript\">\n  var VEGA_DEBUG = (typeof VEGA_DEBUG == \"undefined\") ? {} : VEGA_DEBUG;\n  (function(spec, embedOpt){\n    let outputDiv = document.currentScript.previousElementSibling;\n    if (outputDiv.id !== \"altair-viz-e23e843875944e4a9c2882e71f4a8486\") {\n      outputDiv = document.getElementById(\"altair-viz-e23e843875944e4a9c2882e71f4a8486\");\n    }\n    const paths = {\n      \"vega\": \"https://cdn.jsdelivr.net/npm//vega@5?noext\",\n      \"vega-lib\": \"https://cdn.jsdelivr.net/npm//vega-lib?noext\",\n      \"vega-lite\": \"https://cdn.jsdelivr.net/npm//vega-lite@4.17.0?noext\",\n      \"vega-embed\": \"https://cdn.jsdelivr.net/npm//vega-embed@6?noext\",\n    };\n\n    function maybeLoadScript(lib, version) {\n      var key = `${lib.replace(\"-\", \"\")}_version`;\n      return (VEGA_DEBUG[key] == version) ?\n        Promise.resolve(paths[lib]) :\n        new Promise(function(resolve, reject) {\n          var s = document.createElement('script');\n          document.getElementsByTagName(\"head\")[0].appendChild(s);\n          s.async = true;\n          s.onload = () => {\n            VEGA_DEBUG[key] = version;\n            return resolve(paths[lib]);\n          };\n          s.onerror = () => reject(`Error loading script: ${paths[lib]}`);\n          s.src = paths[lib];\n        });\n    }\n\n    function showError(err) {\n      outputDiv.innerHTML = `<div class=\"error\" style=\"color:red;\">${err}</div>`;\n      throw err;\n    }\n\n    function displayChart(vegaEmbed) {\n      vegaEmbed(outputDiv, spec, embedOpt)\n        .catch(err => showError(`Javascript Error: ${err.message}<br>This usually means there's a typo in your chart specification. See the javascript console for the full traceback.`));\n    }\n\n    if(typeof define === \"function\" && define.amd) {\n      requirejs.config({paths});\n      require([\"vega-embed\"], displayChart, err => showError(`Error loading script: ${err.message}`));\n    } else {\n      maybeLoadScript(\"vega\", \"5\")\n        .then(() => maybeLoadScript(\"vega-lite\", \"4.17.0\"))\n        .then(() => maybeLoadScript(\"vega-embed\", \"6\"))\n        .catch(showError)\n        .then(() => displayChart(vegaEmbed));\n    }\n  })({\"config\": {\"view\": {\"continuousWidth\": 400, \"continuousHeight\": 300, \"stroke\": \"#FFF\"}, \"legend\": {\"padding\": 24}, \"title\": {\"fontSize\": 20, \"offset\": 24}}, \"data\": {\"name\": \"data-30930ef642c46ce9f4955a752f0538be\"}, \"mark\": {\"type\": \"arc\", \"innerRadius\": 80}, \"encoding\": {\"color\": {\"field\": \"tech_stack\", \"type\": \"nominal\"}, \"theta\": {\"aggregate\": \"count\", \"type\": \"quantitative\"}, \"tooltip\": [{\"field\": \"tech_stack\", \"type\": \"nominal\"}, {\"aggregate\": \"count\", \"type\": \"quantitative\"}]}, \"height\": 400, \"padding\": 24, \"title\": \"Mentor Tech Stacks\", \"width\": 480, \"$schema\": \"https://vega.github.io/schema/vega-lite/v4.17.0.json\", \"datasets\": {\"data-30930ef642c46ce9f4955a752f0538be\": [{\"tech_stack\": \"iOS\"}, {\"tech_stack\": \"Data Science\"}, {\"tech_stack\": \"Design UI/UX\"}, {\"tech_stack\": \"Design UI/UX\"}, {\"tech_stack\": \"Career Development\"}, {\"tech_stack\": \"Frontend\"}, {\"tech_stack\": \"Design UI/UX\"}, {\"tech_stack\": \"Career Development\"}, {\"tech_stack\": \"Design UI/UX\"}, {\"tech_stack\": \"iOS\"}, {\"tech_stack\": \"Data Science\"}, {\"tech_stack\": \"Data Science\"}, {\"tech_stack\": \"Android\"}, {\"tech_stack\": \"Frontend\"}, {\"tech_stack\": \"Career Development\"}, {\"tech_stack\": \"iOS\"}, {\"tech_stack\": \"Data Science\"}, {\"tech_stack\": \"Design UI/UX\"}, {\"tech_stack\": \"iOS\"}, {\"tech_stack\": \"Backend\"}]}}, {\"mode\": \"vega-lite\"});\n</script>",
      "text/plain": "alt.Chart(...)"
     },
     "execution_count": 93,
     "metadata": {},
     "output_type": "execute_result"
    }
   ],
   "source": [
    "pie_chart(mentors, \"tech_stack\", \"Mentor Tech Stacks\")\n"
   ],
   "metadata": {
    "collapsed": false,
    "pycharm": {
     "name": "#%%\n"
    }
   }
  },
  {
   "cell_type": "code",
   "execution_count": 81,
   "outputs": [],
   "source": [
    "mentees = DataFrame(DB.read(\"Mentees\", {\n",
    "    \"is_active\": True,\n",
    "    \"validate_status\": \"approved\",\n",
    "}))[[\"tech_stack\"]]\n"
   ],
   "metadata": {
    "collapsed": false,
    "pycharm": {
     "name": "#%%\n"
    }
   }
  },
  {
   "cell_type": "code",
   "execution_count": 82,
   "outputs": [
    {
     "data": {
      "text/html": "\n<div id=\"altair-viz-992e04bc6b7943c08a746cb94f3a2e30\"></div>\n<script type=\"text/javascript\">\n  var VEGA_DEBUG = (typeof VEGA_DEBUG == \"undefined\") ? {} : VEGA_DEBUG;\n  (function(spec, embedOpt){\n    let outputDiv = document.currentScript.previousElementSibling;\n    if (outputDiv.id !== \"altair-viz-992e04bc6b7943c08a746cb94f3a2e30\") {\n      outputDiv = document.getElementById(\"altair-viz-992e04bc6b7943c08a746cb94f3a2e30\");\n    }\n    const paths = {\n      \"vega\": \"https://cdn.jsdelivr.net/npm//vega@5?noext\",\n      \"vega-lib\": \"https://cdn.jsdelivr.net/npm//vega-lib?noext\",\n      \"vega-lite\": \"https://cdn.jsdelivr.net/npm//vega-lite@4.17.0?noext\",\n      \"vega-embed\": \"https://cdn.jsdelivr.net/npm//vega-embed@6?noext\",\n    };\n\n    function maybeLoadScript(lib, version) {\n      var key = `${lib.replace(\"-\", \"\")}_version`;\n      return (VEGA_DEBUG[key] == version) ?\n        Promise.resolve(paths[lib]) :\n        new Promise(function(resolve, reject) {\n          var s = document.createElement('script');\n          document.getElementsByTagName(\"head\")[0].appendChild(s);\n          s.async = true;\n          s.onload = () => {\n            VEGA_DEBUG[key] = version;\n            return resolve(paths[lib]);\n          };\n          s.onerror = () => reject(`Error loading script: ${paths[lib]}`);\n          s.src = paths[lib];\n        });\n    }\n\n    function showError(err) {\n      outputDiv.innerHTML = `<div class=\"error\" style=\"color:red;\">${err}</div>`;\n      throw err;\n    }\n\n    function displayChart(vegaEmbed) {\n      vegaEmbed(outputDiv, spec, embedOpt)\n        .catch(err => showError(`Javascript Error: ${err.message}<br>This usually means there's a typo in your chart specification. See the javascript console for the full traceback.`));\n    }\n\n    if(typeof define === \"function\" && define.amd) {\n      requirejs.config({paths});\n      require([\"vega-embed\"], displayChart, err => showError(`Error loading script: ${err.message}`));\n    } else {\n      maybeLoadScript(\"vega\", \"5\")\n        .then(() => maybeLoadScript(\"vega-lite\", \"4.17.0\"))\n        .then(() => maybeLoadScript(\"vega-embed\", \"6\"))\n        .catch(showError)\n        .then(() => displayChart(vegaEmbed));\n    }\n  })({\"config\": {\"view\": {\"continuousWidth\": 400, \"continuousHeight\": 300, \"stroke\": \"#FFF\"}, \"legend\": {\"padding\": 24}, \"title\": {\"fontSize\": 20, \"offset\": 24}}, \"data\": {\"name\": \"data-38e096630079d3935f1ed2d8a88dc2d4\"}, \"mark\": {\"type\": \"arc\", \"innerRadius\": 80}, \"encoding\": {\"color\": {\"field\": \"tech_stack\", \"type\": \"nominal\"}, \"theta\": {\"aggregate\": \"count\", \"type\": \"quantitative\"}, \"tooltip\": [{\"field\": \"tech_stack\", \"type\": \"nominal\"}, {\"aggregate\": \"count\", \"type\": \"quantitative\"}]}, \"height\": 400, \"padding\": 24, \"title\": \"Mentee Tech Stacks\", \"width\": 480, \"$schema\": \"https://vega.github.io/schema/vega-lite/v4.17.0.json\", \"datasets\": {\"data-38e096630079d3935f1ed2d8a88dc2d4\": [{\"tech_stack\": \"Backend\"}, {\"tech_stack\": \"Frontend\"}, {\"tech_stack\": \"Backend\"}, {\"tech_stack\": \"Frontend\"}, {\"tech_stack\": \"Android\"}, {\"tech_stack\": \"Design UI/UX\"}, {\"tech_stack\": \"Data Science\"}, {\"tech_stack\": \"Android\"}, {\"tech_stack\": \"Data Science\"}, {\"tech_stack\": \"Data Science\"}, {\"tech_stack\": \"Design UI/UX\"}, {\"tech_stack\": \"iOS\"}, {\"tech_stack\": \"Backend\"}, {\"tech_stack\": \"Data Science\"}, {\"tech_stack\": \"Career Development\"}, {\"tech_stack\": \"Data Science\"}, {\"tech_stack\": \"Android\"}, {\"tech_stack\": \"iOS\"}, {\"tech_stack\": \"Career Development\"}, {\"tech_stack\": \"Frontend\"}, {\"tech_stack\": \"Design UI/UX\"}, {\"tech_stack\": \"Career Development\"}, {\"tech_stack\": \"Frontend\"}, {\"tech_stack\": \"Career Development\"}, {\"tech_stack\": \"Career Development\"}, {\"tech_stack\": \"Design UI/UX\"}, {\"tech_stack\": \"Design UI/UX\"}, {\"tech_stack\": \"iOS\"}, {\"tech_stack\": \"Frontend\"}, {\"tech_stack\": \"Career Development\"}, {\"tech_stack\": \"Android\"}, {\"tech_stack\": \"Data Science\"}, {\"tech_stack\": \"Design UI/UX\"}, {\"tech_stack\": \"Backend\"}, {\"tech_stack\": \"Backend\"}, {\"tech_stack\": \"Design UI/UX\"}, {\"tech_stack\": \"Android\"}, {\"tech_stack\": \"iOS\"}, {\"tech_stack\": \"Backend\"}, {\"tech_stack\": \"Frontend\"}, {\"tech_stack\": \"Frontend\"}, {\"tech_stack\": \"Android\"}, {\"tech_stack\": \"Frontend\"}]}}, {\"mode\": \"vega-lite\"});\n</script>",
      "text/plain": "alt.Chart(...)"
     },
     "execution_count": 82,
     "metadata": {},
     "output_type": "execute_result"
    }
   ],
   "source": [
    "pie_chart(mentees, \"tech_stack\", \"Mentee Tech Stacks\")\n"
   ],
   "metadata": {
    "collapsed": false,
    "pycharm": {
     "name": "#%%\n"
    }
   }
  },
  {
   "cell_type": "code",
   "execution_count": null,
   "outputs": [],
   "source": [],
   "metadata": {
    "collapsed": false,
    "pycharm": {
     "name": "#%%\n"
    }
   }
  }
 ],
 "metadata": {
  "kernelspec": {
   "display_name": "Python 3",
   "language": "python",
   "name": "python3"
  },
  "language_info": {
   "codemirror_mode": {
    "name": "ipython",
    "version": 2
   },
   "file_extension": ".py",
   "mimetype": "text/x-python",
   "name": "python",
   "nbconvert_exporter": "python",
   "pygments_lexer": "ipython2",
   "version": "2.7.6"
  }
 },
 "nbformat": 4,
 "nbformat_minor": 0
}