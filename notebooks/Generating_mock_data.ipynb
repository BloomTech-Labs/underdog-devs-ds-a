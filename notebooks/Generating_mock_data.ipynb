{
  "nbformat": 4,
  "nbformat_minor": 0,
  "metadata": {
    "colab": {
      "name": "Generating mock data.ipynb",
      "provenance": [],
      "machine_shape": "hm"
    },
    "kernelspec": {
      "name": "python3",
      "display_name": "Python 3"
    },
    "language_info": {
      "name": "python"
    },
    "accelerator": "GPU"
  },
  "cells": [
    {
      "cell_type": "code",
      "execution_count": 3,
      "metadata": {
        "colab": {
          "base_uri": "https://localhost:8080/"
        },
        "id": "7FRteWcPKJ_N",
        "outputId": "f9f82cab-dc57-45f1-d66a-f1a0bfe52bd9"
      },
      "outputs": [
        {
          "output_type": "stream",
          "name": "stdout",
          "text": [
            "Collecting Fortuna\n",
            "  Downloading Fortuna-4.3.3.tar.gz (205 kB)\n",
            "\u001b[?25l\r\u001b[K     |█▋                              | 10 kB 30.9 MB/s eta 0:00:01\r\u001b[K     |███▏                            | 20 kB 26.6 MB/s eta 0:00:01\r\u001b[K     |████▉                           | 30 kB 18.3 MB/s eta 0:00:01\r\u001b[K     |██████▍                         | 40 kB 15.1 MB/s eta 0:00:01\r\u001b[K     |████████                        | 51 kB 10.0 MB/s eta 0:00:01\r\u001b[K     |█████████▋                      | 61 kB 11.1 MB/s eta 0:00:01\r\u001b[K     |███████████▏                    | 71 kB 10.0 MB/s eta 0:00:01\r\u001b[K     |████████████▊                   | 81 kB 11.2 MB/s eta 0:00:01\r\u001b[K     |██████████████▍                 | 92 kB 11.3 MB/s eta 0:00:01\r\u001b[K     |████████████████                | 102 kB 9.8 MB/s eta 0:00:01\r\u001b[K     |█████████████████▌              | 112 kB 9.8 MB/s eta 0:00:01\r\u001b[K     |███████████████████▏            | 122 kB 9.8 MB/s eta 0:00:01\r\u001b[K     |████████████████████▊           | 133 kB 9.8 MB/s eta 0:00:01\r\u001b[K     |██████████████████████▎         | 143 kB 9.8 MB/s eta 0:00:01\r\u001b[K     |████████████████████████        | 153 kB 9.8 MB/s eta 0:00:01\r\u001b[K     |█████████████████████████▌      | 163 kB 9.8 MB/s eta 0:00:01\r\u001b[K     |███████████████████████████     | 174 kB 9.8 MB/s eta 0:00:01\r\u001b[K     |████████████████████████████▊   | 184 kB 9.8 MB/s eta 0:00:01\r\u001b[K     |██████████████████████████████▎ | 194 kB 9.8 MB/s eta 0:00:01\r\u001b[K     |███████████████████████████████▉| 204 kB 9.8 MB/s eta 0:00:01\r\u001b[K     |████████████████████████████████| 205 kB 9.8 MB/s \n",
            "\u001b[?25h  Installing build dependencies ... \u001b[?25l\u001b[?25hdone\n",
            "  Getting requirements to build wheel ... \u001b[?25l\u001b[?25hdone\n",
            "    Preparing wheel metadata ... \u001b[?25l\u001b[?25hdone\n",
            "Building wheels for collected packages: Fortuna\n",
            "  Building wheel for Fortuna (PEP 517) ... \u001b[?25l\u001b[?25hdone\n",
            "  Created wheel for Fortuna: filename=Fortuna-4.3.3-cp37-cp37m-linux_x86_64.whl size=548610 sha256=60e8c255d240f72e8c54274aa1489db52e243fa300a54e12da0136b02ab88c3b\n",
            "  Stored in directory: /root/.cache/pip/wheels/e3/56/35/7372bb97ff2cf9efa75516573b096ace93af07f7697172057a\n",
            "Successfully built Fortuna\n",
            "Installing collected packages: Fortuna\n",
            "Successfully installed Fortuna-4.3.3\n"
          ]
        }
      ],
      "source": [
        "pip install Fortuna"
      ]
    },
    {
      "cell_type": "markdown",
      "source": [
        "- Track 70/30 or 80/20\n",
        "- Age 18-60\n",
        "- Gender 80/18/2"
      ],
      "metadata": {
        "id": "hDeER8SnLOJD"
      }
    },
    {
      "cell_type": "code",
      "source": [
        "!pip install MonkeyScope"
      ],
      "metadata": {
        "colab": {
          "base_uri": "https://localhost:8080/"
        },
        "id": "Nhp4j2geMqsN",
        "outputId": "b1eae9b7-79f9-4de4-a47e-39e5a96b96bc"
      },
      "execution_count": 4,
      "outputs": [
        {
          "output_type": "stream",
          "name": "stdout",
          "text": [
            "Collecting MonkeyScope\n",
            "  Downloading MonkeyScope-1.4.4.tar.gz (64 kB)\n",
            "\u001b[?25l\r\u001b[K     |█████                           | 10 kB 38.0 MB/s eta 0:00:01\r\u001b[K     |██████████▏                     | 20 kB 21.1 MB/s eta 0:00:01\r\u001b[K     |███████████████▎                | 30 kB 17.4 MB/s eta 0:00:01\r\u001b[K     |████████████████████▍           | 40 kB 15.6 MB/s eta 0:00:01\r\u001b[K     |█████████████████████████▌      | 51 kB 9.8 MB/s eta 0:00:01\r\u001b[K     |██████████████████████████████▋ | 61 kB 11.4 MB/s eta 0:00:01\r\u001b[K     |████████████████████████████████| 64 kB 2.4 MB/s \n",
            "\u001b[?25h  Installing build dependencies ... \u001b[?25l\u001b[?25hdone\n",
            "  Getting requirements to build wheel ... \u001b[?25l\u001b[?25hdone\n",
            "    Preparing wheel metadata ... \u001b[?25l\u001b[?25hdone\n",
            "Building wheels for collected packages: MonkeyScope\n",
            "  Building wheel for MonkeyScope (PEP 517) ... \u001b[?25l\u001b[?25hdone\n",
            "  Created wheel for MonkeyScope: filename=MonkeyScope-1.4.4-cp37-cp37m-linux_x86_64.whl size=164664 sha256=aa33a1f2b6c6074579791a1be11a07a0e24d66e1c7940d97eb7049343dd4ed2c\n",
            "  Stored in directory: /root/.cache/pip/wheels/94/16/b2/f5362876169718becdaa85b6de728271fcfbfff898b135009b\n",
            "Successfully built MonkeyScope\n",
            "Installing collected packages: MonkeyScope\n",
            "Successfully installed MonkeyScope-1.4.4\n"
          ]
        }
      ]
    },
    {
      "cell_type": "code",
      "source": [
        "from Fortuna import random_int,percent_true,RandomValue"
      ],
      "metadata": {
        "id": "z3Ttx4LfMCO4"
      },
      "execution_count": 5,
      "outputs": []
    },
    {
      "cell_type": "code",
      "source": [
        "random_int(1,20)"
      ],
      "metadata": {
        "colab": {
          "base_uri": "https://localhost:8080/"
        },
        "id": "z1K5uHkeMHCu",
        "outputId": "489cf038-4d37-449e-ca23-721d1a67fec6"
      },
      "execution_count": 6,
      "outputs": [
        {
          "output_type": "execute_result",
          "data": {
            "text/plain": [
              "11"
            ]
          },
          "metadata": {},
          "execution_count": 6
        }
      ]
    },
    {
      "cell_type": "code",
      "source": [
        "random_track = lambda : \"Web\" if percent_true(80) else \"DS\""
      ],
      "metadata": {
        "id": "lCfQ7_JkMRY7"
      },
      "execution_count": 7,
      "outputs": []
    },
    {
      "cell_type": "code",
      "source": [
        "random_track()"
      ],
      "metadata": {
        "colab": {
          "base_uri": "https://localhost:8080/",
          "height": 35
        },
        "id": "pQ9iir5DMfZ0",
        "outputId": "808508ed-c5de-439f-e6d1-985a830ad9de"
      },
      "execution_count": 8,
      "outputs": [
        {
          "output_type": "execute_result",
          "data": {
            "application/vnd.google.colaboratory.intrinsic+json": {
              "type": "string"
            },
            "text/plain": [
              "'Web'"
            ]
          },
          "metadata": {},
          "execution_count": 8
        }
      ]
    },
    {
      "cell_type": "code",
      "source": [
        "from MonkeyScope import distribution"
      ],
      "metadata": {
        "id": "C6_PpyTGM3jH"
      },
      "execution_count": 9,
      "outputs": []
    },
    {
      "cell_type": "code",
      "source": [
        "distribution(random_track)"
      ],
      "metadata": {
        "colab": {
          "base_uri": "https://localhost:8080/"
        },
        "id": "3RRJPObLM8Q8",
        "outputId": "9e31a18d-2f60-4a87-e808-f5265386682e"
      },
      "execution_count": 10,
      "outputs": [
        {
          "output_type": "stream",
          "name": "stdout",
          "text": [
            "Distribution of 1000000 samples:\n",
            " DS: 20.0004%\n",
            " Web: 79.9996%\n"
          ]
        }
      ]
    },
    {
      "cell_type": "code",
      "source": [
        "random_gender = lambda : \"Male\" if percent_true(80) else \"Female\" if percent_true(90) else \"Non-Binary\""
      ],
      "metadata": {
        "id": "dRVk9kJDNDc1"
      },
      "execution_count": 11,
      "outputs": []
    },
    {
      "cell_type": "code",
      "source": [
        "distribution(random_gender)"
      ],
      "metadata": {
        "colab": {
          "base_uri": "https://localhost:8080/"
        },
        "id": "24wbOix_NT82",
        "outputId": "ee018c9f-05d7-44c5-f1f2-31c85ec407a8"
      },
      "execution_count": 12,
      "outputs": [
        {
          "output_type": "stream",
          "name": "stdout",
          "text": [
            "Distribution of 1000000 samples:\n",
            " Female: 17.9193%\n",
            " Male: 80.0748%\n",
            " Non-Binary: 2.0059%\n"
          ]
        }
      ]
    },
    {
      "cell_type": "code",
      "source": [
        "from Fortuna import front_poisson"
      ],
      "metadata": {
        "id": "OdVZrTj_NZ_S"
      },
      "execution_count": 13,
      "outputs": []
    },
    {
      "cell_type": "code",
      "source": [
        "distribution(front_poisson,20)"
      ],
      "metadata": {
        "colab": {
          "base_uri": "https://localhost:8080/"
        },
        "id": "DhKFxgZMN1vV",
        "outputId": "8f6f3a5d-1b9e-4d37-b0a3-571bbd495ad5"
      },
      "execution_count": 14,
      "outputs": [
        {
          "output_type": "stream",
          "name": "stdout",
          "text": [
            "Statistics of 1000 samples:\n",
            " Minimum: 0\n",
            " Median: 5\n",
            " Maximum: 15\n",
            " Mean: 5.035\n",
            " Std Deviation: 2.2326575554168087\n",
            "Distribution of 1000000 samples:\n",
            " 0: 0.6623%\n",
            " 1: 3.332%\n",
            " 2: 8.4215%\n",
            " 3: 14.1118%\n",
            " 4: 17.5029%\n",
            " 5: 17.5729%\n",
            " 6: 14.5855%\n",
            " 7: 10.4403%\n",
            " 8: 6.5508%\n",
            " 9: 3.6106%\n",
            " 10: 1.8176%\n",
            " 11: 0.8469%\n",
            " 12: 0.3399%\n",
            " 13: 0.1365%\n",
            " 14: 0.0455%\n",
            " 15: 0.0164%\n",
            " 16: 0.0048%\n",
            " 17: 0.0012%\n",
            " 18: 0.0004%\n",
            " 19: 0.0002%\n"
          ]
        }
      ]
    },
    {
      "cell_type": "code",
      "source": [
        "random_age = RandomValue(range(18,61),front_poisson)"
      ],
      "metadata": {
        "id": "R4Ei9u_kOGGt"
      },
      "execution_count": 15,
      "outputs": []
    },
    {
      "cell_type": "code",
      "source": [
        "random_age()"
      ],
      "metadata": {
        "colab": {
          "base_uri": "https://localhost:8080/"
        },
        "id": "F-R7ObUiRUzI",
        "outputId": "4637d816-15a3-48e5-d132-122a0abf4ccb"
      },
      "execution_count": 16,
      "outputs": [
        {
          "output_type": "execute_result",
          "data": {
            "text/plain": [
              "26"
            ]
          },
          "metadata": {},
          "execution_count": 16
        }
      ]
    },
    {
      "cell_type": "code",
      "source": [
        "distribution(random_age)"
      ],
      "metadata": {
        "colab": {
          "base_uri": "https://localhost:8080/"
        },
        "id": "Kz4QDAJFRYAF",
        "outputId": "f9e64c52-cc69-4db1-e0f5-50f4aaff4116"
      },
      "execution_count": 17,
      "outputs": [
        {
          "output_type": "stream",
          "name": "stdout",
          "text": [
            "Statistics of 1000 samples:\n",
            " Minimum: 20\n",
            " Median: 28\n",
            " Maximum: 38\n",
            " Mean: 28.641\n",
            " Std Deviation: 3.286779871229882\n",
            "Distribution of 1000000 samples:\n",
            " 18: 0.0018%\n",
            " 19: 0.0239%\n",
            " 20: 0.1208%\n",
            " 21: 0.4353%\n",
            " 22: 1.1919%\n",
            " 23: 2.5426%\n",
            " 24: 4.5612%\n",
            " 25: 7.049%\n",
            " 26: 9.5187%\n",
            " 27: 11.3582%\n",
            " 28: 12.0988%\n",
            " 29: 11.9782%\n",
            " 30: 10.696%\n",
            " 31: 8.828%\n",
            " 32: 6.7443%\n",
            " 33: 4.8251%\n",
            " 34: 3.2874%\n",
            " 35: 2.0885%\n",
            " 36: 1.2188%\n",
            " 37: 0.6906%\n",
            " 38: 0.371%\n",
            " 39: 0.1947%\n",
            " 40: 0.0963%\n",
            " 41: 0.0443%\n",
            " 42: 0.0191%\n",
            " 43: 0.009%\n",
            " 44: 0.003%\n",
            " 45: 0.0019%\n",
            " 46: 0.001%\n",
            " 47: 0.0004%\n",
            " 48: 0.0002%\n"
          ]
        }
      ]
    },
    {
      "cell_type": "code",
      "source": [
        "from Fortuna import CumulativeWeightedChoice, RelativeWeightedChoice"
      ],
      "metadata": {
        "id": "Qi9QFibBSAnP"
      },
      "execution_count": 18,
      "outputs": []
    },
    {
      "cell_type": "code",
      "source": [
        "class RandomUser:\n",
        "    random_age = RandomValue(\n",
        "        range(18,60),\n",
        "        front_poisson,\n",
        "    )\n",
        "    random_track = CumulativeWeightedChoice((\n",
        "        (80, \"Web\"),\n",
        "        (100, \"DS\"),\n",
        "    ))\n",
        "    random_gender = RelativeWeightedChoice((\n",
        "        (80, \"Male\"),\n",
        "        (18, \"Female\"),\n",
        "        (2, \"Non-binary\"),      \n",
        "    ))\n",
        "\n",
        "    def __init__(self):\n",
        "        self.age = self.random_age()\n",
        "        self.track = self.random_track()\n",
        "        self.gender = self.random_gender()\n",
        "\n",
        "    def __repr__(self):\n",
        "        output = (\n",
        "            f\"Track : {self.track}\",\n",
        "            f\"Age : {self.age}\",\n",
        "            f\"Gender : {self.gender}\",\n",
        "        )\n",
        "        return \"\\n\" .join(output)\n",
        "\n",
        "    def to_dict(self):\n",
        "        return {\n",
        "            \"Track\" : self.track,\n",
        "            \"Age\" : self.age,\n",
        "            \"Gender\" : self.gender\n",
        "            \n",
        "        }\n"
      ],
      "metadata": {
        "id": "V0LpfSGORtXP"
      },
      "execution_count": 19,
      "outputs": []
    },
    {
      "cell_type": "code",
      "source": [
        "user = RandomUser()\n",
        "user"
      ],
      "metadata": {
        "colab": {
          "base_uri": "https://localhost:8080/"
        },
        "id": "DSLaTvCLUsYF",
        "outputId": "d5ac1069-bd38-42b0-e923-9f068cdd2bc3"
      },
      "execution_count": 20,
      "outputs": [
        {
          "output_type": "execute_result",
          "data": {
            "text/plain": [
              "Track : DS\n",
              "Age : 36\n",
              "Gender : Male"
            ]
          },
          "metadata": {},
          "execution_count": 20
        }
      ]
    },
    {
      "cell_type": "code",
      "source": [
        "import pandas as pd\n"
      ],
      "metadata": {
        "id": "mi97flGAU4CJ"
      },
      "execution_count": 21,
      "outputs": []
    },
    {
      "cell_type": "code",
      "source": [
        "df = pd.DataFrame(RandomUser().to_dict() for _ in range(1000000))"
      ],
      "metadata": {
        "id": "NqOn9vOfU7zS"
      },
      "execution_count": 22,
      "outputs": []
    },
    {
      "cell_type": "code",
      "source": [
        "df"
      ],
      "metadata": {
        "colab": {
          "base_uri": "https://localhost:8080/",
          "height": 423
        },
        "id": "sCrImZopVF3R",
        "outputId": "a4142aab-2a5b-4a63-87e1-d21e98941510"
      },
      "execution_count": 23,
      "outputs": [
        {
          "output_type": "execute_result",
          "data": {
            "text/html": [
              "\n",
              "  <div id=\"df-98206cc3-4b7f-43db-aa4d-5dbecdd41d17\">\n",
              "    <div class=\"colab-df-container\">\n",
              "      <div>\n",
              "<style scoped>\n",
              "    .dataframe tbody tr th:only-of-type {\n",
              "        vertical-align: middle;\n",
              "    }\n",
              "\n",
              "    .dataframe tbody tr th {\n",
              "        vertical-align: top;\n",
              "    }\n",
              "\n",
              "    .dataframe thead th {\n",
              "        text-align: right;\n",
              "    }\n",
              "</style>\n",
              "<table border=\"1\" class=\"dataframe\">\n",
              "  <thead>\n",
              "    <tr style=\"text-align: right;\">\n",
              "      <th></th>\n",
              "      <th>Track</th>\n",
              "      <th>Age</th>\n",
              "      <th>Gender</th>\n",
              "    </tr>\n",
              "  </thead>\n",
              "  <tbody>\n",
              "    <tr>\n",
              "      <th>0</th>\n",
              "      <td>Web</td>\n",
              "      <td>27</td>\n",
              "      <td>Male</td>\n",
              "    </tr>\n",
              "    <tr>\n",
              "      <th>1</th>\n",
              "      <td>Web</td>\n",
              "      <td>29</td>\n",
              "      <td>Male</td>\n",
              "    </tr>\n",
              "    <tr>\n",
              "      <th>2</th>\n",
              "      <td>Web</td>\n",
              "      <td>31</td>\n",
              "      <td>Non-binary</td>\n",
              "    </tr>\n",
              "    <tr>\n",
              "      <th>3</th>\n",
              "      <td>DS</td>\n",
              "      <td>28</td>\n",
              "      <td>Male</td>\n",
              "    </tr>\n",
              "    <tr>\n",
              "      <th>4</th>\n",
              "      <td>Web</td>\n",
              "      <td>29</td>\n",
              "      <td>Female</td>\n",
              "    </tr>\n",
              "    <tr>\n",
              "      <th>...</th>\n",
              "      <td>...</td>\n",
              "      <td>...</td>\n",
              "      <td>...</td>\n",
              "    </tr>\n",
              "    <tr>\n",
              "      <th>999995</th>\n",
              "      <td>Web</td>\n",
              "      <td>27</td>\n",
              "      <td>Male</td>\n",
              "    </tr>\n",
              "    <tr>\n",
              "      <th>999996</th>\n",
              "      <td>DS</td>\n",
              "      <td>29</td>\n",
              "      <td>Male</td>\n",
              "    </tr>\n",
              "    <tr>\n",
              "      <th>999997</th>\n",
              "      <td>Web</td>\n",
              "      <td>26</td>\n",
              "      <td>Male</td>\n",
              "    </tr>\n",
              "    <tr>\n",
              "      <th>999998</th>\n",
              "      <td>Web</td>\n",
              "      <td>24</td>\n",
              "      <td>Male</td>\n",
              "    </tr>\n",
              "    <tr>\n",
              "      <th>999999</th>\n",
              "      <td>Web</td>\n",
              "      <td>29</td>\n",
              "      <td>Male</td>\n",
              "    </tr>\n",
              "  </tbody>\n",
              "</table>\n",
              "<p>1000000 rows × 3 columns</p>\n",
              "</div>\n",
              "      <button class=\"colab-df-convert\" onclick=\"convertToInteractive('df-98206cc3-4b7f-43db-aa4d-5dbecdd41d17')\"\n",
              "              title=\"Convert this dataframe to an interactive table.\"\n",
              "              style=\"display:none;\">\n",
              "        \n",
              "  <svg xmlns=\"http://www.w3.org/2000/svg\" height=\"24px\"viewBox=\"0 0 24 24\"\n",
              "       width=\"24px\">\n",
              "    <path d=\"M0 0h24v24H0V0z\" fill=\"none\"/>\n",
              "    <path d=\"M18.56 5.44l.94 2.06.94-2.06 2.06-.94-2.06-.94-.94-2.06-.94 2.06-2.06.94zm-11 1L8.5 8.5l.94-2.06 2.06-.94-2.06-.94L8.5 2.5l-.94 2.06-2.06.94zm10 10l.94 2.06.94-2.06 2.06-.94-2.06-.94-.94-2.06-.94 2.06-2.06.94z\"/><path d=\"M17.41 7.96l-1.37-1.37c-.4-.4-.92-.59-1.43-.59-.52 0-1.04.2-1.43.59L10.3 9.45l-7.72 7.72c-.78.78-.78 2.05 0 2.83L4 21.41c.39.39.9.59 1.41.59.51 0 1.02-.2 1.41-.59l7.78-7.78 2.81-2.81c.8-.78.8-2.07 0-2.86zM5.41 20L4 18.59l7.72-7.72 1.47 1.35L5.41 20z\"/>\n",
              "  </svg>\n",
              "      </button>\n",
              "      \n",
              "  <style>\n",
              "    .colab-df-container {\n",
              "      display:flex;\n",
              "      flex-wrap:wrap;\n",
              "      gap: 12px;\n",
              "    }\n",
              "\n",
              "    .colab-df-convert {\n",
              "      background-color: #E8F0FE;\n",
              "      border: none;\n",
              "      border-radius: 50%;\n",
              "      cursor: pointer;\n",
              "      display: none;\n",
              "      fill: #1967D2;\n",
              "      height: 32px;\n",
              "      padding: 0 0 0 0;\n",
              "      width: 32px;\n",
              "    }\n",
              "\n",
              "    .colab-df-convert:hover {\n",
              "      background-color: #E2EBFA;\n",
              "      box-shadow: 0px 1px 2px rgba(60, 64, 67, 0.3), 0px 1px 3px 1px rgba(60, 64, 67, 0.15);\n",
              "      fill: #174EA6;\n",
              "    }\n",
              "\n",
              "    [theme=dark] .colab-df-convert {\n",
              "      background-color: #3B4455;\n",
              "      fill: #D2E3FC;\n",
              "    }\n",
              "\n",
              "    [theme=dark] .colab-df-convert:hover {\n",
              "      background-color: #434B5C;\n",
              "      box-shadow: 0px 1px 3px 1px rgba(0, 0, 0, 0.15);\n",
              "      filter: drop-shadow(0px 1px 2px rgba(0, 0, 0, 0.3));\n",
              "      fill: #FFFFFF;\n",
              "    }\n",
              "  </style>\n",
              "\n",
              "      <script>\n",
              "        const buttonEl =\n",
              "          document.querySelector('#df-98206cc3-4b7f-43db-aa4d-5dbecdd41d17 button.colab-df-convert');\n",
              "        buttonEl.style.display =\n",
              "          google.colab.kernel.accessAllowed ? 'block' : 'none';\n",
              "\n",
              "        async function convertToInteractive(key) {\n",
              "          const element = document.querySelector('#df-98206cc3-4b7f-43db-aa4d-5dbecdd41d17');\n",
              "          const dataTable =\n",
              "            await google.colab.kernel.invokeFunction('convertToInteractive',\n",
              "                                                     [key], {});\n",
              "          if (!dataTable) return;\n",
              "\n",
              "          const docLinkHtml = 'Like what you see? Visit the ' +\n",
              "            '<a target=\"_blank\" href=https://colab.research.google.com/notebooks/data_table.ipynb>data table notebook</a>'\n",
              "            + ' to learn more about interactive tables.';\n",
              "          element.innerHTML = '';\n",
              "          dataTable['output_type'] = 'display_data';\n",
              "          await google.colab.output.renderOutput(dataTable, element);\n",
              "          const docLink = document.createElement('div');\n",
              "          docLink.innerHTML = docLinkHtml;\n",
              "          element.appendChild(docLink);\n",
              "        }\n",
              "      </script>\n",
              "    </div>\n",
              "  </div>\n",
              "  "
            ],
            "text/plain": [
              "       Track  Age      Gender\n",
              "0        Web   27        Male\n",
              "1        Web   29        Male\n",
              "2        Web   31  Non-binary\n",
              "3         DS   28        Male\n",
              "4        Web   29      Female\n",
              "...      ...  ...         ...\n",
              "999995   Web   27        Male\n",
              "999996    DS   29        Male\n",
              "999997   Web   26        Male\n",
              "999998   Web   24        Male\n",
              "999999   Web   29        Male\n",
              "\n",
              "[1000000 rows x 3 columns]"
            ]
          },
          "metadata": {},
          "execution_count": 23
        }
      ]
    },
    {
      "cell_type": "code",
      "source": [
        "# from Fortuna import FlexCat"
      ],
      "metadata": {
        "id": "vyXKthPFVXbv"
      },
      "execution_count": 24,
      "outputs": []
    },
    {
      "cell_type": "code",
      "source": [
        "# random_name = FlexCat({\n",
        "#     \"male\" : (\"John\",\"Paul\",\"George\",\"Ringo\"),\n",
        "#     \"female\" : (\"Mary\",\"Jane\",\"Jessie\",\"Andrea\"),\n",
        "#     \"non-binary\" : (\"Pat\",\"Jamie\",\"Jessie\",\"Riley\"),   \n",
        "# }, key_bias = \"front_linear\", val_bias = \"truffle_shuffle\"  \n",
        "# )\n"
      ],
      "metadata": {
        "id": "wtSel_7QXJc7"
      },
      "execution_count": 26,
      "outputs": []
    },
    {
      "cell_type": "code",
      "source": [
        "# random_name(\"male\")"
      ],
      "metadata": {
        "colab": {
          "base_uri": "https://localhost:8080/",
          "height": 35
        },
        "id": "Le_uRFKdX_td",
        "outputId": "0e633105-0a81-46ec-aef3-ff92cb575e12"
      },
      "execution_count": 27,
      "outputs": [
        {
          "output_type": "execute_result",
          "data": {
            "application/vnd.google.colaboratory.intrinsic+json": {
              "type": "string"
            },
            "text/plain": [
              "'Paul'"
            ]
          },
          "metadata": {},
          "execution_count": 27
        }
      ]
    },
    {
      "cell_type": "code",
      "source": [
        "# random_name()"
      ],
      "metadata": {
        "colab": {
          "base_uri": "https://localhost:8080/",
          "height": 35
        },
        "id": "6FrzCLUVYGPI",
        "outputId": "24ee1e29-3f69-4545-bc1c-2b47e8aa922a"
      },
      "execution_count": 28,
      "outputs": [
        {
          "output_type": "execute_result",
          "data": {
            "application/vnd.google.colaboratory.intrinsic+json": {
              "type": "string"
            },
            "text/plain": [
              "'Ringo'"
            ]
          },
          "metadata": {},
          "execution_count": 28
        }
      ]
    }
  ]
}