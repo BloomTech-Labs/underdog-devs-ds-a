{
  "nbformat": 4,
  "nbformat_minor": 0,
  "metadata": {
    "colab": {
      "name": "Generating mock data.ipynb",
      "provenance": [],
      "collapsed_sections": [],
      "machine_shape": "hm"
    },
    "kernelspec": {
      "name": "python3",
      "display_name": "Python 3"
    },
    "language_info": {
      "name": "python"
    },
    "accelerator": "GPU"
  },
  "cells": [
    {
      "cell_type": "code",
      "execution_count": 27,
      "metadata": {
        "colab": {
          "base_uri": "https://localhost:8080/"
        },
        "id": "7FRteWcPKJ_N",
        "outputId": "101d4c16-f501-44eb-ef5f-9b7f156e5e46"
      },
      "outputs": [
        {
          "output_type": "stream",
          "name": "stdout",
          "text": [
            "Requirement already satisfied: Fortuna in /usr/local/lib/python3.7/dist-packages (4.3.3)\n"
          ]
        }
      ],
      "source": [
        "!pip install Fortuna"
      ]
    },
    {
      "cell_type": "markdown",
      "source": [
        "- Track 70/30 or 80/20\n",
        "- Age 18-60\n",
        "- Gender 80/18/2"
      ],
      "metadata": {
        "id": "hDeER8SnLOJD"
      }
    },
    {
      "cell_type": "code",
      "source": [
        "!pip install MonkeyScope"
      ],
      "metadata": {
        "colab": {
          "base_uri": "https://localhost:8080/"
        },
        "id": "Nhp4j2geMqsN",
        "outputId": "5c53e04f-75b0-40e4-ea80-264ebd158272"
      },
      "execution_count": 28,
      "outputs": [
        {
          "output_type": "stream",
          "name": "stdout",
          "text": [
            "Requirement already satisfied: MonkeyScope in /usr/local/lib/python3.7/dist-packages (1.4.4)\n"
          ]
        }
      ]
    },
    {
      "cell_type": "markdown",
      "source": [
        "- Importing Fortuna library"
      ],
      "metadata": {
        "id": "LZ589M52__My"
      }
    },
    {
      "cell_type": "code",
      "source": [
        "from Fortuna import random_int,percent_true,RandomValue"
      ],
      "metadata": {
        "id": "z3Ttx4LfMCO4"
      },
      "execution_count": 29,
      "outputs": []
    },
    {
      "cell_type": "code",
      "source": [
        "random_int(1,20)"
      ],
      "metadata": {
        "colab": {
          "base_uri": "https://localhost:8080/"
        },
        "id": "z1K5uHkeMHCu",
        "outputId": "328186e7-f7d7-4314-cdb8-0e19493d41f9"
      },
      "execution_count": 30,
      "outputs": [
        {
          "output_type": "execute_result",
          "data": {
            "text/plain": [
              "4"
            ]
          },
          "metadata": {},
          "execution_count": 30
        }
      ]
    },
    {
      "cell_type": "code",
      "source": [
        "random_track = lambda : \"Web\" if percent_true(80) else \"DS\""
      ],
      "metadata": {
        "id": "lCfQ7_JkMRY7"
      },
      "execution_count": 31,
      "outputs": []
    },
    {
      "cell_type": "code",
      "source": [
        "random_track()"
      ],
      "metadata": {
        "colab": {
          "base_uri": "https://localhost:8080/",
          "height": 35
        },
        "id": "pQ9iir5DMfZ0",
        "outputId": "905ac1bc-66b0-44e7-dbc0-9f0b27309e1c"
      },
      "execution_count": 32,
      "outputs": [
        {
          "output_type": "execute_result",
          "data": {
            "application/vnd.google.colaboratory.intrinsic+json": {
              "type": "string"
            },
            "text/plain": [
              "'Web'"
            ]
          },
          "metadata": {},
          "execution_count": 32
        }
      ]
    },
    {
      "cell_type": "markdown",
      "source": [
        "- Importing MonkeyScope Library"
      ],
      "metadata": {
        "id": "0p0h_KHX_4aP"
      }
    },
    {
      "cell_type": "code",
      "source": [
        "from MonkeyScope import distribution"
      ],
      "metadata": {
        "id": "C6_PpyTGM3jH"
      },
      "execution_count": 33,
      "outputs": []
    },
    {
      "cell_type": "code",
      "source": [
        "distribution(random_track)"
      ],
      "metadata": {
        "colab": {
          "base_uri": "https://localhost:8080/"
        },
        "id": "3RRJPObLM8Q8",
        "outputId": "3cff92cf-f749-4897-9208-f8b7e5e684e1"
      },
      "execution_count": 34,
      "outputs": [
        {
          "output_type": "stream",
          "name": "stdout",
          "text": [
            "Distribution of 1000000 samples:\n",
            " DS: 19.9737%\n",
            " Web: 80.0263%\n"
          ]
        }
      ]
    },
    {
      "cell_type": "code",
      "source": [
        "random_gender = lambda : \"Male\" if percent_true(80) else \"Female\" if percent_true(90) else \"Non-Binary\""
      ],
      "metadata": {
        "id": "dRVk9kJDNDc1"
      },
      "execution_count": 35,
      "outputs": []
    },
    {
      "cell_type": "code",
      "source": [
        "distribution(random_gender)"
      ],
      "metadata": {
        "colab": {
          "base_uri": "https://localhost:8080/"
        },
        "id": "24wbOix_NT82",
        "outputId": "0755e3e7-317b-401b-fdd4-207f5ccd0566"
      },
      "execution_count": 36,
      "outputs": [
        {
          "output_type": "stream",
          "name": "stdout",
          "text": [
            "Distribution of 1000000 samples:\n",
            " Female: 18.0074%\n",
            " Male: 79.9873%\n",
            " Non-Binary: 2.0053%\n"
          ]
        }
      ]
    },
    {
      "cell_type": "markdown",
      "source": [
        "- Poisson Distribution is a Discrete Distribution. It estimates how many times an event can happen in a specified time"
      ],
      "metadata": {
        "id": "y-P14DzD9zda"
      }
    },
    {
      "cell_type": "code",
      "source": [
        "from Fortuna import front_poisson"
      ],
      "metadata": {
        "id": "OdVZrTj_NZ_S"
      },
      "execution_count": 37,
      "outputs": []
    },
    {
      "cell_type": "code",
      "source": [
        "distribution(front_poisson,20)"
      ],
      "metadata": {
        "colab": {
          "base_uri": "https://localhost:8080/"
        },
        "id": "DhKFxgZMN1vV",
        "outputId": "e8f3415f-8a05-4380-e14d-0e1a8c4bfdb6"
      },
      "execution_count": 38,
      "outputs": [
        {
          "output_type": "stream",
          "name": "stdout",
          "text": [
            "Statistics of 1000 samples:\n",
            " Minimum: 0\n",
            " Median: 5\n",
            " Maximum: 14\n",
            " Mean: 5.026\n",
            " Std Deviation: 2.333831778593044\n",
            "Distribution of 1000000 samples:\n",
            " 0: 0.6748%\n",
            " 1: 3.3269%\n",
            " 2: 8.4276%\n",
            " 3: 13.9742%\n",
            " 4: 17.5622%\n",
            " 5: 17.5357%\n",
            " 6: 14.6417%\n",
            " 7: 10.5159%\n",
            " 8: 6.5046%\n",
            " 9: 3.6323%\n",
            " 10: 1.8041%\n",
            " 11: 0.8324%\n",
            " 12: 0.3552%\n",
            " 13: 0.1384%\n",
            " 14: 0.0496%\n",
            " 15: 0.017%\n",
            " 16: 0.0057%\n",
            " 17: 0.0012%\n",
            " 18: 0.0002%\n",
            " 19: 0.0003%\n"
          ]
        }
      ]
    },
    {
      "cell_type": "code",
      "source": [
        "random_age = RandomValue(range(18,61),front_poisson)"
      ],
      "metadata": {
        "id": "R4Ei9u_kOGGt"
      },
      "execution_count": 39,
      "outputs": []
    },
    {
      "cell_type": "code",
      "source": [
        "random_age()"
      ],
      "metadata": {
        "colab": {
          "base_uri": "https://localhost:8080/"
        },
        "id": "F-R7ObUiRUzI",
        "outputId": "09bec394-a6ee-43e9-eba8-791bc77ffd39"
      },
      "execution_count": 40,
      "outputs": [
        {
          "output_type": "execute_result",
          "data": {
            "text/plain": [
              "26"
            ]
          },
          "metadata": {},
          "execution_count": 40
        }
      ]
    },
    {
      "cell_type": "code",
      "source": [
        "distribution(random_age)"
      ],
      "metadata": {
        "colab": {
          "base_uri": "https://localhost:8080/"
        },
        "id": "Kz4QDAJFRYAF",
        "outputId": "ae595e24-be37-48bc-aeec-3b68243cc9d0"
      },
      "execution_count": 41,
      "outputs": [
        {
          "output_type": "stream",
          "name": "stdout",
          "text": [
            "Statistics of 1000 samples:\n",
            " Minimum: 19\n",
            " Median: 29\n",
            " Maximum: 43\n",
            " Mean: 28.869\n",
            " Std Deviation: 3.301020408257988\n",
            "Distribution of 1000000 samples:\n",
            " 18: 0.0016%\n",
            " 19: 0.0205%\n",
            " 20: 0.1199%\n",
            " 21: 0.4314%\n",
            " 22: 1.2%\n",
            " 23: 2.5626%\n",
            " 24: 4.5924%\n",
            " 25: 7.0726%\n",
            " 26: 9.4983%\n",
            " 27: 11.3353%\n",
            " 28: 12.2094%\n",
            " 29: 11.9303%\n",
            " 30: 10.604%\n",
            " 31: 8.7868%\n",
            " 32: 6.7692%\n",
            " 33: 4.8771%\n",
            " 34: 3.2563%\n",
            " 35: 2.0644%\n",
            " 36: 1.2455%\n",
            " 37: 0.6974%\n",
            " 38: 0.3652%\n",
            " 39: 0.1874%\n",
            " 40: 0.0948%\n",
            " 41: 0.0436%\n",
            " 42: 0.0192%\n",
            " 43: 0.0082%\n",
            " 44: 0.0037%\n",
            " 45: 0.0016%\n",
            " 46: 0.0006%\n",
            " 47: 0.0005%\n",
            " 48: 0.0001%\n",
            " 49: 0.0001%\n"
          ]
        }
      ]
    },
    {
      "cell_type": "markdown",
      "source": [
        "- CumulativeWeightedChoice takes a set of numbers representing the weight that are Cumulative in nature.\n",
        "- RelativeWeightedChoice takes a set of numbers representing the weight that are Relative in nature"
      ],
      "metadata": {
        "id": "SYePCtH7_Cbx"
      }
    },
    {
      "cell_type": "code",
      "source": [
        "from Fortuna import CumulativeWeightedChoice, RelativeWeightedChoice"
      ],
      "metadata": {
        "id": "Qi9QFibBSAnP"
      },
      "execution_count": 42,
      "outputs": []
    },
    {
      "cell_type": "code",
      "source": [
        "class RandomUser:\n",
        "    random_age = RandomValue(\n",
        "        range(18,60),\n",
        "        front_poisson,\n",
        "    )\n",
        "    random_track = CumulativeWeightedChoice((\n",
        "        (80, \"Web\"),\n",
        "        (100, \"DS\"),\n",
        "    ))\n",
        "    random_gender = RelativeWeightedChoice((\n",
        "        (80, \"Male\"),\n",
        "        (18, \"Female\"),\n",
        "        (2, \"Non-binary\"),      \n",
        "    ))\n",
        "\n",
        "    def __init__(self):\n",
        "        self.age = self.random_age()\n",
        "        self.track = self.random_track()\n",
        "        self.gender = self.random_gender()\n",
        "\n",
        "    def __repr__(self):\n",
        "        output = (\n",
        "            f\"Track : {self.track}\",\n",
        "            f\"Age : {self.age}\",\n",
        "            f\"Gender : {self.gender}\",\n",
        "        )\n",
        "        return \"\\n\" .join(output)\n",
        "\n",
        "    def to_dict(self):\n",
        "        return {\n",
        "            \"Track\" : self.track,\n",
        "            \"Age\" : self.age,\n",
        "            \"Gender\" : self.gender\n",
        "            \n",
        "        }\n"
      ],
      "metadata": {
        "id": "V0LpfSGORtXP"
      },
      "execution_count": 43,
      "outputs": []
    },
    {
      "cell_type": "code",
      "source": [
        "user = RandomUser()\n",
        "user"
      ],
      "metadata": {
        "colab": {
          "base_uri": "https://localhost:8080/"
        },
        "id": "DSLaTvCLUsYF",
        "outputId": "e0e804a4-967f-425c-a1f5-3c540a3b9ab7"
      },
      "execution_count": 44,
      "outputs": [
        {
          "output_type": "execute_result",
          "data": {
            "text/plain": [
              "Track : Web\n",
              "Age : 32\n",
              "Gender : Male"
            ]
          },
          "metadata": {},
          "execution_count": 44
        }
      ]
    },
    {
      "cell_type": "code",
      "source": [
        "import pandas as pd\n"
      ],
      "metadata": {
        "id": "mi97flGAU4CJ"
      },
      "execution_count": 45,
      "outputs": []
    },
    {
      "cell_type": "code",
      "source": [
        "df = pd.DataFrame(RandomUser().to_dict() for _ in range(1000000))"
      ],
      "metadata": {
        "id": "NqOn9vOfU7zS"
      },
      "execution_count": 46,
      "outputs": []
    },
    {
      "cell_type": "markdown",
      "source": [
        "- Generated Data frame with 1 million rows and 3 columns Track,Age and Gender"
      ],
      "metadata": {
        "id": "gC6lEWsnDVYl"
      }
    },
    {
      "cell_type": "code",
      "source": [
        "df"
      ],
      "metadata": {
        "colab": {
          "base_uri": "https://localhost:8080/",
          "height": 423
        },
        "id": "sCrImZopVF3R",
        "outputId": "0ba758bb-96f5-401e-afe6-39f175276f3b"
      },
      "execution_count": 47,
      "outputs": [
        {
          "output_type": "execute_result",
          "data": {
            "text/html": [
              "\n",
              "  <div id=\"df-c50f54f6-c6da-4c1f-b4cb-fc956f73caef\">\n",
              "    <div class=\"colab-df-container\">\n",
              "      <div>\n",
              "<style scoped>\n",
              "    .dataframe tbody tr th:only-of-type {\n",
              "        vertical-align: middle;\n",
              "    }\n",
              "\n",
              "    .dataframe tbody tr th {\n",
              "        vertical-align: top;\n",
              "    }\n",
              "\n",
              "    .dataframe thead th {\n",
              "        text-align: right;\n",
              "    }\n",
              "</style>\n",
              "<table border=\"1\" class=\"dataframe\">\n",
              "  <thead>\n",
              "    <tr style=\"text-align: right;\">\n",
              "      <th></th>\n",
              "      <th>Track</th>\n",
              "      <th>Age</th>\n",
              "      <th>Gender</th>\n",
              "    </tr>\n",
              "  </thead>\n",
              "  <tbody>\n",
              "    <tr>\n",
              "      <th>0</th>\n",
              "      <td>Web</td>\n",
              "      <td>34</td>\n",
              "      <td>Non-binary</td>\n",
              "    </tr>\n",
              "    <tr>\n",
              "      <th>1</th>\n",
              "      <td>Web</td>\n",
              "      <td>28</td>\n",
              "      <td>Male</td>\n",
              "    </tr>\n",
              "    <tr>\n",
              "      <th>2</th>\n",
              "      <td>Web</td>\n",
              "      <td>27</td>\n",
              "      <td>Male</td>\n",
              "    </tr>\n",
              "    <tr>\n",
              "      <th>3</th>\n",
              "      <td>Web</td>\n",
              "      <td>29</td>\n",
              "      <td>Male</td>\n",
              "    </tr>\n",
              "    <tr>\n",
              "      <th>4</th>\n",
              "      <td>Web</td>\n",
              "      <td>30</td>\n",
              "      <td>Male</td>\n",
              "    </tr>\n",
              "    <tr>\n",
              "      <th>...</th>\n",
              "      <td>...</td>\n",
              "      <td>...</td>\n",
              "      <td>...</td>\n",
              "    </tr>\n",
              "    <tr>\n",
              "      <th>999995</th>\n",
              "      <td>Web</td>\n",
              "      <td>36</td>\n",
              "      <td>Female</td>\n",
              "    </tr>\n",
              "    <tr>\n",
              "      <th>999996</th>\n",
              "      <td>DS</td>\n",
              "      <td>30</td>\n",
              "      <td>Female</td>\n",
              "    </tr>\n",
              "    <tr>\n",
              "      <th>999997</th>\n",
              "      <td>Web</td>\n",
              "      <td>29</td>\n",
              "      <td>Male</td>\n",
              "    </tr>\n",
              "    <tr>\n",
              "      <th>999998</th>\n",
              "      <td>Web</td>\n",
              "      <td>26</td>\n",
              "      <td>Female</td>\n",
              "    </tr>\n",
              "    <tr>\n",
              "      <th>999999</th>\n",
              "      <td>Web</td>\n",
              "      <td>23</td>\n",
              "      <td>Female</td>\n",
              "    </tr>\n",
              "  </tbody>\n",
              "</table>\n",
              "<p>1000000 rows × 3 columns</p>\n",
              "</div>\n",
              "      <button class=\"colab-df-convert\" onclick=\"convertToInteractive('df-c50f54f6-c6da-4c1f-b4cb-fc956f73caef')\"\n",
              "              title=\"Convert this dataframe to an interactive table.\"\n",
              "              style=\"display:none;\">\n",
              "        \n",
              "  <svg xmlns=\"http://www.w3.org/2000/svg\" height=\"24px\"viewBox=\"0 0 24 24\"\n",
              "       width=\"24px\">\n",
              "    <path d=\"M0 0h24v24H0V0z\" fill=\"none\"/>\n",
              "    <path d=\"M18.56 5.44l.94 2.06.94-2.06 2.06-.94-2.06-.94-.94-2.06-.94 2.06-2.06.94zm-11 1L8.5 8.5l.94-2.06 2.06-.94-2.06-.94L8.5 2.5l-.94 2.06-2.06.94zm10 10l.94 2.06.94-2.06 2.06-.94-2.06-.94-.94-2.06-.94 2.06-2.06.94z\"/><path d=\"M17.41 7.96l-1.37-1.37c-.4-.4-.92-.59-1.43-.59-.52 0-1.04.2-1.43.59L10.3 9.45l-7.72 7.72c-.78.78-.78 2.05 0 2.83L4 21.41c.39.39.9.59 1.41.59.51 0 1.02-.2 1.41-.59l7.78-7.78 2.81-2.81c.8-.78.8-2.07 0-2.86zM5.41 20L4 18.59l7.72-7.72 1.47 1.35L5.41 20z\"/>\n",
              "  </svg>\n",
              "      </button>\n",
              "      \n",
              "  <style>\n",
              "    .colab-df-container {\n",
              "      display:flex;\n",
              "      flex-wrap:wrap;\n",
              "      gap: 12px;\n",
              "    }\n",
              "\n",
              "    .colab-df-convert {\n",
              "      background-color: #E8F0FE;\n",
              "      border: none;\n",
              "      border-radius: 50%;\n",
              "      cursor: pointer;\n",
              "      display: none;\n",
              "      fill: #1967D2;\n",
              "      height: 32px;\n",
              "      padding: 0 0 0 0;\n",
              "      width: 32px;\n",
              "    }\n",
              "\n",
              "    .colab-df-convert:hover {\n",
              "      background-color: #E2EBFA;\n",
              "      box-shadow: 0px 1px 2px rgba(60, 64, 67, 0.3), 0px 1px 3px 1px rgba(60, 64, 67, 0.15);\n",
              "      fill: #174EA6;\n",
              "    }\n",
              "\n",
              "    [theme=dark] .colab-df-convert {\n",
              "      background-color: #3B4455;\n",
              "      fill: #D2E3FC;\n",
              "    }\n",
              "\n",
              "    [theme=dark] .colab-df-convert:hover {\n",
              "      background-color: #434B5C;\n",
              "      box-shadow: 0px 1px 3px 1px rgba(0, 0, 0, 0.15);\n",
              "      filter: drop-shadow(0px 1px 2px rgba(0, 0, 0, 0.3));\n",
              "      fill: #FFFFFF;\n",
              "    }\n",
              "  </style>\n",
              "\n",
              "      <script>\n",
              "        const buttonEl =\n",
              "          document.querySelector('#df-c50f54f6-c6da-4c1f-b4cb-fc956f73caef button.colab-df-convert');\n",
              "        buttonEl.style.display =\n",
              "          google.colab.kernel.accessAllowed ? 'block' : 'none';\n",
              "\n",
              "        async function convertToInteractive(key) {\n",
              "          const element = document.querySelector('#df-c50f54f6-c6da-4c1f-b4cb-fc956f73caef');\n",
              "          const dataTable =\n",
              "            await google.colab.kernel.invokeFunction('convertToInteractive',\n",
              "                                                     [key], {});\n",
              "          if (!dataTable) return;\n",
              "\n",
              "          const docLinkHtml = 'Like what you see? Visit the ' +\n",
              "            '<a target=\"_blank\" href=https://colab.research.google.com/notebooks/data_table.ipynb>data table notebook</a>'\n",
              "            + ' to learn more about interactive tables.';\n",
              "          element.innerHTML = '';\n",
              "          dataTable['output_type'] = 'display_data';\n",
              "          await google.colab.output.renderOutput(dataTable, element);\n",
              "          const docLink = document.createElement('div');\n",
              "          docLink.innerHTML = docLinkHtml;\n",
              "          element.appendChild(docLink);\n",
              "        }\n",
              "      </script>\n",
              "    </div>\n",
              "  </div>\n",
              "  "
            ],
            "text/plain": [
              "       Track  Age      Gender\n",
              "0        Web   34  Non-binary\n",
              "1        Web   28        Male\n",
              "2        Web   27        Male\n",
              "3        Web   29        Male\n",
              "4        Web   30        Male\n",
              "...      ...  ...         ...\n",
              "999995   Web   36      Female\n",
              "999996    DS   30      Female\n",
              "999997   Web   29        Male\n",
              "999998   Web   26      Female\n",
              "999999   Web   23      Female\n",
              "\n",
              "[1000000 rows x 3 columns]"
            ]
          },
          "metadata": {},
          "execution_count": 47
        }
      ]
    }
  ]
}