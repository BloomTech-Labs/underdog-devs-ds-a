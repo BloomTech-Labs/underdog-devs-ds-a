{
 "cells": [
  {
   "cell_type": "markdown",
   "source": [
    "# Indeed Web Scraper\n",
    "\n",
    "This Notebook is for educational purposes. Indeed's Terms of Service does not allow \"use of any automated system or software, whether operated by a third party or otherwise, to extract data from the Site (such as screen scraping or crawling)\"\n",
    "\n",
    "Use of this notebook would be a TOS violation"
   ],
   "metadata": {
    "collapsed": false,
    "pycharm": {
     "name": "#%% md\n"
    }
   }
  },
  {
   "cell_type": "code",
   "execution_count": 1,
   "metadata": {
    "collapsed": true
   },
   "outputs": [],
   "source": [
    "import requests\n",
    "from bs4 import BeautifulSoup\n",
    "from datetime import datetime\n",
    "import pandas as pd\n",
    "import copy"
   ]
  },
  {
   "cell_type": "code",
   "execution_count": 2,
   "outputs": [],
   "source": [
    "def get_url(job_position):\n",
    "    \"\"\"Function to search a position on the Indeed webpage\"\"\"\n",
    "    template = 'https://www.indeed.com/jobs?q={}&l'\n",
    "    url = template.format(job_position)\n",
    "\n",
    "    return url"
   ],
   "metadata": {
    "collapsed": false,
    "pycharm": {
     "name": "#%%\n"
    }
   }
  },
  {
   "cell_type": "code",
   "execution_count": 3,
   "outputs": [],
   "source": [
    "def response_func(url):\n",
    "    \"\"\"Function returns a get request for html of an Indeed webpage\"\"\"\n",
    "    response = requests.get(url, headers={'User-Agent': 'test'})\n",
    "\n",
    "    return response"
   ],
   "metadata": {
    "collapsed": false,
    "pycharm": {
     "name": "#%%\n"
    }
   }
  },
  {
   "cell_type": "code",
   "execution_count": 4,
   "outputs": [],
   "source": [
    "def get_cards(response):\n",
    "    \"\"\" Indeed search results are divided up by cards.\n",
    "        This function returns the cards get_job_cards for each job title'\n",
    "    \"\"\"\n",
    "    soup = BeautifulSoup(response.text, 'html.parser')\n",
    "    cards = soup.find_all('td', {'class': 'resultContent'})\n",
    "\n",
    "    return cards"
   ],
   "metadata": {
    "collapsed": false,
    "pycharm": {
     "name": "#%%\n"
    }
   }
  },
  {
   "cell_type": "code",
   "execution_count": 5,
   "outputs": [],
   "source": [
    "def get_job_title(card):\n",
    "    \"\"\"Function returns the job title\"\"\"\n",
    "    job_title = card.find('h2', {'class': 'jobTitle'}).text\n",
    "    if 'new' in job_title:\n",
    "        job_title = job_title.replace('new', \"\")\n",
    "\n",
    "    return job_title"
   ],
   "metadata": {
    "collapsed": false,
    "pycharm": {
     "name": "#%%\n"
    }
   }
  },
  {
   "cell_type": "code",
   "execution_count": 6,
   "outputs": [],
   "source": [
    "def get_job_url(card):\n",
    "    \"\"\"Function returns the job posting url\"\"\"\n",
    "    try:\n",
    "        job_url = 'https://www.indeed.com' + card.h2.a.get('href')\n",
    "        return job_url\n",
    "    except AttributeError:\n",
    "        return 'https://www.indeed.com/404'"
   ],
   "metadata": {
    "collapsed": false,
    "pycharm": {
     "name": "#%%\n"
    }
   }
  },
  {
   "cell_type": "code",
   "execution_count": 7,
   "outputs": [],
   "source": [
    "def get_company_name(card):\n",
    "    \"\"\"Function returns the company name who posted the job\"\"\"\n",
    "    company = card.find('span', 'companyName').text\n",
    "    return company"
   ],
   "metadata": {
    "collapsed": false,
    "pycharm": {
     "name": "#%%\n"
    }
   }
  },
  {
   "cell_type": "code",
   "execution_count": 8,
   "outputs": [],
   "source": [
    "def get_location(card):\n",
    "    \"\"\"Function returns the job location\"\"\"\n",
    "    location = card.find('div', 'companyLocation').text\n",
    "\n",
    "    return location"
   ],
   "metadata": {
    "collapsed": false,
    "pycharm": {
     "name": "#%%\n"
    }
   }
  },
  {
   "cell_type": "code",
   "execution_count": 9,
   "outputs": [],
   "source": [
    "def get_job_description(job_url):\n",
    "    response = requests.get(job_url, headers={'User-Agent': 'test'})\n",
    "    soup = BeautifulSoup(response.text, 'html.parser')\n",
    "    try:\n",
    "        description = soup.find('div', 'jobsearch-jobDescriptionText').text.strip()\n",
    "        return description\n",
    "    except AttributeError:\n",
    "        return \"No job description\""
   ],
   "metadata": {
    "collapsed": false,
    "pycharm": {
     "name": "#%%\n"
    }
   }
  },
  {
   "cell_type": "code",
   "execution_count": 10,
   "outputs": [],
   "source": [
    "def get_job_records(job_position):\n",
    "    \"\"\"\n",
    "    Function returns an array of the following\n",
    "    * Company Name\n",
    "    * Job Title\n",
    "    * Location\n",
    "    * Descriptions\n",
    "    * Job Url\n",
    "    \"\"\"\n",
    "\n",
    "    # Retrieves the data on the first page of the search results\n",
    "    records = []\n",
    "    url = get_url(job_position)\n",
    "    response = response_func(url)\n",
    "    while True:\n",
    "        cards = get_cards(response)\n",
    "        for card in cards:\n",
    "          job_title = get_job_title(card)\n",
    "          company_name = get_company_name(card)\n",
    "          job_location = get_location(card)\n",
    "          job_url = get_job_url(card)\n",
    "          job_description = get_job_description(job_url)\n",
    "          today = datetime.today().strftime('%Y-%m-%d')\n",
    "          records.append([today,\n",
    "                          job_title,\n",
    "                          company_name,\n",
    "                          job_location,\n",
    "                          job_description,\n",
    "                          job_url])\n",
    "    # Goes through each page of the search results\n",
    "        try:\n",
    "          response = requests.get(url)\n",
    "          soup = BeautifulSoup(response.text, 'html.parser')\n",
    "          url = 'https://www.indeed.com' + soup.find(\n",
    "                            'a',\n",
    "                            {'aria=label': 'Next'}\n",
    "                            ).get('href')\n",
    "        except AttributeError:\n",
    "          break\n",
    "    return records"
   ],
   "metadata": {
    "collapsed": false,
    "pycharm": {
     "name": "#%%\n"
    }
   }
  },
  {
   "cell_type": "code",
   "execution_count": 11,
   "outputs": [],
   "source": [
    "search_terms = [\n",
    "    \"data scientist\",\n",
    "    \"machine learning engineer\",\n",
    "    \"data engineer\",\n",
    "    \"web developer\",\n",
    "    \"frontend developer\",\n",
    "    \"backend developer\",\n",
    "    \"devops\",\n",
    "    \"software engineer\",\n",
    "]"
   ],
   "metadata": {
    "collapsed": false,
    "pycharm": {
     "name": "#%%\n"
    }
   }
  },
  {
   "cell_type": "code",
   "execution_count": 12,
   "outputs": [
    {
     "data": {
      "text/plain": "                                                 JobTitle  \\\nDateOfScrape                                                \n2022-04-25                          Junior Data Scientist   \n2022-04-25                                 Data Scientist   \n2022-04-25                             Jr. Data Scientist   \n2022-04-25                          Junior Data Scientist   \n2022-04-25                         Director, Data Science   \n2022-04-25                                 Data Scientist   \n2022-04-25                                 Data Scientist   \n2022-04-25                                 Data Scientist   \n2022-04-25                                 Data Scientist   \n2022-04-25                          Junior Data Scientist   \n2022-04-25    data scientist (multiple openings) - Remote   \n2022-04-25                                 Data Scientist   \n2022-04-25                   Data Scientist (Entry-Level)   \n2022-04-25                                 Data Scientist   \n2022-04-25                                 Data Scientist   \n\n                                    Company  \\\nDateOfScrape                                  \n2022-04-25            Kadence International   \n2022-04-25                    Crescent Bank   \n2022-04-25                   Talentheed Inc   \n2022-04-25    Conestoga Energy Partners LLC   \n2022-04-25                             Hulu   \n2022-04-25                       intellipro   \n2022-04-25          The Burchell Group Inc.   \n2022-04-25                         Best Egg   \n2022-04-25                          WorkCog   \n2022-04-25                         KesarWeb   \n2022-04-25                        Starbucks   \n2022-04-25                       Vanu, Inc.   \n2022-04-25                     GreatSchools   \n2022-04-25                     Maya Ai inc.   \n2022-04-25          Healthcare Fraud Shield   \n\n                                       Location  \\\nDateOfScrape                                      \n2022-04-25                               Remote   \n2022-04-25                 Carrollton, TX 75006   \n2022-04-25                               Remote   \n2022-04-25                  Southlake, TX 76092   \n2022-04-25                     Remote in Oregon   \n2022-04-25                               Remote   \n2022-04-25                           Dallas, TX   \n2022-04-25                               Remote   \n2022-04-25                  California City, CA   \n2022-04-25                       Texas City, TX   \n2022-04-25    Remote in Seattle, WA+5 locations   \n2022-04-25                  Lexington, MA 02421   \n2022-04-25          Remote in Oakland, CA 94612   \n2022-04-25                               Remote   \n2022-04-25                               Remote   \n\n                                                    Description  \\\nDateOfScrape                                                      \n2022-04-25    Overview Title: Junior Data Scientist Salary: ...   \n2022-04-25    About the Position:  Crescent Bank is looking ...   \n2022-04-25    Responsibilities:   Data mining or extricating...   \n2022-04-25    This position is in-office  The Junior Data Sc...   \n2022-04-25    At Disney Streaming, we are experiencing explo...   \n2022-04-25    Responsibilities  Building tools to automate d...   \n2022-04-25    Job Title:  Data Scientist Type:  Direct Hire ...   \n2022-04-25    is not designed to cover or contain a comprehe...   \n2022-04-25    Job Title: Data Scientist Responsibilities: RE...   \n2022-04-25    We are looking for a Data Scientist to analyze...   \n2022-04-25    Job Posting : Mar 14, 2022     Job Posting End...   \n2022-04-25    A unique position has arisen for a skilled, en...   \n2022-04-25    About GreatSchools.org: GreatSchools is the le...   \n2022-04-25    Our Maya team is expanding and we are looking ...   \n2022-04-25    Healthcare Fraud Shield, a leader in healthcar...   \n\n                                                         JobUrl  \nDateOfScrape                                                     \n2022-04-25    https://www.indeed.com/pagead/clk?mo=r&ad=-6NY...  \n2022-04-25    https://www.indeed.com/pagead/clk?mo=r&ad=-6NY...  \n2022-04-25    https://www.indeed.com/company/Talentheed-Inc/...  \n2022-04-25    https://www.indeed.com/rc/clk?jk=10e4b2da6bc00...  \n2022-04-25    https://www.indeed.com/rc/clk?jk=8e3e08454a725...  \n2022-04-25    https://www.indeed.com/company/Intellipro-Grou...  \n2022-04-25    https://www.indeed.com/pagead/clk?mo=r&ad=-6NY...  \n2022-04-25    https://www.indeed.com/company/Best-Egg/jobs/D...  \n2022-04-25    https://www.indeed.com/company/WorkCog/jobs/Da...  \n2022-04-25    https://www.indeed.com/company/KesarWeb/jobs/J...  \n2022-04-25    https://www.indeed.com/rc/clk?jk=f84d4861a4473...  \n2022-04-25    https://www.indeed.com/company/Vanu,-Inc./jobs...  \n2022-04-25    https://www.indeed.com/company/GreatSchools/jo...  \n2022-04-25    https://www.indeed.com/company/Maya-Ai-inc./jo...  \n2022-04-25    https://www.indeed.com/company/Healthcare-Frau...  ",
      "text/html": "<div>\n<style scoped>\n    .dataframe tbody tr th:only-of-type {\n        vertical-align: middle;\n    }\n\n    .dataframe tbody tr th {\n        vertical-align: top;\n    }\n\n    .dataframe thead th {\n        text-align: right;\n    }\n</style>\n<table border=\"1\" class=\"dataframe\">\n  <thead>\n    <tr style=\"text-align: right;\">\n      <th></th>\n      <th>JobTitle</th>\n      <th>Company</th>\n      <th>Location</th>\n      <th>Description</th>\n      <th>JobUrl</th>\n    </tr>\n    <tr>\n      <th>DateOfScrape</th>\n      <th></th>\n      <th></th>\n      <th></th>\n      <th></th>\n      <th></th>\n    </tr>\n  </thead>\n  <tbody>\n    <tr>\n      <th>2022-04-25</th>\n      <td>Junior Data Scientist</td>\n      <td>Kadence International</td>\n      <td>Remote</td>\n      <td>Overview Title: Junior Data Scientist Salary: ...</td>\n      <td>https://www.indeed.com/pagead/clk?mo=r&amp;ad=-6NY...</td>\n    </tr>\n    <tr>\n      <th>2022-04-25</th>\n      <td>Data Scientist</td>\n      <td>Crescent Bank</td>\n      <td>Carrollton, TX 75006</td>\n      <td>About the Position:  Crescent Bank is looking ...</td>\n      <td>https://www.indeed.com/pagead/clk?mo=r&amp;ad=-6NY...</td>\n    </tr>\n    <tr>\n      <th>2022-04-25</th>\n      <td>Jr. Data Scientist</td>\n      <td>Talentheed Inc</td>\n      <td>Remote</td>\n      <td>Responsibilities:   Data mining or extricating...</td>\n      <td>https://www.indeed.com/company/Talentheed-Inc/...</td>\n    </tr>\n    <tr>\n      <th>2022-04-25</th>\n      <td>Junior Data Scientist</td>\n      <td>Conestoga Energy Partners LLC</td>\n      <td>Southlake, TX 76092</td>\n      <td>This position is in-office  The Junior Data Sc...</td>\n      <td>https://www.indeed.com/rc/clk?jk=10e4b2da6bc00...</td>\n    </tr>\n    <tr>\n      <th>2022-04-25</th>\n      <td>Director, Data Science</td>\n      <td>Hulu</td>\n      <td>Remote in Oregon</td>\n      <td>At Disney Streaming, we are experiencing explo...</td>\n      <td>https://www.indeed.com/rc/clk?jk=8e3e08454a725...</td>\n    </tr>\n    <tr>\n      <th>2022-04-25</th>\n      <td>Data Scientist</td>\n      <td>intellipro</td>\n      <td>Remote</td>\n      <td>Responsibilities  Building tools to automate d...</td>\n      <td>https://www.indeed.com/company/Intellipro-Grou...</td>\n    </tr>\n    <tr>\n      <th>2022-04-25</th>\n      <td>Data Scientist</td>\n      <td>The Burchell Group Inc.</td>\n      <td>Dallas, TX</td>\n      <td>Job Title:  Data Scientist Type:  Direct Hire ...</td>\n      <td>https://www.indeed.com/pagead/clk?mo=r&amp;ad=-6NY...</td>\n    </tr>\n    <tr>\n      <th>2022-04-25</th>\n      <td>Data Scientist</td>\n      <td>Best Egg</td>\n      <td>Remote</td>\n      <td>is not designed to cover or contain a comprehe...</td>\n      <td>https://www.indeed.com/company/Best-Egg/jobs/D...</td>\n    </tr>\n    <tr>\n      <th>2022-04-25</th>\n      <td>Data Scientist</td>\n      <td>WorkCog</td>\n      <td>California City, CA</td>\n      <td>Job Title: Data Scientist Responsibilities: RE...</td>\n      <td>https://www.indeed.com/company/WorkCog/jobs/Da...</td>\n    </tr>\n    <tr>\n      <th>2022-04-25</th>\n      <td>Junior Data Scientist</td>\n      <td>KesarWeb</td>\n      <td>Texas City, TX</td>\n      <td>We are looking for a Data Scientist to analyze...</td>\n      <td>https://www.indeed.com/company/KesarWeb/jobs/J...</td>\n    </tr>\n    <tr>\n      <th>2022-04-25</th>\n      <td>data scientist (multiple openings) - Remote</td>\n      <td>Starbucks</td>\n      <td>Remote in Seattle, WA+5 locations</td>\n      <td>Job Posting : Mar 14, 2022     Job Posting End...</td>\n      <td>https://www.indeed.com/rc/clk?jk=f84d4861a4473...</td>\n    </tr>\n    <tr>\n      <th>2022-04-25</th>\n      <td>Data Scientist</td>\n      <td>Vanu, Inc.</td>\n      <td>Lexington, MA 02421</td>\n      <td>A unique position has arisen for a skilled, en...</td>\n      <td>https://www.indeed.com/company/Vanu,-Inc./jobs...</td>\n    </tr>\n    <tr>\n      <th>2022-04-25</th>\n      <td>Data Scientist (Entry-Level)</td>\n      <td>GreatSchools</td>\n      <td>Remote in Oakland, CA 94612</td>\n      <td>About GreatSchools.org: GreatSchools is the le...</td>\n      <td>https://www.indeed.com/company/GreatSchools/jo...</td>\n    </tr>\n    <tr>\n      <th>2022-04-25</th>\n      <td>Data Scientist</td>\n      <td>Maya Ai inc.</td>\n      <td>Remote</td>\n      <td>Our Maya team is expanding and we are looking ...</td>\n      <td>https://www.indeed.com/company/Maya-Ai-inc./jo...</td>\n    </tr>\n    <tr>\n      <th>2022-04-25</th>\n      <td>Data Scientist</td>\n      <td>Healthcare Fraud Shield</td>\n      <td>Remote</td>\n      <td>Healthcare Fraud Shield, a leader in healthcar...</td>\n      <td>https://www.indeed.com/company/Healthcare-Frau...</td>\n    </tr>\n  </tbody>\n</table>\n</div>"
     },
     "metadata": {},
     "output_type": "display_data"
    },
    {
     "name": "stdout",
     "output_type": "stream",
     "text": [
      "Successfully saved data_scientist jobs!\")\n"
     ]
    },
    {
     "data": {
      "text/plain": "                                                 JobTitle  \\\nDateOfScrape                                                \n2022-04-25                           Junior Web Developer   \n2022-04-25                  Front-End Developer (Flutter)   \n2022-04-25                           Remote Web Developer   \n2022-04-25                                Jr UI Developer   \n2022-04-25                              Tableau Developer   \n2022-04-25    Front End (Flutter) Developer - 100% Remote   \n2022-04-25                                  Web Developer   \n2022-04-25                           E-Commerce Developer   \n2022-04-25                   Trainee - Software Developer   \n2022-04-25                         Web Developer (remote)   \n2022-04-25                                  Web Developer   \n2022-04-25                           Outsystems Developer   \n2022-04-25                           Senior Web Developer   \n2022-04-25                        Front End Web Developer   \n2022-04-25                                  Web Developer   \n\n                                  Company                            Location  \\\nDateOfScrape                                                                    \n2022-04-25    Scorpion Internet Marketing                              Remote   \n2022-04-25                     MotionMobs                              Remote   \n2022-04-25                Piper Companies                   +1 locationRemote   \n2022-04-25                     Xtivia Inc                              Remote   \n2022-04-25      HealthPlan Data Solutions  Columbus, OH 43215 (Downtown area)   \n2022-04-25      TEEMA Solutions Group Inc                              Remote   \n2022-04-25                        Magneti                              Remote   \n2022-04-25               Green Body Brand                              Remote   \n2022-04-25                    LeewayHertz                              Remote   \n2022-04-25                       Diib Inc                              Remote   \n2022-04-25    Premier Validation Services                              Remote   \n2022-04-25      3G Federal Solutions, LLC                              Remote   \n2022-04-25                        Itechra                              Remote   \n2022-04-25          FriendFinder Networks                  +2 locationsRemote   \n2022-04-25                  Offchain Labs                              Remote   \n\n                                                    Description  \\\nDateOfScrape                                                      \n2022-04-25    As a Junior Web Developer, you are responsible...   \n2022-04-25    Seeking a Flutter developer to work with our i...   \n2022-04-25    Piper Companies is seeking a Web Developer for...   \n2022-04-25    Description:     XTIVIA - Jr UI Developer  How...   \n2022-04-25    Tableau Developer HealthPlan Data Solutions, I...   \n2022-04-25    Front End (Flutter) Developer - 100% Remote  P...   \n2022-04-25    Job Overview Magneti is looking for a marketin...   \n2022-04-25    GBB is focused on helping with the elimination...   \n2022-04-25    This is a remote position.   Basic Information...   \n2022-04-25    Ready to be part of an awesome team? Diib is a...   \n2022-04-25    Having an experience with asp.net is an advant...   \n2022-04-25    seeking an Outsystems Developer with proficien...   \n2022-04-25    Itechra is recruiting for a motivated Senior S...   \n2022-04-25    WHAT WE WANT FriendFinder Networks is looking ...   \n2022-04-25    Offchain Labs is building a suite of scaling s...   \n\n                                                         JobUrl  \nDateOfScrape                                                     \n2022-04-25    https://www.indeed.com/company/Scorpion-Intern...  \n2022-04-25    https://www.indeed.com/company/MotionMobs/jobs...  \n2022-04-25    https://www.indeed.com/rc/clk?jk=f93d500423425...  \n2022-04-25    https://www.indeed.com/rc/clk?jk=b4296f4c31188...  \n2022-04-25    https://www.indeed.com/company/HealthPlan-Data...  \n2022-04-25    https://www.indeed.com/company/TEEMA-Solutions...  \n2022-04-25    https://www.indeed.com/rc/clk?jk=f0acdabe5f28d...  \n2022-04-25    https://www.indeed.com/company/Plantarion-LLC/...  \n2022-04-25    https://www.indeed.com/rc/clk?jk=df9a96b7b6e68...  \n2022-04-25    https://www.indeed.com/company/Diib/jobs/Web-D...  \n2022-04-25    https://www.indeed.com/company/Premier-Validat...  \n2022-04-25    https://www.indeed.com/company/3G-Federal-Solu...  \n2022-04-25    https://www.indeed.com/company/Itechra/jobs/Se...  \n2022-04-25    https://www.indeed.com/company/FriendFinder-Ne...  \n2022-04-25    https://www.indeed.com/rc/clk?jk=544e6a9bec24a...  ",
      "text/html": "<div>\n<style scoped>\n    .dataframe tbody tr th:only-of-type {\n        vertical-align: middle;\n    }\n\n    .dataframe tbody tr th {\n        vertical-align: top;\n    }\n\n    .dataframe thead th {\n        text-align: right;\n    }\n</style>\n<table border=\"1\" class=\"dataframe\">\n  <thead>\n    <tr style=\"text-align: right;\">\n      <th></th>\n      <th>JobTitle</th>\n      <th>Company</th>\n      <th>Location</th>\n      <th>Description</th>\n      <th>JobUrl</th>\n    </tr>\n    <tr>\n      <th>DateOfScrape</th>\n      <th></th>\n      <th></th>\n      <th></th>\n      <th></th>\n      <th></th>\n    </tr>\n  </thead>\n  <tbody>\n    <tr>\n      <th>2022-04-25</th>\n      <td>Junior Web Developer</td>\n      <td>Scorpion Internet Marketing</td>\n      <td>Remote</td>\n      <td>As a Junior Web Developer, you are responsible...</td>\n      <td>https://www.indeed.com/company/Scorpion-Intern...</td>\n    </tr>\n    <tr>\n      <th>2022-04-25</th>\n      <td>Front-End Developer (Flutter)</td>\n      <td>MotionMobs</td>\n      <td>Remote</td>\n      <td>Seeking a Flutter developer to work with our i...</td>\n      <td>https://www.indeed.com/company/MotionMobs/jobs...</td>\n    </tr>\n    <tr>\n      <th>2022-04-25</th>\n      <td>Remote Web Developer</td>\n      <td>Piper Companies</td>\n      <td>+1 locationRemote</td>\n      <td>Piper Companies is seeking a Web Developer for...</td>\n      <td>https://www.indeed.com/rc/clk?jk=f93d500423425...</td>\n    </tr>\n    <tr>\n      <th>2022-04-25</th>\n      <td>Jr UI Developer</td>\n      <td>Xtivia Inc</td>\n      <td>Remote</td>\n      <td>Description:     XTIVIA - Jr UI Developer  How...</td>\n      <td>https://www.indeed.com/rc/clk?jk=b4296f4c31188...</td>\n    </tr>\n    <tr>\n      <th>2022-04-25</th>\n      <td>Tableau Developer</td>\n      <td>HealthPlan Data Solutions</td>\n      <td>Columbus, OH 43215 (Downtown area)</td>\n      <td>Tableau Developer HealthPlan Data Solutions, I...</td>\n      <td>https://www.indeed.com/company/HealthPlan-Data...</td>\n    </tr>\n    <tr>\n      <th>2022-04-25</th>\n      <td>Front End (Flutter) Developer - 100% Remote</td>\n      <td>TEEMA Solutions Group Inc</td>\n      <td>Remote</td>\n      <td>Front End (Flutter) Developer - 100% Remote  P...</td>\n      <td>https://www.indeed.com/company/TEEMA-Solutions...</td>\n    </tr>\n    <tr>\n      <th>2022-04-25</th>\n      <td>Web Developer</td>\n      <td>Magneti</td>\n      <td>Remote</td>\n      <td>Job Overview Magneti is looking for a marketin...</td>\n      <td>https://www.indeed.com/rc/clk?jk=f0acdabe5f28d...</td>\n    </tr>\n    <tr>\n      <th>2022-04-25</th>\n      <td>E-Commerce Developer</td>\n      <td>Green Body Brand</td>\n      <td>Remote</td>\n      <td>GBB is focused on helping with the elimination...</td>\n      <td>https://www.indeed.com/company/Plantarion-LLC/...</td>\n    </tr>\n    <tr>\n      <th>2022-04-25</th>\n      <td>Trainee - Software Developer</td>\n      <td>LeewayHertz</td>\n      <td>Remote</td>\n      <td>This is a remote position.   Basic Information...</td>\n      <td>https://www.indeed.com/rc/clk?jk=df9a96b7b6e68...</td>\n    </tr>\n    <tr>\n      <th>2022-04-25</th>\n      <td>Web Developer (remote)</td>\n      <td>Diib Inc</td>\n      <td>Remote</td>\n      <td>Ready to be part of an awesome team? Diib is a...</td>\n      <td>https://www.indeed.com/company/Diib/jobs/Web-D...</td>\n    </tr>\n    <tr>\n      <th>2022-04-25</th>\n      <td>Web Developer</td>\n      <td>Premier Validation Services</td>\n      <td>Remote</td>\n      <td>Having an experience with asp.net is an advant...</td>\n      <td>https://www.indeed.com/company/Premier-Validat...</td>\n    </tr>\n    <tr>\n      <th>2022-04-25</th>\n      <td>Outsystems Developer</td>\n      <td>3G Federal Solutions, LLC</td>\n      <td>Remote</td>\n      <td>seeking an Outsystems Developer with proficien...</td>\n      <td>https://www.indeed.com/company/3G-Federal-Solu...</td>\n    </tr>\n    <tr>\n      <th>2022-04-25</th>\n      <td>Senior Web Developer</td>\n      <td>Itechra</td>\n      <td>Remote</td>\n      <td>Itechra is recruiting for a motivated Senior S...</td>\n      <td>https://www.indeed.com/company/Itechra/jobs/Se...</td>\n    </tr>\n    <tr>\n      <th>2022-04-25</th>\n      <td>Front End Web Developer</td>\n      <td>FriendFinder Networks</td>\n      <td>+2 locationsRemote</td>\n      <td>WHAT WE WANT FriendFinder Networks is looking ...</td>\n      <td>https://www.indeed.com/company/FriendFinder-Ne...</td>\n    </tr>\n    <tr>\n      <th>2022-04-25</th>\n      <td>Web Developer</td>\n      <td>Offchain Labs</td>\n      <td>Remote</td>\n      <td>Offchain Labs is building a suite of scaling s...</td>\n      <td>https://www.indeed.com/rc/clk?jk=544e6a9bec24a...</td>\n    </tr>\n  </tbody>\n</table>\n</div>"
     },
     "metadata": {},
     "output_type": "display_data"
    },
    {
     "name": "stdout",
     "output_type": "stream",
     "text": [
      "Successfully saved web_developer jobs!\")\n"
     ]
    },
    {
     "data": {
      "text/plain": "                                                       JobTitle  \\\nDateOfScrape                                                      \n2022-04-25                   Senior Frontend React JS Developer   \n2022-04-25                    Front End Developer (Entry level)   \n2022-04-25                        Front-End Developer (Flutter)   \n2022-04-25          Front End (Flutter) Developer - 100% Remote   \n2022-04-25                                  Front End Developer   \n2022-04-25                       Desarrollador Frontend BcB3590   \n2022-04-25                    FULLY REMOTE - Frontend Developer   \n2022-04-25    Senior React Frontend Developer (100% Remote, ...   \n2022-04-25                                         UI Developer   \n2022-04-25                              Web3 Frontend Developer   \n2022-04-25                                    ReactJS Developer   \n2022-04-25                                     Sr. UI Developer   \n2022-04-25      JavaScript Developer|Up to $130,000|Hiring ASAP   \n2022-04-25                                   React JS Developer   \n2022-04-25                           Frontend Software Engineer   \n\n                                Company  \\\nDateOfScrape                              \n2022-04-25             Stellar Software   \n2022-04-25                     Revature   \n2022-04-25                   MotionMobs   \n2022-04-25    TEEMA Solutions Group Inc   \n2022-04-25                Softnice Inc.   \n2022-04-25                        Nisum   \n2022-04-25                  CyberCoders   \n2022-04-25           Cloud Catalogs LLC   \n2022-04-25                      workcog   \n2022-04-25                     MegaFans   \n2022-04-25         Winwire Technologies   \n2022-04-25                      workcog   \n2022-04-25                   Pase Gates   \n2022-04-25                  ETG Digital   \n2022-04-25                         Tilt   \n\n                                                  Location  \\\nDateOfScrape                                                 \n2022-04-25                                          Remote   \n2022-04-25                     Kissimmee, FL+126 locations   \n2022-04-25                                          Remote   \n2022-04-25                                          Remote   \n2022-04-25                                          Remote   \n2022-04-25                               +1 locationRemote   \n2022-04-25    Remote in Washington, DC 20001+126 locations   \n2022-04-25                                          Remote   \n2022-04-25                              +2 locationsRemote   \n2022-04-25                                          Remote   \n2022-04-25                               +1 locationRemote   \n2022-04-25                               +1 locationRemote   \n2022-04-25                                          Remote   \n2022-04-25                                          Remote   \n2022-04-25                                          Remote   \n\n                                                    Description  \\\nDateOfScrape                                                      \n2022-04-25    Are you looking for a Stellar Software solutio...   \n2022-04-25    One day someone is going to ask you where you ...   \n2022-04-25    Seeking a Flutter developer to work with our i...   \n2022-04-25    Front End (Flutter) Developer - 100% Remote  P...   \n2022-04-25    Proven work experience as a Front-end develope...   \n2022-04-25    Location: Remote Latin American Team: Customer...   \n2022-04-25    FULLY REMOTE - Frontend Developer        If yo...   \n2022-04-25    We are looking for a Senior React Front-end De...   \n2022-04-25    We are looking for a qualified Front-end devel...   \n2022-04-25    Web3 Frontend Developer About MegaFans:  MegaF...   \n2022-04-25    Role: React UI Developer Start Date: ASAP Desc...   \n2022-04-25    We are looking for a UI Developer who has hand...   \n2022-04-25    Experienced JavaScript developers we are looki...   \n2022-04-25    Trained in React & React js and Javascript.- D...   \n2022-04-25    Frontend Software Engineer Team: Product & Eng...   \n\n                                                         JobUrl  \nDateOfScrape                                                     \n2022-04-25    https://www.indeed.com/pagead/clk?mo=r&ad=-6NY...  \n2022-04-25    https://www.indeed.com/pagead/clk?mo=r&ad=-6NY...  \n2022-04-25    https://www.indeed.com/company/MotionMobs/jobs...  \n2022-04-25    https://www.indeed.com/company/TEEMA-Solutions...  \n2022-04-25    https://www.indeed.com/company/Softnice-Inc./j...  \n2022-04-25    https://www.indeed.com/rc/clk?jk=67d3a0ac4f5e5...  \n2022-04-25    https://www.indeed.com/pagead/clk?mo=r&ad=-6NY...  \n2022-04-25    https://www.indeed.com/company/Cloud-Catalogs-...  \n2022-04-25    https://www.indeed.com/company/WorkCog/jobs/Ui...  \n2022-04-25    https://www.indeed.com/company/Megafans/jobs/F...  \n2022-04-25    https://www.indeed.com/company/Winwire-Technol...  \n2022-04-25    https://www.indeed.com/company/WorkCog/jobs/Se...  \n2022-04-25    https://www.indeed.com/company/Pase-Gates/jobs...  \n2022-04-25    https://www.indeed.com/company/ETG-Digital/job...  \n2022-04-25    https://www.indeed.com/rc/clk?jk=33861facb0d2e...  ",
      "text/html": "<div>\n<style scoped>\n    .dataframe tbody tr th:only-of-type {\n        vertical-align: middle;\n    }\n\n    .dataframe tbody tr th {\n        vertical-align: top;\n    }\n\n    .dataframe thead th {\n        text-align: right;\n    }\n</style>\n<table border=\"1\" class=\"dataframe\">\n  <thead>\n    <tr style=\"text-align: right;\">\n      <th></th>\n      <th>JobTitle</th>\n      <th>Company</th>\n      <th>Location</th>\n      <th>Description</th>\n      <th>JobUrl</th>\n    </tr>\n    <tr>\n      <th>DateOfScrape</th>\n      <th></th>\n      <th></th>\n      <th></th>\n      <th></th>\n      <th></th>\n    </tr>\n  </thead>\n  <tbody>\n    <tr>\n      <th>2022-04-25</th>\n      <td>Senior Frontend React JS Developer</td>\n      <td>Stellar Software</td>\n      <td>Remote</td>\n      <td>Are you looking for a Stellar Software solutio...</td>\n      <td>https://www.indeed.com/pagead/clk?mo=r&amp;ad=-6NY...</td>\n    </tr>\n    <tr>\n      <th>2022-04-25</th>\n      <td>Front End Developer (Entry level)</td>\n      <td>Revature</td>\n      <td>Kissimmee, FL+126 locations</td>\n      <td>One day someone is going to ask you where you ...</td>\n      <td>https://www.indeed.com/pagead/clk?mo=r&amp;ad=-6NY...</td>\n    </tr>\n    <tr>\n      <th>2022-04-25</th>\n      <td>Front-End Developer (Flutter)</td>\n      <td>MotionMobs</td>\n      <td>Remote</td>\n      <td>Seeking a Flutter developer to work with our i...</td>\n      <td>https://www.indeed.com/company/MotionMobs/jobs...</td>\n    </tr>\n    <tr>\n      <th>2022-04-25</th>\n      <td>Front End (Flutter) Developer - 100% Remote</td>\n      <td>TEEMA Solutions Group Inc</td>\n      <td>Remote</td>\n      <td>Front End (Flutter) Developer - 100% Remote  P...</td>\n      <td>https://www.indeed.com/company/TEEMA-Solutions...</td>\n    </tr>\n    <tr>\n      <th>2022-04-25</th>\n      <td>Front End Developer</td>\n      <td>Softnice Inc.</td>\n      <td>Remote</td>\n      <td>Proven work experience as a Front-end develope...</td>\n      <td>https://www.indeed.com/company/Softnice-Inc./j...</td>\n    </tr>\n    <tr>\n      <th>2022-04-25</th>\n      <td>Desarrollador Frontend BcB3590</td>\n      <td>Nisum</td>\n      <td>+1 locationRemote</td>\n      <td>Location: Remote Latin American Team: Customer...</td>\n      <td>https://www.indeed.com/rc/clk?jk=67d3a0ac4f5e5...</td>\n    </tr>\n    <tr>\n      <th>2022-04-25</th>\n      <td>FULLY REMOTE - Frontend Developer</td>\n      <td>CyberCoders</td>\n      <td>Remote in Washington, DC 20001+126 locations</td>\n      <td>FULLY REMOTE - Frontend Developer        If yo...</td>\n      <td>https://www.indeed.com/pagead/clk?mo=r&amp;ad=-6NY...</td>\n    </tr>\n    <tr>\n      <th>2022-04-25</th>\n      <td>Senior React Frontend Developer (100% Remote, ...</td>\n      <td>Cloud Catalogs LLC</td>\n      <td>Remote</td>\n      <td>We are looking for a Senior React Front-end De...</td>\n      <td>https://www.indeed.com/company/Cloud-Catalogs-...</td>\n    </tr>\n    <tr>\n      <th>2022-04-25</th>\n      <td>UI Developer</td>\n      <td>workcog</td>\n      <td>+2 locationsRemote</td>\n      <td>We are looking for a qualified Front-end devel...</td>\n      <td>https://www.indeed.com/company/WorkCog/jobs/Ui...</td>\n    </tr>\n    <tr>\n      <th>2022-04-25</th>\n      <td>Web3 Frontend Developer</td>\n      <td>MegaFans</td>\n      <td>Remote</td>\n      <td>Web3 Frontend Developer About MegaFans:  MegaF...</td>\n      <td>https://www.indeed.com/company/Megafans/jobs/F...</td>\n    </tr>\n    <tr>\n      <th>2022-04-25</th>\n      <td>ReactJS Developer</td>\n      <td>Winwire Technologies</td>\n      <td>+1 locationRemote</td>\n      <td>Role: React UI Developer Start Date: ASAP Desc...</td>\n      <td>https://www.indeed.com/company/Winwire-Technol...</td>\n    </tr>\n    <tr>\n      <th>2022-04-25</th>\n      <td>Sr. UI Developer</td>\n      <td>workcog</td>\n      <td>+1 locationRemote</td>\n      <td>We are looking for a UI Developer who has hand...</td>\n      <td>https://www.indeed.com/company/WorkCog/jobs/Se...</td>\n    </tr>\n    <tr>\n      <th>2022-04-25</th>\n      <td>JavaScript Developer|Up to $130,000|Hiring ASAP</td>\n      <td>Pase Gates</td>\n      <td>Remote</td>\n      <td>Experienced JavaScript developers we are looki...</td>\n      <td>https://www.indeed.com/company/Pase-Gates/jobs...</td>\n    </tr>\n    <tr>\n      <th>2022-04-25</th>\n      <td>React JS Developer</td>\n      <td>ETG Digital</td>\n      <td>Remote</td>\n      <td>Trained in React &amp; React js and Javascript.- D...</td>\n      <td>https://www.indeed.com/company/ETG-Digital/job...</td>\n    </tr>\n    <tr>\n      <th>2022-04-25</th>\n      <td>Frontend Software Engineer</td>\n      <td>Tilt</td>\n      <td>Remote</td>\n      <td>Frontend Software Engineer Team: Product &amp; Eng...</td>\n      <td>https://www.indeed.com/rc/clk?jk=33861facb0d2e...</td>\n    </tr>\n  </tbody>\n</table>\n</div>"
     },
     "metadata": {},
     "output_type": "display_data"
    },
    {
     "name": "stdout",
     "output_type": "stream",
     "text": [
      "Successfully saved frontend_developer jobs!\")\n"
     ]
    },
    {
     "data": {
      "text/plain": "                                                    JobTitle  \\\nDateOfScrape                                                   \n2022-04-25                                 Backend Developer   \n2022-04-25                                Software Developer   \n2022-04-25                            Java Backend Developer   \n2022-04-25                        Backend Software Developer   \n2022-04-25                          Senior Backend Developer   \n2022-04-25    Voice Assistance (Chat Bot) Developer (Remote)   \n2022-04-25                             PHP Backend Developer   \n2022-04-25                            Backend Developer (Go)   \n2022-04-25                           Python/Django Developer   \n2022-04-25                            Java Backend Developer   \n2022-04-25                        BackEnd Developer (Remote)   \n2022-04-25                                 Backend Developer   \n2022-04-25                                    .Net Developer   \n2022-04-25                   Sr. Java/J2EE backend Developer   \n2022-04-25                        Backend Software Developer   \n\n                                    Company  \\\nDateOfScrape                                  \n2022-04-25            Trap Door Attractions   \n2022-04-25                           Zillow   \n2022-04-25          Zachary Piper Solutions   \n2022-04-25                         BOTG LLC   \n2022-04-25    Strategic Employment Partners   \n2022-04-25                       Practivest   \n2022-04-25                       DTPM, Inc.   \n2022-04-25                          Averity   \n2022-04-25                            Delta   \n2022-04-25                 LGL Technologies   \n2022-04-25                      Remote Jobs   \n2022-04-25         Melco International, LLC   \n2022-04-25                           Stafug   \n2022-04-25                      Snappyhires   \n2022-04-25                     Senaptec Inc   \n\n                                         Location  \\\nDateOfScrape                                        \n2022-04-25                                 Remote   \n2022-04-25                                 Remote   \n2022-04-25                      +1 locationRemote   \n2022-04-25                                 Remote   \n2022-04-25                                 Remote   \n2022-04-25    Remote in Washington, DC+1 location   \n2022-04-25                                 Remote   \n2022-04-25                      +1 locationRemote   \n2022-04-25                                 Remote   \n2022-04-25                                 Remote   \n2022-04-25                      +1 locationRemote   \n2022-04-25                                 Remote   \n2022-04-25                                 Remote   \n2022-04-25                                 Remote   \n2022-04-25                                 Remote   \n\n                                                    Description  \\\nDateOfScrape                                                      \n2022-04-25    Trap Door Escape and Madness Distillery have b...   \n2022-04-25    About the team The Zillow Premier Agent team i...   \n2022-04-25    Zachary Piper Solutions is seeking a Java Back...   \n2022-04-25    We are looking for a Backend Software Develope...   \n2022-04-25    A very well-known and established US-based com...   \n2022-04-25    Are you an experienced Front-End developer? We...   \n2022-04-25    Job Description: We are looking for fulltime P...   \n2022-04-25    Are you a Senior Software Engineer with Golang...   \n2022-04-25    Discuss screen designs with UI designerDevelop...   \n2022-04-25    We are looking for Java Backend Developer for ...   \n2022-04-25    InnoWave is looking for a BackEnd Developer to...   \n2022-04-25    Job description Melco International LLC is a d...   \n2022-04-25    .Net DeveloperREMOTE Primary responsibilities ...   \n2022-04-25    Job Description:   Collaborates with project s...   \n2022-04-25    Senaptec Portland, OR We are looking for an en...   \n\n                                                         JobUrl  \nDateOfScrape                                                     \n2022-04-25    https://www.indeed.com/pagead/clk?mo=r&ad=-6NY...  \n2022-04-25    https://www.indeed.com/pagead/clk?mo=r&ad=-6NY...  \n2022-04-25    https://www.indeed.com/rc/clk?jk=1453e2cf69e44...  \n2022-04-25    https://www.indeed.com/company/BOTG-LLC/jobs/B...  \n2022-04-25    https://www.indeed.com/pagead/clk?mo=r&ad=-6NY...  \n2022-04-25    https://www.indeed.com/company/Practivest/jobs...  \n2022-04-25    https://www.indeed.com/company/DTPM,-Inc./jobs...  \n2022-04-25    https://www.indeed.com/pagead/clk?mo=r&ad=-6NY...  \n2022-04-25    https://www.indeed.com/company/Access-To-Futur...  \n2022-04-25    https://www.indeed.com/company/LGL-Technologie...  \n2022-04-25    https://www.indeed.com/rc/clk?jk=eb916d7e992f6...  \n2022-04-25    https://www.indeed.com/company/Melco-Internati...  \n2022-04-25    https://www.indeed.com/company/Stafug/jobs/Net...  \n2022-04-25    https://www.indeed.com/company/SnappyHires/job...  \n2022-04-25    https://www.indeed.com/company/New-Physics/job...  ",
      "text/html": "<div>\n<style scoped>\n    .dataframe tbody tr th:only-of-type {\n        vertical-align: middle;\n    }\n\n    .dataframe tbody tr th {\n        vertical-align: top;\n    }\n\n    .dataframe thead th {\n        text-align: right;\n    }\n</style>\n<table border=\"1\" class=\"dataframe\">\n  <thead>\n    <tr style=\"text-align: right;\">\n      <th></th>\n      <th>JobTitle</th>\n      <th>Company</th>\n      <th>Location</th>\n      <th>Description</th>\n      <th>JobUrl</th>\n    </tr>\n    <tr>\n      <th>DateOfScrape</th>\n      <th></th>\n      <th></th>\n      <th></th>\n      <th></th>\n      <th></th>\n    </tr>\n  </thead>\n  <tbody>\n    <tr>\n      <th>2022-04-25</th>\n      <td>Backend Developer</td>\n      <td>Trap Door Attractions</td>\n      <td>Remote</td>\n      <td>Trap Door Escape and Madness Distillery have b...</td>\n      <td>https://www.indeed.com/pagead/clk?mo=r&amp;ad=-6NY...</td>\n    </tr>\n    <tr>\n      <th>2022-04-25</th>\n      <td>Software Developer</td>\n      <td>Zillow</td>\n      <td>Remote</td>\n      <td>About the team The Zillow Premier Agent team i...</td>\n      <td>https://www.indeed.com/pagead/clk?mo=r&amp;ad=-6NY...</td>\n    </tr>\n    <tr>\n      <th>2022-04-25</th>\n      <td>Java Backend Developer</td>\n      <td>Zachary Piper Solutions</td>\n      <td>+1 locationRemote</td>\n      <td>Zachary Piper Solutions is seeking a Java Back...</td>\n      <td>https://www.indeed.com/rc/clk?jk=1453e2cf69e44...</td>\n    </tr>\n    <tr>\n      <th>2022-04-25</th>\n      <td>Backend Software Developer</td>\n      <td>BOTG LLC</td>\n      <td>Remote</td>\n      <td>We are looking for a Backend Software Develope...</td>\n      <td>https://www.indeed.com/company/BOTG-LLC/jobs/B...</td>\n    </tr>\n    <tr>\n      <th>2022-04-25</th>\n      <td>Senior Backend Developer</td>\n      <td>Strategic Employment Partners</td>\n      <td>Remote</td>\n      <td>A very well-known and established US-based com...</td>\n      <td>https://www.indeed.com/pagead/clk?mo=r&amp;ad=-6NY...</td>\n    </tr>\n    <tr>\n      <th>2022-04-25</th>\n      <td>Voice Assistance (Chat Bot) Developer (Remote)</td>\n      <td>Practivest</td>\n      <td>Remote in Washington, DC+1 location</td>\n      <td>Are you an experienced Front-End developer? We...</td>\n      <td>https://www.indeed.com/company/Practivest/jobs...</td>\n    </tr>\n    <tr>\n      <th>2022-04-25</th>\n      <td>PHP Backend Developer</td>\n      <td>DTPM, Inc.</td>\n      <td>Remote</td>\n      <td>Job Description: We are looking for fulltime P...</td>\n      <td>https://www.indeed.com/company/DTPM,-Inc./jobs...</td>\n    </tr>\n    <tr>\n      <th>2022-04-25</th>\n      <td>Backend Developer (Go)</td>\n      <td>Averity</td>\n      <td>+1 locationRemote</td>\n      <td>Are you a Senior Software Engineer with Golang...</td>\n      <td>https://www.indeed.com/pagead/clk?mo=r&amp;ad=-6NY...</td>\n    </tr>\n    <tr>\n      <th>2022-04-25</th>\n      <td>Python/Django Developer</td>\n      <td>Delta</td>\n      <td>Remote</td>\n      <td>Discuss screen designs with UI designerDevelop...</td>\n      <td>https://www.indeed.com/company/Access-To-Futur...</td>\n    </tr>\n    <tr>\n      <th>2022-04-25</th>\n      <td>Java Backend Developer</td>\n      <td>LGL Technologies</td>\n      <td>Remote</td>\n      <td>We are looking for Java Backend Developer for ...</td>\n      <td>https://www.indeed.com/company/LGL-Technologie...</td>\n    </tr>\n    <tr>\n      <th>2022-04-25</th>\n      <td>BackEnd Developer (Remote)</td>\n      <td>Remote Jobs</td>\n      <td>+1 locationRemote</td>\n      <td>InnoWave is looking for a BackEnd Developer to...</td>\n      <td>https://www.indeed.com/rc/clk?jk=eb916d7e992f6...</td>\n    </tr>\n    <tr>\n      <th>2022-04-25</th>\n      <td>Backend Developer</td>\n      <td>Melco International, LLC</td>\n      <td>Remote</td>\n      <td>Job description Melco International LLC is a d...</td>\n      <td>https://www.indeed.com/company/Melco-Internati...</td>\n    </tr>\n    <tr>\n      <th>2022-04-25</th>\n      <td>.Net Developer</td>\n      <td>Stafug</td>\n      <td>Remote</td>\n      <td>.Net DeveloperREMOTE Primary responsibilities ...</td>\n      <td>https://www.indeed.com/company/Stafug/jobs/Net...</td>\n    </tr>\n    <tr>\n      <th>2022-04-25</th>\n      <td>Sr. Java/J2EE backend Developer</td>\n      <td>Snappyhires</td>\n      <td>Remote</td>\n      <td>Job Description:   Collaborates with project s...</td>\n      <td>https://www.indeed.com/company/SnappyHires/job...</td>\n    </tr>\n    <tr>\n      <th>2022-04-25</th>\n      <td>Backend Software Developer</td>\n      <td>Senaptec Inc</td>\n      <td>Remote</td>\n      <td>Senaptec Portland, OR We are looking for an en...</td>\n      <td>https://www.indeed.com/company/New-Physics/job...</td>\n    </tr>\n  </tbody>\n</table>\n</div>"
     },
     "metadata": {},
     "output_type": "display_data"
    },
    {
     "name": "stdout",
     "output_type": "stream",
     "text": [
      "Successfully saved backend_developer jobs!\")\n"
     ]
    },
    {
     "data": {
      "text/plain": "                                                       JobTitle  \\\nDateOfScrape                                                      \n2022-04-25                                      DevOps Engineer   \n2022-04-25                  Entry Level Unix/Linux DEVOPs Admin   \n2022-04-25                     Devops Engineer – VIRTUAL/REMOTE   \n2022-04-25                                      DevOps Engineer   \n2022-04-25                                      DevOps Engineer   \n2022-04-25                                      DevOps Engineer   \n2022-04-25    DevOps Engineer (100% Remote) (Full time perma...   \n2022-04-25                                      DevOps Engineer   \n2022-04-25                 DevOps/AWS/Terraform, Spinnaker, EKS   \n2022-04-25                                      DevOps Engineer   \n2022-04-25                                  AWS DevOps Engineer   \n2022-04-25                           DevOps Engineer -Telephony   \n2022-04-25                                  Jr. DevOps Engineer   \n2022-04-25                       DevOps Cloud Engineer (Remote)   \n2022-04-25                Google Cloud Platform DevOps Engineer   \n\n                                             Company  \\\nDateOfScrape                                           \n2022-04-25                     Resourznet Consulting   \n2022-04-25                  Commonwealth of Kentucky   \n2022-04-25                                    Publix   \n2022-04-25                 SailGoldenGate Consulting   \n2022-04-25                                   workcog   \n2022-04-25                                 Initializ   \n2022-04-25                                Aptivacorp   \n2022-04-25                              Infologitech   \n2022-04-25                                 The Getch   \n2022-04-25                           Relex Solutions   \n2022-04-25    Multi-State Partnership for Prevention   \n2022-04-25           Zoom Video Communications, Inc.   \n2022-04-25                                 Botsplash   \n2022-04-25                               CyberCoders   \n2022-04-25                                  Infipact   \n\n                                              Location  \\\nDateOfScrape                                             \n2022-04-25                                      Remote   \n2022-04-25                         Frankfort, KY 40601   \n2022-04-25    Remote in Lakeland, FL 33801+2 locations   \n2022-04-25                                      Remote   \n2022-04-25                          +5 locationsRemote   \n2022-04-25                                 Atlanta, GA   \n2022-04-25                           +1 locationRemote   \n2022-04-25                                      Remote   \n2022-04-25                          +2 locationsRemote   \n2022-04-25                       Remote in Atlanta, GA   \n2022-04-25                                      Remote   \n2022-04-25                          +8 locationsRemote   \n2022-04-25       Charlotte, NC 28217 (Eagle Lake area)   \n2022-04-25     Remote in Houston, TX 77002+9 locations   \n2022-04-25                                      Remote   \n\n                                                    Description  \\\nDateOfScrape                                                      \n2022-04-25    AWS DevOps Engineer with EKS Experienceclient ...   \n2022-04-25    Entry Level Unix/Linux DevOps Admin Frankfort,...   \n2022-04-25    Publix is able to offer virtual/remote employm...   \n2022-04-25    DevOps Engineer (Advanced Level) This is an op...   \n2022-04-25    We are looking for a DevOps Engineer to help u...   \n2022-04-25    About us Initializ is a small business in Atla...   \n2022-04-25    Position: Site Reliability EngineerType: Full ...   \n2022-04-25    Apply Only US Citizens & GC Holders Skill Requ...   \n2022-04-25    Role : Job: Dev Ops/AWS/JPMC/Terraform, Spinna...   \n2022-04-25    DevOps Engineer    What you'll be doing:  Deve...   \n2022-04-25    Overview The Multi‐State Partnership for Preve...   \n2022-04-25    Work Styles at Zoom          In most cases, yo...   \n2022-04-25    We are looking for a Jr DevOps Engineer to hel...   \n2022-04-25    DevOps Cloud Engineer (Remote)        If you a...   \n2022-04-25    Position:  Google Cloud Platform DevOps Engine...   \n\n                                                         JobUrl  \nDateOfScrape                                                     \n2022-04-25    https://www.indeed.com/company/Resourznet-Cons...  \n2022-04-25    https://www.indeed.com/company/Harvey-Nash/job...  \n2022-04-25    https://www.indeed.com/rc/clk?jk=5cb0fe359ab61...  \n2022-04-25    https://www.indeed.com/company/SailGoldenGate-...  \n2022-04-25    https://www.indeed.com/company/WorkCog/jobs/De...  \n2022-04-25    https://www.indeed.com/company/Initializ/jobs/...  \n2022-04-25    https://www.indeed.com/company/aptivacorp/jobs...  \n2022-04-25    https://www.indeed.com/company/Infologitech/jo...  \n2022-04-25    https://www.indeed.com/company/The-Getch/jobs/...  \n2022-04-25    https://www.indeed.com/rc/clk?jk=6b9a6209f9be7...  \n2022-04-25    https://www.indeed.com/company/Multi--State-Pa...  \n2022-04-25    https://www.indeed.com/rc/clk?jk=78067324b8f0a...  \n2022-04-25    https://www.indeed.com/company/botsplash.com/j...  \n2022-04-25    https://www.indeed.com/pagead/clk?mo=r&ad=-6NY...  \n2022-04-25    https://www.indeed.com/company/Infipact/jobs/G...  ",
      "text/html": "<div>\n<style scoped>\n    .dataframe tbody tr th:only-of-type {\n        vertical-align: middle;\n    }\n\n    .dataframe tbody tr th {\n        vertical-align: top;\n    }\n\n    .dataframe thead th {\n        text-align: right;\n    }\n</style>\n<table border=\"1\" class=\"dataframe\">\n  <thead>\n    <tr style=\"text-align: right;\">\n      <th></th>\n      <th>JobTitle</th>\n      <th>Company</th>\n      <th>Location</th>\n      <th>Description</th>\n      <th>JobUrl</th>\n    </tr>\n    <tr>\n      <th>DateOfScrape</th>\n      <th></th>\n      <th></th>\n      <th></th>\n      <th></th>\n      <th></th>\n    </tr>\n  </thead>\n  <tbody>\n    <tr>\n      <th>2022-04-25</th>\n      <td>DevOps Engineer</td>\n      <td>Resourznet Consulting</td>\n      <td>Remote</td>\n      <td>AWS DevOps Engineer with EKS Experienceclient ...</td>\n      <td>https://www.indeed.com/company/Resourznet-Cons...</td>\n    </tr>\n    <tr>\n      <th>2022-04-25</th>\n      <td>Entry Level Unix/Linux DEVOPs Admin</td>\n      <td>Commonwealth of Kentucky</td>\n      <td>Frankfort, KY 40601</td>\n      <td>Entry Level Unix/Linux DevOps Admin Frankfort,...</td>\n      <td>https://www.indeed.com/company/Harvey-Nash/job...</td>\n    </tr>\n    <tr>\n      <th>2022-04-25</th>\n      <td>Devops Engineer – VIRTUAL/REMOTE</td>\n      <td>Publix</td>\n      <td>Remote in Lakeland, FL 33801+2 locations</td>\n      <td>Publix is able to offer virtual/remote employm...</td>\n      <td>https://www.indeed.com/rc/clk?jk=5cb0fe359ab61...</td>\n    </tr>\n    <tr>\n      <th>2022-04-25</th>\n      <td>DevOps Engineer</td>\n      <td>SailGoldenGate Consulting</td>\n      <td>Remote</td>\n      <td>DevOps Engineer (Advanced Level) This is an op...</td>\n      <td>https://www.indeed.com/company/SailGoldenGate-...</td>\n    </tr>\n    <tr>\n      <th>2022-04-25</th>\n      <td>DevOps Engineer</td>\n      <td>workcog</td>\n      <td>+5 locationsRemote</td>\n      <td>We are looking for a DevOps Engineer to help u...</td>\n      <td>https://www.indeed.com/company/WorkCog/jobs/De...</td>\n    </tr>\n    <tr>\n      <th>2022-04-25</th>\n      <td>DevOps Engineer</td>\n      <td>Initializ</td>\n      <td>Atlanta, GA</td>\n      <td>About us Initializ is a small business in Atla...</td>\n      <td>https://www.indeed.com/company/Initializ/jobs/...</td>\n    </tr>\n    <tr>\n      <th>2022-04-25</th>\n      <td>DevOps Engineer (100% Remote) (Full time perma...</td>\n      <td>Aptivacorp</td>\n      <td>+1 locationRemote</td>\n      <td>Position: Site Reliability EngineerType: Full ...</td>\n      <td>https://www.indeed.com/company/aptivacorp/jobs...</td>\n    </tr>\n    <tr>\n      <th>2022-04-25</th>\n      <td>DevOps Engineer</td>\n      <td>Infologitech</td>\n      <td>Remote</td>\n      <td>Apply Only US Citizens &amp; GC Holders Skill Requ...</td>\n      <td>https://www.indeed.com/company/Infologitech/jo...</td>\n    </tr>\n    <tr>\n      <th>2022-04-25</th>\n      <td>DevOps/AWS/Terraform, Spinnaker, EKS</td>\n      <td>The Getch</td>\n      <td>+2 locationsRemote</td>\n      <td>Role : Job: Dev Ops/AWS/JPMC/Terraform, Spinna...</td>\n      <td>https://www.indeed.com/company/The-Getch/jobs/...</td>\n    </tr>\n    <tr>\n      <th>2022-04-25</th>\n      <td>DevOps Engineer</td>\n      <td>Relex Solutions</td>\n      <td>Remote in Atlanta, GA</td>\n      <td>DevOps Engineer    What you'll be doing:  Deve...</td>\n      <td>https://www.indeed.com/rc/clk?jk=6b9a6209f9be7...</td>\n    </tr>\n    <tr>\n      <th>2022-04-25</th>\n      <td>AWS DevOps Engineer</td>\n      <td>Multi-State Partnership for Prevention</td>\n      <td>Remote</td>\n      <td>Overview The Multi‐State Partnership for Preve...</td>\n      <td>https://www.indeed.com/company/Multi--State-Pa...</td>\n    </tr>\n    <tr>\n      <th>2022-04-25</th>\n      <td>DevOps Engineer -Telephony</td>\n      <td>Zoom Video Communications, Inc.</td>\n      <td>+8 locationsRemote</td>\n      <td>Work Styles at Zoom          In most cases, yo...</td>\n      <td>https://www.indeed.com/rc/clk?jk=78067324b8f0a...</td>\n    </tr>\n    <tr>\n      <th>2022-04-25</th>\n      <td>Jr. DevOps Engineer</td>\n      <td>Botsplash</td>\n      <td>Charlotte, NC 28217 (Eagle Lake area)</td>\n      <td>We are looking for a Jr DevOps Engineer to hel...</td>\n      <td>https://www.indeed.com/company/botsplash.com/j...</td>\n    </tr>\n    <tr>\n      <th>2022-04-25</th>\n      <td>DevOps Cloud Engineer (Remote)</td>\n      <td>CyberCoders</td>\n      <td>Remote in Houston, TX 77002+9 locations</td>\n      <td>DevOps Cloud Engineer (Remote)        If you a...</td>\n      <td>https://www.indeed.com/pagead/clk?mo=r&amp;ad=-6NY...</td>\n    </tr>\n    <tr>\n      <th>2022-04-25</th>\n      <td>Google Cloud Platform DevOps Engineer</td>\n      <td>Infipact</td>\n      <td>Remote</td>\n      <td>Position:  Google Cloud Platform DevOps Engine...</td>\n      <td>https://www.indeed.com/company/Infipact/jobs/G...</td>\n    </tr>\n  </tbody>\n</table>\n</div>"
     },
     "metadata": {},
     "output_type": "display_data"
    },
    {
     "name": "stdout",
     "output_type": "stream",
     "text": [
      "Successfully saved devops jobs!\")\n"
     ]
    },
    {
     "data": {
      "text/plain": "                                           JobTitle  \\\nDateOfScrape                                          \n2022-04-25                 Senior Software Engineer   \n2022-04-25         Software Engineer (Early Career)   \n2022-04-25         Software Engineer I - Enterprise   \n2022-04-25                        Computer Engineer   \n2022-04-25           Software Engineer - Automation   \n2022-04-25                        Software engineer   \n2022-04-25                    Jr. Software Engineer   \n2022-04-25    Software Engineer – multiple openings   \n2022-04-25            Entry Level Software Engineer   \n2022-04-25               Frontend Software Engineer   \n2022-04-25              Associate Software Engineer   \n2022-04-25        Software Development (All Levels)   \n2022-04-25             Apprentice Software Engineer   \n2022-04-25                        Software Engineer   \n\n                                            Company  \\\nDateOfScrape                                          \n2022-04-25                                   Amazon   \n2022-04-25                                    Apple   \n2022-04-25                                   Indeed   \n2022-04-25    US Defense Contract Management Agency   \n2022-04-25                                     Meta   \n2022-04-25                             Sticker Mule   \n2022-04-25                             NBCUniversal   \n2022-04-25      The Walt Disney Company (Corporate)   \n2022-04-25                                    Avant   \n2022-04-25                                     Tilt   \n2022-04-25                            Grow Progress   \n2022-04-25                                 Insurity   \n2022-04-25                               VSP Global   \n2022-04-25                         Disney Streaming   \n\n                                                    Location  \\\nDateOfScrape                                                   \n2022-04-25                              +126 locationsRemote   \n2022-04-25                          Austin, TX+126 locations   \n2022-04-25                              +126 locationsRemote   \n2022-04-25                                     San Diego, CA   \n2022-04-25                              +126 locationsRemote   \n2022-04-25                                            Remote   \n2022-04-25                                            Remote   \n2022-04-25                                       Orlando, FL   \n2022-04-25                                            Remote   \n2022-04-25                                            Remote   \n2022-04-25                                 +1 locationRemote   \n2022-04-25                                            Remote   \n2022-04-25                  Remote in California+4 locations   \n2022-04-25    Seattle, WA 98164 (Downtown area)+33 locations   \n\n                                                    Description  \\\nDateOfScrape                                                      \n2022-04-25    Amazon’s eCommerce Foundation organization pro...   \n2022-04-25    Summary Posted: Mar 24, 2022 Weekly Hours: 40 ...   \n2022-04-25                                   No job description   \n2022-04-25    Help    This job is open to     Military spous...   \n2022-04-25    Reality Labs brings together a world-class tea...   \n2022-04-25    About Sticker Mule       Sticker Mule is the I...   \n2022-04-25    69366BR Technology & Engineering Operations & ...   \n2022-04-25    Enterprise Technology is an organization withi...   \n2022-04-25    Avant is dedicated to building premier digital...   \n2022-04-25    Frontend Software Engineer Team: Product & Eng...   \n2022-04-25    Grow Progress is hiring associate software eng...   \n2022-04-25    Software Development at Insurity From Software...   \n2022-04-25    Partner in the development, testing and implem...   \n2022-04-25    Our team is seeking a Software Engineer to hel...   \n\n                                                         JobUrl  \nDateOfScrape                                                     \n2022-04-25    https://www.indeed.com/pagead/clk?mo=r&ad=-6NY...  \n2022-04-25    https://www.indeed.com/pagead/clk?mo=r&ad=-6NY...  \n2022-04-25    https://www.indeed.com/pagead/clk?mo=r&ad=-6NY...  \n2022-04-25    https://www.indeed.com/rc/clk?jk=58528687c180b...  \n2022-04-25    https://www.indeed.com/pagead/clk?mo=r&ad=-6NY...  \n2022-04-25    https://www.indeed.com/rc/clk?jk=1756e7b0298d0...  \n2022-04-25    https://www.indeed.com/rc/clk?jk=589e7df855f13...  \n2022-04-25    https://www.indeed.com/rc/clk?jk=91ff01de01fff...  \n2022-04-25    https://www.indeed.com/company/Avant/jobs/Entr...  \n2022-04-25    https://www.indeed.com/rc/clk?jk=33861facb0d2e...  \n2022-04-25    https://www.indeed.com/rc/clk?jk=fa4fc9d13e043...  \n2022-04-25    https://www.indeed.com/rc/clk?jk=676599852a737...  \n2022-04-25    https://www.indeed.com/rc/clk?jk=a699e45db431f...  \n2022-04-25    https://www.indeed.com/pagead/clk?mo=r&ad=-6NY...  ",
      "text/html": "<div>\n<style scoped>\n    .dataframe tbody tr th:only-of-type {\n        vertical-align: middle;\n    }\n\n    .dataframe tbody tr th {\n        vertical-align: top;\n    }\n\n    .dataframe thead th {\n        text-align: right;\n    }\n</style>\n<table border=\"1\" class=\"dataframe\">\n  <thead>\n    <tr style=\"text-align: right;\">\n      <th></th>\n      <th>JobTitle</th>\n      <th>Company</th>\n      <th>Location</th>\n      <th>Description</th>\n      <th>JobUrl</th>\n    </tr>\n    <tr>\n      <th>DateOfScrape</th>\n      <th></th>\n      <th></th>\n      <th></th>\n      <th></th>\n      <th></th>\n    </tr>\n  </thead>\n  <tbody>\n    <tr>\n      <th>2022-04-25</th>\n      <td>Senior Software Engineer</td>\n      <td>Amazon</td>\n      <td>+126 locationsRemote</td>\n      <td>Amazon’s eCommerce Foundation organization pro...</td>\n      <td>https://www.indeed.com/pagead/clk?mo=r&amp;ad=-6NY...</td>\n    </tr>\n    <tr>\n      <th>2022-04-25</th>\n      <td>Software Engineer (Early Career)</td>\n      <td>Apple</td>\n      <td>Austin, TX+126 locations</td>\n      <td>Summary Posted: Mar 24, 2022 Weekly Hours: 40 ...</td>\n      <td>https://www.indeed.com/pagead/clk?mo=r&amp;ad=-6NY...</td>\n    </tr>\n    <tr>\n      <th>2022-04-25</th>\n      <td>Software Engineer I - Enterprise</td>\n      <td>Indeed</td>\n      <td>+126 locationsRemote</td>\n      <td>No job description</td>\n      <td>https://www.indeed.com/pagead/clk?mo=r&amp;ad=-6NY...</td>\n    </tr>\n    <tr>\n      <th>2022-04-25</th>\n      <td>Computer Engineer</td>\n      <td>US Defense Contract Management Agency</td>\n      <td>San Diego, CA</td>\n      <td>Help    This job is open to     Military spous...</td>\n      <td>https://www.indeed.com/rc/clk?jk=58528687c180b...</td>\n    </tr>\n    <tr>\n      <th>2022-04-25</th>\n      <td>Software Engineer - Automation</td>\n      <td>Meta</td>\n      <td>+126 locationsRemote</td>\n      <td>Reality Labs brings together a world-class tea...</td>\n      <td>https://www.indeed.com/pagead/clk?mo=r&amp;ad=-6NY...</td>\n    </tr>\n    <tr>\n      <th>2022-04-25</th>\n      <td>Software engineer</td>\n      <td>Sticker Mule</td>\n      <td>Remote</td>\n      <td>About Sticker Mule       Sticker Mule is the I...</td>\n      <td>https://www.indeed.com/rc/clk?jk=1756e7b0298d0...</td>\n    </tr>\n    <tr>\n      <th>2022-04-25</th>\n      <td>Jr. Software Engineer</td>\n      <td>NBCUniversal</td>\n      <td>Remote</td>\n      <td>69366BR Technology &amp; Engineering Operations &amp; ...</td>\n      <td>https://www.indeed.com/rc/clk?jk=589e7df855f13...</td>\n    </tr>\n    <tr>\n      <th>2022-04-25</th>\n      <td>Software Engineer – multiple openings</td>\n      <td>The Walt Disney Company (Corporate)</td>\n      <td>Orlando, FL</td>\n      <td>Enterprise Technology is an organization withi...</td>\n      <td>https://www.indeed.com/rc/clk?jk=91ff01de01fff...</td>\n    </tr>\n    <tr>\n      <th>2022-04-25</th>\n      <td>Entry Level Software Engineer</td>\n      <td>Avant</td>\n      <td>Remote</td>\n      <td>Avant is dedicated to building premier digital...</td>\n      <td>https://www.indeed.com/company/Avant/jobs/Entr...</td>\n    </tr>\n    <tr>\n      <th>2022-04-25</th>\n      <td>Frontend Software Engineer</td>\n      <td>Tilt</td>\n      <td>Remote</td>\n      <td>Frontend Software Engineer Team: Product &amp; Eng...</td>\n      <td>https://www.indeed.com/rc/clk?jk=33861facb0d2e...</td>\n    </tr>\n    <tr>\n      <th>2022-04-25</th>\n      <td>Associate Software Engineer</td>\n      <td>Grow Progress</td>\n      <td>+1 locationRemote</td>\n      <td>Grow Progress is hiring associate software eng...</td>\n      <td>https://www.indeed.com/rc/clk?jk=fa4fc9d13e043...</td>\n    </tr>\n    <tr>\n      <th>2022-04-25</th>\n      <td>Software Development (All Levels)</td>\n      <td>Insurity</td>\n      <td>Remote</td>\n      <td>Software Development at Insurity From Software...</td>\n      <td>https://www.indeed.com/rc/clk?jk=676599852a737...</td>\n    </tr>\n    <tr>\n      <th>2022-04-25</th>\n      <td>Apprentice Software Engineer</td>\n      <td>VSP Global</td>\n      <td>Remote in California+4 locations</td>\n      <td>Partner in the development, testing and implem...</td>\n      <td>https://www.indeed.com/rc/clk?jk=a699e45db431f...</td>\n    </tr>\n    <tr>\n      <th>2022-04-25</th>\n      <td>Software Engineer</td>\n      <td>Disney Streaming</td>\n      <td>Seattle, WA 98164 (Downtown area)+33 locations</td>\n      <td>Our team is seeking a Software Engineer to hel...</td>\n      <td>https://www.indeed.com/pagead/clk?mo=r&amp;ad=-6NY...</td>\n    </tr>\n  </tbody>\n</table>\n</div>"
     },
     "metadata": {},
     "output_type": "display_data"
    },
    {
     "name": "stdout",
     "output_type": "stream",
     "text": [
      "Successfully saved software_engineer jobs!\")\n"
     ]
    }
   ],
   "source": [
    "for position in search_terms:\n",
    "  try:\n",
    "    scraped_list = get_job_records(position)\n",
    "    indeed_jobs = pd.DataFrame(scraped_list,\n",
    "                              columns=[ 'DateOfScrape',\n",
    "                                        'JobTitle',\n",
    "                                        'Company',\n",
    "                                        'Location',\n",
    "                                        'Description',\n",
    "                                        'JobUrl'])\n",
    "    saving_jobs = copy.deepcopy(indeed_jobs)\n",
    "    saving_jobs = saving_jobs.drop_duplicates(['Description']).reset_index(drop=True)\n",
    "    saving_jobs = saving_jobs[saving_jobs['Description'].notna()]\n",
    "    saving_jobs['Description'] = saving_jobs['Description'].apply(lambda x: x.replace('\\n', ' '))\n",
    "    if len(saving_jobs)==1:\n",
    "      continue\n",
    "\n",
    "    saving_jobs.set_index(['DateOfScrape'], inplace=True)\n",
    "    position = position.replace(' ', '_')\n",
    "    display(saving_jobs)\n",
    "    saving_jobs.to_csv(f'{position}_jobs.csv', encoding='utf-8', index=False)\n",
    "    print(f'Successfully saved {position} jobs!\")')\n",
    "  except AttributeError:\n",
    "    print(f'Failed to save {position} jobs check errlogs')\n",
    "    continue"
   ],
   "metadata": {
    "collapsed": false,
    "pycharm": {
     "name": "#%%\n"
    }
   }
  },
  {
   "cell_type": "code",
   "execution_count": 12,
   "outputs": [],
   "source": [],
   "metadata": {
    "collapsed": false,
    "pycharm": {
     "name": "#%%\n"
    }
   }
  }
 ],
 "metadata": {
  "kernelspec": {
   "display_name": "Python 3",
   "language": "python",
   "name": "python3"
  },
  "language_info": {
   "codemirror_mode": {
    "name": "ipython",
    "version": 2
   },
   "file_extension": ".py",
   "mimetype": "text/x-python",
   "name": "python",
   "nbconvert_exporter": "python",
   "pygments_lexer": "ipython2",
   "version": "2.7.6"
  }
 },
 "nbformat": 4,
 "nbformat_minor": 0
}