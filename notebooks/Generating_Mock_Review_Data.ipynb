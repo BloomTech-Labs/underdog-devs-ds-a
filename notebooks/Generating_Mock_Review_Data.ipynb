{
 "cells": [
  {
   "cell_type": "markdown",
   "metadata": {
    "id": "koqy3Y5hXhfs",
    "pycharm": {
     "name": "#%% md\n"
    }
   },
   "source": [
    "## Generating mock review data where mentor gives review to mentee"
   ]
  },
  {
   "cell_type": "code",
   "execution_count": 1,
   "metadata": {
    "id": "BnaL5IirXbFg",
    "scrolled": true,
    "pycharm": {
     "name": "#%%\n"
    }
   },
   "outputs": [],
   "source": [
    "import sys\n",
    "import os\n",
    "# We appended the path with the root folder to access modules in sibling directories.\n",
    "sys.path.append(os.path.abspath('../'))\n",
    "\n",
    "import pandas as pd\n",
    "import random as r\n",
    "from vaderSentiment.vaderSentiment import SentimentIntensityAnalyzer\n",
    "\n",
    "from data_generators.data_options import *"
   ]
  },
  {
   "cell_type": "code",
   "execution_count": 2,
   "metadata": {
    "id": "YtOeMNNOYRp_",
    "scrolled": true,
    "pycharm": {
     "name": "#%%\n"
    }
   },
   "outputs": [
    {
     "data": {
      "text/html": [
       "<div>\n",
       "<style scoped>\n",
       "    .dataframe tbody tr th:only-of-type {\n",
       "        vertical-align: middle;\n",
       "    }\n",
       "\n",
       "    .dataframe tbody tr th {\n",
       "        vertical-align: top;\n",
       "    }\n",
       "\n",
       "    .dataframe thead th {\n",
       "        text-align: right;\n",
       "    }\n",
       "</style>\n",
       "<table border=\"1\" class=\"dataframe\">\n",
       "  <thead>\n",
       "    <tr style=\"text-align: right;\">\n",
       "      <th></th>\n",
       "      <th>Review</th>\n",
       "    </tr>\n",
       "  </thead>\n",
       "  <tbody>\n",
       "    <tr>\n",
       "      <th>0</th>\n",
       "      <td>good and interesting</td>\n",
       "    </tr>\n",
       "    <tr>\n",
       "      <th>1</th>\n",
       "      <td>This class is very helpful to me. Currently, I...</td>\n",
       "    </tr>\n",
       "    <tr>\n",
       "      <th>2</th>\n",
       "      <td>like!Prof and TAs are helpful and the discussi...</td>\n",
       "    </tr>\n",
       "    <tr>\n",
       "      <th>3</th>\n",
       "      <td>Easy to follow and includes a lot basic and im...</td>\n",
       "    </tr>\n",
       "    <tr>\n",
       "      <th>4</th>\n",
       "      <td>Really nice teacher!I could got the point eazl...</td>\n",
       "    </tr>\n",
       "    <tr>\n",
       "      <th>...</th>\n",
       "      <td>...</td>\n",
       "    </tr>\n",
       "    <tr>\n",
       "      <th>596</th>\n",
       "      <td>Good content but the Chinese translation is ba...</td>\n",
       "    </tr>\n",
       "    <tr>\n",
       "      <th>597</th>\n",
       "      <td>Not difficult to understand,interesting,helpfu...</td>\n",
       "    </tr>\n",
       "    <tr>\n",
       "      <th>598</th>\n",
       "      <td>very useful course. And thank for professor's ...</td>\n",
       "    </tr>\n",
       "    <tr>\n",
       "      <th>599</th>\n",
       "      <td>An interesting course and thank you for transl...</td>\n",
       "    </tr>\n",
       "    <tr>\n",
       "      <th>600</th>\n",
       "      <td>The course is more about business competitive ...</td>\n",
       "    </tr>\n",
       "  </tbody>\n",
       "</table>\n",
       "<p>601 rows × 1 columns</p>\n",
       "</div>"
      ],
      "text/plain": [
       "                                                Review\n",
       "0                                 good and interesting\n",
       "1    This class is very helpful to me. Currently, I...\n",
       "2    like!Prof and TAs are helpful and the discussi...\n",
       "3    Easy to follow and includes a lot basic and im...\n",
       "4    Really nice teacher!I could got the point eazl...\n",
       "..                                                 ...\n",
       "596  Good content but the Chinese translation is ba...\n",
       "597  Not difficult to understand,interesting,helpfu...\n",
       "598  very useful course. And thank for professor's ...\n",
       "599  An interesting course and thank you for transl...\n",
       "600  The course is more about business competitive ...\n",
       "\n",
       "[601 rows x 1 columns]"
      ]
     },
     "execution_count": 2,
     "metadata": {},
     "output_type": "execute_result"
    }
   ],
   "source": [
    "df = pd.read_csv('../data_generators/review.csv')\n",
    "\n",
    "df.drop(columns=['Id','Label'],inplace=True)\n",
    "df"
   ]
  },
  {
   "cell_type": "markdown",
   "metadata": {
    "id": "8rQQR7ZDeTVh",
    "pycharm": {
     "name": "#%% md\n"
    }
   },
   "source": [
    "## Adding Mentee And Mentor ID's Mock Data to the data frame"
   ]
  },
  {
   "cell_type": "code",
   "execution_count": 3,
   "metadata": {
    "id": "hEKLqbVqY--t",
    "pycharm": {
     "name": "#%%\n"
    }
   },
   "outputs": [],
   "source": [
    "df['mentor_id'] =[\"O\" + str(hash(r.randint(2000000, 70000000000000000))) for _ in range(df.shape[0]) ]"
   ]
  },
  {
   "cell_type": "code",
   "execution_count": 4,
   "metadata": {
    "id": "T05YqjGAd7aL",
    "pycharm": {
     "name": "#%%\n"
    }
   },
   "outputs": [],
   "source": [
    "df['mentee_id'] = [\"E\" + str(r.randint(1000000, 70000000000000)) for _ in range(df.shape[0])]"
   ]
  },
  {
   "cell_type": "code",
   "execution_count": 5,
   "metadata": {
    "colab": {
     "base_uri": "https://localhost:8080/",
     "height": 424
    },
    "id": "3av4tswbd73i",
    "outputId": "473eb396-33d1-4c8e-e3d9-02bd4cbeb185",
    "pycharm": {
     "name": "#%%\n"
    }
   },
   "outputs": [
    {
     "data": {
      "text/html": [
       "<div>\n",
       "<style scoped>\n",
       "    .dataframe tbody tr th:only-of-type {\n",
       "        vertical-align: middle;\n",
       "    }\n",
       "\n",
       "    .dataframe tbody tr th {\n",
       "        vertical-align: top;\n",
       "    }\n",
       "\n",
       "    .dataframe thead th {\n",
       "        text-align: right;\n",
       "    }\n",
       "</style>\n",
       "<table border=\"1\" class=\"dataframe\">\n",
       "  <thead>\n",
       "    <tr style=\"text-align: right;\">\n",
       "      <th></th>\n",
       "      <th>Review</th>\n",
       "      <th>mentor_id</th>\n",
       "      <th>mentee_id</th>\n",
       "    </tr>\n",
       "  </thead>\n",
       "  <tbody>\n",
       "    <tr>\n",
       "      <th>0</th>\n",
       "      <td>good and interesting</td>\n",
       "      <td>O7974805342017122</td>\n",
       "      <td>E62334911376169</td>\n",
       "    </tr>\n",
       "    <tr>\n",
       "      <th>1</th>\n",
       "      <td>This class is very helpful to me. Currently, I...</td>\n",
       "      <td>O59416778240949068</td>\n",
       "      <td>E27773356675966</td>\n",
       "    </tr>\n",
       "    <tr>\n",
       "      <th>2</th>\n",
       "      <td>like!Prof and TAs are helpful and the discussi...</td>\n",
       "      <td>O49606449880069531</td>\n",
       "      <td>E30779409900267</td>\n",
       "    </tr>\n",
       "    <tr>\n",
       "      <th>3</th>\n",
       "      <td>Easy to follow and includes a lot basic and im...</td>\n",
       "      <td>O7750754913692512</td>\n",
       "      <td>E31875519906553</td>\n",
       "    </tr>\n",
       "    <tr>\n",
       "      <th>4</th>\n",
       "      <td>Really nice teacher!I could got the point eazl...</td>\n",
       "      <td>O4603721631244430</td>\n",
       "      <td>E65598346207813</td>\n",
       "    </tr>\n",
       "    <tr>\n",
       "      <th>...</th>\n",
       "      <td>...</td>\n",
       "      <td>...</td>\n",
       "      <td>...</td>\n",
       "    </tr>\n",
       "    <tr>\n",
       "      <th>596</th>\n",
       "      <td>Good content but the Chinese translation is ba...</td>\n",
       "      <td>O39672243842765488</td>\n",
       "      <td>E64097709554826</td>\n",
       "    </tr>\n",
       "    <tr>\n",
       "      <th>597</th>\n",
       "      <td>Not difficult to understand,interesting,helpfu...</td>\n",
       "      <td>O8497217320592901</td>\n",
       "      <td>E26802833025707</td>\n",
       "    </tr>\n",
       "    <tr>\n",
       "      <th>598</th>\n",
       "      <td>very useful course. And thank for professor's ...</td>\n",
       "      <td>O47509504387053970</td>\n",
       "      <td>E23533619460288</td>\n",
       "    </tr>\n",
       "    <tr>\n",
       "      <th>599</th>\n",
       "      <td>An interesting course and thank you for transl...</td>\n",
       "      <td>O11350401248967897</td>\n",
       "      <td>E14185317102093</td>\n",
       "    </tr>\n",
       "    <tr>\n",
       "      <th>600</th>\n",
       "      <td>The course is more about business competitive ...</td>\n",
       "      <td>O45918173012641812</td>\n",
       "      <td>E28589088109669</td>\n",
       "    </tr>\n",
       "  </tbody>\n",
       "</table>\n",
       "<p>601 rows × 3 columns</p>\n",
       "</div>"
      ],
      "text/plain": [
       "                                                Review           mentor_id  \\\n",
       "0                                 good and interesting   O7974805342017122   \n",
       "1    This class is very helpful to me. Currently, I...  O59416778240949068   \n",
       "2    like!Prof and TAs are helpful and the discussi...  O49606449880069531   \n",
       "3    Easy to follow and includes a lot basic and im...   O7750754913692512   \n",
       "4    Really nice teacher!I could got the point eazl...   O4603721631244430   \n",
       "..                                                 ...                 ...   \n",
       "596  Good content but the Chinese translation is ba...  O39672243842765488   \n",
       "597  Not difficult to understand,interesting,helpfu...   O8497217320592901   \n",
       "598  very useful course. And thank for professor's ...  O47509504387053970   \n",
       "599  An interesting course and thank you for transl...  O11350401248967897   \n",
       "600  The course is more about business competitive ...  O45918173012641812   \n",
       "\n",
       "           mentee_id  \n",
       "0    E62334911376169  \n",
       "1    E27773356675966  \n",
       "2    E30779409900267  \n",
       "3    E31875519906553  \n",
       "4    E65598346207813  \n",
       "..               ...  \n",
       "596  E64097709554826  \n",
       "597  E26802833025707  \n",
       "598  E23533619460288  \n",
       "599  E14185317102093  \n",
       "600  E28589088109669  \n",
       "\n",
       "[601 rows x 3 columns]"
      ]
     },
     "execution_count": 5,
     "metadata": {},
     "output_type": "execute_result"
    }
   ],
   "source": [
    "df"
   ]
  },
  {
   "cell_type": "code",
   "execution_count": 6,
   "metadata": {
    "pycharm": {
     "name": "#%%\n"
    }
   },
   "outputs": [],
   "source": [
    "vader = SentimentIntensityAnalyzer()\n",
    "\n",
    "def one_vader_score(text):\n",
    "    \"\"\"Return compound score of text using vader analysis.\"\"\"\n",
    "    return vader.polarity_scores(text)['compound']"
   ]
  },
  {
   "cell_type": "code",
   "execution_count": 7,
   "metadata": {
    "pycharm": {
     "name": "#%%\n"
    }
   },
   "outputs": [],
   "source": [
    "df[\"compound_score\"] = df['Review'].apply(one_vader_score)"
   ]
  },
  {
   "cell_type": "code",
   "execution_count": 8,
   "metadata": {
    "pycharm": {
     "name": "#%%\n"
    }
   },
   "outputs": [],
   "source": [
    "def is_positive(number):\n",
    "    '''\n",
    "    Returns a 1 for positive reviews and a 0 for neutral \n",
    "    or negative reviews.\n",
    "    '''\n",
    "    if number >= 0.05:\n",
    "        return 1\n",
    "    else:\n",
    "        return 0"
   ]
  },
  {
   "cell_type": "code",
   "execution_count": 9,
   "metadata": {
    "pycharm": {
     "name": "#%%\n"
    }
   },
   "outputs": [],
   "source": [
    "df['positive'] = df['compound_score'].apply(is_positive)"
   ]
  },
  {
   "cell_type": "code",
   "execution_count": 10,
   "metadata": {
    "scrolled": false,
    "pycharm": {
     "name": "#%%\n"
    }
   },
   "outputs": [
    {
     "data": {
      "text/html": [
       "<div>\n",
       "<style scoped>\n",
       "    .dataframe tbody tr th:only-of-type {\n",
       "        vertical-align: middle;\n",
       "    }\n",
       "\n",
       "    .dataframe tbody tr th {\n",
       "        vertical-align: top;\n",
       "    }\n",
       "\n",
       "    .dataframe thead th {\n",
       "        text-align: right;\n",
       "    }\n",
       "</style>\n",
       "<table border=\"1\" class=\"dataframe\">\n",
       "  <thead>\n",
       "    <tr style=\"text-align: right;\">\n",
       "      <th></th>\n",
       "      <th>Review</th>\n",
       "      <th>mentor_id</th>\n",
       "      <th>mentee_id</th>\n",
       "      <th>compound_score</th>\n",
       "      <th>positive</th>\n",
       "    </tr>\n",
       "  </thead>\n",
       "  <tbody>\n",
       "    <tr>\n",
       "      <th>0</th>\n",
       "      <td>good and interesting</td>\n",
       "      <td>O7974805342017122</td>\n",
       "      <td>E62334911376169</td>\n",
       "      <td>0.6808</td>\n",
       "      <td>1</td>\n",
       "    </tr>\n",
       "    <tr>\n",
       "      <th>1</th>\n",
       "      <td>This class is very helpful to me. Currently, I...</td>\n",
       "      <td>O59416778240949068</td>\n",
       "      <td>E27773356675966</td>\n",
       "      <td>0.4754</td>\n",
       "      <td>1</td>\n",
       "    </tr>\n",
       "    <tr>\n",
       "      <th>2</th>\n",
       "      <td>like!Prof and TAs are helpful and the discussi...</td>\n",
       "      <td>O49606449880069531</td>\n",
       "      <td>E30779409900267</td>\n",
       "      <td>0.8843</td>\n",
       "      <td>1</td>\n",
       "    </tr>\n",
       "    <tr>\n",
       "      <th>3</th>\n",
       "      <td>Easy to follow and includes a lot basic and im...</td>\n",
       "      <td>O7750754913692512</td>\n",
       "      <td>E31875519906553</td>\n",
       "      <td>0.5719</td>\n",
       "      <td>1</td>\n",
       "    </tr>\n",
       "    <tr>\n",
       "      <th>4</th>\n",
       "      <td>Really nice teacher!I could got the point eazl...</td>\n",
       "      <td>O4603721631244430</td>\n",
       "      <td>E65598346207813</td>\n",
       "      <td>0.3266</td>\n",
       "      <td>1</td>\n",
       "    </tr>\n",
       "  </tbody>\n",
       "</table>\n",
       "</div>"
      ],
      "text/plain": [
       "                                              Review           mentor_id  \\\n",
       "0                               good and interesting   O7974805342017122   \n",
       "1  This class is very helpful to me. Currently, I...  O59416778240949068   \n",
       "2  like!Prof and TAs are helpful and the discussi...  O49606449880069531   \n",
       "3  Easy to follow and includes a lot basic and im...   O7750754913692512   \n",
       "4  Really nice teacher!I could got the point eazl...   O4603721631244430   \n",
       "\n",
       "         mentee_id  compound_score  positive  \n",
       "0  E62334911376169          0.6808         1  \n",
       "1  E27773356675966          0.4754         1  \n",
       "2  E30779409900267          0.8843         1  \n",
       "3  E31875519906553          0.5719         1  \n",
       "4  E65598346207813          0.3266         1  "
      ]
     },
     "execution_count": 10,
     "metadata": {},
     "output_type": "execute_result"
    }
   ],
   "source": [
    "df.head()"
   ]
  },
  {
   "cell_type": "code",
   "execution_count": 11,
   "metadata": {
    "pycharm": {
     "name": "#%%\n"
    }
   },
   "outputs": [
    {
     "data": {
      "text/plain": [
       "1    523\n",
       "0     78\n",
       "Name: positive, dtype: int64"
      ]
     },
     "execution_count": 11,
     "metadata": {},
     "output_type": "execute_result"
    }
   ],
   "source": [
    "df['positive'].value_counts()"
   ]
  },
  {
   "cell_type": "code",
   "execution_count": 12,
   "metadata": {
    "pycharm": {
     "name": "#%%\n"
    }
   },
   "outputs": [],
   "source": [
    "df['first'] = 'dummy'\n",
    "df['last'] = 'dummy'"
   ]
  },
  {
   "cell_type": "code",
   "execution_count": 13,
   "metadata": {
    "pycharm": {
     "name": "#%%\n"
    }
   },
   "outputs": [
    {
     "data": {
      "text/html": [
       "<div>\n",
       "<style scoped>\n",
       "    .dataframe tbody tr th:only-of-type {\n",
       "        vertical-align: middle;\n",
       "    }\n",
       "\n",
       "    .dataframe tbody tr th {\n",
       "        vertical-align: top;\n",
       "    }\n",
       "\n",
       "    .dataframe thead th {\n",
       "        text-align: right;\n",
       "    }\n",
       "</style>\n",
       "<table border=\"1\" class=\"dataframe\">\n",
       "  <thead>\n",
       "    <tr style=\"text-align: right;\">\n",
       "      <th></th>\n",
       "      <th>Review</th>\n",
       "      <th>mentor_id</th>\n",
       "      <th>mentee_id</th>\n",
       "      <th>compound_score</th>\n",
       "      <th>positive</th>\n",
       "      <th>first</th>\n",
       "      <th>last</th>\n",
       "    </tr>\n",
       "  </thead>\n",
       "  <tbody>\n",
       "    <tr>\n",
       "      <th>0</th>\n",
       "      <td>good and interesting</td>\n",
       "      <td>O7974805342017122</td>\n",
       "      <td>E62334911376169</td>\n",
       "      <td>0.6808</td>\n",
       "      <td>1</td>\n",
       "      <td>Allyson</td>\n",
       "      <td>Flores</td>\n",
       "    </tr>\n",
       "    <tr>\n",
       "      <th>1</th>\n",
       "      <td>This class is very helpful to me. Currently, I...</td>\n",
       "      <td>O59416778240949068</td>\n",
       "      <td>E27773356675966</td>\n",
       "      <td>0.4754</td>\n",
       "      <td>1</td>\n",
       "      <td>Kayson</td>\n",
       "      <td>Roberts</td>\n",
       "    </tr>\n",
       "    <tr>\n",
       "      <th>2</th>\n",
       "      <td>like!Prof and TAs are helpful and the discussi...</td>\n",
       "      <td>O49606449880069531</td>\n",
       "      <td>E30779409900267</td>\n",
       "      <td>0.8843</td>\n",
       "      <td>1</td>\n",
       "      <td>Samuel</td>\n",
       "      <td>Campbell</td>\n",
       "    </tr>\n",
       "    <tr>\n",
       "      <th>3</th>\n",
       "      <td>Easy to follow and includes a lot basic and im...</td>\n",
       "      <td>O7750754913692512</td>\n",
       "      <td>E31875519906553</td>\n",
       "      <td>0.5719</td>\n",
       "      <td>1</td>\n",
       "      <td>Damon</td>\n",
       "      <td>Stewart</td>\n",
       "    </tr>\n",
       "    <tr>\n",
       "      <th>4</th>\n",
       "      <td>Really nice teacher!I could got the point eazl...</td>\n",
       "      <td>O4603721631244430</td>\n",
       "      <td>E65598346207813</td>\n",
       "      <td>0.3266</td>\n",
       "      <td>1</td>\n",
       "      <td>Cecilia</td>\n",
       "      <td>Flores</td>\n",
       "    </tr>\n",
       "    <tr>\n",
       "      <th>...</th>\n",
       "      <td>...</td>\n",
       "      <td>...</td>\n",
       "      <td>...</td>\n",
       "      <td>...</td>\n",
       "      <td>...</td>\n",
       "      <td>...</td>\n",
       "      <td>...</td>\n",
       "    </tr>\n",
       "    <tr>\n",
       "      <th>596</th>\n",
       "      <td>Good content but the Chinese translation is ba...</td>\n",
       "      <td>O39672243842765488</td>\n",
       "      <td>E64097709554826</td>\n",
       "      <td>-0.5859</td>\n",
       "      <td>0</td>\n",
       "      <td>Angie</td>\n",
       "      <td>Watson</td>\n",
       "    </tr>\n",
       "    <tr>\n",
       "      <th>597</th>\n",
       "      <td>Not difficult to understand,interesting,helpfu...</td>\n",
       "      <td>O8497217320592901</td>\n",
       "      <td>E26802833025707</td>\n",
       "      <td>0.2755</td>\n",
       "      <td>1</td>\n",
       "      <td>Tessa</td>\n",
       "      <td>Moore</td>\n",
       "    </tr>\n",
       "    <tr>\n",
       "      <th>598</th>\n",
       "      <td>very useful course. And thank for professor's ...</td>\n",
       "      <td>O47509504387053970</td>\n",
       "      <td>E23533619460288</td>\n",
       "      <td>0.8070</td>\n",
       "      <td>1</td>\n",
       "      <td>Mae</td>\n",
       "      <td>Wright</td>\n",
       "    </tr>\n",
       "    <tr>\n",
       "      <th>599</th>\n",
       "      <td>An interesting course and thank you for transl...</td>\n",
       "      <td>O11350401248967897</td>\n",
       "      <td>E14185317102093</td>\n",
       "      <td>0.6369</td>\n",
       "      <td>1</td>\n",
       "      <td>Ellison</td>\n",
       "      <td>Bennet</td>\n",
       "    </tr>\n",
       "    <tr>\n",
       "      <th>600</th>\n",
       "      <td>The course is more about business competitive ...</td>\n",
       "      <td>O45918173012641812</td>\n",
       "      <td>E28589088109669</td>\n",
       "      <td>0.3084</td>\n",
       "      <td>1</td>\n",
       "      <td>Shelby</td>\n",
       "      <td>Carter</td>\n",
       "    </tr>\n",
       "  </tbody>\n",
       "</table>\n",
       "<p>601 rows × 7 columns</p>\n",
       "</div>"
      ],
      "text/plain": [
       "                                                Review           mentor_id  \\\n",
       "0                                 good and interesting   O7974805342017122   \n",
       "1    This class is very helpful to me. Currently, I...  O59416778240949068   \n",
       "2    like!Prof and TAs are helpful and the discussi...  O49606449880069531   \n",
       "3    Easy to follow and includes a lot basic and im...   O7750754913692512   \n",
       "4    Really nice teacher!I could got the point eazl...   O4603721631244430   \n",
       "..                                                 ...                 ...   \n",
       "596  Good content but the Chinese translation is ba...  O39672243842765488   \n",
       "597  Not difficult to understand,interesting,helpfu...   O8497217320592901   \n",
       "598  very useful course. And thank for professor's ...  O47509504387053970   \n",
       "599  An interesting course and thank you for transl...  O11350401248967897   \n",
       "600  The course is more about business competitive ...  O45918173012641812   \n",
       "\n",
       "           mentee_id  compound_score  positive    first      last  \n",
       "0    E62334911376169          0.6808         1  Allyson    Flores  \n",
       "1    E27773356675966          0.4754         1   Kayson   Roberts  \n",
       "2    E30779409900267          0.8843         1   Samuel  Campbell  \n",
       "3    E31875519906553          0.5719         1    Damon   Stewart  \n",
       "4    E65598346207813          0.3266         1  Cecilia    Flores  \n",
       "..               ...             ...       ...      ...       ...  \n",
       "596  E64097709554826         -0.5859         0    Angie    Watson  \n",
       "597  E26802833025707          0.2755         1    Tessa     Moore  \n",
       "598  E23533619460288          0.8070         1      Mae    Wright  \n",
       "599  E14185317102093          0.6369         1  Ellison    Bennet  \n",
       "600  E28589088109669          0.3084         1   Shelby    Carter  \n",
       "\n",
       "[601 rows x 7 columns]"
      ]
     },
     "execution_count": 13,
     "metadata": {},
     "output_type": "execute_result"
    }
   ],
   "source": [
    "# Ignore the SettingWithCopyWarning\n",
    "pd.options.mode.chained_assignment = None\n",
    "\n",
    "for i in range(df.shape[0]):\n",
    "    df['first'].iloc[i] = random_first_name()\n",
    "    df['last'].iloc[i] = choice(last_names)\n",
    "df"
   ]
  },
  {
   "cell_type": "code",
   "execution_count": 14,
   "metadata": {
    "pycharm": {
     "name": "#%%\n"
    }
   },
   "outputs": [],
   "source": [
    "df.rename(columns = {'first': 'first_name_mentor', 'last': 'last_name_mentor'}, inplace=True)"
   ]
  },
  {
   "cell_type": "code",
   "execution_count": 15,
   "metadata": {
    "pycharm": {
     "name": "#%%\n"
    }
   },
   "outputs": [
    {
     "data": {
      "text/html": [
       "<div>\n",
       "<style scoped>\n",
       "    .dataframe tbody tr th:only-of-type {\n",
       "        vertical-align: middle;\n",
       "    }\n",
       "\n",
       "    .dataframe tbody tr th {\n",
       "        vertical-align: top;\n",
       "    }\n",
       "\n",
       "    .dataframe thead th {\n",
       "        text-align: right;\n",
       "    }\n",
       "</style>\n",
       "<table border=\"1\" class=\"dataframe\">\n",
       "  <thead>\n",
       "    <tr style=\"text-align: right;\">\n",
       "      <th></th>\n",
       "      <th>Review</th>\n",
       "      <th>mentor_id</th>\n",
       "      <th>mentee_id</th>\n",
       "      <th>compound_score</th>\n",
       "      <th>positive</th>\n",
       "      <th>first_name_mentor</th>\n",
       "      <th>last_name_mentor</th>\n",
       "      <th>first_name_mentee</th>\n",
       "      <th>last_name_mentee</th>\n",
       "    </tr>\n",
       "  </thead>\n",
       "  <tbody>\n",
       "    <tr>\n",
       "      <th>0</th>\n",
       "      <td>good and interesting</td>\n",
       "      <td>O7974805342017122</td>\n",
       "      <td>E62334911376169</td>\n",
       "      <td>0.6808</td>\n",
       "      <td>1</td>\n",
       "      <td>Allyson</td>\n",
       "      <td>Flores</td>\n",
       "      <td>Remy</td>\n",
       "      <td>Walker</td>\n",
       "    </tr>\n",
       "    <tr>\n",
       "      <th>1</th>\n",
       "      <td>This class is very helpful to me. Currently, I...</td>\n",
       "      <td>O59416778240949068</td>\n",
       "      <td>E27773356675966</td>\n",
       "      <td>0.4754</td>\n",
       "      <td>1</td>\n",
       "      <td>Kayson</td>\n",
       "      <td>Roberts</td>\n",
       "      <td>Maliyah</td>\n",
       "      <td>Campbell</td>\n",
       "    </tr>\n",
       "    <tr>\n",
       "      <th>2</th>\n",
       "      <td>like!Prof and TAs are helpful and the discussi...</td>\n",
       "      <td>O49606449880069531</td>\n",
       "      <td>E30779409900267</td>\n",
       "      <td>0.8843</td>\n",
       "      <td>1</td>\n",
       "      <td>Samuel</td>\n",
       "      <td>Campbell</td>\n",
       "      <td>Mae</td>\n",
       "      <td>Brown</td>\n",
       "    </tr>\n",
       "    <tr>\n",
       "      <th>3</th>\n",
       "      <td>Easy to follow and includes a lot basic and im...</td>\n",
       "      <td>O7750754913692512</td>\n",
       "      <td>E31875519906553</td>\n",
       "      <td>0.5719</td>\n",
       "      <td>1</td>\n",
       "      <td>Damon</td>\n",
       "      <td>Stewart</td>\n",
       "      <td>Elliot</td>\n",
       "      <td>Watson</td>\n",
       "    </tr>\n",
       "    <tr>\n",
       "      <th>4</th>\n",
       "      <td>Really nice teacher!I could got the point eazl...</td>\n",
       "      <td>O4603721631244430</td>\n",
       "      <td>E65598346207813</td>\n",
       "      <td>0.3266</td>\n",
       "      <td>1</td>\n",
       "      <td>Cecilia</td>\n",
       "      <td>Flores</td>\n",
       "      <td>Asa</td>\n",
       "      <td>Ramirez</td>\n",
       "    </tr>\n",
       "    <tr>\n",
       "      <th>...</th>\n",
       "      <td>...</td>\n",
       "      <td>...</td>\n",
       "      <td>...</td>\n",
       "      <td>...</td>\n",
       "      <td>...</td>\n",
       "      <td>...</td>\n",
       "      <td>...</td>\n",
       "      <td>...</td>\n",
       "      <td>...</td>\n",
       "    </tr>\n",
       "    <tr>\n",
       "      <th>596</th>\n",
       "      <td>Good content but the Chinese translation is ba...</td>\n",
       "      <td>O39672243842765488</td>\n",
       "      <td>E64097709554826</td>\n",
       "      <td>-0.5859</td>\n",
       "      <td>0</td>\n",
       "      <td>Angie</td>\n",
       "      <td>Watson</td>\n",
       "      <td>Kira</td>\n",
       "      <td>Cox</td>\n",
       "    </tr>\n",
       "    <tr>\n",
       "      <th>597</th>\n",
       "      <td>Not difficult to understand,interesting,helpfu...</td>\n",
       "      <td>O8497217320592901</td>\n",
       "      <td>E26802833025707</td>\n",
       "      <td>0.2755</td>\n",
       "      <td>1</td>\n",
       "      <td>Tessa</td>\n",
       "      <td>Moore</td>\n",
       "      <td>Nylah</td>\n",
       "      <td>James</td>\n",
       "    </tr>\n",
       "    <tr>\n",
       "      <th>598</th>\n",
       "      <td>very useful course. And thank for professor's ...</td>\n",
       "      <td>O47509504387053970</td>\n",
       "      <td>E23533619460288</td>\n",
       "      <td>0.8070</td>\n",
       "      <td>1</td>\n",
       "      <td>Mae</td>\n",
       "      <td>Wright</td>\n",
       "      <td>Jon</td>\n",
       "      <td>Flores</td>\n",
       "    </tr>\n",
       "    <tr>\n",
       "      <th>599</th>\n",
       "      <td>An interesting course and thank you for transl...</td>\n",
       "      <td>O11350401248967897</td>\n",
       "      <td>E14185317102093</td>\n",
       "      <td>0.6369</td>\n",
       "      <td>1</td>\n",
       "      <td>Ellison</td>\n",
       "      <td>Bennet</td>\n",
       "      <td>Cecelia</td>\n",
       "      <td>Ramirez</td>\n",
       "    </tr>\n",
       "    <tr>\n",
       "      <th>600</th>\n",
       "      <td>The course is more about business competitive ...</td>\n",
       "      <td>O45918173012641812</td>\n",
       "      <td>E28589088109669</td>\n",
       "      <td>0.3084</td>\n",
       "      <td>1</td>\n",
       "      <td>Shelby</td>\n",
       "      <td>Carter</td>\n",
       "      <td>Maurice</td>\n",
       "      <td>Collins</td>\n",
       "    </tr>\n",
       "  </tbody>\n",
       "</table>\n",
       "<p>601 rows × 9 columns</p>\n",
       "</div>"
      ],
      "text/plain": [
       "                                                Review           mentor_id  \\\n",
       "0                                 good and interesting   O7974805342017122   \n",
       "1    This class is very helpful to me. Currently, I...  O59416778240949068   \n",
       "2    like!Prof and TAs are helpful and the discussi...  O49606449880069531   \n",
       "3    Easy to follow and includes a lot basic and im...   O7750754913692512   \n",
       "4    Really nice teacher!I could got the point eazl...   O4603721631244430   \n",
       "..                                                 ...                 ...   \n",
       "596  Good content but the Chinese translation is ba...  O39672243842765488   \n",
       "597  Not difficult to understand,interesting,helpfu...   O8497217320592901   \n",
       "598  very useful course. And thank for professor's ...  O47509504387053970   \n",
       "599  An interesting course and thank you for transl...  O11350401248967897   \n",
       "600  The course is more about business competitive ...  O45918173012641812   \n",
       "\n",
       "           mentee_id  compound_score  positive first_name_mentor  \\\n",
       "0    E62334911376169          0.6808         1           Allyson   \n",
       "1    E27773356675966          0.4754         1            Kayson   \n",
       "2    E30779409900267          0.8843         1            Samuel   \n",
       "3    E31875519906553          0.5719         1             Damon   \n",
       "4    E65598346207813          0.3266         1           Cecilia   \n",
       "..               ...             ...       ...               ...   \n",
       "596  E64097709554826         -0.5859         0             Angie   \n",
       "597  E26802833025707          0.2755         1             Tessa   \n",
       "598  E23533619460288          0.8070         1               Mae   \n",
       "599  E14185317102093          0.6369         1           Ellison   \n",
       "600  E28589088109669          0.3084         1            Shelby   \n",
       "\n",
       "    last_name_mentor first_name_mentee last_name_mentee  \n",
       "0             Flores              Remy           Walker  \n",
       "1            Roberts           Maliyah         Campbell  \n",
       "2           Campbell               Mae            Brown  \n",
       "3            Stewart            Elliot           Watson  \n",
       "4             Flores               Asa          Ramirez  \n",
       "..               ...               ...              ...  \n",
       "596           Watson              Kira              Cox  \n",
       "597            Moore             Nylah            James  \n",
       "598           Wright               Jon           Flores  \n",
       "599           Bennet           Cecelia          Ramirez  \n",
       "600           Carter           Maurice          Collins  \n",
       "\n",
       "[601 rows x 9 columns]"
      ]
     },
     "execution_count": 15,
     "metadata": {},
     "output_type": "execute_result"
    }
   ],
   "source": [
    "df['first_name_mentee'] = 'dummy'\n",
    "df['last_name_mentee'] = 'dummy'\n",
    "\n",
    "for i in range(df.shape[0]):\n",
    "    df['first_name_mentee'].iloc[i] = random_first_name()\n",
    "    df['last_name_mentee'].iloc[i] = choice(last_names)\n",
    "df"
   ]
  },
  {
   "cell_type": "code",
   "execution_count": 16,
   "metadata": {
    "pycharm": {
     "name": "#%%\n"
    }
   },
   "outputs": [],
   "source": [
    "# Saving final dataframe to csv\n",
    "df.to_csv('reviews_with_sentiment.csv', encoding = 'utf-8',index = False)"
   ]
  }
 ],
 "metadata": {
  "colab": {
   "name": "Generating Mock Review Data.ipynb",
   "provenance": []
  },
  "kernelspec": {
   "display_name": "underdog",
   "language": "python",
   "name": "underdog"
  },
  "language_info": {
   "codemirror_mode": {
    "name": "ipython",
    "version": 3
   },
   "file_extension": ".py",
   "mimetype": "text/x-python",
   "name": "python",
   "nbconvert_exporter": "python",
   "pygments_lexer": "ipython3",
   "version": "3.8.8"
  }
 },
 "nbformat": 4,
 "nbformat_minor": 1
}