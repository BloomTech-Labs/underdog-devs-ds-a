{
  "cells": [
    {
      "cell_type": "markdown",
      "source": [
        "# Contributed by Stephen Spradling, Anna Koduru, & Logan Olbrich"
      ],
      "metadata": {
        "id": "TjAa6ZIGMEwu"
      }
    },
    {
      "cell_type": "code",
      "execution_count": 1,
      "metadata": {
        "id": "FjlSsYhPM7xO",
        "colab": {
          "base_uri": "https://localhost:8080/"
        },
        "outputId": "4fa233da-dfd6-4567-f4fb-34df0a7f8012"
      },
      "outputs": [
        {
          "output_type": "stream",
          "name": "stdout",
          "text": [
            "CPU times: user 130 ms, sys: 39 ms, total: 169 ms\n",
            "Wall time: 15.7 s\n"
          ]
        }
      ],
      "source": [
        "%%time\n",
        "%%capture\n",
        "!pip install vaderSentiment\n",
        "!pip install altair vega_datasets"
      ]
    },
    {
      "cell_type": "code",
      "execution_count": 2,
      "metadata": {
        "id": "vknujI-Gu7yL"
      },
      "outputs": [],
      "source": [
        "import pandas as pd\n",
        "import numpy as np\n",
        "import altair as alt\n",
        "import requests\n",
        "from vaderSentiment.vaderSentiment import SentimentIntensityAnalyzer\n",
        "import json"
      ]
    },
    {
      "cell_type": "code",
      "source": [
        "base_url = \"http://underdog-devs-ds-a-dev.us-east-1.elasticbeanstalk.com\""
      ],
      "metadata": {
        "id": "JKLJdBZ9tPmI"
      },
      "execution_count": 3,
      "outputs": []
    },
    {
      "cell_type": "code",
      "source": [
        "feedback_df = pd.DataFrame(requests.post(f\"{base_url}/Feedback/read\").json()[\"result\"])[['ticket_id', 'mentor_id','mentee_id', 'feedback']]\n",
        "mentee_df = pd.DataFrame(requests.post(f\"{base_url}/Mentees/read\").json()[\"result\"])[['profile_id', 'first_name', 'last_name']]\n",
        "mentor_df = pd.DataFrame(requests.post(f\"{base_url}/Mentors/read\").json()[\"result\"])[['profile_id', 'first_name', 'last_name']]"
      ],
      "metadata": {
        "id": "L79N990FtcGm"
      },
      "execution_count": 4,
      "outputs": []
    },
    {
      "cell_type": "code",
      "source": [
        "mentee_df.rename(columns={'profile_id': 'mentee_id', 'first_name': 'mentee_first_name', 'last_name': 'mentee_last_name'}, inplace=True)\n",
        "mentor_df.rename(columns={'profile_id': 'mentor_id', 'first_name': 'mentor_first_name', 'last_name': 'mentor_last_name'}, inplace=True)\n"
      ],
      "metadata": {
        "id": "CZaDtqSItPaI"
      },
      "execution_count": 12,
      "outputs": []
    },
    {
      "cell_type": "code",
      "source": [
        "mentor_df['mentor_full_name'] = mentor_df.mentor_first_name.str.cat(mentor_df.mentor_last_name, sep=\" \")\n",
        "mentee_df['mentee_full_name'] = mentee_df.mentee_first_name.str.cat(mentee_df.mentee_last_name, sep=\" \")"
      ],
      "metadata": {
        "id": "3pMWFDx7z2yt"
      },
      "execution_count": 13,
      "outputs": []
    },
    {
      "cell_type": "code",
      "source": [
        "df_1 = pd.merge(feedback_df, mentee_df, on='mentee_id', how='left')\n",
        "mentor_feedback_df = pd.merge(df_1, mentor_df, on='mentor_id', how='left')"
      ],
      "metadata": {
        "id": "6PQ-e8LftlK7"
      },
      "execution_count": 14,
      "outputs": []
    },
    {
      "cell_type": "code",
      "execution_count": 15,
      "metadata": {
        "id": "1Ekcoram90Y9"
      },
      "outputs": [],
      "source": [
        "mentor_feedback_df['datetime'] = np.random.choice(pd.date_range('2020-01-01', '2021-01-01'), len(mentor_feedback_df))"
      ]
    },
    {
      "cell_type": "code",
      "execution_count": 16,
      "metadata": {
        "id": "aPYNiAXy90Y9"
      },
      "outputs": [],
      "source": [
        "analyzer = SentimentIntensityAnalyzer()"
      ]
    },
    {
      "cell_type": "code",
      "execution_count": 17,
      "metadata": {
        "id": "70Yl5LYZ90Y-"
      },
      "outputs": [],
      "source": [
        "def feedback_outcome(text: str):\n",
        "    '''\n",
        "    Return an intuitive string\n",
        "    (Positive, Negative, Neutral)\n",
        "    base on the compound score of text from\n",
        "    vader analysis.\n",
        "    '''\n",
        "    \n",
        "    score = analyzer.polarity_scores(text)['compound']\n",
        "    if score > 0.3:\n",
        "        return 'Positive'\n",
        "    elif score < -0.3:\n",
        "        return 'Negative'\n",
        "    else:\n",
        "        return 'Neutral'"
      ]
    },
    {
      "cell_type": "code",
      "execution_count": 18,
      "metadata": {
        "id": "dzYVrlEp90Y-"
      },
      "outputs": [],
      "source": [
        "mentor_feedback_df['feedback_outcome'] = mentor_feedback_df['feedback'].apply(feedback_outcome)"
      ]
    },
    {
      "cell_type": "code",
      "execution_count": 19,
      "metadata": {
        "id": "HZL8sgGr90Y-"
      },
      "outputs": [],
      "source": [
        "mentor_feedback_df['vader_score'] = mentor_feedback_df['feedback'].apply(lambda x:analyzer.polarity_scores(x)['compound'])"
      ]
    },
    {
      "cell_type": "code",
      "execution_count": 20,
      "metadata": {
        "id": "zOsZacux_HDW",
        "colab": {
          "base_uri": "https://localhost:8080/",
          "height": 496
        },
        "outputId": "53f0f7e8-b33d-4ace-a520-a475d43ffa72"
      },
      "outputs": [
        {
          "output_type": "execute_result",
          "data": {
            "text/plain": [
              "          ticket_id         mentor_id         mentee_id  \\\n",
              "0  RGY31mG14606sC3B  UY340CfO5dJ2S210  8v417YeUI850jS3Z   \n",
              "1  1R4587z1caGB1B7u  630lhQ431nA0Nz3s  yIBKz628y1Ol4538   \n",
              "2  21x781Q7Ayo4mgE8  8lC6bv1xtG1046M6  4A763H2DOZxo68Z3   \n",
              "3  20gp7c24Fx6h4D6g  J4o388P4plF5RY70  q742317EX47IcugF   \n",
              "4  46P6Sw8gLI5Q2N14  6602Q4ljE112heWg  b77WF13NE25b3h8F   \n",
              "\n",
              "                                            feedback mentee_first_name  \\\n",
              "0  I have many hours of undergraduate accounting ...             Brady   \n",
              "1  Great introduction to Accounting Analytics. Un...                Bo   \n",
              "2                      Very useful and comprehensive           Matthew   \n",
              "3  This is a really good survey class in the pote...             Caden   \n",
              "4  Nice course, a difficult one but very challeng...             Sarai   \n",
              "\n",
              "  mentee_last_name mentee_full_name mentor_first_name mentor_last_name  \\\n",
              "0           Parker     Brady Parker             Jerry             Reed   \n",
              "1             Reed          Bo Reed             Layne           Morris   \n",
              "2           Miller   Matthew Miller           Sabrina       Richardson   \n",
              "3           Miller     Caden Miller         Salvatore           Brooks   \n",
              "4            Price      Sarai Price            Johnny         Campbell   \n",
              "\n",
              "     mentor_full_name   datetime feedback_outcome  vader_score  \n",
              "0          Jerry Reed 2020-02-01         Positive       0.7351  \n",
              "1        Layne Morris 2020-09-27         Positive       0.3400  \n",
              "2  Sabrina Richardson 2020-06-02         Positive       0.6659  \n",
              "3    Salvatore Brooks 2020-11-09         Positive       0.8250  \n",
              "4     Johnny Campbell 2020-02-29         Positive       0.9466  "
            ],
            "text/html": [
              "\n",
              "  <div id=\"df-40f54cd2-6595-4892-91ec-5a7b2eb00f79\">\n",
              "    <div class=\"colab-df-container\">\n",
              "      <div>\n",
              "<style scoped>\n",
              "    .dataframe tbody tr th:only-of-type {\n",
              "        vertical-align: middle;\n",
              "    }\n",
              "\n",
              "    .dataframe tbody tr th {\n",
              "        vertical-align: top;\n",
              "    }\n",
              "\n",
              "    .dataframe thead th {\n",
              "        text-align: right;\n",
              "    }\n",
              "</style>\n",
              "<table border=\"1\" class=\"dataframe\">\n",
              "  <thead>\n",
              "    <tr style=\"text-align: right;\">\n",
              "      <th></th>\n",
              "      <th>ticket_id</th>\n",
              "      <th>mentor_id</th>\n",
              "      <th>mentee_id</th>\n",
              "      <th>feedback</th>\n",
              "      <th>mentee_first_name</th>\n",
              "      <th>mentee_last_name</th>\n",
              "      <th>mentee_full_name</th>\n",
              "      <th>mentor_first_name</th>\n",
              "      <th>mentor_last_name</th>\n",
              "      <th>mentor_full_name</th>\n",
              "      <th>datetime</th>\n",
              "      <th>feedback_outcome</th>\n",
              "      <th>vader_score</th>\n",
              "    </tr>\n",
              "  </thead>\n",
              "  <tbody>\n",
              "    <tr>\n",
              "      <th>0</th>\n",
              "      <td>RGY31mG14606sC3B</td>\n",
              "      <td>UY340CfO5dJ2S210</td>\n",
              "      <td>8v417YeUI850jS3Z</td>\n",
              "      <td>I have many hours of undergraduate accounting ...</td>\n",
              "      <td>Brady</td>\n",
              "      <td>Parker</td>\n",
              "      <td>Brady Parker</td>\n",
              "      <td>Jerry</td>\n",
              "      <td>Reed</td>\n",
              "      <td>Jerry Reed</td>\n",
              "      <td>2020-02-01</td>\n",
              "      <td>Positive</td>\n",
              "      <td>0.7351</td>\n",
              "    </tr>\n",
              "    <tr>\n",
              "      <th>1</th>\n",
              "      <td>1R4587z1caGB1B7u</td>\n",
              "      <td>630lhQ431nA0Nz3s</td>\n",
              "      <td>yIBKz628y1Ol4538</td>\n",
              "      <td>Great introduction to Accounting Analytics. Un...</td>\n",
              "      <td>Bo</td>\n",
              "      <td>Reed</td>\n",
              "      <td>Bo Reed</td>\n",
              "      <td>Layne</td>\n",
              "      <td>Morris</td>\n",
              "      <td>Layne Morris</td>\n",
              "      <td>2020-09-27</td>\n",
              "      <td>Positive</td>\n",
              "      <td>0.3400</td>\n",
              "    </tr>\n",
              "    <tr>\n",
              "      <th>2</th>\n",
              "      <td>21x781Q7Ayo4mgE8</td>\n",
              "      <td>8lC6bv1xtG1046M6</td>\n",
              "      <td>4A763H2DOZxo68Z3</td>\n",
              "      <td>Very useful and comprehensive</td>\n",
              "      <td>Matthew</td>\n",
              "      <td>Miller</td>\n",
              "      <td>Matthew Miller</td>\n",
              "      <td>Sabrina</td>\n",
              "      <td>Richardson</td>\n",
              "      <td>Sabrina Richardson</td>\n",
              "      <td>2020-06-02</td>\n",
              "      <td>Positive</td>\n",
              "      <td>0.6659</td>\n",
              "    </tr>\n",
              "    <tr>\n",
              "      <th>3</th>\n",
              "      <td>20gp7c24Fx6h4D6g</td>\n",
              "      <td>J4o388P4plF5RY70</td>\n",
              "      <td>q742317EX47IcugF</td>\n",
              "      <td>This is a really good survey class in the pote...</td>\n",
              "      <td>Caden</td>\n",
              "      <td>Miller</td>\n",
              "      <td>Caden Miller</td>\n",
              "      <td>Salvatore</td>\n",
              "      <td>Brooks</td>\n",
              "      <td>Salvatore Brooks</td>\n",
              "      <td>2020-11-09</td>\n",
              "      <td>Positive</td>\n",
              "      <td>0.8250</td>\n",
              "    </tr>\n",
              "    <tr>\n",
              "      <th>4</th>\n",
              "      <td>46P6Sw8gLI5Q2N14</td>\n",
              "      <td>6602Q4ljE112heWg</td>\n",
              "      <td>b77WF13NE25b3h8F</td>\n",
              "      <td>Nice course, a difficult one but very challeng...</td>\n",
              "      <td>Sarai</td>\n",
              "      <td>Price</td>\n",
              "      <td>Sarai Price</td>\n",
              "      <td>Johnny</td>\n",
              "      <td>Campbell</td>\n",
              "      <td>Johnny Campbell</td>\n",
              "      <td>2020-02-29</td>\n",
              "      <td>Positive</td>\n",
              "      <td>0.9466</td>\n",
              "    </tr>\n",
              "  </tbody>\n",
              "</table>\n",
              "</div>\n",
              "      <button class=\"colab-df-convert\" onclick=\"convertToInteractive('df-40f54cd2-6595-4892-91ec-5a7b2eb00f79')\"\n",
              "              title=\"Convert this dataframe to an interactive table.\"\n",
              "              style=\"display:none;\">\n",
              "        \n",
              "  <svg xmlns=\"http://www.w3.org/2000/svg\" height=\"24px\"viewBox=\"0 0 24 24\"\n",
              "       width=\"24px\">\n",
              "    <path d=\"M0 0h24v24H0V0z\" fill=\"none\"/>\n",
              "    <path d=\"M18.56 5.44l.94 2.06.94-2.06 2.06-.94-2.06-.94-.94-2.06-.94 2.06-2.06.94zm-11 1L8.5 8.5l.94-2.06 2.06-.94-2.06-.94L8.5 2.5l-.94 2.06-2.06.94zm10 10l.94 2.06.94-2.06 2.06-.94-2.06-.94-.94-2.06-.94 2.06-2.06.94z\"/><path d=\"M17.41 7.96l-1.37-1.37c-.4-.4-.92-.59-1.43-.59-.52 0-1.04.2-1.43.59L10.3 9.45l-7.72 7.72c-.78.78-.78 2.05 0 2.83L4 21.41c.39.39.9.59 1.41.59.51 0 1.02-.2 1.41-.59l7.78-7.78 2.81-2.81c.8-.78.8-2.07 0-2.86zM5.41 20L4 18.59l7.72-7.72 1.47 1.35L5.41 20z\"/>\n",
              "  </svg>\n",
              "      </button>\n",
              "      \n",
              "  <style>\n",
              "    .colab-df-container {\n",
              "      display:flex;\n",
              "      flex-wrap:wrap;\n",
              "      gap: 12px;\n",
              "    }\n",
              "\n",
              "    .colab-df-convert {\n",
              "      background-color: #E8F0FE;\n",
              "      border: none;\n",
              "      border-radius: 50%;\n",
              "      cursor: pointer;\n",
              "      display: none;\n",
              "      fill: #1967D2;\n",
              "      height: 32px;\n",
              "      padding: 0 0 0 0;\n",
              "      width: 32px;\n",
              "    }\n",
              "\n",
              "    .colab-df-convert:hover {\n",
              "      background-color: #E2EBFA;\n",
              "      box-shadow: 0px 1px 2px rgba(60, 64, 67, 0.3), 0px 1px 3px 1px rgba(60, 64, 67, 0.15);\n",
              "      fill: #174EA6;\n",
              "    }\n",
              "\n",
              "    [theme=dark] .colab-df-convert {\n",
              "      background-color: #3B4455;\n",
              "      fill: #D2E3FC;\n",
              "    }\n",
              "\n",
              "    [theme=dark] .colab-df-convert:hover {\n",
              "      background-color: #434B5C;\n",
              "      box-shadow: 0px 1px 3px 1px rgba(0, 0, 0, 0.15);\n",
              "      filter: drop-shadow(0px 1px 2px rgba(0, 0, 0, 0.3));\n",
              "      fill: #FFFFFF;\n",
              "    }\n",
              "  </style>\n",
              "\n",
              "      <script>\n",
              "        const buttonEl =\n",
              "          document.querySelector('#df-40f54cd2-6595-4892-91ec-5a7b2eb00f79 button.colab-df-convert');\n",
              "        buttonEl.style.display =\n",
              "          google.colab.kernel.accessAllowed ? 'block' : 'none';\n",
              "\n",
              "        async function convertToInteractive(key) {\n",
              "          const element = document.querySelector('#df-40f54cd2-6595-4892-91ec-5a7b2eb00f79');\n",
              "          const dataTable =\n",
              "            await google.colab.kernel.invokeFunction('convertToInteractive',\n",
              "                                                     [key], {});\n",
              "          if (!dataTable) return;\n",
              "\n",
              "          const docLinkHtml = 'Like what you see? Visit the ' +\n",
              "            '<a target=\"_blank\" href=https://colab.research.google.com/notebooks/data_table.ipynb>data table notebook</a>'\n",
              "            + ' to learn more about interactive tables.';\n",
              "          element.innerHTML = '';\n",
              "          dataTable['output_type'] = 'display_data';\n",
              "          await google.colab.output.renderOutput(dataTable, element);\n",
              "          const docLink = document.createElement('div');\n",
              "          docLink.innerHTML = docLinkHtml;\n",
              "          element.appendChild(docLink);\n",
              "        }\n",
              "      </script>\n",
              "    </div>\n",
              "  </div>\n",
              "  "
            ]
          },
          "metadata": {},
          "execution_count": 20
        }
      ],
      "source": [
        "mentor_feedback_df.head()"
      ]
    },
    {
      "cell_type": "code",
      "execution_count": 21,
      "metadata": {
        "id": "eS_7uwwhjvtm"
      },
      "outputs": [],
      "source": [
        "source = mentor_feedback_df"
      ]
    },
    {
      "cell_type": "code",
      "execution_count": 22,
      "metadata": {
        "id": "jM3NCwj090Y_",
        "colab": {
          "base_uri": "https://localhost:8080/",
          "height": 385
        },
        "outputId": "9d7e59de-4ac3-4677-d42f-7ba3fb7a5e9e"
      },
      "outputs": [
        {
          "output_type": "execute_result",
          "data": {
            "text/html": [
              "\n",
              "<div id=\"altair-viz-aeb20a5764f9465da5d32820b3bcb07b\"></div>\n",
              "<script type=\"text/javascript\">\n",
              "  var VEGA_DEBUG = (typeof VEGA_DEBUG == \"undefined\") ? {} : VEGA_DEBUG;\n",
              "  (function(spec, embedOpt){\n",
              "    let outputDiv = document.currentScript.previousElementSibling;\n",
              "    if (outputDiv.id !== \"altair-viz-aeb20a5764f9465da5d32820b3bcb07b\") {\n",
              "      outputDiv = document.getElementById(\"altair-viz-aeb20a5764f9465da5d32820b3bcb07b\");\n",
              "    }\n",
              "    const paths = {\n",
              "      \"vega\": \"https://cdn.jsdelivr.net/npm//vega@5?noext\",\n",
              "      \"vega-lib\": \"https://cdn.jsdelivr.net/npm//vega-lib?noext\",\n",
              "      \"vega-lite\": \"https://cdn.jsdelivr.net/npm//vega-lite@4.17.0?noext\",\n",
              "      \"vega-embed\": \"https://cdn.jsdelivr.net/npm//vega-embed@6?noext\",\n",
              "    };\n",
              "\n",
              "    function maybeLoadScript(lib, version) {\n",
              "      var key = `${lib.replace(\"-\", \"\")}_version`;\n",
              "      return (VEGA_DEBUG[key] == version) ?\n",
              "        Promise.resolve(paths[lib]) :\n",
              "        new Promise(function(resolve, reject) {\n",
              "          var s = document.createElement('script');\n",
              "          document.getElementsByTagName(\"head\")[0].appendChild(s);\n",
              "          s.async = true;\n",
              "          s.onload = () => {\n",
              "            VEGA_DEBUG[key] = version;\n",
              "            return resolve(paths[lib]);\n",
              "          };\n",
              "          s.onerror = () => reject(`Error loading script: ${paths[lib]}`);\n",
              "          s.src = paths[lib];\n",
              "        });\n",
              "    }\n",
              "\n",
              "    function showError(err) {\n",
              "      outputDiv.innerHTML = `<div class=\"error\" style=\"color:red;\">${err}</div>`;\n",
              "      throw err;\n",
              "    }\n",
              "\n",
              "    function displayChart(vegaEmbed) {\n",
              "      vegaEmbed(outputDiv, spec, embedOpt)\n",
              "        .catch(err => showError(`Javascript Error: ${err.message}<br>This usually means there's a typo in your chart specification. See the javascript console for the full traceback.`));\n",
              "    }\n",
              "\n",
              "    if(typeof define === \"function\" && define.amd) {\n",
              "      requirejs.config({paths});\n",
              "      require([\"vega-embed\"], displayChart, err => showError(`Error loading script: ${err.message}`));\n",
              "    } else {\n",
              "      maybeLoadScript(\"vega\", \"5\")\n",
              "        .then(() => maybeLoadScript(\"vega-lite\", \"4.17.0\"))\n",
              "        .then(() => maybeLoadScript(\"vega-embed\", \"6\"))\n",
              "        .catch(showError)\n",
              "        .then(() => displayChart(vegaEmbed));\n",
              "    }\n",
              "  })({\"config\": {\"view\": {\"continuousWidth\": 400, \"continuousHeight\": 300}, \"background\": \"#D9E9F0\"}, \"layer\": [{\"mark\": \"bar\", \"encoding\": {\"color\": {\"condition\": {\"value\": \"blue\", \"test\": \"(datum.vader_score > 0)\"}, \"value\": \"orange\"}, \"x\": {\"field\": \"datetime\", \"type\": \"temporal\"}, \"y\": {\"field\": \"vader_score\", \"type\": \"quantitative\"}}, \"selection\": {\"selector001\": {\"type\": \"interval\", \"bind\": \"scales\", \"encodings\": [\"x\", \"y\"]}}, \"title\": \"Global Feedback & Average of Feedback Positivity\"}, {\"mark\": {\"type\": \"line\", \"color\": \"red\"}, \"encoding\": {\"x\": {\"field\": \"datetime\", \"type\": \"temporal\"}, \"y\": {\"field\": \"rolling_mean\", \"type\": \"quantitative\"}}, \"transform\": [{\"window\": [{\"op\": \"mean\", \"field\": \"vader_score\", \"as\": \"rolling_mean\"}]}]}], \"data\": {\"name\": \"data-c72bae3c57eb5b757673293a4bc6bd5b\"}, \"width\": 900, \"$schema\": \"https://vega.github.io/schema/vega-lite/v4.17.0.json\", \"datasets\": {\"data-c72bae3c57eb5b757673293a4bc6bd5b\": [{\"ticket_id\": \"RGY31mG14606sC3B\", \"mentor_id\": \"UY340CfO5dJ2S210\", \"mentee_id\": \"8v417YeUI850jS3Z\", \"feedback\": \"I have many hours of undergraduate accounting and finance course work under my belt and this class gives you a tremendous overview of financial statement analysis. The only disadvantage is that the professor creates the workbooks for you and you only have to answer conceptual questions. While this would be great for some, I was hoping for some more hands on work to practice.\", \"mentee_first_name\": \"Brady\", \"mentee_last_name\": \"Parker\", \"mentee_full_name\": \"Brady Parker\", \"mentor_first_name\": \"Jerry\", \"mentor_last_name\": \"Reed\", \"mentor_full_name\": \"Jerry Reed\", \"datetime\": \"2020-02-01T00:00:00\", \"feedback_outcome\": \"Positive\", \"vader_score\": 0.7351}, {\"ticket_id\": \"1R4587z1caGB1B7u\", \"mentor_id\": \"630lhQ431nA0Nz3s\", \"mentee_id\": \"yIBKz628y1Ol4538\", \"feedback\": \"Great introduction to Accounting Analytics. Unexpected lecturing dialogues. Could have more analytics or additional or optional problem sets to explore more deeply.\", \"mentee_first_name\": \"Bo\", \"mentee_last_name\": \"Reed\", \"mentee_full_name\": \"Bo Reed\", \"mentor_first_name\": \"Layne\", \"mentor_last_name\": \"Morris\", \"mentor_full_name\": \"Layne Morris\", \"datetime\": \"2020-09-27T00:00:00\", \"feedback_outcome\": \"Positive\", \"vader_score\": 0.34}, {\"ticket_id\": \"21x781Q7Ayo4mgE8\", \"mentor_id\": \"8lC6bv1xtG1046M6\", \"mentee_id\": \"4A763H2DOZxo68Z3\", \"feedback\": \"Very useful and comprehensive\", \"mentee_first_name\": \"Matthew\", \"mentee_last_name\": \"Miller\", \"mentee_full_name\": \"Matthew Miller\", \"mentor_first_name\": \"Sabrina\", \"mentor_last_name\": \"Richardson\", \"mentor_full_name\": \"Sabrina Richardson\", \"datetime\": \"2020-06-02T00:00:00\", \"feedback_outcome\": \"Positive\", \"vader_score\": 0.6659}, {\"ticket_id\": \"20gp7c24Fx6h4D6g\", \"mentor_id\": \"J4o388P4plF5RY70\", \"mentee_id\": \"q742317EX47IcugF\", \"feedback\": \"This is a really good survey class in the potential of 3d printing, with examples of how individuals can empower themselves and others without the obstacles of traditional tooling, with a relatively short learning curve and low investment. It also demonstrates the ways in which, now and increasingly in the future, we'll all be capable of designing the solutions to our own problems with increasing agility!The only thing that could make it better would be to have more design challenges!Thanks!\", \"mentee_first_name\": \"Caden\", \"mentee_last_name\": \"Miller\", \"mentee_full_name\": \"Caden Miller\", \"mentor_first_name\": \"Salvatore\", \"mentor_last_name\": \"Brooks\", \"mentor_full_name\": \"Salvatore Brooks\", \"datetime\": \"2020-11-09T00:00:00\", \"feedback_outcome\": \"Positive\", \"vader_score\": 0.825}, {\"ticket_id\": \"46P6Sw8gLI5Q2N14\", \"mentor_id\": \"6602Q4ljE112heWg\", \"mentee_id\": \"b77WF13NE25b3h8F\", \"feedback\": \"Nice course, a difficult one but very challengeable. Nice structure and easy to understand.I wanted to refresh my knowledge in anatomy and in such gained a whole lot more in return.Thanks to the Professors for their time and effort in making this MOOC.Very pleased.\", \"mentee_first_name\": \"Sarai\", \"mentee_last_name\": \"Price\", \"mentee_full_name\": \"Sarai Price\", \"mentor_first_name\": \"Johnny\", \"mentor_last_name\": \"Campbell\", \"mentor_full_name\": \"Johnny Campbell\", \"datetime\": \"2020-02-29T00:00:00\", \"feedback_outcome\": \"Positive\", \"vader_score\": 0.9466}, {\"ticket_id\": \"tka207qsi63j7X24\", \"mentor_id\": \"eA81PAI415m8Tw61\", \"mentee_id\": \"Wn68P028X06LpIz2\", \"feedback\": \"Very well done! Contents, delivery, clarity, everything was top notch. Thank you!\", \"mentee_first_name\": \"Ryan\", \"mentee_last_name\": \"Morales\", \"mentee_full_name\": \"Ryan Morales\", \"mentor_first_name\": \"Callan\", \"mentor_last_name\": \"Jackson\", \"mentor_full_name\": \"Callan Jackson\", \"datetime\": \"2020-09-08T00:00:00\", \"feedback_outcome\": \"Positive\", \"vader_score\": 0.8392}, {\"ticket_id\": \"ZrghZ0y5G3S34618\", \"mentor_id\": \"yC6d561OJiK355j5\", \"mentee_id\": \"L4o15LRyu4L8138J\", \"feedback\": \"Great course!\", \"mentee_first_name\": \"Caiden\", \"mentee_last_name\": \"Stewart\", \"mentee_full_name\": \"Caiden Stewart\", \"mentor_first_name\": \"Brooke\", \"mentor_last_name\": \"Garcia\", \"mentor_full_name\": \"Brooke Garcia\", \"datetime\": \"2020-08-28T00:00:00\", \"feedback_outcome\": \"Positive\", \"vader_score\": 0.6588}, {\"ticket_id\": \"O26z0D5yJ3h5RA40\", \"mentor_id\": \"qt64H1zC3z68h4L7\", \"mentee_id\": \"8izPp7iMC8v18014\", \"feedback\": \"As an introduction course its very helpful. It has just what you need to get started.\", \"mentee_first_name\": \"Naya\", \"mentee_last_name\": \"Rivera\", \"mentee_full_name\": \"Naya Rivera\", \"mentor_first_name\": \"Nadia\", \"mentor_last_name\": \"Reyes\", \"mentor_full_name\": \"Nadia Reyes\", \"datetime\": \"2020-09-09T00:00:00\", \"feedback_outcome\": \"Positive\", \"vader_score\": 0.4754}, {\"ticket_id\": \"c5t3d1pL8x55Vc24\", \"mentor_id\": \"630lhQ431nA0Nz3s\", \"mentee_id\": \"0vt3g7SG58W521WL\", \"feedback\": \"Excellent introduction to Ableton\", \"mentee_first_name\": \"Kylie\", \"mentee_last_name\": \"Miller\", \"mentee_full_name\": \"Kylie Miller\", \"mentor_first_name\": \"Layne\", \"mentor_last_name\": \"Morris\", \"mentor_full_name\": \"Layne Morris\", \"datetime\": \"2020-08-19T00:00:00\", \"feedback_outcome\": \"Positive\", \"vader_score\": 0.5719}, {\"ticket_id\": \"6C2o65vy07z3oKm4\", \"mentor_id\": \"470KQ6il1DzVH757\", \"mentee_id\": \"mfsG0s78v4025G8g\", \"feedback\": \"Hello!My name is Ahmed from Egypt, I am 3D Hubs Mayor. I think it's The first course in the internet which will give you the opportunity to know a lot of things about 3D Printing so stay tuned and register now if you interested in 3D printing.Cheers,\", \"mentee_first_name\": \"Edith\", \"mentee_last_name\": \"Ramirez\", \"mentee_full_name\": \"Edith Ramirez\", \"mentor_first_name\": \"River\", \"mentor_last_name\": \"Clark\", \"mentor_full_name\": \"River Clark\", \"datetime\": \"2020-03-03T00:00:00\", \"feedback_outcome\": \"Positive\", \"vader_score\": 0.6996}, {\"ticket_id\": \"30ICg1B1d6COF100\", \"mentor_id\": \"J4o388P4plF5RY70\", \"mentee_id\": \"41mm8q3722h1RFAr\", \"feedback\": \"I really appreicated the tools and techniques presented in the course. Very very valuable for Merger and Acqusition projects that I will be involved in (if ever)\", \"mentee_first_name\": \"Quinn\", \"mentee_last_name\": \"Bailey\", \"mentee_full_name\": \"Quinn Bailey\", \"mentor_first_name\": \"Salvatore\", \"mentor_last_name\": \"Brooks\", \"mentor_full_name\": \"Salvatore Brooks\", \"datetime\": \"2021-01-01T00:00:00\", \"feedback_outcome\": \"Positive\", \"vader_score\": 0.5678}, {\"ticket_id\": \"znT1hR0f3bs07063\", \"mentor_id\": \"8lC6bv1xtG1046M6\", \"mentee_id\": \"0t37ka6108elvkC5\", \"feedback\": \"Excellent but tough course ,you need to work and it is not simply called advanced Algorithms and Complexity.You will be forced to test your code properly ,even if you didn't do it properly in the previous specialisation course.\", \"mentee_first_name\": \"Aidan\", \"mentee_last_name\": \"Mendoza\", \"mentee_full_name\": \"Aidan Mendoza\", \"mentor_first_name\": \"Sabrina\", \"mentor_last_name\": \"Richardson\", \"mentor_full_name\": \"Sabrina Richardson\", \"datetime\": \"2020-10-31T00:00:00\", \"feedback_outcome\": \"Negative\", \"vader_score\": -0.6715}, {\"ticket_id\": \"60F60dl3iJ1tSb50\", \"mentor_id\": \"qt64H1zC3z68h4L7\", \"mentee_id\": \"FF1wo6Zr6Z4464H0\", \"feedback\": \"Good course . A must take for beginners !\", \"mentee_first_name\": \"Stella\", \"mentee_last_name\": \"Chavez\", \"mentee_full_name\": \"Stella Chavez\", \"mentor_first_name\": \"Nadia\", \"mentor_last_name\": \"Reyes\", \"mentor_full_name\": \"Nadia Reyes\", \"datetime\": \"2020-02-11T00:00:00\", \"feedback_outcome\": \"Positive\", \"vader_score\": 0.4926}, {\"ticket_id\": \"Juu2Z400z4573thE\", \"mentor_id\": \"470KQ6il1DzVH757\", \"mentee_id\": \"qEC26300fZ615erw\", \"feedback\": \"Great content but animations are annoying!\", \"mentee_first_name\": \"Cain\", \"mentee_last_name\": \"Allen\", \"mentee_full_name\": \"Cain Allen\", \"mentor_first_name\": \"River\", \"mentor_last_name\": \"Clark\", \"mentor_full_name\": \"River Clark\", \"datetime\": \"2020-01-30T00:00:00\", \"feedback_outcome\": \"Negative\", \"vader_score\": -0.3164}, {\"ticket_id\": \"ko1E2MYFf5480k27\", \"mentor_id\": \"3s811p68crqH8B5z\", \"mentee_id\": \"fo76Oi46or816i8N\", \"feedback\": \"Thank you so much!\", \"mentee_first_name\": \"Taylor\", \"mentee_last_name\": \"Ward\", \"mentee_full_name\": \"Taylor Ward\", \"mentor_first_name\": \"Wayne\", \"mentor_last_name\": \"Howard\", \"mentor_full_name\": \"Wayne Howard\", \"datetime\": \"2020-01-04T00:00:00\", \"feedback_outcome\": \"Positive\", \"vader_score\": 0.4199}, {\"ticket_id\": \"8B1v44L3667FufuY\", \"mentor_id\": \"yC6d561OJiK355j5\", \"mentee_id\": \"353A6snEGf3456ZU\", \"feedback\": \"iam soooo happy to joined to this course which help me to evaluate my skills and increase it\", \"mentee_first_name\": \"Anahi\", \"mentee_last_name\": \"Carter\", \"mentee_full_name\": \"Anahi Carter\", \"mentor_first_name\": \"Brooke\", \"mentor_last_name\": \"Garcia\", \"mentor_full_name\": \"Brooke Garcia\", \"datetime\": \"2020-06-16T00:00:00\", \"feedback_outcome\": \"Positive\", \"vader_score\": 0.8271}, {\"ticket_id\": \"51o4I50Qn1e31DQP\", \"mentor_id\": \"eA81PAI415m8Tw61\", \"mentee_id\": \"1j1AL4W5cto736d1\", \"feedback\": \"Awesome Course. It was quite challenging though\", \"mentee_first_name\": \"Claire\", \"mentee_last_name\": \"Cox\", \"mentee_full_name\": \"Claire Cox\", \"mentor_first_name\": \"Callan\", \"mentor_last_name\": \"Jackson\", \"mentor_full_name\": \"Callan Jackson\", \"datetime\": \"2020-12-11T00:00:00\", \"feedback_outcome\": \"Positive\", \"vader_score\": 0.7178}, {\"ticket_id\": \"yjt2g5DKs53H5275\", \"mentor_id\": \"J4o388P4plF5RY70\", \"mentee_id\": \"87Af0A6c3k262HpM\", \"feedback\": \"Good information!\", \"mentee_first_name\": \"Hellen\", \"mentee_last_name\": \"Heinz\", \"mentee_full_name\": \"Hellen Heinz\", \"mentor_first_name\": \"Salvatore\", \"mentor_last_name\": \"Brooks\", \"mentor_full_name\": \"Salvatore Brooks\", \"datetime\": \"2020-09-29T00:00:00\", \"feedback_outcome\": \"Positive\", \"vader_score\": 0.4926}, {\"ticket_id\": \"b7oR6hs087Rvq843\", \"mentor_id\": \"U0o85d0ytk780Ml2\", \"mentee_id\": \"ZY7Q4N02536cQgW4\", \"feedback\": \"This is the first English course I have taken.Though at first it was kind of difficulty because of language(especially the terms) and profession knowledge(it is a comprehensive course and I am still learning courses concerned at school)the course is really worth taking. I have learned a lot .and it stimulates my interest in accounting.\", \"mentee_first_name\": \"Alora\", \"mentee_last_name\": \"Castillo\", \"mentee_full_name\": \"Alora Castillo\", \"mentor_first_name\": \"Amias\", \"mentor_last_name\": \"Ward\", \"mentor_full_name\": \"Amias Ward\", \"datetime\": \"2020-08-27T00:00:00\", \"feedback_outcome\": \"Positive\", \"vader_score\": 0.6705}, {\"ticket_id\": \"S2pc8Y7A51x137xC\", \"mentor_id\": \"8lC6bv1xtG1046M6\", \"mentee_id\": \"4o5C28M8iQ43m6Ij\", \"feedback\": \"Fun and interesting course. I learned a lot, despite already being a Live user. Reviewing the assignments of other course-takers widened my horizons and helped me gain valuable insights.\", \"mentee_first_name\": \"Denise\", \"mentee_last_name\": \"Anderson\", \"mentee_full_name\": \"Denise Anderson\", \"mentor_first_name\": \"Sabrina\", \"mentor_last_name\": \"Richardson\", \"mentor_full_name\": \"Sabrina Richardson\", \"datetime\": \"2020-03-03T00:00:00\", \"feedback_outcome\": \"Positive\", \"vader_score\": 0.91}, {\"ticket_id\": \"7q68M2W54HWDh77f\", \"mentor_id\": \"J4o388P4plF5RY70\", \"mentee_id\": \"ms51lG223p6D87hp\", \"feedback\": \"V difficult, but rewarding!I did not get the grade I thought I would in this class...but I learned a lot more than I thought I could! Very in depth and thorough, I think I value the knowledge I received more than the sub-par grade I received. ;)\", \"mentee_first_name\": \"Dream\", \"mentee_last_name\": \"Torres\", \"mentee_full_name\": \"Dream Torres\", \"mentor_first_name\": \"Salvatore\", \"mentor_last_name\": \"Brooks\", \"mentor_full_name\": \"Salvatore Brooks\", \"datetime\": \"2020-07-31T00:00:00\", \"feedback_outcome\": \"Positive\", \"vader_score\": 0.6467}, {\"ticket_id\": \"F74056vI21T4kKmE\", \"mentor_id\": \"Kks6ET762z5N4Y53\", \"mentee_id\": \"aR5084wT662PN8nF\", \"feedback\": \"work motivational, very clear, well structured on a steady groove ... excellent!\", \"mentee_first_name\": \"Mckinley\", \"mentee_last_name\": \"Lee\", \"mentee_full_name\": \"Mckinley Lee\", \"mentor_first_name\": \"Charley\", \"mentor_last_name\": \"Watson\", \"mentor_full_name\": \"Charley Watson\", \"datetime\": \"2020-11-29T00:00:00\", \"feedback_outcome\": \"Positive\", \"vader_score\": 0.8505}, {\"ticket_id\": \"40tx0M65P3sj6b0g\", \"mentor_id\": \"86Wi7iP0OI646qQ4\", \"mentee_id\": \"2k8j3802WG1WtB1Y\", \"feedback\": \"Great review of what can be accomplished through 3D printing.\", \"mentee_first_name\": \"Canaan\", \"mentee_last_name\": \"Watson\", \"mentee_full_name\": \"Canaan Watson\", \"mentor_first_name\": \"Arabella\", \"mentor_last_name\": \"Hughes\", \"mentor_full_name\": \"Arabella Hughes\", \"datetime\": \"2020-03-01T00:00:00\", \"feedback_outcome\": \"Positive\", \"vader_score\": 0.7906}, {\"ticket_id\": \"3344poCe2B6S83na\", \"mentor_id\": \"UY340CfO5dJ2S210\", \"mentee_id\": \"yK1X13TlMF0c2571\", \"feedback\": \"Great course. I enjoyed learning the material.\", \"mentee_first_name\": \"Zander\", \"mentee_last_name\": \"Clark\", \"mentee_full_name\": \"Zander Clark\", \"mentor_first_name\": \"Jerry\", \"mentor_last_name\": \"Reed\", \"mentor_full_name\": \"Jerry Reed\", \"datetime\": \"2020-02-07T00:00:00\", \"feedback_outcome\": \"Positive\", \"vader_score\": 0.8126}, {\"ticket_id\": \"85g2P3ldex7d785c\", \"mentor_id\": \"yC6d561OJiK355j5\", \"mentee_id\": \"w11yyU6UE04Uk831\", \"feedback\": \"The instructor does an excellent job, but realistically there is no way to be proficient enough in a 3D software program after a week or two to earn a certificate. The certificate is worthless in my opinion. I liked the class but it seemed more like intro vs. a class of any proficiency required.\", \"mentee_first_name\": \"Nadia\", \"mentee_last_name\": \"Gray\", \"mentee_full_name\": \"Nadia Gray\", \"mentor_first_name\": \"Brooke\", \"mentor_last_name\": \"Garcia\", \"mentor_full_name\": \"Brooke Garcia\", \"datetime\": \"2020-03-09T00:00:00\", \"feedback_outcome\": \"Positive\", \"vader_score\": 0.4748}, {\"ticket_id\": \"L142X5HFJu8wJ638\", \"mentor_id\": \"72nzNC54886hd4hH\", \"mentee_id\": \"2k8j3802WG1WtB1Y\", \"feedback\": \"The topics are really interesting and advanced! However, there's a lot of talk in chinese, due to questions/answers from teacher and students, and the quizzes are a bit too easy. I learned a lot though.\", \"mentee_first_name\": \"Canaan\", \"mentee_last_name\": \"Watson\", \"mentee_full_name\": \"Canaan Watson\", \"mentor_first_name\": \"Natalie\", \"mentor_last_name\": \"Bailey\", \"mentor_full_name\": \"Natalie Bailey\", \"datetime\": \"2020-07-06T00:00:00\", \"feedback_outcome\": \"Positive\", \"vader_score\": 0.8151}, {\"ticket_id\": \"lv758F780QWJ1y3b\", \"mentor_id\": \"Kks6ET762z5N4Y53\", \"mentee_id\": \"T26wb738Nj14k1UJ\", \"feedback\": \"I am very glad to see courses like this one on Coursera. The course itself is well structured and contains a lot of useful information and that is exactly what I needed in one place.My only complaint is the price of the course - I think it is a bit expensive especially for this first part of the specialisation - it is an introductory two week course with a lot of advertising...\\u00a340..common..are you serious?? A lot of people will buy personal 3D printers or kits after the course, some of them will make a decision to buy a 3D printer for a company they work for (as myself), Fusion 360 subscriptions etc. These companies should sponsor such courses to make them more affordable - it is their interest.I made several courses on Coursera already (Mechanical and Electrical Engineering), they were 5 to 8 weeks and comprised a lot of quite hard work from mentors and students and were only \\u00a332 for certificate.I like the idea of this specialisation but I decided not to pay for the certificate because of its price. Although I am very happy to have access to the courses and I thank you for you effort!\", \"mentee_first_name\": \"Tessa\", \"mentee_last_name\": \"Morales\", \"mentee_full_name\": \"Tessa Morales\", \"mentor_first_name\": \"Charley\", \"mentor_last_name\": \"Watson\", \"mentor_full_name\": \"Charley Watson\", \"datetime\": \"2020-09-18T00:00:00\", \"feedback_outcome\": \"Positive\", \"vader_score\": 0.9421}, {\"ticket_id\": \"5cD4c8T24N61K6Yk\", \"mentor_id\": \"R4Ss15q506FH18zt\", \"mentee_id\": \"2k8j3802WG1WtB1Y\", \"feedback\": \"Thank you so much!\", \"mentee_first_name\": \"Canaan\", \"mentee_last_name\": \"Watson\", \"mentee_full_name\": \"Canaan Watson\", \"mentor_first_name\": \"Blakely\", \"mentor_last_name\": \"Sanders\", \"mentor_full_name\": \"Blakely Sanders\", \"datetime\": \"2020-12-24T00:00:00\", \"feedback_outcome\": \"Positive\", \"vader_score\": 0.4199}, {\"ticket_id\": \"BKN626QB3h268C5U\", \"mentor_id\": \"h8Y752S7P3A0T0na\", \"mentee_id\": \"Gp583FzBb5L41n15\", \"feedback\": \"Very insightful topic! A good overview of the use of analytics in accounting!\", \"mentee_first_name\": \"Hana\", \"mentee_last_name\": \"Cook\", \"mentee_full_name\": \"Hana Cook\", \"mentor_first_name\": \"Arielle\", \"mentor_last_name\": \"Kim\", \"mentor_full_name\": \"Arielle Kim\", \"datetime\": \"2020-11-23T00:00:00\", \"feedback_outcome\": \"Positive\", \"vader_score\": 0.5399}, {\"ticket_id\": \"11hYV7383dnN87Lm\", \"mentor_id\": \"R4Ss15q506FH18zt\", \"mentee_id\": \"S1G22L34k838Uzji\", \"feedback\": \"Great! As always great lectures by professor Bushee!\", \"mentee_first_name\": \"Ezekiel\", \"mentee_last_name\": \"Morris\", \"mentee_full_name\": \"Ezekiel Morris\", \"mentor_first_name\": \"Blakely\", \"mentor_last_name\": \"Sanders\", \"mentor_full_name\": \"Blakely Sanders\", \"datetime\": \"2020-03-06T00:00:00\", \"feedback_outcome\": \"Positive\", \"vader_score\": 0.8684}, {\"ticket_id\": \"oc88q60dzN8407SJ\", \"mentor_id\": \"8lC6bv1xtG1046M6\", \"mentee_id\": \"L57x1gj8065Dj7Wt\", \"feedback\": \"I wanted to give only 4 stars because of the all the \\u201cproblems\\u201d we encountered, but then we are learners investigating problem solving by design thinking. We can handle whatever comes, so the fifth star is for us. We are shaping this course by contributing to forums. Presumably we are ten thousand strong, let\\u2019s improve our worldwide voice by saying something on forms so we can get what we need and want we want also to stay on the cutting edge of reality.\", \"mentee_first_name\": \"Lawrence\", \"mentee_last_name\": \"Jones\", \"mentee_full_name\": \"Lawrence Jones\", \"mentor_first_name\": \"Sabrina\", \"mentor_last_name\": \"Richardson\", \"mentor_full_name\": \"Sabrina Richardson\", \"datetime\": \"2020-05-01T00:00:00\", \"feedback_outcome\": \"Positive\", \"vader_score\": 0.8402}, {\"ticket_id\": \"U80iJ757IvuA8Y60\", \"mentor_id\": \"yC6d561OJiK355j5\", \"mentee_id\": \"PaXo0715VWy1351r\", \"feedback\": \"Very good intro to 3d printed.\", \"mentee_first_name\": \"Jaden\", \"mentee_last_name\": \"Chavez\", \"mentee_full_name\": \"Jaden Chavez\", \"mentor_first_name\": \"Brooke\", \"mentor_last_name\": \"Garcia\", \"mentor_full_name\": \"Brooke Garcia\", \"datetime\": \"2020-06-09T00:00:00\", \"feedback_outcome\": \"Positive\", \"vader_score\": 0.4927}, {\"ticket_id\": \"lF1cPb68U850tD56\", \"mentor_id\": \"670wl1MU23z4fYh7\", \"mentee_id\": \"ms51lG223p6D87hp\", \"feedback\": \"The course makes accounting interesting and especially the examples are very illustrative. Virtual students bring some fun. The 4th week is however really integrated in the course structure.\", \"mentee_first_name\": \"Dream\", \"mentee_last_name\": \"Torres\", \"mentee_full_name\": \"Dream Torres\", \"mentor_first_name\": \"Robin\", \"mentor_last_name\": \"Jones\", \"mentor_full_name\": \"Robin Jones\", \"datetime\": \"2020-12-17T00:00:00\", \"feedback_outcome\": \"Positive\", \"vader_score\": 0.7184}, {\"ticket_id\": \"t168P43J13tEll4w\", \"mentor_id\": \"L2t7h5Q1O35w40rx\", \"mentee_id\": \"0g4I3l8RC0Mue531\", \"feedback\": \"If only it was a week longer.\", \"mentee_first_name\": \"Zariah\", \"mentee_last_name\": \"Hughes\", \"mentee_full_name\": \"Zariah Hughes\", \"mentor_first_name\": \"Denisse\", \"mentor_last_name\": \"Martinez\", \"mentor_full_name\": \"Denisse Martinez\", \"datetime\": \"2020-02-07T00:00:00\", \"feedback_outcome\": \"Neutral\", \"vader_score\": 0.0}, {\"ticket_id\": \"m5r014d3h57ravd0\", \"mentor_id\": \"630lhQ431nA0Nz3s\", \"mentee_id\": \"yG8z814u6Pw25Z8B\", \"feedback\": \"I've know many skills in competition with many true cases. Thanks!\", \"mentee_first_name\": \"Abraham\", \"mentee_last_name\": \"Hall\", \"mentee_full_name\": \"Abraham Hall\", \"mentor_first_name\": \"Layne\", \"mentor_last_name\": \"Morris\", \"mentor_full_name\": \"Layne Morris\", \"datetime\": \"2020-08-18T00:00:00\", \"feedback_outcome\": \"Positive\", \"vader_score\": 0.7177}, {\"ticket_id\": \"4R27M0tgVay57w84\", \"mentor_id\": \"h8Y752S7P3A0T0na\", \"mentee_id\": \"h0OSv063IdUM1860\", \"feedback\": \"Very useful for understanding the basics of 3D printing technology.\", \"mentee_first_name\": \"Adrian\", \"mentee_last_name\": \"Gutierrez\", \"mentee_full_name\": \"Adrian Gutierrez\", \"mentor_first_name\": \"Arielle\", \"mentor_last_name\": \"Kim\", \"mentor_full_name\": \"Arielle Kim\", \"datetime\": \"2020-04-08T00:00:00\", \"feedback_outcome\": \"Positive\", \"vader_score\": 0.4927}, {\"ticket_id\": \"Lx4C75n8dAO642s5\", \"mentor_id\": \"mg3W02iR15j3w85K\", \"mentee_id\": \"2Dkq2jr8525Q2fF7\", \"feedback\": \"Very helpful\", \"mentee_first_name\": \"Aliyah\", \"mentee_last_name\": \"Green\", \"mentee_full_name\": \"Aliyah Green\", \"mentor_first_name\": \"Pete\", \"mentor_last_name\": \"Peterson\", \"mentor_full_name\": \"Pete Peterson\", \"datetime\": \"2020-03-29T00:00:00\", \"feedback_outcome\": \"Positive\", \"vader_score\": 0.4754}, {\"ticket_id\": \"5573K40xN5GUlA8C\", \"mentor_id\": \"R4Ss15q506FH18zt\", \"mentee_id\": \"T26wb738Nj14k1UJ\", \"feedback\": \"Very informative an approachable course. I really like the way Aric presents the information. I am excited to complete the rest of the Specialization.\", \"mentee_first_name\": \"Tessa\", \"mentee_last_name\": \"Morales\", \"mentee_full_name\": \"Tessa Morales\", \"mentor_first_name\": \"Blakely\", \"mentor_last_name\": \"Sanders\", \"mentor_full_name\": \"Blakely Sanders\", \"datetime\": \"2020-06-25T00:00:00\", \"feedback_outcome\": \"Positive\", \"vader_score\": 0.6361}, {\"ticket_id\": \"o4u5y7q6Sw3iW764\", \"mentor_id\": \"qt64H1zC3z68h4L7\", \"mentee_id\": \"01k40nHCD3MW3c40\", \"feedback\": \"I would add more examples on how to populate the data, even spend time on optional videos where the professor or his assistant goes through testing ratios (something similar to Operations Analytics). I feel like the professor was rushing through his explanations and the models. Maybe people found the course very useful however I felt like there was too much text and immediate switch to Excel file that was elaborated shortly. Overall, I am not sure how to apply these ratios in my final project...\", \"mentee_first_name\": \"Adaline\", \"mentee_last_name\": \"Reyes\", \"mentee_full_name\": \"Adaline Reyes\", \"mentor_first_name\": \"Nadia\", \"mentor_last_name\": \"Reyes\", \"mentor_full_name\": \"Nadia Reyes\", \"datetime\": \"2020-03-20T00:00:00\", \"feedback_outcome\": \"Positive\", \"vader_score\": 0.8493}, {\"ticket_id\": \"5V15k63Qql28UUC3\", \"mentor_id\": \"470KQ6il1DzVH757\", \"mentee_id\": \"u2Q3Szc7511be56h\", \"feedback\": \"Don't recommend.You're better off skimming through the ableton manual and using the search function to get the answers you want.\", \"mentee_first_name\": \"Brett\", \"mentee_last_name\": \"Johnson\", \"mentee_full_name\": \"Brett Johnson\", \"mentor_first_name\": \"River\", \"mentor_last_name\": \"Clark\", \"mentor_full_name\": \"River Clark\", \"datetime\": \"2020-01-23T00:00:00\", \"feedback_outcome\": \"Neutral\", \"vader_score\": -0.2746}, {\"ticket_id\": \"4fk6bx2d01k833Nx\", \"mentor_id\": \"670wl1MU23z4fYh7\", \"mentee_id\": \"fo76Oi46or816i8N\", \"feedback\": \"it could be easily compressed in a two-weeks course.Sometimes interviews are too long for what they need to explain.\", \"mentee_first_name\": \"Taylor\", \"mentee_last_name\": \"Ward\", \"mentee_full_name\": \"Taylor Ward\", \"mentor_first_name\": \"Robin\", \"mentor_last_name\": \"Jones\", \"mentor_full_name\": \"Robin Jones\", \"datetime\": \"2020-04-25T00:00:00\", \"feedback_outcome\": \"Positive\", \"vader_score\": 0.34}, {\"ticket_id\": \"3ZzNw02Zvu61D771\", \"mentor_id\": \"qt64H1zC3z68h4L7\", \"mentee_id\": \"yk722ZDzO7N6365j\", \"feedback\": \"It is very nice for people are starting with abletobn program\", \"mentee_first_name\": \"Tyler\", \"mentee_last_name\": \"Clark\", \"mentee_full_name\": \"Tyler Clark\", \"mentor_first_name\": \"Nadia\", \"mentor_last_name\": \"Reyes\", \"mentor_full_name\": \"Nadia Reyes\", \"datetime\": \"2020-02-07T00:00:00\", \"feedback_outcome\": \"Positive\", \"vader_score\": 0.4754}, {\"ticket_id\": \"MD378K50C8N5L4aj\", \"mentor_id\": \"eA81PAI415m8Tw61\", \"mentee_id\": \"fo76Oi46or816i8N\", \"feedback\": \"Really useful for beginners!!\", \"mentee_first_name\": \"Taylor\", \"mentee_last_name\": \"Ward\", \"mentee_full_name\": \"Taylor Ward\", \"mentor_first_name\": \"Callan\", \"mentor_last_name\": \"Jackson\", \"mentor_full_name\": \"Callan Jackson\", \"datetime\": \"2020-08-01T00:00:00\", \"feedback_outcome\": \"Positive\", \"vader_score\": 0.5827}, {\"ticket_id\": \"0VJZj4d4E605Di87\", \"mentor_id\": \"86Wi7iP0OI646qQ4\", \"mentee_id\": \"aR5084wT662PN8nF\", \"feedback\": \"Good content but the Chinese translation is bad, which makes quiz quite obscure in meaning\", \"mentee_first_name\": \"Mckinley\", \"mentee_last_name\": \"Lee\", \"mentee_full_name\": \"Mckinley Lee\", \"mentor_first_name\": \"Arabella\", \"mentor_last_name\": \"Hughes\", \"mentor_full_name\": \"Arabella Hughes\", \"datetime\": \"2020-10-02T00:00:00\", \"feedback_outcome\": \"Negative\", \"vader_score\": -0.5859}, {\"ticket_id\": \"2fBl515Z75P31GDK\", \"mentor_id\": \"72nzNC54886hd4hH\", \"mentee_id\": \"27RG2N24cxW3z7O7\", \"feedback\": \"Great thanks for Dr.aric ,who has a smiley face ,If any one enrolled this course ,he would get a great knowledge and usefull information about 3d printing or addtive manufacturing ,throw a simple & exciting videos ,not only that ,you would get another benefits not only information about 3d priting ,like ,getting knowledge of many companies from the inside ,see stories of successfull people which achieves you to keep up with your work ,meet with your colleagues and make new friends ,and finally grow up your english skills ,like listening and grow up your vocabulary .....Great thaks for coursera team ,it's our pleasure to learn with you ........\", \"mentee_first_name\": \"Maverick\", \"mentee_last_name\": \"Clark\", \"mentee_full_name\": \"Maverick Clark\", \"mentor_first_name\": \"Natalie\", \"mentor_last_name\": \"Bailey\", \"mentor_full_name\": \"Natalie Bailey\", \"datetime\": \"2020-10-28T00:00:00\", \"feedback_outcome\": \"Positive\", \"vader_score\": 0.9877}, {\"ticket_id\": \"V3V741mxkpV5716Z\", \"mentor_id\": \"mg3W02iR15j3w85K\", \"mentee_id\": \"yK1X13TlMF0c2571\", \"feedback\": \"This is a great course for people who do not know Ableton. The exercises were easy to understand.\", \"mentee_first_name\": \"Zander\", \"mentee_last_name\": \"Clark\", \"mentee_full_name\": \"Zander Clark\", \"mentor_first_name\": \"Pete\", \"mentor_last_name\": \"Peterson\", \"mentor_full_name\": \"Pete Peterson\", \"datetime\": \"2020-03-10T00:00:00\", \"feedback_outcome\": \"Positive\", \"vader_score\": 0.7906}, {\"ticket_id\": \"7013E7h1b8MG5Apt\", \"mentor_id\": \"630lhQ431nA0Nz3s\", \"mentee_id\": \"b3F1LSxu6DT37783\", \"feedback\": \"Great thanks for Dr.aric ,who has a smiley face ,If any one enrolled this course ,he would get a great knowledge and usefull information about 3d printing or addtive manufacturing ,throw a simple & exciting videos ,not only that ,you would get another benefits not only information about 3d priting ,like ,getting knowledge of many companies from the inside ,see stories of successfull people which achieves you to keep up with your work ,meet with your colleagues and make new friends ,and finally grow up your english skills ,like listening and grow up your vocabulary .....Great thaks for coursera team ,it's our pleasure to learn with you ........\", \"mentee_first_name\": \"Conner\", \"mentee_last_name\": \"Sanchez\", \"mentee_full_name\": \"Conner Sanchez\", \"mentor_first_name\": \"Layne\", \"mentor_last_name\": \"Morris\", \"mentor_full_name\": \"Layne Morris\", \"datetime\": \"2020-10-05T00:00:00\", \"feedback_outcome\": \"Positive\", \"vader_score\": 0.9877}, {\"ticket_id\": \"762WtMG1Fe10t6i5\", \"mentor_id\": \"R4Ss15q506FH18zt\", \"mentee_id\": \"4Yh83MOA8H5V7G01\", \"feedback\": \"Excellent course, first 3 weeks were very technical but highly informative. Quite a bit of accounting knowledge is required to understand the work. Last week of lessons were more simple and intuitive to understand, but overall, a very insightful module\", \"mentee_first_name\": \"Anika\", \"mentee_last_name\": \"Jackson\", \"mentee_full_name\": \"Anika Jackson\", \"mentor_first_name\": \"Blakely\", \"mentor_last_name\": \"Sanders\", \"mentor_full_name\": \"Blakely Sanders\", \"datetime\": \"2020-05-29T00:00:00\", \"feedback_outcome\": \"Positive\", \"vader_score\": 0.3291}, {\"ticket_id\": \"P00l866BJa4B2UO6\", \"mentor_id\": \"h8Y752S7P3A0T0na\", \"mentee_id\": \"5B6C653Z77V4GxcW\", \"feedback\": \"It's not a course... this is a very short general introduction to 3D Printing\", \"mentee_first_name\": \"Keegan\", \"mentee_last_name\": \"Adams\", \"mentee_full_name\": \"Keegan Adams\", \"mentor_first_name\": \"Arielle\", \"mentor_last_name\": \"Kim\", \"mentor_full_name\": \"Arielle Kim\", \"datetime\": \"2020-10-22T00:00:00\", \"feedback_outcome\": \"Neutral\", \"vader_score\": 0.0}, {\"ticket_id\": \"v7D3I30GiZX31j31\", \"mentor_id\": \"L2t7h5Q1O35w40rx\", \"mentee_id\": \"4o5C28M8iQ43m6Ij\", \"feedback\": \"This is a very basic course on 3D Printing Technology but every aspect of the technology is artistically explained. All the various points of view are considered and a 360 degree idea is passed on to the students.By taking this course, students who are contemplating about their involvement in this revolutionary technology will be able to finally decide their future course of action, which I believe will be positive.In short, this course will provide you a base whereas the further courses, I think (as I haven't taken up the rest of the courses till now but I intend to) will add sufficient value to your knowledge.Regards.\", \"mentee_first_name\": \"Denise\", \"mentee_last_name\": \"Anderson\", \"mentee_full_name\": \"Denise Anderson\", \"mentor_first_name\": \"Denisse\", \"mentor_last_name\": \"Martinez\", \"mentor_full_name\": \"Denisse Martinez\", \"datetime\": \"2020-04-12T00:00:00\", \"feedback_outcome\": \"Positive\", \"vader_score\": 0.4767}]}}, {\"mode\": \"vega-lite\"});\n",
              "</script>"
            ],
            "text/plain": [
              "alt.LayerChart(...)"
            ]
          },
          "metadata": {},
          "execution_count": 22
        }
      ],
      "source": [
        "bar = alt.Chart(source, title=\"Global Feedback & Average of Feedback Positivity\"\n",
        "    ).mark_bar(\n",
        "    ).encode(\n",
        "    x='datetime:T',\n",
        "    y='vader_score:Q',\n",
        "    color=alt.condition(\n",
        "         alt.datum.vader_score > 0,\n",
        "         alt.value(\"blue\"),  # The positive color\n",
        "         alt.value(\"orange\")  # The negative color\n",
        "    )\n",
        "  )\n",
        "line = alt.Chart(source).mark_line(color='red').transform_window(\n",
        "    # The field to average\n",
        "    rolling_mean='mean(vader_score)',\n",
        "    # The number of values before and after the current value to include.\n",
        "    # [null, 0] is the default value for frame.\n",
        "    # frame=[-9, 0]\n",
        ").encode(\n",
        "    x='datetime',\n",
        "    y='rolling_mean:Q'\n",
        ")\n",
        "\n",
        "(bar + line).properties(\n",
        "    width=900).configure_title(fontSize=26).configure(background='#D9E9F0'\n",
        "    ).interactive()"
      ]
    },
    {
      "cell_type": "markdown",
      "source": [
        "# Using this graph for overall feedback"
      ],
      "metadata": {
        "id": "vIXR15MyvEoQ"
      }
    },
    {
      "cell_type": "code",
      "source": [
        "interval = alt.selection_interval(encodings=['x'])\n",
        "selection = alt.selection_multi(fields=['mentor_full_name'], bind='legend')\n",
        "\n",
        "bar = alt.Chart(source, title=\"Global Feedback & Average of Feedback Positivity\"\n",
        "                ).mark_bar().encode(\n",
        "    alt.X('datetime', title='Time'),\n",
        "    alt.Y('vader_score', title='Positivity of Feedback by Mentees'),\n",
        "    color=alt.condition(interval, alt.Color('mentor_full_name:N',\n",
        "                                            title=\"Mentor\",\n",
        "                                            legend=alt.Legend(orient=\"left\")),\n",
        "                        alt.value('lightgray'))\n",
        ").properties(\n",
        "    width=900,\n",
        "    selection=interval\n",
        ").add_selection(\n",
        "    selection\n",
        ")\n",
        "mean_line = alt.Chart(source).mark_line(color='red').transform_window(\n",
        "    # The field to average\n",
        "    mentor_progress='mean(vader_score)',\n",
        "    # The number of values before and after the current value to include.\n",
        "    frame=[-9, 0]\n",
        ").encode(\n",
        "    alt.X('datetime', title='Time'),\n",
        "    alt.Y(\"mean(vader_score)\", title=\"Progress of Mentors\")\n",
        ").properties(\n",
        "    width=900\n",
        ").transform_filter(\n",
        "     interval\n",
        ")\n",
        "\n",
        "(bar & mean_line).configure_title(fontSize=20\n",
        "                                             ).configure(background='#D9E9F0')"
      ],
      "metadata": {
        "id": "zNw0ovnoU2UB",
        "colab": {
          "base_uri": "https://localhost:8080/",
          "height": 741
        },
        "outputId": "9be3955b-27d1-43d7-9de3-f5683a6ac849"
      },
      "execution_count": 64,
      "outputs": [
        {
          "output_type": "execute_result",
          "data": {
            "text/html": [
              "\n",
              "<div id=\"altair-viz-781bb09263b14429a06ac3be1e4e1928\"></div>\n",
              "<script type=\"text/javascript\">\n",
              "  var VEGA_DEBUG = (typeof VEGA_DEBUG == \"undefined\") ? {} : VEGA_DEBUG;\n",
              "  (function(spec, embedOpt){\n",
              "    let outputDiv = document.currentScript.previousElementSibling;\n",
              "    if (outputDiv.id !== \"altair-viz-781bb09263b14429a06ac3be1e4e1928\") {\n",
              "      outputDiv = document.getElementById(\"altair-viz-781bb09263b14429a06ac3be1e4e1928\");\n",
              "    }\n",
              "    const paths = {\n",
              "      \"vega\": \"https://cdn.jsdelivr.net/npm//vega@5?noext\",\n",
              "      \"vega-lib\": \"https://cdn.jsdelivr.net/npm//vega-lib?noext\",\n",
              "      \"vega-lite\": \"https://cdn.jsdelivr.net/npm//vega-lite@4.17.0?noext\",\n",
              "      \"vega-embed\": \"https://cdn.jsdelivr.net/npm//vega-embed@6?noext\",\n",
              "    };\n",
              "\n",
              "    function maybeLoadScript(lib, version) {\n",
              "      var key = `${lib.replace(\"-\", \"\")}_version`;\n",
              "      return (VEGA_DEBUG[key] == version) ?\n",
              "        Promise.resolve(paths[lib]) :\n",
              "        new Promise(function(resolve, reject) {\n",
              "          var s = document.createElement('script');\n",
              "          document.getElementsByTagName(\"head\")[0].appendChild(s);\n",
              "          s.async = true;\n",
              "          s.onload = () => {\n",
              "            VEGA_DEBUG[key] = version;\n",
              "            return resolve(paths[lib]);\n",
              "          };\n",
              "          s.onerror = () => reject(`Error loading script: ${paths[lib]}`);\n",
              "          s.src = paths[lib];\n",
              "        });\n",
              "    }\n",
              "\n",
              "    function showError(err) {\n",
              "      outputDiv.innerHTML = `<div class=\"error\" style=\"color:red;\">${err}</div>`;\n",
              "      throw err;\n",
              "    }\n",
              "\n",
              "    function displayChart(vegaEmbed) {\n",
              "      vegaEmbed(outputDiv, spec, embedOpt)\n",
              "        .catch(err => showError(`Javascript Error: ${err.message}<br>This usually means there's a typo in your chart specification. See the javascript console for the full traceback.`));\n",
              "    }\n",
              "\n",
              "    if(typeof define === \"function\" && define.amd) {\n",
              "      requirejs.config({paths});\n",
              "      require([\"vega-embed\"], displayChart, err => showError(`Error loading script: ${err.message}`));\n",
              "    } else {\n",
              "      maybeLoadScript(\"vega\", \"5\")\n",
              "        .then(() => maybeLoadScript(\"vega-lite\", \"4.17.0\"))\n",
              "        .then(() => maybeLoadScript(\"vega-embed\", \"6\"))\n",
              "        .catch(showError)\n",
              "        .then(() => displayChart(vegaEmbed));\n",
              "    }\n",
              "  })({\"config\": {\"view\": {\"continuousWidth\": 400, \"continuousHeight\": 300}, \"background\": \"#D9E9F0\"}, \"vconcat\": [{\"mark\": \"bar\", \"encoding\": {\"color\": {\"condition\": {\"field\": \"mentor_full_name\", \"legend\": {\"orient\": \"left\"}, \"title\": \"Mentor\", \"type\": \"nominal\", \"selection\": \"selector062\"}, \"value\": \"lightgray\"}, \"x\": {\"field\": \"datetime\", \"title\": \"Time\", \"type\": \"temporal\"}, \"y\": {\"field\": \"vader_score\", \"title\": \"Positivity of Feedback by Mentees\", \"type\": \"quantitative\"}}, \"selection\": {\"selector062\": {\"type\": \"interval\", \"encodings\": [\"x\"]}, \"selector063\": {\"type\": \"multi\", \"fields\": [\"mentor_full_name\"], \"bind\": \"legend\"}}, \"title\": \"Global Feedback & Average of Feedback Positivity\", \"width\": 900}, {\"mark\": {\"type\": \"line\", \"color\": \"red\"}, \"encoding\": {\"x\": {\"field\": \"datetime\", \"title\": \"Time\", \"type\": \"temporal\"}, \"y\": {\"aggregate\": \"mean\", \"field\": \"vader_score\", \"title\": \"Progress of Mentors\", \"type\": \"quantitative\"}}, \"transform\": [{\"window\": [{\"op\": \"mean\", \"field\": \"vader_score\", \"as\": \"mentor_progress\"}], \"frame\": [-9, 0]}, {\"filter\": {\"selection\": \"selector062\"}}], \"width\": 900}], \"data\": {\"name\": \"data-c72bae3c57eb5b757673293a4bc6bd5b\"}, \"$schema\": \"https://vega.github.io/schema/vega-lite/v4.17.0.json\", \"datasets\": {\"data-c72bae3c57eb5b757673293a4bc6bd5b\": [{\"ticket_id\": \"RGY31mG14606sC3B\", \"mentor_id\": \"UY340CfO5dJ2S210\", \"mentee_id\": \"8v417YeUI850jS3Z\", \"feedback\": \"I have many hours of undergraduate accounting and finance course work under my belt and this class gives you a tremendous overview of financial statement analysis. The only disadvantage is that the professor creates the workbooks for you and you only have to answer conceptual questions. While this would be great for some, I was hoping for some more hands on work to practice.\", \"mentee_first_name\": \"Brady\", \"mentee_last_name\": \"Parker\", \"mentee_full_name\": \"Brady Parker\", \"mentor_first_name\": \"Jerry\", \"mentor_last_name\": \"Reed\", \"mentor_full_name\": \"Jerry Reed\", \"datetime\": \"2020-02-01T00:00:00\", \"feedback_outcome\": \"Positive\", \"vader_score\": 0.7351}, {\"ticket_id\": \"1R4587z1caGB1B7u\", \"mentor_id\": \"630lhQ431nA0Nz3s\", \"mentee_id\": \"yIBKz628y1Ol4538\", \"feedback\": \"Great introduction to Accounting Analytics. Unexpected lecturing dialogues. Could have more analytics or additional or optional problem sets to explore more deeply.\", \"mentee_first_name\": \"Bo\", \"mentee_last_name\": \"Reed\", \"mentee_full_name\": \"Bo Reed\", \"mentor_first_name\": \"Layne\", \"mentor_last_name\": \"Morris\", \"mentor_full_name\": \"Layne Morris\", \"datetime\": \"2020-09-27T00:00:00\", \"feedback_outcome\": \"Positive\", \"vader_score\": 0.34}, {\"ticket_id\": \"21x781Q7Ayo4mgE8\", \"mentor_id\": \"8lC6bv1xtG1046M6\", \"mentee_id\": \"4A763H2DOZxo68Z3\", \"feedback\": \"Very useful and comprehensive\", \"mentee_first_name\": \"Matthew\", \"mentee_last_name\": \"Miller\", \"mentee_full_name\": \"Matthew Miller\", \"mentor_first_name\": \"Sabrina\", \"mentor_last_name\": \"Richardson\", \"mentor_full_name\": \"Sabrina Richardson\", \"datetime\": \"2020-06-02T00:00:00\", \"feedback_outcome\": \"Positive\", \"vader_score\": 0.6659}, {\"ticket_id\": \"20gp7c24Fx6h4D6g\", \"mentor_id\": \"J4o388P4plF5RY70\", \"mentee_id\": \"q742317EX47IcugF\", \"feedback\": \"This is a really good survey class in the potential of 3d printing, with examples of how individuals can empower themselves and others without the obstacles of traditional tooling, with a relatively short learning curve and low investment. It also demonstrates the ways in which, now and increasingly in the future, we'll all be capable of designing the solutions to our own problems with increasing agility!The only thing that could make it better would be to have more design challenges!Thanks!\", \"mentee_first_name\": \"Caden\", \"mentee_last_name\": \"Miller\", \"mentee_full_name\": \"Caden Miller\", \"mentor_first_name\": \"Salvatore\", \"mentor_last_name\": \"Brooks\", \"mentor_full_name\": \"Salvatore Brooks\", \"datetime\": \"2020-11-09T00:00:00\", \"feedback_outcome\": \"Positive\", \"vader_score\": 0.825}, {\"ticket_id\": \"46P6Sw8gLI5Q2N14\", \"mentor_id\": \"6602Q4ljE112heWg\", \"mentee_id\": \"b77WF13NE25b3h8F\", \"feedback\": \"Nice course, a difficult one but very challengeable. Nice structure and easy to understand.I wanted to refresh my knowledge in anatomy and in such gained a whole lot more in return.Thanks to the Professors for their time and effort in making this MOOC.Very pleased.\", \"mentee_first_name\": \"Sarai\", \"mentee_last_name\": \"Price\", \"mentee_full_name\": \"Sarai Price\", \"mentor_first_name\": \"Johnny\", \"mentor_last_name\": \"Campbell\", \"mentor_full_name\": \"Johnny Campbell\", \"datetime\": \"2020-02-29T00:00:00\", \"feedback_outcome\": \"Positive\", \"vader_score\": 0.9466}, {\"ticket_id\": \"tka207qsi63j7X24\", \"mentor_id\": \"eA81PAI415m8Tw61\", \"mentee_id\": \"Wn68P028X06LpIz2\", \"feedback\": \"Very well done! Contents, delivery, clarity, everything was top notch. Thank you!\", \"mentee_first_name\": \"Ryan\", \"mentee_last_name\": \"Morales\", \"mentee_full_name\": \"Ryan Morales\", \"mentor_first_name\": \"Callan\", \"mentor_last_name\": \"Jackson\", \"mentor_full_name\": \"Callan Jackson\", \"datetime\": \"2020-09-08T00:00:00\", \"feedback_outcome\": \"Positive\", \"vader_score\": 0.8392}, {\"ticket_id\": \"ZrghZ0y5G3S34618\", \"mentor_id\": \"yC6d561OJiK355j5\", \"mentee_id\": \"L4o15LRyu4L8138J\", \"feedback\": \"Great course!\", \"mentee_first_name\": \"Caiden\", \"mentee_last_name\": \"Stewart\", \"mentee_full_name\": \"Caiden Stewart\", \"mentor_first_name\": \"Brooke\", \"mentor_last_name\": \"Garcia\", \"mentor_full_name\": \"Brooke Garcia\", \"datetime\": \"2020-08-28T00:00:00\", \"feedback_outcome\": \"Positive\", \"vader_score\": 0.6588}, {\"ticket_id\": \"O26z0D5yJ3h5RA40\", \"mentor_id\": \"qt64H1zC3z68h4L7\", \"mentee_id\": \"8izPp7iMC8v18014\", \"feedback\": \"As an introduction course its very helpful. It has just what you need to get started.\", \"mentee_first_name\": \"Naya\", \"mentee_last_name\": \"Rivera\", \"mentee_full_name\": \"Naya Rivera\", \"mentor_first_name\": \"Nadia\", \"mentor_last_name\": \"Reyes\", \"mentor_full_name\": \"Nadia Reyes\", \"datetime\": \"2020-09-09T00:00:00\", \"feedback_outcome\": \"Positive\", \"vader_score\": 0.4754}, {\"ticket_id\": \"c5t3d1pL8x55Vc24\", \"mentor_id\": \"630lhQ431nA0Nz3s\", \"mentee_id\": \"0vt3g7SG58W521WL\", \"feedback\": \"Excellent introduction to Ableton\", \"mentee_first_name\": \"Kylie\", \"mentee_last_name\": \"Miller\", \"mentee_full_name\": \"Kylie Miller\", \"mentor_first_name\": \"Layne\", \"mentor_last_name\": \"Morris\", \"mentor_full_name\": \"Layne Morris\", \"datetime\": \"2020-08-19T00:00:00\", \"feedback_outcome\": \"Positive\", \"vader_score\": 0.5719}, {\"ticket_id\": \"6C2o65vy07z3oKm4\", \"mentor_id\": \"470KQ6il1DzVH757\", \"mentee_id\": \"mfsG0s78v4025G8g\", \"feedback\": \"Hello!My name is Ahmed from Egypt, I am 3D Hubs Mayor. I think it's The first course in the internet which will give you the opportunity to know a lot of things about 3D Printing so stay tuned and register now if you interested in 3D printing.Cheers,\", \"mentee_first_name\": \"Edith\", \"mentee_last_name\": \"Ramirez\", \"mentee_full_name\": \"Edith Ramirez\", \"mentor_first_name\": \"River\", \"mentor_last_name\": \"Clark\", \"mentor_full_name\": \"River Clark\", \"datetime\": \"2020-03-03T00:00:00\", \"feedback_outcome\": \"Positive\", \"vader_score\": 0.6996}, {\"ticket_id\": \"30ICg1B1d6COF100\", \"mentor_id\": \"J4o388P4plF5RY70\", \"mentee_id\": \"41mm8q3722h1RFAr\", \"feedback\": \"I really appreicated the tools and techniques presented in the course. Very very valuable for Merger and Acqusition projects that I will be involved in (if ever)\", \"mentee_first_name\": \"Quinn\", \"mentee_last_name\": \"Bailey\", \"mentee_full_name\": \"Quinn Bailey\", \"mentor_first_name\": \"Salvatore\", \"mentor_last_name\": \"Brooks\", \"mentor_full_name\": \"Salvatore Brooks\", \"datetime\": \"2021-01-01T00:00:00\", \"feedback_outcome\": \"Positive\", \"vader_score\": 0.5678}, {\"ticket_id\": \"znT1hR0f3bs07063\", \"mentor_id\": \"8lC6bv1xtG1046M6\", \"mentee_id\": \"0t37ka6108elvkC5\", \"feedback\": \"Excellent but tough course ,you need to work and it is not simply called advanced Algorithms and Complexity.You will be forced to test your code properly ,even if you didn't do it properly in the previous specialisation course.\", \"mentee_first_name\": \"Aidan\", \"mentee_last_name\": \"Mendoza\", \"mentee_full_name\": \"Aidan Mendoza\", \"mentor_first_name\": \"Sabrina\", \"mentor_last_name\": \"Richardson\", \"mentor_full_name\": \"Sabrina Richardson\", \"datetime\": \"2020-10-31T00:00:00\", \"feedback_outcome\": \"Negative\", \"vader_score\": -0.6715}, {\"ticket_id\": \"60F60dl3iJ1tSb50\", \"mentor_id\": \"qt64H1zC3z68h4L7\", \"mentee_id\": \"FF1wo6Zr6Z4464H0\", \"feedback\": \"Good course . A must take for beginners !\", \"mentee_first_name\": \"Stella\", \"mentee_last_name\": \"Chavez\", \"mentee_full_name\": \"Stella Chavez\", \"mentor_first_name\": \"Nadia\", \"mentor_last_name\": \"Reyes\", \"mentor_full_name\": \"Nadia Reyes\", \"datetime\": \"2020-02-11T00:00:00\", \"feedback_outcome\": \"Positive\", \"vader_score\": 0.4926}, {\"ticket_id\": \"Juu2Z400z4573thE\", \"mentor_id\": \"470KQ6il1DzVH757\", \"mentee_id\": \"qEC26300fZ615erw\", \"feedback\": \"Great content but animations are annoying!\", \"mentee_first_name\": \"Cain\", \"mentee_last_name\": \"Allen\", \"mentee_full_name\": \"Cain Allen\", \"mentor_first_name\": \"River\", \"mentor_last_name\": \"Clark\", \"mentor_full_name\": \"River Clark\", \"datetime\": \"2020-01-30T00:00:00\", \"feedback_outcome\": \"Negative\", \"vader_score\": -0.3164}, {\"ticket_id\": \"ko1E2MYFf5480k27\", \"mentor_id\": \"3s811p68crqH8B5z\", \"mentee_id\": \"fo76Oi46or816i8N\", \"feedback\": \"Thank you so much!\", \"mentee_first_name\": \"Taylor\", \"mentee_last_name\": \"Ward\", \"mentee_full_name\": \"Taylor Ward\", \"mentor_first_name\": \"Wayne\", \"mentor_last_name\": \"Howard\", \"mentor_full_name\": \"Wayne Howard\", \"datetime\": \"2020-01-04T00:00:00\", \"feedback_outcome\": \"Positive\", \"vader_score\": 0.4199}, {\"ticket_id\": \"8B1v44L3667FufuY\", \"mentor_id\": \"yC6d561OJiK355j5\", \"mentee_id\": \"353A6snEGf3456ZU\", \"feedback\": \"iam soooo happy to joined to this course which help me to evaluate my skills and increase it\", \"mentee_first_name\": \"Anahi\", \"mentee_last_name\": \"Carter\", \"mentee_full_name\": \"Anahi Carter\", \"mentor_first_name\": \"Brooke\", \"mentor_last_name\": \"Garcia\", \"mentor_full_name\": \"Brooke Garcia\", \"datetime\": \"2020-06-16T00:00:00\", \"feedback_outcome\": \"Positive\", \"vader_score\": 0.8271}, {\"ticket_id\": \"51o4I50Qn1e31DQP\", \"mentor_id\": \"eA81PAI415m8Tw61\", \"mentee_id\": \"1j1AL4W5cto736d1\", \"feedback\": \"Awesome Course. It was quite challenging though\", \"mentee_first_name\": \"Claire\", \"mentee_last_name\": \"Cox\", \"mentee_full_name\": \"Claire Cox\", \"mentor_first_name\": \"Callan\", \"mentor_last_name\": \"Jackson\", \"mentor_full_name\": \"Callan Jackson\", \"datetime\": \"2020-12-11T00:00:00\", \"feedback_outcome\": \"Positive\", \"vader_score\": 0.7178}, {\"ticket_id\": \"yjt2g5DKs53H5275\", \"mentor_id\": \"J4o388P4plF5RY70\", \"mentee_id\": \"87Af0A6c3k262HpM\", \"feedback\": \"Good information!\", \"mentee_first_name\": \"Hellen\", \"mentee_last_name\": \"Heinz\", \"mentee_full_name\": \"Hellen Heinz\", \"mentor_first_name\": \"Salvatore\", \"mentor_last_name\": \"Brooks\", \"mentor_full_name\": \"Salvatore Brooks\", \"datetime\": \"2020-09-29T00:00:00\", \"feedback_outcome\": \"Positive\", \"vader_score\": 0.4926}, {\"ticket_id\": \"b7oR6hs087Rvq843\", \"mentor_id\": \"U0o85d0ytk780Ml2\", \"mentee_id\": \"ZY7Q4N02536cQgW4\", \"feedback\": \"This is the first English course I have taken.Though at first it was kind of difficulty because of language(especially the terms) and profession knowledge(it is a comprehensive course and I am still learning courses concerned at school)the course is really worth taking. I have learned a lot .and it stimulates my interest in accounting.\", \"mentee_first_name\": \"Alora\", \"mentee_last_name\": \"Castillo\", \"mentee_full_name\": \"Alora Castillo\", \"mentor_first_name\": \"Amias\", \"mentor_last_name\": \"Ward\", \"mentor_full_name\": \"Amias Ward\", \"datetime\": \"2020-08-27T00:00:00\", \"feedback_outcome\": \"Positive\", \"vader_score\": 0.6705}, {\"ticket_id\": \"S2pc8Y7A51x137xC\", \"mentor_id\": \"8lC6bv1xtG1046M6\", \"mentee_id\": \"4o5C28M8iQ43m6Ij\", \"feedback\": \"Fun and interesting course. I learned a lot, despite already being a Live user. Reviewing the assignments of other course-takers widened my horizons and helped me gain valuable insights.\", \"mentee_first_name\": \"Denise\", \"mentee_last_name\": \"Anderson\", \"mentee_full_name\": \"Denise Anderson\", \"mentor_first_name\": \"Sabrina\", \"mentor_last_name\": \"Richardson\", \"mentor_full_name\": \"Sabrina Richardson\", \"datetime\": \"2020-03-03T00:00:00\", \"feedback_outcome\": \"Positive\", \"vader_score\": 0.91}, {\"ticket_id\": \"7q68M2W54HWDh77f\", \"mentor_id\": \"J4o388P4plF5RY70\", \"mentee_id\": \"ms51lG223p6D87hp\", \"feedback\": \"V difficult, but rewarding!I did not get the grade I thought I would in this class...but I learned a lot more than I thought I could! Very in depth and thorough, I think I value the knowledge I received more than the sub-par grade I received. ;)\", \"mentee_first_name\": \"Dream\", \"mentee_last_name\": \"Torres\", \"mentee_full_name\": \"Dream Torres\", \"mentor_first_name\": \"Salvatore\", \"mentor_last_name\": \"Brooks\", \"mentor_full_name\": \"Salvatore Brooks\", \"datetime\": \"2020-07-31T00:00:00\", \"feedback_outcome\": \"Positive\", \"vader_score\": 0.6467}, {\"ticket_id\": \"F74056vI21T4kKmE\", \"mentor_id\": \"Kks6ET762z5N4Y53\", \"mentee_id\": \"aR5084wT662PN8nF\", \"feedback\": \"work motivational, very clear, well structured on a steady groove ... excellent!\", \"mentee_first_name\": \"Mckinley\", \"mentee_last_name\": \"Lee\", \"mentee_full_name\": \"Mckinley Lee\", \"mentor_first_name\": \"Charley\", \"mentor_last_name\": \"Watson\", \"mentor_full_name\": \"Charley Watson\", \"datetime\": \"2020-11-29T00:00:00\", \"feedback_outcome\": \"Positive\", \"vader_score\": 0.8505}, {\"ticket_id\": \"40tx0M65P3sj6b0g\", \"mentor_id\": \"86Wi7iP0OI646qQ4\", \"mentee_id\": \"2k8j3802WG1WtB1Y\", \"feedback\": \"Great review of what can be accomplished through 3D printing.\", \"mentee_first_name\": \"Canaan\", \"mentee_last_name\": \"Watson\", \"mentee_full_name\": \"Canaan Watson\", \"mentor_first_name\": \"Arabella\", \"mentor_last_name\": \"Hughes\", \"mentor_full_name\": \"Arabella Hughes\", \"datetime\": \"2020-03-01T00:00:00\", \"feedback_outcome\": \"Positive\", \"vader_score\": 0.7906}, {\"ticket_id\": \"3344poCe2B6S83na\", \"mentor_id\": \"UY340CfO5dJ2S210\", \"mentee_id\": \"yK1X13TlMF0c2571\", \"feedback\": \"Great course. I enjoyed learning the material.\", \"mentee_first_name\": \"Zander\", \"mentee_last_name\": \"Clark\", \"mentee_full_name\": \"Zander Clark\", \"mentor_first_name\": \"Jerry\", \"mentor_last_name\": \"Reed\", \"mentor_full_name\": \"Jerry Reed\", \"datetime\": \"2020-02-07T00:00:00\", \"feedback_outcome\": \"Positive\", \"vader_score\": 0.8126}, {\"ticket_id\": \"85g2P3ldex7d785c\", \"mentor_id\": \"yC6d561OJiK355j5\", \"mentee_id\": \"w11yyU6UE04Uk831\", \"feedback\": \"The instructor does an excellent job, but realistically there is no way to be proficient enough in a 3D software program after a week or two to earn a certificate. The certificate is worthless in my opinion. I liked the class but it seemed more like intro vs. a class of any proficiency required.\", \"mentee_first_name\": \"Nadia\", \"mentee_last_name\": \"Gray\", \"mentee_full_name\": \"Nadia Gray\", \"mentor_first_name\": \"Brooke\", \"mentor_last_name\": \"Garcia\", \"mentor_full_name\": \"Brooke Garcia\", \"datetime\": \"2020-03-09T00:00:00\", \"feedback_outcome\": \"Positive\", \"vader_score\": 0.4748}, {\"ticket_id\": \"L142X5HFJu8wJ638\", \"mentor_id\": \"72nzNC54886hd4hH\", \"mentee_id\": \"2k8j3802WG1WtB1Y\", \"feedback\": \"The topics are really interesting and advanced! However, there's a lot of talk in chinese, due to questions/answers from teacher and students, and the quizzes are a bit too easy. I learned a lot though.\", \"mentee_first_name\": \"Canaan\", \"mentee_last_name\": \"Watson\", \"mentee_full_name\": \"Canaan Watson\", \"mentor_first_name\": \"Natalie\", \"mentor_last_name\": \"Bailey\", \"mentor_full_name\": \"Natalie Bailey\", \"datetime\": \"2020-07-06T00:00:00\", \"feedback_outcome\": \"Positive\", \"vader_score\": 0.8151}, {\"ticket_id\": \"lv758F780QWJ1y3b\", \"mentor_id\": \"Kks6ET762z5N4Y53\", \"mentee_id\": \"T26wb738Nj14k1UJ\", \"feedback\": \"I am very glad to see courses like this one on Coursera. The course itself is well structured and contains a lot of useful information and that is exactly what I needed in one place.My only complaint is the price of the course - I think it is a bit expensive especially for this first part of the specialisation - it is an introductory two week course with a lot of advertising...\\u00a340..common..are you serious?? A lot of people will buy personal 3D printers or kits after the course, some of them will make a decision to buy a 3D printer for a company they work for (as myself), Fusion 360 subscriptions etc. These companies should sponsor such courses to make them more affordable - it is their interest.I made several courses on Coursera already (Mechanical and Electrical Engineering), they were 5 to 8 weeks and comprised a lot of quite hard work from mentors and students and were only \\u00a332 for certificate.I like the idea of this specialisation but I decided not to pay for the certificate because of its price. Although I am very happy to have access to the courses and I thank you for you effort!\", \"mentee_first_name\": \"Tessa\", \"mentee_last_name\": \"Morales\", \"mentee_full_name\": \"Tessa Morales\", \"mentor_first_name\": \"Charley\", \"mentor_last_name\": \"Watson\", \"mentor_full_name\": \"Charley Watson\", \"datetime\": \"2020-09-18T00:00:00\", \"feedback_outcome\": \"Positive\", \"vader_score\": 0.9421}, {\"ticket_id\": \"5cD4c8T24N61K6Yk\", \"mentor_id\": \"R4Ss15q506FH18zt\", \"mentee_id\": \"2k8j3802WG1WtB1Y\", \"feedback\": \"Thank you so much!\", \"mentee_first_name\": \"Canaan\", \"mentee_last_name\": \"Watson\", \"mentee_full_name\": \"Canaan Watson\", \"mentor_first_name\": \"Blakely\", \"mentor_last_name\": \"Sanders\", \"mentor_full_name\": \"Blakely Sanders\", \"datetime\": \"2020-12-24T00:00:00\", \"feedback_outcome\": \"Positive\", \"vader_score\": 0.4199}, {\"ticket_id\": \"BKN626QB3h268C5U\", \"mentor_id\": \"h8Y752S7P3A0T0na\", \"mentee_id\": \"Gp583FzBb5L41n15\", \"feedback\": \"Very insightful topic! A good overview of the use of analytics in accounting!\", \"mentee_first_name\": \"Hana\", \"mentee_last_name\": \"Cook\", \"mentee_full_name\": \"Hana Cook\", \"mentor_first_name\": \"Arielle\", \"mentor_last_name\": \"Kim\", \"mentor_full_name\": \"Arielle Kim\", \"datetime\": \"2020-11-23T00:00:00\", \"feedback_outcome\": \"Positive\", \"vader_score\": 0.5399}, {\"ticket_id\": \"11hYV7383dnN87Lm\", \"mentor_id\": \"R4Ss15q506FH18zt\", \"mentee_id\": \"S1G22L34k838Uzji\", \"feedback\": \"Great! As always great lectures by professor Bushee!\", \"mentee_first_name\": \"Ezekiel\", \"mentee_last_name\": \"Morris\", \"mentee_full_name\": \"Ezekiel Morris\", \"mentor_first_name\": \"Blakely\", \"mentor_last_name\": \"Sanders\", \"mentor_full_name\": \"Blakely Sanders\", \"datetime\": \"2020-03-06T00:00:00\", \"feedback_outcome\": \"Positive\", \"vader_score\": 0.8684}, {\"ticket_id\": \"oc88q60dzN8407SJ\", \"mentor_id\": \"8lC6bv1xtG1046M6\", \"mentee_id\": \"L57x1gj8065Dj7Wt\", \"feedback\": \"I wanted to give only 4 stars because of the all the \\u201cproblems\\u201d we encountered, but then we are learners investigating problem solving by design thinking. We can handle whatever comes, so the fifth star is for us. We are shaping this course by contributing to forums. Presumably we are ten thousand strong, let\\u2019s improve our worldwide voice by saying something on forms so we can get what we need and want we want also to stay on the cutting edge of reality.\", \"mentee_first_name\": \"Lawrence\", \"mentee_last_name\": \"Jones\", \"mentee_full_name\": \"Lawrence Jones\", \"mentor_first_name\": \"Sabrina\", \"mentor_last_name\": \"Richardson\", \"mentor_full_name\": \"Sabrina Richardson\", \"datetime\": \"2020-05-01T00:00:00\", \"feedback_outcome\": \"Positive\", \"vader_score\": 0.8402}, {\"ticket_id\": \"U80iJ757IvuA8Y60\", \"mentor_id\": \"yC6d561OJiK355j5\", \"mentee_id\": \"PaXo0715VWy1351r\", \"feedback\": \"Very good intro to 3d printed.\", \"mentee_first_name\": \"Jaden\", \"mentee_last_name\": \"Chavez\", \"mentee_full_name\": \"Jaden Chavez\", \"mentor_first_name\": \"Brooke\", \"mentor_last_name\": \"Garcia\", \"mentor_full_name\": \"Brooke Garcia\", \"datetime\": \"2020-06-09T00:00:00\", \"feedback_outcome\": \"Positive\", \"vader_score\": 0.4927}, {\"ticket_id\": \"lF1cPb68U850tD56\", \"mentor_id\": \"670wl1MU23z4fYh7\", \"mentee_id\": \"ms51lG223p6D87hp\", \"feedback\": \"The course makes accounting interesting and especially the examples are very illustrative. Virtual students bring some fun. The 4th week is however really integrated in the course structure.\", \"mentee_first_name\": \"Dream\", \"mentee_last_name\": \"Torres\", \"mentee_full_name\": \"Dream Torres\", \"mentor_first_name\": \"Robin\", \"mentor_last_name\": \"Jones\", \"mentor_full_name\": \"Robin Jones\", \"datetime\": \"2020-12-17T00:00:00\", \"feedback_outcome\": \"Positive\", \"vader_score\": 0.7184}, {\"ticket_id\": \"t168P43J13tEll4w\", \"mentor_id\": \"L2t7h5Q1O35w40rx\", \"mentee_id\": \"0g4I3l8RC0Mue531\", \"feedback\": \"If only it was a week longer.\", \"mentee_first_name\": \"Zariah\", \"mentee_last_name\": \"Hughes\", \"mentee_full_name\": \"Zariah Hughes\", \"mentor_first_name\": \"Denisse\", \"mentor_last_name\": \"Martinez\", \"mentor_full_name\": \"Denisse Martinez\", \"datetime\": \"2020-02-07T00:00:00\", \"feedback_outcome\": \"Neutral\", \"vader_score\": 0.0}, {\"ticket_id\": \"m5r014d3h57ravd0\", \"mentor_id\": \"630lhQ431nA0Nz3s\", \"mentee_id\": \"yG8z814u6Pw25Z8B\", \"feedback\": \"I've know many skills in competition with many true cases. Thanks!\", \"mentee_first_name\": \"Abraham\", \"mentee_last_name\": \"Hall\", \"mentee_full_name\": \"Abraham Hall\", \"mentor_first_name\": \"Layne\", \"mentor_last_name\": \"Morris\", \"mentor_full_name\": \"Layne Morris\", \"datetime\": \"2020-08-18T00:00:00\", \"feedback_outcome\": \"Positive\", \"vader_score\": 0.7177}, {\"ticket_id\": \"4R27M0tgVay57w84\", \"mentor_id\": \"h8Y752S7P3A0T0na\", \"mentee_id\": \"h0OSv063IdUM1860\", \"feedback\": \"Very useful for understanding the basics of 3D printing technology.\", \"mentee_first_name\": \"Adrian\", \"mentee_last_name\": \"Gutierrez\", \"mentee_full_name\": \"Adrian Gutierrez\", \"mentor_first_name\": \"Arielle\", \"mentor_last_name\": \"Kim\", \"mentor_full_name\": \"Arielle Kim\", \"datetime\": \"2020-04-08T00:00:00\", \"feedback_outcome\": \"Positive\", \"vader_score\": 0.4927}, {\"ticket_id\": \"Lx4C75n8dAO642s5\", \"mentor_id\": \"mg3W02iR15j3w85K\", \"mentee_id\": \"2Dkq2jr8525Q2fF7\", \"feedback\": \"Very helpful\", \"mentee_first_name\": \"Aliyah\", \"mentee_last_name\": \"Green\", \"mentee_full_name\": \"Aliyah Green\", \"mentor_first_name\": \"Pete\", \"mentor_last_name\": \"Peterson\", \"mentor_full_name\": \"Pete Peterson\", \"datetime\": \"2020-03-29T00:00:00\", \"feedback_outcome\": \"Positive\", \"vader_score\": 0.4754}, {\"ticket_id\": \"5573K40xN5GUlA8C\", \"mentor_id\": \"R4Ss15q506FH18zt\", \"mentee_id\": \"T26wb738Nj14k1UJ\", \"feedback\": \"Very informative an approachable course. I really like the way Aric presents the information. I am excited to complete the rest of the Specialization.\", \"mentee_first_name\": \"Tessa\", \"mentee_last_name\": \"Morales\", \"mentee_full_name\": \"Tessa Morales\", \"mentor_first_name\": \"Blakely\", \"mentor_last_name\": \"Sanders\", \"mentor_full_name\": \"Blakely Sanders\", \"datetime\": \"2020-06-25T00:00:00\", \"feedback_outcome\": \"Positive\", \"vader_score\": 0.6361}, {\"ticket_id\": \"o4u5y7q6Sw3iW764\", \"mentor_id\": \"qt64H1zC3z68h4L7\", \"mentee_id\": \"01k40nHCD3MW3c40\", \"feedback\": \"I would add more examples on how to populate the data, even spend time on optional videos where the professor or his assistant goes through testing ratios (something similar to Operations Analytics). I feel like the professor was rushing through his explanations and the models. Maybe people found the course very useful however I felt like there was too much text and immediate switch to Excel file that was elaborated shortly. Overall, I am not sure how to apply these ratios in my final project...\", \"mentee_first_name\": \"Adaline\", \"mentee_last_name\": \"Reyes\", \"mentee_full_name\": \"Adaline Reyes\", \"mentor_first_name\": \"Nadia\", \"mentor_last_name\": \"Reyes\", \"mentor_full_name\": \"Nadia Reyes\", \"datetime\": \"2020-03-20T00:00:00\", \"feedback_outcome\": \"Positive\", \"vader_score\": 0.8493}, {\"ticket_id\": \"5V15k63Qql28UUC3\", \"mentor_id\": \"470KQ6il1DzVH757\", \"mentee_id\": \"u2Q3Szc7511be56h\", \"feedback\": \"Don't recommend.You're better off skimming through the ableton manual and using the search function to get the answers you want.\", \"mentee_first_name\": \"Brett\", \"mentee_last_name\": \"Johnson\", \"mentee_full_name\": \"Brett Johnson\", \"mentor_first_name\": \"River\", \"mentor_last_name\": \"Clark\", \"mentor_full_name\": \"River Clark\", \"datetime\": \"2020-01-23T00:00:00\", \"feedback_outcome\": \"Neutral\", \"vader_score\": -0.2746}, {\"ticket_id\": \"4fk6bx2d01k833Nx\", \"mentor_id\": \"670wl1MU23z4fYh7\", \"mentee_id\": \"fo76Oi46or816i8N\", \"feedback\": \"it could be easily compressed in a two-weeks course.Sometimes interviews are too long for what they need to explain.\", \"mentee_first_name\": \"Taylor\", \"mentee_last_name\": \"Ward\", \"mentee_full_name\": \"Taylor Ward\", \"mentor_first_name\": \"Robin\", \"mentor_last_name\": \"Jones\", \"mentor_full_name\": \"Robin Jones\", \"datetime\": \"2020-04-25T00:00:00\", \"feedback_outcome\": \"Positive\", \"vader_score\": 0.34}, {\"ticket_id\": \"3ZzNw02Zvu61D771\", \"mentor_id\": \"qt64H1zC3z68h4L7\", \"mentee_id\": \"yk722ZDzO7N6365j\", \"feedback\": \"It is very nice for people are starting with abletobn program\", \"mentee_first_name\": \"Tyler\", \"mentee_last_name\": \"Clark\", \"mentee_full_name\": \"Tyler Clark\", \"mentor_first_name\": \"Nadia\", \"mentor_last_name\": \"Reyes\", \"mentor_full_name\": \"Nadia Reyes\", \"datetime\": \"2020-02-07T00:00:00\", \"feedback_outcome\": \"Positive\", \"vader_score\": 0.4754}, {\"ticket_id\": \"MD378K50C8N5L4aj\", \"mentor_id\": \"eA81PAI415m8Tw61\", \"mentee_id\": \"fo76Oi46or816i8N\", \"feedback\": \"Really useful for beginners!!\", \"mentee_first_name\": \"Taylor\", \"mentee_last_name\": \"Ward\", \"mentee_full_name\": \"Taylor Ward\", \"mentor_first_name\": \"Callan\", \"mentor_last_name\": \"Jackson\", \"mentor_full_name\": \"Callan Jackson\", \"datetime\": \"2020-08-01T00:00:00\", \"feedback_outcome\": \"Positive\", \"vader_score\": 0.5827}, {\"ticket_id\": \"0VJZj4d4E605Di87\", \"mentor_id\": \"86Wi7iP0OI646qQ4\", \"mentee_id\": \"aR5084wT662PN8nF\", \"feedback\": \"Good content but the Chinese translation is bad, which makes quiz quite obscure in meaning\", \"mentee_first_name\": \"Mckinley\", \"mentee_last_name\": \"Lee\", \"mentee_full_name\": \"Mckinley Lee\", \"mentor_first_name\": \"Arabella\", \"mentor_last_name\": \"Hughes\", \"mentor_full_name\": \"Arabella Hughes\", \"datetime\": \"2020-10-02T00:00:00\", \"feedback_outcome\": \"Negative\", \"vader_score\": -0.5859}, {\"ticket_id\": \"2fBl515Z75P31GDK\", \"mentor_id\": \"72nzNC54886hd4hH\", \"mentee_id\": \"27RG2N24cxW3z7O7\", \"feedback\": \"Great thanks for Dr.aric ,who has a smiley face ,If any one enrolled this course ,he would get a great knowledge and usefull information about 3d printing or addtive manufacturing ,throw a simple & exciting videos ,not only that ,you would get another benefits not only information about 3d priting ,like ,getting knowledge of many companies from the inside ,see stories of successfull people which achieves you to keep up with your work ,meet with your colleagues and make new friends ,and finally grow up your english skills ,like listening and grow up your vocabulary .....Great thaks for coursera team ,it's our pleasure to learn with you ........\", \"mentee_first_name\": \"Maverick\", \"mentee_last_name\": \"Clark\", \"mentee_full_name\": \"Maverick Clark\", \"mentor_first_name\": \"Natalie\", \"mentor_last_name\": \"Bailey\", \"mentor_full_name\": \"Natalie Bailey\", \"datetime\": \"2020-10-28T00:00:00\", \"feedback_outcome\": \"Positive\", \"vader_score\": 0.9877}, {\"ticket_id\": \"V3V741mxkpV5716Z\", \"mentor_id\": \"mg3W02iR15j3w85K\", \"mentee_id\": \"yK1X13TlMF0c2571\", \"feedback\": \"This is a great course for people who do not know Ableton. The exercises were easy to understand.\", \"mentee_first_name\": \"Zander\", \"mentee_last_name\": \"Clark\", \"mentee_full_name\": \"Zander Clark\", \"mentor_first_name\": \"Pete\", \"mentor_last_name\": \"Peterson\", \"mentor_full_name\": \"Pete Peterson\", \"datetime\": \"2020-03-10T00:00:00\", \"feedback_outcome\": \"Positive\", \"vader_score\": 0.7906}, {\"ticket_id\": \"7013E7h1b8MG5Apt\", \"mentor_id\": \"630lhQ431nA0Nz3s\", \"mentee_id\": \"b3F1LSxu6DT37783\", \"feedback\": \"Great thanks for Dr.aric ,who has a smiley face ,If any one enrolled this course ,he would get a great knowledge and usefull information about 3d printing or addtive manufacturing ,throw a simple & exciting videos ,not only that ,you would get another benefits not only information about 3d priting ,like ,getting knowledge of many companies from the inside ,see stories of successfull people which achieves you to keep up with your work ,meet with your colleagues and make new friends ,and finally grow up your english skills ,like listening and grow up your vocabulary .....Great thaks for coursera team ,it's our pleasure to learn with you ........\", \"mentee_first_name\": \"Conner\", \"mentee_last_name\": \"Sanchez\", \"mentee_full_name\": \"Conner Sanchez\", \"mentor_first_name\": \"Layne\", \"mentor_last_name\": \"Morris\", \"mentor_full_name\": \"Layne Morris\", \"datetime\": \"2020-10-05T00:00:00\", \"feedback_outcome\": \"Positive\", \"vader_score\": 0.9877}, {\"ticket_id\": \"762WtMG1Fe10t6i5\", \"mentor_id\": \"R4Ss15q506FH18zt\", \"mentee_id\": \"4Yh83MOA8H5V7G01\", \"feedback\": \"Excellent course, first 3 weeks were very technical but highly informative. Quite a bit of accounting knowledge is required to understand the work. Last week of lessons were more simple and intuitive to understand, but overall, a very insightful module\", \"mentee_first_name\": \"Anika\", \"mentee_last_name\": \"Jackson\", \"mentee_full_name\": \"Anika Jackson\", \"mentor_first_name\": \"Blakely\", \"mentor_last_name\": \"Sanders\", \"mentor_full_name\": \"Blakely Sanders\", \"datetime\": \"2020-05-29T00:00:00\", \"feedback_outcome\": \"Positive\", \"vader_score\": 0.3291}, {\"ticket_id\": \"P00l866BJa4B2UO6\", \"mentor_id\": \"h8Y752S7P3A0T0na\", \"mentee_id\": \"5B6C653Z77V4GxcW\", \"feedback\": \"It's not a course... this is a very short general introduction to 3D Printing\", \"mentee_first_name\": \"Keegan\", \"mentee_last_name\": \"Adams\", \"mentee_full_name\": \"Keegan Adams\", \"mentor_first_name\": \"Arielle\", \"mentor_last_name\": \"Kim\", \"mentor_full_name\": \"Arielle Kim\", \"datetime\": \"2020-10-22T00:00:00\", \"feedback_outcome\": \"Neutral\", \"vader_score\": 0.0}, {\"ticket_id\": \"v7D3I30GiZX31j31\", \"mentor_id\": \"L2t7h5Q1O35w40rx\", \"mentee_id\": \"4o5C28M8iQ43m6Ij\", \"feedback\": \"This is a very basic course on 3D Printing Technology but every aspect of the technology is artistically explained. All the various points of view are considered and a 360 degree idea is passed on to the students.By taking this course, students who are contemplating about their involvement in this revolutionary technology will be able to finally decide their future course of action, which I believe will be positive.In short, this course will provide you a base whereas the further courses, I think (as I haven't taken up the rest of the courses till now but I intend to) will add sufficient value to your knowledge.Regards.\", \"mentee_first_name\": \"Denise\", \"mentee_last_name\": \"Anderson\", \"mentee_full_name\": \"Denise Anderson\", \"mentor_first_name\": \"Denisse\", \"mentor_last_name\": \"Martinez\", \"mentor_full_name\": \"Denisse Martinez\", \"datetime\": \"2020-04-12T00:00:00\", \"feedback_outcome\": \"Positive\", \"vader_score\": 0.4767}]}}, {\"mode\": \"vega-lite\"});\n",
              "</script>"
            ],
            "text/plain": [
              "alt.VConcatChart(...)"
            ]
          },
          "metadata": {},
          "execution_count": 64
        }
      ]
    },
    {
      "cell_type": "markdown",
      "source": [
        "# We have decided to use this graph for individual feedback of Mentors"
      ],
      "metadata": {
        "id": "FM-vb1b-ukoX"
      }
    },
    {
      "cell_type": "code",
      "source": [
        "selection = alt.selection_multi(fields=['mentor_full_name'], on='mouseover', bind='legend')\n",
        "\n",
        "\n",
        "mentor_bar = alt.Chart(source, title=\"Individual Feedback Positivity Scores About a Mentor\").mark_bar().encode(\n",
        "    alt.X('datetime', title='Time'),\n",
        "    alt.Y('vader_score', title='Positivity of Feedback by Mentees'),\n",
        "    color=alt.condition(selection, alt.Color('mentor_full_name:N',\n",
        "                                             title=\"Mentor\",\n",
        "                                             legend=alt.Legend(orient=\"left\")),\n",
        "                        alt.value('lightgray')),\n",
        "    \n",
        "    opacity=alt.condition(selection, alt.value(1), alt.value(0.2)),\n",
        "    tooltip=[alt.Tooltip('mentor_full_name', title='Mentor'),\n",
        "             alt.Tooltip('feedback_outcome', title='Feedback Outcome'),\n",
        "             alt.Tooltip('mentee_full_name', title='Mentee'),\n",
        "             alt.Tooltip('feedback', title='Feedback Given')]\n",
        ").configure_range(\n",
        "    category={'scheme': 'dark2'}\n",
        ").properties(\n",
        "    width=900,\n",
        "    selection=selection\n",
        ").add_selection(\n",
        "    selection\n",
        ")\n",
        "\n",
        "mentor_bar.configure_title(fontSize=26).configure(background='#D9E9F0'\n",
        "           ).interactive()"
      ],
      "metadata": {
        "id": "Bf-hl6MeinAq",
        "colab": {
          "base_uri": "https://localhost:8080/",
          "height": 380
        },
        "outputId": "b333b2b6-47f2-46fd-ae1f-1c6e8610661a"
      },
      "execution_count": 62,
      "outputs": [
        {
          "output_type": "execute_result",
          "data": {
            "text/html": [
              "\n",
              "<div id=\"altair-viz-7d875ee4aae64ee7957a20f142e052f7\"></div>\n",
              "<script type=\"text/javascript\">\n",
              "  var VEGA_DEBUG = (typeof VEGA_DEBUG == \"undefined\") ? {} : VEGA_DEBUG;\n",
              "  (function(spec, embedOpt){\n",
              "    let outputDiv = document.currentScript.previousElementSibling;\n",
              "    if (outputDiv.id !== \"altair-viz-7d875ee4aae64ee7957a20f142e052f7\") {\n",
              "      outputDiv = document.getElementById(\"altair-viz-7d875ee4aae64ee7957a20f142e052f7\");\n",
              "    }\n",
              "    const paths = {\n",
              "      \"vega\": \"https://cdn.jsdelivr.net/npm//vega@5?noext\",\n",
              "      \"vega-lib\": \"https://cdn.jsdelivr.net/npm//vega-lib?noext\",\n",
              "      \"vega-lite\": \"https://cdn.jsdelivr.net/npm//vega-lite@4.17.0?noext\",\n",
              "      \"vega-embed\": \"https://cdn.jsdelivr.net/npm//vega-embed@6?noext\",\n",
              "    };\n",
              "\n",
              "    function maybeLoadScript(lib, version) {\n",
              "      var key = `${lib.replace(\"-\", \"\")}_version`;\n",
              "      return (VEGA_DEBUG[key] == version) ?\n",
              "        Promise.resolve(paths[lib]) :\n",
              "        new Promise(function(resolve, reject) {\n",
              "          var s = document.createElement('script');\n",
              "          document.getElementsByTagName(\"head\")[0].appendChild(s);\n",
              "          s.async = true;\n",
              "          s.onload = () => {\n",
              "            VEGA_DEBUG[key] = version;\n",
              "            return resolve(paths[lib]);\n",
              "          };\n",
              "          s.onerror = () => reject(`Error loading script: ${paths[lib]}`);\n",
              "          s.src = paths[lib];\n",
              "        });\n",
              "    }\n",
              "\n",
              "    function showError(err) {\n",
              "      outputDiv.innerHTML = `<div class=\"error\" style=\"color:red;\">${err}</div>`;\n",
              "      throw err;\n",
              "    }\n",
              "\n",
              "    function displayChart(vegaEmbed) {\n",
              "      vegaEmbed(outputDiv, spec, embedOpt)\n",
              "        .catch(err => showError(`Javascript Error: ${err.message}<br>This usually means there's a typo in your chart specification. See the javascript console for the full traceback.`));\n",
              "    }\n",
              "\n",
              "    if(typeof define === \"function\" && define.amd) {\n",
              "      requirejs.config({paths});\n",
              "      require([\"vega-embed\"], displayChart, err => showError(`Error loading script: ${err.message}`));\n",
              "    } else {\n",
              "      maybeLoadScript(\"vega\", \"5\")\n",
              "        .then(() => maybeLoadScript(\"vega-lite\", \"4.17.0\"))\n",
              "        .then(() => maybeLoadScript(\"vega-embed\", \"6\"))\n",
              "        .catch(showError)\n",
              "        .then(() => displayChart(vegaEmbed));\n",
              "    }\n",
              "  })({\"config\": {\"view\": {\"continuousWidth\": 400, \"continuousHeight\": 300}, \"background\": \"#D9E9F0\"}, \"data\": {\"name\": \"data-c72bae3c57eb5b757673293a4bc6bd5b\"}, \"mark\": \"bar\", \"encoding\": {\"color\": {\"condition\": {\"field\": \"mentor_full_name\", \"legend\": {\"orient\": \"left\"}, \"title\": \"Mentor\", \"type\": \"nominal\", \"selection\": \"selector058\"}, \"value\": \"lightgray\"}, \"opacity\": {\"condition\": {\"value\": 1, \"selection\": \"selector058\"}, \"value\": 0.2}, \"tooltip\": [{\"field\": \"mentor_full_name\", \"title\": \"Mentor\", \"type\": \"nominal\"}, {\"field\": \"feedback_outcome\", \"title\": \"Feedback Outcome\", \"type\": \"nominal\"}, {\"field\": \"mentee_full_name\", \"title\": \"Mentee\", \"type\": \"nominal\"}, {\"field\": \"feedback\", \"title\": \"Feedback Given\", \"type\": \"nominal\"}], \"x\": {\"field\": \"datetime\", \"title\": \"Time\", \"type\": \"temporal\"}, \"y\": {\"field\": \"vader_score\", \"title\": \"Positivity of Feedback by Mentees\", \"type\": \"quantitative\"}}, \"selection\": {\"selector058\": {\"type\": \"multi\", \"fields\": [\"mentor_full_name\"], \"on\": \"mouseover\", \"bind\": \"legend\"}, \"selector059\": {\"type\": \"interval\", \"bind\": \"scales\", \"encodings\": [\"x\", \"y\"]}}, \"title\": \"Individual Feedback Positivity Scores About a Mentor\", \"width\": 900, \"$schema\": \"https://vega.github.io/schema/vega-lite/v4.17.0.json\", \"datasets\": {\"data-c72bae3c57eb5b757673293a4bc6bd5b\": [{\"ticket_id\": \"RGY31mG14606sC3B\", \"mentor_id\": \"UY340CfO5dJ2S210\", \"mentee_id\": \"8v417YeUI850jS3Z\", \"feedback\": \"I have many hours of undergraduate accounting and finance course work under my belt and this class gives you a tremendous overview of financial statement analysis. The only disadvantage is that the professor creates the workbooks for you and you only have to answer conceptual questions. While this would be great for some, I was hoping for some more hands on work to practice.\", \"mentee_first_name\": \"Brady\", \"mentee_last_name\": \"Parker\", \"mentee_full_name\": \"Brady Parker\", \"mentor_first_name\": \"Jerry\", \"mentor_last_name\": \"Reed\", \"mentor_full_name\": \"Jerry Reed\", \"datetime\": \"2020-02-01T00:00:00\", \"feedback_outcome\": \"Positive\", \"vader_score\": 0.7351}, {\"ticket_id\": \"1R4587z1caGB1B7u\", \"mentor_id\": \"630lhQ431nA0Nz3s\", \"mentee_id\": \"yIBKz628y1Ol4538\", \"feedback\": \"Great introduction to Accounting Analytics. Unexpected lecturing dialogues. Could have more analytics or additional or optional problem sets to explore more deeply.\", \"mentee_first_name\": \"Bo\", \"mentee_last_name\": \"Reed\", \"mentee_full_name\": \"Bo Reed\", \"mentor_first_name\": \"Layne\", \"mentor_last_name\": \"Morris\", \"mentor_full_name\": \"Layne Morris\", \"datetime\": \"2020-09-27T00:00:00\", \"feedback_outcome\": \"Positive\", \"vader_score\": 0.34}, {\"ticket_id\": \"21x781Q7Ayo4mgE8\", \"mentor_id\": \"8lC6bv1xtG1046M6\", \"mentee_id\": \"4A763H2DOZxo68Z3\", \"feedback\": \"Very useful and comprehensive\", \"mentee_first_name\": \"Matthew\", \"mentee_last_name\": \"Miller\", \"mentee_full_name\": \"Matthew Miller\", \"mentor_first_name\": \"Sabrina\", \"mentor_last_name\": \"Richardson\", \"mentor_full_name\": \"Sabrina Richardson\", \"datetime\": \"2020-06-02T00:00:00\", \"feedback_outcome\": \"Positive\", \"vader_score\": 0.6659}, {\"ticket_id\": \"20gp7c24Fx6h4D6g\", \"mentor_id\": \"J4o388P4plF5RY70\", \"mentee_id\": \"q742317EX47IcugF\", \"feedback\": \"This is a really good survey class in the potential of 3d printing, with examples of how individuals can empower themselves and others without the obstacles of traditional tooling, with a relatively short learning curve and low investment. It also demonstrates the ways in which, now and increasingly in the future, we'll all be capable of designing the solutions to our own problems with increasing agility!The only thing that could make it better would be to have more design challenges!Thanks!\", \"mentee_first_name\": \"Caden\", \"mentee_last_name\": \"Miller\", \"mentee_full_name\": \"Caden Miller\", \"mentor_first_name\": \"Salvatore\", \"mentor_last_name\": \"Brooks\", \"mentor_full_name\": \"Salvatore Brooks\", \"datetime\": \"2020-11-09T00:00:00\", \"feedback_outcome\": \"Positive\", \"vader_score\": 0.825}, {\"ticket_id\": \"46P6Sw8gLI5Q2N14\", \"mentor_id\": \"6602Q4ljE112heWg\", \"mentee_id\": \"b77WF13NE25b3h8F\", \"feedback\": \"Nice course, a difficult one but very challengeable. Nice structure and easy to understand.I wanted to refresh my knowledge in anatomy and in such gained a whole lot more in return.Thanks to the Professors for their time and effort in making this MOOC.Very pleased.\", \"mentee_first_name\": \"Sarai\", \"mentee_last_name\": \"Price\", \"mentee_full_name\": \"Sarai Price\", \"mentor_first_name\": \"Johnny\", \"mentor_last_name\": \"Campbell\", \"mentor_full_name\": \"Johnny Campbell\", \"datetime\": \"2020-02-29T00:00:00\", \"feedback_outcome\": \"Positive\", \"vader_score\": 0.9466}, {\"ticket_id\": \"tka207qsi63j7X24\", \"mentor_id\": \"eA81PAI415m8Tw61\", \"mentee_id\": \"Wn68P028X06LpIz2\", \"feedback\": \"Very well done! Contents, delivery, clarity, everything was top notch. Thank you!\", \"mentee_first_name\": \"Ryan\", \"mentee_last_name\": \"Morales\", \"mentee_full_name\": \"Ryan Morales\", \"mentor_first_name\": \"Callan\", \"mentor_last_name\": \"Jackson\", \"mentor_full_name\": \"Callan Jackson\", \"datetime\": \"2020-09-08T00:00:00\", \"feedback_outcome\": \"Positive\", \"vader_score\": 0.8392}, {\"ticket_id\": \"ZrghZ0y5G3S34618\", \"mentor_id\": \"yC6d561OJiK355j5\", \"mentee_id\": \"L4o15LRyu4L8138J\", \"feedback\": \"Great course!\", \"mentee_first_name\": \"Caiden\", \"mentee_last_name\": \"Stewart\", \"mentee_full_name\": \"Caiden Stewart\", \"mentor_first_name\": \"Brooke\", \"mentor_last_name\": \"Garcia\", \"mentor_full_name\": \"Brooke Garcia\", \"datetime\": \"2020-08-28T00:00:00\", \"feedback_outcome\": \"Positive\", \"vader_score\": 0.6588}, {\"ticket_id\": \"O26z0D5yJ3h5RA40\", \"mentor_id\": \"qt64H1zC3z68h4L7\", \"mentee_id\": \"8izPp7iMC8v18014\", \"feedback\": \"As an introduction course its very helpful. It has just what you need to get started.\", \"mentee_first_name\": \"Naya\", \"mentee_last_name\": \"Rivera\", \"mentee_full_name\": \"Naya Rivera\", \"mentor_first_name\": \"Nadia\", \"mentor_last_name\": \"Reyes\", \"mentor_full_name\": \"Nadia Reyes\", \"datetime\": \"2020-09-09T00:00:00\", \"feedback_outcome\": \"Positive\", \"vader_score\": 0.4754}, {\"ticket_id\": \"c5t3d1pL8x55Vc24\", \"mentor_id\": \"630lhQ431nA0Nz3s\", \"mentee_id\": \"0vt3g7SG58W521WL\", \"feedback\": \"Excellent introduction to Ableton\", \"mentee_first_name\": \"Kylie\", \"mentee_last_name\": \"Miller\", \"mentee_full_name\": \"Kylie Miller\", \"mentor_first_name\": \"Layne\", \"mentor_last_name\": \"Morris\", \"mentor_full_name\": \"Layne Morris\", \"datetime\": \"2020-08-19T00:00:00\", \"feedback_outcome\": \"Positive\", \"vader_score\": 0.5719}, {\"ticket_id\": \"6C2o65vy07z3oKm4\", \"mentor_id\": \"470KQ6il1DzVH757\", \"mentee_id\": \"mfsG0s78v4025G8g\", \"feedback\": \"Hello!My name is Ahmed from Egypt, I am 3D Hubs Mayor. I think it's The first course in the internet which will give you the opportunity to know a lot of things about 3D Printing so stay tuned and register now if you interested in 3D printing.Cheers,\", \"mentee_first_name\": \"Edith\", \"mentee_last_name\": \"Ramirez\", \"mentee_full_name\": \"Edith Ramirez\", \"mentor_first_name\": \"River\", \"mentor_last_name\": \"Clark\", \"mentor_full_name\": \"River Clark\", \"datetime\": \"2020-03-03T00:00:00\", \"feedback_outcome\": \"Positive\", \"vader_score\": 0.6996}, {\"ticket_id\": \"30ICg1B1d6COF100\", \"mentor_id\": \"J4o388P4plF5RY70\", \"mentee_id\": \"41mm8q3722h1RFAr\", \"feedback\": \"I really appreicated the tools and techniques presented in the course. Very very valuable for Merger and Acqusition projects that I will be involved in (if ever)\", \"mentee_first_name\": \"Quinn\", \"mentee_last_name\": \"Bailey\", \"mentee_full_name\": \"Quinn Bailey\", \"mentor_first_name\": \"Salvatore\", \"mentor_last_name\": \"Brooks\", \"mentor_full_name\": \"Salvatore Brooks\", \"datetime\": \"2021-01-01T00:00:00\", \"feedback_outcome\": \"Positive\", \"vader_score\": 0.5678}, {\"ticket_id\": \"znT1hR0f3bs07063\", \"mentor_id\": \"8lC6bv1xtG1046M6\", \"mentee_id\": \"0t37ka6108elvkC5\", \"feedback\": \"Excellent but tough course ,you need to work and it is not simply called advanced Algorithms and Complexity.You will be forced to test your code properly ,even if you didn't do it properly in the previous specialisation course.\", \"mentee_first_name\": \"Aidan\", \"mentee_last_name\": \"Mendoza\", \"mentee_full_name\": \"Aidan Mendoza\", \"mentor_first_name\": \"Sabrina\", \"mentor_last_name\": \"Richardson\", \"mentor_full_name\": \"Sabrina Richardson\", \"datetime\": \"2020-10-31T00:00:00\", \"feedback_outcome\": \"Negative\", \"vader_score\": -0.6715}, {\"ticket_id\": \"60F60dl3iJ1tSb50\", \"mentor_id\": \"qt64H1zC3z68h4L7\", \"mentee_id\": \"FF1wo6Zr6Z4464H0\", \"feedback\": \"Good course . A must take for beginners !\", \"mentee_first_name\": \"Stella\", \"mentee_last_name\": \"Chavez\", \"mentee_full_name\": \"Stella Chavez\", \"mentor_first_name\": \"Nadia\", \"mentor_last_name\": \"Reyes\", \"mentor_full_name\": \"Nadia Reyes\", \"datetime\": \"2020-02-11T00:00:00\", \"feedback_outcome\": \"Positive\", \"vader_score\": 0.4926}, {\"ticket_id\": \"Juu2Z400z4573thE\", \"mentor_id\": \"470KQ6il1DzVH757\", \"mentee_id\": \"qEC26300fZ615erw\", \"feedback\": \"Great content but animations are annoying!\", \"mentee_first_name\": \"Cain\", \"mentee_last_name\": \"Allen\", \"mentee_full_name\": \"Cain Allen\", \"mentor_first_name\": \"River\", \"mentor_last_name\": \"Clark\", \"mentor_full_name\": \"River Clark\", \"datetime\": \"2020-01-30T00:00:00\", \"feedback_outcome\": \"Negative\", \"vader_score\": -0.3164}, {\"ticket_id\": \"ko1E2MYFf5480k27\", \"mentor_id\": \"3s811p68crqH8B5z\", \"mentee_id\": \"fo76Oi46or816i8N\", \"feedback\": \"Thank you so much!\", \"mentee_first_name\": \"Taylor\", \"mentee_last_name\": \"Ward\", \"mentee_full_name\": \"Taylor Ward\", \"mentor_first_name\": \"Wayne\", \"mentor_last_name\": \"Howard\", \"mentor_full_name\": \"Wayne Howard\", \"datetime\": \"2020-01-04T00:00:00\", \"feedback_outcome\": \"Positive\", \"vader_score\": 0.4199}, {\"ticket_id\": \"8B1v44L3667FufuY\", \"mentor_id\": \"yC6d561OJiK355j5\", \"mentee_id\": \"353A6snEGf3456ZU\", \"feedback\": \"iam soooo happy to joined to this course which help me to evaluate my skills and increase it\", \"mentee_first_name\": \"Anahi\", \"mentee_last_name\": \"Carter\", \"mentee_full_name\": \"Anahi Carter\", \"mentor_first_name\": \"Brooke\", \"mentor_last_name\": \"Garcia\", \"mentor_full_name\": \"Brooke Garcia\", \"datetime\": \"2020-06-16T00:00:00\", \"feedback_outcome\": \"Positive\", \"vader_score\": 0.8271}, {\"ticket_id\": \"51o4I50Qn1e31DQP\", \"mentor_id\": \"eA81PAI415m8Tw61\", \"mentee_id\": \"1j1AL4W5cto736d1\", \"feedback\": \"Awesome Course. It was quite challenging though\", \"mentee_first_name\": \"Claire\", \"mentee_last_name\": \"Cox\", \"mentee_full_name\": \"Claire Cox\", \"mentor_first_name\": \"Callan\", \"mentor_last_name\": \"Jackson\", \"mentor_full_name\": \"Callan Jackson\", \"datetime\": \"2020-12-11T00:00:00\", \"feedback_outcome\": \"Positive\", \"vader_score\": 0.7178}, {\"ticket_id\": \"yjt2g5DKs53H5275\", \"mentor_id\": \"J4o388P4plF5RY70\", \"mentee_id\": \"87Af0A6c3k262HpM\", \"feedback\": \"Good information!\", \"mentee_first_name\": \"Hellen\", \"mentee_last_name\": \"Heinz\", \"mentee_full_name\": \"Hellen Heinz\", \"mentor_first_name\": \"Salvatore\", \"mentor_last_name\": \"Brooks\", \"mentor_full_name\": \"Salvatore Brooks\", \"datetime\": \"2020-09-29T00:00:00\", \"feedback_outcome\": \"Positive\", \"vader_score\": 0.4926}, {\"ticket_id\": \"b7oR6hs087Rvq843\", \"mentor_id\": \"U0o85d0ytk780Ml2\", \"mentee_id\": \"ZY7Q4N02536cQgW4\", \"feedback\": \"This is the first English course I have taken.Though at first it was kind of difficulty because of language(especially the terms) and profession knowledge(it is a comprehensive course and I am still learning courses concerned at school)the course is really worth taking. I have learned a lot .and it stimulates my interest in accounting.\", \"mentee_first_name\": \"Alora\", \"mentee_last_name\": \"Castillo\", \"mentee_full_name\": \"Alora Castillo\", \"mentor_first_name\": \"Amias\", \"mentor_last_name\": \"Ward\", \"mentor_full_name\": \"Amias Ward\", \"datetime\": \"2020-08-27T00:00:00\", \"feedback_outcome\": \"Positive\", \"vader_score\": 0.6705}, {\"ticket_id\": \"S2pc8Y7A51x137xC\", \"mentor_id\": \"8lC6bv1xtG1046M6\", \"mentee_id\": \"4o5C28M8iQ43m6Ij\", \"feedback\": \"Fun and interesting course. I learned a lot, despite already being a Live user. Reviewing the assignments of other course-takers widened my horizons and helped me gain valuable insights.\", \"mentee_first_name\": \"Denise\", \"mentee_last_name\": \"Anderson\", \"mentee_full_name\": \"Denise Anderson\", \"mentor_first_name\": \"Sabrina\", \"mentor_last_name\": \"Richardson\", \"mentor_full_name\": \"Sabrina Richardson\", \"datetime\": \"2020-03-03T00:00:00\", \"feedback_outcome\": \"Positive\", \"vader_score\": 0.91}, {\"ticket_id\": \"7q68M2W54HWDh77f\", \"mentor_id\": \"J4o388P4plF5RY70\", \"mentee_id\": \"ms51lG223p6D87hp\", \"feedback\": \"V difficult, but rewarding!I did not get the grade I thought I would in this class...but I learned a lot more than I thought I could! Very in depth and thorough, I think I value the knowledge I received more than the sub-par grade I received. ;)\", \"mentee_first_name\": \"Dream\", \"mentee_last_name\": \"Torres\", \"mentee_full_name\": \"Dream Torres\", \"mentor_first_name\": \"Salvatore\", \"mentor_last_name\": \"Brooks\", \"mentor_full_name\": \"Salvatore Brooks\", \"datetime\": \"2020-07-31T00:00:00\", \"feedback_outcome\": \"Positive\", \"vader_score\": 0.6467}, {\"ticket_id\": \"F74056vI21T4kKmE\", \"mentor_id\": \"Kks6ET762z5N4Y53\", \"mentee_id\": \"aR5084wT662PN8nF\", \"feedback\": \"work motivational, very clear, well structured on a steady groove ... excellent!\", \"mentee_first_name\": \"Mckinley\", \"mentee_last_name\": \"Lee\", \"mentee_full_name\": \"Mckinley Lee\", \"mentor_first_name\": \"Charley\", \"mentor_last_name\": \"Watson\", \"mentor_full_name\": \"Charley Watson\", \"datetime\": \"2020-11-29T00:00:00\", \"feedback_outcome\": \"Positive\", \"vader_score\": 0.8505}, {\"ticket_id\": \"40tx0M65P3sj6b0g\", \"mentor_id\": \"86Wi7iP0OI646qQ4\", \"mentee_id\": \"2k8j3802WG1WtB1Y\", \"feedback\": \"Great review of what can be accomplished through 3D printing.\", \"mentee_first_name\": \"Canaan\", \"mentee_last_name\": \"Watson\", \"mentee_full_name\": \"Canaan Watson\", \"mentor_first_name\": \"Arabella\", \"mentor_last_name\": \"Hughes\", \"mentor_full_name\": \"Arabella Hughes\", \"datetime\": \"2020-03-01T00:00:00\", \"feedback_outcome\": \"Positive\", \"vader_score\": 0.7906}, {\"ticket_id\": \"3344poCe2B6S83na\", \"mentor_id\": \"UY340CfO5dJ2S210\", \"mentee_id\": \"yK1X13TlMF0c2571\", \"feedback\": \"Great course. I enjoyed learning the material.\", \"mentee_first_name\": \"Zander\", \"mentee_last_name\": \"Clark\", \"mentee_full_name\": \"Zander Clark\", \"mentor_first_name\": \"Jerry\", \"mentor_last_name\": \"Reed\", \"mentor_full_name\": \"Jerry Reed\", \"datetime\": \"2020-02-07T00:00:00\", \"feedback_outcome\": \"Positive\", \"vader_score\": 0.8126}, {\"ticket_id\": \"85g2P3ldex7d785c\", \"mentor_id\": \"yC6d561OJiK355j5\", \"mentee_id\": \"w11yyU6UE04Uk831\", \"feedback\": \"The instructor does an excellent job, but realistically there is no way to be proficient enough in a 3D software program after a week or two to earn a certificate. The certificate is worthless in my opinion. I liked the class but it seemed more like intro vs. a class of any proficiency required.\", \"mentee_first_name\": \"Nadia\", \"mentee_last_name\": \"Gray\", \"mentee_full_name\": \"Nadia Gray\", \"mentor_first_name\": \"Brooke\", \"mentor_last_name\": \"Garcia\", \"mentor_full_name\": \"Brooke Garcia\", \"datetime\": \"2020-03-09T00:00:00\", \"feedback_outcome\": \"Positive\", \"vader_score\": 0.4748}, {\"ticket_id\": \"L142X5HFJu8wJ638\", \"mentor_id\": \"72nzNC54886hd4hH\", \"mentee_id\": \"2k8j3802WG1WtB1Y\", \"feedback\": \"The topics are really interesting and advanced! However, there's a lot of talk in chinese, due to questions/answers from teacher and students, and the quizzes are a bit too easy. I learned a lot though.\", \"mentee_first_name\": \"Canaan\", \"mentee_last_name\": \"Watson\", \"mentee_full_name\": \"Canaan Watson\", \"mentor_first_name\": \"Natalie\", \"mentor_last_name\": \"Bailey\", \"mentor_full_name\": \"Natalie Bailey\", \"datetime\": \"2020-07-06T00:00:00\", \"feedback_outcome\": \"Positive\", \"vader_score\": 0.8151}, {\"ticket_id\": \"lv758F780QWJ1y3b\", \"mentor_id\": \"Kks6ET762z5N4Y53\", \"mentee_id\": \"T26wb738Nj14k1UJ\", \"feedback\": \"I am very glad to see courses like this one on Coursera. The course itself is well structured and contains a lot of useful information and that is exactly what I needed in one place.My only complaint is the price of the course - I think it is a bit expensive especially for this first part of the specialisation - it is an introductory two week course with a lot of advertising...\\u00a340..common..are you serious?? A lot of people will buy personal 3D printers or kits after the course, some of them will make a decision to buy a 3D printer for a company they work for (as myself), Fusion 360 subscriptions etc. These companies should sponsor such courses to make them more affordable - it is their interest.I made several courses on Coursera already (Mechanical and Electrical Engineering), they were 5 to 8 weeks and comprised a lot of quite hard work from mentors and students and were only \\u00a332 for certificate.I like the idea of this specialisation but I decided not to pay for the certificate because of its price. Although I am very happy to have access to the courses and I thank you for you effort!\", \"mentee_first_name\": \"Tessa\", \"mentee_last_name\": \"Morales\", \"mentee_full_name\": \"Tessa Morales\", \"mentor_first_name\": \"Charley\", \"mentor_last_name\": \"Watson\", \"mentor_full_name\": \"Charley Watson\", \"datetime\": \"2020-09-18T00:00:00\", \"feedback_outcome\": \"Positive\", \"vader_score\": 0.9421}, {\"ticket_id\": \"5cD4c8T24N61K6Yk\", \"mentor_id\": \"R4Ss15q506FH18zt\", \"mentee_id\": \"2k8j3802WG1WtB1Y\", \"feedback\": \"Thank you so much!\", \"mentee_first_name\": \"Canaan\", \"mentee_last_name\": \"Watson\", \"mentee_full_name\": \"Canaan Watson\", \"mentor_first_name\": \"Blakely\", \"mentor_last_name\": \"Sanders\", \"mentor_full_name\": \"Blakely Sanders\", \"datetime\": \"2020-12-24T00:00:00\", \"feedback_outcome\": \"Positive\", \"vader_score\": 0.4199}, {\"ticket_id\": \"BKN626QB3h268C5U\", \"mentor_id\": \"h8Y752S7P3A0T0na\", \"mentee_id\": \"Gp583FzBb5L41n15\", \"feedback\": \"Very insightful topic! A good overview of the use of analytics in accounting!\", \"mentee_first_name\": \"Hana\", \"mentee_last_name\": \"Cook\", \"mentee_full_name\": \"Hana Cook\", \"mentor_first_name\": \"Arielle\", \"mentor_last_name\": \"Kim\", \"mentor_full_name\": \"Arielle Kim\", \"datetime\": \"2020-11-23T00:00:00\", \"feedback_outcome\": \"Positive\", \"vader_score\": 0.5399}, {\"ticket_id\": \"11hYV7383dnN87Lm\", \"mentor_id\": \"R4Ss15q506FH18zt\", \"mentee_id\": \"S1G22L34k838Uzji\", \"feedback\": \"Great! As always great lectures by professor Bushee!\", \"mentee_first_name\": \"Ezekiel\", \"mentee_last_name\": \"Morris\", \"mentee_full_name\": \"Ezekiel Morris\", \"mentor_first_name\": \"Blakely\", \"mentor_last_name\": \"Sanders\", \"mentor_full_name\": \"Blakely Sanders\", \"datetime\": \"2020-03-06T00:00:00\", \"feedback_outcome\": \"Positive\", \"vader_score\": 0.8684}, {\"ticket_id\": \"oc88q60dzN8407SJ\", \"mentor_id\": \"8lC6bv1xtG1046M6\", \"mentee_id\": \"L57x1gj8065Dj7Wt\", \"feedback\": \"I wanted to give only 4 stars because of the all the \\u201cproblems\\u201d we encountered, but then we are learners investigating problem solving by design thinking. We can handle whatever comes, so the fifth star is for us. We are shaping this course by contributing to forums. Presumably we are ten thousand strong, let\\u2019s improve our worldwide voice by saying something on forms so we can get what we need and want we want also to stay on the cutting edge of reality.\", \"mentee_first_name\": \"Lawrence\", \"mentee_last_name\": \"Jones\", \"mentee_full_name\": \"Lawrence Jones\", \"mentor_first_name\": \"Sabrina\", \"mentor_last_name\": \"Richardson\", \"mentor_full_name\": \"Sabrina Richardson\", \"datetime\": \"2020-05-01T00:00:00\", \"feedback_outcome\": \"Positive\", \"vader_score\": 0.8402}, {\"ticket_id\": \"U80iJ757IvuA8Y60\", \"mentor_id\": \"yC6d561OJiK355j5\", \"mentee_id\": \"PaXo0715VWy1351r\", \"feedback\": \"Very good intro to 3d printed.\", \"mentee_first_name\": \"Jaden\", \"mentee_last_name\": \"Chavez\", \"mentee_full_name\": \"Jaden Chavez\", \"mentor_first_name\": \"Brooke\", \"mentor_last_name\": \"Garcia\", \"mentor_full_name\": \"Brooke Garcia\", \"datetime\": \"2020-06-09T00:00:00\", \"feedback_outcome\": \"Positive\", \"vader_score\": 0.4927}, {\"ticket_id\": \"lF1cPb68U850tD56\", \"mentor_id\": \"670wl1MU23z4fYh7\", \"mentee_id\": \"ms51lG223p6D87hp\", \"feedback\": \"The course makes accounting interesting and especially the examples are very illustrative. Virtual students bring some fun. The 4th week is however really integrated in the course structure.\", \"mentee_first_name\": \"Dream\", \"mentee_last_name\": \"Torres\", \"mentee_full_name\": \"Dream Torres\", \"mentor_first_name\": \"Robin\", \"mentor_last_name\": \"Jones\", \"mentor_full_name\": \"Robin Jones\", \"datetime\": \"2020-12-17T00:00:00\", \"feedback_outcome\": \"Positive\", \"vader_score\": 0.7184}, {\"ticket_id\": \"t168P43J13tEll4w\", \"mentor_id\": \"L2t7h5Q1O35w40rx\", \"mentee_id\": \"0g4I3l8RC0Mue531\", \"feedback\": \"If only it was a week longer.\", \"mentee_first_name\": \"Zariah\", \"mentee_last_name\": \"Hughes\", \"mentee_full_name\": \"Zariah Hughes\", \"mentor_first_name\": \"Denisse\", \"mentor_last_name\": \"Martinez\", \"mentor_full_name\": \"Denisse Martinez\", \"datetime\": \"2020-02-07T00:00:00\", \"feedback_outcome\": \"Neutral\", \"vader_score\": 0.0}, {\"ticket_id\": \"m5r014d3h57ravd0\", \"mentor_id\": \"630lhQ431nA0Nz3s\", \"mentee_id\": \"yG8z814u6Pw25Z8B\", \"feedback\": \"I've know many skills in competition with many true cases. Thanks!\", \"mentee_first_name\": \"Abraham\", \"mentee_last_name\": \"Hall\", \"mentee_full_name\": \"Abraham Hall\", \"mentor_first_name\": \"Layne\", \"mentor_last_name\": \"Morris\", \"mentor_full_name\": \"Layne Morris\", \"datetime\": \"2020-08-18T00:00:00\", \"feedback_outcome\": \"Positive\", \"vader_score\": 0.7177}, {\"ticket_id\": \"4R27M0tgVay57w84\", \"mentor_id\": \"h8Y752S7P3A0T0na\", \"mentee_id\": \"h0OSv063IdUM1860\", \"feedback\": \"Very useful for understanding the basics of 3D printing technology.\", \"mentee_first_name\": \"Adrian\", \"mentee_last_name\": \"Gutierrez\", \"mentee_full_name\": \"Adrian Gutierrez\", \"mentor_first_name\": \"Arielle\", \"mentor_last_name\": \"Kim\", \"mentor_full_name\": \"Arielle Kim\", \"datetime\": \"2020-04-08T00:00:00\", \"feedback_outcome\": \"Positive\", \"vader_score\": 0.4927}, {\"ticket_id\": \"Lx4C75n8dAO642s5\", \"mentor_id\": \"mg3W02iR15j3w85K\", \"mentee_id\": \"2Dkq2jr8525Q2fF7\", \"feedback\": \"Very helpful\", \"mentee_first_name\": \"Aliyah\", \"mentee_last_name\": \"Green\", \"mentee_full_name\": \"Aliyah Green\", \"mentor_first_name\": \"Pete\", \"mentor_last_name\": \"Peterson\", \"mentor_full_name\": \"Pete Peterson\", \"datetime\": \"2020-03-29T00:00:00\", \"feedback_outcome\": \"Positive\", \"vader_score\": 0.4754}, {\"ticket_id\": \"5573K40xN5GUlA8C\", \"mentor_id\": \"R4Ss15q506FH18zt\", \"mentee_id\": \"T26wb738Nj14k1UJ\", \"feedback\": \"Very informative an approachable course. I really like the way Aric presents the information. I am excited to complete the rest of the Specialization.\", \"mentee_first_name\": \"Tessa\", \"mentee_last_name\": \"Morales\", \"mentee_full_name\": \"Tessa Morales\", \"mentor_first_name\": \"Blakely\", \"mentor_last_name\": \"Sanders\", \"mentor_full_name\": \"Blakely Sanders\", \"datetime\": \"2020-06-25T00:00:00\", \"feedback_outcome\": \"Positive\", \"vader_score\": 0.6361}, {\"ticket_id\": \"o4u5y7q6Sw3iW764\", \"mentor_id\": \"qt64H1zC3z68h4L7\", \"mentee_id\": \"01k40nHCD3MW3c40\", \"feedback\": \"I would add more examples on how to populate the data, even spend time on optional videos where the professor or his assistant goes through testing ratios (something similar to Operations Analytics). I feel like the professor was rushing through his explanations and the models. Maybe people found the course very useful however I felt like there was too much text and immediate switch to Excel file that was elaborated shortly. Overall, I am not sure how to apply these ratios in my final project...\", \"mentee_first_name\": \"Adaline\", \"mentee_last_name\": \"Reyes\", \"mentee_full_name\": \"Adaline Reyes\", \"mentor_first_name\": \"Nadia\", \"mentor_last_name\": \"Reyes\", \"mentor_full_name\": \"Nadia Reyes\", \"datetime\": \"2020-03-20T00:00:00\", \"feedback_outcome\": \"Positive\", \"vader_score\": 0.8493}, {\"ticket_id\": \"5V15k63Qql28UUC3\", \"mentor_id\": \"470KQ6il1DzVH757\", \"mentee_id\": \"u2Q3Szc7511be56h\", \"feedback\": \"Don't recommend.You're better off skimming through the ableton manual and using the search function to get the answers you want.\", \"mentee_first_name\": \"Brett\", \"mentee_last_name\": \"Johnson\", \"mentee_full_name\": \"Brett Johnson\", \"mentor_first_name\": \"River\", \"mentor_last_name\": \"Clark\", \"mentor_full_name\": \"River Clark\", \"datetime\": \"2020-01-23T00:00:00\", \"feedback_outcome\": \"Neutral\", \"vader_score\": -0.2746}, {\"ticket_id\": \"4fk6bx2d01k833Nx\", \"mentor_id\": \"670wl1MU23z4fYh7\", \"mentee_id\": \"fo76Oi46or816i8N\", \"feedback\": \"it could be easily compressed in a two-weeks course.Sometimes interviews are too long for what they need to explain.\", \"mentee_first_name\": \"Taylor\", \"mentee_last_name\": \"Ward\", \"mentee_full_name\": \"Taylor Ward\", \"mentor_first_name\": \"Robin\", \"mentor_last_name\": \"Jones\", \"mentor_full_name\": \"Robin Jones\", \"datetime\": \"2020-04-25T00:00:00\", \"feedback_outcome\": \"Positive\", \"vader_score\": 0.34}, {\"ticket_id\": \"3ZzNw02Zvu61D771\", \"mentor_id\": \"qt64H1zC3z68h4L7\", \"mentee_id\": \"yk722ZDzO7N6365j\", \"feedback\": \"It is very nice for people are starting with abletobn program\", \"mentee_first_name\": \"Tyler\", \"mentee_last_name\": \"Clark\", \"mentee_full_name\": \"Tyler Clark\", \"mentor_first_name\": \"Nadia\", \"mentor_last_name\": \"Reyes\", \"mentor_full_name\": \"Nadia Reyes\", \"datetime\": \"2020-02-07T00:00:00\", \"feedback_outcome\": \"Positive\", \"vader_score\": 0.4754}, {\"ticket_id\": \"MD378K50C8N5L4aj\", \"mentor_id\": \"eA81PAI415m8Tw61\", \"mentee_id\": \"fo76Oi46or816i8N\", \"feedback\": \"Really useful for beginners!!\", \"mentee_first_name\": \"Taylor\", \"mentee_last_name\": \"Ward\", \"mentee_full_name\": \"Taylor Ward\", \"mentor_first_name\": \"Callan\", \"mentor_last_name\": \"Jackson\", \"mentor_full_name\": \"Callan Jackson\", \"datetime\": \"2020-08-01T00:00:00\", \"feedback_outcome\": \"Positive\", \"vader_score\": 0.5827}, {\"ticket_id\": \"0VJZj4d4E605Di87\", \"mentor_id\": \"86Wi7iP0OI646qQ4\", \"mentee_id\": \"aR5084wT662PN8nF\", \"feedback\": \"Good content but the Chinese translation is bad, which makes quiz quite obscure in meaning\", \"mentee_first_name\": \"Mckinley\", \"mentee_last_name\": \"Lee\", \"mentee_full_name\": \"Mckinley Lee\", \"mentor_first_name\": \"Arabella\", \"mentor_last_name\": \"Hughes\", \"mentor_full_name\": \"Arabella Hughes\", \"datetime\": \"2020-10-02T00:00:00\", \"feedback_outcome\": \"Negative\", \"vader_score\": -0.5859}, {\"ticket_id\": \"2fBl515Z75P31GDK\", \"mentor_id\": \"72nzNC54886hd4hH\", \"mentee_id\": \"27RG2N24cxW3z7O7\", \"feedback\": \"Great thanks for Dr.aric ,who has a smiley face ,If any one enrolled this course ,he would get a great knowledge and usefull information about 3d printing or addtive manufacturing ,throw a simple & exciting videos ,not only that ,you would get another benefits not only information about 3d priting ,like ,getting knowledge of many companies from the inside ,see stories of successfull people which achieves you to keep up with your work ,meet with your colleagues and make new friends ,and finally grow up your english skills ,like listening and grow up your vocabulary .....Great thaks for coursera team ,it's our pleasure to learn with you ........\", \"mentee_first_name\": \"Maverick\", \"mentee_last_name\": \"Clark\", \"mentee_full_name\": \"Maverick Clark\", \"mentor_first_name\": \"Natalie\", \"mentor_last_name\": \"Bailey\", \"mentor_full_name\": \"Natalie Bailey\", \"datetime\": \"2020-10-28T00:00:00\", \"feedback_outcome\": \"Positive\", \"vader_score\": 0.9877}, {\"ticket_id\": \"V3V741mxkpV5716Z\", \"mentor_id\": \"mg3W02iR15j3w85K\", \"mentee_id\": \"yK1X13TlMF0c2571\", \"feedback\": \"This is a great course for people who do not know Ableton. The exercises were easy to understand.\", \"mentee_first_name\": \"Zander\", \"mentee_last_name\": \"Clark\", \"mentee_full_name\": \"Zander Clark\", \"mentor_first_name\": \"Pete\", \"mentor_last_name\": \"Peterson\", \"mentor_full_name\": \"Pete Peterson\", \"datetime\": \"2020-03-10T00:00:00\", \"feedback_outcome\": \"Positive\", \"vader_score\": 0.7906}, {\"ticket_id\": \"7013E7h1b8MG5Apt\", \"mentor_id\": \"630lhQ431nA0Nz3s\", \"mentee_id\": \"b3F1LSxu6DT37783\", \"feedback\": \"Great thanks for Dr.aric ,who has a smiley face ,If any one enrolled this course ,he would get a great knowledge and usefull information about 3d printing or addtive manufacturing ,throw a simple & exciting videos ,not only that ,you would get another benefits not only information about 3d priting ,like ,getting knowledge of many companies from the inside ,see stories of successfull people which achieves you to keep up with your work ,meet with your colleagues and make new friends ,and finally grow up your english skills ,like listening and grow up your vocabulary .....Great thaks for coursera team ,it's our pleasure to learn with you ........\", \"mentee_first_name\": \"Conner\", \"mentee_last_name\": \"Sanchez\", \"mentee_full_name\": \"Conner Sanchez\", \"mentor_first_name\": \"Layne\", \"mentor_last_name\": \"Morris\", \"mentor_full_name\": \"Layne Morris\", \"datetime\": \"2020-10-05T00:00:00\", \"feedback_outcome\": \"Positive\", \"vader_score\": 0.9877}, {\"ticket_id\": \"762WtMG1Fe10t6i5\", \"mentor_id\": \"R4Ss15q506FH18zt\", \"mentee_id\": \"4Yh83MOA8H5V7G01\", \"feedback\": \"Excellent course, first 3 weeks were very technical but highly informative. Quite a bit of accounting knowledge is required to understand the work. Last week of lessons were more simple and intuitive to understand, but overall, a very insightful module\", \"mentee_first_name\": \"Anika\", \"mentee_last_name\": \"Jackson\", \"mentee_full_name\": \"Anika Jackson\", \"mentor_first_name\": \"Blakely\", \"mentor_last_name\": \"Sanders\", \"mentor_full_name\": \"Blakely Sanders\", \"datetime\": \"2020-05-29T00:00:00\", \"feedback_outcome\": \"Positive\", \"vader_score\": 0.3291}, {\"ticket_id\": \"P00l866BJa4B2UO6\", \"mentor_id\": \"h8Y752S7P3A0T0na\", \"mentee_id\": \"5B6C653Z77V4GxcW\", \"feedback\": \"It's not a course... this is a very short general introduction to 3D Printing\", \"mentee_first_name\": \"Keegan\", \"mentee_last_name\": \"Adams\", \"mentee_full_name\": \"Keegan Adams\", \"mentor_first_name\": \"Arielle\", \"mentor_last_name\": \"Kim\", \"mentor_full_name\": \"Arielle Kim\", \"datetime\": \"2020-10-22T00:00:00\", \"feedback_outcome\": \"Neutral\", \"vader_score\": 0.0}, {\"ticket_id\": \"v7D3I30GiZX31j31\", \"mentor_id\": \"L2t7h5Q1O35w40rx\", \"mentee_id\": \"4o5C28M8iQ43m6Ij\", \"feedback\": \"This is a very basic course on 3D Printing Technology but every aspect of the technology is artistically explained. All the various points of view are considered and a 360 degree idea is passed on to the students.By taking this course, students who are contemplating about their involvement in this revolutionary technology will be able to finally decide their future course of action, which I believe will be positive.In short, this course will provide you a base whereas the further courses, I think (as I haven't taken up the rest of the courses till now but I intend to) will add sufficient value to your knowledge.Regards.\", \"mentee_first_name\": \"Denise\", \"mentee_last_name\": \"Anderson\", \"mentee_full_name\": \"Denise Anderson\", \"mentor_first_name\": \"Denisse\", \"mentor_last_name\": \"Martinez\", \"mentor_full_name\": \"Denisse Martinez\", \"datetime\": \"2020-04-12T00:00:00\", \"feedback_outcome\": \"Positive\", \"vader_score\": 0.4767}]}}, {\"mode\": \"vega-lite\"});\n",
              "</script>"
            ],
            "text/plain": [
              "alt.Chart(...)"
            ]
          },
          "metadata": {},
          "execution_count": 62
        }
      ]
    }
  ],
  "metadata": {
    "colab": {
      "collapsed_sections": [],
      "name": "Feedback_Visualization_For_ Mentors_Sample.ipynb",
      "provenance": []
    },
    "gpuClass": "standard",
    "kernelspec": {
      "display_name": "Python 3 (ipykernel)",
      "language": "python",
      "name": "python3"
    },
    "language_info": {
      "codemirror_mode": {
        "name": "ipython",
        "version": 3
      },
      "file_extension": ".py",
      "mimetype": "text/x-python",
      "name": "python",
      "nbconvert_exporter": "python",
      "pygments_lexer": "ipython3",
      "version": "3.9.7"
    }
  },
  "nbformat": 4,
  "nbformat_minor": 0
}