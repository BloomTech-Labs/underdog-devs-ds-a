{
 "cells": [
  {
   "cell_type": "code",
   "execution_count": 139,
   "metadata": {},
   "outputs": [],
   "source": [
    "import pandas as pd\n",
    "import numpy as np\n",
    "import scipy as sp\n",
    "from sklearn.neighbors import NearestNeighbors\n",
    "import ast\n"
   ]
  },
  {
   "cell_type": "code",
   "execution_count": 140,
   "metadata": {},
   "outputs": [],
   "source": [
    "mentors = pd.read_csv('../generated_data/mentor.csv', usecols=lambda c: not c.startswith('Unnamed:'))\n",
    "mentees = pd.read_csv('../generated_data/mentee.csv', usecols=lambda c: not c.startswith('Unnamed:'))"
   ]
  },
  {
   "cell_type": "code",
   "execution_count": 141,
   "metadata": {},
   "outputs": [],
   "source": [
    "def ohe(mentors, mentees):\n",
    "    mentees.drop(columns=['first_name', 'last_name'], inplace=True)\n",
    "    mentees['profile_id'] = mentees['profile_id'].apply(lambda str: str.split('#')[1])    \n",
    "    mentees.set_index('profile_id', inplace=True)\n",
    "    \n",
    "    mentees = mentees.join(mentees['time_zone'].apply(pd.Series).stack().str.get_dummies().groupby(level=0).sum())\n",
    "    mentees.drop(columns='time_zone', inplace=True)\n",
    "\n",
    "    mentees = mentees.join(mentees['skill_rank'].apply(pd.Series).stack().str.get_dummies().groupby(level=0).sum())\n",
    "    mentees.drop(columns='skill_rank', inplace=True)\n",
    "\n",
    "    mentees['tech_or_career'] = mentees['tech_or_career'].apply(ast.literal_eval)\n",
    "    mentees = mentees.join(mentees['tech_or_career'].apply(pd.Series).stack().str.get_dummies().groupby(level=0).sum())\n",
    "    mentees.drop(columns='tech_or_career', inplace=True)\n",
    "\n",
    "\n",
    "    mentees['skills'] = mentees['skills'].apply(ast.literal_eval)\n",
    "    mentees = mentees.join(mentees['skills'].apply(pd.Series).stack().str.get_dummies().groupby(level=0).sum())\n",
    "    mentees.drop(columns='skills', inplace=True)\n",
    "\n",
    "    mentors.drop(columns=['first_name', 'last_name'], inplace=True)\n",
    "    mentors['profile_id'] = mentors['profile_id'].apply(lambda str: str.split('#')[1])    \n",
    "    mentors.set_index('profile_id', inplace=True)\n",
    "    \n",
    "    mentors = mentors.join(mentors['time_zone'].apply(pd.Series).stack().str.get_dummies().groupby(level=0).sum())\n",
    "    mentors.drop(columns='time_zone', inplace=True)\n",
    "\n",
    "    mentors['skill_rank'] = mentors['skill_rank'].apply(ast.literal_eval)\n",
    "    mentors = mentors.join(mentors['skill_rank'].apply(pd.Series).stack().str.get_dummies().groupby(level=0).sum())\n",
    "    mentors.drop(columns='skill_rank', inplace=True)\n",
    "\n",
    "    mentors['tech_or_career'] = mentors['tech_or_career'].apply(ast.literal_eval)\n",
    "    mentors = mentors.join(mentors['tech_or_career'].apply(pd.Series).stack().str.get_dummies().groupby(level=0).sum())\n",
    "    mentors.drop(columns='tech_or_career', inplace=True)\n",
    "\n",
    "\n",
    "    mentors['skills'] = mentors['skills'].apply(ast.literal_eval)\n",
    "    mentors = mentors.join(mentors['skills'].apply(pd.Series).stack().str.get_dummies().groupby(level=0).sum())\n",
    "    mentors.drop(columns='skills', inplace=True)\n",
    "    return mentors, mentees"
   ]
  },
  {
   "cell_type": "code",
   "execution_count": 142,
   "metadata": {},
   "outputs": [],
   "source": [
    "mentors, mentees = ohe(mentors, mentees)"
   ]
  },
  {
   "cell_type": "code",
   "execution_count": 150,
   "metadata": {},
   "outputs": [],
   "source": [
    "#generate a fake review matrix\n",
    "reviews = sp.sparse.random(mentees.shape[0], mentors.shape[0], density=0.1, random_state=42)\n",
    "reviews = pd.DataFrame(reviews.todense(), index=mentees.index, columns=mentors.index)"
   ]
  },
  {
   "cell_type": "code",
   "execution_count": 161,
   "metadata": {},
   "outputs": [],
   "source": [
    "combined = reviews.merge(mentees, left_on = 'profile_id', right_on = 'profile_id', how = 'left')\n"
   ]
  },
  {
   "cell_type": "code",
   "execution_count": 183,
   "metadata": {},
   "outputs": [
    {
     "data": {
      "text/plain": [
       "Index(['11996681750350', '35370095635796', '669953825711', '42936362672176',\n",
       "       '63309130194498', '15095524536358', '33900753313979', '31786410112246',\n",
       "       '51254476683696', '8732351419446', '6779804862565', '45253072381561',\n",
       "       '78965207533', '63230246147329', '53556494378032', '15739495146142',\n",
       "       '7743178596546', '58951482985289', '27742392291718', '29322709338287',\n",
       "       '63121684978234', '65206608419743', '66361726368093', '15717367537539',\n",
       "       '55424401629879', '13277216717264', '68341711426252', '33504899213232',\n",
       "       '25031268776199', '8284601696244', 'Central', 'Eastern', 'Mountain',\n",
       "       'Pacific', 'Advanced', 'Beginner', 'Expert', 'Intermediate',\n",
       "       'Career Preparation', 'Technical', 'Android', 'Angular', 'Axios', 'C#',\n",
       "       'C++', 'CSS', 'Django', 'HTML', 'IOS', 'Java', 'JavaScript',\n",
       "       'Microsoft Azure', 'MongoDB', 'Node.JS', 'PHP', 'PostgreSQL', 'Python',\n",
       "       'React', 'Ruby', 'SQL'],\n",
       "      dtype='object')"
      ]
     },
     "execution_count": 183,
     "metadata": {},
     "output_type": "execute_result"
    }
   ],
   "source": [
    "combined.columns"
   ]
  },
  {
   "cell_type": "code",
   "execution_count": 163,
   "metadata": {},
   "outputs": [
    {
     "data": {
      "text/plain": [
       "Index(['Central', 'Eastern', 'Mountain', 'Pacific', 'Advanced', 'Beginner',\n",
       "       'Expert', 'Intermediate', 'Career Preparation', 'Technical', 'Android',\n",
       "       'Angular', 'Axios', 'C#', 'C++', 'CSS', 'Django', 'HTML', 'IOS', 'Java',\n",
       "       'JavaScript', 'Microsoft Azure', 'MongoDB', 'Node.JS', 'PHP',\n",
       "       'PostgreSQL', 'Python', 'React', 'Ruby', 'SQL'],\n",
       "      dtype='object')"
      ]
     },
     "execution_count": 163,
     "metadata": {},
     "output_type": "execute_result"
    }
   ],
   "source": [
    "mentees.columns"
   ]
  },
  {
   "cell_type": "code",
   "execution_count": 180,
   "metadata": {},
   "outputs": [],
   "source": [
    "def create_model(df, neighbors_number):\n",
    "    model = NearestNeighbors(n_neighbors=min(\n",
    "        neighbors_number+1, df.shape[0]))\n",
    "    model.fit(df)\n",
    "    return model"
   ]
  },
  {
   "cell_type": "code",
   "execution_count": 181,
   "metadata": {},
   "outputs": [],
   "source": [
    "model = create_model(combined, neighbors_number=10)"
   ]
  },
  {
   "cell_type": "code",
   "execution_count": 189,
   "metadata": {},
   "outputs": [],
   "source": [
    "test = np.array([0,0, 0, 0, 0, 0, 0, 0, 0, 0, 0, 0, 0, 0, 0, 0, 0, 0, 0, 0, 0, 0, 0, 0, 0, 0, 0, 0, 0, 0, 0,\n",
    "                0, 0, 1, 0, 1, 0, 0, 1, 1, 0, 0, 0, 1, 0, 0, 0, 0, 0, 0, 0, 0, 0, 0, 1, 0, 0, 1, 0, 0])\n"
   ]
  },
  {
   "cell_type": "code",
   "execution_count": 197,
   "metadata": {},
   "outputs": [
    {
     "name": "stderr",
     "output_type": "stream",
     "text": [
      "c:\\Dev\\python_envs\\tensorflow\\lib\\site-packages\\sklearn\\base.py:450: UserWarning: X does not have valid feature names, but NearestNeighbors was fitted with feature names\n",
      "  warnings.warn(\n"
     ]
    },
    {
     "data": {
      "text/plain": [
       "(array([[1.63332607, 1.78075732, 1.84047597, 2.04489126, 2.17889817,\n",
       "         2.19666162, 2.20802395, 2.23606798, 2.37898021, 2.42046274]]),\n",
       " array([[ 63,  12,  10,  14, 213, 198, 253, 278,  54,  80]], dtype=int64))"
      ]
     },
     "execution_count": 197,
     "metadata": {},
     "output_type": "execute_result"
    }
   ],
   "source": [
    "model.kneighbors([test], 10)"
   ]
  },
  {
   "cell_type": "code",
   "execution_count": 198,
   "metadata": {},
   "outputs": [
    {
     "data": {
      "text/plain": [
       "11996681750350        0.000000\n",
       "35370095635796        0.000000\n",
       "669953825711          0.000000\n",
       "42936362672176        0.000000\n",
       "63309130194498        0.000000\n",
       "15095524536358        0.000000\n",
       "33900753313979        0.000000\n",
       "31786410112246        0.000000\n",
       "51254476683696        0.000000\n",
       "8732351419446         0.000000\n",
       "6779804862565         0.000000\n",
       "45253072381561        0.000000\n",
       "78965207533           0.000000\n",
       "63230246147329        0.000000\n",
       "53556494378032        0.000000\n",
       "15739495146142        0.000000\n",
       "7743178596546         0.000000\n",
       "58951482985289        0.000000\n",
       "27742392291718        0.000000\n",
       "29322709338287        0.000000\n",
       "63121684978234        0.000000\n",
       "65206608419743        0.000000\n",
       "66361726368093        0.221451\n",
       "15717367537539        0.000000\n",
       "55424401629879        0.000000\n",
       "13277216717264        0.000000\n",
       "68341711426252        0.000000\n",
       "33504899213232        0.000000\n",
       "25031268776199        0.000000\n",
       "8284601696244         0.786583\n",
       "Central               0.000000\n",
       "Eastern               0.000000\n",
       "Mountain              0.000000\n",
       "Pacific               1.000000\n",
       "Advanced              0.000000\n",
       "Beginner              0.000000\n",
       "Expert                0.000000\n",
       "Intermediate          1.000000\n",
       "Career Preparation    1.000000\n",
       "Technical             1.000000\n",
       "Android               0.000000\n",
       "Angular               0.000000\n",
       "Axios                 0.000000\n",
       "C#                    1.000000\n",
       "C++                   0.000000\n",
       "CSS                   0.000000\n",
       "Django                0.000000\n",
       "HTML                  0.000000\n",
       "IOS                   0.000000\n",
       "Java                  0.000000\n",
       "JavaScript            0.000000\n",
       "Microsoft Azure       0.000000\n",
       "MongoDB               0.000000\n",
       "Node.JS               0.000000\n",
       "PHP                   1.000000\n",
       "PostgreSQL            0.000000\n",
       "Python                0.000000\n",
       "React                 1.000000\n",
       "Ruby                  0.000000\n",
       "SQL                   0.000000\n",
       "Name: 51342413413400, dtype: float64"
      ]
     },
     "execution_count": 198,
     "metadata": {},
     "output_type": "execute_result"
    }
   ],
   "source": [
    "combined.iloc[63]"
   ]
  },
  {
   "cell_type": "code",
   "execution_count": 227,
   "metadata": {},
   "outputs": [
    {
     "data": {
      "text/plain": [
       "Central               1\n",
       "Eastern               0\n",
       "Mountain              0\n",
       "Pacific               0\n",
       "Advanced              0\n",
       "Beginner              0\n",
       "Expert                1\n",
       "Intermediate          1\n",
       "Career Preparation    1\n",
       "Technical             1\n",
       "Android               0\n",
       "Angular               0\n",
       "Axios                 0\n",
       "C#                    1\n",
       "C++                   0\n",
       "CSS                   0\n",
       "Django                0\n",
       "HTML                  0\n",
       "IOS                   0\n",
       "Java                  1\n",
       "JavaScript            0\n",
       "Microsoft Azure       1\n",
       "MongoDB               1\n",
       "Node.JS               0\n",
       "PHP                   0\n",
       "PostgreSQL            0\n",
       "Python                0\n",
       "React                 0\n",
       "Ruby                  0\n",
       "SQL                   0\n",
       "Name: 8284601696244, dtype: int64"
      ]
     },
     "execution_count": 227,
     "metadata": {},
     "output_type": "execute_result"
    }
   ],
   "source": [
    "mentors.loc['8284601696244']"
   ]
  }
 ],
 "metadata": {
  "interpreter": {
   "hash": "37d6c31f8e907b49c5d0c74b05a8a654cbc5890d616258b341f3492d9c12f247"
  },
  "kernelspec": {
   "display_name": "Python 3.10.2 ('tensorflow')",
   "language": "python",
   "name": "python3"
  },
  "language_info": {
   "codemirror_mode": {
    "name": "ipython",
    "version": 3
   },
   "file_extension": ".py",
   "mimetype": "text/x-python",
   "name": "python",
   "nbconvert_exporter": "python",
   "pygments_lexer": "ipython3",
   "version": "3.10.2"
  },
  "orig_nbformat": 4
 },
 "nbformat": 4,
 "nbformat_minor": 2
}
