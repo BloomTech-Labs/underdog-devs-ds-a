@@ -1,33 +1,17 @@
{
 "nbformat": 4,
 "nbformat_minor": 0,
 "metadata": {
  "colab": {
   "name": "Underdogs_Meeting_Sentiment.ipynb",
   "provenance": [],
   "collapsed_sections": []
  },
  "kernelspec": {
   "name": "python3",
   "display_name": "Python 3"
  },
  "language_info": {
   "name": "python"
  }
 },
 "cells": [
  {
   "cell_type": "markdown",
   "metadata": {
    "id": "bemvbDSJNbQU"
   },
   "source": [
    "Sentiment Analysis Notebook:\n",
    "\n",
    "Apply Vader sentiment analysis to UnderDog Devs Meeting notes.\n",
    "\n",
    "Prepare dataframe with overall meeting sentiment scores in preparation for further analysis."
   ],
   "metadata": {
    "id": "bemvbDSJNbQU"
   }
   ]
  },
  {
   "cell_type": "code",
@ -41,8 +25,8 @@
   },
   "outputs": [
    {
     "output_type": "stream",
     "name": "stderr",
     "output_type": "stream",
     "text": [
      "/usr/local/lib/python3.7/dist-packages/nltk/twitter/__init__.py:20: UserWarning: The twython library has not been installed. Some functionality from the twitter package will not be available.\n",
      "  warnings.warn(\"The twython library has not been installed. \"\n"
@ -52,30 +36,28 @@
   "source": [
    "import requests\n",
    "import pandas as pd\n",
    "import altair as alt\n",
    "#import altair as alt\n",
    "import json\n",
    "import seaborn as sns\n",
    "\n",
    "# import nltk\n",
    "# nltk.download('vader_lexicon')\n",
    "#import nltk\n",
    "#nltk.download('vader_lexicon')\n",
    "from nltk.sentiment.vader import SentimentIntensityAnalyzer\n",
    "sid = SentimentIntensityAnalyzer()"
   ]
  },
  {
   "cell_type": "markdown",
   "source": [
    "Examples of Vader sentiment analysis"
   ],
   "metadata": {
    "id": "jXA8474YNZsP"
   }
   },
   "source": [
    "Examples of Vader sentiment analysis"
   ]
  },
  {
   "cell_type": "code",
   "source": [
    "neg_example = sid.polarity_scores(\"This sucks so much!\")\n",
    "neg_example"
   ],
   "execution_count": null,
   "metadata": {
    "colab": {
     "base_uri": "https://localhost:8080/"
@ -83,26 +65,26 @@
    "id": "5Qhv9cNGNv-r",
    "outputId": "a300ddd8-a21f-4048-c283-ab850778f5b1"
   },
   "execution_count": null,
   "outputs": [
    {
     "output_type": "execute_result",
     "data": {
      "text/plain": [
       "{'compound': -0.4199, 'neg': 0.482, 'neu': 0.518, 'pos': 0.0}"
      ]
     },
     "execution_count": 9,
     "metadata": {},
     "execution_count": 9
     "output_type": "execute_result"
    }
   ],
   "source": [
    "neg_example = sid.polarity_scores(\"This sucks so much!\")\n",
    "neg_example"
   ]
  },
  {
   "cell_type": "code",
   "source": [
    "pos_example = sid.polarity_scores(\"This is really great and awesome!\")['compound']\n",
    "pos_example"
   ],
   "execution_count": null,
   "metadata": {
    "colab": {
     "base_uri": "https://localhost:8080/"
@ -110,45 +92,46 @@
    "id": "-wXv5heTNxFU",
    "outputId": "38937f11-d5ac-4574-bb81-e8b737420241"
   },
   "execution_count": null,
   "outputs": [
    {
     "output_type": "execute_result",
     "data": {
      "text/plain": [
       "0.8764"
      ]
     },
     "execution_count": 10,
     "metadata": {},
     "execution_count": 10
     "output_type": "execute_result"
    }
   ],
   "source": [
    "pos_example = sid.polarity_scores(\"This is really great and awesome!\")['compound']\n",
    "pos_example"
   ]
  },
  {
   "cell_type": "markdown",
   "source": [
    "Pull meetings data"
   ],
   "metadata": {
    "id": "SEe8CArJO2zi"
   }
   },
   "source": [
    "Pull meetings data"
   ]
  },
  {
   "cell_type": "code",
   "source": [
    "df_meetings = pd.DataFrame(requests.post(\"http://underdog-devs-ds-a-dev.us-east-1.elasticbeanstalk.com/Meetings/read\").json()[\"result\"])"
   ],
   "execution_count": null,
   "metadata": {
    "id": "I1sirqozOUAt"
   },
   "execution_count": null,
   "outputs": []
   "outputs": [],
   "source": [
    "df_meetings = pd.DataFrame(requests.post(\"http://underdog-devs-ds-a-dev.us-east-1.elasticbeanstalk.com/Meetings/read\").json()[\"result\"])"
   ]
  },
  {
   "cell_type": "code",
   "source": [
    "print(df_meetings.head(), '\\n'*2, 'Shape: ', df_meetings.shape)"
   ],
   "execution_count": null,
   "metadata": {
    "colab": {
     "base_uri": "https://localhost:8080/"
@ -156,11 +139,10 @@
    "id": "AY-7P5HXPEwW",
    "outputId": "bade43bd-9236-4df6-f34d-e01df6d653cb"
   },
   "execution_count": null,
   "outputs": [
    {
     "output_type": "stream",
     "name": "stdout",
     "output_type": "stream",
     "text": [
      "         meeting_id           created_at           updated_at   meeting_topic  \\\n",
      "0  aE15d1P6gHP32Q14  2018-06-12T09:55:22  2018-06-12T09:55:22  Progress Check   \n",
@ -186,24 +168,23 @@
      " Shape:  (50, 10)\n"
     ]
    }
   ],
   "source": [
    "print(df_meetings.head(), '\\n'*2, 'Shape: ', df_meetings.shape)"
   ]
  },
  {
   "cell_type": "markdown",
   "source": [
    "Update Meeting Note text"
   ],
   "metadata": {
    "id": "aKweyrXGQtMK"
   }
   },
   "source": [
    "Update Meeting Note text"
   ]
  },
  {
   "cell_type": "code",
   "source": [
    "df_meetings.at[0:5, 'meeting_notes'] = 'This is a pile of crap. I hate it.'\n",
    "df_meetings.at[5:10, 'meeting_notes'] = 'This is amazing. I really love it.'\n",
    "df_meetings.head(15)"
   ],
   "execution_count": null,
   "metadata": {
    "colab": {
     "base_uri": "https://localhost:8080/",
@ -212,80 +193,9 @@
    "id": "Ysch8pEiQxIE",
    "outputId": "f37af815-979a-4422-abac-e571f88ab31e"
   },
   "execution_count": null,
   "outputs": [
    {
     "output_type": "execute_result",
     "data": {
      "text/plain": [
       "          meeting_id           created_at           updated_at  \\\n",
       "0   aE15d1P6gHP32Q14  2018-06-12T09:55:22  2018-06-12T09:55:22   \n",
       "1   bzk5a16375MRX4H5  2018-06-12T09:55:22  2018-06-12T09:55:22   \n",
       "2   37bn6kvl7d1J1e42  2018-06-12T09:55:22  2018-06-12T09:55:22   \n",
       "3   h44V7Y6Og6737uiT  2018-06-12T09:55:22  2018-06-12T09:55:22   \n",
       "4   zD3632TpVe4y3e44  2018-06-12T09:55:22  2018-06-12T09:55:22   \n",
       "5   7aK8407ue462nnMK  2018-06-12T09:55:22  2018-06-12T09:55:22   \n",
       "6   hXV8h4TTm467g812  2018-06-12T09:55:22  2018-06-12T09:55:22   \n",
       "7   4ZM7iX76pC35L00L  2018-06-12T09:55:22  2018-06-12T09:55:22   \n",
       "8   NJ232i6cSV6tD620  2018-06-12T09:55:22  2018-06-12T09:55:22   \n",
       "9   02I1k0f8j2LpRi40  2018-06-12T09:55:22  2018-06-12T09:55:22   \n",
       "10  t0w3Cx8G1sq5285G  2018-06-12T09:55:22  2018-06-12T09:55:22   \n",
       "11  RN6Vs8zC66Z3387i  2018-06-12T09:55:22  2018-06-12T09:55:22   \n",
       "12  2186SY632isZeM4Z  2018-06-12T09:55:22  2018-06-12T09:55:22   \n",
       "13  i62732xjF137cSiO  2018-06-12T09:55:22  2018-06-12T09:55:22   \n",
       "14  53n6H7a7E507Jxgr  2018-06-12T09:55:22  2018-06-12T09:55:22   \n",
       "\n",
       "     meeting_topic   meeting_start_date     meeting_end_date  \\\n",
       "0   Progress Check  2018-06-12T09:55:22  2018-06-12T09:55:22   \n",
       "1       Job Search  2018-06-12T09:55:22  2018-06-12T09:55:22   \n",
       "2       Job Search  2018-06-12T09:55:22  2018-06-12T09:55:22   \n",
       "3         GCA Help  2018-06-12T09:55:22  2018-06-12T09:55:22   \n",
       "4         GCA Help  2018-06-12T09:55:22  2018-06-12T09:55:22   \n",
       "5       Job Search  2018-06-12T09:55:22  2018-06-12T09:55:22   \n",
       "6      Resume Help  2018-06-12T09:55:22  2018-06-12T09:55:22   \n",
       "7      Resume Help  2018-06-12T09:55:22  2018-06-12T09:55:22   \n",
       "8   Progress Check  2018-06-12T09:55:22  2018-06-12T09:55:22   \n",
       "9       Job Search  2018-06-12T09:55:22  2018-06-12T09:55:22   \n",
       "10      Job Search  2018-06-12T09:55:22  2018-06-12T09:55:22   \n",
       "11      Job Search  2018-06-12T09:55:22  2018-06-12T09:55:22   \n",
       "12        GCA Help  2018-06-12T09:55:22  2018-06-12T09:55:22   \n",
       "13        GCA Help  2018-06-12T09:55:22  2018-06-12T09:55:22   \n",
       "14  Progress Check  2018-06-12T09:55:22  2018-06-12T09:55:22   \n",
       "\n",
       "             host_id       attendee_id                       meeting_notes  \\\n",
       "0   MS8Z7Ktb4b3880s8  7O1s01h1d0v5KyQ7  This is a pile of crap. I hate it.   \n",
       "1   605TF52AKz5mV0X1  351HEf841UH78ndH  This is a pile of crap. I hate it.   \n",
       "2   Mhp314z80m50nRH7  0W8zo5JfAG8T4008  This is a pile of crap. I hate it.   \n",
       "3   3l57EW4381RQdXy2  37v3j3i4O8rDQ74A  This is a pile of crap. I hate it.   \n",
       "4   3i35zO52F2U1tBz4  M67T2HX1k18y16IJ  This is a pile of crap. I hate it.   \n",
       "5   3i35zO52F2U1tBz4  X6H5bF22r3h8RY76  This is amazing. I really love it.   \n",
       "6   i7U0HRiXL313F118  401Qh1U8zel08Bo0  This is amazing. I really love it.   \n",
       "7   o1452mYaYKH0K552  2cz84wif1102RZ2e  This is amazing. I really love it.   \n",
       "8   Mhp314z80m50nRH7  43hh2XF5Bd6eV885  This is amazing. I really love it.   \n",
       "9   5lzKJ3r5MY3477b5  351HEf841UH78ndH  This is amazing. I really love it.   \n",
       "10  o1452mYaYKH0K552  o2g3aPe0Dd55l186  This is amazing. I really love it.   \n",
       "11  67fY674j6h3jsg0s  8vg2X536f5e7pbs1                 Meeting notes here!   \n",
       "12  o1452mYaYKH0K552  e3a503P1w4qX1Mv4                 Meeting notes here!   \n",
       "13  C360K1o261Zsuzt3  a61E84E127LcZWD2                 Meeting notes here!   \n",
       "14  C6m76zA8Zw606VL0  lWQ87483uNxfq088                 Meeting notes here!   \n",
       "\n",
       "   meeting_missed  \n",
       "0        Attended  \n",
       "1        Attended  \n",
       "2        Attended  \n",
       "3          Missed  \n",
       "4        Attended  \n",
       "5          Missed  \n",
       "6          Missed  \n",
       "7        Attended  \n",
       "8          Missed  \n",
       "9          Missed  \n",
       "10         Missed  \n",
       "11       Attended  \n",
       "12       Attended  \n",
       "13       Attended  \n",
       "14       Attended  "
      ],
      "text/html": [
       "\n",
       "  <div id=\"df-76269563-5a3f-451b-a216-4743be31b608\">\n",
@ -595,52 +505,7 @@
       "    </div>\n",
       "  </div>\n",
       "  "
      ]
     },
     "metadata": {},
     "execution_count": 6
    }
   ]
  },
  {
   "cell_type": "markdown",
   "source": [
    "Calculate Score for each meeting"
   ],
   "metadata": {
    "id": "kGjPrxyVQdG6"
   }
  },
  {
   "cell_type": "code",
   "source": [
    "df_meetings['sentiment'] = \\\n",
    "  df_meetings['meeting_notes'].apply(lambda x: sid.polarity_scores(x)['compound'])"
   ],
   "metadata": {
    "id": "BidWfX_xPPmq"
   },
   "execution_count": null,
   "outputs": []
  },
  {
   "cell_type": "code",
   "source": [
    "df_meetings.head(15)"
   ],
   "metadata": {
    "colab": {
     "base_uri": "https://localhost:8080/",
     "height": 948
    },
    "id": "vfoB5GwTPzEq",
    "outputId": "ff7826f8-86a9-4bc9-8cde-08afe5052dbe"
   },
   "execution_count": null,
   "outputs": [
    {
     "output_type": "execute_result",
     "data": {
      ],
      "text/plain": [
       "          meeting_id           created_at           updated_at  \\\n",
       "0   aE15d1P6gHP32Q14  2018-06-12T09:55:22  2018-06-12T09:55:22   \n",
@ -693,23 +558,70 @@
       "13  C360K1o261Zsuzt3  a61E84E127LcZWD2                 Meeting notes here!   \n",
       "14  C6m76zA8Zw606VL0  lWQ87483uNxfq088                 Meeting notes here!   \n",
       "\n",
       "   meeting_missed  sentiment  \n",
       "0        Attended    -0.7430  \n",
       "1        Attended    -0.7430  \n",
       "2        Attended    -0.7430  \n",
       "3          Missed    -0.7430  \n",
       "4        Attended    -0.7430  \n",
       "5          Missed     0.8516  \n",
       "6          Missed     0.8516  \n",
       "7        Attended     0.8516  \n",
       "8          Missed     0.8516  \n",
       "9          Missed     0.8516  \n",
       "10         Missed     0.8516  \n",
       "11       Attended     0.0000  \n",
       "12       Attended     0.0000  \n",
       "13       Attended     0.0000  \n",
       "14       Attended     0.0000  "
      ],
       "   meeting_missed  \n",
       "0        Attended  \n",
       "1        Attended  \n",
       "2        Attended  \n",
       "3          Missed  \n",
       "4        Attended  \n",
       "5          Missed  \n",
       "6          Missed  \n",
       "7        Attended  \n",
       "8          Missed  \n",
       "9          Missed  \n",
       "10         Missed  \n",
       "11       Attended  \n",
       "12       Attended  \n",
       "13       Attended  \n",
       "14       Attended  "
      ]
     },
     "execution_count": 6,
     "metadata": {},
     "output_type": "execute_result"
    }
   ],
   "source": [
    "df_meetings.at[0:5, 'meeting_notes'] = 'This is a pile of crap. I hate it.'\n",
    "df_meetings.at[5:10, 'meeting_notes'] = 'This is amazing. I really love it.'\n",
    "df_meetings.head(15)"
   ]
  },
  {
   "cell_type": "markdown",
   "metadata": {
    "id": "kGjPrxyVQdG6"
   },
   "source": [
    "Calculate Score for each meeting"
   ]
  },
  {
   "cell_type": "code",
   "execution_count": null,
   "metadata": {
    "id": "BidWfX_xPPmq"
   },
   "outputs": [],
   "source": [
    "df_meetings['sentiment'] = \\\n",
    "  df_meetings['meeting_notes'].apply(lambda x: sid.polarity_scores(x)['compound'])"
   ]
  },
  {
   "cell_type": "code",
   "execution_count": null,
   "metadata": {
    "colab": {
     "base_uri": "https://localhost:8080/",
     "height": 948
    },
    "id": "vfoB5GwTPzEq",
    "outputId": "ff7826f8-86a9-4bc9-8cde-08afe5052dbe"
   },
   "outputs": [
    {
     "data": {
      "text/html": [
       "\n",
       "  <div id=\"df-8c9157b8-d589-489c-82bf-09cfd995f811\">\n",
@ -1035,23 +947,112 @@
       "    </div>\n",
       "  </div>\n",
       "  "
      ],
      "text/plain": [
       "          meeting_id           created_at           updated_at  \\\n",
       "0   aE15d1P6gHP32Q14  2018-06-12T09:55:22  2018-06-12T09:55:22   \n",
       "1   bzk5a16375MRX4H5  2018-06-12T09:55:22  2018-06-12T09:55:22   \n",
       "2   37bn6kvl7d1J1e42  2018-06-12T09:55:22  2018-06-12T09:55:22   \n",
       "3   h44V7Y6Og6737uiT  2018-06-12T09:55:22  2018-06-12T09:55:22   \n",
       "4   zD3632TpVe4y3e44  2018-06-12T09:55:22  2018-06-12T09:55:22   \n",
       "5   7aK8407ue462nnMK  2018-06-12T09:55:22  2018-06-12T09:55:22   \n",
       "6   hXV8h4TTm467g812  2018-06-12T09:55:22  2018-06-12T09:55:22   \n",
       "7   4ZM7iX76pC35L00L  2018-06-12T09:55:22  2018-06-12T09:55:22   \n",
       "8   NJ232i6cSV6tD620  2018-06-12T09:55:22  2018-06-12T09:55:22   \n",
       "9   02I1k0f8j2LpRi40  2018-06-12T09:55:22  2018-06-12T09:55:22   \n",
       "10  t0w3Cx8G1sq5285G  2018-06-12T09:55:22  2018-06-12T09:55:22   \n",
       "11  RN6Vs8zC66Z3387i  2018-06-12T09:55:22  2018-06-12T09:55:22   \n",
       "12  2186SY632isZeM4Z  2018-06-12T09:55:22  2018-06-12T09:55:22   \n",
       "13  i62732xjF137cSiO  2018-06-12T09:55:22  2018-06-12T09:55:22   \n",
       "14  53n6H7a7E507Jxgr  2018-06-12T09:55:22  2018-06-12T09:55:22   \n",
       "\n",
       "     meeting_topic   meeting_start_date     meeting_end_date  \\\n",
       "0   Progress Check  2018-06-12T09:55:22  2018-06-12T09:55:22   \n",
       "1       Job Search  2018-06-12T09:55:22  2018-06-12T09:55:22   \n",
       "2       Job Search  2018-06-12T09:55:22  2018-06-12T09:55:22   \n",
       "3         GCA Help  2018-06-12T09:55:22  2018-06-12T09:55:22   \n",
       "4         GCA Help  2018-06-12T09:55:22  2018-06-12T09:55:22   \n",
       "5       Job Search  2018-06-12T09:55:22  2018-06-12T09:55:22   \n",
       "6      Resume Help  2018-06-12T09:55:22  2018-06-12T09:55:22   \n",
       "7      Resume Help  2018-06-12T09:55:22  2018-06-12T09:55:22   \n",
       "8   Progress Check  2018-06-12T09:55:22  2018-06-12T09:55:22   \n",
       "9       Job Search  2018-06-12T09:55:22  2018-06-12T09:55:22   \n",
       "10      Job Search  2018-06-12T09:55:22  2018-06-12T09:55:22   \n",
       "11      Job Search  2018-06-12T09:55:22  2018-06-12T09:55:22   \n",
       "12        GCA Help  2018-06-12T09:55:22  2018-06-12T09:55:22   \n",
       "13        GCA Help  2018-06-12T09:55:22  2018-06-12T09:55:22   \n",
       "14  Progress Check  2018-06-12T09:55:22  2018-06-12T09:55:22   \n",
       "\n",
       "             host_id       attendee_id                       meeting_notes  \\\n",
       "0   MS8Z7Ktb4b3880s8  7O1s01h1d0v5KyQ7  This is a pile of crap. I hate it.   \n",
       "1   605TF52AKz5mV0X1  351HEf841UH78ndH  This is a pile of crap. I hate it.   \n",
       "2   Mhp314z80m50nRH7  0W8zo5JfAG8T4008  This is a pile of crap. I hate it.   \n",
       "3   3l57EW4381RQdXy2  37v3j3i4O8rDQ74A  This is a pile of crap. I hate it.   \n",
       "4   3i35zO52F2U1tBz4  M67T2HX1k18y16IJ  This is a pile of crap. I hate it.   \n",
       "5   3i35zO52F2U1tBz4  X6H5bF22r3h8RY76  This is amazing. I really love it.   \n",
       "6   i7U0HRiXL313F118  401Qh1U8zel08Bo0  This is amazing. I really love it.   \n",
       "7   o1452mYaYKH0K552  2cz84wif1102RZ2e  This is amazing. I really love it.   \n",
       "8   Mhp314z80m50nRH7  43hh2XF5Bd6eV885  This is amazing. I really love it.   \n",
       "9   5lzKJ3r5MY3477b5  351HEf841UH78ndH  This is amazing. I really love it.   \n",
       "10  o1452mYaYKH0K552  o2g3aPe0Dd55l186  This is amazing. I really love it.   \n",
       "11  67fY674j6h3jsg0s  8vg2X536f5e7pbs1                 Meeting notes here!   \n",
       "12  o1452mYaYKH0K552  e3a503P1w4qX1Mv4                 Meeting notes here!   \n",
       "13  C360K1o261Zsuzt3  a61E84E127LcZWD2                 Meeting notes here!   \n",
       "14  C6m76zA8Zw606VL0  lWQ87483uNxfq088                 Meeting notes here!   \n",
       "\n",
       "   meeting_missed  sentiment  \n",
       "0        Attended    -0.7430  \n",
       "1        Attended    -0.7430  \n",
       "2        Attended    -0.7430  \n",
       "3          Missed    -0.7430  \n",
       "4        Attended    -0.7430  \n",
       "5          Missed     0.8516  \n",
       "6          Missed     0.8516  \n",
       "7        Attended     0.8516  \n",
       "8          Missed     0.8516  \n",
       "9          Missed     0.8516  \n",
       "10         Missed     0.8516  \n",
       "11       Attended     0.0000  \n",
       "12       Attended     0.0000  \n",
       "13       Attended     0.0000  \n",
       "14       Attended     0.0000  "
      ]
     },
     "execution_count": 8,
     "metadata": {},
     "execution_count": 8
     "output_type": "execute_result"
    }
   ],
   "source": [
    "df_meetings.head(15)"
   ]
  },
  {
   "cell_type": "code",
   "source": [
    ""
   ],
   "execution_count": null,
   "metadata": {
    "id": "IqS2B0WhQXN7"
   },
   "execution_count": null,
   "outputs": []
   "outputs": [],
   "source": [
    "sns.scatterplot(data=df_meetings['sentiment'])"
   ]
  }
 ]
}
 ],
 "metadata": {
  "colab": {
   "collapsed_sections": [],
   "name": "Underdogs_Meeting_Sentiment.ipynb",
   "provenance": []
  },
  "kernelspec": {
   "display_name": "Python 3",
   "name": "python3"
  },
  "language_info": {
   "name": "python"
  }
 },
 "nbformat": 4,
 "nbformat_minor": 0
}
