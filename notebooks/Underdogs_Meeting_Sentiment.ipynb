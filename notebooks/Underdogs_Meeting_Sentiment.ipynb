{
 "cells": [
  {
   "cell_type": "markdown",
   "metadata": {
    "id": "bemvbDSJNbQU"
   },
   "source": [
    "# Sentiment Analysis Notebook:\n",
    "\n",
    "## Apply Vader sentiment analysis to UnderDog Devs Meeting notes.\n",
    "\n",
    "Prepare dataframe with overall meeting sentiment scores in preparation for further analysis."
   ]
  },
  {
   "cell_type": "code",
   "execution_count": 36,
   "metadata": {
    "colab": {
     "base_uri": "https://localhost:8080/"
    },
    "id": "0WGWXlBrMwuw",
    "outputId": "d2d02c4a-a050-40e6-e512-3415aee20db4"
   },
   "outputs": [],
   "source": [
    "import requests\n",
    "import pandas as pd\n",
    "\n",
    "\n",
    "import nltk\n",
    "# nltk.download('vader_lexicon')\n",
    "# from nltk.sentiment.vader import SentimentIntensityAnalyzer\n",
    "from vaderSentiment.vaderSentiment import SentimentIntensityAnalyzer\n",
    "sid = SentimentIntensityAnalyzer()"
   ]
  },
  {
   "cell_type": "markdown",
   "metadata": {
    "id": "jXA8474YNZsP"
   },
   "source": [
    "Examples of Vader sentiment analysis"
   ]
  },
  {
   "cell_type": "code",
   "execution_count": 41,
   "metadata": {
    "colab": {
     "base_uri": "https://localhost:8080/"
    },
    "id": "5Qhv9cNGNv-r",
    "outputId": "a300ddd8-a21f-4048-c283-ab850778f5b1"
   },
   "outputs": [
    {
     "data": {
      "text/plain": "{'neg': 0.482, 'neu': 0.518, 'pos': 0.0, 'compound': -0.4199}"
     },
     "execution_count": 41,
     "metadata": {},
     "output_type": "execute_result"
    }
   ],
   "source": [
    "neg_example = sid.polarity_scores(\"This sucks so much!\")\n",
    "neg_example"
   ]
  },
  {
   "cell_type": "code",
   "execution_count": 42,
   "metadata": {
    "colab": {
     "base_uri": "https://localhost:8080/"
    },
    "id": "-wXv5heTNxFU",
    "outputId": "38937f11-d5ac-4574-bb81-e8b737420241"
   },
   "outputs": [
    {
     "data": {
      "text/plain": "0.8764"
     },
     "execution_count": 42,
     "metadata": {},
     "output_type": "execute_result"
    }
   ],
   "source": [
    "pos_example = sid.polarity_scores(\"This is really great and awesome!\")['compound']\n",
    "pos_example"
   ]
  },
  {
   "cell_type": "markdown",
   "metadata": {
    "id": "SEe8CArJO2zi"
   },
   "source": [
    "Pull meetings data"
   ]
  },
  {
   "cell_type": "code",
   "execution_count": 43,
   "metadata": {
    "id": "I1sirqozOUAt"
   },
   "outputs": [],
   "source": [
    "df_meetings = pd.DataFrame(requests.post(\"http://underdog-devs-ds-a-dev.us-east-1.elasticbeanstalk.com/Meetings/read\").json()[\"result\"])"
   ]
  },
  {
   "cell_type": "code",
   "execution_count": 44,
   "metadata": {
    "colab": {
     "base_uri": "https://localhost:8080/"
    },
    "id": "AY-7P5HXPEwW",
    "outputId": "bade43bd-9236-4df6-f34d-e01df6d653cb"
   },
   "outputs": [
    {
     "name": "stdout",
     "output_type": "stream",
     "text": [
      "         meeting_id           created_at           updated_at   meeting_topic  \\\n",
      "0  aE15d1P6gHP32Q14  2018-06-12T09:55:22  2018-06-12T09:55:22  Progress Check   \n",
      "1  bzk5a16375MRX4H5  2018-06-12T09:55:22  2018-06-12T09:55:22      Job Search   \n",
      "2  37bn6kvl7d1J1e42  2018-06-12T09:55:22  2018-06-12T09:55:22      Job Search   \n",
      "3  h44V7Y6Og6737uiT  2018-06-12T09:55:22  2018-06-12T09:55:22        GCA Help   \n",
      "4  zD3632TpVe4y3e44  2018-06-12T09:55:22  2018-06-12T09:55:22        GCA Help   \n",
      "\n",
      "    meeting_start_date     meeting_end_date           host_id  \\\n",
      "0  2018-06-12T09:55:22  2018-06-12T09:55:22  MS8Z7Ktb4b3880s8   \n",
      "1  2018-06-12T09:55:22  2018-06-12T09:55:22  605TF52AKz5mV0X1   \n",
      "2  2018-06-12T09:55:22  2018-06-12T09:55:22  Mhp314z80m50nRH7   \n",
      "3  2018-06-12T09:55:22  2018-06-12T09:55:22  3l57EW4381RQdXy2   \n",
      "4  2018-06-12T09:55:22  2018-06-12T09:55:22  3i35zO52F2U1tBz4   \n",
      "\n",
      "        attendee_id        meeting_notes meeting_missed  \n",
      "0  7O1s01h1d0v5KyQ7  Meeting notes here!       Attended  \n",
      "1  351HEf841UH78ndH  Meeting notes here!       Attended  \n",
      "2  0W8zo5JfAG8T4008  Meeting notes here!       Attended  \n",
      "3  37v3j3i4O8rDQ74A  Meeting notes here!         Missed  \n",
      "4  M67T2HX1k18y16IJ  Meeting notes here!       Attended   \n",
      "\n",
      " Shape:  (50, 10)\n"
     ]
    }
   ],
   "source": [
    "print(df_meetings.head(), '\\n'*2, 'Shape: ', df_meetings.shape)"
   ]
  },
  {
   "cell_type": "markdown",
   "metadata": {
    "id": "aKweyrXGQtMK"
   },
   "source": [
    "Update Meeting Note text"
   ]
  },
  {
   "cell_type": "code",
   "execution_count": 45,
   "metadata": {
    "colab": {
     "base_uri": "https://localhost:8080/",
     "height": 948
    },
    "id": "Ysch8pEiQxIE",
    "outputId": "f37af815-979a-4422-abac-e571f88ab31e"
   },
   "outputs": [
    {
     "data": {
      "text/plain": "          meeting_id           created_at           updated_at  \\\n0   aE15d1P6gHP32Q14  2018-06-12T09:55:22  2018-06-12T09:55:22   \n1   bzk5a16375MRX4H5  2018-06-12T09:55:22  2018-06-12T09:55:22   \n2   37bn6kvl7d1J1e42  2018-06-12T09:55:22  2018-06-12T09:55:22   \n3   h44V7Y6Og6737uiT  2018-06-12T09:55:22  2018-06-12T09:55:22   \n4   zD3632TpVe4y3e44  2018-06-12T09:55:22  2018-06-12T09:55:22   \n5   7aK8407ue462nnMK  2018-06-12T09:55:22  2018-06-12T09:55:22   \n6   hXV8h4TTm467g812  2018-06-12T09:55:22  2018-06-12T09:55:22   \n7   4ZM7iX76pC35L00L  2018-06-12T09:55:22  2018-06-12T09:55:22   \n8   NJ232i6cSV6tD620  2018-06-12T09:55:22  2018-06-12T09:55:22   \n9   02I1k0f8j2LpRi40  2018-06-12T09:55:22  2018-06-12T09:55:22   \n10  t0w3Cx8G1sq5285G  2018-06-12T09:55:22  2018-06-12T09:55:22   \n11  RN6Vs8zC66Z3387i  2018-06-12T09:55:22  2018-06-12T09:55:22   \n12  2186SY632isZeM4Z  2018-06-12T09:55:22  2018-06-12T09:55:22   \n13  i62732xjF137cSiO  2018-06-12T09:55:22  2018-06-12T09:55:22   \n14  53n6H7a7E507Jxgr  2018-06-12T09:55:22  2018-06-12T09:55:22   \n\n     meeting_topic   meeting_start_date     meeting_end_date  \\\n0   Progress Check  2018-06-12T09:55:22  2018-06-12T09:55:22   \n1       Job Search  2018-06-12T09:55:22  2018-06-12T09:55:22   \n2       Job Search  2018-06-12T09:55:22  2018-06-12T09:55:22   \n3         GCA Help  2018-06-12T09:55:22  2018-06-12T09:55:22   \n4         GCA Help  2018-06-12T09:55:22  2018-06-12T09:55:22   \n5       Job Search  2018-06-12T09:55:22  2018-06-12T09:55:22   \n6      Resume Help  2018-06-12T09:55:22  2018-06-12T09:55:22   \n7      Resume Help  2018-06-12T09:55:22  2018-06-12T09:55:22   \n8   Progress Check  2018-06-12T09:55:22  2018-06-12T09:55:22   \n9       Job Search  2018-06-12T09:55:22  2018-06-12T09:55:22   \n10      Job Search  2018-06-12T09:55:22  2018-06-12T09:55:22   \n11      Job Search  2018-06-12T09:55:22  2018-06-12T09:55:22   \n12        GCA Help  2018-06-12T09:55:22  2018-06-12T09:55:22   \n13        GCA Help  2018-06-12T09:55:22  2018-06-12T09:55:22   \n14  Progress Check  2018-06-12T09:55:22  2018-06-12T09:55:22   \n\n             host_id       attendee_id                       meeting_notes  \\\n0   MS8Z7Ktb4b3880s8  7O1s01h1d0v5KyQ7  This is a pile of crap. I hate it.   \n1   605TF52AKz5mV0X1  351HEf841UH78ndH  This is a pile of crap. I hate it.   \n2   Mhp314z80m50nRH7  0W8zo5JfAG8T4008  This is a pile of crap. I hate it.   \n3   3l57EW4381RQdXy2  37v3j3i4O8rDQ74A  This is a pile of crap. I hate it.   \n4   3i35zO52F2U1tBz4  M67T2HX1k18y16IJ  This is a pile of crap. I hate it.   \n5   3i35zO52F2U1tBz4  X6H5bF22r3h8RY76  This is amazing. I really love it.   \n6   i7U0HRiXL313F118  401Qh1U8zel08Bo0  This is amazing. I really love it.   \n7   o1452mYaYKH0K552  2cz84wif1102RZ2e  This is amazing. I really love it.   \n8   Mhp314z80m50nRH7  43hh2XF5Bd6eV885  This is amazing. I really love it.   \n9   5lzKJ3r5MY3477b5  351HEf841UH78ndH  This is amazing. I really love it.   \n10  o1452mYaYKH0K552  o2g3aPe0Dd55l186  This is amazing. I really love it.   \n11  67fY674j6h3jsg0s  8vg2X536f5e7pbs1                 Meeting notes here!   \n12  o1452mYaYKH0K552  e3a503P1w4qX1Mv4                 Meeting notes here!   \n13  C360K1o261Zsuzt3  a61E84E127LcZWD2                 Meeting notes here!   \n14  C6m76zA8Zw606VL0  lWQ87483uNxfq088                 Meeting notes here!   \n\n   meeting_missed  \n0        Attended  \n1        Attended  \n2        Attended  \n3          Missed  \n4        Attended  \n5          Missed  \n6          Missed  \n7        Attended  \n8          Missed  \n9          Missed  \n10         Missed  \n11       Attended  \n12       Attended  \n13       Attended  \n14       Attended  ",
      "text/html": "<div>\n<style scoped>\n    .dataframe tbody tr th:only-of-type {\n        vertical-align: middle;\n    }\n\n    .dataframe tbody tr th {\n        vertical-align: top;\n    }\n\n    .dataframe thead th {\n        text-align: right;\n    }\n</style>\n<table border=\"1\" class=\"dataframe\">\n  <thead>\n    <tr style=\"text-align: right;\">\n      <th></th>\n      <th>meeting_id</th>\n      <th>created_at</th>\n      <th>updated_at</th>\n      <th>meeting_topic</th>\n      <th>meeting_start_date</th>\n      <th>meeting_end_date</th>\n      <th>host_id</th>\n      <th>attendee_id</th>\n      <th>meeting_notes</th>\n      <th>meeting_missed</th>\n    </tr>\n  </thead>\n  <tbody>\n    <tr>\n      <th>0</th>\n      <td>aE15d1P6gHP32Q14</td>\n      <td>2018-06-12T09:55:22</td>\n      <td>2018-06-12T09:55:22</td>\n      <td>Progress Check</td>\n      <td>2018-06-12T09:55:22</td>\n      <td>2018-06-12T09:55:22</td>\n      <td>MS8Z7Ktb4b3880s8</td>\n      <td>7O1s01h1d0v5KyQ7</td>\n      <td>This is a pile of crap. I hate it.</td>\n      <td>Attended</td>\n    </tr>\n    <tr>\n      <th>1</th>\n      <td>bzk5a16375MRX4H5</td>\n      <td>2018-06-12T09:55:22</td>\n      <td>2018-06-12T09:55:22</td>\n      <td>Job Search</td>\n      <td>2018-06-12T09:55:22</td>\n      <td>2018-06-12T09:55:22</td>\n      <td>605TF52AKz5mV0X1</td>\n      <td>351HEf841UH78ndH</td>\n      <td>This is a pile of crap. I hate it.</td>\n      <td>Attended</td>\n    </tr>\n    <tr>\n      <th>2</th>\n      <td>37bn6kvl7d1J1e42</td>\n      <td>2018-06-12T09:55:22</td>\n      <td>2018-06-12T09:55:22</td>\n      <td>Job Search</td>\n      <td>2018-06-12T09:55:22</td>\n      <td>2018-06-12T09:55:22</td>\n      <td>Mhp314z80m50nRH7</td>\n      <td>0W8zo5JfAG8T4008</td>\n      <td>This is a pile of crap. I hate it.</td>\n      <td>Attended</td>\n    </tr>\n    <tr>\n      <th>3</th>\n      <td>h44V7Y6Og6737uiT</td>\n      <td>2018-06-12T09:55:22</td>\n      <td>2018-06-12T09:55:22</td>\n      <td>GCA Help</td>\n      <td>2018-06-12T09:55:22</td>\n      <td>2018-06-12T09:55:22</td>\n      <td>3l57EW4381RQdXy2</td>\n      <td>37v3j3i4O8rDQ74A</td>\n      <td>This is a pile of crap. I hate it.</td>\n      <td>Missed</td>\n    </tr>\n    <tr>\n      <th>4</th>\n      <td>zD3632TpVe4y3e44</td>\n      <td>2018-06-12T09:55:22</td>\n      <td>2018-06-12T09:55:22</td>\n      <td>GCA Help</td>\n      <td>2018-06-12T09:55:22</td>\n      <td>2018-06-12T09:55:22</td>\n      <td>3i35zO52F2U1tBz4</td>\n      <td>M67T2HX1k18y16IJ</td>\n      <td>This is a pile of crap. I hate it.</td>\n      <td>Attended</td>\n    </tr>\n    <tr>\n      <th>5</th>\n      <td>7aK8407ue462nnMK</td>\n      <td>2018-06-12T09:55:22</td>\n      <td>2018-06-12T09:55:22</td>\n      <td>Job Search</td>\n      <td>2018-06-12T09:55:22</td>\n      <td>2018-06-12T09:55:22</td>\n      <td>3i35zO52F2U1tBz4</td>\n      <td>X6H5bF22r3h8RY76</td>\n      <td>This is amazing. I really love it.</td>\n      <td>Missed</td>\n    </tr>\n    <tr>\n      <th>6</th>\n      <td>hXV8h4TTm467g812</td>\n      <td>2018-06-12T09:55:22</td>\n      <td>2018-06-12T09:55:22</td>\n      <td>Resume Help</td>\n      <td>2018-06-12T09:55:22</td>\n      <td>2018-06-12T09:55:22</td>\n      <td>i7U0HRiXL313F118</td>\n      <td>401Qh1U8zel08Bo0</td>\n      <td>This is amazing. I really love it.</td>\n      <td>Missed</td>\n    </tr>\n    <tr>\n      <th>7</th>\n      <td>4ZM7iX76pC35L00L</td>\n      <td>2018-06-12T09:55:22</td>\n      <td>2018-06-12T09:55:22</td>\n      <td>Resume Help</td>\n      <td>2018-06-12T09:55:22</td>\n      <td>2018-06-12T09:55:22</td>\n      <td>o1452mYaYKH0K552</td>\n      <td>2cz84wif1102RZ2e</td>\n      <td>This is amazing. I really love it.</td>\n      <td>Attended</td>\n    </tr>\n    <tr>\n      <th>8</th>\n      <td>NJ232i6cSV6tD620</td>\n      <td>2018-06-12T09:55:22</td>\n      <td>2018-06-12T09:55:22</td>\n      <td>Progress Check</td>\n      <td>2018-06-12T09:55:22</td>\n      <td>2018-06-12T09:55:22</td>\n      <td>Mhp314z80m50nRH7</td>\n      <td>43hh2XF5Bd6eV885</td>\n      <td>This is amazing. I really love it.</td>\n      <td>Missed</td>\n    </tr>\n    <tr>\n      <th>9</th>\n      <td>02I1k0f8j2LpRi40</td>\n      <td>2018-06-12T09:55:22</td>\n      <td>2018-06-12T09:55:22</td>\n      <td>Job Search</td>\n      <td>2018-06-12T09:55:22</td>\n      <td>2018-06-12T09:55:22</td>\n      <td>5lzKJ3r5MY3477b5</td>\n      <td>351HEf841UH78ndH</td>\n      <td>This is amazing. I really love it.</td>\n      <td>Missed</td>\n    </tr>\n    <tr>\n      <th>10</th>\n      <td>t0w3Cx8G1sq5285G</td>\n      <td>2018-06-12T09:55:22</td>\n      <td>2018-06-12T09:55:22</td>\n      <td>Job Search</td>\n      <td>2018-06-12T09:55:22</td>\n      <td>2018-06-12T09:55:22</td>\n      <td>o1452mYaYKH0K552</td>\n      <td>o2g3aPe0Dd55l186</td>\n      <td>This is amazing. I really love it.</td>\n      <td>Missed</td>\n    </tr>\n    <tr>\n      <th>11</th>\n      <td>RN6Vs8zC66Z3387i</td>\n      <td>2018-06-12T09:55:22</td>\n      <td>2018-06-12T09:55:22</td>\n      <td>Job Search</td>\n      <td>2018-06-12T09:55:22</td>\n      <td>2018-06-12T09:55:22</td>\n      <td>67fY674j6h3jsg0s</td>\n      <td>8vg2X536f5e7pbs1</td>\n      <td>Meeting notes here!</td>\n      <td>Attended</td>\n    </tr>\n    <tr>\n      <th>12</th>\n      <td>2186SY632isZeM4Z</td>\n      <td>2018-06-12T09:55:22</td>\n      <td>2018-06-12T09:55:22</td>\n      <td>GCA Help</td>\n      <td>2018-06-12T09:55:22</td>\n      <td>2018-06-12T09:55:22</td>\n      <td>o1452mYaYKH0K552</td>\n      <td>e3a503P1w4qX1Mv4</td>\n      <td>Meeting notes here!</td>\n      <td>Attended</td>\n    </tr>\n    <tr>\n      <th>13</th>\n      <td>i62732xjF137cSiO</td>\n      <td>2018-06-12T09:55:22</td>\n      <td>2018-06-12T09:55:22</td>\n      <td>GCA Help</td>\n      <td>2018-06-12T09:55:22</td>\n      <td>2018-06-12T09:55:22</td>\n      <td>C360K1o261Zsuzt3</td>\n      <td>a61E84E127LcZWD2</td>\n      <td>Meeting notes here!</td>\n      <td>Attended</td>\n    </tr>\n    <tr>\n      <th>14</th>\n      <td>53n6H7a7E507Jxgr</td>\n      <td>2018-06-12T09:55:22</td>\n      <td>2018-06-12T09:55:22</td>\n      <td>Progress Check</td>\n      <td>2018-06-12T09:55:22</td>\n      <td>2018-06-12T09:55:22</td>\n      <td>C6m76zA8Zw606VL0</td>\n      <td>lWQ87483uNxfq088</td>\n      <td>Meeting notes here!</td>\n      <td>Attended</td>\n    </tr>\n  </tbody>\n</table>\n</div>"
     },
     "execution_count": 45,
     "metadata": {},
     "output_type": "execute_result"
    }
   ],
   "source": [
    "df_meetings.loc[0:5, 'meeting_notes'] = 'This is a pile of crap. I hate it.'\n",
    "df_meetings.loc[5:10, 'meeting_notes'] = 'This is amazing. I really love it.'\n",
    "df_meetings.head(15)"
   ]
  },
  {
   "cell_type": "markdown",
   "metadata": {
    "id": "kGjPrxyVQdG6"
   },
   "source": [
    "Calculate Score for each meeting, append as new \"sentiment\" column in DataFrame:"
   ]
  },
  {
   "cell_type": "code",
   "execution_count": 46,
   "metadata": {
    "id": "BidWfX_xPPmq"
   },
   "outputs": [],
   "source": [
    "df_meetings['sentiment'] = \\\n",
    "  df_meetings['meeting_notes'].apply(lambda x: sid.polarity_scores(x)['compound'])"
   ]
  },
  {
   "cell_type": "code",
   "execution_count": 47,
   "metadata": {
    "colab": {
     "base_uri": "https://localhost:8080/",
     "height": 948
    },
    "id": "vfoB5GwTPzEq",
    "outputId": "ff7826f8-86a9-4bc9-8cde-08afe5052dbe"
   },
   "outputs": [
    {
     "data": {
      "text/plain": "          meeting_id           created_at           updated_at  \\\n0   aE15d1P6gHP32Q14  2018-06-12T09:55:22  2018-06-12T09:55:22   \n1   bzk5a16375MRX4H5  2018-06-12T09:55:22  2018-06-12T09:55:22   \n2   37bn6kvl7d1J1e42  2018-06-12T09:55:22  2018-06-12T09:55:22   \n3   h44V7Y6Og6737uiT  2018-06-12T09:55:22  2018-06-12T09:55:22   \n4   zD3632TpVe4y3e44  2018-06-12T09:55:22  2018-06-12T09:55:22   \n5   7aK8407ue462nnMK  2018-06-12T09:55:22  2018-06-12T09:55:22   \n6   hXV8h4TTm467g812  2018-06-12T09:55:22  2018-06-12T09:55:22   \n7   4ZM7iX76pC35L00L  2018-06-12T09:55:22  2018-06-12T09:55:22   \n8   NJ232i6cSV6tD620  2018-06-12T09:55:22  2018-06-12T09:55:22   \n9   02I1k0f8j2LpRi40  2018-06-12T09:55:22  2018-06-12T09:55:22   \n10  t0w3Cx8G1sq5285G  2018-06-12T09:55:22  2018-06-12T09:55:22   \n11  RN6Vs8zC66Z3387i  2018-06-12T09:55:22  2018-06-12T09:55:22   \n12  2186SY632isZeM4Z  2018-06-12T09:55:22  2018-06-12T09:55:22   \n13  i62732xjF137cSiO  2018-06-12T09:55:22  2018-06-12T09:55:22   \n14  53n6H7a7E507Jxgr  2018-06-12T09:55:22  2018-06-12T09:55:22   \n\n     meeting_topic   meeting_start_date     meeting_end_date  \\\n0   Progress Check  2018-06-12T09:55:22  2018-06-12T09:55:22   \n1       Job Search  2018-06-12T09:55:22  2018-06-12T09:55:22   \n2       Job Search  2018-06-12T09:55:22  2018-06-12T09:55:22   \n3         GCA Help  2018-06-12T09:55:22  2018-06-12T09:55:22   \n4         GCA Help  2018-06-12T09:55:22  2018-06-12T09:55:22   \n5       Job Search  2018-06-12T09:55:22  2018-06-12T09:55:22   \n6      Resume Help  2018-06-12T09:55:22  2018-06-12T09:55:22   \n7      Resume Help  2018-06-12T09:55:22  2018-06-12T09:55:22   \n8   Progress Check  2018-06-12T09:55:22  2018-06-12T09:55:22   \n9       Job Search  2018-06-12T09:55:22  2018-06-12T09:55:22   \n10      Job Search  2018-06-12T09:55:22  2018-06-12T09:55:22   \n11      Job Search  2018-06-12T09:55:22  2018-06-12T09:55:22   \n12        GCA Help  2018-06-12T09:55:22  2018-06-12T09:55:22   \n13        GCA Help  2018-06-12T09:55:22  2018-06-12T09:55:22   \n14  Progress Check  2018-06-12T09:55:22  2018-06-12T09:55:22   \n\n             host_id       attendee_id                       meeting_notes  \\\n0   MS8Z7Ktb4b3880s8  7O1s01h1d0v5KyQ7  This is a pile of crap. I hate it.   \n1   605TF52AKz5mV0X1  351HEf841UH78ndH  This is a pile of crap. I hate it.   \n2   Mhp314z80m50nRH7  0W8zo5JfAG8T4008  This is a pile of crap. I hate it.   \n3   3l57EW4381RQdXy2  37v3j3i4O8rDQ74A  This is a pile of crap. I hate it.   \n4   3i35zO52F2U1tBz4  M67T2HX1k18y16IJ  This is a pile of crap. I hate it.   \n5   3i35zO52F2U1tBz4  X6H5bF22r3h8RY76  This is amazing. I really love it.   \n6   i7U0HRiXL313F118  401Qh1U8zel08Bo0  This is amazing. I really love it.   \n7   o1452mYaYKH0K552  2cz84wif1102RZ2e  This is amazing. I really love it.   \n8   Mhp314z80m50nRH7  43hh2XF5Bd6eV885  This is amazing. I really love it.   \n9   5lzKJ3r5MY3477b5  351HEf841UH78ndH  This is amazing. I really love it.   \n10  o1452mYaYKH0K552  o2g3aPe0Dd55l186  This is amazing. I really love it.   \n11  67fY674j6h3jsg0s  8vg2X536f5e7pbs1                 Meeting notes here!   \n12  o1452mYaYKH0K552  e3a503P1w4qX1Mv4                 Meeting notes here!   \n13  C360K1o261Zsuzt3  a61E84E127LcZWD2                 Meeting notes here!   \n14  C6m76zA8Zw606VL0  lWQ87483uNxfq088                 Meeting notes here!   \n\n   meeting_missed  sentiment  \n0        Attended    -0.7430  \n1        Attended    -0.7430  \n2        Attended    -0.7430  \n3          Missed    -0.7430  \n4        Attended    -0.7430  \n5          Missed     0.8516  \n6          Missed     0.8516  \n7        Attended     0.8516  \n8          Missed     0.8516  \n9          Missed     0.8516  \n10         Missed     0.8516  \n11       Attended     0.0000  \n12       Attended     0.0000  \n13       Attended     0.0000  \n14       Attended     0.0000  ",
      "text/html": "<div>\n<style scoped>\n    .dataframe tbody tr th:only-of-type {\n        vertical-align: middle;\n    }\n\n    .dataframe tbody tr th {\n        vertical-align: top;\n    }\n\n    .dataframe thead th {\n        text-align: right;\n    }\n</style>\n<table border=\"1\" class=\"dataframe\">\n  <thead>\n    <tr style=\"text-align: right;\">\n      <th></th>\n      <th>meeting_id</th>\n      <th>created_at</th>\n      <th>updated_at</th>\n      <th>meeting_topic</th>\n      <th>meeting_start_date</th>\n      <th>meeting_end_date</th>\n      <th>host_id</th>\n      <th>attendee_id</th>\n      <th>meeting_notes</th>\n      <th>meeting_missed</th>\n      <th>sentiment</th>\n    </tr>\n  </thead>\n  <tbody>\n    <tr>\n      <th>0</th>\n      <td>aE15d1P6gHP32Q14</td>\n      <td>2018-06-12T09:55:22</td>\n      <td>2018-06-12T09:55:22</td>\n      <td>Progress Check</td>\n      <td>2018-06-12T09:55:22</td>\n      <td>2018-06-12T09:55:22</td>\n      <td>MS8Z7Ktb4b3880s8</td>\n      <td>7O1s01h1d0v5KyQ7</td>\n      <td>This is a pile of crap. I hate it.</td>\n      <td>Attended</td>\n      <td>-0.7430</td>\n    </tr>\n    <tr>\n      <th>1</th>\n      <td>bzk5a16375MRX4H5</td>\n      <td>2018-06-12T09:55:22</td>\n      <td>2018-06-12T09:55:22</td>\n      <td>Job Search</td>\n      <td>2018-06-12T09:55:22</td>\n      <td>2018-06-12T09:55:22</td>\n      <td>605TF52AKz5mV0X1</td>\n      <td>351HEf841UH78ndH</td>\n      <td>This is a pile of crap. I hate it.</td>\n      <td>Attended</td>\n      <td>-0.7430</td>\n    </tr>\n    <tr>\n      <th>2</th>\n      <td>37bn6kvl7d1J1e42</td>\n      <td>2018-06-12T09:55:22</td>\n      <td>2018-06-12T09:55:22</td>\n      <td>Job Search</td>\n      <td>2018-06-12T09:55:22</td>\n      <td>2018-06-12T09:55:22</td>\n      <td>Mhp314z80m50nRH7</td>\n      <td>0W8zo5JfAG8T4008</td>\n      <td>This is a pile of crap. I hate it.</td>\n      <td>Attended</td>\n      <td>-0.7430</td>\n    </tr>\n    <tr>\n      <th>3</th>\n      <td>h44V7Y6Og6737uiT</td>\n      <td>2018-06-12T09:55:22</td>\n      <td>2018-06-12T09:55:22</td>\n      <td>GCA Help</td>\n      <td>2018-06-12T09:55:22</td>\n      <td>2018-06-12T09:55:22</td>\n      <td>3l57EW4381RQdXy2</td>\n      <td>37v3j3i4O8rDQ74A</td>\n      <td>This is a pile of crap. I hate it.</td>\n      <td>Missed</td>\n      <td>-0.7430</td>\n    </tr>\n    <tr>\n      <th>4</th>\n      <td>zD3632TpVe4y3e44</td>\n      <td>2018-06-12T09:55:22</td>\n      <td>2018-06-12T09:55:22</td>\n      <td>GCA Help</td>\n      <td>2018-06-12T09:55:22</td>\n      <td>2018-06-12T09:55:22</td>\n      <td>3i35zO52F2U1tBz4</td>\n      <td>M67T2HX1k18y16IJ</td>\n      <td>This is a pile of crap. I hate it.</td>\n      <td>Attended</td>\n      <td>-0.7430</td>\n    </tr>\n    <tr>\n      <th>5</th>\n      <td>7aK8407ue462nnMK</td>\n      <td>2018-06-12T09:55:22</td>\n      <td>2018-06-12T09:55:22</td>\n      <td>Job Search</td>\n      <td>2018-06-12T09:55:22</td>\n      <td>2018-06-12T09:55:22</td>\n      <td>3i35zO52F2U1tBz4</td>\n      <td>X6H5bF22r3h8RY76</td>\n      <td>This is amazing. I really love it.</td>\n      <td>Missed</td>\n      <td>0.8516</td>\n    </tr>\n    <tr>\n      <th>6</th>\n      <td>hXV8h4TTm467g812</td>\n      <td>2018-06-12T09:55:22</td>\n      <td>2018-06-12T09:55:22</td>\n      <td>Resume Help</td>\n      <td>2018-06-12T09:55:22</td>\n      <td>2018-06-12T09:55:22</td>\n      <td>i7U0HRiXL313F118</td>\n      <td>401Qh1U8zel08Bo0</td>\n      <td>This is amazing. I really love it.</td>\n      <td>Missed</td>\n      <td>0.8516</td>\n    </tr>\n    <tr>\n      <th>7</th>\n      <td>4ZM7iX76pC35L00L</td>\n      <td>2018-06-12T09:55:22</td>\n      <td>2018-06-12T09:55:22</td>\n      <td>Resume Help</td>\n      <td>2018-06-12T09:55:22</td>\n      <td>2018-06-12T09:55:22</td>\n      <td>o1452mYaYKH0K552</td>\n      <td>2cz84wif1102RZ2e</td>\n      <td>This is amazing. I really love it.</td>\n      <td>Attended</td>\n      <td>0.8516</td>\n    </tr>\n    <tr>\n      <th>8</th>\n      <td>NJ232i6cSV6tD620</td>\n      <td>2018-06-12T09:55:22</td>\n      <td>2018-06-12T09:55:22</td>\n      <td>Progress Check</td>\n      <td>2018-06-12T09:55:22</td>\n      <td>2018-06-12T09:55:22</td>\n      <td>Mhp314z80m50nRH7</td>\n      <td>43hh2XF5Bd6eV885</td>\n      <td>This is amazing. I really love it.</td>\n      <td>Missed</td>\n      <td>0.8516</td>\n    </tr>\n    <tr>\n      <th>9</th>\n      <td>02I1k0f8j2LpRi40</td>\n      <td>2018-06-12T09:55:22</td>\n      <td>2018-06-12T09:55:22</td>\n      <td>Job Search</td>\n      <td>2018-06-12T09:55:22</td>\n      <td>2018-06-12T09:55:22</td>\n      <td>5lzKJ3r5MY3477b5</td>\n      <td>351HEf841UH78ndH</td>\n      <td>This is amazing. I really love it.</td>\n      <td>Missed</td>\n      <td>0.8516</td>\n    </tr>\n    <tr>\n      <th>10</th>\n      <td>t0w3Cx8G1sq5285G</td>\n      <td>2018-06-12T09:55:22</td>\n      <td>2018-06-12T09:55:22</td>\n      <td>Job Search</td>\n      <td>2018-06-12T09:55:22</td>\n      <td>2018-06-12T09:55:22</td>\n      <td>o1452mYaYKH0K552</td>\n      <td>o2g3aPe0Dd55l186</td>\n      <td>This is amazing. I really love it.</td>\n      <td>Missed</td>\n      <td>0.8516</td>\n    </tr>\n    <tr>\n      <th>11</th>\n      <td>RN6Vs8zC66Z3387i</td>\n      <td>2018-06-12T09:55:22</td>\n      <td>2018-06-12T09:55:22</td>\n      <td>Job Search</td>\n      <td>2018-06-12T09:55:22</td>\n      <td>2018-06-12T09:55:22</td>\n      <td>67fY674j6h3jsg0s</td>\n      <td>8vg2X536f5e7pbs1</td>\n      <td>Meeting notes here!</td>\n      <td>Attended</td>\n      <td>0.0000</td>\n    </tr>\n    <tr>\n      <th>12</th>\n      <td>2186SY632isZeM4Z</td>\n      <td>2018-06-12T09:55:22</td>\n      <td>2018-06-12T09:55:22</td>\n      <td>GCA Help</td>\n      <td>2018-06-12T09:55:22</td>\n      <td>2018-06-12T09:55:22</td>\n      <td>o1452mYaYKH0K552</td>\n      <td>e3a503P1w4qX1Mv4</td>\n      <td>Meeting notes here!</td>\n      <td>Attended</td>\n      <td>0.0000</td>\n    </tr>\n    <tr>\n      <th>13</th>\n      <td>i62732xjF137cSiO</td>\n      <td>2018-06-12T09:55:22</td>\n      <td>2018-06-12T09:55:22</td>\n      <td>GCA Help</td>\n      <td>2018-06-12T09:55:22</td>\n      <td>2018-06-12T09:55:22</td>\n      <td>C360K1o261Zsuzt3</td>\n      <td>a61E84E127LcZWD2</td>\n      <td>Meeting notes here!</td>\n      <td>Attended</td>\n      <td>0.0000</td>\n    </tr>\n    <tr>\n      <th>14</th>\n      <td>53n6H7a7E507Jxgr</td>\n      <td>2018-06-12T09:55:22</td>\n      <td>2018-06-12T09:55:22</td>\n      <td>Progress Check</td>\n      <td>2018-06-12T09:55:22</td>\n      <td>2018-06-12T09:55:22</td>\n      <td>C6m76zA8Zw606VL0</td>\n      <td>lWQ87483uNxfq088</td>\n      <td>Meeting notes here!</td>\n      <td>Attended</td>\n      <td>0.0000</td>\n    </tr>\n  </tbody>\n</table>\n</div>"
     },
     "execution_count": 47,
     "metadata": {},
     "output_type": "execute_result"
    }
   ],
   "source": [
    "df_meetings.head(15)"
   ]
  },
  {
   "cell_type": "code",
   "execution_count": null,
   "metadata": {
    "id": "IqS2B0WhQXN7"
   },
   "outputs": [],
   "source": []
  }
 ],
 "metadata": {
  "colab": {
   "collapsed_sections": [],
   "name": "Underdogs_Meeting_Sentiment.ipynb",
   "provenance": []
  },
  "kernelspec": {
   "display_name": "Python 3 (ipykernel)",
   "language": "python",
   "name": "python3"
  },
  "language_info": {
   "codemirror_mode": {
    "name": "ipython",
    "version": 3
   },
   "file_extension": ".py",
   "mimetype": "text/x-python",
   "name": "python",
   "nbconvert_exporter": "python",
   "pygments_lexer": "ipython3",
   "version": "3.10.2"
  }
 },
 "nbformat": 4,
 "nbformat_minor": 1
}