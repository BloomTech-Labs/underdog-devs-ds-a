{
 "cells": [
  {
   "cell_type": "code",
   "execution_count": 2,
   "metadata": {
    "pycharm": {
     "name": "#%%\n"
    }
   },
   "outputs": [],
   "source": [
    "import requests\n",
    "import pandas as pd\n",
    "import altair as alt\n",
    "import json"
   ]
  },
  {
   "cell_type": "code",
   "execution_count": 3,
   "metadata": {
    "pycharm": {
     "name": "#%%\n"
    }
   },
   "outputs": [
    {
     "data": {
      "text/plain": [
       "{'result': '0.45.2'}"
      ]
     },
     "execution_count": 3,
     "metadata": {},
     "output_type": "execute_result"
    }
   ],
   "source": [
    "requests.get(\"http://underdog-devs-ds-a-dev.us-east-1.elasticbeanstalk.com/version\").json()"
   ]
  },
  {
   "cell_type": "code",
   "execution_count": 8,
   "metadata": {
    "pycharm": {
     "name": "#%%\n"
    }
   },
   "outputs": [],
   "source": [
    "mentees_df = pd.DataFrame(requests.post(\"http://underdog-devs-ds-a-dev.us-east-1.elasticbeanstalk.com/Mentees/read\").json()[\"result\"])[['tech_stack','name']]\n",
    "mentors_df = pd.DataFrame(requests.post(\"http://underdog-devs-ds-a-dev.us-east-1.elasticbeanstalk.com/Mentors/read\").json()[\"result\"])[['tech_stack','name']]\n",
    "\n",
    "mentees_df['user_role'] = 'Mentee'\n",
    "mentors_df['user_role'] = 'Mentor'\n",
    "\n",
    "DF = pd.concat([mentees_df,mentors_df], axis=0)"
   ]
  },
  {
   "cell_type": "code",
   "execution_count": 9,
   "metadata": {
    "pycharm": {
     "name": "#%%\n"
    }
   },
   "outputs": [
    {
     "data": {
      "text/html": [
       "<div>\n",
       "<style scoped>\n",
       "    .dataframe tbody tr th:only-of-type {\n",
       "        vertical-align: middle;\n",
       "    }\n",
       "\n",
       "    .dataframe tbody tr th {\n",
       "        vertical-align: top;\n",
       "    }\n",
       "\n",
       "    .dataframe thead th {\n",
       "        text-align: right;\n",
       "    }\n",
       "</style>\n",
       "<table border=\"1\" class=\"dataframe\">\n",
       "  <thead>\n",
       "    <tr style=\"text-align: right;\">\n",
       "      <th></th>\n",
       "      <th>tech_stack</th>\n",
       "      <th>name</th>\n",
       "      <th>user_role</th>\n",
       "    </tr>\n",
       "  </thead>\n",
       "  <tbody>\n",
       "    <tr>\n",
       "      <th>0</th>\n",
       "      <td>Web: HTML, CSS, JavaScript</td>\n",
       "      <td>Coraline Smith</td>\n",
       "      <td>Mentee</td>\n",
       "    </tr>\n",
       "    <tr>\n",
       "      <th>1</th>\n",
       "      <td>iOS: Swift</td>\n",
       "      <td>Ali Turner</td>\n",
       "      <td>Mentee</td>\n",
       "    </tr>\n",
       "    <tr>\n",
       "      <th>2</th>\n",
       "      <td>Web: HTML, CSS, JavaScript</td>\n",
       "      <td>Calliope Gutierrez</td>\n",
       "      <td>Mentee</td>\n",
       "    </tr>\n",
       "    <tr>\n",
       "      <th>3</th>\n",
       "      <td>Career Development</td>\n",
       "      <td>Adelyn Cooper</td>\n",
       "      <td>Mentee</td>\n",
       "    </tr>\n",
       "    <tr>\n",
       "      <th>4</th>\n",
       "      <td>Career Development</td>\n",
       "      <td>Juniper Gonzales</td>\n",
       "      <td>Mentee</td>\n",
       "    </tr>\n",
       "  </tbody>\n",
       "</table>\n",
       "</div>"
      ],
      "text/plain": [
       "                   tech_stack                name user_role\n",
       "0  Web: HTML, CSS, JavaScript      Coraline Smith    Mentee\n",
       "1                  iOS: Swift          Ali Turner    Mentee\n",
       "2  Web: HTML, CSS, JavaScript  Calliope Gutierrez    Mentee\n",
       "3          Career Development       Adelyn Cooper    Mentee\n",
       "4          Career Development    Juniper Gonzales    Mentee"
      ]
     },
     "execution_count": 9,
     "metadata": {},
     "output_type": "execute_result"
    }
   ],
   "source": [
    "DF.head(5)"
   ]
  },
  {
   "cell_type": "code",
   "execution_count": 10,
   "metadata": {},
   "outputs": [],
   "source": [
    "def tech_stack_by_role(dataframe: pd.DataFrame):\n",
    "    return alt.Chart(\n",
    "        dataframe,\n",
    "        title='Tech Stack by Role',\n",
    "    ).mark_bar(opacity=0.7).encode(\n",
    "        x=alt.X('count()', title=\"\"),\n",
    "        y=alt.Y('tech_stack', title=\"\"),\n",
    "        color=alt.Color('user_role', title=\"User Role\"),\n",
    "        tooltip=alt.Tooltip(list(dataframe.columns)),\n",
    "    )"
   ]
  },
  {
   "cell_type": "code",
   "execution_count": 11,
   "metadata": {},
   "outputs": [
    {
     "data": {
      "text/html": [
       "\n",
       "<div id=\"altair-viz-62f69885058645aeb7bc82ac069b24e0\"></div>\n",
       "<script type=\"text/javascript\">\n",
       "  var VEGA_DEBUG = (typeof VEGA_DEBUG == \"undefined\") ? {} : VEGA_DEBUG;\n",
       "  (function(spec, embedOpt){\n",
       "    let outputDiv = document.currentScript.previousElementSibling;\n",
       "    if (outputDiv.id !== \"altair-viz-62f69885058645aeb7bc82ac069b24e0\") {\n",
       "      outputDiv = document.getElementById(\"altair-viz-62f69885058645aeb7bc82ac069b24e0\");\n",
       "    }\n",
       "    const paths = {\n",
       "      \"vega\": \"https://cdn.jsdelivr.net/npm//vega@5?noext\",\n",
       "      \"vega-lib\": \"https://cdn.jsdelivr.net/npm//vega-lib?noext\",\n",
       "      \"vega-lite\": \"https://cdn.jsdelivr.net/npm//vega-lite@4.17.0?noext\",\n",
       "      \"vega-embed\": \"https://cdn.jsdelivr.net/npm//vega-embed@6?noext\",\n",
       "    };\n",
       "\n",
       "    function maybeLoadScript(lib, version) {\n",
       "      var key = `${lib.replace(\"-\", \"\")}_version`;\n",
       "      return (VEGA_DEBUG[key] == version) ?\n",
       "        Promise.resolve(paths[lib]) :\n",
       "        new Promise(function(resolve, reject) {\n",
       "          var s = document.createElement('script');\n",
       "          document.getElementsByTagName(\"head\")[0].appendChild(s);\n",
       "          s.async = true;\n",
       "          s.onload = () => {\n",
       "            VEGA_DEBUG[key] = version;\n",
       "            return resolve(paths[lib]);\n",
       "          };\n",
       "          s.onerror = () => reject(`Error loading script: ${paths[lib]}`);\n",
       "          s.src = paths[lib];\n",
       "        });\n",
       "    }\n",
       "\n",
       "    function showError(err) {\n",
       "      outputDiv.innerHTML = `<div class=\"error\" style=\"color:red;\">${err}</div>`;\n",
       "      throw err;\n",
       "    }\n",
       "\n",
       "    function displayChart(vegaEmbed) {\n",
       "      vegaEmbed(outputDiv, spec, embedOpt)\n",
       "        .catch(err => showError(`Javascript Error: ${err.message}<br>This usually means there's a typo in your chart specification. See the javascript console for the full traceback.`));\n",
       "    }\n",
       "\n",
       "    if(typeof define === \"function\" && define.amd) {\n",
       "      requirejs.config({paths});\n",
       "      require([\"vega-embed\"], displayChart, err => showError(`Error loading script: ${err.message}`));\n",
       "    } else {\n",
       "      maybeLoadScript(\"vega\", \"5\")\n",
       "        .then(() => maybeLoadScript(\"vega-lite\", \"4.17.0\"))\n",
       "        .then(() => maybeLoadScript(\"vega-embed\", \"6\"))\n",
       "        .catch(showError)\n",
       "        .then(() => displayChart(vegaEmbed));\n",
       "    }\n",
       "  })({\"config\": {\"view\": {\"continuousWidth\": 400, \"continuousHeight\": 300}}, \"data\": {\"name\": \"data-0b7b05a16d8776ed2d4fef90daa18653\"}, \"mark\": {\"type\": \"bar\", \"opacity\": 0.7}, \"encoding\": {\"color\": {\"field\": \"user_role\", \"title\": \"User Role\", \"type\": \"nominal\"}, \"tooltip\": [{\"field\": \"tech_stack\", \"type\": \"nominal\"}, {\"field\": \"name\", \"type\": \"nominal\"}, {\"field\": \"user_role\", \"type\": \"nominal\"}], \"x\": {\"aggregate\": \"count\", \"title\": \"\", \"type\": \"quantitative\"}, \"y\": {\"field\": \"tech_stack\", \"title\": \"\", \"type\": \"nominal\"}}, \"title\": \"Tech Stack by Role\", \"$schema\": \"https://vega.github.io/schema/vega-lite/v4.17.0.json\", \"datasets\": {\"data-0b7b05a16d8776ed2d4fef90daa18653\": [{\"tech_stack\": \"Web: HTML, CSS, JavaScript\", \"name\": \"Coraline Smith\", \"user_role\": \"Mentee\"}, {\"tech_stack\": \"iOS: Swift\", \"name\": \"Ali Turner\", \"user_role\": \"Mentee\"}, {\"tech_stack\": \"Web: HTML, CSS, JavaScript\", \"name\": \"Calliope Gutierrez\", \"user_role\": \"Mentee\"}, {\"tech_stack\": \"Career Development\", \"name\": \"Adelyn Cooper\", \"user_role\": \"Mentee\"}, {\"tech_stack\": \"Career Development\", \"name\": \"Juniper Gonzales\", \"user_role\": \"Mentee\"}, {\"tech_stack\": \"Android: Java\", \"name\": \"Rhea Davis\", \"user_role\": \"Mentee\"}, {\"tech_stack\": \"General Programming\", \"name\": \"Lorelai Rogers\", \"user_role\": \"Mentee\"}, {\"tech_stack\": \"Career Development\", \"name\": \"Phoenix Hernandez\", \"user_role\": \"Mentee\"}, {\"tech_stack\": \"Career Development\", \"name\": \"Alberto Watson\", \"user_role\": \"Mentee\"}, {\"tech_stack\": \"Web: HTML, CSS, JavaScript\", \"name\": \"Hector Anderson\", \"user_role\": \"Mentee\"}, {\"tech_stack\": \"Data Science: Python\", \"name\": \"Brynn Gutierrez\", \"user_role\": \"Mentee\"}, {\"tech_stack\": \"Android: Java\", \"name\": \"Emilia Myers\", \"user_role\": \"Mentee\"}, {\"tech_stack\": \"Career Development\", \"name\": \"Adam Cook\", \"user_role\": \"Mentee\"}, {\"tech_stack\": \"Data Science: Python\", \"name\": \"Freyja Wood\", \"user_role\": \"Mentee\"}, {\"tech_stack\": \"General Programming\", \"name\": \"Briar Evans\", \"user_role\": \"Mentee\"}, {\"tech_stack\": \"Web: HTML, CSS, JavaScript\", \"name\": \"Catalina Moore\", \"user_role\": \"Mentee\"}, {\"tech_stack\": \"iOS: Swift\", \"name\": \"Brennan Walker\", \"user_role\": \"Mentee\"}, {\"tech_stack\": \"Web: HTML, CSS, JavaScript\", \"name\": \"Ariyah Scott\", \"user_role\": \"Mentee\"}, {\"tech_stack\": \"Web: HTML, CSS, JavaScript\", \"name\": \"Bellamy Moore\", \"user_role\": \"Mentee\"}, {\"tech_stack\": \"Web: HTML, CSS, JavaScript\", \"name\": \"Dallas Sanders\", \"user_role\": \"Mentee\"}, {\"tech_stack\": \"Data Science: Python\", \"name\": \"Skyler Lopez\", \"user_role\": \"Mentee\"}, {\"tech_stack\": \"Android: Java\", \"name\": \"Milana Murphy\", \"user_role\": \"Mentee\"}, {\"tech_stack\": \"Data Science: Python\", \"name\": \"Wyatt Hughes\", \"user_role\": \"Mentee\"}, {\"tech_stack\": \"Web: HTML, CSS, JavaScript\", \"name\": \"Sarai Myers\", \"user_role\": \"Mentee\"}, {\"tech_stack\": \"Web: HTML, CSS, JavaScript\", \"name\": \"Sabrina Long\", \"user_role\": \"Mentee\"}, {\"tech_stack\": \"Career Development\", \"name\": \"Ella Scott\", \"user_role\": \"Mentee\"}, {\"tech_stack\": \"iOS: Swift\", \"name\": \"Princeton Hughes\", \"user_role\": \"Mentee\"}, {\"tech_stack\": \"Data Science: Python\", \"name\": \"Kadence Mitchell\", \"user_role\": \"Mentee\"}, {\"tech_stack\": \"Career Development\", \"name\": \"Clarissa White\", \"user_role\": \"Mentee\"}, {\"tech_stack\": \"General Programming\", \"name\": \"Adele Kelly\", \"user_role\": \"Mentee\"}, {\"tech_stack\": \"Android: Java\", \"name\": \"Penelope Rodriguez\", \"user_role\": \"Mentee\"}, {\"tech_stack\": \"iOS: Swift\", \"name\": \"Alondra Williams\", \"user_role\": \"Mentee\"}, {\"tech_stack\": \"General Programming\", \"name\": \"Jaxxon Young\", \"user_role\": \"Mentee\"}, {\"tech_stack\": \"Web: HTML, CSS, JavaScript\", \"name\": \"Devon Reyes\", \"user_role\": \"Mentee\"}, {\"tech_stack\": \"Career Development\", \"name\": \"Adler Rivera\", \"user_role\": \"Mentee\"}, {\"tech_stack\": \"Data Science: Python\", \"name\": \"Darius Ross\", \"user_role\": \"Mentee\"}, {\"tech_stack\": \"iOS: Swift\", \"name\": \"Addilyn Sanders\", \"user_role\": \"Mentee\"}, {\"tech_stack\": \"Web: HTML, CSS, JavaScript\", \"name\": \"Khari Jimenez\", \"user_role\": \"Mentee\"}, {\"tech_stack\": \"Career Development\", \"name\": \"Karen Harris\", \"user_role\": \"Mentee\"}, {\"tech_stack\": \"Career Development\", \"name\": \"Cedric Watson\", \"user_role\": \"Mentee\"}, {\"tech_stack\": \"Android: Java\", \"name\": \"Calvin Ortiz\", \"user_role\": \"Mentee\"}, {\"tech_stack\": \"Data Science: Python\", \"name\": \"Clementine White\", \"user_role\": \"Mentee\"}, {\"tech_stack\": \"Career Development\", \"name\": \"Johanna Nguyen\", \"user_role\": \"Mentee\"}, {\"tech_stack\": \"Career Development\", \"name\": \"Roger Wright\", \"user_role\": \"Mentee\"}, {\"tech_stack\": \"Android: Java\", \"name\": \"Macy Morris\", \"user_role\": \"Mentee\"}, {\"tech_stack\": \"Data Science: Python\", \"name\": \"Alejandra Hill\", \"user_role\": \"Mentee\"}, {\"tech_stack\": \"Data Science: Python\", \"name\": \"Wesson Flores\", \"user_role\": \"Mentee\"}, {\"tech_stack\": \"Data Science: Python\", \"name\": \"Chanel Howard\", \"user_role\": \"Mentee\"}, {\"tech_stack\": \"Android: Java\", \"name\": \"Cataleya Rogers\", \"user_role\": \"Mentee\"}, {\"tech_stack\": \"Android: Java\", \"name\": \"Marshall Lopez\", \"user_role\": \"Mentee\"}, {\"tech_stack\": \"Data Science: Python\", \"name\": \"Melissa Cooper\", \"user_role\": \"Mentee\"}, {\"tech_stack\": \"Data Science: Python\", \"name\": \"Kayson Castillo\", \"user_role\": \"Mentee\"}, {\"tech_stack\": \"Data Science: Python\", \"name\": \"Lennox Jackson\", \"user_role\": \"Mentee\"}, {\"tech_stack\": \"Android: Java\", \"name\": \"Roger Flores\", \"user_role\": \"Mentee\"}, {\"tech_stack\": \"Data Science: Python\", \"name\": \"Forrest Martin\", \"user_role\": \"Mentee\"}, {\"tech_stack\": \"Android: Java\", \"name\": \"Cesar Adams\", \"user_role\": \"Mentee\"}, {\"tech_stack\": \"Data Science: Python\", \"name\": \"Alaya Howard\", \"user_role\": \"Mentee\"}, {\"tech_stack\": \"Web: HTML, CSS, JavaScript\", \"name\": \"Marlowe Sanders\", \"user_role\": \"Mentee\"}, {\"tech_stack\": \"General Programming\", \"name\": \"Hudson Taylor\", \"user_role\": \"Mentee\"}, {\"tech_stack\": \"Career Development\", \"name\": \"Marilyn Brown\", \"user_role\": \"Mentee\"}, {\"tech_stack\": \"Android: Java\", \"name\": \"Zahra Hill\", \"user_role\": \"Mentee\"}, {\"tech_stack\": \"Career Development\", \"name\": \"Alisson Hernandez\", \"user_role\": \"Mentee\"}, {\"tech_stack\": \"Android: Java\", \"name\": \"Jaxon Taylor\", \"user_role\": \"Mentee\"}, {\"tech_stack\": \"Web: HTML, CSS, JavaScript\", \"name\": \"Westley Jackson\", \"user_role\": \"Mentee\"}, {\"tech_stack\": \"Android: Java\", \"name\": \"Emmie Rodriguez\", \"user_role\": \"Mentee\"}, {\"tech_stack\": \"General Programming\", \"name\": \"Laila Morgan\", \"user_role\": \"Mentee\"}, {\"tech_stack\": \"Career Development\", \"name\": \"Moshe Ruiz\", \"user_role\": \"Mentee\"}, {\"tech_stack\": \"General Programming\", \"name\": \"Christian Patel\", \"user_role\": \"Mentee\"}, {\"tech_stack\": \"Career Development\", \"name\": \"Simon Parker\", \"user_role\": \"Mentee\"}, {\"tech_stack\": \"Android: Java\", \"name\": \"Lawson Ramos\", \"user_role\": \"Mentee\"}, {\"tech_stack\": \"Web: HTML, CSS, JavaScript\", \"name\": \"Mariana Ward\", \"user_role\": \"Mentee\"}, {\"tech_stack\": \"iOS: Swift\", \"name\": \"Orion Collins\", \"user_role\": \"Mentee\"}, {\"tech_stack\": \"Web: HTML, CSS, JavaScript\", \"name\": \"Legacy Adams\", \"user_role\": \"Mentee\"}, {\"tech_stack\": \"Career Development\", \"name\": \"Bishop Ruiz\", \"user_role\": \"Mentee\"}, {\"tech_stack\": \"iOS: Swift\", \"name\": \"Lillie Rodriguez\", \"user_role\": \"Mentee\"}, {\"tech_stack\": \"General Programming\", \"name\": \"Rocco Parker\", \"user_role\": \"Mentee\"}, {\"tech_stack\": \"General Programming\", \"name\": \"Julieta Lewis\", \"user_role\": \"Mentee\"}, {\"tech_stack\": \"Career Development\", \"name\": \"Uriel Parker\", \"user_role\": \"Mentee\"}, {\"tech_stack\": \"General Programming\", \"name\": \"Holly Gray\", \"user_role\": \"Mentee\"}, {\"tech_stack\": \"Data Science: Python\", \"name\": \"Charlee Hernandez\", \"user_role\": \"Mentee\"}, {\"tech_stack\": \"Career Development\", \"name\": \"Nancy Anderson\", \"user_role\": \"Mentee\"}, {\"tech_stack\": \"Web: HTML, CSS, JavaScript\", \"name\": \"Stanley Martin\", \"user_role\": \"Mentee\"}, {\"tech_stack\": \"Career Development\", \"name\": \"Laurel Lee\", \"user_role\": \"Mentee\"}, {\"tech_stack\": \"General Programming\", \"name\": \"Fletcher Ortiz\", \"user_role\": \"Mentee\"}, {\"tech_stack\": \"Android: Java\", \"name\": \"Aziel Anderson\", \"user_role\": \"Mentee\"}, {\"tech_stack\": \"iOS: Swift\", \"name\": \"Paxton Jackson\", \"user_role\": \"Mentee\"}, {\"tech_stack\": \"Career Development\", \"name\": \"Genesis Torres\", \"user_role\": \"Mentee\"}, {\"tech_stack\": \"Android: Java\", \"name\": \"Jakob Reed\", \"user_role\": \"Mentee\"}, {\"tech_stack\": \"iOS: Swift\", \"name\": \"Maryam Stewart\", \"user_role\": \"Mentee\"}, {\"tech_stack\": \"Career Development\", \"name\": \"Harlow Johnson\", \"user_role\": \"Mentee\"}, {\"tech_stack\": \"iOS: Swift\", \"name\": \"Leandro Campbell\", \"user_role\": \"Mentee\"}, {\"tech_stack\": \"Career Development\", \"name\": \"Nyomi Jimenez\", \"user_role\": \"Mentee\"}, {\"tech_stack\": \"Android: Java\", \"name\": \"Kaison Jones\", \"user_role\": \"Mentee\"}, {\"tech_stack\": \"Data Science: Python\", \"name\": \"Dahlia Watson\", \"user_role\": \"Mentee\"}, {\"tech_stack\": \"General Programming\", \"name\": \"Aitana Parker\", \"user_role\": \"Mentee\"}, {\"tech_stack\": \"Android: Java\", \"name\": \"Leslie Cruz\", \"user_role\": \"Mentee\"}, {\"tech_stack\": \"iOS: Swift\", \"name\": \"Zoie Robinson\", \"user_role\": \"Mentee\"}, {\"tech_stack\": \"Android: Java\", \"name\": \"Chanel Turner\", \"user_role\": \"Mentee\"}, {\"tech_stack\": \"Data Science: Python\", \"name\": \"Andrea Martinez\", \"user_role\": \"Mentee\"}, {\"tech_stack\": \"Data Science: Python\", \"name\": \"Krew Martinez\", \"user_role\": \"Mentee\"}, {\"tech_stack\": \"Career Development\", \"name\": \"Alejandra Wood\", \"user_role\": \"Mentor\"}, {\"tech_stack\": \"General Programming\", \"name\": \"Cason Gutierrez\", \"user_role\": \"Mentor\"}, {\"tech_stack\": \"Android: Java\", \"name\": \"Mavis Castillo\", \"user_role\": \"Mentor\"}, {\"tech_stack\": \"Data Science: Python\", \"name\": \"Amos Davis\", \"user_role\": \"Mentor\"}, {\"tech_stack\": \"Web: HTML, CSS, JavaScript\", \"name\": \"Madison Davis\", \"user_role\": \"Mentor\"}, {\"tech_stack\": \"Web: HTML, CSS, JavaScript\", \"name\": \"Asher Gonzales\", \"user_role\": \"Mentor\"}, {\"tech_stack\": \"Web: HTML, CSS, JavaScript\", \"name\": \"Evan Phillips\", \"user_role\": \"Mentor\"}, {\"tech_stack\": \"Data Science: Python\", \"name\": \"Miles Morris\", \"user_role\": \"Mentor\"}, {\"tech_stack\": \"General Programming\", \"name\": \"Kane Cruz\", \"user_role\": \"Mentor\"}, {\"tech_stack\": \"Data Science: Python\", \"name\": \"Stetson Bennet\", \"user_role\": \"Mentor\"}, {\"tech_stack\": \"Career Development\", \"name\": \"Eloise Murphy\", \"user_role\": \"Mentor\"}, {\"tech_stack\": \"General Programming\", \"name\": \"Daleyza Torres\", \"user_role\": \"Mentor\"}, {\"tech_stack\": \"Web: HTML, CSS, JavaScript\", \"name\": \"Kyler Morgan\", \"user_role\": \"Mentor\"}, {\"tech_stack\": \"General Programming\", \"name\": \"Kylie Miller\", \"user_role\": \"Mentor\"}, {\"tech_stack\": \"iOS: Swift\", \"name\": \"Danna Hernandez\", \"user_role\": \"Mentor\"}, {\"tech_stack\": \"Web: HTML, CSS, JavaScript\", \"name\": \"Sunny Flores\", \"user_role\": \"Mentor\"}, {\"tech_stack\": \"Data Science: Python\", \"name\": \"Liv Alvarez\", \"user_role\": \"Mentor\"}, {\"tech_stack\": \"General Programming\", \"name\": \"Matias Parker\", \"user_role\": \"Mentor\"}, {\"tech_stack\": \"Web: HTML, CSS, JavaScript\", \"name\": \"Kaydence Morales\", \"user_role\": \"Mentor\"}, {\"tech_stack\": \"iOS: Swift\", \"name\": \"Emani Taylor\", \"user_role\": \"Mentor\"}]}}, {\"mode\": \"vega-lite\"});\n",
       "</script>"
      ],
      "text/plain": [
       "alt.Chart(...)"
      ]
     },
     "execution_count": 11,
     "metadata": {},
     "output_type": "execute_result"
    }
   ],
   "source": [
    "tech_stack_by_role(DF)"
   ]
  },
  {
   "cell_type": "code",
   "execution_count": 12,
   "metadata": {
    "pycharm": {
     "name": "#%%\n"
    }
   },
   "outputs": [
    {
     "data": {
      "text/html": [
       "\n",
       "<div id=\"altair-viz-e13718dc628a40d3898af55316dad420\"></div>\n",
       "<script type=\"text/javascript\">\n",
       "  var VEGA_DEBUG = (typeof VEGA_DEBUG == \"undefined\") ? {} : VEGA_DEBUG;\n",
       "  (function(spec, embedOpt){\n",
       "    let outputDiv = document.currentScript.previousElementSibling;\n",
       "    if (outputDiv.id !== \"altair-viz-e13718dc628a40d3898af55316dad420\") {\n",
       "      outputDiv = document.getElementById(\"altair-viz-e13718dc628a40d3898af55316dad420\");\n",
       "    }\n",
       "    const paths = {\n",
       "      \"vega\": \"https://cdn.jsdelivr.net/npm//vega@5?noext\",\n",
       "      \"vega-lib\": \"https://cdn.jsdelivr.net/npm//vega-lib?noext\",\n",
       "      \"vega-lite\": \"https://cdn.jsdelivr.net/npm//vega-lite@4.17.0?noext\",\n",
       "      \"vega-embed\": \"https://cdn.jsdelivr.net/npm//vega-embed@6?noext\",\n",
       "    };\n",
       "\n",
       "    function maybeLoadScript(lib, version) {\n",
       "      var key = `${lib.replace(\"-\", \"\")}_version`;\n",
       "      return (VEGA_DEBUG[key] == version) ?\n",
       "        Promise.resolve(paths[lib]) :\n",
       "        new Promise(function(resolve, reject) {\n",
       "          var s = document.createElement('script');\n",
       "          document.getElementsByTagName(\"head\")[0].appendChild(s);\n",
       "          s.async = true;\n",
       "          s.onload = () => {\n",
       "            VEGA_DEBUG[key] = version;\n",
       "            return resolve(paths[lib]);\n",
       "          };\n",
       "          s.onerror = () => reject(`Error loading script: ${paths[lib]}`);\n",
       "          s.src = paths[lib];\n",
       "        });\n",
       "    }\n",
       "\n",
       "    function showError(err) {\n",
       "      outputDiv.innerHTML = `<div class=\"error\" style=\"color:red;\">${err}</div>`;\n",
       "      throw err;\n",
       "    }\n",
       "\n",
       "    function displayChart(vegaEmbed) {\n",
       "      vegaEmbed(outputDiv, spec, embedOpt)\n",
       "        .catch(err => showError(`Javascript Error: ${err.message}<br>This usually means there's a typo in your chart specification. See the javascript console for the full traceback.`));\n",
       "    }\n",
       "\n",
       "    if(typeof define === \"function\" && define.amd) {\n",
       "      requirejs.config({paths});\n",
       "      require([\"vega-embed\"], displayChart, err => showError(`Error loading script: ${err.message}`));\n",
       "    } else {\n",
       "      maybeLoadScript(\"vega\", \"5\")\n",
       "        .then(() => maybeLoadScript(\"vega-lite\", \"4.17.0\"))\n",
       "        .then(() => maybeLoadScript(\"vega-embed\", \"6\"))\n",
       "        .catch(showError)\n",
       "        .then(() => displayChart(vegaEmbed));\n",
       "    }\n",
       "  })({\"config\": {\"view\": {\"continuousWidth\": 400, \"continuousHeight\": 300}}, \"data\": {\"name\": \"data-0b7b05a16d8776ed2d4fef90daa18653\"}, \"mark\": {\"type\": \"bar\", \"opacity\": 0.7}, \"encoding\": {\"color\": {\"field\": \"user_role\", \"title\": \"User Role\", \"type\": \"nominal\"}, \"tooltip\": [{\"field\": \"tech_stack\", \"type\": \"nominal\"}, {\"field\": \"name\", \"type\": \"nominal\"}, {\"field\": \"user_role\", \"type\": \"nominal\"}], \"x\": {\"aggregate\": \"count\", \"title\": \"\", \"type\": \"quantitative\"}, \"y\": {\"field\": \"tech_stack\", \"title\": \"\", \"type\": \"nominal\"}}, \"title\": \"Tech Stack by Role\", \"$schema\": \"https://vega.github.io/schema/vega-lite/v4.17.0.json\", \"datasets\": {\"data-0b7b05a16d8776ed2d4fef90daa18653\": [{\"tech_stack\": \"Web: HTML, CSS, JavaScript\", \"name\": \"Coraline Smith\", \"user_role\": \"Mentee\"}, {\"tech_stack\": \"iOS: Swift\", \"name\": \"Ali Turner\", \"user_role\": \"Mentee\"}, {\"tech_stack\": \"Web: HTML, CSS, JavaScript\", \"name\": \"Calliope Gutierrez\", \"user_role\": \"Mentee\"}, {\"tech_stack\": \"Career Development\", \"name\": \"Adelyn Cooper\", \"user_role\": \"Mentee\"}, {\"tech_stack\": \"Career Development\", \"name\": \"Juniper Gonzales\", \"user_role\": \"Mentee\"}, {\"tech_stack\": \"Android: Java\", \"name\": \"Rhea Davis\", \"user_role\": \"Mentee\"}, {\"tech_stack\": \"General Programming\", \"name\": \"Lorelai Rogers\", \"user_role\": \"Mentee\"}, {\"tech_stack\": \"Career Development\", \"name\": \"Phoenix Hernandez\", \"user_role\": \"Mentee\"}, {\"tech_stack\": \"Career Development\", \"name\": \"Alberto Watson\", \"user_role\": \"Mentee\"}, {\"tech_stack\": \"Web: HTML, CSS, JavaScript\", \"name\": \"Hector Anderson\", \"user_role\": \"Mentee\"}, {\"tech_stack\": \"Data Science: Python\", \"name\": \"Brynn Gutierrez\", \"user_role\": \"Mentee\"}, {\"tech_stack\": \"Android: Java\", \"name\": \"Emilia Myers\", \"user_role\": \"Mentee\"}, {\"tech_stack\": \"Career Development\", \"name\": \"Adam Cook\", \"user_role\": \"Mentee\"}, {\"tech_stack\": \"Data Science: Python\", \"name\": \"Freyja Wood\", \"user_role\": \"Mentee\"}, {\"tech_stack\": \"General Programming\", \"name\": \"Briar Evans\", \"user_role\": \"Mentee\"}, {\"tech_stack\": \"Web: HTML, CSS, JavaScript\", \"name\": \"Catalina Moore\", \"user_role\": \"Mentee\"}, {\"tech_stack\": \"iOS: Swift\", \"name\": \"Brennan Walker\", \"user_role\": \"Mentee\"}, {\"tech_stack\": \"Web: HTML, CSS, JavaScript\", \"name\": \"Ariyah Scott\", \"user_role\": \"Mentee\"}, {\"tech_stack\": \"Web: HTML, CSS, JavaScript\", \"name\": \"Bellamy Moore\", \"user_role\": \"Mentee\"}, {\"tech_stack\": \"Web: HTML, CSS, JavaScript\", \"name\": \"Dallas Sanders\", \"user_role\": \"Mentee\"}, {\"tech_stack\": \"Data Science: Python\", \"name\": \"Skyler Lopez\", \"user_role\": \"Mentee\"}, {\"tech_stack\": \"Android: Java\", \"name\": \"Milana Murphy\", \"user_role\": \"Mentee\"}, {\"tech_stack\": \"Data Science: Python\", \"name\": \"Wyatt Hughes\", \"user_role\": \"Mentee\"}, {\"tech_stack\": \"Web: HTML, CSS, JavaScript\", \"name\": \"Sarai Myers\", \"user_role\": \"Mentee\"}, {\"tech_stack\": \"Web: HTML, CSS, JavaScript\", \"name\": \"Sabrina Long\", \"user_role\": \"Mentee\"}, {\"tech_stack\": \"Career Development\", \"name\": \"Ella Scott\", \"user_role\": \"Mentee\"}, {\"tech_stack\": \"iOS: Swift\", \"name\": \"Princeton Hughes\", \"user_role\": \"Mentee\"}, {\"tech_stack\": \"Data Science: Python\", \"name\": \"Kadence Mitchell\", \"user_role\": \"Mentee\"}, {\"tech_stack\": \"Career Development\", \"name\": \"Clarissa White\", \"user_role\": \"Mentee\"}, {\"tech_stack\": \"General Programming\", \"name\": \"Adele Kelly\", \"user_role\": \"Mentee\"}, {\"tech_stack\": \"Android: Java\", \"name\": \"Penelope Rodriguez\", \"user_role\": \"Mentee\"}, {\"tech_stack\": \"iOS: Swift\", \"name\": \"Alondra Williams\", \"user_role\": \"Mentee\"}, {\"tech_stack\": \"General Programming\", \"name\": \"Jaxxon Young\", \"user_role\": \"Mentee\"}, {\"tech_stack\": \"Web: HTML, CSS, JavaScript\", \"name\": \"Devon Reyes\", \"user_role\": \"Mentee\"}, {\"tech_stack\": \"Career Development\", \"name\": \"Adler Rivera\", \"user_role\": \"Mentee\"}, {\"tech_stack\": \"Data Science: Python\", \"name\": \"Darius Ross\", \"user_role\": \"Mentee\"}, {\"tech_stack\": \"iOS: Swift\", \"name\": \"Addilyn Sanders\", \"user_role\": \"Mentee\"}, {\"tech_stack\": \"Web: HTML, CSS, JavaScript\", \"name\": \"Khari Jimenez\", \"user_role\": \"Mentee\"}, {\"tech_stack\": \"Career Development\", \"name\": \"Karen Harris\", \"user_role\": \"Mentee\"}, {\"tech_stack\": \"Career Development\", \"name\": \"Cedric Watson\", \"user_role\": \"Mentee\"}, {\"tech_stack\": \"Android: Java\", \"name\": \"Calvin Ortiz\", \"user_role\": \"Mentee\"}, {\"tech_stack\": \"Data Science: Python\", \"name\": \"Clementine White\", \"user_role\": \"Mentee\"}, {\"tech_stack\": \"Career Development\", \"name\": \"Johanna Nguyen\", \"user_role\": \"Mentee\"}, {\"tech_stack\": \"Career Development\", \"name\": \"Roger Wright\", \"user_role\": \"Mentee\"}, {\"tech_stack\": \"Android: Java\", \"name\": \"Macy Morris\", \"user_role\": \"Mentee\"}, {\"tech_stack\": \"Data Science: Python\", \"name\": \"Alejandra Hill\", \"user_role\": \"Mentee\"}, {\"tech_stack\": \"Data Science: Python\", \"name\": \"Wesson Flores\", \"user_role\": \"Mentee\"}, {\"tech_stack\": \"Data Science: Python\", \"name\": \"Chanel Howard\", \"user_role\": \"Mentee\"}, {\"tech_stack\": \"Android: Java\", \"name\": \"Cataleya Rogers\", \"user_role\": \"Mentee\"}, {\"tech_stack\": \"Android: Java\", \"name\": \"Marshall Lopez\", \"user_role\": \"Mentee\"}, {\"tech_stack\": \"Data Science: Python\", \"name\": \"Melissa Cooper\", \"user_role\": \"Mentee\"}, {\"tech_stack\": \"Data Science: Python\", \"name\": \"Kayson Castillo\", \"user_role\": \"Mentee\"}, {\"tech_stack\": \"Data Science: Python\", \"name\": \"Lennox Jackson\", \"user_role\": \"Mentee\"}, {\"tech_stack\": \"Android: Java\", \"name\": \"Roger Flores\", \"user_role\": \"Mentee\"}, {\"tech_stack\": \"Data Science: Python\", \"name\": \"Forrest Martin\", \"user_role\": \"Mentee\"}, {\"tech_stack\": \"Android: Java\", \"name\": \"Cesar Adams\", \"user_role\": \"Mentee\"}, {\"tech_stack\": \"Data Science: Python\", \"name\": \"Alaya Howard\", \"user_role\": \"Mentee\"}, {\"tech_stack\": \"Web: HTML, CSS, JavaScript\", \"name\": \"Marlowe Sanders\", \"user_role\": \"Mentee\"}, {\"tech_stack\": \"General Programming\", \"name\": \"Hudson Taylor\", \"user_role\": \"Mentee\"}, {\"tech_stack\": \"Career Development\", \"name\": \"Marilyn Brown\", \"user_role\": \"Mentee\"}, {\"tech_stack\": \"Android: Java\", \"name\": \"Zahra Hill\", \"user_role\": \"Mentee\"}, {\"tech_stack\": \"Career Development\", \"name\": \"Alisson Hernandez\", \"user_role\": \"Mentee\"}, {\"tech_stack\": \"Android: Java\", \"name\": \"Jaxon Taylor\", \"user_role\": \"Mentee\"}, {\"tech_stack\": \"Web: HTML, CSS, JavaScript\", \"name\": \"Westley Jackson\", \"user_role\": \"Mentee\"}, {\"tech_stack\": \"Android: Java\", \"name\": \"Emmie Rodriguez\", \"user_role\": \"Mentee\"}, {\"tech_stack\": \"General Programming\", \"name\": \"Laila Morgan\", \"user_role\": \"Mentee\"}, {\"tech_stack\": \"Career Development\", \"name\": \"Moshe Ruiz\", \"user_role\": \"Mentee\"}, {\"tech_stack\": \"General Programming\", \"name\": \"Christian Patel\", \"user_role\": \"Mentee\"}, {\"tech_stack\": \"Career Development\", \"name\": \"Simon Parker\", \"user_role\": \"Mentee\"}, {\"tech_stack\": \"Android: Java\", \"name\": \"Lawson Ramos\", \"user_role\": \"Mentee\"}, {\"tech_stack\": \"Web: HTML, CSS, JavaScript\", \"name\": \"Mariana Ward\", \"user_role\": \"Mentee\"}, {\"tech_stack\": \"iOS: Swift\", \"name\": \"Orion Collins\", \"user_role\": \"Mentee\"}, {\"tech_stack\": \"Web: HTML, CSS, JavaScript\", \"name\": \"Legacy Adams\", \"user_role\": \"Mentee\"}, {\"tech_stack\": \"Career Development\", \"name\": \"Bishop Ruiz\", \"user_role\": \"Mentee\"}, {\"tech_stack\": \"iOS: Swift\", \"name\": \"Lillie Rodriguez\", \"user_role\": \"Mentee\"}, {\"tech_stack\": \"General Programming\", \"name\": \"Rocco Parker\", \"user_role\": \"Mentee\"}, {\"tech_stack\": \"General Programming\", \"name\": \"Julieta Lewis\", \"user_role\": \"Mentee\"}, {\"tech_stack\": \"Career Development\", \"name\": \"Uriel Parker\", \"user_role\": \"Mentee\"}, {\"tech_stack\": \"General Programming\", \"name\": \"Holly Gray\", \"user_role\": \"Mentee\"}, {\"tech_stack\": \"Data Science: Python\", \"name\": \"Charlee Hernandez\", \"user_role\": \"Mentee\"}, {\"tech_stack\": \"Career Development\", \"name\": \"Nancy Anderson\", \"user_role\": \"Mentee\"}, {\"tech_stack\": \"Web: HTML, CSS, JavaScript\", \"name\": \"Stanley Martin\", \"user_role\": \"Mentee\"}, {\"tech_stack\": \"Career Development\", \"name\": \"Laurel Lee\", \"user_role\": \"Mentee\"}, {\"tech_stack\": \"General Programming\", \"name\": \"Fletcher Ortiz\", \"user_role\": \"Mentee\"}, {\"tech_stack\": \"Android: Java\", \"name\": \"Aziel Anderson\", \"user_role\": \"Mentee\"}, {\"tech_stack\": \"iOS: Swift\", \"name\": \"Paxton Jackson\", \"user_role\": \"Mentee\"}, {\"tech_stack\": \"Career Development\", \"name\": \"Genesis Torres\", \"user_role\": \"Mentee\"}, {\"tech_stack\": \"Android: Java\", \"name\": \"Jakob Reed\", \"user_role\": \"Mentee\"}, {\"tech_stack\": \"iOS: Swift\", \"name\": \"Maryam Stewart\", \"user_role\": \"Mentee\"}, {\"tech_stack\": \"Career Development\", \"name\": \"Harlow Johnson\", \"user_role\": \"Mentee\"}, {\"tech_stack\": \"iOS: Swift\", \"name\": \"Leandro Campbell\", \"user_role\": \"Mentee\"}, {\"tech_stack\": \"Career Development\", \"name\": \"Nyomi Jimenez\", \"user_role\": \"Mentee\"}, {\"tech_stack\": \"Android: Java\", \"name\": \"Kaison Jones\", \"user_role\": \"Mentee\"}, {\"tech_stack\": \"Data Science: Python\", \"name\": \"Dahlia Watson\", \"user_role\": \"Mentee\"}, {\"tech_stack\": \"General Programming\", \"name\": \"Aitana Parker\", \"user_role\": \"Mentee\"}, {\"tech_stack\": \"Android: Java\", \"name\": \"Leslie Cruz\", \"user_role\": \"Mentee\"}, {\"tech_stack\": \"iOS: Swift\", \"name\": \"Zoie Robinson\", \"user_role\": \"Mentee\"}, {\"tech_stack\": \"Android: Java\", \"name\": \"Chanel Turner\", \"user_role\": \"Mentee\"}, {\"tech_stack\": \"Data Science: Python\", \"name\": \"Andrea Martinez\", \"user_role\": \"Mentee\"}, {\"tech_stack\": \"Data Science: Python\", \"name\": \"Krew Martinez\", \"user_role\": \"Mentee\"}, {\"tech_stack\": \"Career Development\", \"name\": \"Alejandra Wood\", \"user_role\": \"Mentor\"}, {\"tech_stack\": \"General Programming\", \"name\": \"Cason Gutierrez\", \"user_role\": \"Mentor\"}, {\"tech_stack\": \"Android: Java\", \"name\": \"Mavis Castillo\", \"user_role\": \"Mentor\"}, {\"tech_stack\": \"Data Science: Python\", \"name\": \"Amos Davis\", \"user_role\": \"Mentor\"}, {\"tech_stack\": \"Web: HTML, CSS, JavaScript\", \"name\": \"Madison Davis\", \"user_role\": \"Mentor\"}, {\"tech_stack\": \"Web: HTML, CSS, JavaScript\", \"name\": \"Asher Gonzales\", \"user_role\": \"Mentor\"}, {\"tech_stack\": \"Web: HTML, CSS, JavaScript\", \"name\": \"Evan Phillips\", \"user_role\": \"Mentor\"}, {\"tech_stack\": \"Data Science: Python\", \"name\": \"Miles Morris\", \"user_role\": \"Mentor\"}, {\"tech_stack\": \"General Programming\", \"name\": \"Kane Cruz\", \"user_role\": \"Mentor\"}, {\"tech_stack\": \"Data Science: Python\", \"name\": \"Stetson Bennet\", \"user_role\": \"Mentor\"}, {\"tech_stack\": \"Career Development\", \"name\": \"Eloise Murphy\", \"user_role\": \"Mentor\"}, {\"tech_stack\": \"General Programming\", \"name\": \"Daleyza Torres\", \"user_role\": \"Mentor\"}, {\"tech_stack\": \"Web: HTML, CSS, JavaScript\", \"name\": \"Kyler Morgan\", \"user_role\": \"Mentor\"}, {\"tech_stack\": \"General Programming\", \"name\": \"Kylie Miller\", \"user_role\": \"Mentor\"}, {\"tech_stack\": \"iOS: Swift\", \"name\": \"Danna Hernandez\", \"user_role\": \"Mentor\"}, {\"tech_stack\": \"Web: HTML, CSS, JavaScript\", \"name\": \"Sunny Flores\", \"user_role\": \"Mentor\"}, {\"tech_stack\": \"Data Science: Python\", \"name\": \"Liv Alvarez\", \"user_role\": \"Mentor\"}, {\"tech_stack\": \"General Programming\", \"name\": \"Matias Parker\", \"user_role\": \"Mentor\"}, {\"tech_stack\": \"Web: HTML, CSS, JavaScript\", \"name\": \"Kaydence Morales\", \"user_role\": \"Mentor\"}, {\"tech_stack\": \"iOS: Swift\", \"name\": \"Emani Taylor\", \"user_role\": \"Mentor\"}]}}, {\"mode\": \"vega-lite\"});\n",
       "</script>"
      ],
      "text/plain": [
       "alt.Chart(...)"
      ]
     },
     "execution_count": 12,
     "metadata": {},
     "output_type": "execute_result"
    }
   ],
   "source": [
    "chart = alt.Chart(\n",
    "        DF,\n",
    "        title='Tech Stack by Role',\n",
    "    ).mark_bar(opacity=0.7).encode(\n",
    "        x=alt.X('count()', title=\"\"),\n",
    "        y=alt.Y('tech_stack', title=\"\"),\n",
    "        color=alt.Color('user_role', title=\"User Role\"),\n",
    "        tooltip=alt.Tooltip(list(DF.columns)),\n",
    "    )\n",
    "\n",
    "chart\n"
   ]
  },
  {
   "cell_type": "code",
   "execution_count": null,
   "metadata": {},
   "outputs": [],
   "source": []
  }
 ],
 "metadata": {
  "interpreter": {
   "hash": "72240805c377d4474abcf4d45080f04a336169d205b66fb781217b269c9da5e9"
  },
  "kernelspec": {
   "display_name": "Python 3.10.1 ('venv': venv)",
   "language": "python",
   "name": "python3"
  },
  "language_info": {
   "codemirror_mode": {
    "name": "ipython",
    "version": 3
   },
   "file_extension": ".py",
   "mimetype": "text/x-python",
   "name": "python",
   "nbconvert_exporter": "python",
   "pygments_lexer": "ipython3",
   "version": "3.10.1"
  },
  "orig_nbformat": 4
 },
 "nbformat": 4,
 "nbformat_minor": 2
}
