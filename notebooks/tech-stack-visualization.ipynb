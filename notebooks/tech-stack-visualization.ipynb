{
 "cells": [
  {
   "cell_type": "code",
   "execution_count": 2,
   "metadata": {
    "pycharm": {
     "name": "#%%\n"
    }
   },
   "outputs": [],
   "source": [
    "import requests\n",
    "import pandas as pd\n",
    "import altair as alt\n",
    "import json"
   ]
  },
  {
   "cell_type": "code",
   "execution_count": 3,
   "metadata": {
    "pycharm": {
     "name": "#%%\n"
    }
   },
   "outputs": [
    {
     "data": {
      "text/plain": [
       "{'result': '0.45.2'}"
      ]
     },
     "execution_count": 3,
     "metadata": {},
     "output_type": "execute_result"
    }
   ],
   "source": [
    "requests.get(\"http://underdog-devs-ds-a-dev.us-east-1.elasticbeanstalk.com/version\").json()"
   ]
  },
  {
   "cell_type": "code",
   "execution_count": 101,
   "metadata": {
    "pycharm": {
     "name": "#%%\n"
    }
   },
   "outputs": [],
   "source": [
    "mentees_df = pd.DataFrame(requests.post(\"http://underdog-devs-ds-a-dev.us-east-1.elasticbeanstalk.com/Mentees/read\").json()[\"result\"], columns=['tech_stack'])\n",
    "mentors_df = pd.DataFrame(requests.post(\"http://underdog-devs-ds-a-dev.us-east-1.elasticbeanstalk.com/Mentors/read\").json()[\"result\"], columns=['tech_stack'])\n",
    "\n",
    "mentees_df['Mentee or Mentor'] = 'Mentee'\n",
    "mentors_df['Mentee or Mentor'] = 'Mentor'\n",
    "\n",
    "DF = pd.concat([mentees_df,mentors_df], axis=0)"
   ]
  },
  {
   "cell_type": "code",
   "execution_count": 124,
   "metadata": {
    "pycharm": {
     "name": "#%%\n"
    }
   },
   "outputs": [
    {
     "data": {
      "text/html": [
       "<div>\n",
       "<style scoped>\n",
       "    .dataframe tbody tr th:only-of-type {\n",
       "        vertical-align: middle;\n",
       "    }\n",
       "\n",
       "    .dataframe tbody tr th {\n",
       "        vertical-align: top;\n",
       "    }\n",
       "\n",
       "    .dataframe thead th {\n",
       "        text-align: right;\n",
       "    }\n",
       "</style>\n",
       "<table border=\"1\" class=\"dataframe\">\n",
       "  <thead>\n",
       "    <tr style=\"text-align: right;\">\n",
       "      <th></th>\n",
       "      <th>tech_stack</th>\n",
       "      <th>Mentee or Mentor</th>\n",
       "    </tr>\n",
       "  </thead>\n",
       "  <tbody>\n",
       "    <tr>\n",
       "      <th>0</th>\n",
       "      <td>General Programming</td>\n",
       "      <td>Mentee</td>\n",
       "    </tr>\n",
       "    <tr>\n",
       "      <th>1</th>\n",
       "      <td>Career Development</td>\n",
       "      <td>Mentee</td>\n",
       "    </tr>\n",
       "    <tr>\n",
       "      <th>2</th>\n",
       "      <td>Career Development</td>\n",
       "      <td>Mentee</td>\n",
       "    </tr>\n",
       "    <tr>\n",
       "      <th>3</th>\n",
       "      <td>Android: Java</td>\n",
       "      <td>Mentee</td>\n",
       "    </tr>\n",
       "    <tr>\n",
       "      <th>4</th>\n",
       "      <td>Android: Java</td>\n",
       "      <td>Mentee</td>\n",
       "    </tr>\n",
       "  </tbody>\n",
       "</table>\n",
       "</div>"
      ],
      "text/plain": [
       "            tech_stack Mentee or Mentor\n",
       "0  General Programming           Mentee\n",
       "1   Career Development           Mentee\n",
       "2   Career Development           Mentee\n",
       "3        Android: Java           Mentee\n",
       "4        Android: Java           Mentee"
      ]
     },
     "execution_count": 124,
     "metadata": {},
     "output_type": "execute_result"
    }
   ],
   "source": [
    "DF.head(5)"
   ]
  },
  {
   "cell_type": "code",
   "execution_count": 123,
   "metadata": {
    "pycharm": {
     "name": "#%%\n"
    }
   },
   "outputs": [
    {
     "data": {
      "text/html": [
       "\n",
       "<div id=\"altair-viz-1a5c8d9863dc466da6030fd79906f5d3\"></div>\n",
       "<script type=\"text/javascript\">\n",
       "  var VEGA_DEBUG = (typeof VEGA_DEBUG == \"undefined\") ? {} : VEGA_DEBUG;\n",
       "  (function(spec, embedOpt){\n",
       "    let outputDiv = document.currentScript.previousElementSibling;\n",
       "    if (outputDiv.id !== \"altair-viz-1a5c8d9863dc466da6030fd79906f5d3\") {\n",
       "      outputDiv = document.getElementById(\"altair-viz-1a5c8d9863dc466da6030fd79906f5d3\");\n",
       "    }\n",
       "    const paths = {\n",
       "      \"vega\": \"https://cdn.jsdelivr.net/npm//vega@5?noext\",\n",
       "      \"vega-lib\": \"https://cdn.jsdelivr.net/npm//vega-lib?noext\",\n",
       "      \"vega-lite\": \"https://cdn.jsdelivr.net/npm//vega-lite@4.17.0?noext\",\n",
       "      \"vega-embed\": \"https://cdn.jsdelivr.net/npm//vega-embed@6?noext\",\n",
       "    };\n",
       "\n",
       "    function maybeLoadScript(lib, version) {\n",
       "      var key = `${lib.replace(\"-\", \"\")}_version`;\n",
       "      return (VEGA_DEBUG[key] == version) ?\n",
       "        Promise.resolve(paths[lib]) :\n",
       "        new Promise(function(resolve, reject) {\n",
       "          var s = document.createElement('script');\n",
       "          document.getElementsByTagName(\"head\")[0].appendChild(s);\n",
       "          s.async = true;\n",
       "          s.onload = () => {\n",
       "            VEGA_DEBUG[key] = version;\n",
       "            return resolve(paths[lib]);\n",
       "          };\n",
       "          s.onerror = () => reject(`Error loading script: ${paths[lib]}`);\n",
       "          s.src = paths[lib];\n",
       "        });\n",
       "    }\n",
       "\n",
       "    function showError(err) {\n",
       "      outputDiv.innerHTML = `<div class=\"error\" style=\"color:red;\">${err}</div>`;\n",
       "      throw err;\n",
       "    }\n",
       "\n",
       "    function displayChart(vegaEmbed) {\n",
       "      vegaEmbed(outputDiv, spec, embedOpt)\n",
       "        .catch(err => showError(`Javascript Error: ${err.message}<br>This usually means there's a typo in your chart specification. See the javascript console for the full traceback.`));\n",
       "    }\n",
       "\n",
       "    if(typeof define === \"function\" && define.amd) {\n",
       "      requirejs.config({paths});\n",
       "      require([\"vega-embed\"], displayChart, err => showError(`Error loading script: ${err.message}`));\n",
       "    } else {\n",
       "      maybeLoadScript(\"vega\", \"5\")\n",
       "        .then(() => maybeLoadScript(\"vega-lite\", \"4.17.0\"))\n",
       "        .then(() => maybeLoadScript(\"vega-embed\", \"6\"))\n",
       "        .catch(showError)\n",
       "        .then(() => displayChart(vegaEmbed));\n",
       "    }\n",
       "  })({\"config\": {\"view\": {\"continuousWidth\": 400, \"continuousHeight\": 300}}, \"data\": {\"name\": \"data-57943462817c6a23b6e2b123482a28c9\"}, \"mark\": {\"type\": \"bar\", \"opacity\": 0.7}, \"encoding\": {\"color\": {\"field\": \"Mentee or Mentor\", \"type\": \"nominal\"}, \"x\": {\"aggregate\": \"count\", \"axis\": {\"tickMinStep\": 1, \"title\": \"Count\"}, \"stack\": null, \"type\": \"quantitative\"}, \"y\": {\"field\": \"tech_stack\", \"title\": \"\", \"type\": \"nominal\"}}, \"title\": \"Tech Stack Summary\", \"$schema\": \"https://vega.github.io/schema/vega-lite/v4.17.0.json\", \"datasets\": {\"data-57943462817c6a23b6e2b123482a28c9\": [{\"tech_stack\": \"General Programming\", \"Mentee or Mentor\": \"Mentee\"}, {\"tech_stack\": \"Career Development\", \"Mentee or Mentor\": \"Mentee\"}, {\"tech_stack\": \"Career Development\", \"Mentee or Mentor\": \"Mentee\"}, {\"tech_stack\": \"Android: Java\", \"Mentee or Mentor\": \"Mentee\"}, {\"tech_stack\": \"Android: Java\", \"Mentee or Mentor\": \"Mentee\"}, {\"tech_stack\": \"General Programming\", \"Mentee or Mentor\": \"Mentee\"}, {\"tech_stack\": \"General Programming\", \"Mentee or Mentor\": \"Mentee\"}, {\"tech_stack\": \"Career Development\", \"Mentee or Mentor\": \"Mentee\"}, {\"tech_stack\": \"Web: HTML, CSS, JavaScript\", \"Mentee or Mentor\": \"Mentee\"}, {\"tech_stack\": \"Android: Java\", \"Mentee or Mentor\": \"Mentee\"}, {\"tech_stack\": \"iOS: Swift\", \"Mentee or Mentor\": \"Mentee\"}, {\"tech_stack\": \"Career Development\", \"Mentee or Mentor\": \"Mentee\"}, {\"tech_stack\": \"Android: Java\", \"Mentee or Mentor\": \"Mentee\"}, {\"tech_stack\": \"Android: Java\", \"Mentee or Mentor\": \"Mentee\"}, {\"tech_stack\": \"iOS: Swift\", \"Mentee or Mentor\": \"Mentee\"}, {\"tech_stack\": \"Data Science: Python\", \"Mentee or Mentor\": \"Mentee\"}, {\"tech_stack\": \"iOS: Swift\", \"Mentee or Mentor\": \"Mentee\"}, {\"tech_stack\": \"Data Science: Python\", \"Mentee or Mentor\": \"Mentee\"}, {\"tech_stack\": \"Android: Java\", \"Mentee or Mentor\": \"Mentee\"}, {\"tech_stack\": \"Web: HTML, CSS, JavaScript\", \"Mentee or Mentor\": \"Mentee\"}, {\"tech_stack\": \"Data Science: Python\", \"Mentee or Mentor\": \"Mentee\"}, {\"tech_stack\": \"Career Development\", \"Mentee or Mentor\": \"Mentee\"}, {\"tech_stack\": \"iOS: Swift\", \"Mentee or Mentor\": \"Mentee\"}, {\"tech_stack\": \"General Programming\", \"Mentee or Mentor\": \"Mentee\"}, {\"tech_stack\": \"General Programming\", \"Mentee or Mentor\": \"Mentee\"}, {\"tech_stack\": \"iOS: Swift\", \"Mentee or Mentor\": \"Mentee\"}, {\"tech_stack\": \"Data Science: Python\", \"Mentee or Mentor\": \"Mentee\"}, {\"tech_stack\": \"Android: Java\", \"Mentee or Mentor\": \"Mentee\"}, {\"tech_stack\": \"General Programming\", \"Mentee or Mentor\": \"Mentee\"}, {\"tech_stack\": \"Data Science: Python\", \"Mentee or Mentor\": \"Mentee\"}, {\"tech_stack\": \"iOS: Swift\", \"Mentee or Mentor\": \"Mentee\"}, {\"tech_stack\": \"Android: Java\", \"Mentee or Mentor\": \"Mentee\"}, {\"tech_stack\": \"Android: Java\", \"Mentee or Mentor\": \"Mentee\"}, {\"tech_stack\": \"iOS: Swift\", \"Mentee or Mentor\": \"Mentee\"}, {\"tech_stack\": \"Career Development\", \"Mentee or Mentor\": \"Mentee\"}, {\"tech_stack\": \"Web: HTML, CSS, JavaScript\", \"Mentee or Mentor\": \"Mentee\"}, {\"tech_stack\": \"Career Development\", \"Mentee or Mentor\": \"Mentee\"}, {\"tech_stack\": \"General Programming\", \"Mentee or Mentor\": \"Mentee\"}, {\"tech_stack\": \"Android: Java\", \"Mentee or Mentor\": \"Mentee\"}, {\"tech_stack\": \"General Programming\", \"Mentee or Mentor\": \"Mentee\"}, {\"tech_stack\": \"Career Development\", \"Mentee or Mentor\": \"Mentee\"}, {\"tech_stack\": \"General Programming\", \"Mentee or Mentor\": \"Mentee\"}, {\"tech_stack\": \"Data Science: Python\", \"Mentee or Mentor\": \"Mentee\"}, {\"tech_stack\": \"Career Development\", \"Mentee or Mentor\": \"Mentee\"}, {\"tech_stack\": \"iOS: Swift\", \"Mentee or Mentor\": \"Mentee\"}, {\"tech_stack\": \"iOS: Swift\", \"Mentee or Mentor\": \"Mentee\"}, {\"tech_stack\": \"Data Science: Python\", \"Mentee or Mentor\": \"Mentee\"}, {\"tech_stack\": \"Web: HTML, CSS, JavaScript\", \"Mentee or Mentor\": \"Mentee\"}, {\"tech_stack\": \"General Programming\", \"Mentee or Mentor\": \"Mentee\"}, {\"tech_stack\": \"Data Science: Python\", \"Mentee or Mentor\": \"Mentee\"}, {\"tech_stack\": \"Data Science: Python\", \"Mentee or Mentor\": \"Mentee\"}, {\"tech_stack\": \"Career Development\", \"Mentee or Mentor\": \"Mentee\"}, {\"tech_stack\": \"Career Development\", \"Mentee or Mentor\": \"Mentee\"}, {\"tech_stack\": \"General Programming\", \"Mentee or Mentor\": \"Mentee\"}, {\"tech_stack\": \"iOS: Swift\", \"Mentee or Mentor\": \"Mentee\"}, {\"tech_stack\": \"Android: Java\", \"Mentee or Mentor\": \"Mentee\"}, {\"tech_stack\": \"Web: HTML, CSS, JavaScript\", \"Mentee or Mentor\": \"Mentee\"}, {\"tech_stack\": \"General Programming\", \"Mentee or Mentor\": \"Mentee\"}, {\"tech_stack\": \"Web: HTML, CSS, JavaScript\", \"Mentee or Mentor\": \"Mentee\"}, {\"tech_stack\": \"Android: Java\", \"Mentee or Mentor\": \"Mentee\"}, {\"tech_stack\": \"Android: Java\", \"Mentee or Mentor\": \"Mentee\"}, {\"tech_stack\": \"General Programming\", \"Mentee or Mentor\": \"Mentee\"}, {\"tech_stack\": \"Android: Java\", \"Mentee or Mentor\": \"Mentee\"}, {\"tech_stack\": \"Android: Java\", \"Mentee or Mentor\": \"Mentee\"}, {\"tech_stack\": \"Android: Java\", \"Mentee or Mentor\": \"Mentee\"}, {\"tech_stack\": \"General Programming\", \"Mentee or Mentor\": \"Mentee\"}, {\"tech_stack\": \"Data Science: Python\", \"Mentee or Mentor\": \"Mentee\"}, {\"tech_stack\": \"Android: Java\", \"Mentee or Mentor\": \"Mentee\"}, {\"tech_stack\": \"Career Development\", \"Mentee or Mentor\": \"Mentee\"}, {\"tech_stack\": \"Android: Java\", \"Mentee or Mentor\": \"Mentee\"}, {\"tech_stack\": \"Data Science: Python\", \"Mentee or Mentor\": \"Mentee\"}, {\"tech_stack\": \"Web: HTML, CSS, JavaScript\", \"Mentee or Mentor\": \"Mentee\"}, {\"tech_stack\": \"General Programming\", \"Mentee or Mentor\": \"Mentee\"}, {\"tech_stack\": \"Data Science: Python\", \"Mentee or Mentor\": \"Mentee\"}, {\"tech_stack\": \"General Programming\", \"Mentee or Mentor\": \"Mentee\"}, {\"tech_stack\": \"Web: HTML, CSS, JavaScript\", \"Mentee or Mentor\": \"Mentee\"}, {\"tech_stack\": \"Career Development\", \"Mentee or Mentor\": \"Mentee\"}, {\"tech_stack\": \"General Programming\", \"Mentee or Mentor\": \"Mentee\"}, {\"tech_stack\": \"Android: Java\", \"Mentee or Mentor\": \"Mentee\"}, {\"tech_stack\": \"Career Development\", \"Mentee or Mentor\": \"Mentee\"}, {\"tech_stack\": \"General Programming\", \"Mentee or Mentor\": \"Mentee\"}, {\"tech_stack\": \"iOS: Swift\", \"Mentee or Mentor\": \"Mentee\"}, {\"tech_stack\": \"Career Development\", \"Mentee or Mentor\": \"Mentee\"}, {\"tech_stack\": \"iOS: Swift\", \"Mentee or Mentor\": \"Mentee\"}, {\"tech_stack\": \"General Programming\", \"Mentee or Mentor\": \"Mentee\"}, {\"tech_stack\": \"Career Development\", \"Mentee or Mentor\": \"Mentee\"}, {\"tech_stack\": \"General Programming\", \"Mentee or Mentor\": \"Mentee\"}, {\"tech_stack\": \"iOS: Swift\", \"Mentee or Mentor\": \"Mentee\"}, {\"tech_stack\": \"Android: Java\", \"Mentee or Mentor\": \"Mentee\"}, {\"tech_stack\": \"Web: HTML, CSS, JavaScript\", \"Mentee or Mentor\": \"Mentee\"}, {\"tech_stack\": \"General Programming\", \"Mentee or Mentor\": \"Mentee\"}, {\"tech_stack\": \"Career Development\", \"Mentee or Mentor\": \"Mentee\"}, {\"tech_stack\": \"iOS: Swift\", \"Mentee or Mentor\": \"Mentee\"}, {\"tech_stack\": \"Web: HTML, CSS, JavaScript\", \"Mentee or Mentor\": \"Mentee\"}, {\"tech_stack\": \"Web: HTML, CSS, JavaScript\", \"Mentee or Mentor\": \"Mentee\"}, {\"tech_stack\": \"Data Science: Python\", \"Mentee or Mentor\": \"Mentee\"}, {\"tech_stack\": \"Career Development\", \"Mentee or Mentor\": \"Mentee\"}, {\"tech_stack\": \"Data Science: Python\", \"Mentee or Mentor\": \"Mentee\"}, {\"tech_stack\": \"iOS: Swift\", \"Mentee or Mentor\": \"Mentee\"}, {\"tech_stack\": \"Data Science: Python\", \"Mentee or Mentor\": \"Mentee\"}, {\"tech_stack\": \"Career Development\", \"Mentee or Mentor\": \"Mentee\"}, {\"tech_stack\": \"Career Development\", \"Mentee or Mentor\": \"Mentee\"}, {\"tech_stack\": \"General Programming\", \"Mentee or Mentor\": \"Mentor\"}, {\"tech_stack\": \"Web: HTML, CSS, JavaScript\", \"Mentee or Mentor\": \"Mentor\"}, {\"tech_stack\": \"Career Development\", \"Mentee or Mentor\": \"Mentor\"}, {\"tech_stack\": \"iOS: Swift\", \"Mentee or Mentor\": \"Mentor\"}, {\"tech_stack\": \"General Programming\", \"Mentee or Mentor\": \"Mentor\"}, {\"tech_stack\": \"Android: Java\", \"Mentee or Mentor\": \"Mentor\"}, {\"tech_stack\": \"General Programming\", \"Mentee or Mentor\": \"Mentor\"}, {\"tech_stack\": \"Web: HTML, CSS, JavaScript\", \"Mentee or Mentor\": \"Mentor\"}, {\"tech_stack\": \"iOS: Swift\", \"Mentee or Mentor\": \"Mentor\"}, {\"tech_stack\": \"Data Science: Python\", \"Mentee or Mentor\": \"Mentor\"}, {\"tech_stack\": \"Career Development\", \"Mentee or Mentor\": \"Mentor\"}, {\"tech_stack\": \"Android: Java\", \"Mentee or Mentor\": \"Mentor\"}, {\"tech_stack\": \"Web: HTML, CSS, JavaScript\", \"Mentee or Mentor\": \"Mentor\"}, {\"tech_stack\": \"Android: Java\", \"Mentee or Mentor\": \"Mentor\"}, {\"tech_stack\": \"Android: Java\", \"Mentee or Mentor\": \"Mentor\"}, {\"tech_stack\": \"Career Development\", \"Mentee or Mentor\": \"Mentor\"}, {\"tech_stack\": \"General Programming\", \"Mentee or Mentor\": \"Mentor\"}, {\"tech_stack\": \"Web: HTML, CSS, JavaScript\", \"Mentee or Mentor\": \"Mentor\"}, {\"tech_stack\": \"Web: HTML, CSS, JavaScript\", \"Mentee or Mentor\": \"Mentor\"}, {\"tech_stack\": \"General Programming\", \"Mentee or Mentor\": \"Mentor\"}]}}, {\"mode\": \"vega-lite\"});\n",
       "</script>"
      ],
      "text/plain": [
       "alt.Chart(...)"
      ]
     },
     "execution_count": 123,
     "metadata": {},
     "output_type": "execute_result"
    }
   ],
   "source": [
    "chart = alt.Chart(DF, title='Tech Stack Summary').mark_bar(opacity=0.7).encode(\n",
    "    y=alt.Y('tech_stack', title=\"\"),\n",
    "    x=alt.X('count()',axis=alt.Axis(tickMinStep=1, title=\"Count\"), stack=None),\n",
    "    color='Mentee or Mentor'\n",
    ")\n",
    "\n",
    "chart\n"
   ]
  }
 ],
 "metadata": {
  "interpreter": {
   "hash": "72240805c377d4474abcf4d45080f04a336169d205b66fb781217b269c9da5e9"
  },
  "kernelspec": {
   "display_name": "Python 3.10.1 ('venv': venv)",
   "language": "python",
   "name": "python3"
  },
  "language_info": {
   "codemirror_mode": {
    "name": "ipython",
    "version": 3
   },
   "file_extension": ".py",
   "mimetype": "text/x-python",
   "name": "python",
   "nbconvert_exporter": "python",
   "pygments_lexer": "ipython3",
   "version": "3.10.1"
  },
  "orig_nbformat": 4
 },
 "nbformat": 4,
 "nbformat_minor": 2
}