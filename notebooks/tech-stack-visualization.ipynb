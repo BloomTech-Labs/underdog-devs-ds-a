{
 "cells": [
  {
   "cell_type": "code",
   "execution_count": 1,
   "metadata": {},
   "outputs": [],
   "source": [
    "import requests\n",
    "import pandas as pd\n",
    "import altair as alt\n",
    "import json"
   ]
  },
  {
   "cell_type": "code",
   "execution_count": 2,
   "metadata": {},
   "outputs": [
    {
     "data": {
      "text/plain": [
       "{'result': '0.45.2'}"
      ]
     },
     "execution_count": 2,
     "metadata": {},
     "output_type": "execute_result"
    }
   ],
   "source": [
    "requests.get(\"http://underdog-devs-ds-a-dev.us-east-1.elasticbeanstalk.com/version\").json()"
   ]
  },
  {
   "cell_type": "code",
   "execution_count": 3,
   "metadata": {},
   "outputs": [],
   "source": [
    "mentees_df = pd.DataFrame(requests.post(\"http://underdog-devs-ds-a-dev.us-east-1.elasticbeanstalk.com/Mentees/read\").json()[\"result\"], columns=['experience_level','tech_stack'])\n",
    "mentors_df = pd.DataFrame(requests.post(\"http://underdog-devs-ds-a-dev.us-east-1.elasticbeanstalk.com/Mentors/read\").json()[\"result\"], columns=['experience_level','tech_stack'])\n",
    "\n",
    "mentees_df.dropna(inplace=True)\n",
    "mentors_df.dropna(inplace=True)"
   ]
  },
  {
   "cell_type": "code",
   "execution_count": 4,
   "metadata": {},
   "outputs": [],
   "source": [
    "tech_stack='Android: Java'\n",
    "mentees_df = mentees_df[mentees_df['tech_stack']==tech_stack]\n",
    "mentors_df = mentors_df[mentors_df['tech_stack']==tech_stack]"
   ]
  },
  {
   "cell_type": "code",
   "execution_count": 5,
   "metadata": {},
   "outputs": [],
   "source": [
    "mentees_chart = alt.Chart(mentees_df, title=f'Mentees ({tech_stack})').mark_bar().encode(\n",
    "    x=alt.X('experience_level:O', sort = ['Beginner', 'Intermediate','Advanced','Expert']),\n",
    "    y='count():Q',\n",
    "    #color=alt.Color('experience_level')\n",
    "    #column='experience_level:N'\n",
    ")\n",
    "\n",
    "mentors_chart = alt.Chart(mentors_df, title=f'Mentors ({tech_stack})').mark_bar().encode(\n",
    "    x=alt.X('experience_level:O', sort = ['Beginner', 'Intermediate','Advanced','Expert']),\n",
    "    y='count():Q',\n",
    "    #color=alt.Color('experience_level')\n",
    "    #column='experience_level:N'\n",
    ")"
   ]
  },
  {
   "cell_type": "code",
   "execution_count": 6,
   "metadata": {},
   "outputs": [
    {
     "data": {
      "text/html": [
       "\n",
       "<div id=\"altair-viz-7c0e19a2e64741719349f0a277cf840e\"></div>\n",
       "<script type=\"text/javascript\">\n",
       "  var VEGA_DEBUG = (typeof VEGA_DEBUG == \"undefined\") ? {} : VEGA_DEBUG;\n",
       "  (function(spec, embedOpt){\n",
       "    let outputDiv = document.currentScript.previousElementSibling;\n",
       "    if (outputDiv.id !== \"altair-viz-7c0e19a2e64741719349f0a277cf840e\") {\n",
       "      outputDiv = document.getElementById(\"altair-viz-7c0e19a2e64741719349f0a277cf840e\");\n",
       "    }\n",
       "    const paths = {\n",
       "      \"vega\": \"https://cdn.jsdelivr.net/npm//vega@5?noext\",\n",
       "      \"vega-lib\": \"https://cdn.jsdelivr.net/npm//vega-lib?noext\",\n",
       "      \"vega-lite\": \"https://cdn.jsdelivr.net/npm//vega-lite@4.17.0?noext\",\n",
       "      \"vega-embed\": \"https://cdn.jsdelivr.net/npm//vega-embed@6?noext\",\n",
       "    };\n",
       "\n",
       "    function maybeLoadScript(lib, version) {\n",
       "      var key = `${lib.replace(\"-\", \"\")}_version`;\n",
       "      return (VEGA_DEBUG[key] == version) ?\n",
       "        Promise.resolve(paths[lib]) :\n",
       "        new Promise(function(resolve, reject) {\n",
       "          var s = document.createElement('script');\n",
       "          document.getElementsByTagName(\"head\")[0].appendChild(s);\n",
       "          s.async = true;\n",
       "          s.onload = () => {\n",
       "            VEGA_DEBUG[key] = version;\n",
       "            return resolve(paths[lib]);\n",
       "          };\n",
       "          s.onerror = () => reject(`Error loading script: ${paths[lib]}`);\n",
       "          s.src = paths[lib];\n",
       "        });\n",
       "    }\n",
       "\n",
       "    function showError(err) {\n",
       "      outputDiv.innerHTML = `<div class=\"error\" style=\"color:red;\">${err}</div>`;\n",
       "      throw err;\n",
       "    }\n",
       "\n",
       "    function displayChart(vegaEmbed) {\n",
       "      vegaEmbed(outputDiv, spec, embedOpt)\n",
       "        .catch(err => showError(`Javascript Error: ${err.message}<br>This usually means there's a typo in your chart specification. See the javascript console for the full traceback.`));\n",
       "    }\n",
       "\n",
       "    if(typeof define === \"function\" && define.amd) {\n",
       "      requirejs.config({paths});\n",
       "      require([\"vega-embed\"], displayChart, err => showError(`Error loading script: ${err.message}`));\n",
       "    } else {\n",
       "      maybeLoadScript(\"vega\", \"5\")\n",
       "        .then(() => maybeLoadScript(\"vega-lite\", \"4.17.0\"))\n",
       "        .then(() => maybeLoadScript(\"vega-embed\", \"6\"))\n",
       "        .catch(showError)\n",
       "        .then(() => displayChart(vegaEmbed));\n",
       "    }\n",
       "  })({\"config\": {\"view\": {\"continuousWidth\": 400, \"continuousHeight\": 300}}, \"hconcat\": [{\"data\": {\"name\": \"data-08e61d4c74a1c80fb0b4538228fa606b\"}, \"mark\": \"bar\", \"encoding\": {\"x\": {\"field\": \"experience_level\", \"sort\": [\"Beginner\", \"Intermediate\", \"Advanced\", \"Expert\"], \"type\": \"ordinal\"}, \"y\": {\"aggregate\": \"count\", \"type\": \"quantitative\"}}, \"title\": \"Mentors (Android: Java)\"}, {\"data\": {\"name\": \"data-7484d0968a9a1519b85775e0030b1648\"}, \"mark\": \"bar\", \"encoding\": {\"x\": {\"field\": \"experience_level\", \"sort\": [\"Beginner\", \"Intermediate\", \"Advanced\", \"Expert\"], \"type\": \"ordinal\"}, \"y\": {\"aggregate\": \"count\", \"type\": \"quantitative\"}}, \"title\": \"Mentees (Android: Java)\"}], \"$schema\": \"https://vega.github.io/schema/vega-lite/v4.17.0.json\", \"datasets\": {\"data-08e61d4c74a1c80fb0b4538228fa606b\": [{\"experience_level\": \"Beginner\", \"tech_stack\": \"Android: Java\"}, {\"experience_level\": \"Expert\", \"tech_stack\": \"Android: Java\"}, {\"experience_level\": \"Expert\", \"tech_stack\": \"Android: Java\"}, {\"experience_level\": \"Beginner\", \"tech_stack\": \"Android: Java\"}], \"data-7484d0968a9a1519b85775e0030b1648\": [{\"experience_level\": \"Expert\", \"tech_stack\": \"Android: Java\"}, {\"experience_level\": \"Expert\", \"tech_stack\": \"Android: Java\"}, {\"experience_level\": \"Intermediate\", \"tech_stack\": \"Android: Java\"}, {\"experience_level\": \"Advanced\", \"tech_stack\": \"Android: Java\"}, {\"experience_level\": \"Advanced\", \"tech_stack\": \"Android: Java\"}, {\"experience_level\": \"Advanced\", \"tech_stack\": \"Android: Java\"}, {\"experience_level\": \"Expert\", \"tech_stack\": \"Android: Java\"}, {\"experience_level\": \"Expert\", \"tech_stack\": \"Android: Java\"}, {\"experience_level\": \"Beginner\", \"tech_stack\": \"Android: Java\"}, {\"experience_level\": \"Beginner\", \"tech_stack\": \"Android: Java\"}, {\"experience_level\": \"Beginner\", \"tech_stack\": \"Android: Java\"}, {\"experience_level\": \"Intermediate\", \"tech_stack\": \"Android: Java\"}, {\"experience_level\": \"Beginner\", \"tech_stack\": \"Android: Java\"}, {\"experience_level\": \"Intermediate\", \"tech_stack\": \"Android: Java\"}, {\"experience_level\": \"Intermediate\", \"tech_stack\": \"Android: Java\"}, {\"experience_level\": \"Expert\", \"tech_stack\": \"Android: Java\"}, {\"experience_level\": \"Advanced\", \"tech_stack\": \"Android: Java\"}, {\"experience_level\": \"Intermediate\", \"tech_stack\": \"Android: Java\"}, {\"experience_level\": \"Advanced\", \"tech_stack\": \"Android: Java\"}, {\"experience_level\": \"Expert\", \"tech_stack\": \"Android: Java\"}]}}, {\"mode\": \"vega-lite\"});\n",
       "</script>"
      ],
      "text/plain": [
       "alt.HConcatChart(...)"
      ]
     },
     "execution_count": 6,
     "metadata": {},
     "output_type": "execute_result"
    }
   ],
   "source": [
    "mentors_chart | mentees_chart"
   ]
  },
  {
   "cell_type": "code",
   "execution_count": 143,
   "metadata": {},
   "outputs": [
    {
     "data": {
      "text/html": [
       "\n",
       "<div id=\"altair-viz-26f774c11f1a4aaaa653c6a1fb660d3f\"></div>\n",
       "<script type=\"text/javascript\">\n",
       "  var VEGA_DEBUG = (typeof VEGA_DEBUG == \"undefined\") ? {} : VEGA_DEBUG;\n",
       "  (function(spec, embedOpt){\n",
       "    let outputDiv = document.currentScript.previousElementSibling;\n",
       "    if (outputDiv.id !== \"altair-viz-26f774c11f1a4aaaa653c6a1fb660d3f\") {\n",
       "      outputDiv = document.getElementById(\"altair-viz-26f774c11f1a4aaaa653c6a1fb660d3f\");\n",
       "    }\n",
       "    const paths = {\n",
       "      \"vega\": \"https://cdn.jsdelivr.net/npm//vega@5?noext\",\n",
       "      \"vega-lib\": \"https://cdn.jsdelivr.net/npm//vega-lib?noext\",\n",
       "      \"vega-lite\": \"https://cdn.jsdelivr.net/npm//vega-lite@4.17.0?noext\",\n",
       "      \"vega-embed\": \"https://cdn.jsdelivr.net/npm//vega-embed@6?noext\",\n",
       "    };\n",
       "\n",
       "    function maybeLoadScript(lib, version) {\n",
       "      var key = `${lib.replace(\"-\", \"\")}_version`;\n",
       "      return (VEGA_DEBUG[key] == version) ?\n",
       "        Promise.resolve(paths[lib]) :\n",
       "        new Promise(function(resolve, reject) {\n",
       "          var s = document.createElement('script');\n",
       "          document.getElementsByTagName(\"head\")[0].appendChild(s);\n",
       "          s.async = true;\n",
       "          s.onload = () => {\n",
       "            VEGA_DEBUG[key] = version;\n",
       "            return resolve(paths[lib]);\n",
       "          };\n",
       "          s.onerror = () => reject(`Error loading script: ${paths[lib]}`);\n",
       "          s.src = paths[lib];\n",
       "        });\n",
       "    }\n",
       "\n",
       "    function showError(err) {\n",
       "      outputDiv.innerHTML = `<div class=\"error\" style=\"color:red;\">${err}</div>`;\n",
       "      throw err;\n",
       "    }\n",
       "\n",
       "    function displayChart(vegaEmbed) {\n",
       "      vegaEmbed(outputDiv, spec, embedOpt)\n",
       "        .catch(err => showError(`Javascript Error: ${err.message}<br>This usually means there's a typo in your chart specification. See the javascript console for the full traceback.`));\n",
       "    }\n",
       "\n",
       "    if(typeof define === \"function\" && define.amd) {\n",
       "      requirejs.config({paths});\n",
       "      require([\"vega-embed\"], displayChart, err => showError(`Error loading script: ${err.message}`));\n",
       "    } else {\n",
       "      maybeLoadScript(\"vega\", \"5\")\n",
       "        .then(() => maybeLoadScript(\"vega-lite\", \"4.17.0\"))\n",
       "        .then(() => maybeLoadScript(\"vega-embed\", \"6\"))\n",
       "        .catch(showError)\n",
       "        .then(() => displayChart(vegaEmbed));\n",
       "    }\n",
       "  })({\"config\": {\"view\": {\"continuousWidth\": 400, \"continuousHeight\": 300}}, \"hconcat\": [{\"data\": {\"name\": \"data-08e61d4c74a1c80fb0b4538228fa606b\"}, \"mark\": \"bar\", \"encoding\": {\"x\": {\"field\": \"experience_level\", \"sort\": [\"Beginner\", \"Intermediate\", \"Advanced\", \"Expert\"], \"type\": \"ordinal\"}, \"y\": {\"aggregate\": \"count\", \"type\": \"quantitative\"}}}, {\"data\": {\"name\": \"data-7484d0968a9a1519b85775e0030b1648\"}, \"mark\": \"bar\", \"encoding\": {\"x\": {\"field\": \"experience_level\", \"sort\": [\"Beginner\", \"Intermediate\", \"Advanced\", \"Expert\"], \"type\": \"ordinal\"}, \"y\": {\"aggregate\": \"count\", \"type\": \"quantitative\"}}}], \"$schema\": \"https://vega.github.io/schema/vega-lite/v4.17.0.json\", \"datasets\": {\"data-08e61d4c74a1c80fb0b4538228fa606b\": [{\"experience_level\": \"Beginner\", \"tech_stack\": \"Android: Java\"}, {\"experience_level\": \"Expert\", \"tech_stack\": \"Android: Java\"}, {\"experience_level\": \"Expert\", \"tech_stack\": \"Android: Java\"}, {\"experience_level\": \"Beginner\", \"tech_stack\": \"Android: Java\"}], \"data-7484d0968a9a1519b85775e0030b1648\": [{\"experience_level\": \"Expert\", \"tech_stack\": \"Android: Java\"}, {\"experience_level\": \"Expert\", \"tech_stack\": \"Android: Java\"}, {\"experience_level\": \"Intermediate\", \"tech_stack\": \"Android: Java\"}, {\"experience_level\": \"Advanced\", \"tech_stack\": \"Android: Java\"}, {\"experience_level\": \"Advanced\", \"tech_stack\": \"Android: Java\"}, {\"experience_level\": \"Advanced\", \"tech_stack\": \"Android: Java\"}, {\"experience_level\": \"Expert\", \"tech_stack\": \"Android: Java\"}, {\"experience_level\": \"Expert\", \"tech_stack\": \"Android: Java\"}, {\"experience_level\": \"Beginner\", \"tech_stack\": \"Android: Java\"}, {\"experience_level\": \"Beginner\", \"tech_stack\": \"Android: Java\"}, {\"experience_level\": \"Beginner\", \"tech_stack\": \"Android: Java\"}, {\"experience_level\": \"Intermediate\", \"tech_stack\": \"Android: Java\"}, {\"experience_level\": \"Beginner\", \"tech_stack\": \"Android: Java\"}, {\"experience_level\": \"Intermediate\", \"tech_stack\": \"Android: Java\"}, {\"experience_level\": \"Intermediate\", \"tech_stack\": \"Android: Java\"}, {\"experience_level\": \"Expert\", \"tech_stack\": \"Android: Java\"}, {\"experience_level\": \"Advanced\", \"tech_stack\": \"Android: Java\"}, {\"experience_level\": \"Intermediate\", \"tech_stack\": \"Android: Java\"}, {\"experience_level\": \"Advanced\", \"tech_stack\": \"Android: Java\"}, {\"experience_level\": \"Expert\", \"tech_stack\": \"Android: Java\"}]}}, {\"mode\": \"vega-lite\"});\n",
       "</script>"
      ],
      "text/plain": [
       "alt.HConcatChart(...)"
      ]
     },
     "execution_count": 143,
     "metadata": {},
     "output_type": "execute_result"
    }
   ],
   "source": []
  },
  {
   "cell_type": "code",
   "execution_count": 116,
   "metadata": {},
   "outputs": [
    {
     "data": {
      "text/plain": [
       "array(['Expert', 'Intermediate', 'Advanced', 'Beginner'], dtype=object)"
      ]
     },
     "execution_count": 116,
     "metadata": {},
     "output_type": "execute_result"
    }
   ],
   "source": [
    "mentees_df['experience_level'].unique()"
   ]
  },
  {
   "cell_type": "code",
   "execution_count": 82,
   "metadata": {},
   "outputs": [],
   "source": [
    "#tech_stack = 'General Programming'\n",
    "\n",
    "mentors_chart = alt.Chart(mentors_df).mark_bar().encode(\n",
    "    y='experience_level',\n",
    "    x='count()'\n",
    ")\n"
   ]
  },
  {
   "cell_type": "code",
   "execution_count": 87,
   "metadata": {},
   "outputs": [
    {
     "data": {
      "text/html": [
       "\n",
       "<div id=\"altair-viz-6918fa8aa566420590aea624ea7dbf91\"></div>\n",
       "<script type=\"text/javascript\">\n",
       "  var VEGA_DEBUG = (typeof VEGA_DEBUG == \"undefined\") ? {} : VEGA_DEBUG;\n",
       "  (function(spec, embedOpt){\n",
       "    let outputDiv = document.currentScript.previousElementSibling;\n",
       "    if (outputDiv.id !== \"altair-viz-6918fa8aa566420590aea624ea7dbf91\") {\n",
       "      outputDiv = document.getElementById(\"altair-viz-6918fa8aa566420590aea624ea7dbf91\");\n",
       "    }\n",
       "    const paths = {\n",
       "      \"vega\": \"https://cdn.jsdelivr.net/npm//vega@5?noext\",\n",
       "      \"vega-lib\": \"https://cdn.jsdelivr.net/npm//vega-lib?noext\",\n",
       "      \"vega-lite\": \"https://cdn.jsdelivr.net/npm//vega-lite@4.17.0?noext\",\n",
       "      \"vega-embed\": \"https://cdn.jsdelivr.net/npm//vega-embed@6?noext\",\n",
       "    };\n",
       "\n",
       "    function maybeLoadScript(lib, version) {\n",
       "      var key = `${lib.replace(\"-\", \"\")}_version`;\n",
       "      return (VEGA_DEBUG[key] == version) ?\n",
       "        Promise.resolve(paths[lib]) :\n",
       "        new Promise(function(resolve, reject) {\n",
       "          var s = document.createElement('script');\n",
       "          document.getElementsByTagName(\"head\")[0].appendChild(s);\n",
       "          s.async = true;\n",
       "          s.onload = () => {\n",
       "            VEGA_DEBUG[key] = version;\n",
       "            return resolve(paths[lib]);\n",
       "          };\n",
       "          s.onerror = () => reject(`Error loading script: ${paths[lib]}`);\n",
       "          s.src = paths[lib];\n",
       "        });\n",
       "    }\n",
       "\n",
       "    function showError(err) {\n",
       "      outputDiv.innerHTML = `<div class=\"error\" style=\"color:red;\">${err}</div>`;\n",
       "      throw err;\n",
       "    }\n",
       "\n",
       "    function displayChart(vegaEmbed) {\n",
       "      vegaEmbed(outputDiv, spec, embedOpt)\n",
       "        .catch(err => showError(`Javascript Error: ${err.message}<br>This usually means there's a typo in your chart specification. See the javascript console for the full traceback.`));\n",
       "    }\n",
       "\n",
       "    if(typeof define === \"function\" && define.amd) {\n",
       "      requirejs.config({paths});\n",
       "      require([\"vega-embed\"], displayChart, err => showError(`Error loading script: ${err.message}`));\n",
       "    } else {\n",
       "      maybeLoadScript(\"vega\", \"5\")\n",
       "        .then(() => maybeLoadScript(\"vega-lite\", \"4.17.0\"))\n",
       "        .then(() => maybeLoadScript(\"vega-embed\", \"6\"))\n",
       "        .catch(showError)\n",
       "        .then(() => displayChart(vegaEmbed));\n",
       "    }\n",
       "  })({\"config\": {\"view\": {\"continuousWidth\": 400, \"continuousHeight\": 300}}, \"data\": {\"name\": \"data-e6f25397c719ebc0a268455ff328ab1c\"}, \"mark\": \"bar\", \"encoding\": {\"color\": {\"field\": \"tech_stack\", \"type\": \"nominal\"}, \"x\": {\"aggregate\": \"count\", \"type\": \"quantitative\"}, \"y\": {\"field\": \"experience_level\", \"type\": \"nominal\"}}, \"$schema\": \"https://vega.github.io/schema/vega-lite/v4.17.0.json\", \"datasets\": {\"data-e6f25397c719ebc0a268455ff328ab1c\": [{\"experience_level\": \"Advanced\", \"tech_stack\": \"General Programming\"}, {\"experience_level\": \"Intermediate\", \"tech_stack\": \"Web: HTML, CSS, JavaScript\"}, {\"experience_level\": \"Advanced\", \"tech_stack\": \"Career Development\"}, {\"experience_level\": \"Intermediate\", \"tech_stack\": \"iOS: Swift\"}, {\"experience_level\": \"Expert\", \"tech_stack\": \"General Programming\"}, {\"experience_level\": \"Beginner\", \"tech_stack\": \"Android: Java\"}, {\"experience_level\": \"Intermediate\", \"tech_stack\": \"General Programming\"}, {\"experience_level\": \"Beginner\", \"tech_stack\": \"Web: HTML, CSS, JavaScript\"}, {\"experience_level\": \"Advanced\", \"tech_stack\": \"iOS: Swift\"}, {\"experience_level\": \"Advanced\", \"tech_stack\": \"Data Science: Python\"}, {\"experience_level\": \"Advanced\", \"tech_stack\": \"Career Development\"}, {\"experience_level\": \"Expert\", \"tech_stack\": \"Android: Java\"}, {\"experience_level\": \"Advanced\", \"tech_stack\": \"Web: HTML, CSS, JavaScript\"}, {\"experience_level\": \"Expert\", \"tech_stack\": \"Android: Java\"}, {\"experience_level\": \"Beginner\", \"tech_stack\": \"Android: Java\"}, {\"experience_level\": \"Beginner\", \"tech_stack\": \"Career Development\"}, {\"experience_level\": \"Beginner\", \"tech_stack\": \"General Programming\"}, {\"experience_level\": \"Expert\", \"tech_stack\": \"Web: HTML, CSS, JavaScript\"}, {\"experience_level\": \"Expert\", \"tech_stack\": \"Web: HTML, CSS, JavaScript\"}, {\"experience_level\": \"Beginner\", \"tech_stack\": \"General Programming\"}]}}, {\"mode\": \"vega-lite\"});\n",
       "</script>"
      ],
      "text/plain": [
       "alt.Chart(...)"
      ]
     },
     "execution_count": 87,
     "metadata": {},
     "output_type": "execute_result"
    }
   ],
   "source": [
    "mentors_chart.encode(color='tech_stack')"
   ]
  },
  {
   "cell_type": "code",
   "execution_count": 20,
   "metadata": {},
   "outputs": [
    {
     "data": {
      "text/plain": [
       "experience_level  tech_stack                \n",
       "Advanced          Career Development            6\n",
       "                  Android: Java                 5\n",
       "                  General Programming           5\n",
       "                  Web: HTML, CSS, JavaScript    5\n",
       "                  Data Science: Python          4\n",
       "                  iOS: Swift                    4\n",
       "Beginner          Career Development            7\n",
       "                  iOS: Swift                    7\n",
       "                  Android: Java                 4\n",
       "                  General Programming           4\n",
       "                  Data Science: Python          3\n",
       "                  Web: HTML, CSS, JavaScript    2\n",
       "Expert            General Programming           8\n",
       "                  Android: Java                 6\n",
       "                  Data Science: Python          6\n",
       "                  Career Development            4\n",
       "                  Web: HTML, CSS, JavaScript    1\n",
       "                  iOS: Swift                    1\n",
       "Intermediate      Android: Java                 5\n",
       "                  General Programming           4\n",
       "                  Career Development            3\n",
       "                  Web: HTML, CSS, JavaScript    3\n",
       "                  iOS: Swift                    3\n",
       "                  Data Science: Python          2\n",
       "Name: tech_stack, dtype: int64"
      ]
     },
     "execution_count": 20,
     "metadata": {},
     "output_type": "execute_result"
    }
   ],
   "source": [
    "mentees_df.groupby('experience_level')['tech_stack'].value_counts()"
   ]
  },
  {
   "cell_type": "code",
   "execution_count": 21,
   "metadata": {},
   "outputs": [
    {
     "data": {
      "text/plain": [
       "experience_level  tech_stack                \n",
       "Advanced          Career Development            2\n",
       "                  Data Science: Python          1\n",
       "                  General Programming           1\n",
       "                  Web: HTML, CSS, JavaScript    1\n",
       "                  iOS: Swift                    1\n",
       "Beginner          Android: Java                 2\n",
       "                  General Programming           2\n",
       "                  Career Development            1\n",
       "                  Web: HTML, CSS, JavaScript    1\n",
       "Expert            Android: Java                 2\n",
       "                  Web: HTML, CSS, JavaScript    2\n",
       "                  General Programming           1\n",
       "Intermediate      General Programming           1\n",
       "                  Web: HTML, CSS, JavaScript    1\n",
       "                  iOS: Swift                    1\n",
       "Name: tech_stack, dtype: int64"
      ]
     },
     "execution_count": 21,
     "metadata": {},
     "output_type": "execute_result"
    }
   ],
   "source": [
    "mentors_df.groupby('experience_level')['tech_stack'].value_counts()"
   ]
  }
 ],
 "metadata": {
  "interpreter": {
   "hash": "72240805c377d4474abcf4d45080f04a336169d205b66fb781217b269c9da5e9"
  },
  "kernelspec": {
   "display_name": "Python 3.10.1 ('venv': venv)",
   "language": "python",
   "name": "python3"
  },
  "language_info": {
   "codemirror_mode": {
    "name": "ipython",
    "version": 3
   },
   "file_extension": ".py",
   "mimetype": "text/x-python",
   "name": "python",
   "nbconvert_exporter": "python",
   "pygments_lexer": "ipython3",
   "version": "3.10.1"
  },
  "orig_nbformat": 4
 },
 "nbformat": 4,
 "nbformat_minor": 2
}
