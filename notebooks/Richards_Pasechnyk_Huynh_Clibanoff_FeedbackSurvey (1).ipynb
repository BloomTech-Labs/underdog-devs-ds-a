{
  "nbformat": 4,
  "nbformat_minor": 0,
  "metadata": {
    "colab": {
      "name": "Richards/Pasechnyk/Huynh/Clibanoff - FeedbackSurvey.ipynb",
      "provenance": []
    },
    "kernelspec": {
      "name": "python3",
      "display_name": "Python 3"
    },
    "language_info": {
      "name": "python"
    }
  },
  "cells": [
    {
      "cell_type": "markdown",
      "source": [
        "#Spring Board for post-meeting feedback"
      ],
      "metadata": {
        "id": "YK4ZWJmzJ2k8"
      }
    },
    {
      "cell_type": "code",
      "source": [
        "#Import Libraries\n",
        "import random as r\n",
        "import pandas as pd\n",
        "import numpy as np\n",
        "from sklearn.metrics.pairwise import cosine_similarity"
      ],
      "metadata": {
        "id": "xDou3a7vNNie"
      },
      "execution_count": 1,
      "outputs": []
    },
    {
      "cell_type": "markdown",
      "source": [
        "### Mentees who receive financial aid might have more strict requirements so knowing if they show up and if they're doing their work might be a priority to consider\n"
      ],
      "metadata": {
        "id": "53AznKD0BAaR"
      }
    },
    {
      "cell_type": "code",
      "execution_count": 3,
      "metadata": {
        "id": "jQ3YQpcf-l3E"
      },
      "outputs": [],
      "source": [
        "#Potential Reference for metrics\n",
        "Mentor = \"https://uwmadison.co1.qualtrics.com/jfe/form/SV_ah3sUnFOUNJouDX?Q_JFE=qdg\"\n",
        "Mentee = \"https://uwmadison.co1.qualtrics.com/jfe/form/SV_9vEPVJ9H0ksWEPr?Q_JFE=qdg\"\n",
        "Both_sentiment = \"https://www.aquinas.edu/alumni/events-and-volunteer-opportunities/aq-alumni-mentorship-network-program/mentoring-program\""
      ]
    },
    {
      "cell_type": "markdown",
      "source": [
        "#Questions that could be asked"
      ],
      "metadata": {
        "id": "hRL9e2MVv1fx"
      }
    },
    {
      "cell_type": "markdown",
      "source": [
        "Did the mentee show up? \\\n",
        "Did the mentee come prepared? \\\n",
        "Has the mentee completed homework outside of mentor hours? \\\n",
        "Is the mentee showing marked improvement?\n",
        "  - These seem to be a core metric: perhaps the more often these are true, the more often the student will be successful? Are there certain features from the above four that are more important than others?\n",
        "\n",
        "How would you rate the mentee's current skills? \n",
        "  - (Beginner, Intermediate, Advanced)\n",
        "  - A professional opinion on their skills could change the weight of certain skills.  \n",
        "\n",
        "Is the mentee looking to improve his technical skills, career readiness skills, life skills or all of the above? \\\n",
        "  - *If certain skills fall into these categories we need to know. If they show proficiency in one area and not in another we need to be aware of whether or not the mentor they are currently with is the best use of resources for underdog devs and/or the best match for the mentee* \\\n",
        "\n",
        "Are there any roadblocks to mentee success?\n",
        "\n",
        "Other:\n",
        "\n",
        "Other notes for the mentee \\\n",
        "Other notes for future mentors \\\n",
        "\n",
        "\n",
        "What is the Mentee's timeline? (i.e. if they're in a bootcamp how long etc) \\"
      ],
      "metadata": {
        "id": "CLEY5CR3DEp5"
      }
    },
    {
      "cell_type": "markdown",
      "source": [
        "#Why and Ideas"
      ],
      "metadata": {
        "id": "GOcDwzGe6wEn"
      }
    },
    {
      "cell_type": "markdown",
      "source": [
        "What do we think the surveys will help with? \n",
        "  - I want to know if they're **showing up prepared**.\n",
        "    - This tells the mentor and underdog devs that their time is respected\n",
        "  - I want to know what their mentor makes of their **skill rank**\n",
        "    - this will tell how ready they are to move on from this mentor or start applying\n",
        "  - I want to know if their skill requirements are being met with their current mentor. **Soft skills** may be especially pertinent here.\n",
        "    - based on changes in skill levels and categories in which those skill levels are, is the mentor's skill group being effectively leveraged?\n",
        "     - For example: Tech mentor has seen tech/career mentee to 'python', 'R' advancement and now mentee needs career/life coach. If another mentee comes along who needs Python but not career/life coaching, having some kind of notice that mentor is potentially available could be good. \n",
        "  - What other factors might influence success? \n",
        "    - Are they receiving **financial assistance**?\n",
        "    - Do they have a **pair-programming buddy**? \n",
        "      - This could be a good idea ^-^ \n",
        "      - checks and balances to ensure one isn't doing more work/other's work\n",
        "      - Stretch goal for sure but something to run by stakeholder\n",
        "    - What do they do when they run into issues with coding? \n",
        "      - options: stop, 20 min then break, request resources (from who?)??\n",
        "    - Does mentee have clear expectations for the week? "
      ],
      "metadata": {
        "id": "GZKyR-3W6zxg"
      }
    },
    {
      "cell_type": "markdown",
      "source": [
        "# Future tasks: "
      ],
      "metadata": {
        "id": "FlsviVrLYjRo"
      }
    },
    {
      "cell_type": "markdown",
      "source": [
        "##link to exit survey \\\n",
        "  - was the mentee successful? (feedback for milestones) \\\n",
        "    - If mentees are successful, what measured data do we have regarding the milestones that they hit. Did showing up regularly lead to success? Did doing homework consistently lead to success? Etc. \\\n",
        "\n",
        "  - was the match successful? (feedback for matching algo) \\\n",
        "    - how to measure this? Perhaps mentee/mentor subjective satisfaction? Long term contact? \n",
        "  - was the mentor successful? (consistent mentee failure?) \\\n",
        "    - If the mentor has enough mentee's fail, perhaps sending tickets to admins as a sort of redflag? They could then consult feedback forms? \\"
      ],
      "metadata": {
        "id": "MlzwR7pREY5r"
      }
    },
    {
      "cell_type": "markdown",
      "source": [
        "### Should we have a form to check for understanding on the part of the mentee? Do the mentors want feedback? "
      ],
      "metadata": {
        "id": "fRKXdmtnHpnk"
      }
    },
    {
      "cell_type": "markdown",
      "source": [
        "As mentee, do you have a clear understanding of your tasks for the week? \\\n",
        "\n",
        "Do you feel like you're improving as a programmer? \\\n",
        "\n"
      ],
      "metadata": {
        "id": "fJK_mLH7JNYA"
      }
    },
    {
      "cell_type": "markdown",
      "source": [
        "# List of choices for questions"
      ],
      "metadata": {
        "id": "n7lFCC0xMCgr"
      }
    },
    {
      "cell_type": "code",
      "source": [
        "exp_level = (\n",
        "    \"Beginner\", \"Intermediate\", \"Advanced\",\n",
        ")\n",
        "\n",
        "purpose = (\n",
        "    \"Technical\", \"Career Preparation\", \"Life Coaching\"\n",
        ")\n",
        "\n",
        "roadblocks = (\n",
        "    \"financial\", \"interpersonal\", \"housing\", \"time_management\",\n",
        "    \"learning_resources\", \"learning_strategies\" \"computer_or_wifi access\", \"more_mentor_time\",\n",
        "    \"building_routine\", \"presentation_professionalism\", \"community\", \"none\"\n",
        ")\n",
        "\n",
        "industry = (\n",
        "    \"unsure\", \"health_and_wellness\", \"data_storage_and_security\", \"customer_relationship_management\", \"travel\", \"accounting_and_finance\",\n",
        "    \"application_and_data_integration\", \"human_resources_and_workforce_management\", \"supply_chain_and_logistics\", \"food_and_grocery\",\n",
        "    \"web_development\", \"lighting_and_LED\", \"infrastructure_and_hosting\", \"collaboration_and_project_management\", \"data_and_broadband\",\n",
        "    \"music\", \"real_estate\")\n",
        "\n",
        "financial_aid = (\"Yes\", \"No\")\n",
        "showup = (\"showed_up\", \"no_show\")\n",
        "prepared = (\"prepared\", \"not_prepared\")\n",
        "homework = (\"complete\", \"incomplete\")\n",
        "improving = (\"improving\", \"not_improving\")\n",
        "\n",
        "#From searchlight \n",
        "soft_skills = (\n",
        "    \"Coachability\", \"Attention_to_Detail\", \"Hardworking\", \"Creativity\",\n",
        "    \"Dependability\", \"Strategic Thinking\", \"Collaboration\", \"Trustworthiness\",\n",
        "    \"Enthusiasm\", \"Persuasion\", \"Empathy\", \"Charisma\", \"Active Listening\", \"Humility\",\n",
        "    \"Critical Thinking\", \"Adaptability\", \"Fast Learner\", \"Managing Stress\",\n",
        "    \"Being a Self-Starter\",\"Personable\", \"Curiosity\", \"Emotional Intelligence\",\n",
        "    \"Poise\", \"Ambition\", \"Handling Ambiguity\", \"Competitiveness\", \"Methodical\",\n",
        "    \"Customer-orientation\", \"Decisiveness\", \"Conscientiousness\", \"Teaching Others\",\n",
        "    \"Independence\", \"Intelligence\", \"Intuition\", \"Good Judgement\", \"Optimism\",\n",
        "    \"Persistence\", \"Problem Solving\", \"Results-driven\", \"Risk-taking\", \"Resourcefulness\"   \n",
        "                 )\n",
        "mentee_other = (\n",
        "    \"communicating_with_other_mentors\", \"setting_expectations\", \"satisfied_with_progress\"\n",
        ")\n",
        "\n",
        "first_names = (\n",
        "    \"Liam\", \"Noah\", \"Oliver\", \"Elijah\", \"William\", \"James\", \"Benjamin\", \"Lucas\",\n",
        "    \"Henry\", \"Alexander\", \"Mason\", \"Michael\", \"Ethan\", \"Daniel\", \"Jacob\",\n",
        "    \"Logan\", \"Jackson\", \"Levi\", \"Sebastian\", \"Mateo\", \"Jack\", \"Owen\",\n",
        "    \"Theodore\", \"Aiden\", \"Samuel\", \"Joseph\", \"John\", \"David\", \"Wyatt\",\n",
        "    \"Matthew\", \"Luke\", \"Asher\", \"Carter\", \"Julian\", \"Grayson\", \"Leo\", \"Jayden\",\n",
        "    \"Gabriel\", \"Isaac\", \"Lincoln\", \"Anthony\", \"Hudson\", \"Dylan\", \"Ezra\",\n",
        "    \"Thomas\", \"Charles\", \"Christopher\", \"Jaxon\", \"Maverick\", \"Josiah\", \"Isaiah\",\n",
        "    \"Andrew\", \"Elias\", \"Joshua\", \"Nathan\", \"Caleb\", \"Ryan\", \"Adrian\", \"Miles\",\n",
        "    \"Eli\", \"Nolan\", \"Christian\", \"Aaron\", \"Cameron\", \"Ezekiel\", \"Colton\",\n",
        "    \"Luca\", \"Landon\", \"Hunter\", \"Jonathan\", \"Santiago\", \"Axel\", \"Easton\",\n",
        "    \"Cooper\", \"Jeremiah\", \"Angel\", \"Roman\", \"Connor\", \"Jameson\", \"Robert\",\n",
        "    \"Greyson\", \"Jordan\", \"Ian\", \"Carson\", \"Jaxson\", \"Leonardo\", \"Nicholas\",\n",
        "    \"Dominic\", \"Austin\", \"Everett\", \"Brooks\", \"Xavier\", \"Kai\", \"Jose\", \"Parker\",\n",
        "    \"Adam\", \"Jace\", \"Wesley\", \"Kayden\", \"Silas\", \"Bennett\", \"Declan\", \"Waylon\",\n",
        "    \"Weston\", \"Evan\", \"Emmett\", \"Micah\", \"Ryder\", \"Beau\", \"Damian\", \"Brayden\",\n",
        "    \"Gael\", \"Rowan\", \"Harrison\", \"Bryson\", \"Sawyer\", \"Amir\", \"Kingston\",\n",
        "    \"Jason\", \"Giovanni\", \"Vincent\", \"Ayden\", \"Chase\", \"Myles\", \"Diego\",\n",
        "    \"Olivia\", \"Emma\", \"Ava\", \"Charlotte\", \"Sophia\", \"Amelia\", \"Isabella\", \"Mia\",\n",
        "    \"Evelyn\", \"Harper\", \"Camila\", \"Gianna\", \"Abigail\", \"Luna\", \"Ella\",\n",
        "    \"Elizabeth\", \"Sofia\", \"Emily\", \"Avery\", \"Mila\", \"Scarlett\", \"Eleanor\",\n",
        "    \"Madison\", \"Layla\", \"Penelope\", \"Aria\", \"Chloe\", \"Grace\", \"Ellie\", \"Nora\",\n",
        "    \"Hazel\", \"Zoey\", \"Riley\", \"Victoria\", \"Lily\", \"Aurora\", \"Violet\", \"Nova\",\n",
        "    \"Hannah\", \"Emilia\", \"Zoe\", \"Stella\", \"Everly\", \"Isla\", \"Leah\", \"Lillian\",\n",
        "    \"Addison\", \"Willow\", \"Lucy\", \"Paisley\", \"Natalie\", \"Naomi\", \"Eliana\",\n",
        "    \"Brooklyn\", \"Elena\", \"Aubrey\", \"Claire\", \"Ivy\", \"Kinsley\", \"Audrey\", \"Maya\",\n",
        "    \"Genesis\", \"Skylar\", \"Bella\", \"Aaliyah\", \"Madelyn\", \"Savannah\", \"Anna\",\n",
        "    \"Delilah\", \"Serenity\", \"Caroline\", \"Kennedy\", \"Valentina\", \"Ruby\", \"Sophie\",\n",
        "    \"Alice\", \"Gabriella\", \"Sadie\", \"Ariana\", \"Allison\", \"Hailey\", \"Autumn\",\n",
        "    \"Nevaeh\", \"Natalia\", \"Quinn\", \"Josephine\", \"Sarah\", \"Cora\", \"Emery\",\n",
        "    \"Samantha\", \"Piper\", \"Leilani\", \"Eva\", \"Everleigh\", \"Madeline\", \"Lydia\",\n",
        "    \"Jade\", \"Peyton\", \"Brielle\", \"Adeline\", \"Vivian\", \"Rylee\", \"Clara\",\n",
        "    \"Raelynn\", \"Melanie\", \"Melody\", \"Julia\", \"Athena\", \"Maria\", \"Liliana\",\n",
        "    \"Hadley\", \"Arya\", \"Rose\", \"Reagan\", \"Eliza\", \"Adalynn\", \"Kaylee\", \"Lyla\")\n",
        "\n",
        "last_name = (\n",
        "    \"Smith\", \"Johnson\", \"Williams\", \"Brown\", \"Jones\", \"Garcia\", \"Miller\",\n",
        "    \"Davis\", \"Rodriguez\", \"Martinez\", \"Hernandez\", \"Lopez\", \"Gonzales\",\n",
        "    \"Wilson\", \"Anderson\", \"Thomas\", \"Taylor\", \"Moore\", \"Jackson\", \"Martin\",\n",
        "    \"Lee\", \"Perez\", \"Thompson\", \"White\", \"Harris\", \"Sanchez\", \"Clark\",\n",
        "    \"Ramirez\", \"Lewis\", \"Robinson\", \"Walker\", \"Young\", \"Allen\", \"King\",\n",
        "    \"Wright\", \"Scott\", \"Torres\", \"Nguyen\", \"Hill\", \"Flores\", \"Green\", \"Adams\",\n",
        "    \"Nelson\", \"Baker\", \"Hall\", \"Rivera\", \"Campbell\", \"Mitchell\", \"Carter\",\n",
        "    \"Roberts\", \"Gomez\", \"Phillips\", \"Evans\", \"Turner\", \"Diaz\", \"Parker\", \"Cruz\",\n",
        "    \"Edwards\", \"Collins\", \"Reyes\", \"Stewart\", \"Morris\", \"Morales\", \"Murphy\",\n",
        "    \"Cook\", \"Rogers\", \"Gutierrez\", \"Ortiz\", \"Morgan\", \"Cooper\", \"Peterson\",\n",
        "    \"Bailey\", \"Reed\", \"Kelly\", \"Howard\", \"Ramos\", \"Kim\", \"Cox\", \"Ward\",\n",
        "    \"Richardson\", \"Watson\", \"Brooks\", \"Chavez\", \"Wood\", \"James\", \"Bennet\",\n",
        "    \"Gray\", \"Mendoza\", \"Ruiz\", \"Hughes\", \"Price\", \"Alvarez\", \"Castillo\",\n",
        "    \"Sanders\", \"Patel\", \"Myers\", \"Long\", \"Ross\", \"Foster\", \"Jimenez\")\n",
        "  \n"
      ],
      "metadata": {
        "id": "3sZmIgGrMB42"
      },
      "execution_count": 4,
      "outputs": []
    },
    {
      "cell_type": "markdown",
      "source": [
        "# Mock data classes\n"
      ],
      "metadata": {
        "id": "L_eG2GjYLrpd"
      }
    },
    {
      "cell_type": "code",
      "source": [
        "class Mentee:\n",
        "\n",
        "    def __init__(self):\n",
        "        self.profile_id = f\"mentee{r.randint(1000000, 7000000000)}\"\n",
        "        self.first_name = r.choice(first_names)\n",
        "        self.last_name = r.choice(last_name)\n",
        "        self.skill_rank = r.sample(exp_level, k=1)\n",
        "        self.industry = r.sample(industry, k=1)\n",
        "        self.purpose = r.sample(purpose, k=r.randint(1, 3))\n",
        "        self.roadblocks = r.sample(roadblocks, k=r.randint(1, 3))\n",
        "        self.financial_aid = r.choice(financial_aid)\n",
        "        self.showup = r.choice(showup)\n",
        "        self.prepared = r.choice(prepared)\n",
        "        self.homework = r.choice(homework)\n",
        "        self.improving = r.choice(improving)\n",
        "\n",
        "    @classmethod\n",
        "    def to_df(cls, num_rows):\n",
        "        return pd.DataFrame(vars(cls()) for _ in range(num_rows))"
      ],
      "metadata": {
        "id": "JGL_1jg5Luvw"
      },
      "execution_count": 5,
      "outputs": []
    },
    {
      "cell_type": "code",
      "source": [
        "class Mentor:\n",
        "\n",
        "    def __init__(self):\n",
        "        self.profile_id = f\"mentor{r.randint(1000000, 7000000000)}\"\n",
        "        self.first_name = r.choice(first_names)\n",
        "        self.last_name = r.choice(last_name)\n",
        "        self.skill_rank = r.sample(exp_level, k=3)\n",
        "        self.industry = r.sample(industry, k=1)\n",
        "        self.purpose = r.sample(purpose, k=r.randint(1, 3))\n",
        "\n",
        "    @classmethod\n",
        "    def to_df(cls, num_rows):\n",
        "        return pd.DataFrame(vars(cls()) for _ in range(num_rows))"
      ],
      "metadata": {
        "id": "3SKJ3ib_JGr0"
      },
      "execution_count": 6,
      "outputs": []
    },
    {
      "cell_type": "markdown",
      "source": [
        "#Populating Mock Dataframes"
      ],
      "metadata": {
        "id": "8KoL2_-00ir6"
      }
    },
    {
      "cell_type": "code",
      "source": [
        "mentee = Mentee()\n",
        "mentee_df = mentee.to_df(200)"
      ],
      "metadata": {
        "id": "K9X6IrRSRc76"
      },
      "execution_count": 7,
      "outputs": []
    },
    {
      "cell_type": "code",
      "source": [
        "mentor = Mentor()\n",
        "mentor_df = mentor.to_df(50)"
      ],
      "metadata": {
        "id": "-KrWTyj4KFbM"
      },
      "execution_count": 9,
      "outputs": []
    },
    {
      "cell_type": "code",
      "source": [
        "mentor_df.head(5)"
      ],
      "metadata": {
        "colab": {
          "base_uri": "https://localhost:8080/",
          "height": 206
        },
        "id": "UdxAT2rWRwEH",
        "outputId": "e09458c7-44d9-4bc7-ff54-d644d0cfabf1"
      },
      "execution_count": 10,
      "outputs": [
        {
          "output_type": "execute_result",
          "data": {
            "text/html": [
              "\n",
              "  <div id=\"df-f0595914-a692-45fb-b951-9169527435e0\">\n",
              "    <div class=\"colab-df-container\">\n",
              "      <div>\n",
              "<style scoped>\n",
              "    .dataframe tbody tr th:only-of-type {\n",
              "        vertical-align: middle;\n",
              "    }\n",
              "\n",
              "    .dataframe tbody tr th {\n",
              "        vertical-align: top;\n",
              "    }\n",
              "\n",
              "    .dataframe thead th {\n",
              "        text-align: right;\n",
              "    }\n",
              "</style>\n",
              "<table border=\"1\" class=\"dataframe\">\n",
              "  <thead>\n",
              "    <tr style=\"text-align: right;\">\n",
              "      <th></th>\n",
              "      <th>profile_id</th>\n",
              "      <th>first_name</th>\n",
              "      <th>last_name</th>\n",
              "      <th>skill_rank</th>\n",
              "      <th>industry</th>\n",
              "      <th>purpose</th>\n",
              "    </tr>\n",
              "  </thead>\n",
              "  <tbody>\n",
              "    <tr>\n",
              "      <th>0</th>\n",
              "      <td>mentor3949570687</td>\n",
              "      <td>Anna</td>\n",
              "      <td>Roberts</td>\n",
              "      <td>[Intermediate, Advanced, Beginner]</td>\n",
              "      <td>[infrastructure_and_hosting]</td>\n",
              "      <td>[Life Coaching]</td>\n",
              "    </tr>\n",
              "    <tr>\n",
              "      <th>1</th>\n",
              "      <td>mentor1786421316</td>\n",
              "      <td>Maria</td>\n",
              "      <td>King</td>\n",
              "      <td>[Beginner, Advanced, Intermediate]</td>\n",
              "      <td>[supply_chain_and_logistics]</td>\n",
              "      <td>[Life Coaching]</td>\n",
              "    </tr>\n",
              "    <tr>\n",
              "      <th>2</th>\n",
              "      <td>mentor1587938428</td>\n",
              "      <td>Madelyn</td>\n",
              "      <td>Alvarez</td>\n",
              "      <td>[Intermediate, Advanced, Beginner]</td>\n",
              "      <td>[travel]</td>\n",
              "      <td>[Life Coaching, Technical, Career Preparation]</td>\n",
              "    </tr>\n",
              "    <tr>\n",
              "      <th>3</th>\n",
              "      <td>mentor537600803</td>\n",
              "      <td>Christopher</td>\n",
              "      <td>Hall</td>\n",
              "      <td>[Advanced, Intermediate, Beginner]</td>\n",
              "      <td>[web_development]</td>\n",
              "      <td>[Technical, Career Preparation]</td>\n",
              "    </tr>\n",
              "    <tr>\n",
              "      <th>4</th>\n",
              "      <td>mentor3143898025</td>\n",
              "      <td>Santiago</td>\n",
              "      <td>Ramirez</td>\n",
              "      <td>[Advanced, Intermediate, Beginner]</td>\n",
              "      <td>[customer_relationship_management]</td>\n",
              "      <td>[Career Preparation, Technical, Life Coaching]</td>\n",
              "    </tr>\n",
              "  </tbody>\n",
              "</table>\n",
              "</div>\n",
              "      <button class=\"colab-df-convert\" onclick=\"convertToInteractive('df-f0595914-a692-45fb-b951-9169527435e0')\"\n",
              "              title=\"Convert this dataframe to an interactive table.\"\n",
              "              style=\"display:none;\">\n",
              "        \n",
              "  <svg xmlns=\"http://www.w3.org/2000/svg\" height=\"24px\"viewBox=\"0 0 24 24\"\n",
              "       width=\"24px\">\n",
              "    <path d=\"M0 0h24v24H0V0z\" fill=\"none\"/>\n",
              "    <path d=\"M18.56 5.44l.94 2.06.94-2.06 2.06-.94-2.06-.94-.94-2.06-.94 2.06-2.06.94zm-11 1L8.5 8.5l.94-2.06 2.06-.94-2.06-.94L8.5 2.5l-.94 2.06-2.06.94zm10 10l.94 2.06.94-2.06 2.06-.94-2.06-.94-.94-2.06-.94 2.06-2.06.94z\"/><path d=\"M17.41 7.96l-1.37-1.37c-.4-.4-.92-.59-1.43-.59-.52 0-1.04.2-1.43.59L10.3 9.45l-7.72 7.72c-.78.78-.78 2.05 0 2.83L4 21.41c.39.39.9.59 1.41.59.51 0 1.02-.2 1.41-.59l7.78-7.78 2.81-2.81c.8-.78.8-2.07 0-2.86zM5.41 20L4 18.59l7.72-7.72 1.47 1.35L5.41 20z\"/>\n",
              "  </svg>\n",
              "      </button>\n",
              "      \n",
              "  <style>\n",
              "    .colab-df-container {\n",
              "      display:flex;\n",
              "      flex-wrap:wrap;\n",
              "      gap: 12px;\n",
              "    }\n",
              "\n",
              "    .colab-df-convert {\n",
              "      background-color: #E8F0FE;\n",
              "      border: none;\n",
              "      border-radius: 50%;\n",
              "      cursor: pointer;\n",
              "      display: none;\n",
              "      fill: #1967D2;\n",
              "      height: 32px;\n",
              "      padding: 0 0 0 0;\n",
              "      width: 32px;\n",
              "    }\n",
              "\n",
              "    .colab-df-convert:hover {\n",
              "      background-color: #E2EBFA;\n",
              "      box-shadow: 0px 1px 2px rgba(60, 64, 67, 0.3), 0px 1px 3px 1px rgba(60, 64, 67, 0.15);\n",
              "      fill: #174EA6;\n",
              "    }\n",
              "\n",
              "    [theme=dark] .colab-df-convert {\n",
              "      background-color: #3B4455;\n",
              "      fill: #D2E3FC;\n",
              "    }\n",
              "\n",
              "    [theme=dark] .colab-df-convert:hover {\n",
              "      background-color: #434B5C;\n",
              "      box-shadow: 0px 1px 3px 1px rgba(0, 0, 0, 0.15);\n",
              "      filter: drop-shadow(0px 1px 2px rgba(0, 0, 0, 0.3));\n",
              "      fill: #FFFFFF;\n",
              "    }\n",
              "  </style>\n",
              "\n",
              "      <script>\n",
              "        const buttonEl =\n",
              "          document.querySelector('#df-f0595914-a692-45fb-b951-9169527435e0 button.colab-df-convert');\n",
              "        buttonEl.style.display =\n",
              "          google.colab.kernel.accessAllowed ? 'block' : 'none';\n",
              "\n",
              "        async function convertToInteractive(key) {\n",
              "          const element = document.querySelector('#df-f0595914-a692-45fb-b951-9169527435e0');\n",
              "          const dataTable =\n",
              "            await google.colab.kernel.invokeFunction('convertToInteractive',\n",
              "                                                     [key], {});\n",
              "          if (!dataTable) return;\n",
              "\n",
              "          const docLinkHtml = 'Like what you see? Visit the ' +\n",
              "            '<a target=\"_blank\" href=https://colab.research.google.com/notebooks/data_table.ipynb>data table notebook</a>'\n",
              "            + ' to learn more about interactive tables.';\n",
              "          element.innerHTML = '';\n",
              "          dataTable['output_type'] = 'display_data';\n",
              "          await google.colab.output.renderOutput(dataTable, element);\n",
              "          const docLink = document.createElement('div');\n",
              "          docLink.innerHTML = docLinkHtml;\n",
              "          element.appendChild(docLink);\n",
              "        }\n",
              "      </script>\n",
              "    </div>\n",
              "  </div>\n",
              "  "
            ],
            "text/plain": [
              "         profile_id  ...                                         purpose\n",
              "0  mentor3949570687  ...                                 [Life Coaching]\n",
              "1  mentor1786421316  ...                                 [Life Coaching]\n",
              "2  mentor1587938428  ...  [Life Coaching, Technical, Career Preparation]\n",
              "3   mentor537600803  ...                 [Technical, Career Preparation]\n",
              "4  mentor3143898025  ...  [Career Preparation, Technical, Life Coaching]\n",
              "\n",
              "[5 rows x 6 columns]"
            ]
          },
          "metadata": {},
          "execution_count": 10
        }
      ]
    },
    {
      "cell_type": "markdown",
      "source": [
        "# Improvements to be made"
      ],
      "metadata": {
        "id": "9UcbF27T0tLh"
      }
    },
    {
      "cell_type": "markdown",
      "source": [
        "To actually model the data and get results we need:\n",
        "  - Purpose to link to skills (maybe a drop down)\n",
        "  - Skills to link to skill rank \n",
        "  - Skills and their rank to weigh in on purpose fulfillment\n",
        "  - Preliminary assumptions regarding 4 key metrics of show up prepared with homework done and improvements consistent. \n",
        "    - The idea here being that the more often those metrics are met, the more successful the mentee will be... something only real data could reveal but assumptions being made are the way to mock that. \n",
        "    - Plus, these could link to potential mentee attrition... how to avoid attrition through lack of attention/follow up/whatever. "
      ],
      "metadata": {
        "id": "P1g8PiTn0x78"
      }
    }
  ]
}