{
  "cells": [
    {
      "cell_type": "code",
      "execution_count": 2,
      "metadata": {
        "id": "w0LcR1pjf_I7"
      },
      "outputs": [],
      "source": [
        "import re\n",
        "import string\n",
        "import nltk\n",
        "from nltk.tokenize import word_tokenize\n"
      ]
    },
    {
      "cell_type": "code",
      "execution_count": 3,
      "metadata": {
        "colab": {
          "base_uri": "https://localhost:8080/"
        },
        "id": "D8b_8-z2Xjlz",
        "outputId": "5a37dead-dbd9-4d91-f490-9da9402cdc06"
      },
      "outputs": [
        {
          "name": "stdout",
          "output_type": "stream",
          "text": [
            "showing info https://raw.githubusercontent.com/nltk/nltk_data/gh-pages/index.xml\n"
          ]
        },
        {
          "data": {
            "text/plain": [
              "True"
            ]
          },
          "execution_count": 3,
          "metadata": {},
          "output_type": "execute_result"
        }
      ],
      "source": [
        "nltk.download()"
      ]
    },
    {
      "cell_type": "code",
      "execution_count": 5,
      "metadata": {
        "id": "C2U2YMW6l1K0"
      },
      "outputs": [],
      "source": [
        "bakery_job_description = '''\n",
        "Bakery Assistant \n",
        "We are looking for a highly personable and enthusiastic bakery assistant to assist us at our baked goods counter. Your duties will include selling our baked goods to customers, managing baked goods and ingredient inventories, and taking control of the daily cleanup procedures at the bakery. You are also be required to monitor ingredient expiry dates.\n",
        "To ensure success, bakery assistants should exhibit experience in serving customers in a retail setting and a customer-oriented approach. Outstanding candidates are highly organized and have excellent communication skills.\n",
        "Bakery Assistant Responsibilities:\n",
        "Creating a welcoming and positive customer experience at the bakery counter.\n",
        "Advising customers on baked goods selection and taking orders.\n",
        "Weighing, pricing, and packaging purchased items, as well as processing payments.\n",
        "Managing the baking ingredients inventory and requesting the purchase of stock.\n",
        "Tracking ingredient expiry dates and arranging their use accordingly.\n",
        "Monitoring the visual appeal and the availability of baked goods on display.\n",
        "Reporting low baked goods stock to the Baker in a timely manner.\n",
        "Maintaining a clean and tidy baked goods counter and performing other duties on request.\n",
        "Cleaning the kitchen after business hours and preparing it for the next day.\n",
        "Managing customer complaints and relaying them to the Baker.\n",
        "Bakery Assistant Requirements:\n",
        "High school diploma or GED.\n",
        "Vocational training or baking coursework would be advantageous.\n",
        "State-approved food handling permit.\n",
        "Previous experience in serving customers in a bakery environment preferred.\n",
        "Proficiency in weighing, pricing, packaging, and processing payments of baked goods.\n",
        "Ability to manage ingredient inventories and to track expiry dates.\n",
        "A keen eye for detail and the ability to create visually appealing displays of baked goods.\n",
        "Knowledge of food and health industry regulations.\n",
        "Advanced ability to multitask and follow instructions given by bakers.\n",
        "Excellent customer service and communication skills. '''\n"
      ]
    },
    {
      "cell_type": "code",
      "execution_count": 6,
      "metadata": {
        "id": "oX5WPZS5kPAF"
      },
      "outputs": [],
      "source": [
        "data_job_description = '''  Senior Data Analyst- job post\n",
        "Southwest Texas Regional Advisory Council\n",
        "San Antonio, TX 78227\n",
        "$85,000 - $105,000 a year -  Full-time\n",
        "\n",
        "Job details\n",
        "Salary\n",
        "$85,000 - $105,000 a year\n",
        "Job Type\n",
        "Full-time\n",
        "Qualifications\n",
        "•\tEducation:\n",
        "•\tBachelor's (Preferred)\n",
        "•\tLocation:\n",
        "•\tSan Antonio, TX 78227 (Required)\n",
        "Benefits\n",
        "Pulled from the full job description\n",
        "Health insurance\n",
        "Dental insurance\n",
        "401(k)\n",
        "Flexible spending account\n",
        "Paid time off\n",
        "Vision insurance\n",
        "401(k) matching\n",
        "Life insurance\n",
        "Full Job Description\n",
        "The Senior Data Analyst assists the Division Director delivering data driven solutions to healthcare and public safety organizations. The candidate turns data into information, information into insight, and insight into actionable deliverables.\n",
        "•\tYou should have demonstrated experience with SQL, MySQL, and PostgreSQL databases including use of server tools. You will be part of a small cross-functional, agile team where you will have continued opportunity to learn and grow.\n",
        "•\tYou will help determine end user requirements, develop project plans, perform data functions, and create reports and visualizations. You will be responsible for system maintenance such as software updates, user management, data standardization, and system performance improvements.\n",
        "•\tWe look for self-starters who thrive in a fast-paced, agile environment – which means wearing many hats, being able to change direction quickly, and showing an eagerness to learn new technologies as the need arises. And most importantly – we look for people who can prioritize, multi-task, and deliver.\n",
        "Responsibilities \n",
        "•\tDevelop and maintain reports, dashboards, and data extraction routine\n",
        "•\tPerform data analysis, data validation, and data mapping/design\n",
        "•\tDevelop database queries, views, and stored procedures to support analytics\n",
        "•\tUse statistical methods to analyze data\n",
        "•\tDetermine user needs and design appropriate analytical solutions\n",
        "•\tAcquire, extract, transform, clean, and filter data\n",
        "•\tDevelop and update technical documentation including database documentation, standards, procedures and data dictionaries\n",
        "•\tMaintain detailed, tiered user accounts insuring proper data access\n",
        "•\tMaintain data analytics platforms and databases\n",
        "•\tProvide technical support and problem resolution for analytics platforms\n",
        "Qualifications \n",
        "· Undergraduate Degree (BA or BS) in Data Analytics, Statistics, or a relevant field from an accredited college or university\n",
        "· Minimum 3 years Tableau Server and Desktop development and maintenance experience required\n",
        "· Minimum 3 years database experience with a solid understanding of SQL, MySQL, and PostgreSQL databases\n",
        "· High level of mathematical and statistical knowledge\n",
        "· Accuracy and consistency when preparing reports\n",
        "· Understanding of database structure and data modeling\n",
        "· Adept at creating queries including quality assurance and optimization\n",
        "· Healthcare or Public Safety experience is highly desired\n",
        "· Ability to work independently with minimal supervision\n",
        "· Ability to work with time constraints and handle stressful situations\n",
        "· Strong attention to detail with sound judgement\n",
        "· Ability to collaborate and communicate effectively\n",
        "•\tAbility to work through ambiguity and deal with shifting priorities\n",
        "•\tAbility to mentor other analysts, as well as report to management.\n",
        "•\tProficiency in documenting processes\n",
        "Work Environment\n",
        "•\tYour choice between Mac or PC\n",
        "•\tWork provided phone\n",
        "•\tWork provided hotspot with unlimited data\n",
        "•\tStocked break room with complimentary snacks and drinks\n",
        "•\t401k with company match\n",
        "•\tWorks in multiple environments. Must possess physical and mental health to meet the demands of the position. Must be able to travel up to 25% and participate in various conferences, regional exercises, the Regional Medical Operations Center, and appropriate meetings related to state, regional emergency management and Acute Healthcare activities. Must be able to serve for extended periods of time, with high stress loads.\n",
        "Competencies \n",
        "•\tAnalytical - Collects / researches data; Uses intuition and experience to supplement data.\n",
        "•\tProblem Solving - Identifies and resolves problems in a timely manner; Gathers and analyzes information skillfully; Develops alternative solutions.\n",
        "•\tProject Management - Develops project plans; Communicates changes and progress; Completes projects on time and within budget.\n",
        "•\tOral Communication - Speaks clearly and persuasively; Listens and gets clarification when needed; Responds well to questions; Contributes thoughts, ideas and suggestions.\n",
        "•\tWritten Communication - Writes clearly and informatively; Edits work; Varies writing style to meet needs; Presents numerical data effectively; Able to read and interpret written information.\n",
        "•\tTeamwork - Balances team and individual responsibilities; Exhibits objectivity and openness to others' views; Gives and solicits feedback.\n",
        "•\tQuality Management - Looks for ways to improve and promote quality; Demonstrates accuracy and thoroughness.\n",
        "•\tBusiness Acumen - Understands business implications of decisions; Demonstrates knowledge of market and competition; Aligns work with strategic goals.\n",
        "•\tJudgment - Exhibits sound and accurate judgment; Supports and explains reasoning for decisions; Includes appropriate people in decision-making process.\n",
        "•\tPlanning/Organizing - Prioritizes and plans work activities; Sets goals and objectives.\n",
        "•\tQuality - Demonstrates accuracy and thoroughness; Looks for ways to improve and promote quality; Applies feedback to improve performance.\n",
        "Code of Conduct: \n",
        "Employee follows the STRAC Code of Conduct, which are rules to guide us in our work to assure the highest standards of business ethics and compliance as follows:\n",
        "1. Legal Compliance: comply with federal/state laws\n",
        "2. Business Ethics: accurately & honestly represent the Organization and not defraud anyone of money, property or service.\n",
        "3. Confidentiality: protect confidential information\n",
        "4. Conflict of Interest: do not use position to profit personally\n",
        "5. Business Relationships: business transactions are free from offers or solicitation of gifts/favors\n",
        "6. Protection of Assets: preserve assets by using resources prudently and effectively\n",
        "7. Patient Rights: respect and support patient rights to privacy & treatment\n",
        "About the Southwest Texas Regional Advisory Council \n",
        "The Southwest Texas Regional Advisory Council (STRAC) is designated by the Texas Department of State Health Services (DSHS) to develop, implement and maintain a regional trauma and emergency healthcare system for the 22 counties in Trauma Service Area P. TSA-P has a mixture of urban, suburban, rural and frontier counties, including the 7th largest city in the United\n",
        "States to the International Border with Mexico. The region encompasses over 26,000 square miles in southwest Texas. STRAC is one of twenty-two regional advisory councils in Texas that comprise the Texas Trauma and Emergency Healthcare System.\n",
        "The Southwest Texas Regional Advisory Council, together with its leadership, members and staff, strives to maintain its reputation as a preeminent leader in regional healthcare coordination within Texas and across the United States. Working collaboratively alongside EMS providers, hospital and healthcare system leadership, as well as local governments, STRAC leverages its consensus based approach to innovative program development that has led to cutting edge improvements in regional emergency healthcare, including its Regional Prehospital\n",
        "Whole Blood Program, Regional Communication and Coordination Center (MEDCOM), Mental\n",
        "Health Patient Navigation System alongside our Law Enforcement Partners and the Texas\n",
        "Emergency Medical Task Force.\n",
        "STRAC is a 501c3 non-profit, tax-exempt member organization consisting of 74 general and specialty hospitals, including 2 Level I Trauma Centers, 16 PCI centers, 12 Stroke centers, air medical providers, and over 70 Fire and EMS agencies.'\n",
        "'\n",
        "Work Location:\n",
        "•\tOne location\n",
        "Job Type: Full-time\n",
        "Pay: $85,000.00 - $105,000.00 per year\n",
        "Benefits:\n",
        "•\t401(k)\n",
        "•\t401(k) matching\n",
        "•\tDental insurance\n",
        "•\tFlexible spending account\n",
        "•\tHealth insurance\n",
        "•\tLife insurance\n",
        "•\tPaid time off\n",
        "•\tVision insurance\n",
        "Schedule:\n",
        "•\t8 hour shift\n",
        "•\tMonday to Friday\n",
        "•\tOn call\n",
        "Education:\n",
        "•\tBachelor's (Preferred)\n",
        "Location:\n",
        "•\tSan Antonio, TX 78227 (Required)\n",
        "Work Location: One location\n",
        "Hiring Insights\n",
        "Hiring 1 candidate for this role\n",
        "Urgently hiring\n",
        "Job activity\n",
        "Employer reviewed job 4 days ago\n",
        "Posted 30+ days ago\n",
        "30+ days ago\n",
        "If you require alternative methods of application or screening, you must approach the employer directly to request this as Indeed is not responsible for the employer's application process.\n",
        " '''\n"
      ]
    },
    {
      "cell_type": "code",
      "execution_count": 7,
      "metadata": {
        "id": "6ppauqmgkMCk"
      },
      "outputs": [],
      "source": [
        "resume1 = ''' Juan Jose Carin \n",
        "Mountain View, CA 94041 650-336-4590 | juanjose.carin@gmail.com Data Scientist linkedin.com/in/juanjosecarin | juanjocarin.github.io \n",
        "\n",
        "Professional Profile \n",
        "Passionate about data analysis and experiments, mainly focused on user behavior, experience, and engagement, with a solid background in data science and statistics, and extensive experience using data insights to drive business growth. \n",
        "Education \n",
        "\n",
        "2016 University of California, Berkeley Master of Information and Data Science \n",
        "• Machine Learning\n",
        "• Machine Learning at Scale \n",
        "• Data Visualization and Communication \n",
        "• Research Design and Applications for \n",
        "GPA: 3.93 \n",
        " \n",
        "Relevant courses: \n",
        "• Field Experiments\n",
        "• Applied Regression and Time Series \n",
        "Analysis \n",
        "• Storing and Retrieving Data \n",
        "• Exploring and Analyzing Data \n",
        "Data Analysis \n",
        "2014 \n",
        "Universidad Politécnica de Madrid M.S. in Statistical and Computational Information Processing \n",
        "• Data Mining\n",
        "• Multivariate Analysis • Time Series \n",
        "• Monte Carlo Techniques\n",
        "• Numerical Methods in Finance • Stochastic Models in Finance • Bayesian Networks \n",
        "GPA: 3.69 \n",
        "Relevant courses: \n",
        "• Neural Networks and Statistical Learning \n",
        "• Regression and Prediction Methods • Optimization Techniques \n",
        "2005 \n",
        "Universidad Politécnica de Madrid M.S. in Telecommunication Engineering \n",
        "GPA: 3.03 \n",
        "Focus Area: Radio communication systems (radar and mobile).\n",
        "Fellowship: First year at University, due to Honors obtained last year at high school. \n",
        "Skills \n",
        "Experience \n",
        "DATA SCIENCE \n",
        "\n",
        "Proficient: Intermediate: Basic: \n",
        "Programming / Statistics R, Python, SQL\n",
        "SPSS, SAS, Matlab EViews, Demetra+ \n",
        "Big Data\n",
        "Hadoop, Hive, MrJob Spark, Storm \n",
        "Visualization \n",
        "Tableau D3.js \n",
        "Others\n",
        "Git, AWS\n",
        "Bash\n",
        "Gephi, Neo4j, QGIS \n",
        "\n",
        "Jan. 2016 – Mar. 2016 \n",
        "Data Scientist \n",
        "CONENTO \n",
        "Madrid, Spain (working remotely) \n",
        "Jun. 2014 – Sep. 2014 \n",
        "• Designed and implemented the ETL pipeline for a predictive model of traffic on the main roads in eastern Spain (a project for the Spanish government). \n",
        "• Automated scripts in R to extract, transform, clean (incl. anomaly detection), and load into MySQL data from multiple data sources: road traffic sensors, accidents, road works, weather. \n",
        "Data Scientist \n",
        "CONENTO \n",
        "Madrid, Spain \n",
        "•\tDesigned an experiment for Google Spain (conducted in October 2014) to measure the impact of YouTube ads on the sales of a car manufacturer's dealer network. \n",
        "•\tA matched-pair, cluster-randomized design, which involved selecting the test and control groups from a sample of 50+ cities in Spain (where geo-targeted ads were possible) based on their sales- wise similarity over time, using wavelets (and R). \n",
        "MANAGEMENT – SALES (Electrical Eng.) \n",
        "\n",
        "Feb. 2009 – Aug. 2013 Head of Sales, Spain & Portugal – Test &Measurement dept. \n",
        "YOKOGAWA \n",
        "Madrid, Spain \n",
        "• Applied analysis of sales and market trends to decide the direction of the department. • Led a team of 7 people. \n",
        "1 of 2 '''\n"
      ]
    },
    {
      "cell_type": "code",
      "execution_count": 8,
      "metadata": {
        "id": "kAO1HOiLjYa1"
      },
      "outputs": [],
      "source": [
        "resume2 = ''' John A Baker Jr.\n",
        "Data Scientist | Machine Learning Engineer\n",
        "San Antonio, TX | (619) 392-1231 | baker.john20@yahoo.com | johnabakerjr.link | GitHub: JohnBaker | LinkedIn: JohnBaker\n",
        "TECHNICAL SKILLS\n",
        " \n",
        "Development: Python (NumPy, Pandas, Scikit-learn), SQL, Tableau, PyTorch, Keras, Spark, Flask, Plotly Dash, Heroku\n",
        "Data Science: TensorFlow, Matplotlib, Data Analysis/Cleaning, Predictive Analytics, Machine Learning, Neural Networks\n",
        "Expertise: Project Management, Business Development, Technical Sales, Real Estate, Digital Marketing, Data Collection\n",
        "PROJECTS\n",
        " \n",
        "Plotly/Dash app, Life Expectancy Animation (1952-2007) - Data Scientist/Programmer, Heroku\t2021\n",
        "Plotly/Dash app, Life Expectancy SunBurst (2007) - Data Scientist/Programmer, Heroku\t2021\n",
        "●\tResearched the life expectancy data from Kaggle to understand and predict how different features affect longevity.\n",
        "●\tDecided on which animation features could be used to produce a fully interactive visualization of the data analysis. ● Built scatter plot apps using Plotly Dash to allow users to see how GDP correlates with life expectancy long-term.\n",
        "Custom Tableau Project, Fully Interactive Business Dashboard - Data Scientist/Programmer, Tableau Public\t2021 ● Researched the stock data that is associated with Tableau to evaluate and understand data for implementation.\n",
        "●\tDecided appropriate resource and tool to use to create a fully functional site that displayed results found.\n",
        "●\tBuilt a dashboard that shows total sales for each region, total profit, total orders,  daily sales, and much more.\n",
        "EXPERIENCE\n",
        " \n",
        "Underdog Devs, Remote - Machine Learning Engineer, Underdogdevs\t2022 - 2022\n",
        "●\tWorked in a team environment to make foundational decisions about the development of the product.\n",
        "●\tBuilt real software for a real cause organization, using Trello and GitHub to track all product development.\n",
        "●\tGained experience in database, machine learning, and visualizations as a collaborative exercise, where team members contributed their skills, experience, and time to collectively create a product.\n",
        "Combat Realty, Chula Vista, CA - Broker/Owner\t2013 - 2020\n",
        "●\tUsed the proprietary information of the company to analyze and collect customer data to increase business.\n",
        "●\tPerformed data integrity on all customers accounts and ensured the data was safe and secure at all times.\n",
        "●\tTrained, and coached a team of 9 to 12 on how to properly store data and stay compliant without data breach.\n",
        "●\tMarketed the residential real estate business via digital/social campaigns, lead generation, and cold calling.\n",
        "●\tPerformed payroll duties weekly for sales associates and salaried employees and corrected any discrepancies.\n",
        "Prudential California Realty, Chula Vista, CA - Salesperson\t2009 - 2013\n",
        "●\tCollected customer data and accurately wrote real estate contracts for sales and leases.\n",
        "●\tFostered a positive work environment with 3 owners, 40+ coworkers, brokers, and salespeople with no complaints.\n",
        "●\tPerformed more than 100-300 cold calls per day and understood the customers housing needs to make the sales.\n",
        "EDUCATION\n",
        " \n",
        "BloomTech (Lambda School), Data Science\t2021 - 2022\n",
        "● Immersive curriculum focused on predictive modeling, data engineering, machine learning, and computer science.\n",
        "San Diego City College, Real Estate'''"
      ]
    },
    {
      "cell_type": "code",
      "execution_count": 9,
      "metadata": {
        "id": "6BkNLafttpYQ"
      },
      "outputs": [],
      "source": [
        "stopwords = nltk.corpus.stopwords.words('english')\n",
        "wn = nltk.WordNetLemmatizer()"
      ]
    },
    {
      "cell_type": "code",
      "execution_count": 10,
      "metadata": {
        "id": "rOPclnrns69V"
      },
      "outputs": [],
      "source": [
        "def cleaner(data):\n",
        "    remove_numbers = re.sub('[0-9\\n]','',data)\n",
        "\n",
        "    data_lower = remove_numbers.lower()\n",
        "\n",
        "    beg_and_trail_spaces = data_lower.strip()\n",
        "\n",
        "    email_out = re.sub(r'[a-zA-Z0-9_.+-]+@[ a-zA-Z0-9-]+\\.[ a-zA-Z0-9-.]+', '', beg_and_trail_spaces)\n",
        "\n",
        "    txt_nopunct = \"\".join([c for c in email_out if c not in string.punctuation])\n",
        "\n",
        "    tokens = re.split('\\W+', txt_nopunct)\n",
        "\n",
        "    txt_tokens = [word for word in tokens if word not in stopwords]\n",
        "\n",
        "    clean_text = [wn.lemmatize(word) for word in txt_tokens]\n",
        "    return clean_text"
      ]
    },
    {
      "cell_type": "code",
      "execution_count": 11,
      "metadata": {
        "id": "AtXe5dpZVUoA"
      },
      "outputs": [],
      "source": [
        "bakery_job_description_clean = cleaner(bakery_job_description)\n",
        "data_job_description_clean = cleaner(data_job_description)\n",
        "resume1_clean = cleaner(resume1)\n",
        "resume2_clean = cleaner(resume2)"
      ]
    },
    {
      "cell_type": "code",
      "execution_count": 12,
      "metadata": {
        "colab": {
          "base_uri": "https://localhost:8080/"
        },
        "id": "bs_IZaqdm6ck",
        "outputId": "d75ab0ac-15b3-4248-99b0-c7d294c0cd4f"
      },
      "outputs": [
        {
          "name": "stdout",
          "output_type": "stream",
          "text": [
            "['bakery', 'assistant', 'looking', 'highly', 'personable', 'enthusiastic', 'bakery', 'assistant', 'assist', 'u', 'baked', 'good', 'counter', 'duty', 'include', 'selling', 'baked', 'good', 'customer', 'managing', 'baked', 'good', 'ingredient', 'inventory', 'taking', 'control', 'daily', 'cleanup', 'procedure', 'bakery', 'also', 'required', 'monitor', 'ingredient', 'expiry', 'datesto', 'ensure', 'success', 'bakery', 'assistant', 'exhibit', 'experience', 'serving', 'customer', 'retail', 'setting', 'customeroriented', 'approach', 'outstanding', 'candidate', 'highly', 'organized', 'excellent', 'communication', 'skillsbakery', 'assistant', 'responsibilitiescreating', 'welcoming', 'positive', 'customer', 'experience', 'bakery', 'counteradvising', 'customer', 'baked', 'good', 'selection', 'taking', 'ordersweighing', 'pricing', 'packaging', 'purchased', 'item', 'well', 'processing', 'paymentsmanaging', 'baking', 'ingredient', 'inventory', 'requesting', 'purchase', 'stocktracking', 'ingredient', 'expiry', 'date', 'arranging', 'use', 'accordinglymonitoring', 'visual', 'appeal', 'availability', 'baked', 'good', 'displayreporting', 'low', 'baked', 'good', 'stock', 'baker', 'timely', 'mannermaintaining', 'clean', 'tidy', 'baked', 'good', 'counter', 'performing', 'duty', 'requestcleaning', 'kitchen', 'business', 'hour', 'preparing', 'next', 'daymanaging', 'customer', 'complaint', 'relaying', 'bakerbakery', 'assistant', 'requirementshigh', 'school', 'diploma', 'gedvocational', 'training', 'baking', 'coursework', 'would', 'advantageousstateapproved', 'food', 'handling', 'permitprevious', 'experience', 'serving', 'customer', 'bakery', 'environment', 'preferredproficiency', 'weighing', 'pricing', 'packaging', 'processing', 'payment', 'baked', 'goodsability', 'manage', 'ingredient', 'inventory', 'track', 'expiry', 'datesa', 'keen', 'eye', 'detail', 'ability', 'create', 'visually', 'appealing', 'display', 'baked', 'goodsknowledge', 'food', 'health', 'industry', 'regulationsadvanced', 'ability', 'multitask', 'follow', 'instruction', 'given', 'bakersexcellent', 'customer', 'service', 'communication', 'skill']\n"
          ]
        }
      ],
      "source": [
        "print(bakery_job_description_clean)"
      ]
    },
    {
      "cell_type": "code",
      "execution_count": 13,
      "metadata": {
        "colab": {
          "base_uri": "https://localhost:8080/"
        },
        "id": "bZN_h_own_Q8",
        "outputId": "36124074-a606-425a-e601-a41a671137f2"
      },
      "outputs": [
        {
          "name": "stdout",
          "output_type": "stream",
          "text": [
            "['senior', 'data', 'analyst', 'job', 'postsouthwest', 'texas', 'regional', 'advisory', 'councilsan', 'antonio', 'tx', 'year', 'fulltimejob', 'detailssalary', 'yearjob', 'typefulltimequalifications', 'education', 'bachelor', 'preferred', 'location', 'san', 'antonio', 'tx', 'requiredbenefitspulled', 'full', 'job', 'descriptionhealth', 'insurancedental', 'insurancekflexible', 'spending', 'accountpaid', 'time', 'offvision', 'insurancek', 'matchinglife', 'insurancefull', 'job', 'descriptionthe', 'senior', 'data', 'analyst', 'assist', 'division', 'director', 'delivering', 'data', 'driven', 'solution', 'healthcare', 'public', 'safety', 'organization', 'candidate', 'turn', 'data', 'information', 'information', 'insight', 'insight', 'actionable', 'deliverable', 'demonstrated', 'experience', 'sql', 'mysql', 'postgresql', 'database', 'including', 'use', 'server', 'tool', 'part', 'small', 'crossfunctional', 'agile', 'team', 'continued', 'opportunity', 'learn', 'grow', 'help', 'determine', 'end', 'user', 'requirement', 'develop', 'project', 'plan', 'perform', 'data', 'function', 'create', 'report', 'visualization', 'responsible', 'system', 'maintenance', 'software', 'update', 'user', 'management', 'data', 'standardization', 'system', 'performance', 'improvement', 'look', 'selfstarters', 'thrive', 'fastpaced', 'agile', 'environment', 'mean', 'wearing', 'many', 'hat', 'able', 'change', 'direction', 'quickly', 'showing', 'eagerness', 'learn', 'new', 'technology', 'need', 'arises', 'importantly', 'look', 'people', 'prioritize', 'multitask', 'deliverresponsibilities', 'develop', 'maintain', 'report', 'dashboard', 'data', 'extraction', 'routine', 'perform', 'data', 'analysis', 'data', 'validation', 'data', 'mappingdesign', 'develop', 'database', 'query', 'view', 'stored', 'procedure', 'support', 'analytics', 'use', 'statistical', 'method', 'analyze', 'data', 'determine', 'user', 'need', 'design', 'appropriate', 'analytical', 'solution', 'acquire', 'extract', 'transform', 'clean', 'filter', 'data', 'develop', 'update', 'technical', 'documentation', 'including', 'database', 'documentation', 'standard', 'procedure', 'data', 'dictionary', 'maintain', 'detailed', 'tiered', 'user', 'account', 'insuring', 'proper', 'data', 'access', 'maintain', 'data', 'analytics', 'platform', 'database', 'provide', 'technical', 'support', 'problem', 'resolution', 'analytics', 'platformsqualifications', 'undergraduate', 'degree', 'ba', 'b', 'data', 'analytics', 'statistic', 'relevant', 'field', 'accredited', 'college', 'university', 'minimum', 'year', 'tableau', 'server', 'desktop', 'development', 'maintenance', 'experience', 'required', 'minimum', 'year', 'database', 'experience', 'solid', 'understanding', 'sql', 'mysql', 'postgresql', 'database', 'high', 'level', 'mathematical', 'statistical', 'knowledge', 'accuracy', 'consistency', 'preparing', 'report', 'understanding', 'database', 'structure', 'data', 'modeling', 'adept', 'creating', 'query', 'including', 'quality', 'assurance', 'optimization', 'healthcare', 'public', 'safety', 'experience', 'highly', 'desired', 'ability', 'work', 'independently', 'minimal', 'supervision', 'ability', 'work', 'time', 'constraint', 'handle', 'stressful', 'situation', 'strong', 'attention', 'detail', 'sound', 'judgement', 'ability', 'collaborate', 'communicate', 'effectively', 'ability', 'work', 'ambiguity', 'deal', 'shifting', 'priority', 'ability', 'mentor', 'analyst', 'well', 'report', 'management', 'proficiency', 'documenting', 'processeswork', 'environment', 'choice', 'mac', 'pc', 'work', 'provided', 'phone', 'work', 'provided', 'hotspot', 'unlimited', 'data', 'stocked', 'break', 'room', 'complimentary', 'snack', 'drink', 'k', 'company', 'match', 'work', 'multiple', 'environment', 'must', 'posse', 'physical', 'mental', 'health', 'meet', 'demand', 'position', 'must', 'able', 'travel', 'participate', 'various', 'conference', 'regional', 'exercise', 'regional', 'medical', 'operation', 'center', 'appropriate', 'meeting', 'related', 'state', 'regional', 'emergency', 'management', 'acute', 'healthcare', 'activity', 'must', 'able', 'serve', 'extended', 'period', 'time', 'high', 'stress', 'loadscompetencies', 'analytical', 'collect', 'research', 'data', 'us', 'intuition', 'experience', 'supplement', 'data', 'problem', 'solving', 'identifies', 'resolve', 'problem', 'timely', 'manner', 'gather', 'analyzes', 'information', 'skillfully', 'develops', 'alternative', 'solution', 'project', 'management', 'develops', 'project', 'plan', 'communicates', 'change', 'progress', 'completes', 'project', 'time', 'within', 'budget', 'oral', 'communication', 'speaks', 'clearly', 'persuasively', 'listens', 'get', 'clarification', 'needed', 'responds', 'well', 'question', 'contributes', 'thought', 'idea', 'suggestion', 'written', 'communication', 'writes', 'clearly', 'informatively', 'edits', 'work', 'varies', 'writing', 'style', 'meet', 'need', 'present', 'numerical', 'data', 'effectively', 'able', 'read', 'interpret', 'written', 'information', 'teamwork', 'balance', 'team', 'individual', 'responsibility', 'exhibit', 'objectivity', 'openness', 'others', 'view', 'give', 'solicits', 'feedback', 'quality', 'management', 'look', 'way', 'improve', 'promote', 'quality', 'demonstrates', 'accuracy', 'thoroughness', 'business', 'acumen', 'understands', 'business', 'implication', 'decision', 'demonstrates', 'knowledge', 'market', 'competition', 'aligns', 'work', 'strategic', 'goal', 'judgment', 'exhibit', 'sound', 'accurate', 'judgment', 'support', 'explains', 'reasoning', 'decision', 'includes', 'appropriate', 'people', 'decisionmaking', 'process', 'planningorganizing', 'prioritizes', 'plan', 'work', 'activity', 'set', 'goal', 'objective', 'quality', 'demonstrates', 'accuracy', 'thoroughness', 'look', 'way', 'improve', 'promote', 'quality', 'applies', 'feedback', 'improve', 'performancecode', 'conduct', 'employee', 'follows', 'strac', 'code', 'conduct', 'rule', 'guide', 'u', 'work', 'assure', 'highest', 'standard', 'business', 'ethic', 'compliance', 'follows', 'legal', 'compliance', 'comply', 'federalstate', 'law', 'business', 'ethic', 'accurately', 'honestly', 'represent', 'organization', 'defraud', 'anyone', 'money', 'property', 'service', 'confidentiality', 'protect', 'confidential', 'information', 'conflict', 'interest', 'use', 'position', 'profit', 'personally', 'business', 'relationship', 'business', 'transaction', 'free', 'offer', 'solicitation', 'giftsfavors', 'protection', 'asset', 'preserve', 'asset', 'using', 'resource', 'prudently', 'effectively', 'patient', 'right', 'respect', 'support', 'patient', 'right', 'privacy', 'treatmentabout', 'southwest', 'texas', 'regional', 'advisory', 'council', 'southwest', 'texas', 'regional', 'advisory', 'council', 'strac', 'designated', 'texas', 'department', 'state', 'health', 'service', 'dshs', 'develop', 'implement', 'maintain', 'regional', 'trauma', 'emergency', 'healthcare', 'system', 'county', 'trauma', 'service', 'area', 'p', 'tsap', 'mixture', 'urban', 'suburban', 'rural', 'frontier', 'county', 'including', 'th', 'largest', 'city', 'unitedstates', 'international', 'border', 'mexico', 'region', 'encompasses', 'square', 'mile', 'southwest', 'texas', 'strac', 'one', 'twentytwo', 'regional', 'advisory', 'council', 'texas', 'comprise', 'texas', 'trauma', 'emergency', 'healthcare', 'systemthe', 'southwest', 'texas', 'regional', 'advisory', 'council', 'together', 'leadership', 'member', 'staff', 'strives', 'maintain', 'reputation', 'preeminent', 'leader', 'regional', 'healthcare', 'coordination', 'within', 'texas', 'across', 'united', 'state', 'working', 'collaboratively', 'alongside', 'em', 'provider', 'hospital', 'healthcare', 'system', 'leadership', 'well', 'local', 'government', 'strac', 'leverage', 'consensus', 'based', 'approach', 'innovative', 'program', 'development', 'led', 'cutting', 'edge', 'improvement', 'regional', 'emergency', 'healthcare', 'including', 'regional', 'prehospitalwhole', 'blood', 'program', 'regional', 'communication', 'coordination', 'center', 'medcom', 'mentalhealth', 'patient', 'navigation', 'system', 'alongside', 'law', 'enforcement', 'partner', 'texasemergency', 'medical', 'task', 'forcestrac', 'c', 'nonprofit', 'taxexempt', 'member', 'organization', 'consisting', 'general', 'specialty', 'hospital', 'including', 'level', 'trauma', 'center', 'pci', 'center', 'stroke', 'center', 'air', 'medical', 'provider', 'fire', 'em', 'agencieswork', 'location', 'one', 'locationjob', 'type', 'fulltimepay', 'per', 'yearbenefits', 'k', 'k', 'matching', 'dental', 'insurance', 'flexible', 'spending', 'account', 'health', 'insurance', 'life', 'insurance', 'paid', 'time', 'vision', 'insuranceschedule', 'hour', 'shift', 'monday', 'friday', 'calleducation', 'bachelor', 'preferredlocation', 'san', 'antonio', 'tx', 'requiredwork', 'location', 'one', 'locationhiring', 'insightshiring', 'candidate', 'roleurgently', 'hiringjob', 'activityemployer', 'reviewed', 'job', 'day', 'agoposted', 'day', 'ago', 'day', 'agoif', 'require', 'alternative', 'method', 'application', 'screening', 'must', 'approach', 'employer', 'directly', 'request', 'indeed', 'responsible', 'employer', 'application', 'process']\n"
          ]
        }
      ],
      "source": [
        "print(data_job_description_clean)"
      ]
    },
    {
      "cell_type": "code",
      "execution_count": 14,
      "metadata": {
        "colab": {
          "base_uri": "https://localhost:8080/"
        },
        "id": "KS9zhf_apFQC",
        "outputId": "a8d3cc65-f17f-4084-9c1a-f877a04f281f"
      },
      "outputs": [
        {
          "name": "stdout",
          "output_type": "stream",
          "text": [
            "['juan', 'jose', 'carin', 'mountain', 'view', 'ca', 'injuanjosecarin', 'juanjocaringithubio', 'professional', 'profile', 'passionate', 'data', 'analysis', 'experiment', 'mainly', 'focused', 'user', 'behavior', 'experience', 'engagement', 'solid', 'background', 'data', 'science', 'statistic', 'extensive', 'experience', 'using', 'data', 'insight', 'drive', 'business', 'growth', 'education', 'university', 'california', 'berkeley', 'master', 'information', 'data', 'science', 'machine', 'learning', 'machine', 'learning', 'scale', 'data', 'visualization', 'communication', 'research', 'design', 'application', 'gpa', 'relevant', 'course', 'field', 'experiment', 'applied', 'regression', 'time', 'series', 'analysis', 'storing', 'retrieving', 'data', 'exploring', 'analyzing', 'data', 'data', 'analysis', 'universidad', 'polite', 'cnica', 'de', 'madrid', 'm', 'statistical', 'computational', 'information', 'processing', 'data', 'mining', 'multivariate', 'analysis', 'time', 'series', 'monte', 'carlo', 'technique', 'numerical', 'method', 'finance', 'stochastic', 'model', 'finance', 'bayesian', 'network', 'gpa', 'relevant', 'course', 'neural', 'network', 'statistical', 'learning', 'regression', 'prediction', 'method', 'optimization', 'technique', 'universidad', 'polite', 'cnica', 'de', 'madrid', 'm', 'telecommunication', 'engineering', 'gpa', 'focus', 'area', 'radio', 'communication', 'system', 'radar', 'mobilefellowship', 'first', 'year', 'university', 'due', 'honor', 'obtained', 'last', 'year', 'high', 'school', 'skill', 'experience', 'data', 'science', 'proficient', 'intermediate', 'basic', 'programming', 'statistic', 'r', 'python', 'sqlspss', 'sa', 'matlab', 'eviews', 'demetra', 'big', 'datahadoop', 'hive', 'mrjob', 'spark', 'storm', 'visualization', 'tableau', 'dj', 'othersgit', 'awsbashgephi', 'neoj', 'qgis', 'jan', 'mar', 'data', 'scientist', 'conento', 'madrid', 'spain', 'working', 'remotely', 'jun', 'sep', 'designed', 'implemented', 'etl', 'pipeline', 'predictive', 'model', 'traffic', 'main', 'road', 'eastern', 'spain', 'project', 'spanish', 'government', 'automated', 'script', 'r', 'extract', 'transform', 'clean', 'incl', 'anomaly', 'detection', 'load', 'mysql', 'data', 'multiple', 'data', 'source', 'road', 'traffic', 'sensor', 'accident', 'road', 'work', 'weather', 'data', 'scientist', 'conento', 'madrid', 'spain', 'designed', 'experiment', 'google', 'spain', 'conducted', 'october', 'measure', 'impact', 'youtube', 'ad', 'sale', 'car', 'manufacturer', 'dealer', 'network', 'matchedpair', 'clusterrandomized', 'design', 'involved', 'selecting', 'test', 'control', 'group', 'sample', 'city', 'spain', 'geotargeted', 'ad', 'possible', 'based', 'sale', 'wise', 'similarity', 'time', 'using', 'wavelet', 'r', 'management', 'sale', 'electrical', 'eng', 'feb', 'aug', 'head', 'sale', 'spain', 'portugal', 'test', 'measurement', 'dept', 'yokogawa', 'madrid', 'spain', 'applied', 'analysis', 'sale', 'market', 'trend', 'decide', 'direction', 'department', 'led', 'team', 'people']\n"
          ]
        }
      ],
      "source": [
        "print(resume1_clean)"
      ]
    },
    {
      "cell_type": "code",
      "execution_count": 15,
      "metadata": {
        "colab": {
          "base_uri": "https://localhost:8080/"
        },
        "id": "QRYFh_u0S9DK",
        "outputId": "e5aa5c3c-57fe-4a93-ef54-6b17a7c74052"
      },
      "outputs": [
        {
          "name": "stdout",
          "output_type": "stream",
          "text": [
            "['john', 'baker', 'jrdata', 'scientist', 'machine', 'learning', 'engineersan', 'antonio', 'tx', 'johnabakerjrlink', 'github', 'johnbaker', 'linkedin', 'johnbakertechnical', 'skill', 'development', 'python', 'numpy', 'panda', 'scikitlearn', 'sql', 'tableau', 'pytorch', 'kera', 'spark', 'flask', 'plotly', 'dash', 'herokudata', 'science', 'tensorflow', 'matplotlib', 'data', 'analysiscleaning', 'predictive', 'analytics', 'machine', 'learning', 'neural', 'networksexpertise', 'project', 'management', 'business', 'development', 'technical', 'sale', 'real', 'estate', 'digital', 'marketing', 'data', 'collectionprojects', 'plotlydash', 'app', 'life', 'expectancy', 'animation', 'data', 'scientistprogrammer', 'heroku', 'plotlydash', 'app', 'life', 'expectancy', 'sunburst', 'data', 'scientistprogrammer', 'heroku', 'researched', 'life', 'expectancy', 'data', 'kaggle', 'understand', 'predict', 'different', 'feature', 'affect', 'longevity', 'decided', 'animation', 'feature', 'could', 'used', 'produce', 'fully', 'interactive', 'visualization', 'data', 'analysis', 'built', 'scatter', 'plot', 'apps', 'using', 'plotly', 'dash', 'allow', 'user', 'see', 'gdp', 'correlate', 'life', 'expectancy', 'longtermcustom', 'tableau', 'project', 'fully', 'interactive', 'business', 'dashboard', 'data', 'scientistprogrammer', 'tableau', 'public', 'researched', 'stock', 'data', 'associated', 'tableau', 'evaluate', 'understand', 'data', 'implementation', 'decided', 'appropriate', 'resource', 'tool', 'use', 'create', 'fully', 'functional', 'site', 'displayed', 'result', 'found', 'built', 'dashboard', 'show', 'total', 'sale', 'region', 'total', 'profit', 'total', 'order', 'daily', 'sale', 'much', 'moreexperience', 'underdog', 'devs', 'remote', 'machine', 'learning', 'engineer', 'underdogdevs', 'worked', 'team', 'environment', 'make', 'foundational', 'decision', 'development', 'product', 'built', 'real', 'software', 'real', 'cause', 'organization', 'using', 'trello', 'github', 'track', 'product', 'development', 'gained', 'experience', 'database', 'machine', 'learning', 'visualization', 'collaborative', 'exercise', 'team', 'member', 'contributed', 'skill', 'experience', 'time', 'collectively', 'create', 'productcombat', 'realty', 'chula', 'vista', 'ca', 'brokerowner', 'used', 'proprietary', 'information', 'company', 'analyze', 'collect', 'customer', 'data', 'increase', 'business', 'performed', 'data', 'integrity', 'customer', 'account', 'ensured', 'data', 'safe', 'secure', 'time', 'trained', 'coached', 'team', 'properly', 'store', 'data', 'stay', 'compliant', 'without', 'data', 'breach', 'marketed', 'residential', 'real', 'estate', 'business', 'via', 'digitalsocial', 'campaign', 'lead', 'generation', 'cold', 'calling', 'performed', 'payroll', 'duty', 'weekly', 'sale', 'associate', 'salaried', 'employee', 'corrected', 'discrepanciesprudential', 'california', 'realty', 'chula', 'vista', 'ca', 'salesperson', 'collected', 'customer', 'data', 'accurately', 'wrote', 'real', 'estate', 'contract', 'sale', 'lease', 'fostered', 'positive', 'work', 'environment', 'owner', 'coworkers', 'broker', 'salesperson', 'complaint', 'performed', 'cold', 'call', 'per', 'day', 'understood', 'customer', 'housing', 'need', 'make', 'saleseducation', 'bloomtech', 'lambda', 'school', 'data', 'science', 'immersive', 'curriculum', 'focused', 'predictive', 'modeling', 'data', 'engineering', 'machine', 'learning', 'computer', 'sciencesan', 'diego', 'city', 'college', 'real', 'estate']\n"
          ]
        }
      ],
      "source": [
        "print(resume2_clean)"
      ]
    }
  ],
  "metadata": {
    "colab": {
      "name": "NLTK_Cleaning_function.ipynb",
      "provenance": []
    },
    "kernelspec": {
      "display_name": "Python 3",
      "name": "python3"
    },
    "language_info": {
      "codemirror_mode": {
        "name": "ipython",
        "version": 3
      },
      "file_extension": ".py",
      "mimetype": "text/x-python",
      "name": "python",
      "nbconvert_exporter": "python",
      "pygments_lexer": "ipython3",
      "version": "3.10.0"
    }
  },
  "nbformat": 4,
  "nbformat_minor": 0
}
