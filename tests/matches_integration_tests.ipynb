{
 "cells": [
  {
   "cell_type": "markdown",
   "source": [
    "# Assignment Endpoint Integration Tests"
   ],
   "metadata": {
    "collapsed": false
   }
  },
  {
   "cell_type": "code",
   "execution_count": 1,
   "metadata": {
    "collapsed": true
   },
   "outputs": [
    {
     "name": "stdout",
     "output_type": "stream",
     "text": [
      "/Users/randy/DataProjects/underdog-devs-ds-a\n"
     ]
    }
   ],
   "source": [
    "import requests\n",
    "%cd ..\n",
    "from data_generators.generators import RandomMentee, RandomMentor"
   ]
  },
  {
   "cell_type": "code",
   "execution_count": 2,
   "outputs": [],
   "source": [
    "url = 'http://127.0.0.1:8000'\n",
    "create_url = f\"{url}/create/match\"\n",
    "delete_url = f\"{url}/delete/match\"\n",
    "read_url = f\"{url}/read/match\""
   ],
   "metadata": {
    "collapsed": false
   }
  },
  {
   "cell_type": "code",
   "execution_count": 3,
   "outputs": [],
   "source": [
    "n_users = 2 # Number of mock users to create for each type (mentors and mentees)\n",
    "mentors = []\n",
    "mentees = []\n",
    "\n",
    "for _ in range(n_users):\n",
    "    mentor = vars(RandomMentor())\n",
    "    mentor['other_info'] = \"TEST\"\n",
    "    assert requests.post(f\"{url}/create/mentor\", json=mentor).json() == {\"result\": True}, \"Issue creating mock mentors\"\n",
    "    mentors.append(mentor)\n",
    "\n",
    "    mentee = vars(RandomMentee())\n",
    "    mentee['other_info'] = \"TEST\"\n",
    "    assert requests.post(f\"{url}/create/mentee\", json=mentee).json() == {\"result\": True}, \"Issue creating mock mentees\"\n",
    "    mentees.append(mentee)"
   ],
   "metadata": {
    "collapsed": false
   }
  },
  {
   "cell_type": "markdown",
   "source": [
    "## Tests"
   ],
   "metadata": {
    "collapsed": false
   }
  },
  {
   "cell_type": "markdown",
   "source": [
    "### _Create a match with a new mentor_\n",
    "\n",
    "Create a mentor/mentee match with mentor[0] and mentee[0]"
   ],
   "metadata": {
    "collapsed": false
   }
  },
  {
   "cell_type": "code",
   "execution_count": 4,
   "outputs": [],
   "source": [
    "mentor_id = mentors[0]['profile_id']\n",
    "mentee_id = mentees[0]['profile_id']\n",
    "\n",
    "ret = requests.post(create_url, json={\"mentor_id\": mentor_id, \"mentee_id\": mentee_id})\n",
    "\n",
    "assert ret.status_code == 200, f\"Unexpected status code {ret.status_code}\"\n",
    "\n",
    "expected = {\"result\": True}\n",
    "assert ret.json() == expected, f\"Unexpected return data {ret.json()}\""
   ],
   "metadata": {
    "collapsed": false
   }
  },
  {
   "cell_type": "markdown",
   "source": [
    "### _Get the profile information for the mentors of a specified mentee who has a single mentor._\n",
    "Return the matched mentors for mentee[0]. We should get the profile information for mentor[0] as the only item in a list."
   ],
   "metadata": {
    "collapsed": false
   }
  },
  {
   "cell_type": "code",
   "execution_count": 5,
   "outputs": [],
   "source": [
    "query = {\"user_id\": mentee_id, \"user_type\": \"mentee\"}\n",
    "actual = requests.post(read_url, json=query).json()\n",
    "expected = {\"result\": [mentors[0]]}\n",
    "actual['result'][0].pop('created_at')  # Remove created_at field for comparison purposes\n",
    "assert actual == expected, 'Unexpected return for /read/matches'"
   ],
   "metadata": {
    "collapsed": false
   }
  },
  {
   "cell_type": "markdown",
   "source": [
    "### _Get the profile information for the mentees of a specified mentor who has a single mentee._\n",
    "Return the matched mentors for mentor[0]. We should get the profile information for mentee[0] as the only item in a list.\n"
   ],
   "metadata": {
    "collapsed": false
   }
  },
  {
   "cell_type": "code",
   "execution_count": 6,
   "outputs": [],
   "source": [
    "query = {\"user_id\": mentor_id, \"user_type\": \"mentor\"}\n",
    "actual = requests.post(read_url, json=query).json()\n",
    "expected = {\"result\": [mentees[0]]}\n",
    "actual['result'][0].pop('created_at')  # Remove created_at field for comparison purposes\n",
    "assert actual == expected, 'Unexpected return for /read/matches'"
   ],
   "metadata": {
    "collapsed": false
   }
  },
  {
   "cell_type": "markdown",
   "source": [
    "### _Add mentee to existing mentor_\n",
    "Add a second mentee to our existing mentor[0]"
   ],
   "metadata": {
    "collapsed": false
   }
  },
  {
   "cell_type": "code",
   "execution_count": 7,
   "outputs": [],
   "source": [
    "mentee_id = mentees[1]['profile_id']\n",
    "\n",
    "ret = requests.post(create_url, json={\"mentor_id\": mentor_id, \"mentee_id\": mentee_id})\n",
    "\n",
    "assert ret.status_code == 200, f\"Unexpected status code {ret.status_code}\"\n",
    "\n",
    "expected = {\"result\": True}\n",
    "assert ret.json() == expected, f\"Unexpected return data {ret.json()}\""
   ],
   "metadata": {
    "collapsed": false
   }
  },
  {
   "cell_type": "markdown",
   "source": [
    "### _Read mentees for mentor with multiple mentees_\n",
    "Get list of mentee profiles for mentor with multiple mentee matches."
   ],
   "metadata": {
    "collapsed": false
   }
  },
  {
   "cell_type": "code",
   "execution_count": 8,
   "outputs": [],
   "source": [
    "query = {\"user_id\": mentor_id, \"user_type\": \"mentor\"}\n",
    "actual = requests.post(read_url, json=query).json()\n",
    "\n",
    "for profile in actual['result']:\n",
    "    profile.pop('created_at')  # Remove created_at field for comparison purposes\n",
    "\n",
    "actual = sorted(actual['result'], key=lambda p: p['profile_id'])\n",
    "expected = sorted(mentees[0:2], key=lambda p: p['profile_id'])\n",
    "assert actual == expected, 'Unexpected return for /read/matches'"
   ],
   "metadata": {
    "collapsed": false
   }
  },
  {
   "cell_type": "markdown",
   "source": [
    "### _Create a second mentor with an existing mentee_\n",
    "Create a new mentor[1] and assign them mentee[0]"
   ],
   "metadata": {
    "collapsed": false
   }
  },
  {
   "cell_type": "code",
   "execution_count": 9,
   "outputs": [],
   "source": [
    "mentor_id = mentors[1]['profile_id']\n",
    "mentee_id = mentees[0]['profile_id']\n",
    "\n",
    "ret = requests.post(create_url, json={\"mentor_id\": mentor_id, \"mentee_id\": mentee_id})\n",
    "\n",
    "assert ret.status_code == 200, f\"Unexpected status code {ret.status_code}\"\n",
    "\n",
    "expected = {\"result\": True}\n",
    "assert ret.json() == expected, f\"Unexpected return data {ret.json()}\""
   ],
   "metadata": {
    "collapsed": false
   }
  },
  {
   "cell_type": "markdown",
   "source": [
    "### _Get mentors for mentee with multiple mentors_\n",
    "Get list of profiles for the mentors of mentee[0]"
   ],
   "metadata": {
    "collapsed": false
   }
  },
  {
   "cell_type": "code",
   "execution_count": 10,
   "outputs": [],
   "source": [
    "query = {\"user_id\": mentee_id, \"user_type\": \"mentee\"}\n",
    "actual = requests.post(read_url, json=query).json()\n",
    "\n",
    "for profile in actual['result']:\n",
    "    profile.pop('created_at')  # Remove created_at field for comparison purposes\n",
    "\n",
    "actual = sorted(actual['result'], key=lambda p: p['profile_id'])\n",
    "expected = sorted(mentors[0:2], key=lambda p: p['profile_id'])\n",
    "assert actual == expected, 'Unexpected return for /read/matches'"
   ],
   "metadata": {
    "collapsed": false
   }
  },
  {
   "cell_type": "markdown",
   "source": [
    "### _Delete match_\n",
    "Delete one mentor/mentee match for mentor and mentee who each have multiple"
   ],
   "metadata": {
    "collapsed": false
   }
  },
  {
   "cell_type": "code",
   "execution_count": 11,
   "outputs": [],
   "source": [
    "mentor_id = mentors[0]['profile_id']\n",
    "mentee_id = mentees[0]['profile_id']\n",
    "\n",
    "ret = requests.post(delete_url, json={\"mentor_id\": mentor_id, \"mentee_id\": mentee_id})\n",
    "\n",
    "assert ret.status_code == 200, f\"Unexpected status code {ret.status_code}\"\n",
    "\n",
    "expected = {\"result\": True}\n",
    "assert ret.json() == expected, f\"Unexpected return data {ret.json()}\""
   ],
   "metadata": {
    "collapsed": false
   }
  },
  {
   "cell_type": "markdown",
   "source": [
    "### _Check that delete was successful_\n",
    "Verify that the previous delete call was successful"
   ],
   "metadata": {
    "collapsed": false
   }
  },
  {
   "cell_type": "code",
   "execution_count": 12,
   "outputs": [],
   "source": [
    "# Check list of mentees for mentor\n",
    "query = {\"user_id\": mentor_id, \"user_type\": \"mentor\"}\n",
    "actual = requests.post(read_url, json=query).json()\n",
    "expected = {\"result\": [mentees[1]]}\n",
    "\n",
    "for profile in actual['result']:\n",
    "    profile.pop('created_at')  # Remove created_at field for comparison purposes\n",
    "\n",
    "assert actual == expected, 'Unexpected return for /read/matches'\n",
    "\n",
    "# Check list of mentors for mentee\n",
    "query = {\"user_id\": mentee_id, \"user_type\": \"mentee\"}\n",
    "actual = requests.post(read_url, json=query).json()\n",
    "expected = {\"result\": [mentors[1]]}\n",
    "\n",
    "for profile in actual['result']:\n",
    "    profile.pop('created_at')  # Remove created_at field for comparison purposes\n",
    "\n",
    "assert actual == expected, 'Unexpected return for /read/matches'"
   ],
   "metadata": {
    "collapsed": false
   }
  },
  {
   "cell_type": "markdown",
   "source": [
    "## Cleanup\n",
    "Remove all Mentor, Mentee, and Match entries that were created during the testing process"
   ],
   "metadata": {
    "collapsed": false
   }
  },
  {
   "cell_type": "code",
   "execution_count": 13,
   "outputs": [],
   "source": [
    "from app.data import MongoDB\n",
    "\n",
    "db = MongoDB()\n",
    "\n",
    "for collection in ['Mentors', 'Mentees']:\n",
    "    db.delete(collection, {'other_info': 'TEST'})\n",
    "\n",
    "db.delete('Matches', {'mentor_id': {\"$in\": [mentor['profile_id'] for mentor in mentors]}})"
   ],
   "metadata": {
    "collapsed": false
   }
  }
 ],
 "metadata": {
  "kernelspec": {
   "display_name": "Python 3",
   "language": "python",
   "name": "python3"
  },
  "language_info": {
   "codemirror_mode": {
    "name": "ipython",
    "version": 2
   },
   "file_extension": ".py",
   "mimetype": "text/x-python",
   "name": "python",
   "nbconvert_exporter": "python",
   "pygments_lexer": "ipython2",
   "version": "2.7.6"
  }
 },
 "nbformat": 4,
 "nbformat_minor": 0
}
