{
 "cells": [
  {
   "cell_type": "markdown",
   "metadata": {
    "collapsed": false
   },
   "source": [
    "# Failed Integration tests"
   ]
  },
  {
   "cell_type": "code",
   "execution_count": 4,
   "metadata": {
    "collapsed": false
   },
   "outputs": [],
   "source": [
    "# If you have problems with import modules, uncomment line below and run it *ONE* time\n",
    "# Comment it out after the execution\n",
    "# %cd ../"
   ]
  },
  {
   "cell_type": "code",
   "execution_count": 5,
   "metadata": {
    "collapsed": false
   },
   "outputs": [],
   "source": [
    "import requests\n",
    "from data_generators.generators import RandomMentor, RandomMentee, RandomMenteeFeedback\n",
    "from app.data import MongoDB\n"
   ]
  },
  {
   "cell_type": "code",
   "execution_count": 6,
   "metadata": {
    "collapsed": false
   },
   "outputs": [],
   "source": [
    "# API URL\n",
    "url = \"http://127.0.0.1:8000\"\n",
    "\n",
    "# Tag for marking test data\n",
    "test_tag = 'test_INTEGRATION_test'"
   ]
  },
  {
   "cell_type": "markdown",
   "metadata": {
    "collapsed": false
   },
   "source": [
    "## Mentor Operations\n"
   ]
  },
  {
   "cell_type": "code",
   "execution_count": 7,
   "metadata": {
    "collapsed": false
   },
   "outputs": [],
   "source": [
    "# URL for the request\n",
    "\n",
    "# Mentors\n",
    "url_create_mentor = f'{url}/create/mentor'\n",
    "url_read_mentor = f'{url}/read/mentor'\n",
    "url_update_mentor = f'{url}/update/mentor/'\n"
   ]
  },
  {
   "cell_type": "markdown",
   "source": [
    "Setup for Mentors\n",
    "Create a list of randomly generated mock mentor data and mark them as ‘test_INTEGRATION_test’ for post-testing cleanup."
   ],
   "metadata": {
    "collapsed": false
   }
  },
  {
   "cell_type": "code",
   "execution_count": 8,
   "outputs": [],
   "source": [
    "# Set number of mentors to test\n",
    "n_persons = 3\n",
    "# Create list of test mentors\n",
    "mentors = []\n",
    "\n",
    "for i in range(n_persons):\n",
    "    mentors.append(vars(RandomMentor()))\n",
    "    mentors[i]['other_info'] = 'test_INTEGRATION_test'\n"
   ],
   "metadata": {
    "collapsed": false
   }
  },
  {
   "cell_type": "markdown",
   "source": [
    "### Try to create multiple test mentors with API\n",
    "API Should return 422 code and *error*:\n",
    "'msg': 'value is not a valid dict',\n",
    "   'type': 'type_error.dict'"
   ],
   "metadata": {
    "collapsed": false
   }
  },
  {
   "cell_type": "code",
   "execution_count": 9,
   "outputs": [],
   "source": [
    "# API doesn't allow to create multiples entries\n",
    "expected = {'msg': 'value is not a valid dict',\n",
    "            'type': 'type_error.dict'}\n",
    "expected_status = 422\n",
    "ret = requests.post(url_create_mentor, json=mentors)\n",
    "\n",
    "assert ret.status_code == expected_status, f\"Return status code was not {expected_status}. Got status code {ret.status_code}\"\n",
    "assert expected['msg'] == ret.json()['detail'][0]['msg'], f\"Endpoint did not return expected value of {expected['msg']}\"\n",
    "assert expected['type'] == ret.json()['detail'][0]['type'], f\"Endpoint did not return expected value of {expected['type']}\"\n"
   ],
   "metadata": {
    "collapsed": false
   }
  },
  {
   "cell_type": "markdown",
   "source": [
    "### Try to create duplicated record\n",
    "API Should return 409 error:\n",
    "`{'detail': 'Profile ID must be unique.'}`"
   ],
   "metadata": {
    "collapsed": false
   }
  },
  {
   "cell_type": "code",
   "execution_count": 10,
   "outputs": [],
   "source": [
    "# Try to create a DUPLICATE test mentor with API, we should receive 'result': True\n",
    "expected = {'detail': 'Profile ID must be unique.'}\n",
    "expected_status = 409\n",
    "\n",
    "\n",
    "ret1 = requests.post(url_create_mentor, json=mentors[0])\n",
    "\n",
    "assert ret1.status_code == 200\n",
    "\n",
    "ret = requests.post(url_create_mentor, json=mentors[0])\n",
    "\n",
    "assert ret.status_code == expected_status, f\"Return status code was not {expected_status}. Got status code {ret.status_code}\"\n",
    "assert  expected == ret.json(), f\"Endpoint did not return expected value of {expected}\""
   ],
   "metadata": {
    "collapsed": false
   }
  },
  {
   "cell_type": "markdown",
   "source": [
    "### Try to create record with field not in schema.\n",
    "API should return 422 *error*  `value_error.extra`"
   ],
   "metadata": {
    "collapsed": false
   }
  },
  {
   "cell_type": "code",
   "execution_count": 11,
   "outputs": [],
   "source": [
    "# Create an extra test field\n",
    "mentors[1]['test_FIELED_test'] = 'This a field for integration test'\n",
    "\n",
    "expected = {'msg': 'extra fields not permitted',\n",
    "            'type': 'value_error.extra'}\n",
    "expected_status = 422\n",
    "\n",
    "# Try to create mentor\n",
    "ret = requests.post(url_create_mentor, json=mentors[1])\n",
    "\n",
    "assert ret.status_code == expected_status, f\"Return status code was not {expected_status}. Got status code {ret.status_code}\"\n",
    "assert expected['msg'] == ret.json()['detail'][0]['msg'], f\"Endpoint did not return expected value of {expected['msg']}\"\n",
    "assert expected['type'] == ret.json()['detail'][0]['type'], f\"Endpoint did not return expected value of {expected['type']}\""
   ],
   "metadata": {
    "collapsed": false
   }
  },
  {
   "cell_type": "markdown",
   "source": [
    "### Try to create a record with wrong value (name > 255 chars)\n",
    "API should return 422 error:\n",
    " `value_error.any_str.max_length`"
   ],
   "metadata": {
    "collapsed": false
   }
  },
  {
   "cell_type": "code",
   "execution_count": 12,
   "outputs": [],
   "source": [
    "# Create First name more than 255 legal chars\n",
    "mentors[2]['first_name'] = 300 * 'a'\n",
    "\n",
    "expected_status = 422\n",
    "expected = { 'msg': 'ensure this value has at most 255 characters',\n",
    "             'type': 'value_error.any_str.max_length'}\n",
    "# Try to create a wrong mentor\n",
    "ret = requests.post(url_create_mentor, json=mentors[2])\n",
    "\n",
    "assert ret.status_code == expected_status, f\"Return status code was not {expected_status}. Got status code {ret.status_code}\"\n",
    "assert expected['msg'] == ret.json()['detail'][0]['msg'], f\"Endpoint did not return expected value of {expected['msg']}\"\n",
    "assert expected['type'] == ret.json()['detail'][0]['type'], f\"Endpoint did not return expected value of {expected['type']}\""
   ],
   "metadata": {
    "collapsed": false
   }
  },
  {
   "cell_type": "markdown",
   "source": [
    "### Try to read non-existent value.\n",
    "Should return zero list\n"
   ],
   "metadata": {
    "collapsed": false
   }
  },
  {
   "cell_type": "code",
   "execution_count": 13,
   "outputs": [],
   "source": [
    "# Read from the API with non-existent name\n",
    "expected = 0\n",
    "expected_status = 200\n",
    "\n",
    "ret = requests.post(url_read_mentor, json={'first_name': 'test_INEXISTINGNAME_test'})\n",
    "assert ret.status_code == expected_status, f\"Return status code was not {expected_status}. Got status code {ret.status_code}\"\n",
    "assert len(ret.json()['result']) == expected, f\"Endpoint return list other than {expected}\"\n"
   ],
   "metadata": {
    "collapsed": false
   }
  },
  {
   "cell_type": "markdown",
   "source": [
    "### Try to update with wrong value of 'current_position' more that 255 chars.\n"
   ],
   "metadata": {
    "collapsed": false
   }
  },
  {
   "cell_type": "code",
   "execution_count": 14,
   "outputs": [],
   "source": [
    "# Create a wrong value (more than 255 chars)\n",
    "current_position_wrong = 300 * 'a'\n",
    "\n",
    "# Update test Mentor current_company value\n",
    "# Should return value_error\n",
    "expected_status = 422\n",
    "expected = 'value_error.any_str.max_length'\n",
    "\n",
    "ret = requests.post(url_update_mentor  + mentors[0]['profile_id'], json={'current_company': current_position_wrong})\n",
    "\n",
    "assert ret.status_code == expected_status, f\"Return status code was not {expected_status}. Got status code {ret.status_code}\"\n",
    "assert expected == ret.json()['detail'][0]['type'], f\"Endpoint did not return expected value of {expected['type']}\"\n"
   ],
   "metadata": {
    "collapsed": false
   }
  },
  {
   "cell_type": "markdown",
   "source": [
    "## Mentee operations"
   ],
   "metadata": {
    "collapsed": false
   }
  },
  {
   "cell_type": "code",
   "execution_count": 15,
   "outputs": [],
   "source": [
    "# Mentees\n",
    "url_create_mentee = f'{url}/create/mentee'\n",
    "url_read_mentee = f'{url}/read/mentee'\n",
    "url_update_mentee = f'{url}/update/mentee/'\n"
   ],
   "metadata": {
    "collapsed": false
   }
  },
  {
   "cell_type": "markdown",
   "source": [
    "### Generate a list of random *test* mentees"
   ],
   "metadata": {
    "collapsed": false
   }
  },
  {
   "cell_type": "code",
   "execution_count": 16,
   "outputs": [],
   "source": [
    "# Create list of test mentors\n",
    "mentees = []\n",
    "\n",
    "for i in range(n_persons):\n",
    "    mentees.append(vars(RandomMentee()))\n",
    "\n",
    "    # create a field to identify our test records later\n",
    "    mentees[i]['other_info'] = 'test_INTEGRATION_test'\n"
   ],
   "metadata": {
    "collapsed": false
   }
  },
  {
   "cell_type": "markdown",
   "source": [
    "### Create multiple test mentees with API\n",
    "API Should return *error*"
   ],
   "metadata": {
    "collapsed": false
   }
  },
  {
   "cell_type": "code",
   "execution_count": 17,
   "outputs": [],
   "source": [
    "# API doesn't allow to create multiples entries\n",
    "expected_status = 422\n",
    "expected = 'type_error.dict'\n",
    "\n",
    "ret = requests.post(url_create_mentee, json=mentees)\n",
    "\n",
    "assert ret.status_code == expected_status, f\"Return status code was not {expected_status}. Got status code {ret.status_code}\"\n",
    "assert expected == ret.json()['detail'][0]['type'], f\"Endpoint did not return expected value of {expected}\""
   ],
   "metadata": {
    "collapsed": false
   }
  },
  {
   "cell_type": "markdown",
   "source": [
    "Failed test. Try to create duplicated recrord\n",
    "API Should return:\n",
    "`{'detail': 'Profile ID must be unique.'}`"
   ],
   "metadata": {
    "collapsed": false
   }
  },
  {
   "cell_type": "code",
   "execution_count": 18,
   "outputs": [],
   "source": [
    "# Try to create a DUPLICATE test mentor with API, we should receive 'result': True\n",
    "expected_status = 409\n",
    "expected = {'detail': 'Profile ID must be unique.'}\n",
    "\n",
    "ret = requests.post(url_create_mentee, json=mentees[0])\n",
    "ret = requests.post(url_create_mentee, json=mentees[0])\n",
    "\n",
    "assert ret.status_code == expected_status, f\"Return status code was not {expected_status}. Got status code {ret.status_code}\"\n",
    "assert expected == ret.json(), f\"Endpoint did not return expected value of {expected}\""
   ],
   "metadata": {
    "collapsed": false
   }
  },
  {
   "cell_type": "markdown",
   "source": [
    "### Try to create record with field not in schema. API should return error value_error.extra"
   ],
   "metadata": {
    "collapsed": false
   }
  },
  {
   "cell_type": "code",
   "execution_count": 19,
   "outputs": [],
   "source": [
    "# Create an extra test field\n",
    "mentees[1]['test_FIELED_test'] = 'This a field for integration test'\n",
    "\n",
    "expected_status = 422\n",
    "expected = 'value_error.extra'\n",
    "\n",
    "# Try to create mentor\n",
    "ret = requests.post(url_create_mentee, json=mentees[1])\n",
    "\n",
    "assert ret.status_code == expected_status, f\"Return status code was not {expected_status}. Got status code {ret.status_code}\"\n",
    "assert expected == ret.json()['detail'][0]['type'], f\"Endpoint did not return expected value of {expected}\""
   ],
   "metadata": {
    "collapsed": false
   }
  },
  {
   "cell_type": "markdown",
   "source": [
    "## Try to create a record with wrong value\n",
    "API should return 422 error:\n",
    " `value_error.any_str.max_length`"
   ],
   "metadata": {
    "collapsed": false
   }
  },
  {
   "cell_type": "code",
   "execution_count": 20,
   "outputs": [],
   "source": [
    "# Create First name more than 255 legal chars\n",
    "mentees[2]['first_name'] = 300 * 'a'\n",
    "\n",
    "expected_status = 422\n",
    "expected = 'value_error.any_str.max_length'\n",
    "\n",
    "# Try to create a wrong mentor\n",
    "ret = requests.post(url_create_mentee, json=mentees[2])\n",
    "\n",
    "assert ret.status_code == expected_status, f\"Return status code was not {expected_status}. Got status code {ret.status_code}\"\n",
    "assert expected == ret.json()['detail'][0]['type'], f\"Endpoint did not return expected value of {expected}\"\n"
   ],
   "metadata": {
    "collapsed": false
   }
  },
  {
   "cell_type": "markdown",
   "source": [
    "### Read non-existing value.\n",
    "Should return zero list"
   ],
   "metadata": {
    "collapsed": false
   }
  },
  {
   "cell_type": "code",
   "execution_count": 21,
   "outputs": [],
   "source": [
    "expected_status = 200\n",
    "expected = {'result': []}\n",
    "\n",
    "# Read from the API with non-existing name\n",
    "ret = requests.post(url_read_mentee, json={'first_name': 'test_INEXISTINGNAME_test'})\n",
    "\n",
    "assert ret.status_code == expected_status, f\"Return status code was not {expected_status}. Got status code {ret.status_code}\"\n",
    "assert expected == ret.json(), f\"Endpoint did not return expected value of {expected}\"\n"
   ],
   "metadata": {
    "collapsed": false
   }
  },
  {
   "cell_type": "markdown",
   "source": [
    "## Feedback operations\n"
   ],
   "metadata": {
    "collapsed": false
   }
  },
  {
   "cell_type": "code",
   "execution_count": 22,
   "outputs": [],
   "source": [
    "# Feedback\n",
    "url_create_feedback = f'{url}/create/feedback'\n",
    "url_read_feedback = f'{url}/read/feedback'\n",
    "url_update_feedback = f'{url}/update/feedback?ticket_id='\n",
    "url_delete_feedback = f'{url}/delete/feedback?ticket_id='"
   ],
   "metadata": {
    "collapsed": false
   }
  },
  {
   "cell_type": "markdown",
   "source": [
    "### Generate random feedbacks"
   ],
   "metadata": {
    "collapsed": false
   }
  },
  {
   "cell_type": "code",
   "execution_count": 23,
   "outputs": [],
   "source": [
    "feedback = vars(RandomMenteeFeedback(mentees[i]['profile_id'], mentors[i]['profile_id']))\n",
    "feedback['text'] = \"test_INTEGRATION_test\"\n",
    "\n",
    "assert feedback['ticket_id'] != '', f\"Something wrong with RandomMenteeFeedback() generator\"\n"
   ],
   "metadata": {
    "collapsed": false
   }
  },
  {
   "cell_type": "markdown",
   "source": [
    "### Try to create a duplicate record\n"
   ],
   "metadata": {
    "collapsed": false
   }
  },
  {
   "cell_type": "code",
   "execution_count": 24,
   "outputs": [],
   "source": [
    "# There is a bug, that crashes server when creating a duplicate feedback\n",
    "\n",
    "# Create ONE feedback\n",
    "# expected_status = ...\n",
    "# expected = ...\n",
    "#\n",
    "# ret = requests.post(url_create_feedback, json=feedback)\n",
    "# ret = requests.post(url_create_feedback, json=feedback)\n",
    "#\n",
    "# assert ret.status_code == expected_status, f\"Return status code was not {expected_status}. Got status code {ret.status_code}\"\n",
    "# assert ret.json() == expected, f\"Endpoint did not return expected value of {expected}\""
   ],
   "metadata": {
    "collapsed": false
   }
  },
  {
   "cell_type": "markdown",
   "source": [
    "### Try to create multiple records\n"
   ],
   "metadata": {
    "collapsed": false
   }
  },
  {
   "cell_type": "code",
   "execution_count": 25,
   "outputs": [],
   "source": [
    "# There is a bug, that crashes server when creating a duplicate feedback\n",
    "\n",
    "# Create ONE feedback\n",
    "# expected_status = ...\n",
    "# expected = ...\n",
    "#\n",
    "# ret = requests.post(url_create_feedback, json=feedbacks)\n",
    "#\n",
    "# assert ret.status_code == expected_status, f\"Return status code was not {expected_status}. Got status code {ret.status_code}\"\n",
    "# assert ret.json() == expected, f\"Endpoint did not return expected value of {expected}\""
   ],
   "metadata": {
    "collapsed": false
   }
  },
  {
   "cell_type": "markdown",
   "source": [
    "### Try to create feedback with not existent field"
   ],
   "metadata": {
    "collapsed": false
   }
  },
  {
   "cell_type": "code",
   "execution_count": 27,
   "outputs": [],
   "source": [
    "expected_status = 422\n",
    "expected = 'value_error.extra'\n",
    "\n",
    "feedback['test_NONEXISTENT_test'] = 'test_TEST_test'\n",
    "\n",
    "ret = requests.post(url_create_feedback, json=feedback)\n",
    "\n",
    "assert ret.status_code == expected_status, f\"Return status code was not {expected_status}. Got status code {ret.status_code}\"\n",
    "assert ret.json()['detail'][0]['type'] == expected, f\"Endpoint did not return expected value of {expected}\""
   ],
   "metadata": {
    "collapsed": false
   }
  },
  {
   "cell_type": "markdown",
   "source": [
    "# Cleaning test data\n"
   ],
   "metadata": {
    "collapsed": false
   }
  },
  {
   "cell_type": "code",
   "execution_count": 28,
   "outputs": [],
   "source": [
    "# Make a connection to the db\n",
    "db = MongoDB()\n",
    "\n",
    "# Mentors and Mentees clean up\n",
    "for collection in ['Mentors', 'Mentees']:\n",
    "    db.delete(collection, {'other_info': test_tag})\n",
    "\n",
    "# Feedback clean up\n",
    "db.delete('Feedback', {'text': test_tag})"
   ],
   "metadata": {
    "collapsed": false
   }
  },
  {
   "cell_type": "markdown",
   "source": [
    "### Check that we have successfully cleaned up the db.\n"
   ],
   "metadata": {
    "collapsed": false
   }
  },
  {
   "cell_type": "code",
   "execution_count": 29,
   "outputs": [],
   "source": [
    "# Mentors and Mentees\n",
    "for collection in ['Mentors', 'Mentees']:\n",
    "    ret = db.search(collection, test_tag)\n",
    "    assert  ret == [], f\"Clean up of {collection} failed, found db record: {ret}\"\n",
    "\n",
    "# Feedback\n",
    "ret = db.read('Feedback', {'ticket_id': feedback['ticket_id']})\n",
    "assert  ret == [], f\"Clean up of Feedback failed, found db record: {ret}\"\n"
   ],
   "metadata": {
    "collapsed": false
   }
  },
  {
   "cell_type": "code",
   "execution_count": null,
   "outputs": [],
   "source": [],
   "metadata": {
    "collapsed": false
   }
  }
 ],
 "metadata": {
  "kernelspec": {
   "display_name": "Python 3.9.12 ('venv': venv)",
   "language": "python",
   "name": "python3"
  },
  "language_info": {
   "codemirror_mode": {
    "name": "ipython",
    "version": 3
   },
   "file_extension": ".py",
   "mimetype": "text/x-python",
   "name": "python",
   "nbconvert_exporter": "python",
   "pygments_lexer": "ipython3",
   "version": "3.9.12"
  },
  "vscode": {
   "interpreter": {
    "hash": "5c1e4bd171fb486a69b6e93433227d58b1f56d5ada82073d78c4386523828036"
   }
  }
 },
 "nbformat": 4,
 "nbformat_minor": 0
}
