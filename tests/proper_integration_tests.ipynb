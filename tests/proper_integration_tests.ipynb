{
   "cells": [
      {
         "cell_type": "markdown",
         "metadata": {},
         "source": [
            "# Proper Integration tests"
         ]
      },
      {
         "cell_type": "code",
         "execution_count": null,
         "metadata": {
            "collapsed": false
         },
         "outputs": [],
         "source": [
            "# If you have problems with import modules, uncomment line below and run it *ONE* time\n",
            "# %cd ../"
         ]
      },
      {
         "cell_type": "code",
         "execution_count": 3,
         "metadata": {},
         "outputs": [],
         "source": [
            "import requests\n",
            "from data_generators.generators import RandomMentor, RandomMentee, RandomMenteeFeedback, RandomMeeting\n",
            "from app.data import MongoDB"
         ]
      },
      {
         "cell_type": "code",
         "execution_count": 4,
         "metadata": {},
         "outputs": [],
         "source": [
            "# API URL\n",
            "url = \"http://127.0.0.1:8000\"\n",
            "\n",
            "# Tag for marking test data\n",
            "test_tag = 'test_INTEGRATION_test'"
         ]
      },
      {
         "cell_type": "markdown",
         "metadata": {},
         "source": [
            "## Mentor Operations"
         ]
      },
      {
         "cell_type": "code",
         "execution_count": 5,
         "metadata": {
            "collapsed": false
         },
         "outputs": [],
         "source": [
            "# URL for the request\n",
            "\n",
            "# Mentors\n",
            "url_create_mentor = f'{url}/create/mentor'\n",
            "url_read_mentor = f'{url}/read/mentor'\n",
            "url_update_mentor = f'{url}/update/mentor/'\n"
         ]
      },
      {
         "cell_type": "markdown",
         "metadata": {},
         "source": [
            "### Create Mentor\n",
            "POST `/create/mentor`"
         ]
      },
      {
         "cell_type": "markdown",
         "metadata": {},
         "source": [
            "### Setup for Mentors\n",
            "Create a random generated mock mentor and mark them as 'test_INTEGRATION_test' for post-testing cleanup."
         ]
      },
      {
         "cell_type": "code",
         "execution_count": 9,
         "metadata": {},
         "outputs": [],
         "source": [
            "# Create a random Mentor\n",
            "mentor = vars(RandomMentor())\n",
            "mentor['other_info'] = test_tag\n"
         ]
      },
      {
         "cell_type": "markdown",
         "metadata": {},
         "source": [
            "Use `/create/mentors/` endpoint to create a single mentor using properly formed mock data.\n",
            "Verify that the status code returns 200 [successful], and that the expected JSON values are returned."
         ]
      },
      {
         "cell_type": "code",
         "execution_count": 11,
         "metadata": {
            "collapsed": false
         },
         "outputs": [],
         "source": [
            "# Create a ONE test mentor with API, we should receive 'result': True\n",
            "expected = {\"result\": True}\n",
            "expected_status = 200\n",
            "ret = requests.post(url_create_mentor, json=mentor)\n",
            "\n",
            "assert ret.status_code == expected_status, f\"Return status code was not {expected_status}. Got status code {ret.status_code}\"\n",
            "assert expected == ret.json(), \"Endpoint did not return expected value of {\\\"result\\\": True}\"\n"
         ]
      },
      {
         "cell_type": "markdown",
         "metadata": {},
         "source": [
            "### Read Mentor\n",
            "POST `/read/mentor`"
         ]
      },
      {
         "cell_type": "markdown",
         "metadata": {},
         "source": [
            "### Read one test mentor by querying `profile_id`"
         ]
      },
      {
         "cell_type": "code",
         "execution_count": 12,
         "metadata": {},
         "outputs": [],
         "source": [
            "# Read first test mentor with unique profile_id\n",
            "expected_status = 200\n",
            "expected = test_tag\n",
            "\n",
            "ret = requests.post(url_read_mentor, json={'profile_id': mentor['profile_id']})\n",
            "\n",
            "assert ret.json()['result'][0]['other_info'] == expected, f\"Endpoint did not return expected value of {expected}\"\n",
            "assert ret.status_code == expected_status, f\"Return status code was not {expected_status}. Got status code {ret.status_code}\"\n"
         ]
      },
      {
         "cell_type": "markdown",
         "metadata": {},
         "source": [
            "### Read all entries\n",
            "When we request read mentors without parameters we should get all entries, we added 1 mentor, so we assume that we should get more than 1 entries."
         ]
      },
      {
         "cell_type": "code",
         "execution_count": 13,
         "metadata": {
            "collapsed": false
         },
         "outputs": [],
         "source": [
            "# read from API, with no parameteres, we should get all the data\n",
            "expected_status = 200\n",
            "ret = requests.post(url_read_mentor)\n",
            "\n",
            "assert ret.status_code == expected_status, f\"Return status code was not {expected_status}. Got status code {ret.status_code}\"\n",
            "assert len(ret.json()['result']) > 1, f\"We receive less that 2 entries. {len(ret.json()['result'])}\"\n"
         ]
      },
      {
         "cell_type": "markdown",
         "metadata": {},
         "source": [
            "### Update Mentors\n",
            "POST `/update/mentor/{profile_id}`"
         ]
      },
      {
         "cell_type": "markdown",
         "metadata": {},
         "source": [
            "Update existing test Mentor"
         ]
      },
      {
         "cell_type": "code",
         "execution_count": 14,
         "metadata": {},
         "outputs": [],
         "source": [
            "# Update test Mentor current_company value\n",
            "expected_status = 200\n",
            "\n",
            "ret = requests.post(url_update_mentor  + mentor['profile_id'], json={'current_company': 'test_Bloomtech_test'})\n",
            "\n",
            "assert ret.status_code == expected_status, f\"Return status code was not {expected_status}. Got status code {ret.status_code}\"\n",
            "\n",
            "# Read the query with our test value\n",
            "expected_status = 200\n",
            "expected = 'test_Bloomtech_test'\n",
            "\n",
            "ret = requests.post(url_read_mentor, json={'current_company': 'test_Bloomtech_test'})\n",
            "\n",
            "assert ret.status_code == expected_status, f\"Return status code was not {expected_status}. Got status code {ret.status_code}\"\n",
            "assert ret.json()['result'][0]['current_company'] == expected , f\"Endpoint return something else we've expected\""
         ]
      },
      {
         "cell_type": "markdown",
         "metadata": {},
         "source": [
            "## Mentee Operations\n",
            "\n"
         ]
      },
      {
         "cell_type": "code",
         "execution_count": 15,
         "metadata": {
            "collapsed": false
         },
         "outputs": [],
         "source": [
            "# Mentees\n",
            "url_create_mentee = f'{url}/create/mentee'\n",
            "url_read_mentee = f'{url}/read/mentee'\n",
            "url_update_mentee = f'{url}/update/mentee/'\n"
         ]
      },
      {
         "cell_type": "markdown",
         "metadata": {},
         "source": [
            "### Create Mentee\n",
            "POST `/create/mentee`"
         ]
      },
      {
         "cell_type": "markdown",
         "metadata": {},
         "source": [
            "### Generate a random *test* mentee"
         ]
      },
      {
         "cell_type": "code",
         "execution_count": 16,
         "metadata": {},
         "outputs": [],
         "source": [
            "# Create a random mentee\n",
            "mentee = (vars(RandomMentee()))\n",
            "\n",
            "# create a field to identify our test records later\n",
            "mentee['other_info'] = test_tag\n"
         ]
      },
      {
         "cell_type": "markdown",
         "metadata": {},
         "source": [
            "### Create *one* test mentee with API, status code should be 200\n"
         ]
      },
      {
         "cell_type": "code",
         "execution_count": 17,
         "metadata": {},
         "outputs": [],
         "source": [
            "expected = {\"result\": True}\n",
            "expected_status = 200\n",
            "\n",
            "ret = requests.post(url_create_mentee, json=mentee)\n",
            "\n",
            "assert ret.status_code == expected_status, f\"Return status code was not {expected_status}. Got status code {ret.status_code}\"\n",
            "assert expected == ret.json(), \"Endpoint did not return expected value of {\\\"result\\\": True}\""
         ]
      },
      {
         "cell_type": "markdown",
         "metadata": {},
         "source": [
            "### Read mentee\n",
            "POST `/read/mentee`"
         ]
      },
      {
         "cell_type": "markdown",
         "metadata": {},
         "source": [
            "### Read one test mentee by querying `profile_id`"
         ]
      },
      {
         "cell_type": "code",
         "execution_count": 18,
         "metadata": {},
         "outputs": [],
         "source": [
            "# Read first test mentror with unique profile_id\n",
            "expected_status = 200\n",
            "expected = test_tag\n",
            "\n",
            "ret = requests.post(url_read_mentee, json={'profile_id': mentee['profile_id']})\n",
            "\n",
            "assert ret.status_code == expected_status, f\"Return status code was not {expected_status}. Got status code {ret.status_code}\"\n",
            "assert ret.json()['result'][0]['other_info'] == expected, f\"Endpoint did not return expected value of {expected}\""
         ]
      },
      {
         "cell_type": "markdown",
         "metadata": {},
         "source": [
            "### Read all entrees\n"
         ]
      },
      {
         "cell_type": "code",
         "execution_count": 19,
         "metadata": {},
         "outputs": [],
         "source": [
            "# read from API\n",
            "expected_status = 200\n",
            "\n",
            "ret = requests.post(url_read_mentee)\n",
            "\n",
            "assert ret.status_code == expected_status, f\"Return status code was not {expected_status}. Got status code {ret.status_code}\"\n",
            "assert len(ret.json()['result']) > 1, f\"We receive less that 2 entries. {len(ret.json()['result'])}\""
         ]
      },
      {
         "cell_type": "markdown",
         "metadata": {},
         "source": [
            "### Update Mentees\n",
            "POST `/update/mentee/{profile_id}`"
         ]
      },
      {
         "cell_type": "markdown",
         "metadata": {},
         "source": [
            "### Update existing test Mentor"
         ]
      },
      {
         "cell_type": "code",
         "execution_count": 20,
         "metadata": {},
         "outputs": [],
         "source": [
            "# Update test Mentor current_company value\n",
            "expected_status = 200\n",
            "\n",
            "ret = requests.post(url_update_mentee  + mentee['profile_id'], json={'tech_stack': 'test_Bloomtech_test'})\n",
            "\n",
            "assert ret.status_code == expected_status, f\"Return status code was not {expected_status}. Got status code {ret.status_code}\"\n",
            "\n",
            "expected_status = 200\n",
            "expected = 'test_Bloomtech_test'\n",
            "\n",
            "# Read the query with our test value\n",
            "ret = requests.post(url_read_mentee, json={'tech_stack': 'test_Bloomtech_test'})\n",
            "\n",
            "assert ret.status_code == expected_status, f\"Return status code was not {expected_status}. Got status code {ret.status_code}\"\n",
            "assert expected == ret.json()['result'][0]['tech_stack'], f\"Endpoint did not return expected value of {expected}\"\n"
         ]
      },
      {
         "cell_type": "markdown",
         "metadata": {},
         "source": [
            "## Feedback Operations\n"
         ]
      },
      {
         "cell_type": "code",
         "execution_count": 21,
         "metadata": {
            "collapsed": false
         },
         "outputs": [],
         "source": [
            "# Feedback\n",
            "url_create_feedback = f'{url}/create/feedback'\n",
            "url_read_feedback = f'{url}/read/feedback'\n",
            "url_update_feedback = f'{url}/update/feedback'\n",
            "url_delete_feedback = f'{url}/delete/feedback'"
         ]
      },
      {
         "cell_type": "markdown",
         "metadata": {},
         "source": [
            "### Generate a random feedback"
         ]
      },
      {
         "cell_type": "code",
         "execution_count": 46,
         "metadata": {
            "collapsed": false
         },
         "outputs": [],
         "source": [
            "# Create a random feedback\n",
            "feedback = vars(RandomMenteeFeedback(mentee['profile_id'], mentor['profile_id']))\n",
            "feedback['text'] = \"test_INTEGRATION_test\"\n",
            "\n",
            "assert feedback['text'] != '', f\"Something wrong with RandomMenteeFeedback() generator\"\n"
         ]
      },
      {
         "cell_type": "markdown",
         "metadata": {},
         "source": [
            "### Create Feedback\n",
            "POST `/create/feedback`"
         ]
      },
      {
         "cell_type": "code",
         "execution_count": 47,
         "metadata": {
            "collapsed": false
         },
         "outputs": [],
         "source": [
            "# Create ONE feedback\n",
            "expected_status = 200\n",
            "expected = {'result': True}\n",
            "\n",
            "ret = requests.post(url_create_feedback, json=feedback)\n",
            "\n",
            "assert ret.status_code == expected_status, f\"Return status code was not {expected_status}. Got status code {ret.status_code}\"\n",
            "assert ret.json() == expected, f\"Endpoint did not return expected value of {expected}\""
         ]
      },
      {
         "cell_type": "markdown",
         "metadata": {},
         "source": [
            "### Read Feedback\n",
            "POST `/read/feedback`"
         ]
      },
      {
         "cell_type": "code",
         "execution_count": 48,
         "metadata": {
            "collapsed": false
         },
         "outputs": [],
         "source": [
            "# Read one feedback\n",
            "expected_status = 200\n",
            "expected = test_tag\n",
            "\n",
            "ret = requests.post(url_read_feedback, json={'mentor_id': mentor['profile_id']})\n",
            "\n",
            "assert ret.status_code == expected_status, f\"Return status code was not {expected_status}. Got status code {ret.status_code}\"\n",
            "assert ret.json()['result'][0]['text'] == expected, f\"Endpoint did not return expected value of {expected}\""
         ]
      },
      {
         "cell_type": "markdown",
         "metadata": {},
         "source": [
            "### Update Feedback\n",
            "PATCH `/update/feedback`"
         ]
      },
      {
         "cell_type": "code",
         "execution_count": 50,
         "metadata": {
            "collapsed": false
         },
         "outputs": [],
         "source": [
            "expected_status = 200\n",
            "expected = \"new_INTEGRATION_test\"\n",
            "\n",
            "# update the test feedback\n",
            "ret = requests.patch(f\"{url_update_feedback}/{feedback['ticket_id']}\", json={'text': expected})\n",
            "\n",
            "assert ret.status_code == expected_status, f\"Return status code was not {expected_status}. Got status code {ret.status_code}\"\n",
            "\n",
            "# read the test feedback, to check that we've successfully updated the entree\n",
            "ret = requests.post(url_read_feedback, json={\"ticket_id\": feedback['ticket_id']})\n",
            "\n",
            "assert ret.status_code == expected_status, f\"Return status code was not {expected_status}. Got status code {ret.status_code}\"\n",
            "assert ret.json()['result'][0]['text'] == expected, f\"Endpoint did not return expected value of {expected}\"\n"
         ]
      },
      {
         "cell_type": "markdown",
         "metadata": {},
         "source": [
            "### Delete feedback\n",
            "DELETE `/delete/feedback`"
         ]
      },
      {
         "cell_type": "code",
         "execution_count": 52,
         "metadata": {
            "collapsed": false
         },
         "outputs": [],
         "source": [
            "expected_status = 200\n",
            "\n",
            "ret = requests.delete(f\"{url_delete_feedback}/{feedback['ticket_id']}\")\n",
            "\n",
            "assert ret.status_code == expected_status, f\"Return status code was not {expected_status}. Got status code {ret.status_code}\""
         ]
      },
      {
         "cell_type": "markdown",
         "metadata": {},
         "source": [
            "## Meeting Operations\n"
         ]
      },
      {
         "cell_type": "code",
         "execution_count": 25,
         "metadata": {},
         "outputs": [],
         "source": [
            "url_create_meeting = f'{url}/create/meeting'\n",
            "url_read_meeting = f'{url}/read/meeting'\n",
            "url_update_meeting = f'{url}/update/meeting'\n",
            "url_delete_meeting = f'{url}/delete/meeting?meeting_id='"
         ]
      },
      {
         "cell_type": "markdown",
         "metadata": {},
         "source": [
            "### Create meeting\n",
            "CREATE `/create/meeting`"
         ]
      },
      {
         "cell_type": "code",
         "execution_count": 26,
         "metadata": {},
         "outputs": [],
         "source": [
            "# Create a random meeting\n",
            "meeting = (vars(RandomMeeting(mentee_id='1', mentor_id='1')))\n",
            "meeting['meeting_start_time'] = meeting['meeting_start_time'].isoformat()\n",
            "meeting['meeting_end_time'] = meeting['meeting_end_time'].isoformat()\n",
            "# Use topic field to identify our test records later\n",
            "meeting['meeting_topic'] = test_tag"
         ]
      },
      {
         "cell_type": "code",
         "execution_count": 27,
         "metadata": {},
         "outputs": [],
         "source": [
            "expected = {\"result\": True}\n",
            "expected_status = 200\n",
            "\n",
            "ret = requests.post(url_create_meeting, json=meeting)\n",
            "\n",
            "assert ret.status_code == expected_status, f\"Return status code was not {expected_status}. Got status code {ret.status_code}\"\n",
            "assert expected == ret.json(), \"Endpoint did not return expected value of {\\\"result\\\": True}\""
         ]
      },
      {
         "cell_type": "markdown",
         "metadata": {},
         "source": [
            "### Read one meeting by meeting_id\n",
            "READ `/read/meeting`"
         ]
      },
      {
         "cell_type": "code",
         "execution_count": 28,
         "metadata": {},
         "outputs": [],
         "source": [
            "expected_status = 200\n",
            "expected = test_tag\n",
            "\n",
            "ret = requests.post(url_read_meeting, json={'meeting_id': meeting['meeting_id']})\n",
            "\n",
            "assert ret.status_code == expected_status, f\"Return status code was not {expected_status}. Got status code {ret.status_code}\"\n",
            "assert ret.json()['result'][0]['meeting_topic'] == expected, f\"Endpoint did not return expected value of {expected}\""
         ]
      },
      {
         "cell_type": "markdown",
         "metadata": {},
         "source": [
            "### Read all meetings\n",
            "READ `/read/meeting`"
         ]
      },
      {
         "cell_type": "code",
         "execution_count": 29,
         "metadata": {},
         "outputs": [],
         "source": [
            "expected_status = 200\n",
            "\n",
            "ret = requests.post(url_read_meeting)\n",
            "\n",
            "assert ret.status_code == expected_status, f\"Return status code was not {expected_status}. Got status code {ret.status_code}\"\n",
            "assert len(ret.json()['result']) > 1, f\"We receive less that 2 entries. {len(ret.json()['result'])}\""
         ]
      },
      {
         "cell_type": "markdown",
         "metadata": {},
         "source": [
            "### Update meeting\n",
            "PUT `/update/meeting`"
         ]
      },
      {
         "cell_type": "code",
         "execution_count": 30,
         "metadata": {},
         "outputs": [],
         "source": [
            "expected_status = 200\n",
            "\n",
            "ret = requests.put(f\"{url_update_meeting}/{meeting['meeting_id']}\", json={'mentor_meeting_notes': 'test_Bloomtech_test'})\n",
            "\n",
            "assert ret.status_code == expected_status, f\"Return status code was not {expected_status}. Got status code {ret.status_code}\"\n",
            "\n",
            "expected_status = 200\n",
            "expected = 'test_Bloomtech_test'\n",
            "\n",
            "# Read the query with our test value\n",
            "ret = requests.post(url_read_meeting, json={'mentor_meeting_notes': 'test_Bloomtech_test'})\n",
            "\n",
            "assert ret.status_code == expected_status, f\"Return status code was not {expected_status}. Got status code {ret.status_code}\"\n",
            "assert expected == ret.json()['result'][0]['mentor_meeting_notes'], f\"Endpoint did not return expected value of {expected}\""
         ]
      },
      {
         "cell_type": "markdown",
         "metadata": {},
         "source": [
            "### Delete meeting\n",
            "DELETE `/delete/meeting`"
         ]
      },
      {
         "cell_type": "code",
         "execution_count": 31,
         "metadata": {},
         "outputs": [],
         "source": [
            "expected_status = 200\n",
            "\n",
            "ret = requests.delete(url_delete_meeting + meeting['meeting_id'])\n",
            "\n",
            "assert ret.status_code == expected_status, f\"Return status code was not {expected_status}. Got status code {ret.status_code}\""
         ]
      },
      {
         "cell_type": "markdown",
         "metadata": {
            "collapsed": false
         },
         "source": [
            "# Cleaning the test data\n",
            "Cleaning the db, using db api by querying data marked with our test_tag\n"
         ]
      },
      {
         "cell_type": "code",
         "execution_count": 53,
         "metadata": {
            "collapsed": false
         },
         "outputs": [],
         "source": [
            "# Make a connection to the db\n",
            "db = MongoDB()\n",
            "\n",
            "# Mentors and Mentees clean up\n",
            "for collection in ['Mentors', 'Mentees', 'Meetings']:\n",
            "    db.delete(collection, {'other_info': test_tag})\n",
            "\n",
            "db.delete('Meetings', {'meeting_topic': test_tag})\n",
            "\n",
            "# Feedback clean up\n",
            "db.delete('Feedback', {'text': \"new_INTEGRATION_test\"})"
         ]
      },
      {
         "cell_type": "markdown",
         "metadata": {
            "collapsed": false
         },
         "source": [
            "### Check that we have successfully cleaned up the db.\n"
         ]
      },
      {
         "cell_type": "code",
         "execution_count": 54,
         "metadata": {
            "collapsed": false
         },
         "outputs": [],
         "source": [
            "# Mentors and Mentees\n",
            "for collection in ['Mentors', 'Mentees']:\n",
            "    ret = db.search(collection, test_tag)\n",
            "    assert  ret == [], f\"Clean up of {collection} failed, found db record: {ret}\"\n",
            "\n",
            "ret = db.read('Meetings', {'meeting_topic': test_tag})\n",
            "assert  ret == [], f\"Clean up of Meetings failed, found db record: {ret}\"\n",
            "\n",
            "# Feedback\n",
            "ret = db.read('Feedback', {'ticket_id': feedback['ticket_id']})\n",
            "assert  ret == [], f\"Clean up of Feedback failed, found db record: {ret}\"\n"
         ]
      },
      {
         "cell_type": "code",
         "execution_count": null,
         "metadata": {
            "collapsed": false
         },
         "outputs": [],
         "source": []
      }
   ],
   "metadata": {
      "kernelspec": {
         "display_name": "Python 3.8.0 ('venv': venv)",
         "language": "python",
         "name": "python3"
      },
      "language_info": {
         "codemirror_mode": {
            "name": "ipython",
            "version": 3
         },
         "file_extension": ".py",
         "mimetype": "text/x-python",
         "name": "python",
         "nbconvert_exporter": "python",
         "pygments_lexer": "ipython3",
         "version": "3.8.0"
      },
      "orig_nbformat": 4,
      "vscode": {
         "interpreter": {
            "hash": "bd3cd9cc25d0861163890f405729cb6f2a1e87a0c4e46230918bac60dee04c9a"
         }
      }
   },
   "nbformat": 4,
   "nbformat_minor": 2
}