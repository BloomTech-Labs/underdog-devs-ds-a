{
 "cells": [
  {
   "cell_type": "markdown",
   "metadata": {},
   "source": [
    "# Integration tets"
   ]
  },
  {
   "cell_type": "code",
   "execution_count": 115,
   "metadata": {},
   "outputs": [],
   "source": [
    "import requests\n",
    "from data_generators.generators import RandomMentor"
   ]
  },
  {
   "cell_type": "code",
   "execution_count": 116,
   "metadata": {},
   "outputs": [],
   "source": [
    "url = \"http://127.0.0.1:8000\""
   ]
  },
  {
   "cell_type": "markdown",
   "metadata": {},
   "source": [
    "## Mentor Operations"
   ]
  },
  {
   "cell_type": "code",
   "execution_count": 117,
   "metadata": {},
   "outputs": [],
   "source": [
    "# URL for the request\n",
    "url_create_mentor = url + '/create/mentor'\n",
    "url_delete_mentor = url + '/delete/mentor'\n",
    "url_read_mentor = url + '/read/mentor'"
   ]
  },
  {
   "cell_type": "markdown",
   "metadata": {},
   "source": [
    "### Create Mentor\n",
    "POST `/create/mentor`"
   ]
  },
  {
   "cell_type": "markdown",
   "metadata": {},
   "source": [
    "### Setup for Mentors\n",
    "Create a list of randomly generated mock mentor data and mark them as 'test_INTEGRATION_test' for post-testing cleanup."
   ]
  },
  {
   "cell_type": "code",
   "execution_count": 118,
   "metadata": {},
   "outputs": [],
   "source": [
    "# Set number of mentors to test\n",
    "n_mentors = 3\n",
    "# Create list of test mentors\n",
    "mentors = []\n",
    "\n",
    "for i in range(n_mentors):\n",
    "    mentors.append(vars(RandomMentor()))\n",
    "    mentors[i]['other_info'] = 'test_INTEGRATION_test'\n"
   ]
  },
  {
   "cell_type": "markdown",
   "metadata": {},
   "source": [
    "Use `/create/mentors/` endpoint to create a single mentor using properly formed mock data.\n",
    "Verify that the status code returns 200 [successful], and that the expected JSON values are returned."
   ]
  },
  {
   "cell_type": "code",
   "execution_count": 119,
   "metadata": {},
   "outputs": [],
   "source": [
    "# Create a ONE test mentor with API, we should receive 'result': True\n",
    "expected = {\"result\": True}\n",
    "ret = requests.post(url_create_mentor, json=mentors[0])\n",
    "\n",
    "assert ret.status_code == 200, f\"Return status code was not 200. Got status code {ret.status_code}\"\n",
    "assert expected == ret.json(), \"Endpoint did not return expected value of {\\\"result\\\": True}\""
   ]
  },
  {
   "cell_type": "markdown",
   "metadata": {},
   "source": [
    "2. Failed test. Create multiple test mentors with API\n",
    "API Should return *error*"
   ]
  },
  {
   "cell_type": "code",
   "execution_count": 79,
   "metadata": {},
   "outputs": [
    {
     "data": {
      "text/plain": "{'detail': [{'loc': ['body'],\n   'msg': 'value is not a valid dict',\n   'type': 'type_error.dict'}]}"
     },
     "execution_count": 79,
     "metadata": {},
     "output_type": "execute_result"
    }
   ],
   "source": [
    "# API doesn't allow to create multiples entries\n",
    "requests.post(url_create_mentor, json=mentors).json()\n"
   ]
  },
  {
   "cell_type": "markdown",
   "metadata": {},
   "source": [
    "4. Failed test. Try to create duplicated recrord  \n",
    "API Should return:  \n",
    "`{'detail': 'Profile ID must be unique.'}`"
   ]
  },
  {
   "cell_type": "code",
   "execution_count": 80,
   "metadata": {},
   "outputs": [
    {
     "data": {
      "text/plain": "{'detail': 'Profile ID must be unique.'}"
     },
     "execution_count": 80,
     "metadata": {},
     "output_type": "execute_result"
    }
   ],
   "source": [
    "# Try to create a DUPLICATE test mentor with API, we should receive 'result': True\n",
    "requests.post(url_create_mentor, json=mentors[0]).json()\n"
   ]
  },
  {
   "cell_type": "markdown",
   "metadata": {},
   "source": [
    "5. Failed test. Try to create record with field not in schema.  \n",
    "API should return *error*  `value_error.extra`"
   ]
  },
  {
   "cell_type": "code",
   "execution_count": 81,
   "metadata": {},
   "outputs": [
    {
     "data": {
      "text/plain": "{'detail': [{'loc': ['body', 'test_FIELED_test'],\n   'msg': 'extra fields not permitted',\n   'type': 'value_error.extra'}]}"
     },
     "execution_count": 81,
     "metadata": {},
     "output_type": "execute_result"
    }
   ],
   "source": [
    "# Create an extra test field\n",
    "mentors[1]['test_FIELED_test'] = 'This a field for integration test'\n",
    "\n",
    "# Try to create mentor\n",
    "requests.post(url_create_mentor, json=mentors[1]).json()\n"
   ]
  },
  {
   "cell_type": "markdown",
   "metadata": {},
   "source": [
    "6. Failed test. Try to create a record with wrong value  \n",
    "API should return 422 error:  \n",
    " `value_error.any_str.max_length`"
   ]
  },
  {
   "cell_type": "code",
   "execution_count": 82,
   "metadata": {},
   "outputs": [
    {
     "data": {
      "text/plain": "{'detail': [{'loc': ['body', 'first_name'],\n   'msg': 'ensure this value has at most 255 characters',\n   'type': 'value_error.any_str.max_length',\n   'ctx': {'limit_value': 255}}]}"
     },
     "execution_count": 82,
     "metadata": {},
     "output_type": "execute_result"
    }
   ],
   "source": [
    "# Create First name more than 255 legal chars\n",
    "mentors[2]['first_name'] = 300 * 'a'\n",
    "\n",
    "# Try to create a wrong mentor\n",
    "requests.post(url_create_mentor, json=mentors[2]).json()\n"
   ]
  },
  {
   "cell_type": "markdown",
   "metadata": {},
   "source": []
  },
  {
   "cell_type": "markdown",
   "metadata": {},
   "source": [
    "### Read Mentor\n",
    "POST `/read/mentor`"
   ]
  },
  {
   "cell_type": "code",
   "execution_count": 83,
   "metadata": {},
   "outputs": [],
   "source": [
    "url_read_mentor = url + '/read/mentor'\n"
   ]
  },
  {
   "cell_type": "markdown",
   "metadata": {},
   "source": [
    "1. Read one test mentor by querying `profile_id`"
   ]
  },
  {
   "cell_type": "code",
   "execution_count": 84,
   "metadata": {},
   "outputs": [
    {
     "data": {
      "text/plain": "{'result': [{'profile_id': 'fdb30e87-c0b7-4f83-99e7-8c2f99f236ed',\n   'first_name': 'Lochlan',\n   'last_name': 'Murphy',\n   'email': 'Lochlan.Murphy@gmail.com',\n   'country': 'U.S.',\n   'state': 'Georgia',\n   'city': 'Rochester',\n   'current_company': 'Amazon',\n   'current_position': 'Data Scientist',\n   'tech_stack': ['Data Science', 'Career Development'],\n   'job_help': True,\n   'industry_knowledge': True,\n   'pair_programming': True,\n   'commitment': True,\n   'referred_by': 'Family',\n   'other_info': 'test_INTEGRATION_test',\n   'validate_status': 'pending',\n   'is_active': True,\n   'accepting_new_mentees': True,\n   'created_at': '2022-10-08T20:03:05.204000'}]}"
     },
     "execution_count": 84,
     "metadata": {},
     "output_type": "execute_result"
    }
   ],
   "source": [
    "# Read first test mentror with unique profile_id\n",
    "requests.post(url_read_mentor, json={'profile_id': mentors[0]['profile_id']}).json()"
   ]
  },
  {
   "cell_type": "markdown",
   "metadata": {},
   "source": [
    "2. Read all entrees  \n",
    "We should get the same data as we get through DB request"
   ]
  },
  {
   "cell_type": "code",
   "execution_count": 85,
   "metadata": {},
   "outputs": [],
   "source": [
    "# read from API, with no parameteres, we should get all the data\n",
    "df_api = DataFrame(requests.post(url_read_mentor).json()['result'])\n",
    "\n",
    "# read from DB\n",
    "df_db = DataFrame(db.read('Mentors'))\n",
    "\n",
    "# If there are some difference in data we should get a dataframe with a number of rows of different entrees\n",
    "assert len(df_api.compare(df_db)) == 0"
   ]
  },
  {
   "cell_type": "markdown",
   "metadata": {},
   "source": [
    "3. Failed test. Read inexisting value.  \n",
    "Should return zero list"
   ]
  },
  {
   "cell_type": "code",
   "execution_count": 86,
   "metadata": {},
   "outputs": [
    {
     "data": {
      "text/plain": "{'result': []}"
     },
     "execution_count": 86,
     "metadata": {},
     "output_type": "execute_result"
    }
   ],
   "source": [
    "# Read from the API with an inexisting name\n",
    "requests.post(url_read_mentor, json={'first_name': 'test_INEXISTINGNAME_test'}).json()"
   ]
  },
  {
   "cell_type": "markdown",
   "metadata": {},
   "source": [
    "### Update Mentors\n",
    "POST `/update/mentor/{profile_id}`"
   ]
  },
  {
   "cell_type": "code",
   "execution_count": 87,
   "metadata": {},
   "outputs": [],
   "source": [
    "url_update_mentor = f'{url}/update/mentor/'\n"
   ]
  },
  {
   "cell_type": "markdown",
   "metadata": {},
   "source": [
    "1. Update existing test Mentor"
   ]
  },
  {
   "cell_type": "code",
   "execution_count": 88,
   "metadata": {},
   "outputs": [
    {
     "data": {
      "text/plain": "{'result': [{'profile_id': 'fdb30e87-c0b7-4f83-99e7-8c2f99f236ed',\n   'first_name': 'Lochlan',\n   'last_name': 'Murphy',\n   'email': 'Lochlan.Murphy@gmail.com',\n   'country': 'U.S.',\n   'state': 'Georgia',\n   'city': 'Rochester',\n   'current_company': 'test_Bloomtech_test',\n   'current_position': 'Data Scientist',\n   'tech_stack': ['Data Science', 'Career Development'],\n   'job_help': True,\n   'industry_knowledge': True,\n   'pair_programming': True,\n   'commitment': True,\n   'referred_by': 'Family',\n   'other_info': 'test_INTEGRATION_test',\n   'validate_status': 'pending',\n   'is_active': True,\n   'accepting_new_mentees': True,\n   'created_at': '2022-10-08T20:03:05.204000',\n   'updated_at': '2022-10-08T20:03:07.067000'}]}"
     },
     "execution_count": 88,
     "metadata": {},
     "output_type": "execute_result"
    }
   ],
   "source": [
    "# Update test Mentor current_company value\n",
    "requests.post(url_update_mentor  + mentors[0]['profile_id'], json={'current_company': 'test_Bloomtech_test'}).json()\n",
    "\n",
    "# Read the query with our test value\n",
    "requests.post(url_read_mentor, json={'current_company': 'test_Bloomtech_test'}).json()"
   ]
  },
  {
   "cell_type": "markdown",
   "metadata": {},
   "source": [
    "2. Failed test. Try to update with wrong value"
   ]
  },
  {
   "cell_type": "code",
   "execution_count": 89,
   "metadata": {},
   "outputs": [
    {
     "data": {
      "text/plain": "{'detail': [{'loc': ['body', 'current_company'],\n   'msg': 'ensure this value has at most 255 characters',\n   'type': 'value_error.any_str.max_length',\n   'ctx': {'limit_value': 255}}]}"
     },
     "execution_count": 89,
     "metadata": {},
     "output_type": "execute_result"
    }
   ],
   "source": [
    "# Create a wrong value (more than 255 chars)\n",
    "current_position_wrong = 300 * 'a'\n",
    "\n",
    "# Update test Mentor current_company value\n",
    "# Shoul return value_errror\n",
    "requests.post(url_update_mentor  + mentors[0]['profile_id'], json={'current_company': current_position_wrong}).json()\n",
    "\n"
   ]
  },
  {
   "cell_type": "markdown",
   "metadata": {},
   "source": [
    "#### Clean the data"
   ]
  },
  {
   "cell_type": "code",
   "execution_count": 90,
   "metadata": {},
   "outputs": [
    {
     "data": {
      "text/plain": "[None, None, None]"
     },
     "execution_count": 90,
     "metadata": {},
     "output_type": "execute_result"
    }
   ],
   "source": [
    "# Remove all test mentors from db\n",
    "[db.delete('Mentors', {'profile_id': mentor['profile_id']}) for mentor in mentors]"
   ]
  },
  {
   "cell_type": "code",
   "execution_count": 91,
   "metadata": {},
   "outputs": [
    {
     "data": {
      "text/plain": "Empty DataFrame\nColumns: []\nIndex: []",
      "text/html": "<div>\n<style scoped>\n    .dataframe tbody tr th:only-of-type {\n        vertical-align: middle;\n    }\n\n    .dataframe tbody tr th {\n        vertical-align: top;\n    }\n\n    .dataframe thead tr th {\n        text-align: left;\n    }\n</style>\n<table border=\"1\" class=\"dataframe\">\n  <thead>\n  </thead>\n  <tbody>\n  </tbody>\n</table>\n</div>"
     },
     "execution_count": 91,
     "metadata": {},
     "output_type": "execute_result"
    }
   ],
   "source": [
    "df_mentors.compare(DataFrame(db.read('Mentors')))"
   ]
  },
  {
   "cell_type": "code",
   "execution_count": 92,
   "metadata": {},
   "outputs": [],
   "source": [
    "# Compare original df with a new one\n",
    "# I was trying to compare \n",
    "# assert len(df_mentors.compare(DataFrame(db.read('Mentors')))) == 0\n",
    "assert df_mentors.shape == DataFrame(db.read('Mentors')).shape"
   ]
  },
  {
   "cell_type": "code",
   "execution_count": 93,
   "metadata": {},
   "outputs": [],
   "source": [
    "# query all test_*_test entrees to check that we delete everythinb\n",
    "..."
   ]
  },
  {
   "cell_type": "markdown",
   "metadata": {},
   "source": [
    "## Mentee Operations\n",
    "\n"
   ]
  },
  {
   "cell_type": "code",
   "execution_count": 94,
   "metadata": {},
   "outputs": [],
   "source": [
    "df_mentees = DataFrame(db.read('Mentees'))"
   ]
  },
  {
   "cell_type": "markdown",
   "metadata": {},
   "source": [
    "### Create Mentee\n",
    "POST `/create/mentee`"
   ]
  },
  {
   "cell_type": "code",
   "execution_count": 95,
   "metadata": {},
   "outputs": [],
   "source": [
    "url_create_mentee = f'{url}/create/mentee'"
   ]
  },
  {
   "cell_type": "markdown",
   "metadata": {},
   "source": [
    "1. Generate a list of random *test* mentees"
   ]
  },
  {
   "cell_type": "code",
   "execution_count": 96,
   "metadata": {},
   "outputs": [],
   "source": [
    "# Set number of mentors to test\n",
    "n_mentees = 3\n",
    "# Create list of test mentors\n",
    "mentees = []\n",
    "\n",
    "for i in range(n_mentees): \n",
    "    mentees.append(vars(RandomMentee()))\n",
    "\n",
    "    # create a field to identify our test records later\n",
    "    mentees[i]['other_info'] = 'test_INTEGRATION_test'\n"
   ]
  },
  {
   "cell_type": "markdown",
   "metadata": {},
   "source": [
    "2. Create *one* test mentee with API"
   ]
  },
  {
   "cell_type": "code",
   "execution_count": 97,
   "metadata": {},
   "outputs": [
    {
     "data": {
      "text/plain": "{'result': True}"
     },
     "execution_count": 97,
     "metadata": {},
     "output_type": "execute_result"
    }
   ],
   "source": [
    "requests.post(url_create_mentee, json=mentees[0]).json()\n"
   ]
  },
  {
   "cell_type": "markdown",
   "metadata": {},
   "source": [
    "3. Failed test. Create multiple test mentees with API  \n",
    "API Should return *error*"
   ]
  },
  {
   "cell_type": "code",
   "execution_count": 98,
   "metadata": {},
   "outputs": [
    {
     "data": {
      "text/plain": "{'detail': [{'loc': ['body'],\n   'msg': 'value is not a valid dict',\n   'type': 'type_error.dict'}]}"
     },
     "execution_count": 98,
     "metadata": {},
     "output_type": "execute_result"
    }
   ],
   "source": [
    "# API doesn't allow to create multiples entries\n",
    "requests.post(url_create_mentee, json=mentees).json()\n"
   ]
  },
  {
   "cell_type": "markdown",
   "metadata": {},
   "source": [
    "4. Failed test. Try to create duplicated recrord  \n",
    "API Should return:  \n",
    "`{'detail': 'Profile ID must be unique.'}`"
   ]
  },
  {
   "cell_type": "code",
   "execution_count": 99,
   "metadata": {},
   "outputs": [
    {
     "data": {
      "text/plain": "{'detail': 'Profile ID must be unique.'}"
     },
     "execution_count": 99,
     "metadata": {},
     "output_type": "execute_result"
    }
   ],
   "source": [
    "# Try to create a DUPLICATE test mentor with API, we should receive 'result': True\n",
    "requests.post(url_create_mentee, json=mentees[0]).json()\n"
   ]
  },
  {
   "cell_type": "markdown",
   "metadata": {},
   "source": [
    "5. Failed test. Try to create record with field not in schema.  \n",
    "API should return *error*  `value_error.extra`"
   ]
  },
  {
   "cell_type": "code",
   "execution_count": 100,
   "metadata": {},
   "outputs": [
    {
     "data": {
      "text/plain": "{'detail': [{'loc': ['body', 'test_FIELED_test'],\n   'msg': 'extra fields not permitted',\n   'type': 'value_error.extra'}]}"
     },
     "execution_count": 100,
     "metadata": {},
     "output_type": "execute_result"
    }
   ],
   "source": [
    "# Create an extra test field\n",
    "mentees[1]['test_FIELED_test'] = 'This a field for integration test'\n",
    "\n",
    "# Try to create mentor\n",
    "requests.post(url_create_mentee, json=mentees[1]).json()\n"
   ]
  },
  {
   "cell_type": "markdown",
   "metadata": {},
   "source": [
    "6. Failed test. Try to create a record with wrong value  \n",
    "API should return 422 error:  \n",
    " `value_error.any_str.max_length`"
   ]
  },
  {
   "cell_type": "code",
   "execution_count": 101,
   "metadata": {},
   "outputs": [
    {
     "data": {
      "text/plain": "{'detail': [{'loc': ['body', 'first_name'],\n   'msg': 'ensure this value has at most 255 characters',\n   'type': 'value_error.any_str.max_length',\n   'ctx': {'limit_value': 255}}]}"
     },
     "execution_count": 101,
     "metadata": {},
     "output_type": "execute_result"
    }
   ],
   "source": [
    "# Create First name more than 255 legal chars\n",
    "mentees[2]['first_name'] = 300 * 'a'\n",
    "\n",
    "# Try to create a wrong mentor\n",
    "requests.post(url_create_mentee, json=mentees[2]).json()\n"
   ]
  },
  {
   "cell_type": "markdown",
   "metadata": {},
   "source": [
    "### Read mentee\n",
    "POST `/read/mentee`"
   ]
  },
  {
   "cell_type": "code",
   "execution_count": 102,
   "metadata": {},
   "outputs": [],
   "source": [
    "url_read_mentee = f'{url}/read/mentee'"
   ]
  },
  {
   "cell_type": "markdown",
   "metadata": {},
   "source": [
    "1. Read one test mentee by querying `profile_id`"
   ]
  },
  {
   "cell_type": "code",
   "execution_count": 103,
   "metadata": {},
   "outputs": [
    {
     "data": {
      "text/plain": "{'result': [{'profile_id': '49fdc00a-9aaf-4c0a-969b-e448de1656be',\n   'first_name': 'Tomas',\n   'last_name': 'Kim',\n   'email': 'Tomas.Kim@gmail.com',\n   'country': 'U.S.',\n   'state': 'Guam',\n   'city': 'Springfield',\n   'formerly_incarcerated': False,\n   'underrepresented_group': False,\n   'low_income': True,\n   'convictions': 'Misdemeanor, Felony',\n   'tech_stack': 'iOS',\n   'job_help': False,\n   'pair_programming': False,\n   'referred_by': 'YouTube',\n   'other_info': 'test_INTEGRATION_test',\n   'validate_status': 'pending',\n   'is_active': False,\n   'in_project_underdog': False,\n   'created_at': '2022-10-08T20:03:09.389000'}]}"
     },
     "execution_count": 103,
     "metadata": {},
     "output_type": "execute_result"
    }
   ],
   "source": [
    "# Read first test mentror with unique profile_id\n",
    "requests.post(url_read_mentee, json={'profile_id': mentees[0]['profile_id']}).json()"
   ]
  },
  {
   "cell_type": "markdown",
   "metadata": {},
   "source": [
    "2. Read all entrees  \n",
    "We should get the same data as we get through DB request"
   ]
  },
  {
   "cell_type": "code",
   "execution_count": 104,
   "metadata": {},
   "outputs": [],
   "source": [
    "# read from API\n",
    "df_api = DataFrame(requests.post(url_read_mentee).json()['result'])\n",
    "\n",
    "# read from DB\n",
    "df_db = DataFrame(db.read('Mentees'))\n",
    "\n",
    "# test\n",
    "assert len(df_api.compare(df_db)) == 0"
   ]
  },
  {
   "cell_type": "markdown",
   "metadata": {},
   "source": [
    "3. Failed test. Read inexisting value.  \n",
    "Should return zero list"
   ]
  },
  {
   "cell_type": "code",
   "execution_count": 105,
   "metadata": {},
   "outputs": [
    {
     "data": {
      "text/plain": "{'result': []}"
     },
     "execution_count": 105,
     "metadata": {},
     "output_type": "execute_result"
    }
   ],
   "source": [
    "# Read from the API with an inexisting name\n",
    "requests.post(url_read_mentee, json={'first_name': 'test_INEXISTINGNAME_test'}).json()"
   ]
  },
  {
   "cell_type": "markdown",
   "metadata": {},
   "source": [
    "### Update Mentees\n",
    "POST `/update/mentee/{profile_id}`"
   ]
  },
  {
   "cell_type": "code",
   "execution_count": 106,
   "metadata": {},
   "outputs": [],
   "source": [
    "url_update_mentee = f'{url}/update/mentee/'\n"
   ]
  },
  {
   "cell_type": "markdown",
   "metadata": {},
   "source": [
    "1. Update existing test Mentor"
   ]
  },
  {
   "cell_type": "code",
   "execution_count": 107,
   "metadata": {},
   "outputs": [
    {
     "data": {
      "text/plain": "{'result': [{'profile_id': 'fb5c1f81-2249-427d-a738-7f60cbd32ecb',\n   'first_name': 'Lian',\n   'last_name': 'Hill',\n   'email': 'Lian.Hill@gmail.com',\n   'country': 'U.S.',\n   'state': 'American Samoa',\n   'city': 'Arrowhead',\n   'formerly_incarcerated': True,\n   'underrepresented_group': False,\n   'low_income': False,\n   'convictions': 'Felony, Misdemeanor',\n   'tech_stack': 'test_Bloomtech_test',\n   'job_help': False,\n   'pair_programming': False,\n   'referred_by': 'Family',\n   'other_info': 'test_INTEGRATION_test',\n   'validate_status': 'approved',\n   'is_active': True,\n   'in_project_underdog': False,\n   'created_at': '2022-10-07T14:51:55.785000',\n   'updated_at': '2022-10-07T15:05:51.655000'},\n  {'profile_id': 'ec6ee51c-4a5d-4794-a534-c92f4f6121ad',\n   'first_name': 'Marvin',\n   'last_name': 'Carter',\n   'email': 'Marvin.Carter@gmail.com',\n   'country': 'U.S.',\n   'state': 'Iowa',\n   'city': 'Springfield',\n   'formerly_incarcerated': True,\n   'underrepresented_group': True,\n   'low_income': True,\n   'convictions': 'Infraction',\n   'tech_stack': 'test_Bloomtech_test',\n   'job_help': False,\n   'pair_programming': False,\n   'referred_by': 'Colleague',\n   'other_info': 'test_INTEGRATION_test',\n   'validate_status': 'pending',\n   'is_active': False,\n   'in_project_underdog': False,\n   'created_at': '2022-10-08T19:24:15.273000',\n   'updated_at': '2022-10-08T19:24:17.145000'},\n  {'profile_id': '6dd2c35c-4b16-4988-9964-a1d1ea3d96b1',\n   'first_name': 'Devon',\n   'last_name': 'Sanchez',\n   'email': 'Devon.Sanchez@gmail.com',\n   'country': 'U.S.',\n   'state': 'Virgin Islands',\n   'city': 'Los Alamos',\n   'formerly_incarcerated': True,\n   'underrepresented_group': False,\n   'low_income': True,\n   'convictions': 'Infraction, Misdemeanor',\n   'tech_stack': 'test_Bloomtech_test',\n   'job_help': True,\n   'pair_programming': False,\n   'referred_by': 'Meta',\n   'other_info': 'test_INTEGRATION_test',\n   'validate_status': 'pending',\n   'is_active': True,\n   'in_project_underdog': False,\n   'created_at': '2022-10-08T20:01:37.623000',\n   'updated_at': '2022-10-08T20:01:40.583000'},\n  {'profile_id': '49fdc00a-9aaf-4c0a-969b-e448de1656be',\n   'first_name': 'Tomas',\n   'last_name': 'Kim',\n   'email': 'Tomas.Kim@gmail.com',\n   'country': 'U.S.',\n   'state': 'Guam',\n   'city': 'Springfield',\n   'formerly_incarcerated': False,\n   'underrepresented_group': False,\n   'low_income': True,\n   'convictions': 'Misdemeanor, Felony',\n   'tech_stack': 'test_Bloomtech_test',\n   'job_help': False,\n   'pair_programming': False,\n   'referred_by': 'YouTube',\n   'other_info': 'test_INTEGRATION_test',\n   'validate_status': 'pending',\n   'is_active': False,\n   'in_project_underdog': False,\n   'created_at': '2022-10-08T20:03:09.389000',\n   'updated_at': '2022-10-08T20:03:11.303000'}]}"
     },
     "execution_count": 107,
     "metadata": {},
     "output_type": "execute_result"
    }
   ],
   "source": [
    "# Update test Mentor current_company value\n",
    "requests.post(url_update_mentee  + mentees[0]['profile_id'], json={'tech_stack': 'test_Bloomtech_test'}).json()\n",
    "\n",
    "# Read the query with our test value\n",
    "requests.post(url_read_mentee, json={'tech_stack': 'test_Bloomtech_test'}).json()"
   ]
  },
  {
   "cell_type": "markdown",
   "metadata": {},
   "source": [
    "## Feedback Operations"
   ]
  },
  {
   "cell_type": "markdown",
   "metadata": {},
   "source": []
  },
  {
   "cell_type": "markdown",
   "metadata": {},
   "source": [
    "### Create Feedback\n",
    "POST `/create/feedback`"
   ]
  },
  {
   "cell_type": "markdown",
   "metadata": {},
   "source": [
    "### Read Feedback\n",
    "POST `/read/feedback`"
   ]
  },
  {
   "cell_type": "markdown",
   "metadata": {},
   "source": [
    "### Update Feedback\n",
    "PATCH `/update/feedback`"
   ]
  },
  {
   "cell_type": "markdown",
   "metadata": {},
   "source": [
    "### Delete feedback\n",
    "DELETE `/delete/feedback`"
   ]
  },
  {
   "cell_type": "markdown",
   "metadata": {},
   "source": [
    "## Graph Operations"
   ]
  },
  {
   "cell_type": "markdown",
   "metadata": {},
   "source": [
    "### Tech Stack By Role\n",
    "GET `/graph/tech-stack-by-role`"
   ]
  },
  {
   "cell_type": "markdown",
   "metadata": {},
   "source": [
    "## Model Operations\n",
    "POST `/match{profile_id}`"
   ]
  },
  {
   "cell_type": "markdown",
   "metadata": {},
   "source": []
  }
 ],
 "metadata": {
  "kernelspec": {
   "display_name": "Python 3.9.12 ('venv': venv)",
   "language": "python",
   "name": "python3"
  },
  "language_info": {
   "codemirror_mode": {
    "name": "ipython",
    "version": 3
   },
   "file_extension": ".py",
   "mimetype": "text/x-python",
   "name": "python",
   "nbconvert_exporter": "python",
   "pygments_lexer": "ipython3",
   "version": "3.9.12"
  },
  "orig_nbformat": 4,
  "vscode": {
   "interpreter": {
    "hash": "5c1e4bd171fb486a69b6e93433227d58b1f56d5ada82073d78c4386523828036"
   }
  }
 },
 "nbformat": 4,
 "nbformat_minor": 2
}
