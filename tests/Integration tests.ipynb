{
 "cells": [
  {
   "cell_type": "markdown",
   "metadata": {},
   "source": [
    "# Proper Integration tests"
   ]
  },
  {
   "cell_type": "code",
   "execution_count": 111,
   "metadata": {
    "collapsed": false
   },
   "outputs": [],
   "source": [
    "# If you have problems with import modules, uncomment line below and run it *ONE* time\n",
    "# %cd ../"
   ]
  },
  {
   "cell_type": "code",
   "execution_count": 128,
   "metadata": {},
   "outputs": [],
   "source": [
    "import requests\n",
    "from data_generators.generators import RandomMentor, RandomMentee, RandomMenteeFeedback\n",
    "from app.data import MongoDB"
   ]
  },
  {
   "cell_type": "code",
   "execution_count": 113,
   "metadata": {},
   "outputs": [],
   "source": [
    "# API URL\n",
    "url = \"http://127.0.0.1:8000\""
   ]
  },
  {
   "cell_type": "markdown",
   "metadata": {},
   "source": [
    "## Mentor Operations"
   ]
  },
  {
   "cell_type": "code",
   "execution_count": 146,
   "outputs": [],
   "source": [
    "# URL for the request\n",
    "\n",
    "# Mentors\n",
    "url_create_mentor = f'{url}/create/mentor'\n",
    "url_read_mentor = f'{url}/read/mentor'\n",
    "url_update_mentor = f'{url}/update/mentor/'\n",
    "\n",
    "# Mentees\n",
    "url_create_mentee = f'{url}/create/mentee'\n",
    "url_read_mentee = f'{url}/read/mentee'\n",
    "url_update_mentee = f'{url}/update/mentee/'\n",
    "\n",
    "# Feedback\n",
    "url_create_feedback = f'{url}/create/feedback'\n",
    "url_read_feedback = f'{url}/read/feedback'\n",
    "url_update_feedback = f'{url}/update/feedback'\n",
    "url_delete_feedback = f'{url}/delete/feedback'\n",
    "\n",
    "# Graph\n",
    "url_tech_stack_by_role_graph = f'{url}/graph/tech-stack-by-role'\n"
   ],
   "metadata": {
    "collapsed": false
   }
  },
  {
   "cell_type": "markdown",
   "metadata": {},
   "source": [
    "### Create Mentor\n",
    "POST `/create/mentor`"
   ]
  },
  {
   "cell_type": "markdown",
   "metadata": {},
   "source": [
    "### Setup for Mentors\n",
    "Create a list of randomly generated mock mentor data and mark them as 'test_INTEGRATION_test' for post-testing cleanup."
   ]
  },
  {
   "cell_type": "code",
   "execution_count": 140,
   "metadata": {},
   "outputs": [],
   "source": [
    "# Set number of mentors to test, should be the same for mentor and mentees, because it is used late to create a feedbacks\n",
    "n_persons = 3\n",
    "# Create list of test mentors\n",
    "mentors = []\n",
    "\n",
    "for i in range(n_persons):\n",
    "    mentors.append(vars(RandomMentor()))\n",
    "    mentors[i]['other_info'] = 'test_INTEGRATION_test'\n"
   ]
  },
  {
   "cell_type": "markdown",
   "metadata": {},
   "source": [
    "Use `/create/mentors/` endpoint to create a single mentor using properly formed mock data.\n",
    "Verify that the status code returns 200 [successful], and that the expected JSON values are returned."
   ]
  },
  {
   "cell_type": "code",
   "execution_count": 116,
   "outputs": [],
   "source": [
    "# Create a ONE test mentor with API, we should receive 'result': True\n",
    "expected = {\"result\": True}\n",
    "expected_status = 200\n",
    "ret = requests.post(url_create_mentor, json=mentors[0])\n",
    "\n",
    "assert ret.status_code == expected_status, f\"Return status code was not {expected_status}. Got status code {ret.status_code}\"\n",
    "assert expected == ret.json(), \"Endpoint did not return expected value of {\\\"result\\\": True}\"\n"
   ],
   "metadata": {
    "collapsed": false
   }
  },
  {
   "cell_type": "markdown",
   "metadata": {},
   "source": [
    "### Read Mentor\n",
    "POST `/read/mentor`"
   ]
  },
  {
   "cell_type": "markdown",
   "metadata": {},
   "source": [
    "### Read one test mentor by querying `profile_id`"
   ]
  },
  {
   "cell_type": "code",
   "execution_count": 117,
   "metadata": {},
   "outputs": [],
   "source": [
    "# Read first test mentor with unique profile_id\n",
    "expected_status = 200\n",
    "expected = 'test_INTEGRATION_test'\n",
    "\n",
    "ret = requests.post(url_read_mentor, json={'profile_id': mentors[0]['profile_id']})\n",
    "\n",
    "assert ret.json()['result'][0]['other_info'] == expected, f\"Endpoint did not return expected value of {expected}\"\n",
    "assert ret.status_code == expected_status, f\"Return status code was not {expected_status}. Got status code {ret.status_code}\"\n"
   ]
  },
  {
   "cell_type": "markdown",
   "metadata": {},
   "source": [
    "### Read all entries\n",
    "When we request read mentors without parameters we should get all entries, we added 1 mentor, so we assume that we should get more than 1 entries."
   ]
  },
  {
   "cell_type": "code",
   "execution_count": 118,
   "outputs": [
    {
     "data": {
      "text/plain": "{'result': [{'profile_id': '4209092a-9879-4092-9602-935aca56928e',\n   'first_name': 'Hendrix',\n   'last_name': 'Ramirez',\n   'email': 'Hendrix.Ramirez@gmail.com',\n   'country': 'U.S.',\n   'state': 'Utah',\n   'city': 'Washington',\n   'current_company': 'Alphabet',\n   'current_position': 'Project Manager',\n   'tech_stack': ['Android', 'Backend'],\n   'job_help': False,\n   'industry_knowledge': True,\n   'pair_programming': False,\n   'commitment': True,\n   'referred_by': 'Meta',\n   'other_info': 'test_INTEGRATION_test',\n   'validate_status': 'pending',\n   'is_active': True,\n   'accepting_new_mentees': False,\n   'created_at': '2022-10-11T20:46:53.222000'}]}"
     },
     "execution_count": 118,
     "metadata": {},
     "output_type": "execute_result"
    }
   ],
   "source": [
    "ret.json()"
   ],
   "metadata": {
    "collapsed": false
   }
  },
  {
   "cell_type": "code",
   "execution_count": 119,
   "outputs": [],
   "source": [
    "# read from API, with no parameteres, we should get all the data\n",
    "expected_status = 200\n",
    "ret = requests.post(url_read_mentor)\n",
    "\n",
    "assert ret.status_code == expected_status, f\"Return status code was not {expected_status}. Got status code {ret.status_code}\"\n",
    "assert len(ret.json()['result']) > 1, f\"We receive less that 2 entries. {len(ret.json()['result'])}\"\n"
   ],
   "metadata": {
    "collapsed": false
   }
  },
  {
   "cell_type": "markdown",
   "metadata": {},
   "source": [
    "### Update Mentors\n",
    "POST `/update/mentor/{profile_id}`"
   ]
  },
  {
   "cell_type": "markdown",
   "metadata": {},
   "source": [
    "Update existing test Mentor"
   ]
  },
  {
   "cell_type": "code",
   "execution_count": 120,
   "metadata": {},
   "outputs": [],
   "source": [
    "# Update test Mentor current_company value\n",
    "expected_status = 200\n",
    "\n",
    "ret = requests.post(url_update_mentor  + mentors[0]['profile_id'], json={'current_company': 'test_Bloomtech_test'})\n",
    "\n",
    "assert ret.status_code == expected_status, f\"Return status code was not {expected_status}. Got status code {ret.status_code}\"\n",
    "\n",
    "# Read the query with our test value\n",
    "expected_status = 200\n",
    "expected = 'test_Bloomtech_test'\n",
    "\n",
    "ret = requests.post(url_read_mentor, json={'current_company': 'test_Bloomtech_test'})\n",
    "\n",
    "assert ret.status_code == expected_status, f\"Return status code was not {expected_status}. Got status code {ret.status_code}\"\n",
    "assert ret.json()['result'][0]['current_company'] == expected , f\"Endpoint return something else we've expected\""
   ]
  },
  {
   "cell_type": "markdown",
   "metadata": {},
   "source": [
    "## Mentee Operations\n",
    "\n"
   ]
  },
  {
   "cell_type": "markdown",
   "metadata": {},
   "source": [
    "### Create Mentee\n",
    "POST `/create/mentee`"
   ]
  },
  {
   "cell_type": "markdown",
   "metadata": {},
   "source": [
    "### Generate a list of random *test* mentees"
   ]
  },
  {
   "cell_type": "code",
   "execution_count": 121,
   "metadata": {},
   "outputs": [],
   "source": [
    "# Create list of test mentors\n",
    "mentees = []\n",
    "\n",
    "for i in range(n_persons):\n",
    "    mentees.append(vars(RandomMentee()))\n",
    "\n",
    "    # create a field to identify our test records later\n",
    "    mentees[i]['other_info'] = 'test_INTEGRATION_test'\n"
   ]
  },
  {
   "cell_type": "markdown",
   "metadata": {},
   "source": [
    "### Create *one* test mentee with API, status code should be 200\n"
   ]
  },
  {
   "cell_type": "code",
   "execution_count": 122,
   "metadata": {},
   "outputs": [],
   "source": [
    "expected = {\"result\": True}\n",
    "expected_status = 200\n",
    "\n",
    "ret = requests.post(url_create_mentee, json=mentees[0])\n",
    "\n",
    "assert ret.status_code == expected_status, f\"Return status code was not {expected_status}. Got status code {ret.status_code}\"\n",
    "assert expected == ret.json(), \"Endpoint did not return expected value of {\\\"result\\\": True}\""
   ]
  },
  {
   "cell_type": "markdown",
   "metadata": {},
   "source": [
    "### Read mentee\n",
    "POST `/read/mentee`"
   ]
  },
  {
   "cell_type": "markdown",
   "metadata": {},
   "source": [
    "### Read one test mentee by querying `profile_id`"
   ]
  },
  {
   "cell_type": "code",
   "execution_count": 123,
   "metadata": {},
   "outputs": [],
   "source": [
    "# Read first test mentror with unique profile_id\n",
    "expected_status = 200\n",
    "expected = 'test_INTEGRATION_test'\n",
    "\n",
    "ret = requests.post(url_read_mentee, json={'profile_id': mentees[0]['profile_id']})\n",
    "\n",
    "assert ret.status_code == expected_status, f\"Return status code was not {expected_status}. Got status code {ret.status_code}\"\n",
    "assert ret.json()['result'][0]['other_info'] == expected, f\"Endpoint did not return expected value of {expected}\""
   ]
  },
  {
   "cell_type": "markdown",
   "metadata": {},
   "source": [
    "### Read all entrees\n"
   ]
  },
  {
   "cell_type": "code",
   "execution_count": 124,
   "metadata": {},
   "outputs": [],
   "source": [
    "# read from API\n",
    "expected_status = 200\n",
    "\n",
    "ret = requests.post(url_read_mentee)\n",
    "\n",
    "assert ret.status_code == expected_status, f\"Return status code was not {expected_status}. Got status code {ret.status_code}\"\n",
    "assert len(ret.json()['result']) > 1, f\"We receive less that 2 entries. {len(ret.json()['result'])}\""
   ]
  },
  {
   "cell_type": "markdown",
   "metadata": {},
   "source": [
    "### Update Mentees\n",
    "POST `/update/mentee/{profile_id}`"
   ]
  },
  {
   "cell_type": "markdown",
   "metadata": {},
   "source": [
    "### Update existing test Mentor"
   ]
  },
  {
   "cell_type": "code",
   "execution_count": 125,
   "metadata": {},
   "outputs": [],
   "source": [
    "# Update test Mentor current_company value\n",
    "expected_status = 200\n",
    "\n",
    "ret = requests.post(url_update_mentee  + mentees[0]['profile_id'], json={'tech_stack': 'test_Bloomtech_test'})\n",
    "\n",
    "assert ret.status_code == expected_status, f\"Return status code was not {expected_status}. Got status code {ret.status_code}\"\n",
    "\n",
    "expected_status = 200\n",
    "expected = 'test_Bloomtech_test'\n",
    "\n",
    "# Read the query with our test value\n",
    "ret = requests.post(url_read_mentee, json={'tech_stack': 'test_Bloomtech_test'})\n",
    "\n",
    "assert ret.status_code == expected_status, f\"Return status code was not {expected_status}. Got status code {ret.status_code}\"\n",
    "assert expected == ret.json()['result'][0]['tech_stack'], f\"Endpoint did not return expected value of {expected}\"\n"
   ]
  },
  {
   "cell_type": "markdown",
   "metadata": {},
   "source": [
    "## Feedback Operations\n"
   ]
  },
  {
   "cell_type": "markdown",
   "metadata": {},
   "source": [
    "### Generate random feedback"
   ]
  },
  {
   "cell_type": "code",
   "execution_count": 144,
   "outputs": [],
   "source": [
    "feedbacks = []\n",
    "\n",
    "for i in range(n_persons):\n",
    "    feedbacks.append(vars(RandomMenteeFeedback(mentees[i]['profile_id'], mentors[i]['profile_id'])))\n",
    "    feedbacks[i]['text'] = \"test_INTEGRATION_test\"\n",
    "\n",
    "assert feedbacks[0]['ticket_id'] != '', f\"Something wrong with RandomMenteeFeedback() generator\"\n"
   ],
   "metadata": {
    "collapsed": false
   }
  },
  {
   "cell_type": "markdown",
   "metadata": {},
   "source": [
    "### Create Feedback\n",
    "POST `/create/feedback`"
   ]
  },
  {
   "cell_type": "code",
   "execution_count": 151,
   "outputs": [
    {
     "ename": "AssertionError",
     "evalue": "Return status code was not 200. Got status code 500",
     "output_type": "error",
     "traceback": [
      "\u001B[0;31m---------------------------------------------------------------------------\u001B[0m",
      "\u001B[0;31mAssertionError\u001B[0m                            Traceback (most recent call last)",
      "Cell \u001B[0;32mIn [151], line 7\u001B[0m\n\u001B[1;32m      3\u001B[0m expected \u001B[38;5;241m=\u001B[39m {\u001B[38;5;124m'\u001B[39m\u001B[38;5;124mresult\u001B[39m\u001B[38;5;124m'\u001B[39m: \u001B[38;5;28;01mTrue\u001B[39;00m}\n\u001B[1;32m      5\u001B[0m ret \u001B[38;5;241m=\u001B[39m requests\u001B[38;5;241m.\u001B[39mpost(url_create_feedback, json\u001B[38;5;241m=\u001B[39mfeedbacks[\u001B[38;5;241m0\u001B[39m])\n\u001B[0;32m----> 7\u001B[0m \u001B[38;5;28;01massert\u001B[39;00m ret\u001B[38;5;241m.\u001B[39mstatus_code \u001B[38;5;241m==\u001B[39m expected_status, \u001B[38;5;124mf\u001B[39m\u001B[38;5;124m\"\u001B[39m\u001B[38;5;124mReturn status code was not \u001B[39m\u001B[38;5;132;01m{\u001B[39;00mexpected_status\u001B[38;5;132;01m}\u001B[39;00m\u001B[38;5;124m. Got status code \u001B[39m\u001B[38;5;132;01m{\u001B[39;00mret\u001B[38;5;241m.\u001B[39mstatus_code\u001B[38;5;132;01m}\u001B[39;00m\u001B[38;5;124m\"\u001B[39m\n\u001B[1;32m      8\u001B[0m \u001B[38;5;28;01massert\u001B[39;00m ret\u001B[38;5;241m.\u001B[39mjson() \u001B[38;5;241m==\u001B[39m expected, \u001B[38;5;124mf\u001B[39m\u001B[38;5;124m\"\u001B[39m\u001B[38;5;124mEndpoint did not return expected value of \u001B[39m\u001B[38;5;132;01m{\u001B[39;00mexpected\u001B[38;5;132;01m}\u001B[39;00m\u001B[38;5;124m\"\u001B[39m\n",
      "\u001B[0;31mAssertionError\u001B[0m: Return status code was not 200. Got status code 500"
     ]
    }
   ],
   "source": [
    "# Create ONE feedback\n",
    "expected_status = 200\n",
    "expected = {'result': True}\n",
    "\n",
    "ret = requests.post(url_create_feedback, json=feedbacks[0])\n",
    "\n",
    "assert ret.status_code == expected_status, f\"Return status code was not {expected_status}. Got status code {ret.status_code}\"\n",
    "assert ret.json() == expected, f\"Endpoint did not return expected value of {expected}\""
   ],
   "metadata": {
    "collapsed": false
   }
  },
  {
   "cell_type": "markdown",
   "metadata": {},
   "source": [
    "### Read Feedback\n",
    "POST `/read/feedback`"
   ]
  },
  {
   "cell_type": "code",
   "execution_count": null,
   "outputs": [],
   "source": [],
   "metadata": {
    "collapsed": false
   }
  },
  {
   "cell_type": "markdown",
   "metadata": {},
   "source": [
    "### Update Feedback\n",
    "PATCH `/update/feedback`"
   ]
  },
  {
   "cell_type": "markdown",
   "metadata": {},
   "source": [
    "### Delete feedback\n",
    "DELETE `/delete/feedback`"
   ]
  },
  {
   "cell_type": "markdown",
   "metadata": {},
   "source": [
    "## Graph Operations"
   ]
  },
  {
   "cell_type": "markdown",
   "metadata": {},
   "source": [
    "### Tech Stack By Role\n",
    "GET `/graph/tech-stack-by-role`"
   ]
  },
  {
   "cell_type": "markdown",
   "source": [
    "# Cleaning\n",
    "test data"
   ],
   "metadata": {
    "collapsed": false
   }
  },
  {
   "cell_type": "code",
   "execution_count": 126,
   "outputs": [],
   "source": [
    "db = MongoDB()\n",
    "\n",
    "for collection in ['Mentors', 'Mentees']:\n",
    "    db.delete(collection, {'other_info': 'test_INTEGRATION_test'})"
   ],
   "metadata": {
    "collapsed": false
   }
  },
  {
   "cell_type": "code",
   "execution_count": 126,
   "outputs": [],
   "source": [],
   "metadata": {
    "collapsed": false
   }
  }
 ],
 "metadata": {
  "kernelspec": {
   "display_name": "Python 3.9.12 ('venv': venv)",
   "language": "python",
   "name": "python3"
  },
  "language_info": {
   "codemirror_mode": {
    "name": "ipython",
    "version": 3
   },
   "file_extension": ".py",
   "mimetype": "text/x-python",
   "name": "python",
   "nbconvert_exporter": "python",
   "pygments_lexer": "ipython3",
   "version": "3.9.12"
  },
  "orig_nbformat": 4,
  "vscode": {
   "interpreter": {
    "hash": "5c1e4bd171fb486a69b6e93433227d58b1f56d5ada82073d78c4386523828036"
   }
  }
 },
 "nbformat": 4,
 "nbformat_minor": 2
}
