{
 "cells": [
  {
   "cell_type": "markdown",
   "metadata": {},
   "source": [
    "# Proper Integration tests"
   ]
  },
  {
   "cell_type": "code",
   "execution_count": 107,
   "metadata": {
    "collapsed": false
   },
   "outputs": [],
   "source": [
    "# If you have problems with import modules, uncomment line below and run it *ONE* time\n",
    "# %cd ../"
   ]
  },
  {
   "cell_type": "code",
   "execution_count": 108,
   "metadata": {},
   "outputs": [],
   "source": [
    "import requests\n",
    "from data_generators.generators import RandomMentor, RandomMentee, RandomMenteeFeedback\n",
    "from app.data import MongoDB"
   ]
  },
  {
   "cell_type": "code",
   "execution_count": 109,
   "metadata": {},
   "outputs": [],
   "source": [
    "# API URL\n",
    "url = \"http://127.0.0.1:8000\"\n",
    "\n",
    "# Tag for marking test data\n",
    "test_tag = 'test_INTEGRATION_test'"
   ]
  },
  {
   "cell_type": "markdown",
   "metadata": {},
   "source": [
    "## Mentor Operations"
   ]
  },
  {
   "cell_type": "code",
   "execution_count": 110,
   "outputs": [],
   "source": [
    "# URL for the request\n",
    "\n",
    "# Mentors\n",
    "url_create_mentor = f'{url}/create/mentor'\n",
    "url_read_mentor = f'{url}/read/mentor'\n",
    "url_update_mentor = f'{url}/update/mentor/'\n"
   ],
   "metadata": {
    "collapsed": false
   }
  },
  {
   "cell_type": "markdown",
   "metadata": {},
   "source": [
    "### Create Mentor\n",
    "POST `/create/mentor`"
   ]
  },
  {
   "cell_type": "markdown",
   "metadata": {},
   "source": [
    "### Setup for Mentors\n",
    "Create a random generated mock mentor and mark them as 'test_INTEGRATION_test' for post-testing cleanup."
   ]
  },
  {
   "cell_type": "code",
   "execution_count": 111,
   "metadata": {},
   "outputs": [],
   "source": [
    "# Create a random Mentor\n",
    "mentor = vars(RandomMentor())\n",
    "mentor['other_info'] = test_tag\n"
   ]
  },
  {
   "cell_type": "markdown",
   "metadata": {},
   "source": [
    "Use `/create/mentors/` endpoint to create a single mentor using properly formed mock data.\n",
    "Verify that the status code returns 200 [successful], and that the expected JSON values are returned."
   ]
  },
  {
   "cell_type": "code",
   "execution_count": 112,
   "outputs": [],
   "source": [
    "# Create a ONE test mentor with API, we should receive 'result': True\n",
    "expected = {\"result\": True}\n",
    "expected_status = 200\n",
    "ret = requests.post(url_create_mentor, json=mentor)\n",
    "\n",
    "assert ret.status_code == expected_status, f\"Return status code was not {expected_status}. Got status code {ret.status_code}\"\n",
    "assert expected == ret.json(), \"Endpoint did not return expected value of {\\\"result\\\": True}\"\n"
   ],
   "metadata": {
    "collapsed": false
   }
  },
  {
   "cell_type": "markdown",
   "metadata": {},
   "source": [
    "### Read Mentor\n",
    "POST `/read/mentor`"
   ]
  },
  {
   "cell_type": "markdown",
   "metadata": {},
   "source": [
    "### Read one test mentor by querying `profile_id`"
   ]
  },
  {
   "cell_type": "code",
   "execution_count": 113,
   "metadata": {},
   "outputs": [],
   "source": [
    "# Read first test mentor with unique profile_id\n",
    "expected_status = 200\n",
    "expected = test_tag\n",
    "\n",
    "ret = requests.post(url_read_mentor, json={'profile_id': mentor['profile_id']})\n",
    "\n",
    "assert ret.json()['result'][0]['other_info'] == expected, f\"Endpoint did not return expected value of {expected}\"\n",
    "assert ret.status_code == expected_status, f\"Return status code was not {expected_status}. Got status code {ret.status_code}\"\n"
   ]
  },
  {
   "cell_type": "markdown",
   "metadata": {},
   "source": [
    "### Read all entries\n",
    "When we request read mentors without parameters we should get all entries, we added 1 mentor, so we assume that we should get more than 1 entries."
   ]
  },
  {
   "cell_type": "code",
   "execution_count": 115,
   "outputs": [],
   "source": [
    "# read from API, with no parameteres, we should get all the data\n",
    "expected_status = 200\n",
    "ret = requests.post(url_read_mentor)\n",
    "\n",
    "assert ret.status_code == expected_status, f\"Return status code was not {expected_status}. Got status code {ret.status_code}\"\n",
    "assert len(ret.json()['result']) > 1, f\"We receive less that 2 entries. {len(ret.json()['result'])}\"\n"
   ],
   "metadata": {
    "collapsed": false
   }
  },
  {
   "cell_type": "markdown",
   "metadata": {},
   "source": [
    "### Update Mentors\n",
    "POST `/update/mentor/{profile_id}`"
   ]
  },
  {
   "cell_type": "markdown",
   "metadata": {},
   "source": [
    "Update existing test Mentor"
   ]
  },
  {
   "cell_type": "code",
   "execution_count": 116,
   "metadata": {},
   "outputs": [],
   "source": [
    "# Update test Mentor current_company value\n",
    "expected_status = 200\n",
    "\n",
    "ret = requests.post(url_update_mentor  + mentor['profile_id'], json={'current_company': 'test_Bloomtech_test'})\n",
    "\n",
    "assert ret.status_code == expected_status, f\"Return status code was not {expected_status}. Got status code {ret.status_code}\"\n",
    "\n",
    "# Read the query with our test value\n",
    "expected_status = 200\n",
    "expected = 'test_Bloomtech_test'\n",
    "\n",
    "ret = requests.post(url_read_mentor, json={'current_company': 'test_Bloomtech_test'})\n",
    "\n",
    "assert ret.status_code == expected_status, f\"Return status code was not {expected_status}. Got status code {ret.status_code}\"\n",
    "assert ret.json()['result'][0]['current_company'] == expected , f\"Endpoint return something else we've expected\""
   ]
  },
  {
   "cell_type": "markdown",
   "metadata": {},
   "source": [
    "## Mentee Operations\n",
    "\n"
   ]
  },
  {
   "cell_type": "code",
   "execution_count": 117,
   "outputs": [],
   "source": [
    "# Mentees\n",
    "url_create_mentee = f'{url}/create/mentee'\n",
    "url_read_mentee = f'{url}/read/mentee'\n",
    "url_update_mentee = f'{url}/update/mentee/'\n"
   ],
   "metadata": {
    "collapsed": false
   }
  },
  {
   "cell_type": "markdown",
   "metadata": {},
   "source": [
    "### Create Mentee\n",
    "POST `/create/mentee`"
   ]
  },
  {
   "cell_type": "markdown",
   "metadata": {},
   "source": [
    "### Generate a random *test* mentee"
   ]
  },
  {
   "cell_type": "code",
   "execution_count": 118,
   "metadata": {},
   "outputs": [],
   "source": [
    "# Create a random mentee\n",
    "mentee = (vars(RandomMentee()))\n",
    "\n",
    "# create a field to identify our test records later\n",
    "mentee['other_info'] = test_tag\n"
   ]
  },
  {
   "cell_type": "markdown",
   "metadata": {},
   "source": [
    "### Create *one* test mentee with API, status code should be 200\n"
   ]
  },
  {
   "cell_type": "code",
   "execution_count": 119,
   "metadata": {},
   "outputs": [],
   "source": [
    "expected = {\"result\": True}\n",
    "expected_status = 200\n",
    "\n",
    "ret = requests.post(url_create_mentee, json=mentee)\n",
    "\n",
    "assert ret.status_code == expected_status, f\"Return status code was not {expected_status}. Got status code {ret.status_code}\"\n",
    "assert expected == ret.json(), \"Endpoint did not return expected value of {\\\"result\\\": True}\""
   ]
  },
  {
   "cell_type": "markdown",
   "metadata": {},
   "source": [
    "### Read mentee\n",
    "POST `/read/mentee`"
   ]
  },
  {
   "cell_type": "markdown",
   "metadata": {},
   "source": [
    "### Read one test mentee by querying `profile_id`"
   ]
  },
  {
   "cell_type": "code",
   "execution_count": 120,
   "metadata": {},
   "outputs": [],
   "source": [
    "# Read first test mentror with unique profile_id\n",
    "expected_status = 200\n",
    "expected = test_tag\n",
    "\n",
    "ret = requests.post(url_read_mentee, json={'profile_id': mentee['profile_id']})\n",
    "\n",
    "assert ret.status_code == expected_status, f\"Return status code was not {expected_status}. Got status code {ret.status_code}\"\n",
    "assert ret.json()['result'][0]['other_info'] == expected, f\"Endpoint did not return expected value of {expected}\""
   ]
  },
  {
   "cell_type": "markdown",
   "metadata": {},
   "source": [
    "### Read all entrees\n"
   ]
  },
  {
   "cell_type": "code",
   "execution_count": 121,
   "metadata": {},
   "outputs": [],
   "source": [
    "# read from API\n",
    "expected_status = 200\n",
    "\n",
    "ret = requests.post(url_read_mentee)\n",
    "\n",
    "assert ret.status_code == expected_status, f\"Return status code was not {expected_status}. Got status code {ret.status_code}\"\n",
    "assert len(ret.json()['result']) > 1, f\"We receive less that 2 entries. {len(ret.json()['result'])}\""
   ]
  },
  {
   "cell_type": "markdown",
   "metadata": {},
   "source": [
    "### Update Mentees\n",
    "POST `/update/mentee/{profile_id}`"
   ]
  },
  {
   "cell_type": "markdown",
   "metadata": {},
   "source": [
    "### Update existing test Mentor"
   ]
  },
  {
   "cell_type": "code",
   "execution_count": 122,
   "metadata": {},
   "outputs": [],
   "source": [
    "# Update test Mentor current_company value\n",
    "expected_status = 200\n",
    "\n",
    "ret = requests.post(url_update_mentee  + mentee['profile_id'], json={'tech_stack': 'test_Bloomtech_test'})\n",
    "\n",
    "assert ret.status_code == expected_status, f\"Return status code was not {expected_status}. Got status code {ret.status_code}\"\n",
    "\n",
    "expected_status = 200\n",
    "expected = 'test_Bloomtech_test'\n",
    "\n",
    "# Read the query with our test value\n",
    "ret = requests.post(url_read_mentee, json={'tech_stack': 'test_Bloomtech_test'})\n",
    "\n",
    "assert ret.status_code == expected_status, f\"Return status code was not {expected_status}. Got status code {ret.status_code}\"\n",
    "assert expected == ret.json()['result'][0]['tech_stack'], f\"Endpoint did not return expected value of {expected}\"\n"
   ]
  },
  {
   "cell_type": "markdown",
   "metadata": {},
   "source": [
    "## Feedback Operations\n"
   ]
  },
  {
   "cell_type": "code",
   "execution_count": 123,
   "outputs": [],
   "source": [
    "# Feedback\n",
    "url_create_feedback = f'{url}/create/feedback'\n",
    "url_read_feedback = f'{url}/read/feedback'\n",
    "url_update_feedback = f'{url}/update/feedback?ticket_id='\n",
    "url_delete_feedback = f'{url}/delete/feedback?ticket_id='"
   ],
   "metadata": {
    "collapsed": false
   }
  },
  {
   "cell_type": "markdown",
   "metadata": {},
   "source": [
    "### Generate a random feedback"
   ]
  },
  {
   "cell_type": "code",
   "execution_count": 124,
   "outputs": [],
   "source": [
    "# Create a random feedback\n",
    "feedback = vars(RandomMenteeFeedback(mentee['profile_id'], mentor['profile_id']))\n",
    "feedback['text'] = \"test_INTEGRATION_test\"\n",
    "\n",
    "assert feedback['ticket_id'] != '', f\"Something wrong with RandomMenteeFeedback() generator\"\n"
   ],
   "metadata": {
    "collapsed": false
   }
  },
  {
   "cell_type": "markdown",
   "metadata": {},
   "source": [
    "### Create Feedback\n",
    "POST `/create/feedback`"
   ]
  },
  {
   "cell_type": "code",
   "execution_count": 125,
   "outputs": [],
   "source": [
    "# Create ONE feedback\n",
    "expected_status = 200\n",
    "expected = {'result': True}\n",
    "\n",
    "ret = requests.post(url_create_feedback, json=feedback)\n",
    "\n",
    "assert ret.status_code == expected_status, f\"Return status code was not {expected_status}. Got status code {ret.status_code}\"\n",
    "assert ret.json() == expected, f\"Endpoint did not return expected value of {expected}\""
   ],
   "metadata": {
    "collapsed": false
   }
  },
  {
   "cell_type": "markdown",
   "metadata": {},
   "source": [
    "### Read Feedback\n",
    "POST `/read/feedback`"
   ]
  },
  {
   "cell_type": "code",
   "execution_count": 126,
   "outputs": [],
   "source": [
    "# Create ONE feedback\n",
    "expected_status = 200\n",
    "expected = test_tag\n",
    "\n",
    "ret = requests.post(url_read_feedback, json={'mentor_id': mentor['profile_id']})\n",
    "\n",
    "assert ret.status_code == expected_status, f\"Return status code was not {expected_status}. Got status code {ret.status_code}\"\n",
    "assert ret.json()['result'][0]['text'] == expected, f\"Endpoint did not return expected value of {expected}\""
   ],
   "metadata": {
    "collapsed": false
   }
  },
  {
   "cell_type": "markdown",
   "metadata": {},
   "source": [
    "### Update Feedback\n",
    "PATCH `/update/feedback`"
   ]
  },
  {
   "cell_type": "markdown",
   "source": [
    "# There is some bug in *Update* endpoint\n",
    "- url is different from mentors/mentee\n",
    "- When i try to update , API return 500 error and   feedback.update({\"sentiment\": sentiment_rank(feedback[\"text\"])})\n"
   ],
   "metadata": {
    "collapsed": false
   }
  },
  {
   "cell_type": "code",
   "execution_count": 127,
   "outputs": [],
   "source": [
    "# expected_status = 200\n",
    "# expected = test_tag\n",
    "#\n",
    "# # update the test feedback\n",
    "# ret = requests.patch(url_update_feedback + feedback['ticket_id'], json={'mentee_id': test_tag})\n",
    "#\n",
    "# assert ret.status_code == expected_status, f\"Return status code was not {expected_status}. Got status code {ret.status_code}\"\n",
    "#\n",
    "# # read the test feedback, to check that we've successfully updated the entree\n",
    "# ret = requests.post(url_read_feedback, json=feedback['ticket_id'])\n",
    "#\n",
    "# assert ret.status_code == expected_status, f\"Return status code was not {expected_status}. Got status code {ret.status_code}\"\n",
    "# assert ret.json()['result'][0]['mentee_id'] == expected, f\"Endpoint did not return expected value of {expected}\"\n"
   ],
   "metadata": {
    "collapsed": false
   }
  },
  {
   "cell_type": "markdown",
   "metadata": {},
   "source": [
    "### Delete feedback\n",
    "DELETE `/delete/feedback`"
   ]
  },
  {
   "cell_type": "code",
   "execution_count": 128,
   "outputs": [],
   "source": [
    "expected_status = 200\n",
    "\n",
    "ret = requests.delete(url_delete_feedback + feedback['ticket_id'])\n",
    "\n",
    "assert ret.status_code == expected_status, f\"Return status code was not {expected_status}. Got status code {ret.status_code}\""
   ],
   "metadata": {
    "collapsed": false
   }
  },
  {
   "cell_type": "markdown",
   "source": [
    "# Cleaning the test data\n",
    "Cleaning the db, using db api by querying data marked with our test_tag\n"
   ],
   "metadata": {
    "collapsed": false
   }
  },
  {
   "cell_type": "code",
   "execution_count": 129,
   "outputs": [],
   "source": [
    "# Make a connection to the db\n",
    "db = MongoDB()\n",
    "\n",
    "# Mentors and Mentees clean up\n",
    "for collection in ['Mentors', 'Mentees']:\n",
    "    db.delete(collection, {'other_info': test_tag})\n",
    "\n",
    "# Feedback clean up\n",
    "db.delete('Feedback', {'text': test_tag})"
   ],
   "metadata": {
    "collapsed": false
   }
  },
  {
   "cell_type": "markdown",
   "source": [
    "### Check that we have successfully cleaned up the db.\n"
   ],
   "metadata": {
    "collapsed": false
   }
  },
  {
   "cell_type": "code",
   "execution_count": 130,
   "outputs": [],
   "source": [
    "# Mentors and Mentees\n",
    "for collection in ['Mentors', 'Mentees']:\n",
    "    ret = db.search(collection, test_tag)\n",
    "    assert  ret == [], f\"Clean up of {collection} failed, found db record: {ret}\"\n",
    "\n",
    "# Feedback\n",
    "ret = db.read('Feedback', {'ticket_id': feedback['ticket_id']})\n",
    "assert  ret == [], f\"Clean up of Feedback failed, found db record: {ret}\"\n"
   ],
   "metadata": {
    "collapsed": false
   }
  },
  {
   "cell_type": "code",
   "execution_count": 130,
   "outputs": [],
   "source": [],
   "metadata": {
    "collapsed": false
   }
  }
 ],
 "metadata": {
  "kernelspec": {
   "display_name": "Python 3.9.12 ('venv': venv)",
   "language": "python",
   "name": "python3"
  },
  "language_info": {
   "codemirror_mode": {
    "name": "ipython",
    "version": 3
   },
   "file_extension": ".py",
   "mimetype": "text/x-python",
   "name": "python",
   "nbconvert_exporter": "python",
   "pygments_lexer": "ipython3",
   "version": "3.9.12"
  },
  "orig_nbformat": 4,
  "vscode": {
   "interpreter": {
    "hash": "5c1e4bd171fb486a69b6e93433227d58b1f56d5ada82073d78c4386523828036"
   }
  }
 },
 "nbformat": 4,
 "nbformat_minor": 2
}
