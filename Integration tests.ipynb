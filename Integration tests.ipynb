{
 "cells": [
  {
   "cell_type": "markdown",
   "metadata": {},
   "source": [
    "# Integration tets"
   ]
  },
  {
   "cell_type": "code",
   "execution_count": 1,
   "metadata": {},
   "outputs": [],
   "source": [
    "import requests\n",
    "from pandas import DataFrame\n",
    "from app.data import MongoDB\n",
    "from data_generators.generators import *"
   ]
  },
  {
   "cell_type": "code",
   "execution_count": 3,
   "metadata": {},
   "outputs": [],
   "source": [
    "# Basic setup\n",
    "\n",
    "# API url\n",
    "url = \"http://127.0.0.1:8000\"\n",
    "\n",
    "# Connect to db\n",
    "db = MongoDB()"
   ]
  },
  {
   "cell_type": "markdown",
   "metadata": {},
   "source": [
    "## Mentor Operations"
   ]
  },
  {
   "cell_type": "code",
   "execution_count": 83,
   "metadata": {},
   "outputs": [],
   "source": [
    "# URL for the request\n",
    "url_create_mentor = url + '/create/mentor'\n",
    "\n",
    "# Save DB status to check later that we don't ruined anything\n",
    "df_mentors = DataFrame(db.read('Mentors'))"
   ]
  },
  {
   "cell_type": "markdown",
   "metadata": {},
   "source": [
    "### Create Mentor\n",
    "POST `/create/mentor`"
   ]
  },
  {
   "cell_type": "markdown",
   "metadata": {},
   "source": [
    "1. Create a list of random *test* mentors"
   ]
  },
  {
   "cell_type": "code",
   "execution_count": 111,
   "metadata": {},
   "outputs": [
    {
     "name": "stdout",
     "output_type": "stream",
     "text": [
      "{'profile_id': '90c1e543-5294-471f-bd50-54aa82a613b5', 'first_name': 'Brodie', 'last_name': 'Lee', 'email': 'Brodie.Lee@gmail.com', 'country': 'U.S.', 'state': 'New Hampshire', 'city': 'Washington', 'current_company': 'Apple', 'current_position': 'Project Manager', 'tech_stack': ['Android'], 'commitment': True, 'job_help': True, 'industry_knowledge': True, 'pair_programming': False, 'referred_by': 'YouTube', 'other_info': 'test_INTEGRATION_test', 'validate_status': 'pending', 'is_active': True, 'accepting_new_mentees': True}\n"
     ]
    }
   ],
   "source": [
    "# Set number of mentors to test\n",
    "n_mentors = 3\n",
    "# Create list of test mentors\n",
    "mentors = []\n",
    "\n",
    "for i in range(n_mentors): \n",
    "    mentors.append(vars(RandomMentor()))\n",
    "\n",
    "    # create a field to identify our test records later\n",
    "    mentors[i]['other_info'] = 'test_INTEGRATION_test'\n"
   ]
  },
  {
   "cell_type": "markdown",
   "metadata": {},
   "source": [
    "2. Create *one* test mentor with API"
   ]
  },
  {
   "cell_type": "code",
   "execution_count": 113,
   "metadata": {},
   "outputs": [
    {
     "data": {
      "text/plain": [
       "{'result': True}"
      ]
     },
     "execution_count": 113,
     "metadata": {},
     "output_type": "execute_result"
    }
   ],
   "source": [
    "# Create a ONE test mentor with API, we should receive 'result': True\n",
    "requests.post(url_create_mentor, json=mentors[0]).json()\n"
   ]
  },
  {
   "cell_type": "markdown",
   "metadata": {},
   "source": [
    "3. Failed test. Create multiple test mentors with API  \n",
    "API Should return *error*"
   ]
  },
  {
   "cell_type": "code",
   "execution_count": 119,
   "metadata": {},
   "outputs": [
    {
     "data": {
      "text/plain": [
       "{'detail': [{'loc': ['body'],\n",
       "   'msg': 'value is not a valid dict',\n",
       "   'type': 'type_error.dict'}]}"
      ]
     },
     "execution_count": 119,
     "metadata": {},
     "output_type": "execute_result"
    }
   ],
   "source": [
    "# API doesn't allow to create multiples entries\n",
    "requests.post(url_create_mentor, json=mentors).json()\n"
   ]
  },
  {
   "cell_type": "markdown",
   "metadata": {},
   "source": [
    "4. Failed test. Try to create duplicated recrord  \n",
    "API Should return:  \n",
    "`{'detail': 'Profile ID must be unique.'}`"
   ]
  },
  {
   "cell_type": "code",
   "execution_count": 121,
   "metadata": {},
   "outputs": [
    {
     "data": {
      "text/plain": [
       "{'detail': 'Profile ID must be unique.'}"
      ]
     },
     "execution_count": 121,
     "metadata": {},
     "output_type": "execute_result"
    }
   ],
   "source": [
    "# Try to create a DUPLICATE test mentor with API, we should receive 'result': True\n",
    "requests.post(url_create_mentor, json=mentors[0]).json()\n"
   ]
  },
  {
   "cell_type": "markdown",
   "metadata": {},
   "source": [
    "5. Failed test. Try to create record with field not in schema.  \n",
    "API should return *error*  `value_error.extra`"
   ]
  },
  {
   "cell_type": "code",
   "execution_count": 123,
   "metadata": {},
   "outputs": [
    {
     "data": {
      "text/plain": [
       "{'detail': [{'loc': ['body', 'test_FIELED_test'],\n",
       "   'msg': 'extra fields not permitted',\n",
       "   'type': 'value_error.extra'}]}"
      ]
     },
     "execution_count": 123,
     "metadata": {},
     "output_type": "execute_result"
    }
   ],
   "source": [
    "# Create an extra test field\n",
    "mentors[1]['test_FIELED_test'] = 'This a field for integration test'\n",
    "\n",
    "# Try to create mentor\n",
    "requests.post(url_create_mentor, json=mentors[1]).json()\n"
   ]
  },
  {
   "cell_type": "markdown",
   "metadata": {},
   "source": [
    "6. Failed test. Try to create a record with wrong value  \n",
    "API should return 422 error:  \n",
    " `value_error.any_str.max_length`"
   ]
  },
  {
   "cell_type": "code",
   "execution_count": 125,
   "metadata": {},
   "outputs": [
    {
     "data": {
      "text/plain": [
       "{'detail': [{'loc': ['body', 'first_name'],\n",
       "   'msg': 'ensure this value has at most 255 characters',\n",
       "   'type': 'value_error.any_str.max_length',\n",
       "   'ctx': {'limit_value': 255}}]}"
      ]
     },
     "execution_count": 125,
     "metadata": {},
     "output_type": "execute_result"
    }
   ],
   "source": [
    "# Create First name more than 255 legal chars\n",
    "mentors[2]['first_name'] = 300 * 'a'\n",
    "\n",
    "# Try to create a wrong mentor\n",
    "requests.post(url_create_mentor, json=mentors[2]).json()\n"
   ]
  },
  {
   "cell_type": "markdown",
   "metadata": {},
   "source": []
  },
  {
   "cell_type": "markdown",
   "metadata": {},
   "source": [
    "### Read Mentor\n",
    "POST `/read/mentor`"
   ]
  },
  {
   "cell_type": "code",
   "execution_count": 117,
   "metadata": {},
   "outputs": [],
   "source": [
    "url_read_mentor = url + '/read/mentor'\n"
   ]
  },
  {
   "cell_type": "markdown",
   "metadata": {},
   "source": [
    "1. Read one test mentor by querying `profile_id`"
   ]
  },
  {
   "cell_type": "code",
   "execution_count": 116,
   "metadata": {},
   "outputs": [
    {
     "data": {
      "text/plain": [
       "{'result': [{'profile_id': '90c1e543-5294-471f-bd50-54aa82a613b5',\n",
       "   'first_name': 'Brodie',\n",
       "   'last_name': 'Lee',\n",
       "   'email': 'Brodie.Lee@gmail.com',\n",
       "   'country': 'U.S.',\n",
       "   'state': 'New Hampshire',\n",
       "   'city': 'Washington',\n",
       "   'current_company': 'Apple',\n",
       "   'current_position': 'Project Manager',\n",
       "   'tech_stack': ['Android'],\n",
       "   'job_help': True,\n",
       "   'industry_knowledge': True,\n",
       "   'pair_programming': False,\n",
       "   'commitment': True,\n",
       "   'referred_by': 'YouTube',\n",
       "   'other_info': 'test_INTEGRATION_test',\n",
       "   'validate_status': 'pending',\n",
       "   'is_active': True,\n",
       "   'accepting_new_mentees': True,\n",
       "   'created_at': '2022-10-06T10:08:19.661000'}]}"
      ]
     },
     "execution_count": 116,
     "metadata": {},
     "output_type": "execute_result"
    }
   ],
   "source": [
    "# Read first test mentror with unique profile_id\n",
    "requests.post(url_read_mentor, json={'profile_id': mentors[0]['profile_id']}).json()"
   ]
  },
  {
   "cell_type": "markdown",
   "metadata": {},
   "source": [
    "2. Read all entrees  \n",
    "We should get the same data as we get through DB request"
   ]
  },
  {
   "cell_type": "code",
   "execution_count": 126,
   "metadata": {},
   "outputs": [],
   "source": [
    "# read from API, with no parameteres, we should get all the data\n",
    "df_api = DataFrame(requests.post(url_read_mentor).json()['result'])\n",
    "\n",
    "# read from DB\n",
    "df_db = DataFrame(db.read('Mentors'))\n",
    "\n",
    "# If there are some difference in data we should get a dataframe with a number of rows of different entrees\n",
    "assert len(df_api.compare(df_db)) == 0"
   ]
  },
  {
   "cell_type": "markdown",
   "metadata": {},
   "source": [
    "3. Failed test. Read inexisting value.  \n",
    "Should return zero list"
   ]
  },
  {
   "cell_type": "code",
   "execution_count": 127,
   "metadata": {},
   "outputs": [
    {
     "data": {
      "text/plain": [
       "{'result': []}"
      ]
     },
     "execution_count": 127,
     "metadata": {},
     "output_type": "execute_result"
    }
   ],
   "source": [
    "# Read from the API with an inexisting name\n",
    "requests.post(url_read_mentor, json={'first_name': 'test_INEXISTINGNAME_test'}).json()"
   ]
  },
  {
   "cell_type": "markdown",
   "metadata": {},
   "source": [
    "### Update Mentors\n",
    "POST `/update/mentor/{profile_id}`"
   ]
  },
  {
   "cell_type": "code",
   "execution_count": 24,
   "metadata": {},
   "outputs": [],
   "source": [
    "url_update_mentor = f'{url}/update/mentor/'\n"
   ]
  },
  {
   "cell_type": "markdown",
   "metadata": {},
   "source": [
    "1. Update existing test Mentor"
   ]
  },
  {
   "cell_type": "code",
   "execution_count": 136,
   "metadata": {},
   "outputs": [
    {
     "data": {
      "text/plain": [
       "{'result': [{'profile_id': '90c1e543-5294-471f-bd50-54aa82a613b5',\n",
       "   'first_name': 'Brodie',\n",
       "   'last_name': 'Lee',\n",
       "   'email': 'Brodie.Lee@gmail.com',\n",
       "   'country': 'U.S.',\n",
       "   'state': 'New Hampshire',\n",
       "   'city': 'Washington',\n",
       "   'current_company': 'test_Bloomtech_test',\n",
       "   'current_position': 'Project Manager',\n",
       "   'tech_stack': ['Android'],\n",
       "   'job_help': True,\n",
       "   'industry_knowledge': True,\n",
       "   'pair_programming': False,\n",
       "   'commitment': True,\n",
       "   'referred_by': 'YouTube',\n",
       "   'other_info': 'test_INTEGRATION_test',\n",
       "   'validate_status': 'pending',\n",
       "   'is_active': True,\n",
       "   'accepting_new_mentees': True,\n",
       "   'created_at': '2022-10-06T10:08:19.661000',\n",
       "   'updated_at': '2022-10-06T14:18:44.780000'}]}"
      ]
     },
     "execution_count": 136,
     "metadata": {},
     "output_type": "execute_result"
    }
   ],
   "source": [
    "# Update test Mentor current_company value\n",
    "requests.post(url_update_mentor  + mentors[0]['profile_id'], json={'current_company': 'test_Bloomtech_test'}).json()\n",
    "\n",
    "# Read the query with our test value\n",
    "requests.post(url_read_mentor, json={'current_company': 'test_Bloomtech_test'}).json()"
   ]
  },
  {
   "cell_type": "markdown",
   "metadata": {},
   "source": [
    "2. Failed test. Try to update with wrong value"
   ]
  },
  {
   "cell_type": "code",
   "execution_count": 139,
   "metadata": {},
   "outputs": [
    {
     "data": {
      "text/plain": [
       "{'detail': [{'loc': ['body', 'current_company'],\n",
       "   'msg': 'ensure this value has at most 255 characters',\n",
       "   'type': 'value_error.any_str.max_length',\n",
       "   'ctx': {'limit_value': 255}}]}"
      ]
     },
     "execution_count": 139,
     "metadata": {},
     "output_type": "execute_result"
    }
   ],
   "source": [
    "# Create a wrong value (more than 255 chars)\n",
    "current_position_wrong = 300 * 'a'\n",
    "\n",
    "# Update test Mentor current_company value\n",
    "# Shoul return value_errror\n",
    "requests.post(url_update_mentor  + mentors[0]['profile_id'], json={'current_company': current_position_wrong}).json()\n",
    "\n"
   ]
  },
  {
   "cell_type": "markdown",
   "metadata": {},
   "source": [
    "#### Clean the data"
   ]
  },
  {
   "cell_type": "code",
   "execution_count": 142,
   "metadata": {},
   "outputs": [
    {
     "data": {
      "text/plain": [
       "[None, None, None]"
      ]
     },
     "execution_count": 142,
     "metadata": {},
     "output_type": "execute_result"
    }
   ],
   "source": [
    "# Remove all test mentors from db\n",
    "[db.delete('Mentors', {'profile_id': mentor['profile_id']}) for mentor in mentors]"
   ]
  },
  {
   "cell_type": "code",
   "execution_count": 145,
   "metadata": {},
   "outputs": [
    {
     "data": {
      "text/html": [
       "<div>\n",
       "<style scoped>\n",
       "    .dataframe tbody tr th:only-of-type {\n",
       "        vertical-align: middle;\n",
       "    }\n",
       "\n",
       "    .dataframe tbody tr th {\n",
       "        vertical-align: top;\n",
       "    }\n",
       "\n",
       "    .dataframe thead tr th {\n",
       "        text-align: left;\n",
       "    }\n",
       "</style>\n",
       "<table border=\"1\" class=\"dataframe\">\n",
       "  <thead>\n",
       "    <tr>\n",
       "      <th></th>\n",
       "      <th colspan=\"2\" halign=\"left\">profile_id</th>\n",
       "      <th colspan=\"2\" halign=\"left\">first_name</th>\n",
       "      <th colspan=\"2\" halign=\"left\">last_name</th>\n",
       "      <th colspan=\"2\" halign=\"left\">email</th>\n",
       "      <th colspan=\"2\" halign=\"left\">state</th>\n",
       "      <th>...</th>\n",
       "      <th colspan=\"2\" halign=\"left\">pair_programming</th>\n",
       "      <th colspan=\"2\" halign=\"left\">referred_by</th>\n",
       "      <th colspan=\"2\" halign=\"left\">validate_status</th>\n",
       "      <th colspan=\"2\" halign=\"left\">accepting_new_mentees</th>\n",
       "      <th colspan=\"2\" halign=\"left\">updated_at</th>\n",
       "    </tr>\n",
       "    <tr>\n",
       "      <th></th>\n",
       "      <th>self</th>\n",
       "      <th>other</th>\n",
       "      <th>self</th>\n",
       "      <th>other</th>\n",
       "      <th>self</th>\n",
       "      <th>other</th>\n",
       "      <th>self</th>\n",
       "      <th>other</th>\n",
       "      <th>self</th>\n",
       "      <th>other</th>\n",
       "      <th>...</th>\n",
       "      <th>self</th>\n",
       "      <th>other</th>\n",
       "      <th>self</th>\n",
       "      <th>other</th>\n",
       "      <th>self</th>\n",
       "      <th>other</th>\n",
       "      <th>self</th>\n",
       "      <th>other</th>\n",
       "      <th>self</th>\n",
       "      <th>other</th>\n",
       "    </tr>\n",
       "  </thead>\n",
       "  <tbody>\n",
       "    <tr>\n",
       "      <th>0</th>\n",
       "      <td>c568569c-ea71-43db-8686-fb15b5f6dab9</td>\n",
       "      <td>02e8ab94-292c-4cbf-b696-c13d4c421d3f</td>\n",
       "      <td>Hanna</td>\n",
       "      <td>Izaiah</td>\n",
       "      <td>Gray</td>\n",
       "      <td>Martin</td>\n",
       "      <td>Hanna.Gray@gmail.com</td>\n",
       "      <td>Izaiah.Martin@gmail.com</td>\n",
       "      <td>Alabama</td>\n",
       "      <td>Tennessee</td>\n",
       "      <td>...</td>\n",
       "      <td>NaN</td>\n",
       "      <td>NaN</td>\n",
       "      <td>Colleague</td>\n",
       "      <td>Twitter</td>\n",
       "      <td>NaN</td>\n",
       "      <td>NaN</td>\n",
       "      <td>False</td>\n",
       "      <td>True</td>\n",
       "      <td>2022-10-06 00:58:32.904</td>\n",
       "      <td>2022-10-05 19:46:51.809</td>\n",
       "    </tr>\n",
       "    <tr>\n",
       "      <th>1</th>\n",
       "      <td>d34ac2d5-7c0e-4161-87d6-c33bc7535600</td>\n",
       "      <td>14eba4de-2d96-4e5f-a631-555761f385cc</td>\n",
       "      <td>Huxley</td>\n",
       "      <td>Giovanni</td>\n",
       "      <td>Flores</td>\n",
       "      <td>Kelly</td>\n",
       "      <td>Huxley.Flores@gmail.com</td>\n",
       "      <td>Giovanni.Kelly@gmail.com</td>\n",
       "      <td>Iowa</td>\n",
       "      <td>New Mexico</td>\n",
       "      <td>...</td>\n",
       "      <td>True</td>\n",
       "      <td>False</td>\n",
       "      <td>NaN</td>\n",
       "      <td>NaN</td>\n",
       "      <td>NaN</td>\n",
       "      <td>NaN</td>\n",
       "      <td>False</td>\n",
       "      <td>True</td>\n",
       "      <td>NaT</td>\n",
       "      <td>NaT</td>\n",
       "    </tr>\n",
       "    <tr>\n",
       "      <th>2</th>\n",
       "      <td>dc46ca12-424b-412d-8374-6cbd3fa128b3</td>\n",
       "      <td>0da97226-ffd6-4c30-a17e-5531ac25944d</td>\n",
       "      <td>Heath</td>\n",
       "      <td>Jayson</td>\n",
       "      <td>Gonzales</td>\n",
       "      <td>Price</td>\n",
       "      <td>Heath.Gonzales@gmail.com</td>\n",
       "      <td>Jayson.Price@gmail.com</td>\n",
       "      <td>North Carolina</td>\n",
       "      <td>Arkansas</td>\n",
       "      <td>...</td>\n",
       "      <td>False</td>\n",
       "      <td>True</td>\n",
       "      <td>Friend</td>\n",
       "      <td>Twitter</td>\n",
       "      <td>approved</td>\n",
       "      <td>pending</td>\n",
       "      <td>NaN</td>\n",
       "      <td>NaN</td>\n",
       "      <td>2022-10-05 20:00:48.784</td>\n",
       "      <td>NaT</td>\n",
       "    </tr>\n",
       "    <tr>\n",
       "      <th>3</th>\n",
       "      <td>a79de9ef-101e-4249-8025-f1697001f413</td>\n",
       "      <td>c93ea269-fb41-4aa7-8168-32d8781eaadb</td>\n",
       "      <td>Conor</td>\n",
       "      <td>Karter</td>\n",
       "      <td>Alvarez</td>\n",
       "      <td>Adams</td>\n",
       "      <td>Conor.Alvarez@gmail.com</td>\n",
       "      <td>Karter.Adams@gmail.com</td>\n",
       "      <td>North Carolina</td>\n",
       "      <td>Virginia</td>\n",
       "      <td>...</td>\n",
       "      <td>NaN</td>\n",
       "      <td>NaN</td>\n",
       "      <td>Colleague</td>\n",
       "      <td>Friend</td>\n",
       "      <td>pending</td>\n",
       "      <td>approved</td>\n",
       "      <td>NaN</td>\n",
       "      <td>NaN</td>\n",
       "      <td>NaT</td>\n",
       "      <td>NaT</td>\n",
       "    </tr>\n",
       "    <tr>\n",
       "      <th>4</th>\n",
       "      <td>c93ea269-fb41-4aa7-8168-32d8781eaadb</td>\n",
       "      <td>c568569c-ea71-43db-8686-fb15b5f6dab9</td>\n",
       "      <td>Karter</td>\n",
       "      <td>Hanna</td>\n",
       "      <td>Adams</td>\n",
       "      <td>Gray</td>\n",
       "      <td>Karter.Adams@gmail.com</td>\n",
       "      <td>Hanna.Gray@gmail.com</td>\n",
       "      <td>Virginia</td>\n",
       "      <td>Alabama</td>\n",
       "      <td>...</td>\n",
       "      <td>NaN</td>\n",
       "      <td>NaN</td>\n",
       "      <td>Friend</td>\n",
       "      <td>Colleague</td>\n",
       "      <td>NaN</td>\n",
       "      <td>NaN</td>\n",
       "      <td>True</td>\n",
       "      <td>False</td>\n",
       "      <td>NaT</td>\n",
       "      <td>2022-10-06 00:58:32.904</td>\n",
       "    </tr>\n",
       "    <tr>\n",
       "      <th>5</th>\n",
       "      <td>e15c91b3-6d8a-479a-a640-29c2909461c9</td>\n",
       "      <td>75ffb018-81a1-4840-b5f1-d8a67c1a2d93</td>\n",
       "      <td>Brayden</td>\n",
       "      <td>Donovan</td>\n",
       "      <td>Alvarez</td>\n",
       "      <td>Turner</td>\n",
       "      <td>Brayden.Alvarez@gmail.com</td>\n",
       "      <td>Donovan.Turner@gmail.com</td>\n",
       "      <td>South Carolina</td>\n",
       "      <td>Washington</td>\n",
       "      <td>...</td>\n",
       "      <td>True</td>\n",
       "      <td>False</td>\n",
       "      <td>Meta</td>\n",
       "      <td>Friend</td>\n",
       "      <td>NaN</td>\n",
       "      <td>NaN</td>\n",
       "      <td>NaN</td>\n",
       "      <td>NaN</td>\n",
       "      <td>NaT</td>\n",
       "      <td>NaT</td>\n",
       "    </tr>\n",
       "    <tr>\n",
       "      <th>6</th>\n",
       "      <td>e43c0f00-ee54-40f4-8646-670590bc4746</td>\n",
       "      <td>4f8016ec-9417-4aec-bcc5-539503c565f0</td>\n",
       "      <td>Harleigh</td>\n",
       "      <td>Lilian</td>\n",
       "      <td>Ward</td>\n",
       "      <td>Diaz</td>\n",
       "      <td>Harleigh.Ward@gmail.com</td>\n",
       "      <td>Lilian.Diaz@gmail.com</td>\n",
       "      <td>Minnesota</td>\n",
       "      <td>Illinois</td>\n",
       "      <td>...</td>\n",
       "      <td>True</td>\n",
       "      <td>False</td>\n",
       "      <td>Meta</td>\n",
       "      <td>YouTube</td>\n",
       "      <td>NaN</td>\n",
       "      <td>NaN</td>\n",
       "      <td>NaN</td>\n",
       "      <td>NaN</td>\n",
       "      <td>NaT</td>\n",
       "      <td>NaT</td>\n",
       "    </tr>\n",
       "    <tr>\n",
       "      <th>7</th>\n",
       "      <td>ae746eac-514a-466f-9f74-bf4923cf1bf5</td>\n",
       "      <td>a79de9ef-101e-4249-8025-f1697001f413</td>\n",
       "      <td>Muhammad</td>\n",
       "      <td>Conor</td>\n",
       "      <td>Roberts</td>\n",
       "      <td>Alvarez</td>\n",
       "      <td>Muhammad.Roberts@gmail.com</td>\n",
       "      <td>Conor.Alvarez@gmail.com</td>\n",
       "      <td>Massachusetts</td>\n",
       "      <td>North Carolina</td>\n",
       "      <td>...</td>\n",
       "      <td>NaN</td>\n",
       "      <td>NaN</td>\n",
       "      <td>Meta</td>\n",
       "      <td>Colleague</td>\n",
       "      <td>approved</td>\n",
       "      <td>pending</td>\n",
       "      <td>False</td>\n",
       "      <td>True</td>\n",
       "      <td>NaT</td>\n",
       "      <td>NaT</td>\n",
       "    </tr>\n",
       "    <tr>\n",
       "      <th>8</th>\n",
       "      <td>81d16a2a-7774-4efe-a60e-18e72649f846</td>\n",
       "      <td>e43c0f00-ee54-40f4-8646-670590bc4746</td>\n",
       "      <td>Tobias</td>\n",
       "      <td>Harleigh</td>\n",
       "      <td>Gray</td>\n",
       "      <td>Ward</td>\n",
       "      <td>Tobias.Gray@gmail.com</td>\n",
       "      <td>Harleigh.Ward@gmail.com</td>\n",
       "      <td>Oklahoma</td>\n",
       "      <td>Minnesota</td>\n",
       "      <td>...</td>\n",
       "      <td>False</td>\n",
       "      <td>True</td>\n",
       "      <td>Friend</td>\n",
       "      <td>Meta</td>\n",
       "      <td>pending</td>\n",
       "      <td>approved</td>\n",
       "      <td>NaN</td>\n",
       "      <td>NaN</td>\n",
       "      <td>NaT</td>\n",
       "      <td>NaT</td>\n",
       "    </tr>\n",
       "    <tr>\n",
       "      <th>9</th>\n",
       "      <td>02e8ab94-292c-4cbf-b696-c13d4c421d3f</td>\n",
       "      <td>d34ac2d5-7c0e-4161-87d6-c33bc7535600</td>\n",
       "      <td>Izaiah</td>\n",
       "      <td>Huxley</td>\n",
       "      <td>Martin</td>\n",
       "      <td>Flores</td>\n",
       "      <td>Izaiah.Martin@gmail.com</td>\n",
       "      <td>Huxley.Flores@gmail.com</td>\n",
       "      <td>Tennessee</td>\n",
       "      <td>Iowa</td>\n",
       "      <td>...</td>\n",
       "      <td>False</td>\n",
       "      <td>True</td>\n",
       "      <td>NaN</td>\n",
       "      <td>NaN</td>\n",
       "      <td>approved</td>\n",
       "      <td>pending</td>\n",
       "      <td>True</td>\n",
       "      <td>False</td>\n",
       "      <td>2022-10-05 19:46:51.809</td>\n",
       "      <td>NaT</td>\n",
       "    </tr>\n",
       "    <tr>\n",
       "      <th>10</th>\n",
       "      <td>e81f1bcd-8c8b-43d9-b330-807c383ae095</td>\n",
       "      <td>ae746eac-514a-466f-9f74-bf4923cf1bf5</td>\n",
       "      <td>Jaylen</td>\n",
       "      <td>Muhammad</td>\n",
       "      <td>Price</td>\n",
       "      <td>Roberts</td>\n",
       "      <td>Jaylen.Price@gmail.com</td>\n",
       "      <td>Muhammad.Roberts@gmail.com</td>\n",
       "      <td>Nevada</td>\n",
       "      <td>Massachusetts</td>\n",
       "      <td>...</td>\n",
       "      <td>True</td>\n",
       "      <td>False</td>\n",
       "      <td>Family</td>\n",
       "      <td>Meta</td>\n",
       "      <td>pending</td>\n",
       "      <td>approved</td>\n",
       "      <td>True</td>\n",
       "      <td>False</td>\n",
       "      <td>NaT</td>\n",
       "      <td>NaT</td>\n",
       "    </tr>\n",
       "    <tr>\n",
       "      <th>11</th>\n",
       "      <td>1c67747c-372a-46f9-9ad1-730a8a21a8a4</td>\n",
       "      <td>1154a0df-6c70-4e40-8e6a-addabc65fece</td>\n",
       "      <td>Fisher</td>\n",
       "      <td>Blaise</td>\n",
       "      <td>Young</td>\n",
       "      <td>Hill</td>\n",
       "      <td>Fisher.Young@gmail.com</td>\n",
       "      <td>Blaise.Hill@gmail.com</td>\n",
       "      <td>Montana</td>\n",
       "      <td>Idaho</td>\n",
       "      <td>...</td>\n",
       "      <td>NaN</td>\n",
       "      <td>NaN</td>\n",
       "      <td>YouTube</td>\n",
       "      <td>Twitter</td>\n",
       "      <td>NaN</td>\n",
       "      <td>NaN</td>\n",
       "      <td>NaN</td>\n",
       "      <td>NaN</td>\n",
       "      <td>NaT</td>\n",
       "      <td>NaT</td>\n",
       "    </tr>\n",
       "    <tr>\n",
       "      <th>12</th>\n",
       "      <td>75ffb018-81a1-4840-b5f1-d8a67c1a2d93</td>\n",
       "      <td>e15c91b3-6d8a-479a-a640-29c2909461c9</td>\n",
       "      <td>Donovan</td>\n",
       "      <td>Brayden</td>\n",
       "      <td>Turner</td>\n",
       "      <td>Alvarez</td>\n",
       "      <td>Donovan.Turner@gmail.com</td>\n",
       "      <td>Brayden.Alvarez@gmail.com</td>\n",
       "      <td>Washington</td>\n",
       "      <td>South Carolina</td>\n",
       "      <td>...</td>\n",
       "      <td>False</td>\n",
       "      <td>True</td>\n",
       "      <td>Friend</td>\n",
       "      <td>Meta</td>\n",
       "      <td>NaN</td>\n",
       "      <td>NaN</td>\n",
       "      <td>NaN</td>\n",
       "      <td>NaN</td>\n",
       "      <td>NaT</td>\n",
       "      <td>NaT</td>\n",
       "    </tr>\n",
       "    <tr>\n",
       "      <th>13</th>\n",
       "      <td>0da97226-ffd6-4c30-a17e-5531ac25944d</td>\n",
       "      <td>dc46ca12-424b-412d-8374-6cbd3fa128b3</td>\n",
       "      <td>Jayson</td>\n",
       "      <td>Heath</td>\n",
       "      <td>Price</td>\n",
       "      <td>Gonzales</td>\n",
       "      <td>Jayson.Price@gmail.com</td>\n",
       "      <td>Heath.Gonzales@gmail.com</td>\n",
       "      <td>Arkansas</td>\n",
       "      <td>North Carolina</td>\n",
       "      <td>...</td>\n",
       "      <td>True</td>\n",
       "      <td>False</td>\n",
       "      <td>Twitter</td>\n",
       "      <td>Friend</td>\n",
       "      <td>pending</td>\n",
       "      <td>approved</td>\n",
       "      <td>NaN</td>\n",
       "      <td>NaN</td>\n",
       "      <td>NaT</td>\n",
       "      <td>2022-10-05 20:00:48.784</td>\n",
       "    </tr>\n",
       "    <tr>\n",
       "      <th>14</th>\n",
       "      <td>14eba4de-2d96-4e5f-a631-555761f385cc</td>\n",
       "      <td>4e534231-ce5e-4927-b35d-0c05b4f29c9b</td>\n",
       "      <td>Giovanni</td>\n",
       "      <td>Bode</td>\n",
       "      <td>Kelly</td>\n",
       "      <td>Martinez</td>\n",
       "      <td>Giovanni.Kelly@gmail.com</td>\n",
       "      <td>Bode.Martinez@gmail.com</td>\n",
       "      <td>New Mexico</td>\n",
       "      <td>Alaska</td>\n",
       "      <td>...</td>\n",
       "      <td>NaN</td>\n",
       "      <td>NaN</td>\n",
       "      <td>NaN</td>\n",
       "      <td>NaN</td>\n",
       "      <td>pending</td>\n",
       "      <td>approved</td>\n",
       "      <td>NaN</td>\n",
       "      <td>NaN</td>\n",
       "      <td>NaT</td>\n",
       "      <td>NaT</td>\n",
       "    </tr>\n",
       "    <tr>\n",
       "      <th>15</th>\n",
       "      <td>4f8016ec-9417-4aec-bcc5-539503c565f0</td>\n",
       "      <td>e81f1bcd-8c8b-43d9-b330-807c383ae095</td>\n",
       "      <td>Lilian</td>\n",
       "      <td>Jaylen</td>\n",
       "      <td>Diaz</td>\n",
       "      <td>Price</td>\n",
       "      <td>Lilian.Diaz@gmail.com</td>\n",
       "      <td>Jaylen.Price@gmail.com</td>\n",
       "      <td>Illinois</td>\n",
       "      <td>Nevada</td>\n",
       "      <td>...</td>\n",
       "      <td>False</td>\n",
       "      <td>True</td>\n",
       "      <td>YouTube</td>\n",
       "      <td>Family</td>\n",
       "      <td>approved</td>\n",
       "      <td>pending</td>\n",
       "      <td>NaN</td>\n",
       "      <td>NaN</td>\n",
       "      <td>NaT</td>\n",
       "      <td>NaT</td>\n",
       "    </tr>\n",
       "    <tr>\n",
       "      <th>16</th>\n",
       "      <td>4e534231-ce5e-4927-b35d-0c05b4f29c9b</td>\n",
       "      <td>59c686eb-7521-4276-abb3-3e3cd3bbe106</td>\n",
       "      <td>Bode</td>\n",
       "      <td>Alessandro</td>\n",
       "      <td>Martinez</td>\n",
       "      <td>Moore</td>\n",
       "      <td>Bode.Martinez@gmail.com</td>\n",
       "      <td>Alessandro.Moore@gmail.com</td>\n",
       "      <td>Alaska</td>\n",
       "      <td>North Carolina</td>\n",
       "      <td>...</td>\n",
       "      <td>False</td>\n",
       "      <td>True</td>\n",
       "      <td>NaN</td>\n",
       "      <td>NaN</td>\n",
       "      <td>approved</td>\n",
       "      <td>pending</td>\n",
       "      <td>NaN</td>\n",
       "      <td>NaN</td>\n",
       "      <td>NaT</td>\n",
       "      <td>NaT</td>\n",
       "    </tr>\n",
       "    <tr>\n",
       "      <th>17</th>\n",
       "      <td>59c686eb-7521-4276-abb3-3e3cd3bbe106</td>\n",
       "      <td>1c67747c-372a-46f9-9ad1-730a8a21a8a4</td>\n",
       "      <td>Alessandro</td>\n",
       "      <td>Fisher</td>\n",
       "      <td>Moore</td>\n",
       "      <td>Young</td>\n",
       "      <td>Alessandro.Moore@gmail.com</td>\n",
       "      <td>Fisher.Young@gmail.com</td>\n",
       "      <td>North Carolina</td>\n",
       "      <td>Montana</td>\n",
       "      <td>...</td>\n",
       "      <td>True</td>\n",
       "      <td>False</td>\n",
       "      <td>Twitter</td>\n",
       "      <td>YouTube</td>\n",
       "      <td>pending</td>\n",
       "      <td>approved</td>\n",
       "      <td>NaN</td>\n",
       "      <td>NaN</td>\n",
       "      <td>NaT</td>\n",
       "      <td>NaT</td>\n",
       "    </tr>\n",
       "    <tr>\n",
       "      <th>18</th>\n",
       "      <td>1154a0df-6c70-4e40-8e6a-addabc65fece</td>\n",
       "      <td>81d16a2a-7774-4efe-a60e-18e72649f846</td>\n",
       "      <td>Blaise</td>\n",
       "      <td>Tobias</td>\n",
       "      <td>Hill</td>\n",
       "      <td>Gray</td>\n",
       "      <td>Blaise.Hill@gmail.com</td>\n",
       "      <td>Tobias.Gray@gmail.com</td>\n",
       "      <td>Idaho</td>\n",
       "      <td>Oklahoma</td>\n",
       "      <td>...</td>\n",
       "      <td>NaN</td>\n",
       "      <td>NaN</td>\n",
       "      <td>Twitter</td>\n",
       "      <td>Friend</td>\n",
       "      <td>approved</td>\n",
       "      <td>pending</td>\n",
       "      <td>NaN</td>\n",
       "      <td>NaN</td>\n",
       "      <td>NaT</td>\n",
       "      <td>NaT</td>\n",
       "    </tr>\n",
       "  </tbody>\n",
       "</table>\n",
       "<p>19 rows × 34 columns</p>\n",
       "</div>"
      ],
      "text/plain": [
       "                              profile_id  \\\n",
       "                                    self   \n",
       "0   c568569c-ea71-43db-8686-fb15b5f6dab9   \n",
       "1   d34ac2d5-7c0e-4161-87d6-c33bc7535600   \n",
       "2   dc46ca12-424b-412d-8374-6cbd3fa128b3   \n",
       "3   a79de9ef-101e-4249-8025-f1697001f413   \n",
       "4   c93ea269-fb41-4aa7-8168-32d8781eaadb   \n",
       "5   e15c91b3-6d8a-479a-a640-29c2909461c9   \n",
       "6   e43c0f00-ee54-40f4-8646-670590bc4746   \n",
       "7   ae746eac-514a-466f-9f74-bf4923cf1bf5   \n",
       "8   81d16a2a-7774-4efe-a60e-18e72649f846   \n",
       "9   02e8ab94-292c-4cbf-b696-c13d4c421d3f   \n",
       "10  e81f1bcd-8c8b-43d9-b330-807c383ae095   \n",
       "11  1c67747c-372a-46f9-9ad1-730a8a21a8a4   \n",
       "12  75ffb018-81a1-4840-b5f1-d8a67c1a2d93   \n",
       "13  0da97226-ffd6-4c30-a17e-5531ac25944d   \n",
       "14  14eba4de-2d96-4e5f-a631-555761f385cc   \n",
       "15  4f8016ec-9417-4aec-bcc5-539503c565f0   \n",
       "16  4e534231-ce5e-4927-b35d-0c05b4f29c9b   \n",
       "17  59c686eb-7521-4276-abb3-3e3cd3bbe106   \n",
       "18  1154a0df-6c70-4e40-8e6a-addabc65fece   \n",
       "\n",
       "                                          first_name             last_name  \\\n",
       "                                   other        self       other      self   \n",
       "0   02e8ab94-292c-4cbf-b696-c13d4c421d3f       Hanna      Izaiah      Gray   \n",
       "1   14eba4de-2d96-4e5f-a631-555761f385cc      Huxley    Giovanni    Flores   \n",
       "2   0da97226-ffd6-4c30-a17e-5531ac25944d       Heath      Jayson  Gonzales   \n",
       "3   c93ea269-fb41-4aa7-8168-32d8781eaadb       Conor      Karter   Alvarez   \n",
       "4   c568569c-ea71-43db-8686-fb15b5f6dab9      Karter       Hanna     Adams   \n",
       "5   75ffb018-81a1-4840-b5f1-d8a67c1a2d93     Brayden     Donovan   Alvarez   \n",
       "6   4f8016ec-9417-4aec-bcc5-539503c565f0    Harleigh      Lilian      Ward   \n",
       "7   a79de9ef-101e-4249-8025-f1697001f413    Muhammad       Conor   Roberts   \n",
       "8   e43c0f00-ee54-40f4-8646-670590bc4746      Tobias    Harleigh      Gray   \n",
       "9   d34ac2d5-7c0e-4161-87d6-c33bc7535600      Izaiah      Huxley    Martin   \n",
       "10  ae746eac-514a-466f-9f74-bf4923cf1bf5      Jaylen    Muhammad     Price   \n",
       "11  1154a0df-6c70-4e40-8e6a-addabc65fece      Fisher      Blaise     Young   \n",
       "12  e15c91b3-6d8a-479a-a640-29c2909461c9     Donovan     Brayden    Turner   \n",
       "13  dc46ca12-424b-412d-8374-6cbd3fa128b3      Jayson       Heath     Price   \n",
       "14  4e534231-ce5e-4927-b35d-0c05b4f29c9b    Giovanni        Bode     Kelly   \n",
       "15  e81f1bcd-8c8b-43d9-b330-807c383ae095      Lilian      Jaylen      Diaz   \n",
       "16  59c686eb-7521-4276-abb3-3e3cd3bbe106        Bode  Alessandro  Martinez   \n",
       "17  1c67747c-372a-46f9-9ad1-730a8a21a8a4  Alessandro      Fisher     Moore   \n",
       "18  81d16a2a-7774-4efe-a60e-18e72649f846      Blaise      Tobias      Hill   \n",
       "\n",
       "                                   email                              \\\n",
       "       other                        self                       other   \n",
       "0     Martin        Hanna.Gray@gmail.com     Izaiah.Martin@gmail.com   \n",
       "1      Kelly     Huxley.Flores@gmail.com    Giovanni.Kelly@gmail.com   \n",
       "2      Price    Heath.Gonzales@gmail.com      Jayson.Price@gmail.com   \n",
       "3      Adams     Conor.Alvarez@gmail.com      Karter.Adams@gmail.com   \n",
       "4       Gray      Karter.Adams@gmail.com        Hanna.Gray@gmail.com   \n",
       "5     Turner   Brayden.Alvarez@gmail.com    Donovan.Turner@gmail.com   \n",
       "6       Diaz     Harleigh.Ward@gmail.com       Lilian.Diaz@gmail.com   \n",
       "7    Alvarez  Muhammad.Roberts@gmail.com     Conor.Alvarez@gmail.com   \n",
       "8       Ward       Tobias.Gray@gmail.com     Harleigh.Ward@gmail.com   \n",
       "9     Flores     Izaiah.Martin@gmail.com     Huxley.Flores@gmail.com   \n",
       "10   Roberts      Jaylen.Price@gmail.com  Muhammad.Roberts@gmail.com   \n",
       "11      Hill      Fisher.Young@gmail.com       Blaise.Hill@gmail.com   \n",
       "12   Alvarez    Donovan.Turner@gmail.com   Brayden.Alvarez@gmail.com   \n",
       "13  Gonzales      Jayson.Price@gmail.com    Heath.Gonzales@gmail.com   \n",
       "14  Martinez    Giovanni.Kelly@gmail.com     Bode.Martinez@gmail.com   \n",
       "15     Price       Lilian.Diaz@gmail.com      Jaylen.Price@gmail.com   \n",
       "16     Moore     Bode.Martinez@gmail.com  Alessandro.Moore@gmail.com   \n",
       "17     Young  Alessandro.Moore@gmail.com      Fisher.Young@gmail.com   \n",
       "18      Gray       Blaise.Hill@gmail.com       Tobias.Gray@gmail.com   \n",
       "\n",
       "             state                  ... pair_programming        referred_by  \\\n",
       "              self           other  ...             self  other        self   \n",
       "0          Alabama       Tennessee  ...              NaN    NaN   Colleague   \n",
       "1             Iowa      New Mexico  ...             True  False         NaN   \n",
       "2   North Carolina        Arkansas  ...            False   True      Friend   \n",
       "3   North Carolina        Virginia  ...              NaN    NaN   Colleague   \n",
       "4         Virginia         Alabama  ...              NaN    NaN      Friend   \n",
       "5   South Carolina      Washington  ...             True  False        Meta   \n",
       "6        Minnesota        Illinois  ...             True  False        Meta   \n",
       "7    Massachusetts  North Carolina  ...              NaN    NaN        Meta   \n",
       "8         Oklahoma       Minnesota  ...            False   True      Friend   \n",
       "9        Tennessee            Iowa  ...            False   True         NaN   \n",
       "10          Nevada   Massachusetts  ...             True  False      Family   \n",
       "11         Montana           Idaho  ...              NaN    NaN     YouTube   \n",
       "12      Washington  South Carolina  ...            False   True      Friend   \n",
       "13        Arkansas  North Carolina  ...             True  False     Twitter   \n",
       "14      New Mexico          Alaska  ...              NaN    NaN         NaN   \n",
       "15        Illinois          Nevada  ...            False   True     YouTube   \n",
       "16          Alaska  North Carolina  ...            False   True         NaN   \n",
       "17  North Carolina         Montana  ...             True  False     Twitter   \n",
       "18           Idaho        Oklahoma  ...              NaN    NaN     Twitter   \n",
       "\n",
       "              validate_status           accepting_new_mentees         \\\n",
       "        other            self     other                  self  other   \n",
       "0     Twitter             NaN       NaN                 False   True   \n",
       "1         NaN             NaN       NaN                 False   True   \n",
       "2     Twitter        approved   pending                   NaN    NaN   \n",
       "3      Friend         pending  approved                   NaN    NaN   \n",
       "4   Colleague             NaN       NaN                  True  False   \n",
       "5      Friend             NaN       NaN                   NaN    NaN   \n",
       "6     YouTube             NaN       NaN                   NaN    NaN   \n",
       "7   Colleague        approved   pending                 False   True   \n",
       "8        Meta         pending  approved                   NaN    NaN   \n",
       "9         NaN        approved   pending                  True  False   \n",
       "10       Meta         pending  approved                  True  False   \n",
       "11    Twitter             NaN       NaN                   NaN    NaN   \n",
       "12       Meta             NaN       NaN                   NaN    NaN   \n",
       "13     Friend         pending  approved                   NaN    NaN   \n",
       "14        NaN         pending  approved                   NaN    NaN   \n",
       "15     Family        approved   pending                   NaN    NaN   \n",
       "16        NaN        approved   pending                   NaN    NaN   \n",
       "17    YouTube         pending  approved                   NaN    NaN   \n",
       "18     Friend        approved   pending                   NaN    NaN   \n",
       "\n",
       "                updated_at                          \n",
       "                      self                   other  \n",
       "0  2022-10-06 00:58:32.904 2022-10-05 19:46:51.809  \n",
       "1                      NaT                     NaT  \n",
       "2  2022-10-05 20:00:48.784                     NaT  \n",
       "3                      NaT                     NaT  \n",
       "4                      NaT 2022-10-06 00:58:32.904  \n",
       "5                      NaT                     NaT  \n",
       "6                      NaT                     NaT  \n",
       "7                      NaT                     NaT  \n",
       "8                      NaT                     NaT  \n",
       "9  2022-10-05 19:46:51.809                     NaT  \n",
       "10                     NaT                     NaT  \n",
       "11                     NaT                     NaT  \n",
       "12                     NaT                     NaT  \n",
       "13                     NaT 2022-10-05 20:00:48.784  \n",
       "14                     NaT                     NaT  \n",
       "15                     NaT                     NaT  \n",
       "16                     NaT                     NaT  \n",
       "17                     NaT                     NaT  \n",
       "18                     NaT                     NaT  \n",
       "\n",
       "[19 rows x 34 columns]"
      ]
     },
     "execution_count": 145,
     "metadata": {},
     "output_type": "execute_result"
    }
   ],
   "source": [
    "df_mentors.compare(DataFrame(db.read('Mentors')))"
   ]
  },
  {
   "cell_type": "code",
   "execution_count": 152,
   "metadata": {},
   "outputs": [],
   "source": [
    "# Compare original df with a new one\n",
    "# I was trying to compare \n",
    "# assert len(df_mentors.compare(DataFrame(db.read('Mentors')))) == 0\n",
    "assert df_mentors.shape == DataFrame(db.read('Mentors')).shape"
   ]
  },
  {
   "cell_type": "code",
   "execution_count": 80,
   "metadata": {},
   "outputs": [
    {
     "data": {
      "text/plain": [
       "[]"
      ]
     },
     "execution_count": 80,
     "metadata": {},
     "output_type": "execute_result"
    }
   ],
   "source": [
    "# query all test_*_test entrees to check that we delete everythinb\n",
    "..."
   ]
  },
  {
   "cell_type": "markdown",
   "metadata": {},
   "source": [
    "## Mentee Operations\n",
    "\n"
   ]
  },
  {
   "cell_type": "code",
   "execution_count": 5,
   "metadata": {},
   "outputs": [],
   "source": [
    "df_mentees = DataFrame(db.read('Mentees'))"
   ]
  },
  {
   "cell_type": "markdown",
   "metadata": {},
   "source": [
    "### Create Mentee\n",
    "POST `/create/mentee`"
   ]
  },
  {
   "cell_type": "code",
   "execution_count": 12,
   "metadata": {},
   "outputs": [],
   "source": [
    "url_create_mentee = f'{url}/create/mentee'"
   ]
  },
  {
   "cell_type": "markdown",
   "metadata": {},
   "source": [
    "1. Generate a list of random *test* mentees"
   ]
  },
  {
   "cell_type": "code",
   "execution_count": 8,
   "metadata": {},
   "outputs": [
    {
     "name": "stdout",
     "output_type": "stream",
     "text": [
      "{'profile_id': 'fb5c1f81-2249-427d-a738-7f60cbd32ecb', 'first_name': 'Lian', 'last_name': 'Hill', 'email': 'Lian.Hill@gmail.com', 'country': 'U.S.', 'state': 'American Samoa', 'city': 'Arrowhead', 'formerly_incarcerated': True, 'underrepresented_group': False, 'low_income': False, 'convictions': 'Felony, Misdemeanor', 'tech_stack': 'Backend', 'job_help': False, 'pair_programming': False, 'referred_by': 'Family', 'other_info': 'test_INTEGRATION_test', 'validate_status': 'approved', 'is_active': True, 'in_project_underdog': False}\n"
     ]
    }
   ],
   "source": [
    "# Set number of mentors to test\n",
    "n_mentees = 3\n",
    "# Create list of test mentors\n",
    "mentees = []\n",
    "\n",
    "for i in range(n_mentees): \n",
    "    mentees.append(vars(RandomMentee()))\n",
    "\n",
    "    # create a field to identify our test records later\n",
    "    mentees[i]['other_info'] = 'test_INTEGRATION_test'\n"
   ]
  },
  {
   "cell_type": "markdown",
   "metadata": {},
   "source": [
    "2. Create *one* test mentee with API"
   ]
  },
  {
   "cell_type": "code",
   "execution_count": 14,
   "metadata": {},
   "outputs": [
    {
     "data": {
      "text/plain": [
       "{'result': True}"
      ]
     },
     "execution_count": 14,
     "metadata": {},
     "output_type": "execute_result"
    }
   ],
   "source": [
    "requests.post(url_create_mentee, json=mentees[0]).json()\n"
   ]
  },
  {
   "cell_type": "markdown",
   "metadata": {},
   "source": [
    "3. Failed test. Create multiple test mentees with API  \n",
    "API Should return *error*"
   ]
  },
  {
   "cell_type": "code",
   "execution_count": 15,
   "metadata": {},
   "outputs": [
    {
     "data": {
      "text/plain": [
       "{'detail': [{'loc': ['body'],\n",
       "   'msg': 'value is not a valid dict',\n",
       "   'type': 'type_error.dict'}]}"
      ]
     },
     "execution_count": 15,
     "metadata": {},
     "output_type": "execute_result"
    }
   ],
   "source": [
    "# API doesn't allow to create multiples entries\n",
    "requests.post(url_create_mentee, json=mentees).json()\n"
   ]
  },
  {
   "cell_type": "markdown",
   "metadata": {},
   "source": [
    "4. Failed test. Try to create duplicated recrord  \n",
    "API Should return:  \n",
    "`{'detail': 'Profile ID must be unique.'}`"
   ]
  },
  {
   "cell_type": "code",
   "execution_count": 16,
   "metadata": {},
   "outputs": [
    {
     "data": {
      "text/plain": [
       "{'detail': 'Profile ID must be unique.'}"
      ]
     },
     "execution_count": 16,
     "metadata": {},
     "output_type": "execute_result"
    }
   ],
   "source": [
    "# Try to create a DUPLICATE test mentor with API, we should receive 'result': True\n",
    "requests.post(url_create_mentee, json=mentees[0]).json()\n"
   ]
  },
  {
   "cell_type": "markdown",
   "metadata": {},
   "source": [
    "5. Failed test. Try to create record with field not in schema.  \n",
    "API should return *error*  `value_error.extra`"
   ]
  },
  {
   "cell_type": "code",
   "execution_count": 17,
   "metadata": {},
   "outputs": [
    {
     "data": {
      "text/plain": [
       "{'detail': [{'loc': ['body', 'test_FIELED_test'],\n",
       "   'msg': 'extra fields not permitted',\n",
       "   'type': 'value_error.extra'}]}"
      ]
     },
     "execution_count": 17,
     "metadata": {},
     "output_type": "execute_result"
    }
   ],
   "source": [
    "# Create an extra test field\n",
    "mentees[1]['test_FIELED_test'] = 'This a field for integration test'\n",
    "\n",
    "# Try to create mentor\n",
    "requests.post(url_create_mentee, json=mentees[1]).json()\n"
   ]
  },
  {
   "cell_type": "markdown",
   "metadata": {},
   "source": [
    "6. Failed test. Try to create a record with wrong value  \n",
    "API should return 422 error:  \n",
    " `value_error.any_str.max_length`"
   ]
  },
  {
   "cell_type": "code",
   "execution_count": 18,
   "metadata": {},
   "outputs": [
    {
     "data": {
      "text/plain": [
       "{'detail': [{'loc': ['body', 'first_name'],\n",
       "   'msg': 'ensure this value has at most 255 characters',\n",
       "   'type': 'value_error.any_str.max_length',\n",
       "   'ctx': {'limit_value': 255}}]}"
      ]
     },
     "execution_count": 18,
     "metadata": {},
     "output_type": "execute_result"
    }
   ],
   "source": [
    "# Create First name more than 255 legal chars\n",
    "mentees[2]['first_name'] = 300 * 'a'\n",
    "\n",
    "# Try to create a wrong mentor\n",
    "requests.post(url_create_mentee, json=mentees[2]).json()\n"
   ]
  },
  {
   "cell_type": "markdown",
   "metadata": {},
   "source": [
    "### Read mentee\n",
    "POST `/read/mentee`"
   ]
  },
  {
   "cell_type": "code",
   "execution_count": 20,
   "metadata": {},
   "outputs": [],
   "source": [
    "url_read_mentee = f'{url}/read/mentee'"
   ]
  },
  {
   "cell_type": "markdown",
   "metadata": {},
   "source": [
    "1. Read one test mentee by querying `profile_id`"
   ]
  },
  {
   "cell_type": "code",
   "execution_count": 21,
   "metadata": {},
   "outputs": [
    {
     "data": {
      "text/plain": [
       "{'result': [{'profile_id': 'fb5c1f81-2249-427d-a738-7f60cbd32ecb',\n",
       "   'first_name': 'Lian',\n",
       "   'last_name': 'Hill',\n",
       "   'email': 'Lian.Hill@gmail.com',\n",
       "   'country': 'U.S.',\n",
       "   'state': 'American Samoa',\n",
       "   'city': 'Arrowhead',\n",
       "   'formerly_incarcerated': True,\n",
       "   'underrepresented_group': False,\n",
       "   'low_income': False,\n",
       "   'convictions': 'Felony, Misdemeanor',\n",
       "   'tech_stack': 'Backend',\n",
       "   'job_help': False,\n",
       "   'pair_programming': False,\n",
       "   'referred_by': 'Family',\n",
       "   'other_info': 'test_INTEGRATION_test',\n",
       "   'validate_status': 'approved',\n",
       "   'is_active': True,\n",
       "   'in_project_underdog': False,\n",
       "   'created_at': '2022-10-07T14:51:55.785000'}]}"
      ]
     },
     "execution_count": 21,
     "metadata": {},
     "output_type": "execute_result"
    }
   ],
   "source": [
    "# Read first test mentror with unique profile_id\n",
    "requests.post(url_read_mentee, json={'profile_id': mentees[0]['profile_id']}).json()"
   ]
  },
  {
   "cell_type": "markdown",
   "metadata": {},
   "source": [
    "2. Read all entrees  \n",
    "We should get the same data as we get through DB request"
   ]
  },
  {
   "cell_type": "code",
   "execution_count": 22,
   "metadata": {},
   "outputs": [],
   "source": [
    "# read from API\n",
    "df_api = DataFrame(requests.post(url_read_mentee).json()['result'])\n",
    "\n",
    "# read from DB\n",
    "df_db = DataFrame(db.read('Mentees'))\n",
    "\n",
    "# test\n",
    "assert len(df_api.compare(df_db)) == 0"
   ]
  },
  {
   "cell_type": "markdown",
   "metadata": {},
   "source": [
    "3. Failed test. Read inexisting value.  \n",
    "Should return zero list"
   ]
  },
  {
   "cell_type": "code",
   "execution_count": 23,
   "metadata": {},
   "outputs": [
    {
     "data": {
      "text/plain": [
       "{'result': []}"
      ]
     },
     "execution_count": 23,
     "metadata": {},
     "output_type": "execute_result"
    }
   ],
   "source": [
    "# Read from the API with an inexisting name\n",
    "requests.post(url_read_mentee, json={'first_name': 'test_INEXISTINGNAME_test'}).json()"
   ]
  },
  {
   "cell_type": "markdown",
   "metadata": {},
   "source": [
    "### Update Mentees\n",
    "POST `/update/mentee/{profile_id}`"
   ]
  },
  {
   "cell_type": "code",
   "execution_count": 25,
   "metadata": {},
   "outputs": [],
   "source": [
    "url_update_mentee = f'{url}/update/mentee/'\n"
   ]
  },
  {
   "cell_type": "markdown",
   "metadata": {},
   "source": [
    "1. Update existing test Mentor"
   ]
  },
  {
   "cell_type": "code",
   "execution_count": 26,
   "metadata": {},
   "outputs": [
    {
     "data": {
      "text/plain": [
       "{'result': [{'profile_id': 'fb5c1f81-2249-427d-a738-7f60cbd32ecb',\n",
       "   'first_name': 'Lian',\n",
       "   'last_name': 'Hill',\n",
       "   'email': 'Lian.Hill@gmail.com',\n",
       "   'country': 'U.S.',\n",
       "   'state': 'American Samoa',\n",
       "   'city': 'Arrowhead',\n",
       "   'formerly_incarcerated': True,\n",
       "   'underrepresented_group': False,\n",
       "   'low_income': False,\n",
       "   'convictions': 'Felony, Misdemeanor',\n",
       "   'tech_stack': 'test_Bloomtech_test',\n",
       "   'job_help': False,\n",
       "   'pair_programming': False,\n",
       "   'referred_by': 'Family',\n",
       "   'other_info': 'test_INTEGRATION_test',\n",
       "   'validate_status': 'approved',\n",
       "   'is_active': True,\n",
       "   'in_project_underdog': False,\n",
       "   'created_at': '2022-10-07T14:51:55.785000',\n",
       "   'updated_at': '2022-10-07T15:05:51.655000'}]}"
      ]
     },
     "execution_count": 26,
     "metadata": {},
     "output_type": "execute_result"
    }
   ],
   "source": [
    "# Update test Mentor current_company value\n",
    "requests.post(url_update_mentee  + mentees[0]['profile_id'], json={'tech_stack': 'test_Bloomtech_test'}).json()\n",
    "\n",
    "# Read the query with our test value\n",
    "requests.post(url_read_mentee, json={'tech_stack': 'test_Bloomtech_test'}).json()"
   ]
  },
  {
   "cell_type": "markdown",
   "metadata": {},
   "source": [
    "## Feedback Operations"
   ]
  },
  {
   "cell_type": "markdown",
   "metadata": {},
   "source": []
  },
  {
   "cell_type": "markdown",
   "metadata": {},
   "source": [
    "### Create Feedback\n",
    "POST `/create/feedback`"
   ]
  },
  {
   "cell_type": "markdown",
   "metadata": {},
   "source": [
    "### Read Feedback\n",
    "POST `/read/feedback`"
   ]
  },
  {
   "cell_type": "markdown",
   "metadata": {},
   "source": [
    "### Update Feedback\n",
    "PATCH `/update/feedback`"
   ]
  },
  {
   "cell_type": "markdown",
   "metadata": {},
   "source": [
    "### Delete feedback\n",
    "DELETE `/delete/feedback`"
   ]
  },
  {
   "cell_type": "markdown",
   "metadata": {},
   "source": [
    "## Graph Operations"
   ]
  },
  {
   "cell_type": "markdown",
   "metadata": {},
   "source": [
    "### Tech Stack By Role\n",
    "GET `/graph/tech-stack-by-role`"
   ]
  },
  {
   "cell_type": "markdown",
   "metadata": {},
   "source": [
    "## Model Operations\n",
    "POST `/match{profile_id}`"
   ]
  },
  {
   "cell_type": "markdown",
   "metadata": {},
   "source": []
  }
 ],
 "metadata": {
  "kernelspec": {
   "display_name": "Python 3.9.12 ('venv': venv)",
   "language": "python",
   "name": "python3"
  },
  "language_info": {
   "codemirror_mode": {
    "name": "ipython",
    "version": 3
   },
   "file_extension": ".py",
   "mimetype": "text/x-python",
   "name": "python",
   "nbconvert_exporter": "python",
   "pygments_lexer": "ipython3",
   "version": "3.9.12"
  },
  "orig_nbformat": 4,
  "vscode": {
   "interpreter": {
    "hash": "5c1e4bd171fb486a69b6e93433227d58b1f56d5ada82073d78c4386523828036"
   }
  }
 },
 "nbformat": 4,
 "nbformat_minor": 2
}
